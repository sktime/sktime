
{
 "cells": [
  {
   "cell_type": "code",
   "execution_count": null,
   "id": "import-and-setup",
   "metadata": {},
   "outputs": [],
   "source": [
    "from causal_structure_forecaster.forecaster import CausalStructureForecaster\n",
    "X = [1, 2, 3, 4, 5, 6]\n",
    "y = [2, 4, 6, 8, 10, 12]\n",
    "model = CausalStructureForecaster()\n",
    "model.fit(X, y)\n",
    "model.plot_graph()\n",
    "print(model.predict([7, 8, 9]))"
   ]
  }
 ],
 "metadata": {},
 "nbformat": 4,
 "nbformat_minor": 5
}
