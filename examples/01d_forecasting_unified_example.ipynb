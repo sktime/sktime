{
 "cells": [
  {
   "cell_type": "code",
   "execution_count": null,
   "id": "59481d4b-a386-4399-be17-a59838d98f21",
   "metadata": {},
   "outputs": [],
   "source": [
    "from sktime.datasets import load_airline\n",
    "from sktime.forecasting.model_selection import temporal_train_test_split\n",
    "from sktime.forecasting.naive import NaiveForecaster\n",
    "from sktime.forecasting.exp_smoothing import ExponentialSmoothing\n",
    "from sktime.forecasting.arima import ARIMA\n",
    "import matplotlib.pyplot as plt\n",
    "\n",
    "# Load data\n",
    "y = load_airline()\n",
    "y.index.freq = \"MS\"\n",
    "\n",
    "# Split\n",
    "y_train, y_test = temporal_train_test_split(y)\n",
    "fh = range(1, len(y_test) + 1)\n",
    "\n",
    "# Models\n",
    "models = {\n",
    "    \"Naive\": NaiveForecaster(strategy=\"last\"),\n",
    "    \"ETS\": ExponentialSmoothing(),\n",
    "    \"ARIMA\": ARIMA()\n",
    "}\n",
    "\n",
    "fitted_models = {}\n",
    "y_preds = {}\n",
    "\n",
    "for name, model in models.items():\n",
    "    fitted_models[name] = model.fit(y_train)\n",
    "    y_preds[name] = model.predict(fh)\n",
    "\n",
    "# Plot\n",
    "plt.figure(figsize=(10, 5))\n",
    "plt.plot(y_test.index, y_test, label=\"True\", linewidth=2)\n",
    "for name, y_pred in y_preds.items():\n",
    "    plt.plot(y_test.index, y_pred, label=name)\n",
    "plt.title(\"Forecast Comparison: Airline Dataset\")\n",
    "plt.xlabel(\"Date\")\n",
    "plt.ylabel(\"Passengers\")\n",
    "plt.legend()\n",
    "plt.tight_layout()\n",
    "plt.show()\n"
   ]
  }
 ],
 "metadata": {
  "kernelspec": {
   "display_name": "Python 3 (ipykernel)",
   "language": "python",
   "name": "python3"
  },
  "language_info": {
   "codemirror_mode": {
    "name": "ipython",
    "version": 3
   },
   "file_extension": ".py",
   "mimetype": "text/x-python",
   "name": "python",
   "nbconvert_exporter": "python",
   "pygments_lexer": "ipython3",
   "version": "3.13.3"
  }
 },
 "nbformat": 4,
 "nbformat_minor": 5
}
