{
 "cells": [
  {
   "cell_type": "markdown",
   "metadata": {
    "collapsed": true,
    "pycharm": {
     "name": "#%% md\n"
    }
   },
   "source": [
    "# Time series classification with sktime\n",
    "\n",
    "The time series classification (TSC) task involves training a model from a collection\n",
    " of time series (real valued, ordered, data) in order to predict a target variable.\n",
    " For example, we might want to build a model that can predict whether a patient is\n",
    " sick based on the ECG reading, or predict whether a device will fail based on some\n",
    " sensor reading. This notebook gives a quick guide to get you started"
   ]
  },
  {
   "cell_type": "markdown",
   "metadata": {
    "collapsed": false,
    "pycharm": {
     "name": "#%% md\n"
    }
   },
   "source": [
    "## Data sets and problem types\n",
    "\n",
    "The UCR/UEA [time series classification archive](https://timeseriesclassification.com/)\n",
    "contains a large number of example TSC problems that have been used thousands of times\n",
    "in the literature to assess TSC algorithms. These dataset have certain\n",
    "characteristics that influence what data structure we use to store them in memory.\n",
    "\n",
    "Most datasets in the archive contain time series all of the same length. For example, \n",
    "the [arrow\n",
    "head dataset](https://timeseriesclassification.com/description.php?Dataset=ArrowHead) consists of outlines of the images of arrow heads. The\n",
    "classification of projectile points is an important topic in anthropology.\n",
    "<img src=\"./img/arrow-heads.png\" width=\"400\" alt=\"arrow heads\">\n",
    "\n",
    "The shapes of the projectile points are converted into a sequence using the\n",
    "angle-based method as described in this [blog post](https://izbicki.me/blog/converting-images-into-time-series-for-data-mining.html) about converting images into time series for data mining.\n",
    "\n",
    "<img src=\"./img/from-shapes-to-time-series.png\" width=\"400\" alt=\"from shapes to time series\">\n",
    "\n",
    "Each instance consists of a single time series (i.e. the problem is univariate) of\n",
    "equal length and a class label based on shape distinctions such as the presence and\n",
    "location of a notch in the arrow. The data set consists of 210 instances, by\n",
    "default split into 36 train and 175 test instances. We refer to the collection of\n",
    "time series as $X$ and to the collection of class labels as $y$.\n",
    "\n",
    "Below, we store the data in a 3D dimensional (instance, variable, time point) numpy array for $X$, and a one\n",
    "dimensional (instance) numpy array for $y$.\n",
    "\n",
    "For the single problem loader load arrow head, set the return type to `numpy3D` to store $X$ in such a 3D ndarray.\n",
    "The data can also be returned in other formats, e.g., `pd-multiindex` (row-index hierarchical pandas), or `numpyflat` (2D numpy with rows=instances, columns=time points; alias is `numpy2d`). The full range of options are the `Panel` data format strings desribed in tutorial AA - datatypes and data loaders (see there)."
   ]
  },
  {
   "cell_type": "code",
   "execution_count": null,
   "metadata": {
    "collapsed": false,
    "pycharm": {
     "name": "#%%\n"
    }
   },
   "outputs": [],
   "source": [
    "# Imports used in this notebook\n",
    "import matplotlib.pyplot as plt\n",
    "\n",
    "from sktime.datasets import (\n",
    "    load_arrow_head,\n",
    "    load_basic_motions,\n",
    "    load_japanese_vowels,\n",
    "    load_plaid,\n",
    ")"
   ]
  },
  {
   "cell_type": "code",
   "execution_count": null,
   "metadata": {
    "collapsed": false,
    "pycharm": {
     "name": "#%%\n"
    }
   },
   "outputs": [],
   "source": [
    "# Load all arrow head\n",
    "arrow_X, arrow_y = load_arrow_head(return_type=\"numpy3d\")\n",
    "# Load default train/test splits from sktime/datasets/data\n",
    "arrow_train_X, arrow_train_y = load_arrow_head(split=\"train\", return_type=\"numpy3d\")\n",
    "arrow_test_X, arrow_test_y = load_arrow_head(split=\"test\", return_type=\"numpy3d\")\n",
    "print(arrow_train_X.shape, arrow_train_y.shape, arrow_test_X.shape, arrow_test_y.shape)\n",
    "plt.title(\" First instance in ArrowHead data\")\n",
    "plt.plot(arrow_train_X[0, 0])"
   ]
  },
  {
   "cell_type": "code",
   "execution_count": null,
   "metadata": {},
   "outputs": [],
   "source": [
    "# Load arrow head dataset, pandas multiindex format, also accepted by sktime classifiers\n",
    "arrow_train_X, arrow_train_y = load_arrow_head(\n",
    "    split=\"train\", return_type=\"pd-multiindex\"\n",
    ")\n",
    "arrow_test_X, arrow_test_y = load_arrow_head(split=\"test\", return_type=\"pd-multiindex\")\n",
    "print(arrow_train_X.head())"
   ]
  },
  {
   "cell_type": "code",
   "execution_count": null,
   "metadata": {},
   "outputs": [],
   "source": [
    "# Load arrow head dataset in nested pandas format, also accepted by sktime classifiers\n",
    "arrow_train_X, arrow_train_y = load_arrow_head(split=\"train\", return_type=\"nested_univ\")\n",
    "arrow_test_X, arrow_test_y = load_arrow_head(split=\"test\", return_type=\"nested_univ\")\n",
    "arrow_train_X.iloc[:5]"
   ]
  },
  {
   "cell_type": "code",
   "execution_count": null,
   "metadata": {},
   "outputs": [],
   "source": [
    "# Load arrow head dataset in numpy2d format, also accepted by sktime classifiers\n",
    "arrow_train_X, arrow_train_y = load_arrow_head(split=\"train\", return_type=\"numpy2d\")\n",
    "arrow_test_X, arrow_test_y = load_arrow_head(split=\"test\", return_type=\"numpy2d\")\n",
    "print(arrow_train_X.shape, arrow_train_y.shape, arrow_test_X.shape, arrow_test_y.shape)\n",
    "\n",
    "# CAUTION:\n",
    "# while classifiers will interpret 2D numpy arrays as (instance, timepoint),\n",
    "#   and as a collection/panel of univariate time series\n",
    "# all other sktime estimators interpret 2D numpy arrays as (timepoint, variable),\n",
    "#   i.e., a single, multivariate time series\n",
    "#   WARNING: this is also true for individual transformers, when outside a pipeline\n",
    "#\n",
    "# the reason for this ambiguity is ensuring sklearn compatibility\n",
    "#   in classification, numpy 2D is typically passed as (instance, timepoint) to sklearn\n",
    "#   in forecasting, numpy 2D is typically passed as (timepoint, variable) to sklearn"
   ]
  },
  {
   "cell_type": "markdown",
   "metadata": {
    "collapsed": false
   },
   "source": [
    "Some TSC datasets are multivariate, in that each time series instance has more than one\n",
    "variable. For example, the data [basic motions dataset]\n",
    "(https://timeseriesclassification.com/description.php?Dataset=BasicMotions)\n",
    " was generated as part of a student project where four students performed\n",
    "four activities whilst wearing a smart watch. The watch collects 3D accelerometer and\n",
    " a 3D gyroscope. Each instance involved a subject performing one of four tasks (walking,\n",
    " resting, running and badminton) for ten seconds. Time series in this data set have 6 variables."
   ]
  },
  {
   "cell_type": "code",
   "execution_count": null,
   "metadata": {
    "collapsed": false,
    "pycharm": {
     "name": "#%%\n"
    }
   },
   "outputs": [],
   "source": [
    "# \"basic motions\" dataset\n",
    "motions_X, motions_Y = load_basic_motions(return_type=\"numpy3d\")\n",
    "motions_train_X, motions_train_y = load_basic_motions(\n",
    "    split=\"train\", return_type=\"numpy3d\"\n",
    ")\n",
    "motions_test_X, motions_test_y = load_basic_motions(split=\"test\", return_type=\"numpy3d\")\n",
    "print(type(motions_train_X))\n",
    "print(\n",
    "    motions_train_X.shape,\n",
    "    motions_train_y.shape,\n",
    "    motions_test_X.shape,\n",
    "    motions_test_y.shape,\n",
    ")\n",
    "plt.title(\" First and second dimensions of the first instance in BasicMotions data\")\n",
    "plt.plot(motions_train_X[0][0])\n",
    "plt.plot(motions_train_X[0][1])"
   ]
  },
  {
   "cell_type": "markdown",
   "metadata": {
    "collapsed": false
   },
   "source": [
    "Some data sets have unequal length series. Two data sets with this characteristic\n",
    "are shipped with sktime: PLAID (univariate) and JapaneseVowels (multivariate). We\n",
    "cannot store unequal length series in numpy arrays. Instead, we use nested pandas\n",
    "data frames, where each cell is a pandas Series. This is the default return type for \n",
    "all single problem loaders."
   ]
  },
  {
   "cell_type": "code",
   "execution_count": null,
   "metadata": {
    "collapsed": false,
    "pycharm": {
     "name": "#%%\n"
    }
   },
   "outputs": [],
   "source": [
    "# loads both train and test together\n",
    "vowel_X, vowel_y = load_japanese_vowels()\n",
    "print(type(vowel_X))\n",
    "\n",
    "plt.title(\" First two dimensions of two instances of Japanese vowels\")\n",
    "plt.plot(vowel_X.iloc[0, 0])\n",
    "plt.plot(vowel_X.iloc[1, 0])\n",
    "plt.plot(vowel_X.iloc[0, 1])\n",
    "plt.plot(vowel_X.iloc[1, 1])\n",
    "plt.show()"
   ]
  },
  {
   "cell_type": "code",
   "execution_count": null,
   "metadata": {
    "collapsed": false,
    "pycharm": {
     "name": "#%%\n"
    }
   },
   "outputs": [],
   "source": [
    "plaid_X, plaid_y = load_plaid()\n",
    "print(type(plaid_X))\n",
    "\n",
    "plt.title(\" Four instances of PLAID dataset\")\n",
    "plt.plot(plaid_X.iloc[0, 0])\n",
    "plt.plot(plaid_X.iloc[1, 0])\n",
    "plt.plot(plaid_X.iloc[2, 0])\n",
    "plt.plot(plaid_X.iloc[3, 0])\n",
    "plt.show()"
   ]
  },
  {
   "cell_type": "markdown",
   "metadata": {
    "collapsed": false
   },
   "source": [
    "## Building Classifiers"
   ]
  },
  {
   "cell_type": "markdown",
   "metadata": {
    "collapsed": false
   },
   "source": [
    "We demonstrate the simplest use cases for classifiers and demonstrate how to build bespoke pipelines for time series classification.\n",
    "\n",
    "It is possible to use a standard `sklearn` classifier for univariate, equal length classification problems but it is unlikely to\n",
    "perform as well as bespoke time series classifiers, since supervised tabular classifiers ignore the sequence information in the variables.\n",
    "\n",
    "To apply `sklearn` classifiers directly, the data needs to be reshaped into one of the sklearn compatible 2D data formats. \n",
    "`sklearn` cannot be used directly with multivariate or unequal length data sets, without making choices in how to insert the data into a 2D structure.\n",
    "\n",
    "`sktime` provides functionality to make these choices explicit and tunable, under a unified interface for time series classifiers.\n",
    "\n",
    "`sktime` also provides pipeline construction functionality for transformers and classifiers that are specific to time series datasets."
   ]
  },
  {
   "cell_type": "markdown",
   "metadata": {},
   "source": [
    "Direct application of `sklearn` (without `sktime`) is possible via using the `numpy2d` return type for the time series data sets, and then feeding the format into `sklearn`:"
   ]
  },
  {
   "cell_type": "code",
   "execution_count": null,
   "metadata": {
    "collapsed": false,
    "pycharm": {
     "name": "#%%\n"
    }
   },
   "outputs": [],
   "source": [
    "from sklearn.ensemble import RandomForestClassifier\n",
    "from sklearn.metrics import accuracy_score\n",
    "\n",
    "classifier = RandomForestClassifier(n_estimators=100)\n",
    "arrow_train_X_2d, arrow_train_y_2d = load_arrow_head(\n",
    "    split=\"train\", return_type=\"numpy2d\"\n",
    ")\n",
    "arrow_test_X_2d, arrow_test_y_2d = load_arrow_head(split=\"test\", return_type=\"numpy2d\")\n",
    "classifier.fit(arrow_train_X_2d, arrow_train_y_2d)\n",
    "y_pred = classifier.predict(arrow_test_X_2d)\n",
    "accuracy_score(arrow_test_y_2d, y_pred)"
   ]
  },
  {
   "cell_type": "markdown",
   "metadata": {
    "collapsed": false
   },
   "source": [
    "`sktime` contains the state of the art in time series classifiers in the package\n",
    "classification. These are grouped based on their representation. An accurate and\n",
    "relatively fast classifier is called [ROCKET](https://arxiv.org/abs/1910.13051)"
   ]
  },
  {
   "cell_type": "code",
   "execution_count": null,
   "metadata": {
    "collapsed": false,
    "pycharm": {
     "name": "#%%\n"
    }
   },
   "outputs": [],
   "source": [
    "from sktime.classification.kernel_based import RocketClassifier\n",
    "\n",
    "rocket = RocketClassifier()\n",
    "rocket.fit(arrow_train_X, arrow_train_y)\n",
    "y_pred = rocket.predict(arrow_test_X)\n",
    "accuracy_score(arrow_test_y, y_pred)"
   ]
  },
  {
   "cell_type": "markdown",
   "metadata": {
    "collapsed": false
   },
   "source": [
    "A state-of-art algorithm for time series classification is version 2 of the [HIVE-COTE algorithm](https://link.springer.com/article/10.1007/s10994-021-06057-9). HC2 is slow on small\n",
    "problems like these examples. However, it can be configured with an approximate\n",
    "maximum run time as follows (may take a bit longer than a minute to run this cell)."
   ]
  },
  {
   "cell_type": "code",
   "execution_count": null,
   "metadata": {
    "collapsed": false,
    "pycharm": {
     "name": "#%%\n"
    }
   },
   "outputs": [],
   "source": [
    "from sktime.classification.hybrid import HIVECOTEV2\n",
    "\n",
    "hc2 = HIVECOTEV2(time_limit_in_minutes=1)\n",
    "hc2.fit(arrow_train_X, arrow_train_y)\n",
    "y_pred = hc2.predict(arrow_test_X)\n",
    "accuracy_score(arrow_test_y, y_pred)"
   ]
  },
  {
   "cell_type": "markdown",
   "metadata": {
    "collapsed": false
   },
   "source": [
    "Most classifiers in `sktime` involve some degree of transformation. The simplest form\n",
    "is simply consisting of a pipeline of transformation (aka \"feature extraction\") followed by an `sklearn` classifier.\n",
    "\n",
    "The `sktime` `make_pipeline` utility allows to combine transformers and classifiers into a simple pipeline.\n",
    "The classifier pipelined can be an `sktime` time series classifier, or an `sklearn` tabular classifier.\n",
    "If an `sklearn` classifier, the time series are formatted as (instance, time index) formatted 2D array before being passed to the `sklearn` classifier.\n",
    "\n",
    "In the following example, we use the [tsfresh](https://tsfresh.readthedocs.io/en/latest/) feature extractor to\n",
    "extract features which are then used in a (tabular, `sklearn`) random forest classifier.\n",
    "This can be done with the `sktime`'s `make_pipeline` utility as follows:"
   ]
  },
  {
   "cell_type": "code",
   "execution_count": null,
   "metadata": {
    "collapsed": false,
    "pycharm": {
     "name": "#%%\n"
    }
   },
   "outputs": [],
   "source": [
    "from sklearn.ensemble import RandomForestClassifier\n",
    "\n",
    "from sktime.pipeline import make_pipeline\n",
    "from sktime.transformations.panel.tsfresh import TSFreshFeatureExtractor\n",
    "\n",
    "tsfresh_trafo = TSFreshFeatureExtractor(default_fc_parameters=\"minimal\")\n",
    "randf = RandomForestClassifier(n_estimators=100)\n",
    "pipe = make_pipeline(tsfresh_trafo, randf)\n",
    "\n",
    "pipe.fit(arrow_train_X, arrow_train_y)\n",
    "y_pred = pipe.predict(arrow_test_X)\n",
    "accuracy_score(arrow_test_y, y_pred)"
   ]
  },
  {
   "cell_type": "markdown",
   "metadata": {},
   "source": [
    "In the following example, we pipeline an `sktime` transformer with an `sktime` time series classifier:"
   ]
  },
  {
   "cell_type": "code",
   "execution_count": null,
   "metadata": {},
   "outputs": [],
   "source": [
    "from sktime.classification.kernel_based import RocketClassifier\n",
    "from sktime.pipeline import make_pipeline\n",
    "from sktime.transformations.series.exponent import ExponentTransformer\n",
    "\n",
    "square = ExponentTransformer(power=2)\n",
    "rocket = RocketClassifier()\n",
    "pipe_sktime = square * rocket"
   ]
  },
  {
   "cell_type": "markdown",
   "metadata": {},
   "source": [
    "Under the hood, `sktime`'s `make_pipeline` utiltiy dispatches to right pipeline class that exposes different kinds of pipeline under the familiar `sktime` time series classification interface. In the above examples, these were `SklearnClassifierPipeline` (for `sklearn` classifiers at the end) and `ClassifierPipeline` (for `sktime` classifiers at the end):"
   ]
  },
  {
   "cell_type": "code",
   "execution_count": null,
   "metadata": {},
   "outputs": [],
   "source": [
    "pipe"
   ]
  },
  {
   "cell_type": "code",
   "execution_count": null,
   "metadata": {},
   "outputs": [],
   "source": [
    "pipe_sktime"
   ]
  },
  {
   "cell_type": "markdown",
   "metadata": {},
   "source": [
    "Alternatively, the pipelines could have been constructed directly with the special pipeline classes for more granular control, see docstrings of the aforementioned classes for further options."
   ]
  },
  {
   "cell_type": "markdown",
   "metadata": {},
   "source": [
    "Pipelines can also be defined, even more concisely, by using the `*` dunder operator, which is a shorthand for `make_pipeline`. Estimators on the right are pipelined after estimators on the left of the operator."
   ]
  },
  {
   "cell_type": "code",
   "execution_count": null,
   "metadata": {},
   "outputs": [],
   "source": [
    "from sktime.classification.kernel_based import RocketClassifier\n",
    "from sktime.transformations.series.exponent import ExponentTransformer\n",
    "\n",
    "square = ExponentTransformer(power=2)\n",
    "rocket = RocketClassifier()\n",
    "pipe = square * rocket\n",
    "pipe"
   ]
  },
  {
   "cell_type": "code",
   "execution_count": null,
   "metadata": {},
   "outputs": [],
   "source": [
    "pipe.fit(arrow_train_X, arrow_train_y)\n",
    "y_pred = pipe.predict(arrow_test_X)\n",
    "accuracy_score(arrow_test_y, y_pred)"
   ]
  },
  {
   "cell_type": "markdown",
   "metadata": {},
   "source": [
    "Using `sktime` pipeline constructs is encouraged above using `sklearn` `Pipeline`, as `sktime` pipelines will come with base class features such as input checks, input data format compatibility, and tag handling. However, `sktime` estimators are, in general, also compatible with `sklearn` pipelining use cases, as long as the `sklearn` adjacent data formats are being used, namely `numpy3D` or `nested_univ`. Conversely, `sklearn` native compositor elements will in general not be compatible with use of row hierarchical data formats such as `pd-multiindex`, and will not automatically convert, or provide `sktime` compatible tag inspection functionality."
   ]
  },
  {
   "cell_type": "markdown",
   "metadata": {
    "collapsed": false,
    "pycharm": {
     "name": "#%% md\n"
    }
   },
   "source": [
    "## Multivariate classification\n",
    "Many classifiers, including ROCKET and HC2, are configured to work with multivariate\n",
    "input. For example"
   ]
  },
  {
   "cell_type": "code",
   "execution_count": null,
   "metadata": {
    "collapsed": false,
    "pycharm": {
     "name": "#%%\n"
    }
   },
   "outputs": [],
   "source": [
    "rocket.fit(motions_train_X, motions_train_y)\n",
    "y_pred = rocket.predict(motions_test_X)\n",
    "accuracy_score(motions_test_y, y_pred)\n",
    "hc2.fit(motions_train_X, motions_train_y)\n",
    "y_pred = hc2.predict(motions_test_X)\n",
    "accuracy_score(motions_test_y, y_pred)"
   ]
  },
  {
   "cell_type": "markdown",
   "metadata": {
    "collapsed": false,
    "pycharm": {
     "name": "#%% md\n"
    }
   },
   "source": [
    "sktime offers two other ways of solving multivariate time series classification \n",
    "problems:\n",
    "\n",
    "1. Concatenation of time series columns into a single long time series column via \n",
    "`ColumnConcatenator` and apply a classifier to the concatenated data,\n",
    "2. Dimension ensembling via `ColumnEnsembleClassifier` in which one classifier is\n",
    " fitted for each time series column/dimension of the time series and their predictions \n",
    " are combined through a voting scheme. \n",
    "\n",
    "We can concatenate multivariate time series/panel data into long univariate time \n",
    "series/panel using a tran and then apply a classifier to the univariate data.\n"
   ]
  },
  {
   "cell_type": "code",
   "execution_count": null,
   "metadata": {
    "collapsed": false,
    "pycharm": {
     "name": "#%%\n"
    }
   },
   "outputs": [],
   "source": [
    "from sktime.classification.interval_based import DrCIF\n",
    "from sktime.transformations.panel.compose import ColumnConcatenator\n",
    "\n",
    "clf = ColumnConcatenator() * DrCIF(n_estimators=10)\n",
    "clf.fit(motions_train_X, motions_train_y)\n",
    "clf.score(motions_test_X, motions_test_y)"
   ]
  },
  {
   "cell_type": "markdown",
   "metadata": {
    "collapsed": false
   },
   "source": [
    "We can also fit one classifier for each time series column and then aggregated their \n",
    "predictions. The interface is similar to the familiar `ColumnTransformer` from sklearn."
   ]
  },
  {
   "cell_type": "code",
   "execution_count": null,
   "metadata": {
    "collapsed": false,
    "pycharm": {
     "name": "#%%\n"
    }
   },
   "outputs": [],
   "source": [
    "from sktime.classification.compose import ColumnEnsembleClassifier\n",
    "from sktime.classification.dictionary_based import TemporalDictionaryEnsemble\n",
    "from sktime.classification.interval_based import DrCIF\n",
    "\n",
    "clf = ColumnEnsembleClassifier(\n",
    "    estimators=[\n",
    "        (\"DrCIF0\", DrCIF(n_estimators=10), [0]),\n",
    "        (\"TDE3\", TemporalDictionaryEnsemble(max_ensemble_size=5), [3]),\n",
    "    ]\n",
    ")\n",
    "\n",
    "clf.fit(motions_train_X, motions_train_y)\n",
    "clf.score(motions_test_X, motions_test_y)"
   ]
  },
  {
   "cell_type": "markdown",
   "metadata": {
    "collapsed": false
   },
   "source": [
    "### Background info and references for classifiers used here\n",
    "\n",
    "#### The RocketClassifier \n",
    "is based on a pipeline combination of the ROCKET transformation (transformations\n",
    ".panel.rocket) and the sklearn RidgeClassifierCV classifier. The RocketClassifier is \n",
    "configurable to use variants minirocket and multirocket. ROCKET is based on \n",
    "generating random convolutions. A large number are generated then the classifier \n",
    "performs a feature selection.\n",
    "\n",
    "[1] Dempster, Angus, François Petitjean, and Geoffrey I. Webb. \"Rocket:\n",
    "       exceptionally fast and accurate time series classification using random\n",
    "       convolutional kernels.\" Data Mining and Knowledge Discovery 34.5 (2020)\n",
    "[arXiv version](https://arxiv.org/abs/1910.13051)\n",
    "\n",
    "#### DrCIF\n",
    "The Diverse Representation Canonical Interval Forest Classifier (DrCIF) is an \n",
    "interval based classifier. The algorithm takes multiple randomised intervals from \n",
    "each series and extracts a range of features. These features are used to build a \n",
    "decision tree, which in turn are ensembled into a decision forest, in the style of a \n",
    "random forest. The original version \n",
    "\n",
    "[2] Matthew Middlehurst and James Large and Anthony Bagnall. \"The Canonical\n",
    "       Interval Forest (CIF) Classifier for Time Series Classification.\"\n",
    "       IEEE International Conference on Big Data 2020\n",
    "[arXiv version](https://arxiv.org/abs/2008.09172)\n",
    "\n",
    "The DrCIF adjustment was proposed in [4]        \n",
    "#### TDE\n",
    "he Temporal Dictionary Ensemble is a dictionary based classifier. The basic premise \n",
    "is to extract discrete patterns using a windowing and to count their occurence. \n",
    "Classification is based on these frequency histograms. TDE includes bigram \n",
    "frequencies, spatial pyramids and a Gaussian process based parameter search. \n",
    "\n",
    "[3] Matthew Middlehurst, James Large, Gavin Cawley and Anthony Bagnall\n",
    "        \"The Temporal Dictionary Ensemble (TDE) Classifier for Time Series\n",
    "        Classification\", in proceedings of the European Conference on Machine Learning\n",
    "        and Principles and Practice of Knowledge Discovery in Databases, 2020.\n",
    "[arXiv version](https://arxiv.org/abs/2105.03841)\n",
    "\n",
    "#### HiveCoteV2 (HC2)\n",
    "\n",
    "The HIerarchical VotE Collective of Transformation-based Ensembles is a meta ensemble\n",
    " that combines classifiers built on different representations. Version 2 \n",
    " combines DrCIF, TDE, an ensemble of RocketClassifiers called the Arsenal and the \n",
    " ShapeletTransformClassifier. It is currently the most accurate classifier on the UCR\n",
    "  and UEA time series archives. \n",
    "   \n",
    "[4] Middlehurst, Matthew, James Large, Michael Flynn, Jason Lines, Aaron Bostrom,\n",
    "       and Anthony Bagnall. \"HIVE-COTE 2.0: a new meta ensemble for time series\n",
    "       classification.\" [Machine Learning (2021)](https://link.springer.com/article/10.1007/s10994-021-06057-9)"
   ]
  }
 ],
 "metadata": {
  "interpreter": {
   "hash": "9d800c14abb2bd109b7479fe8830174a66f0a4a77373f77c2c7334932e1a4922"
  },
  "kernelspec": {
   "display_name": "Python 3.8.12 ('sktime-dl')",
   "language": "python",
   "name": "python3"
  },
  "language_info": {
   "codemirror_mode": {
    "name": "ipython",
    "version": 3
   },
   "file_extension": ".py",
   "mimetype": "text/x-python",
   "name": "python",
   "nbconvert_exporter": "python",
   "pygments_lexer": "ipython3",
   "version": "3.8.12"
  }
 },
 "nbformat": 4,
 "nbformat_minor": 0
}
