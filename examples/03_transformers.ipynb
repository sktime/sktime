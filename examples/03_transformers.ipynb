{
 "cells": [
  {
   "cell_type": "markdown",
   "metadata": {},
   "source": [
    "**Set-up instructions:** this notebook gives a tutorial of transformation algorithms supported by `sktime`.\n",
    "On binder, this should run out-of-the-box.\n",
    "\n",
    "To run this notebook as intended, ensure that `sktime` with basic dependency requirements is installed in your python environment.\n",
    "\n",
    "To run this notebook with a local development version of sktime, either uncomment and run the below, or `pip install -e` a local clone of the `sktime` `main` branch."
   ]
  },
  {
   "cell_type": "code",
   "execution_count": null,
   "metadata": {},
   "outputs": [],
   "source": [
    "# from os import sys\n",
    "# sys.path.append(\"..\")"
   ]
  },
  {
   "cell_type": "markdown",
   "metadata": {},
   "source": [
    "# Using sktime transformers\n",
    "\n",
    "Transformers are modularized data processing steps commonly used in machine learning. `sktime` introduces transformer types related to time series, which can be used in pipeline constructs across learning tasks. For instance, the same time series feature extractor could be used in a forecasting pipeline, or a time series classification pipeline.\n",
    "\n",
    "Note: the term \"transformer\" is used in the sense of `scikit-learn`. This should be distinguished from the \"transformer\" referring to specific neural network architecture.\n",
    "\n",
    "`sktime` provides common interfaces to different types of transformations for stand-alone or composition use. As all `sktime` estimators, transformers expose parameters which can be tuned inside pipelines and composites.\n",
    "\n",
    "**Section 1** provides am introductory overview of transformers in `sktime` and their usage.\n",
    "\n",
    "**Section 2** introduces the different kinds of transformers in technical detail.\n",
    "\n",
    "**Section 3** discusses use of transformers in composites such as pipelines or algorithms that require distances or kernels.\n",
    "\n",
    "**Section 4** gives an introduction to how to write custom transformers compliant with the `sktime` interface."
   ]
  },
  {
   "cell_type": "markdown",
   "metadata": {},
   "source": [
    "## Table of Contents\n",
    "\n",
    "* [1. Introduction to transformers in sktime](#chapter1)\n",
    "    * [1.1 What are transformers?](#section_1_1)\n",
    "    * [1.2 Different types of transformers](#section_1_2)   \n",
    "    * [1.3 Broadcasting aka vectorization of transformers](#section_1_3)         \n",
    "    * [1.4 Transformers as pipeline components](#section_1_4)\n",
    "* [2. Transformer types and signatures](#chapter2)\n",
    "    * [2.1 Data container format](#section_2_1)\n",
    "    * [2.2 General transformer signature - time series transformers](#section_2_2)   \n",
    "    * [2.3 General transformer signature - pairwise series transformers](#section_2_3)         \n",
    "    * [2.4 General transformer signature - pairwise transformers](#section_2_4)\n",
    "    * [2.5 Searching for transformers](#section_1_5)\n",
    "* [3. Transformers in pipelines and composition](#chapter3)  \n",
    "* [4. Extension guide - implementing your own transformer](#chapter4)        \n",
    "* [5. Summary](#chapter5)          "
   ]
  },
  {
   "cell_type": "markdown",
   "metadata": {},
   "source": [
    "#### package imports"
   ]
  },
  {
   "cell_type": "markdown",
   "metadata": {},
   "source": [
    "## 1. Introduction to transformers in `sktime` <a class=\"anchor\" id=\"chapter1\"></a>\n",
    "\n",
    "This section introduces transformers in `sktime` and their main features and use cases:\n",
    "\n",
    "* transformers are a unified interface for data processing steps with `fit` and `transform`\n",
    "* there are different types of transformers in `sktime`, e.g., with different output type - time series or scalar features\n",
    "* transformers broadcast/vectorize across time series instances and variables\n",
    "* all transformers can be used as components in pipelines of any (fitting) type, e.g., forecasting or classifier pipelines"
   ]
  },
  {
   "cell_type": "markdown",
   "metadata": {},
   "source": [
    "### 1.1 What are transformers? <a class=\"anchor\" id=\"section_1_1\"></a>\n",
    "\n",
    "Transformers are modularized data processing steps commonly used in machine learning, the term \"transformer\" used in the sense of `scikit-learn`.\n",
    "\n",
    "Transformers are estimators that:\n",
    "\n",
    "* are fitted to a batch of data via `fit`, changing its state\n",
    "* are applied to another batch of data via `transform`, producing transformed data\n",
    "\n",
    "In `sktime`, input to `fit` and `transform` is typically a time series."
   ]
  },
  {
   "cell_type": "markdown",
   "metadata": {},
   "source": [
    "Basic use of an `sktime` time series transformer is as follows:"
   ]
  },
  {
   "cell_type": "code",
   "execution_count": null,
   "metadata": {},
   "outputs": [],
   "source": [
    "# 1. prepare the data\n",
    "from sktime.utils._testing.series import _make_series\n",
    "\n",
    "X = _make_series()\n",
    "X_train = X[:30]\n",
    "X_test = X[30:]\n",
    "# X_train and X_test are both pandas.Series\n",
    "\n",
    "X_train, X_test"
   ]
  },
  {
   "cell_type": "code",
   "execution_count": null,
   "metadata": {},
   "outputs": [],
   "source": [
    "# 2. construct the transformer\n",
    "from sktime.transformations.series.boxcox import BoxCoxTransformer\n",
    "\n",
    "# trafo is an sktime estimator inheriting from BaseTransformer\n",
    "# Box-Cox transform with lambda parameter fitted via mle\n",
    "trafo = BoxCoxTransformer(method=\"mle\")"
   ]
  },
  {
   "cell_type": "code",
   "execution_count": null,
   "metadata": {},
   "outputs": [],
   "source": [
    "# 3. fit the transformer to training data\n",
    "trafo.fit(X_train)\n",
    "\n",
    "# 4. apply the transformer to transform test data\n",
    "# Box-Cox transform with lambda fitted on X_train\n",
    "X_transformed = trafo.transform(X_test)\n",
    "\n",
    "X_transformed"
   ]
  },
  {
   "cell_type": "markdown",
   "metadata": {},
   "source": [
    "If the training and test set is the same, step 3 and 4 can be carried out more concisely (and sometimes more efficiently) by using `fit_transform`:"
   ]
  },
  {
   "cell_type": "code",
   "execution_count": null,
   "metadata": {},
   "outputs": [],
   "source": [
    "# 3+4. apply the transformer to fit and transform on the same data, X\n",
    "X_transformed = trafo.fit_transform(X)"
   ]
  },
  {
   "cell_type": "markdown",
   "metadata": {},
   "source": [
    "### 1.2 Different types of transformers <a class=\"anchor\" id=\"section_1_2\"></a>\n",
    "\n",
    "`sktime` distinguishes different types of transformer, depending on the input type of `fit` and `transform`, and the output type of `transform`.\n",
    "\n",
    "Transformers differ by:\n",
    "\n",
    "* making use of an additional `y` argument in `fit` or `transform`\n",
    "* whether the input to `fit` and `transform` is a single time series, a collection of time series, or scalar values (data frame row)\n",
    "* whether the output of `transform` is a single time series, a collection of time series, or scalar values (data frame row)\n",
    "* whether the input to `fit` and `transform` are one object or two. Two objects as input and a scalar output means the transformer is a distance or kernel function."
   ]
  },
  {
   "cell_type": "markdown",
   "metadata": {},
   "source": [
    "More detail on this is given in [Section 2](#chapter2).\n",
    "\n",
    "To illustrate the difference, we compare two transformers with different output:\n",
    "\n",
    "* the Box-Cox transformer `BoxCoxTrannsformer`, which transforms a time series to a time series\n",
    "* the summary transformer `SummaryTransformer`, which transforms a time series to scalars such as the mean\n"
   ]
  },
  {
   "cell_type": "code",
   "execution_count": null,
   "metadata": {},
   "outputs": [],
   "source": [
    "# constructing the transformer\n",
    "from sktime.transformations.series.boxcox import BoxCoxTransformer\n",
    "from sktime.transformations.series.summarize import SummaryTransformer\n",
    "from sktime.utils._testing.series import _make_series\n",
    "\n",
    "# getting some data\n",
    "# this is one pandas.Series\n",
    "X = _make_series(n_timepoints=10)\n",
    "\n",
    "# constructing the transformers\n",
    "boxcox_trafo = BoxCoxTransformer(method=\"mle\")\n",
    "summary_trafo = SummaryTransformer()"
   ]
  },
  {
   "cell_type": "code",
   "execution_count": null,
   "metadata": {},
   "outputs": [],
   "source": [
    "# this produces a pandas Series\n",
    "boxcox_trafo.fit_transform(X)"
   ]
  },
  {
   "cell_type": "code",
   "execution_count": null,
   "metadata": {},
   "outputs": [],
   "source": [
    "# this produces a pandas.DataFrame row\n",
    "summary_trafo.fit_transform(X)"
   ]
  },
  {
   "cell_type": "markdown",
   "metadata": {},
   "source": [
    "For time series transformers, the metadata tags describe the expected output of `transform`:"
   ]
  },
  {
   "cell_type": "code",
   "execution_count": null,
   "metadata": {},
   "outputs": [],
   "source": [
    "boxcox_trafo.get_tag(\"scitype:transform-output\")"
   ]
  },
  {
   "cell_type": "code",
   "execution_count": null,
   "metadata": {},
   "outputs": [],
   "source": [
    "summary_trafo.get_tag(\"scitype:transform-output\")"
   ]
  },
  {
   "cell_type": "markdown",
   "metadata": {},
   "source": [
    "A more complete overview on transformer types and tags is given in [Section 2](#chapter2).\n"
   ]
  },
  {
   "cell_type": "markdown",
   "metadata": {},
   "source": [
    "### 1.3 Broadcasting aka vectorization of transformers <a class=\"anchor\" id=\"section_1_3\"></a>\n",
    "\n",
    "`sktime` transformers may be natively univariate, or apply only to a single time series.\n",
    "\n",
    "Even if this is the case, they broadcast across variables and instances of time series, where applicable (als known as vectorization in `numpy` parlance).\n",
    "\n",
    "This ensures that all `sktime` transformers can be applied to multivariate and multi-instance (panel, hierarchical) time series data."
   ]
  },
  {
   "cell_type": "markdown",
   "metadata": {},
   "source": [
    "Example 1: broadcasting/vectorization of time series to time series transformer\n",
    "\n",
    "The `BoxCoxTransformer` from previous sections applies to single instances of univariate time series. When multiple instances or variables are seen, it broadcasts across both:"
   ]
  },
  {
   "cell_type": "code",
   "execution_count": null,
   "metadata": {},
   "outputs": [],
   "source": [
    "from sktime.transformations.series.boxcox import BoxCoxTransformer\n",
    "from sktime.utils._testing.hierarchical import _make_hierarchical\n",
    "\n",
    "# hierarchical data with 2 variables and 2 levels\n",
    "X = _make_hierarchical(n_columns=2)\n",
    "\n",
    "X"
   ]
  },
  {
   "cell_type": "code",
   "execution_count": null,
   "metadata": {},
   "outputs": [],
   "source": [
    "# constructing the transformers\n",
    "boxcox_trafo = BoxCoxTransformer(method=\"mle\")\n",
    "\n",
    "# applying to X results in hierarchical data\n",
    "boxcox_trafo.fit_transform(X)"
   ]
  },
  {
   "cell_type": "markdown",
   "metadata": {},
   "source": [
    "Fitted model components of vectorized transformers can be found in the `transformers_` attribute, or accessed via the universal `get_fitted_params` interface:"
   ]
  },
  {
   "cell_type": "code",
   "execution_count": null,
   "metadata": {},
   "outputs": [],
   "source": [
    "boxcox_trafo.transformers_\n",
    "# this is a pandas.DataFrame that contains the fitted transformers\n",
    "# one per time series instance and variable"
   ]
  },
  {
   "cell_type": "code",
   "execution_count": null,
   "metadata": {},
   "outputs": [],
   "source": [
    "boxcox_trafo.get_fitted_params()\n",
    "# this returns a dictionary\n",
    "# the transformers DataFrame is available at the key \"transformers\"\n",
    "# individual transformers are available at dataframe-like keys\n",
    "# it also contains all fitted lambdas as keyed parameters"
   ]
  },
  {
   "cell_type": "markdown",
   "metadata": {},
   "source": [
    "Example 2: broadcasting/vectorization of time series to scalar features transformer\n",
    "\n",
    "The `SummaryTransformer` behaves similarly.\n",
    "Multiple time series instances are transformed to different columns of the resulting data frame."
   ]
  },
  {
   "cell_type": "code",
   "execution_count": null,
   "metadata": {},
   "outputs": [],
   "source": [
    "from sktime.transformations.series.summarize import SummaryTransformer\n",
    "\n",
    "summary_trafo = SummaryTransformer()\n",
    "\n",
    "# this produces a pandas DataFrame with more rows and columns\n",
    "# rows correspond to different instances in X\n",
    "# columns are multiplied and names prefixed by [variablename]__\n",
    "# there is one column per variable and transformed feature\n",
    "summary_trafo.fit_transform(X)"
   ]
  },
  {
   "cell_type": "markdown",
   "metadata": {},
   "source": [
    "### 1.4 Transformers as pipeline components <a class=\"anchor\" id=\"section_1_4\"></a>\n",
    "\n",
    "A main use of `sktime` transformers is as pipeline components.\n",
    "\n",
    "`sktime` transformers can be pipelined with any other `sktime` estimator type, including forecasters, classifiers, and other transformers.\n",
    "\n",
    "Pipelines are estimators of the same type and retain all interface properties of the more specialized class.\n",
    "\n",
    "The most universal pipeline operation is via `make_pipeline` or the `*` dunder.\n",
    "\n",
    "Pipelining `pipe = trafo * est` or produces an estimator `pipe` of the same type as `est`.\n",
    "\n",
    "In `pipe.fit`, first `trafo.fit_transform`, then `est.fit` is executed on the result.\n",
    "\n",
    "In `pipe.othermethod`, first `trafo.transform`, then `est.othermethod` is executed.\n",
    "\n",
    "(the arguments that are piped differ by type and can be looked up in the docstrings of pipeline classes, or specialized tutorials)"
   ]
  },
  {
   "cell_type": "markdown",
   "metadata": {},
   "source": [
    "#### Example 1: pipeline of two transformers"
   ]
  },
  {
   "cell_type": "code",
   "execution_count": null,
   "metadata": {},
   "outputs": [],
   "source": [
    "from sktime.transformations.series.difference import Differencer\n",
    "from sktime.transformations.series.summarize import SummaryTransformer\n",
    "\n",
    "pipe = Differencer() * SummaryTransformer()\n",
    "\n",
    "# this constructs a TransformerPipeline, which is also a transformer\n",
    "pipe"
   ]
  },
  {
   "cell_type": "code",
   "execution_count": null,
   "metadata": {},
   "outputs": [],
   "source": [
    "from sktime.utils._testing.hierarchical import _make_hierarchical\n",
    "\n",
    "X = _make_hierarchical(n_columns=2)\n",
    "\n",
    "# this is a transformer with the same interface\n",
    "# first applies differencer, then summary transform\n",
    "pipe.fit_transform(X)"
   ]
  },
  {
   "cell_type": "markdown",
   "metadata": {},
   "source": [
    "#### Example 2: forecaster pipeline"
   ]
  },
  {
   "cell_type": "code",
   "execution_count": null,
   "metadata": {},
   "outputs": [],
   "source": [
    "from sktime.forecasting.naive import NaiveForecaster\n",
    "from sktime.transformations.series.difference import Differencer\n",
    "\n",
    "pipe = Differencer() * NaiveForecaster(strategy=\"drift\")\n",
    "\n",
    "# this constructs a TransformedTargetForecaster, which is also a forecaster\n",
    "pipe"
   ]
  },
  {
   "cell_type": "code",
   "execution_count": null,
   "metadata": {},
   "outputs": [],
   "source": [
    "from sktime.datasets import load_airline\n",
    "\n",
    "y = load_airline()\n",
    "\n",
    "# this is a forecaster with the same interface as NaiveForecaster\n",
    "# first applies differencer, then naive forecaster, then inverts differencing\n",
    "pipe.fit(y, fh=[1, 2, 3])\n",
    "pipe.predict()"
   ]
  },
  {
   "cell_type": "markdown",
   "metadata": {},
   "source": [
    "#### Example 3: classifier pipeline"
   ]
  },
  {
   "cell_type": "code",
   "execution_count": null,
   "metadata": {},
   "outputs": [],
   "source": [
    "from sktime.classification.distance_based import KNeighborsTimeSeriesClassifier\n",
    "from sktime.transformations.series.exponent import ExponentTransformer\n",
    "\n",
    "pipe = ExponentTransformer() * KNeighborsTimeSeriesClassifier()\n",
    "\n",
    "# this constructs a ClassifierPipeline, which is also a classifier\n",
    "pipe"
   ]
  },
  {
   "cell_type": "code",
   "execution_count": null,
   "metadata": {},
   "outputs": [],
   "source": [
    "from sktime.datasets import load_unit_test\n",
    "\n",
    "X_train, y_train = load_unit_test(split=\"TRAIN\")\n",
    "X_test, _ = load_unit_test(split=\"TEST\")\n",
    "\n",
    "# this is a forecaster with the same interface as knn-classifier\n",
    "# first applies exponent transform, then knn-classifier\n",
    "pipe.fit(X_train, y_train)\n",
    "pipe.predict(X_test)"
   ]
  },
  {
   "cell_type": "markdown",
   "metadata": {},
   "source": [
    "## 2. Transformers types and signatures <a class=\"anchor\" id=\"chapter2\"></a>"
   ]
  },
  {
   "cell_type": "markdown",
   "metadata": {},
   "source": [
    "This section explains the different types of transformers found in `sktime` in detail.\n",
    "\n",
    "There are four main types of transformation in `sktime`:\n",
    "\n",
    "* transforming a series/sequence into scalar- or category-valued features. Examples: `tsfresh`, or extracting `mean` and `variance` overall.\n",
    "* transforming a series into another series. Examples: detrending, smoothing, filtering, lagging.\n",
    "* transforming a panel into another panel. Examples: principal component projection; applying individual series-to-series transformation to all series in the panel.\n",
    "* transforming a pair of series into a scalar value. Examples: dynamic time warping distance between series/sequences; generalized alignment kernel between series/sequences.\n",
    "\n",
    "Notably, the first three (series to primitive features, series to series, panel to panel) are covered by the same base class template and module. We call these transformers \"time series transformers\", or, simply, \"transformers\".\n",
    "Kernels and distances for time series and sequences have the same mathematical signature and differ only in mathematical properties (e.g., definiteness assumptions) - they are covered by the more abstract scientific type of \"pairwise transformer\".\n",
    "\n",
    "Below, we give an overview in sub-sections:\n",
    "* reviewing common data container formats for series and panels\n",
    "* showcasing the signature of time series transformers, that transform a single series or panel\n",
    "* showcasing the signature of pairwise transformers, that transform a pair of series to a scalar, e.g., distances or kernels\n",
    "* how to search `sktime` for transformers of a certain type"
   ]
  },
  {
   "cell_type": "markdown",
   "metadata": {},
   "source": [
    "### 2.1 Data container format<a class=\"anchor\" id=\"section_2_1\"></a>\n",
    "\n",
    "`sktime` transformers apply to individual time series and panels. Panels are collections of time series, and we refer to each time series in a panel as an \"instance\" of the panel.\n",
    "This is formalized as abstract \"scientific types\" `Series` and `Panel`, with multiple possible in-memory representations, so-called \"mtypes\".\n",
    "\n",
    "For the purpose of this tutorial, we will be working with the most common mtypes. For more details and formal data type specifications, see the \"datatypes and datasets\" tutorial.\n",
    "\n",
    "`Series` are commonly represented as:\n",
    "\n",
    "* `pandas.Series` for univariate time series and sequences\n",
    "* `pandas.DataFrame` for uni- or multivariate time series and sequences\n",
    "\n",
    "The `Series.index` and `DataFrame.index` are used for representing the time series or sequence index. `sktime` supports pandas integer, period and timestamp indices.\n",
    "\n",
    "`Panel`-s are commonly represented as:\n",
    "* a `pandas.DataFrame` in a specific format, defined by the `pd-multiindex` mtype. This has a 2-level index, for time points and instances\n",
    "* a `list` of `pandas.DataFrame`, where all `pandas.DataFrame` are in the `Series` format. The different `list` elements are the different instances\n",
    "\n",
    "In either case, the \"time\" index must be a `sktime` compatible time index type, as for `Series`."
   ]
  },
  {
   "cell_type": "code",
   "execution_count": null,
   "metadata": {},
   "outputs": [],
   "source": [
    "from sktime.datatypes import get_examples"
   ]
  },
  {
   "cell_type": "code",
   "execution_count": null,
   "metadata": {
    "execution": {
     "iopub.execute_input": "2021-04-10T16:07:05.849641Z",
     "iopub.status.busy": "2021-04-10T16:07:05.849188Z",
     "iopub.status.idle": "2021-04-10T16:07:06.049023Z",
     "shell.execute_reply": "2021-04-10T16:07:06.049499Z"
    }
   },
   "outputs": [],
   "source": [
    "# example of a univariate series\n",
    "get_examples(\"pd.Series\", \"Series\")[0]"
   ]
  },
  {
   "cell_type": "code",
   "execution_count": null,
   "metadata": {},
   "outputs": [],
   "source": [
    "# example of a multivariate series\n",
    "get_examples(\"pd.DataFrame\", \"Series\")[1]"
   ]
  },
  {
   "cell_type": "code",
   "execution_count": null,
   "metadata": {},
   "outputs": [],
   "source": [
    "# example of a panel with mtype pd-multiindex\n",
    "get_examples(\"pd-multiindex\", \"Panel\")[0]"
   ]
  },
  {
   "cell_type": "code",
   "execution_count": null,
   "metadata": {},
   "outputs": [],
   "source": [
    "# example of the same panel with mtype df-list\n",
    "get_examples(\"df-list\", \"Panel\")[0]"
   ]
  },
  {
   "cell_type": "markdown",
   "metadata": {},
   "source": [
    "`sktime` supports more mtypes, see the \"datatypes and datasets\" tutorial for more details."
   ]
  },
  {
   "cell_type": "markdown",
   "metadata": {},
   "source": [
    "### 2.2 General transformer signature - time series transformers<a class=\"anchor\" id=\"section_2_2\"></a>"
   ]
  },
  {
   "cell_type": "markdown",
   "metadata": {},
   "source": [
    "Transformers for `Series` and `Panel` have the same high-level interface. Depending which data type they are more commonly used for, they are found either in the `transformations.series` or `transformations.panel` module. As said, this does not imply a separate interface.\n",
    "\n",
    "The most important interface points of transformers are:\n",
    "\n",
    "1. construction with parameters, this is as with any other `sktime` estimator\n",
    "2. fitting the transformer, via `fit`\n",
    "3. transforming data, via `transform`\n",
    "4. inverse transforming, via `inverse_transform` - not all transformers have this interface point, since not all are invertible\n",
    "5. updating the transformer, via `update` - not all transformers have this interface point (`update` is currently work in progress, as of v0.8.x, contributions are appreciated)\n",
    "\n",
    "We show this using two example transformers below - one whose `transform` outputs `Series`, and one whose `transform` outputs primitive features (numbers or categories).\n",
    "\n",
    "We will apply both transformations to the following `Series` and `Panel` data:"
   ]
  },
  {
   "cell_type": "code",
   "execution_count": null,
   "metadata": {},
   "outputs": [],
   "source": [
    "from sktime.datatypes import get_examples\n",
    "\n",
    "# univariate series used in the examples\n",
    "X_series = get_examples(\"pd.Series\", \"Series\")[3]\n",
    "# panel used in the examples\n",
    "X_panel = get_examples(\"pd-multiindex\", \"Panel\")[2]"
   ]
  },
  {
   "cell_type": "code",
   "execution_count": null,
   "metadata": {},
   "outputs": [],
   "source": [
    "X_series"
   ]
  },
  {
   "cell_type": "code",
   "execution_count": null,
   "metadata": {},
   "outputs": [],
   "source": [
    "X_panel"
   ]
  },
  {
   "cell_type": "markdown",
   "metadata": {},
   "source": [
    "#### Example: transforming series to series\n",
    "\n",
    "The Box-Cox transformer applies the Box-Cox transform to individual values in series or panels. At the start, the transformer needs to be constructed with parameter settings, this is the same as for any `sktime` estimator."
   ]
  },
  {
   "cell_type": "code",
   "execution_count": null,
   "metadata": {},
   "outputs": [],
   "source": [
    "# constructing the transformer\n",
    "from sktime.transformations.series.boxcox import BoxCoxTransformer\n",
    "\n",
    "my_boxcox_trafo = BoxCoxTransformer(method=\"mle\")"
   ]
  },
  {
   "cell_type": "markdown",
   "metadata": {},
   "source": [
    "Now, we apply the constructed transformer `my_trafo` to a (single, univariate) series. First, the transformer is fitted:"
   ]
  },
  {
   "cell_type": "code",
   "execution_count": null,
   "metadata": {},
   "outputs": [],
   "source": [
    "# fitting the transformer\n",
    "my_boxcox_trafo.fit(X_series)"
   ]
  },
  {
   "cell_type": "markdown",
   "metadata": {},
   "source": [
    "Next, the transformer is applied, this results in a transformed series."
   ]
  },
  {
   "cell_type": "code",
   "execution_count": null,
   "metadata": {},
   "outputs": [],
   "source": [
    "# transforming the series\n",
    "my_boxcox_trafo.transform(X_series)"
   ]
  },
  {
   "cell_type": "markdown",
   "metadata": {},
   "source": [
    "Generally, the series passed to `transform` need not be the same as in `fit`, but if they are the same, the shorthand `fit_transform` can instead be used:"
   ]
  },
  {
   "cell_type": "code",
   "execution_count": null,
   "metadata": {},
   "outputs": [],
   "source": [
    "my_boxcox_trafo.fit_transform(X_series)"
   ]
  },
  {
   "cell_type": "markdown",
   "metadata": {},
   "source": [
    "The transformer can also be applied to `Panel` data."
   ]
  },
  {
   "cell_type": "code",
   "execution_count": null,
   "metadata": {},
   "outputs": [],
   "source": [
    "my_boxcox_trafo.fit_transform(X_panel)"
   ]
  },
  {
   "cell_type": "markdown",
   "metadata": {},
   "source": [
    "Note: the `BoxCoxTransformer` used has applied the Box-Cox transform to every series in the panel individually,\n",
    "but that need not be the case transformers in general."
   ]
  },
  {
   "cell_type": "markdown",
   "metadata": {},
   "source": [
    "#### Example: transforming series to primitive features\n",
    "\n",
    "The summary transformer can be used to extract sample statistics such as mean and variance from a series. First, we construct the transformer:"
   ]
  },
  {
   "cell_type": "code",
   "execution_count": null,
   "metadata": {},
   "outputs": [],
   "source": [
    "# constructing the transformer\n",
    "from sktime.transformations.series.summarize import SummaryTransformer\n",
    "\n",
    "my_summary_trafo = SummaryTransformer()"
   ]
  },
  {
   "cell_type": "markdown",
   "metadata": {},
   "source": [
    "As before, we can fit/apply with `fit`, `transform`, and `fit_transform`.\n",
    "\n",
    "`SummaryTransformer` returns primitive features, hence the output will be a `pandas.DataFrame`, each row corresponding to one series in the input. \n",
    "\n",
    "If the input is a single series, the output of `transform` and `fit_transform` will be a one-row, nine-column `DataFrame`, corresponding to the nine-number-summary of that one series:"
   ]
  },
  {
   "cell_type": "code",
   "execution_count": null,
   "metadata": {},
   "outputs": [],
   "source": [
    "my_summary_trafo.fit_transform(X_series)"
   ]
  },
  {
   "cell_type": "markdown",
   "metadata": {},
   "source": [
    "If the input is a panel, the output of `transform` and `fit_transform` will be a `DataFrame` with as many rows as the `Panel` had series. The `i`th row has the summary statistics of the `i`th series in the panel `X_panel`:"
   ]
  },
  {
   "cell_type": "code",
   "execution_count": null,
   "metadata": {},
   "outputs": [],
   "source": [
    "my_summary_trafo.fit_transform(X_panel)"
   ]
  },
  {
   "cell_type": "markdown",
   "metadata": {},
   "source": [
    "#### Transformers with series/panel output vs primitive output\n",
    "\n",
    "Whether `transform` will return time series like objects (`Series` or `Panel`) or primitives (i.e. a `pandas.DataFrame`) can be checked by using the `\"scitype:transform-output\"` tag. This is `\"Series\"` for behaviour as in the first example (`BoxCoxTransformer`), and `\"Primitives\"` for behaviour as in the second example (`SummaryTransformer`):"
   ]
  },
  {
   "cell_type": "code",
   "execution_count": null,
   "metadata": {},
   "outputs": [],
   "source": [
    "my_boxcox_trafo.get_tag(\"scitype:transform-output\")"
   ]
  },
  {
   "cell_type": "code",
   "execution_count": null,
   "metadata": {},
   "outputs": [],
   "source": [
    "my_summary_trafo.get_tag(\"scitype:transform-output\")"
   ]
  },
  {
   "cell_type": "markdown",
   "metadata": {},
   "source": [
    "Use of tags to characterize and search for transformers will be discussed in more detail in section 4."
   ]
  },
  {
   "cell_type": "markdown",
   "metadata": {},
   "source": [
    "NOTE: currently not all transformers are refactored to accept both `Series` to `Panel` arguments, the above may hence not fully work for all transformers. Contributions to the transformer refactor are very much appreciated."
   ]
  },
  {
   "cell_type": "markdown",
   "metadata": {},
   "source": [
    "### 2.3 General transformer signature - pairwise series transformers<a class=\"anchor\" id=\"section_2_3\"></a>"
   ]
  },
  {
   "cell_type": "markdown",
   "metadata": {},
   "source": [
    "Pairwise series transformers model mathematical objects of signature `(Series, Series) -> float`, or, in mathematical notation, $$\\texttt{series} \\times\\texttt{series}\\rightarrow\\mathbb{R}$$\n",
    "Common examples are distances between series, or (positive definite) kernels on series.\n",
    "\n",
    "Pairwise transformers have a parametric constructor, like any other `sktime` object. The transformation is achieved by the method `transform`, or, equivalently, for brevity, by a call to the constructed object.\n",
    "\n",
    "The method `transform` always returns a 2D `numpy.ndarray`, and can be called in multiple ways:\n",
    "* with two `Series` arguments `X, X2`, in which case a 1 x 1 array is returned. Denote this function by `t(X, X2)`\n",
    "* with two `Panel` arguments `X`, `X2`, in which case an `m x n` array is returned, where `m` is the number of instances in `X` and `n` is the number of instances in `X2`. The `(i,j)`-th entry corresponds to `t(Xi, X2j)`, where `Xi` is ths `i`-th `Series` in the `Panel` `X`, and `X2j` is the `j`-th `Series` in the `Panel` `X2`.\n",
    "* with one `Series` and one `Panel` argument, in which case the `Series` is interpreted as a 1-element `Panel`, with return as above.\n",
    "* with one single argument, `Series` or `Panel`, in which case `X` and `X2` are assumed to be the same as the one argument, with behaviour as above.\n",
    "\n",
    "We show these in a few examples below."
   ]
  },
  {
   "cell_type": "code",
   "execution_count": null,
   "metadata": {},
   "outputs": [],
   "source": [
    "from sktime.datatypes import get_examples\n",
    "\n",
    "# unviariate series used in the examples\n",
    "X_series = get_examples(\"pd.Series\", \"Series\")[0]\n",
    "X2_series = get_examples(\"pd.Series\", \"Series\")[1]\n",
    "# panel used in the examples\n",
    "X_panel = get_examples(\"pd-multiindex\", \"Panel\")[0]"
   ]
  },
  {
   "cell_type": "markdown",
   "metadata": {},
   "source": [
    "First, we construct the pairwise transformer with parameters. In this case, the pairwise transformer is a distance (the mean Euclidean distance):"
   ]
  },
  {
   "cell_type": "code",
   "execution_count": null,
   "metadata": {},
   "outputs": [],
   "source": [
    "# constructing the transformer\n",
    "from sktime.dists_kernels import AggrDist, ScipyDist\n",
    "\n",
    "# mean of paired Euclidean distances\n",
    "my_series_dist = AggrDist(ScipyDist(metric=\"euclidean\"))"
   ]
  },
  {
   "cell_type": "markdown",
   "metadata": {},
   "source": [
    "We can then evaluate the distance by `transform` or direct call:"
   ]
  },
  {
   "cell_type": "code",
   "execution_count": null,
   "metadata": {},
   "outputs": [],
   "source": [
    "# evaluate the metric on two series, via transform\n",
    "my_series_dist.transform(X_series, X2_series)"
   ]
  },
  {
   "cell_type": "code",
   "execution_count": null,
   "metadata": {},
   "outputs": [],
   "source": [
    "# evaluate the metric on two series, by direct call - this is the same\n",
    "my_series_dist(X_series, X2_series)"
   ]
  },
  {
   "cell_type": "code",
   "execution_count": null,
   "metadata": {},
   "outputs": [],
   "source": [
    "# evaluate the metric on two identical panels of three series\n",
    "my_series_dist(X_panel, X_panel)"
   ]
  },
  {
   "cell_type": "code",
   "execution_count": null,
   "metadata": {},
   "outputs": [],
   "source": [
    "# this is the same as providing only one argument\n",
    "my_series_dist(X_panel)"
   ]
  },
  {
   "cell_type": "code",
   "execution_count": null,
   "metadata": {},
   "outputs": [],
   "source": [
    "# one series, one panel\n",
    "# we subset X_panel to univariate, since the distance in question\n",
    "#     cannot compare series with different number of variables\n",
    "my_series_dist(X_series, X_panel[[\"var_1\"]])"
   ]
  },
  {
   "cell_type": "markdown",
   "metadata": {},
   "source": [
    "Pairwise transformers are composable, and use the familiar `get_params` interface, just like any other `sktime` object and `scikit-learn` estimator:"
   ]
  },
  {
   "cell_type": "code",
   "execution_count": null,
   "metadata": {},
   "outputs": [],
   "source": [
    "my_series_dist.get_params()"
   ]
  },
  {
   "cell_type": "markdown",
   "metadata": {},
   "source": [
    "### 2.4 General transformer signature - pairwise transformers<a class=\"anchor\" id=\"section_2_4\"></a>"
   ]
  },
  {
   "cell_type": "markdown",
   "metadata": {},
   "source": [
    "`sktime` also provides functionality for pairwise transformers on tabular data, i.e., mathematical objects of signature `(DataFrame-row, DataFrame-row) -> float`, or, in mathematical notation, $$\\mathbb{R}^n \\times\\mathbb{R}^n\\rightarrow\\mathbb{R}$$.\n",
    "Common examples are distances between series, or (positive definite) kernels on series.\n",
    "\n",
    "The behaviour is as for series transformers, evaluation is callable by `transform(X, X2)` or a direct call.\n",
    "\n",
    "Inputs to `transform` of a pairwise (tabular) transformer must always be `pandas.DataFrame`.\n",
    "The output is an `m x n` matrix, a 2D `np.ndarray`, with `m = len(X), n=len(X2)`. \n",
    "The `(i,j)`-th entry corresponds to `t(Xi, X2j)`, where `Xi` is ths `i`-th row of `X`, and `X2j` is the `j`-th row of `X2`.\n",
    "If `X2` is not passed, it defaults to `X`.\n",
    "\n",
    "Example:"
   ]
  },
  {
   "cell_type": "code",
   "execution_count": null,
   "metadata": {},
   "outputs": [],
   "source": [
    "from sktime.datatypes import get_examples\n",
    "\n",
    "# we retrieve some DataFrame examples\n",
    "X_tabular = get_examples(\"pd.DataFrame\", \"Series\")[1]\n",
    "X2_tabular = get_examples(\"pd.DataFrame\", \"Series\")[1][0:3]"
   ]
  },
  {
   "cell_type": "code",
   "execution_count": null,
   "metadata": {},
   "outputs": [],
   "source": [
    "# constructing the transformer\n",
    "from sktime.dists_kernels import ScipyDist\n",
    "\n",
    "# mean of paired Euclidean distances\n",
    "my_tabular_dist = ScipyDist(metric=\"euclidean\")"
   ]
  },
  {
   "cell_type": "code",
   "execution_count": null,
   "metadata": {},
   "outputs": [],
   "source": [
    "# obtain matrix of distances between each pair of rows in X_tabular, X2_tabular\n",
    "my_tabular_dist(X_tabular, X2_tabular)"
   ]
  },
  {
   "cell_type": "markdown",
   "metadata": {},
   "source": [
    "### 2.5 Searching for transformers<a class=\"anchor\" id=\"section_2_5\"></a>"
   ]
  },
  {
   "cell_type": "markdown",
   "metadata": {},
   "source": [
    "As with all `sktime` objects, we can use the `registry.all_estimators` utility to display all transformers in `sktime`.\n",
    "\n",
    "The relevant scitypes are:\n",
    "* `\"transformer\"` for all transformers (as in Section 2.2)\n",
    "* `\"transformer-pairwise\"` for all pairwise transformers on tabular data (as in Section 2.4)\n",
    "* `\"transformer-panel\"` for all pairwise transformers on panel data (as in Section 2.3)\n",
    "\n",
    "To filter transformers (`\"transformer\"` scitype) further by input and output, use tags, most importantly:\n",
    "* `\"scitype:transform-output\"` - the output scitype that the transform produces. `Series` for time series, `Primitives` for primitive features (float, categories).\n",
    "* `\"scitype:instancewise\"` - whether transform uses all samples or acts by instance. If `True`, this is simply a vectorized operation per series. If `False`, then fitting on a single series does not have the same result as fitting on multiple.\n",
    "\n",
    "These and further tags will be explained in more detail in Section 2."
   ]
  },
  {
   "cell_type": "code",
   "execution_count": null,
   "metadata": {},
   "outputs": [],
   "source": [
    "from sktime.registry import all_estimators"
   ]
  },
  {
   "cell_type": "code",
   "execution_count": null,
   "metadata": {},
   "outputs": [],
   "source": [
    "# listing all pairwise panel transformers - distances, kernels on time series\n",
    "all_estimators(\"transformer\", as_dataframe=True)"
   ]
  },
  {
   "cell_type": "code",
   "execution_count": null,
   "metadata": {},
   "outputs": [],
   "source": [
    "# now subset to transformers that extract scalar features\n",
    "all_estimators(\n",
    "    \"transformer\",\n",
    "    as_dataframe=True,\n",
    "    filter_tags={\"scitype:transform-output\": \"Primitives\"},\n",
    ")"
   ]
  },
  {
   "cell_type": "code",
   "execution_count": null,
   "metadata": {},
   "outputs": [],
   "source": [
    "# listing all pairwise (tabular) transformers - distances, kernels on vectors/df-rows\n",
    "all_estimators(\"transformer-pairwise\", as_dataframe=True)"
   ]
  },
  {
   "cell_type": "code",
   "execution_count": null,
   "metadata": {},
   "outputs": [],
   "source": [
    "# listing all pairwise panel transformers - distances, kernels on time series\n",
    "all_estimators(\"transformer-pairwise-panel\", as_dataframe=True)"
   ]
  },
  {
   "cell_type": "markdown",
   "metadata": {},
   "source": [
    "## 3. Transformers in pipelines and composition"
   ]
  },
  {
   "cell_type": "markdown",
   "metadata": {},
   "source": [
    "work in progress. Contributions appreciated."
   ]
  },
  {
   "cell_type": "markdown",
   "metadata": {},
   "source": [
    "## 4. Extension guide - implementing your own transformer<a class=\"anchor\" id=\"chapter4\"></a>\n",
    "\n",
    "`sktime` is meant to be easily extensible, for direct contribution to `sktime` as well as for local/private extension with custom methods.\n",
    "\n",
    "To get started:\n",
    "\n",
    "* Follow the [\"implementing estimator\" developer guide](https://www.sktime.net/en/stable/developer_guide/add_estimators.html)\n",
    "* Use the [simple forecasting extension template](https://github.com/sktime/sktime/blob/main/extension_templates/transformer_simple.py) for transformers without stream, probabilistic, or hierarchical functionality\n",
    "* Use the [advanced forecasting extension template](https://github.com/sktime/sktime/blob/main/extension_templates/transformer.py) for transformers with stream, probabilistic or hierarchical functionality\n",
    "* For pairwise transformers, use the [time series pairwise transformer extension template](https://github.com/sktime/sktime/blob/main/extension_templates/dist_kern_panel.py) or the [scalar/tabular pairwise transformer extension template](https://github.com/sktime/sktime/blob/main/extension_templates/dist_kern_tab.py)\n",
    "\n",
    "1. read through the [transformer extension template](https://github.com/alan-turing-institute/sktime/blob/main/extension_templates/transformer.py) - this is a `python` file with `todo` blocks that mark the places in which changes need to be added.\n",
    "2. optionally, if you are planning any major surgeries to the interface: look at the [base class architecture](https://github.com/alan-turing-institute/sktime/blob/main/sktime/transformations/base.py) - note that \"ordinary\" extension (e.g., new algorithm) should be easily doable without this.\n",
    "3. copy the correct transformer extension template to a local folder in your own repository (local/private extension), or to a suitable location in your clone of the `sktime` or affiliated repository (if contributed extension), inside `sktime.transformations`; rename the file and update the file docstring appropriately.\n",
    "4. address the \"todo\" parts. Usually, this means: changing the name of the class, setting the tag values, specifying hyper-parameters, filling in `__init__`, `_fit`, `_transform`, and optional methods such as `_inverse_transform` or `_update` (for details see the extension template). You can add private methods as long as they do not override the default public interface. For more details, see the extension template.\n",
    "5. to test your estimator manually: import your estimator and run it in the worfklows in Section 1; then use it in the compositors in Section 3.\n",
    "6. To test your estimator automatically: call `sktime.utils.estimator_checks.check_estimator` on your estimator. You can call this on a class or object instance. Ensure you have specified test parameters in the `get_test_params` method, according to the extension template.\n",
    "\n",
    "In case of direct contribution to `sktime` or one of its affiliated packages, additionally:\n",
    "* add yourself as an author to the code, and to the `CODEOWNERS` for the new estimator file(s).\n",
    "* create a pull request that contains only the new estimators (and their inheritance tree, if it's not just one class), as well as the automated tests as described above.\n",
    "* in the pull request, describe the estimator and optimally provide a publication or other technical reference for the strategy it implements.\n",
    "* before making the pull request, ensure that you have all necessary permissions to contribute the code to a permissive license (BSD-3) open source project."
   ]
  },
  {
   "cell_type": "markdown",
   "metadata": {},
   "source": [
    "## 5. Summary<a class=\"anchor\" id=\"chapter5\"></a>\n",
    "\n",
    "* `sktime` comes with transformation algorithms (or transformers), all of which share a common interface. The interface is fully interoperable with the `scikit-learn` interface.\n",
    "\n",
    "* Transformers exist in several categories: series being transformed to series; series being transformed to primitive features (floats, categories); pairwise transformers where pairs of series or vectors are transformed to a float output, such as distance functions and kernel functions.\n",
    "\n",
    "* Transformers are typically used as components of other algorithms across learning tasks, for instance as feature extraction steps in pipelines, or as distances in a distance-based classification algorithm. Composition using `sktime` transformers is fully modular.\n",
    "\n",
    "* `sktime` provides easy-to-use extension templates for all the above."
   ]
  }
 ],
 "metadata": {
  "hide_input": false,
  "kernelspec": {
   "display_name": "Python 3.8.12 ('sktime-baseobject')",
   "language": "python",
   "name": "python3"
  },
  "language_info": {
   "codemirror_mode": {
    "name": "ipython",
    "version": 3
   },
   "file_extension": ".py",
   "mimetype": "text/x-python",
   "name": "python",
   "nbconvert_exporter": "python",
   "pygments_lexer": "ipython3",
   "version": "3.8.12"
  },
  "latex_envs": {
   "LaTeX_envs_menu_present": true,
   "autoclose": false,
   "autocomplete": true,
   "bibliofile": "biblio.bib",
   "cite_by": "apalike",
   "current_citInitial": 1,
   "eqLabelWithNumbers": true,
   "eqNumInitial": 1,
   "hotkeys": {
    "equation": "Ctrl-E",
    "itemize": "Ctrl-I"
   },
   "labels_anchors": false,
   "latex_user_defs": false,
   "report_style_numbering": false,
   "user_envs_cfg": false
  },
  "toc": {
   "base_numbering": 1,
   "nav_menu": {},
   "number_sections": true,
   "sideBar": true,
   "skip_h1_title": false,
   "title_cell": "Table of Contents",
   "title_sidebar": "Contents",
   "toc_cell": false,
   "toc_position": {},
   "toc_section_display": true,
   "toc_window_display": false
  },
  "varInspector": {
   "cols": {
    "lenName": 16,
    "lenType": 16,
    "lenVar": 40
   },
   "kernels_config": {
    "python": {
     "delete_cmd_postfix": "",
     "delete_cmd_prefix": "del ",
     "library": "var_list.py",
     "varRefreshCmd": "print(var_dic_list())"
    },
    "r": {
     "delete_cmd_postfix": ") ",
     "delete_cmd_prefix": "rm(",
     "library": "var_list.r",
     "varRefreshCmd": "cat(var_dic_list()) "
    }
   },
   "types_to_exclude": [
    "module",
    "function",
    "builtin_function_or_method",
    "instance",
    "_Feature"
   ],
   "window_display": false
  },
  "vscode": {
   "interpreter": {
    "hash": "ff39becaf9fb8fe58d1d34fc2c63ee411a5dd80719d9cd02520236b9e8461a42"
   }
  }
 },
 "nbformat": 4,
 "nbformat_minor": 4
}
