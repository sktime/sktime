{
 "cells": [
  {
   "cell_type": "markdown",
   "metadata": {},
   "source": [
    "# Benchmarking with sktime\n",
    "\n",
    "The benchmarking modules allows you to easily orchestrate benchmarking experiments in which you want to compare the performance of one or more algorithms over one or more data sets. It also provides a number of statistical tests to check if observed performance differences are statistically significant.\n",
    "\n",
    "The benchmarking modules is based on [mlaut](https://github.com/alan-turing-institute/mlaut).\n",
    "\n",
    "## Preliminaries"
   ]
  },
  {
   "cell_type": "code",
   "execution_count": 1,
   "metadata": {
    "execution": {
     "iopub.execute_input": "2021-04-09T13:57:12.800774Z",
     "iopub.status.busy": "2021-04-09T13:57:12.800145Z",
     "iopub.status.idle": "2021-04-09T13:57:13.736550Z",
     "shell.execute_reply": "2021-04-09T13:57:13.736911Z"
    },
    "pycharm": {
     "name": "#%%\n"
    }
   },
   "outputs": [],
   "source": [
    "# import required functions and classes\n",
    "import os\n",
    "import warnings\n",
    "\n",
    "from sklearn.metrics import accuracy_score\n",
    "\n",
    "from sktime.benchmarking.data import UEADataset, make_datasets\n",
    "from sktime.benchmarking.evaluation import Evaluator\n",
    "from sktime.benchmarking.metrics import PairwiseMetric\n",
    "from sktime.benchmarking.orchestration import Orchestrator\n",
    "from sktime.benchmarking.results import HDDResults\n",
    "from sktime.benchmarking.strategies import TSCStrategy\n",
    "from sktime.benchmarking.tasks import TSCTask\n",
    "from sktime.classification.interval_based import (\n",
    "    RandomIntervalSpectralEnsemble,\n",
    "    TimeSeriesForestClassifier,\n",
    ")\n",
    "from sktime.series_as_features.model_selection import PresplitFilesCV\n",
    "\n",
    "# hide warnings\n",
    "warnings.filterwarnings(\"ignore\")"
   ]
  },
  {
   "cell_type": "markdown",
   "metadata": {},
   "source": [
    "### Set up paths"
   ]
  },
  {
   "cell_type": "code",
   "execution_count": 2,
   "metadata": {
    "execution": {
     "iopub.execute_input": "2021-04-09T13:57:13.740597Z",
     "iopub.status.busy": "2021-04-09T13:57:13.740091Z",
     "iopub.status.idle": "2021-04-09T13:57:13.741755Z",
     "shell.execute_reply": "2021-04-09T13:57:13.742221Z"
    }
   },
   "outputs": [],
   "source": [
    "# set up paths to data and results folder\n",
    "import sktime\n",
    "\n",
    "DATA_PATH = os.path.join(os.path.dirname(sktime.__file__), \"datasets/data\")\n",
    "RESULTS_PATH = \"results\""
   ]
  },
  {
   "cell_type": "markdown",
   "metadata": {},
   "source": [
    "### Create pointers to datasets on hard drive\n",
    "Here we use the `UEADataset` which follows the [UEA/UCR format](http://www.timeseriesclassification.com) and some of the time series classification datasets included in sktime."
   ]
  },
  {
   "cell_type": "code",
   "execution_count": 3,
   "metadata": {
    "execution": {
     "iopub.execute_input": "2021-04-09T13:57:13.745627Z",
     "iopub.status.busy": "2021-04-09T13:57:13.745080Z",
     "iopub.status.idle": "2021-04-09T13:57:13.747037Z",
     "shell.execute_reply": "2021-04-09T13:57:13.747533Z"
    }
   },
   "outputs": [],
   "source": [
    "# Create individual pointers to dataset on the disk\n",
    "datasets = [\n",
    "    UEADataset(path=DATA_PATH, name=\"ArrowHead\"),\n",
    "    UEADataset(path=DATA_PATH, name=\"ItalyPowerDemand\"),\n",
    "]"
   ]
  },
  {
   "cell_type": "code",
   "execution_count": 4,
   "metadata": {
    "execution": {
     "iopub.execute_input": "2021-04-09T13:57:13.750377Z",
     "iopub.status.busy": "2021-04-09T13:57:13.749904Z",
     "iopub.status.idle": "2021-04-09T13:57:13.751552Z",
     "shell.execute_reply": "2021-04-09T13:57:13.752038Z"
    }
   },
   "outputs": [],
   "source": [
    "# Alternatively, we can use a helper function to create them automatically\n",
    "datasets = make_datasets(\n",
    "    path=DATA_PATH, dataset_cls=UEADataset, names=[\"ArrowHead\", \"ItalyPowerDemand\"]\n",
    ")"
   ]
  },
  {
   "cell_type": "markdown",
   "metadata": {},
   "source": [
    "### For each dataset, we also need to specify a learning task\n",
    "The learning task encapsulate all the information and instructions that define the problem we're trying to solve. In our case, we're trying to solve classification tasks and the key information we need is the name of the target variable in the data set that we're trying to predict. Here all tasks are the same because the target variable has the same name in all data sets."
   ]
  },
  {
   "cell_type": "code",
   "execution_count": 5,
   "metadata": {
    "execution": {
     "iopub.execute_input": "2021-04-09T13:57:13.755084Z",
     "iopub.status.busy": "2021-04-09T13:57:13.754630Z",
     "iopub.status.idle": "2021-04-09T13:57:13.756086Z",
     "shell.execute_reply": "2021-04-09T13:57:13.756565Z"
    }
   },
   "outputs": [],
   "source": [
    "tasks = [TSCTask(target=\"target\") for _ in range(len(datasets))]"
   ]
  },
  {
   "cell_type": "markdown",
   "metadata": {},
   "source": [
    "### Specify learning strategies\n",
    "Having set up the data sets and corresponding learning tasks, we need to define the algorithms we want to evaluate and compare."
   ]
  },
  {
   "cell_type": "code",
   "execution_count": 6,
   "metadata": {
    "execution": {
     "iopub.execute_input": "2021-04-09T13:57:13.759621Z",
     "iopub.status.busy": "2021-04-09T13:57:13.759162Z",
     "iopub.status.idle": "2021-04-09T13:57:13.760646Z",
     "shell.execute_reply": "2021-04-09T13:57:13.761135Z"
    },
    "pycharm": {
     "name": "#%%\n"
    }
   },
   "outputs": [],
   "source": [
    "# Specify learning strategies\n",
    "strategies = [\n",
    "    TSCStrategy(TimeSeriesForestClassifier(n_estimators=10), name=\"tsf\"),\n",
    "    TSCStrategy(RandomIntervalSpectralEnsemble(n_estimators=10), name=\"rise\"),\n",
    "]"
   ]
  },
  {
   "cell_type": "markdown",
   "metadata": {},
   "source": [
    "### Set up a results object\n",
    "The results object encapsulates where and how benchmarking results are stored, here we choose to output them to the hard drive."
   ]
  },
  {
   "cell_type": "code",
   "execution_count": 7,
   "metadata": {
    "execution": {
     "iopub.execute_input": "2021-04-09T13:57:13.763754Z",
     "iopub.status.busy": "2021-04-09T13:57:13.763293Z",
     "iopub.status.idle": "2021-04-09T13:57:13.766571Z",
     "shell.execute_reply": "2021-04-09T13:57:13.767092Z"
    }
   },
   "outputs": [],
   "source": [
    "# Specify results object which manages the output of the benchmarking\n",
    "results = HDDResults(path=RESULTS_PATH)"
   ]
  },
  {
   "cell_type": "markdown",
   "metadata": {},
   "source": [
    "## Run benchmarking\n",
    "Finally, we pass all specifications to the orchestrator. The orchestrator will automatically train and evaluate all algorithms on all data sets and write out the results."
   ]
  },
  {
   "cell_type": "code",
   "execution_count": 8,
   "metadata": {
    "execution": {
     "iopub.execute_input": "2021-04-09T13:57:13.773449Z",
     "iopub.status.busy": "2021-04-09T13:57:13.770564Z",
     "iopub.status.idle": "2021-04-09T13:57:22.021177Z",
     "shell.execute_reply": "2021-04-09T13:57:22.021696Z"
    }
   },
   "outputs": [],
   "source": [
    "# run orchestrator\n",
    "orchestrator = Orchestrator(\n",
    "    datasets=datasets,\n",
    "    tasks=tasks,\n",
    "    strategies=strategies,\n",
    "    cv=PresplitFilesCV(),\n",
    "    results=results,\n",
    ")\n",
    "orchestrator.fit_predict(save_fitted_strategies=False, overwrite_predictions=True)"
   ]
  },
  {
   "cell_type": "markdown",
   "metadata": {},
   "source": [
    "## Evaluate and compare results\n",
    "Having run the orchestrator, we can evaluate and compare the prediction strategies."
   ]
  },
  {
   "cell_type": "code",
   "execution_count": 9,
   "metadata": {
    "execution": {
     "iopub.execute_input": "2021-04-09T13:57:22.029271Z",
     "iopub.status.busy": "2021-04-09T13:57:22.028770Z",
     "iopub.status.idle": "2021-04-09T13:57:22.275525Z",
     "shell.execute_reply": "2021-04-09T13:57:22.276001Z"
    }
   },
   "outputs": [
    {
     "data": {
      "text/html": [
       "<div>\n",
       "<style scoped>\n",
       "    .dataframe tbody tr th:only-of-type {\n",
       "        vertical-align: middle;\n",
       "    }\n",
       "\n",
       "    .dataframe tbody tr th {\n",
       "        vertical-align: top;\n",
       "    }\n",
       "\n",
       "    .dataframe thead th {\n",
       "        text-align: right;\n",
       "    }\n",
       "</style>\n",
       "<table border=\"1\" class=\"dataframe\">\n",
       "  <thead>\n",
       "    <tr style=\"text-align: right;\">\n",
       "      <th></th>\n",
       "      <th>strategy</th>\n",
       "      <th>accuracy_mean</th>\n",
       "      <th>accuracy_stderr</th>\n",
       "    </tr>\n",
       "  </thead>\n",
       "  <tbody>\n",
       "    <tr>\n",
       "      <th>0</th>\n",
       "      <td>rise</td>\n",
       "      <td>0.850126</td>\n",
       "      <td>0.019921</td>\n",
       "    </tr>\n",
       "    <tr>\n",
       "      <th>1</th>\n",
       "      <td>tsf</td>\n",
       "      <td>0.829563</td>\n",
       "      <td>0.020512</td>\n",
       "    </tr>\n",
       "  </tbody>\n",
       "</table>\n",
       "</div>"
      ],
      "text/plain": [
       "  strategy  accuracy_mean  accuracy_stderr\n",
       "0     rise       0.850126         0.019921\n",
       "1      tsf       0.829563         0.020512"
      ]
     },
     "execution_count": 9,
     "metadata": {},
     "output_type": "execute_result"
    }
   ],
   "source": [
    "evaluator = Evaluator(results)\n",
    "metric = PairwiseMetric(func=accuracy_score, name=\"accuracy\")\n",
    "metrics_by_strategy = evaluator.evaluate(metric=metric)\n",
    "metrics_by_strategy.head()"
   ]
  },
  {
   "cell_type": "markdown",
   "metadata": {
    "pycharm": {
     "name": "#%% md\n"
    }
   },
   "source": [
    "The evaluator offers a number of additional methods for evaluating and comparing strategies, including statistical hypothesis tests and visualisation tools, for example:"
   ]
  },
  {
   "cell_type": "code",
   "execution_count": 10,
   "metadata": {
    "execution": {
     "iopub.execute_input": "2021-04-09T13:57:22.286491Z",
     "iopub.status.busy": "2021-04-09T13:57:22.285868Z",
     "iopub.status.idle": "2021-04-09T13:57:22.288064Z",
     "shell.execute_reply": "2021-04-09T13:57:22.288590Z"
    },
    "pycharm": {
     "name": "#%%\n"
    }
   },
   "outputs": [
    {
     "data": {
      "text/html": [
       "<div>\n",
       "<style scoped>\n",
       "    .dataframe tbody tr th:only-of-type {\n",
       "        vertical-align: middle;\n",
       "    }\n",
       "\n",
       "    .dataframe tbody tr th {\n",
       "        vertical-align: top;\n",
       "    }\n",
       "\n",
       "    .dataframe thead th {\n",
       "        text-align: right;\n",
       "    }\n",
       "</style>\n",
       "<table border=\"1\" class=\"dataframe\">\n",
       "  <thead>\n",
       "    <tr style=\"text-align: right;\">\n",
       "      <th></th>\n",
       "      <th>strategy</th>\n",
       "      <th>accuracy_mean_rank</th>\n",
       "    </tr>\n",
       "  </thead>\n",
       "  <tbody>\n",
       "    <tr>\n",
       "      <th>0</th>\n",
       "      <td>rise</td>\n",
       "      <td>1.5</td>\n",
       "    </tr>\n",
       "    <tr>\n",
       "      <th>1</th>\n",
       "      <td>tsf</td>\n",
       "      <td>1.5</td>\n",
       "    </tr>\n",
       "  </tbody>\n",
       "</table>\n",
       "</div>"
      ],
      "text/plain": [
       "  strategy  accuracy_mean_rank\n",
       "0     rise                 1.5\n",
       "1      tsf                 1.5"
      ]
     },
     "execution_count": 10,
     "metadata": {},
     "output_type": "execute_result"
    }
   ],
   "source": [
    "evaluator.rank()"
   ]
  },
  {
   "cell_type": "markdown",
   "metadata": {},
   "source": [
    "Currently, the following functions are implemented:\n",
    "\n",
    "* `evaluator.plot_boxplots()`\n",
    "* `evaluator.ranks()`\n",
    "* `evaluator.t_test()`\n",
    "* `evaluator.sign_test()`\n",
    "* `evaluator.ranksum_test()`\n",
    "* `evaluator.t_test_with_bonferroni_correction()`\n",
    "* `evaluator.wilcoxon_test()`\n",
    "* `evaluator.friedman_test()`\n",
    "* `evaluator.nemenyi()`"
   ]
  }
 ],
 "metadata": {
  "kernelspec": {
   "display_name": "Python 3.7.11 ('sktime37')",
   "language": "python",
   "name": "python3"
  },
  "language_info": {
   "codemirror_mode": {
    "name": "ipython",
    "version": 3
   },
   "file_extension": ".py",
   "mimetype": "text/x-python",
   "name": "python",
   "nbconvert_exporter": "python",
   "pygments_lexer": "ipython3",
   "version": "3.7.11"
  },
  "vscode": {
   "interpreter": {
    "hash": "cb6287e4e3b26a4dcfcac85940452e8817d1be7d6015acaeb8af47f9065ee767"
   }
  }
 },
 "nbformat": 4,
 "nbformat_minor": 4
}
