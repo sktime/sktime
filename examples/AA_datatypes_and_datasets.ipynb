{
 "cells": [
  {
   "attachments": {},
   "cell_type": "markdown",
   "metadata": {},
   "source": [
    "**Abstract:** this notebook give an introduction to `sktime` in-memory data containers and data sets, with associated functionality such as in-memory format validation, conversion, and data set loading.\n",
    "\n",
    "**Set-up instructions:** on binder, this notebook should run out-of-the-box.\n",
    "\n",
    "To run this notebook as intended, ensure that `sktime` with basic dependency requirements is installed in your python environment.\n",
    "\n",
    "To run this notebook with a local development version of sktime, either uncomment and run the below, or `pip install -e` a local clone of the `sktime` `main` branch."
   ]
  },
  {
   "cell_type": "code",
   "execution_count": 1,
   "metadata": {},
   "outputs": [],
   "source": [
    "# from os import sys\n",
    "# sys.path.append(\"..\")"
   ]
  },
  {
   "attachments": {},
   "cell_type": "markdown",
   "metadata": {},
   "source": [
    "# In-memory data representations and data loading\n",
    "\n",
    "`sktime` provides modules for a number of time series related learning tasks.\n",
    "\n",
    "These modules use `sktime` specific in-memory (i.e., python workspace) representations for time series and related objects, most importantly individual time series and time series panels. `sktime`'s in-memory representations rely on `pandas` and `numpy`, with additional conventions on the `pandas` and `numpy` object.\n",
    "\n",
    "Users of `sktime` should be aware of these representations, since presenting the data in an `sktime` compatible representation is usually the first step in using any of the `sktime` modules.\n",
    "\n",
    "This notebook introduces the data types used in `sktime`, related functionality such as converters and validity checkers, and common workflows for loading and conversion:\n",
    "\n",
    "**Section 1** introduces in-memory data container formats used in `sktime`, with examples.\n",
    "\n",
    "**Section 2** introduces validity checkers and conversion functionality for in-memory data containers.\n",
    "\n",
    "**Section 3** introduces common workflows to load predefined benchmark datasets.\n",
    "\n",
    "**Section 4** showcases common workflows to load from tabular `csv`  formats."
   ]
  },
  {
   "attachments": {},
   "cell_type": "markdown",
   "metadata": {},
   "source": [
    "## Section 1: in-memory data containers\n",
    "\n",
    "This section provides a reference to data containers used for time series and related objets in `sktime`.\n",
    "\n",
    "Conceptually, `sktime` distinguishes:\n",
    "\n",
    "* the *data scientific abstract data type* - or short: **scitype** - of a data container, defined by relational and statistical properties of the data being represented and common operations on it - for instance, an abstract \"time series\" or an abstract \"time series panel\", without specifying a particular machine implementation in python\n",
    "* the *machine implementation type* - or short: **mtype** - of a data container, which, for a defined *scitype*, specifies the python type and conventions on structure and value of the python in-memory object. For instance, a concrete (mathematical) time series is represented by a concrete `pandas.DataFrame` in `sktime`, subject to certain conventions on the `pandas.DataFrame`. Formally, these conventions form a specific mtype, i.e., a way to represent the (abstract) \"time series\" scitype.\n",
    "\n",
    "In `sktime`, the same scitype can be implemented by multiple mtypes. For instance, `sktime` allows the user to specify time series as `pandas.DataFrame`, as `pandas.Series`, or as a `numpy.ndarray`. These are different mtypes which are admissible representations of the same scitype, \"time series\". Also, not all mtypes are equally rich in metadata - for instance, `pandas.DataFrame` can store column names, while this is not possible in `numpy.ndarray`.\n",
    "\n",
    "Scitypes and mtypes are encoded by strings in `sktime`, for easy reference.\n",
    "\n",
    "This section introduces the mtypes for the following scitypes:\n",
    "* `\"Series\"`, the `sktime` scitype for time series of any kind\n",
    "* `\"Panel\"`, the `sktime` scitype for time series panels of any kind\n",
    "* `\"Hierarchical\"`, the `sktime` scitype for hierarchical time series"
   ]
  },
  {
   "attachments": {},
   "cell_type": "markdown",
   "metadata": {},
   "source": [
    "### Section 1.1: Time series - the `\"Series\"` scitype\n",
    "\n",
    "The major representations of time series in `sktime` are:\n",
    "\n",
    "* `\"pd.DataFrame\"` - a uni- or multivariate `pandas.DataFrame`, with rows = time points, cols = variables\n",
    "* `\"pd.Series\"` - a (univariate) `pandas.Series`, with entries corresponding to different time points\n",
    "* `\"np.ndarray\"` - a 2D `numpy.ndarray`, with rows = time points, cols = variables\n",
    "\n",
    "`pandas` objects must have one of the following `pandas` index types:\n",
    "`Int64Index`, `RangeIndex`, `DatetimeIndex`, `PeriodIndex`; if `DatetimeIndex`, the `freq` attribute must be set.\n",
    "\n",
    "`numpy.ndarray` 2D arrays are interpreted as having an `RangeIndex` on the rows, and generally equivalent to the `pandas.DataFrame` obtained after default coercion using the `pandas.DataFrame` constructor.\n"
   ]
  },
  {
   "cell_type": "code",
   "execution_count": 2,
   "metadata": {},
   "outputs": [],
   "source": [
    "# import to retrieve examples\n",
    "from sktime.datatypes import get_examples"
   ]
  },
  {
   "attachments": {},
   "cell_type": "markdown",
   "metadata": {},
   "source": [
    "### Section 1.1.1: Time series - the `\"pd.DataFrame\"` mtype\n",
    "\n",
    "In the `\"pd.DataFrame\"` mtype, time series are represented by an in-memory container `obj: pandas.DataFrame` as follows.\n",
    "\n",
    "* structure convention: `obj.index` must be monotonous, and one of `Int64Index`, `RangeIndex`, `DatetimeIndex`, `PeriodIndex`.\n",
    "* variables: columns of `obj` correspond to different variables\n",
    "* variable names: column names `obj.columns`\n",
    "* time points: rows of `obj` correspond to different, distinct time points\n",
    "* time index: `obj.index` is interpreted as a time index.\n",
    "* capabilities: can represent multivariate series; can represent unequally spaced series"
   ]
  },
  {
   "attachments": {},
   "cell_type": "markdown",
   "metadata": {},
   "source": [
    "Example of a univariate series in `\"pd.DataFrame\"` representation.\n",
    "The single variable has name `\"a\"`, and is observed at four time points 0, 1, 2, 3."
   ]
  },
  {
   "cell_type": "code",
   "execution_count": 3,
   "metadata": {},
   "outputs": [
    {
     "data": {
      "text/html": [
       "<div>\n",
       "<style scoped>\n",
       "    .dataframe tbody tr th:only-of-type {\n",
       "        vertical-align: middle;\n",
       "    }\n",
       "\n",
       "    .dataframe tbody tr th {\n",
       "        vertical-align: top;\n",
       "    }\n",
       "\n",
       "    .dataframe thead th {\n",
       "        text-align: right;\n",
       "    }\n",
       "</style>\n",
       "<table border=\"1\" class=\"dataframe\">\n",
       "  <thead>\n",
       "    <tr style=\"text-align: right;\">\n",
       "      <th></th>\n",
       "      <th>a</th>\n",
       "    </tr>\n",
       "  </thead>\n",
       "  <tbody>\n",
       "    <tr>\n",
       "      <th>0</th>\n",
       "      <td>1.0</td>\n",
       "    </tr>\n",
       "    <tr>\n",
       "      <th>1</th>\n",
       "      <td>4.0</td>\n",
       "    </tr>\n",
       "    <tr>\n",
       "      <th>2</th>\n",
       "      <td>0.5</td>\n",
       "    </tr>\n",
       "    <tr>\n",
       "      <th>3</th>\n",
       "      <td>-3.0</td>\n",
       "    </tr>\n",
       "  </tbody>\n",
       "</table>\n",
       "</div>"
      ],
      "text/plain": [
       "     a\n",
       "0  1.0\n",
       "1  4.0\n",
       "2  0.5\n",
       "3 -3.0"
      ]
     },
     "execution_count": 3,
     "metadata": {},
     "output_type": "execute_result"
    }
   ],
   "source": [
    "get_examples(mtype=\"pd.DataFrame\", as_scitype=\"Series\")[0]"
   ]
  },
  {
   "attachments": {},
   "cell_type": "markdown",
   "metadata": {},
   "source": [
    "Example of a bivariate series in `\"pd.DataFrame\"` representation.\n",
    "This series has two variables, named `\"a\"` and `\"b\"`. Both are observed at the same four time points 0, 1, 2, 3."
   ]
  },
  {
   "cell_type": "code",
   "execution_count": 4,
   "metadata": {},
   "outputs": [
    {
     "data": {
      "text/html": [
       "<div>\n",
       "<style scoped>\n",
       "    .dataframe tbody tr th:only-of-type {\n",
       "        vertical-align: middle;\n",
       "    }\n",
       "\n",
       "    .dataframe tbody tr th {\n",
       "        vertical-align: top;\n",
       "    }\n",
       "\n",
       "    .dataframe thead th {\n",
       "        text-align: right;\n",
       "    }\n",
       "</style>\n",
       "<table border=\"1\" class=\"dataframe\">\n",
       "  <thead>\n",
       "    <tr style=\"text-align: right;\">\n",
       "      <th></th>\n",
       "      <th>a</th>\n",
       "      <th>b</th>\n",
       "    </tr>\n",
       "  </thead>\n",
       "  <tbody>\n",
       "    <tr>\n",
       "      <th>0</th>\n",
       "      <td>1.0</td>\n",
       "      <td>3.000000</td>\n",
       "    </tr>\n",
       "    <tr>\n",
       "      <th>1</th>\n",
       "      <td>4.0</td>\n",
       "      <td>7.000000</td>\n",
       "    </tr>\n",
       "    <tr>\n",
       "      <th>2</th>\n",
       "      <td>0.5</td>\n",
       "      <td>2.000000</td>\n",
       "    </tr>\n",
       "    <tr>\n",
       "      <th>3</th>\n",
       "      <td>-3.0</td>\n",
       "      <td>-0.428571</td>\n",
       "    </tr>\n",
       "  </tbody>\n",
       "</table>\n",
       "</div>"
      ],
      "text/plain": [
       "     a         b\n",
       "0  1.0  3.000000\n",
       "1  4.0  7.000000\n",
       "2  0.5  2.000000\n",
       "3 -3.0 -0.428571"
      ]
     },
     "execution_count": 4,
     "metadata": {},
     "output_type": "execute_result"
    }
   ],
   "source": [
    "get_examples(mtype=\"pd.DataFrame\", as_scitype=\"Series\")[1]"
   ]
  },
  {
   "attachments": {},
   "cell_type": "markdown",
   "metadata": {},
   "source": [
    "### Section 1.1.2: Time series - the `\"pd.Series\"` mtype\n",
    "\n",
    "In the `\"pd.Series\"` mtype, time series are represented by an in-memory container `obj: pandas.Series` as follows.\n",
    "\n",
    "* structure convention: `obj.index` must be monotonous, and one of `Int64Index`, `RangeIndex`, `DatetimeIndex`, `PeriodIndex`.\n",
    "* variables: there is a single variable, corresponding to the values of `obj`. Only univariate series can be represented.\n",
    "* variable names: by default, there is no column name. If needed, a variable name can be provided as `obj.name`.\n",
    "* time points: entries of `obj` correspond to different, distinct time points\n",
    "* time index: `obj.index` is interpreted as a time index.\n",
    "* capabilities: cannot represent multivariate series; can represent unequally spaced series"
   ]
  },
  {
   "attachments": {},
   "cell_type": "markdown",
   "metadata": {},
   "source": [
    "Example of a univariate series in `\"pd.Series\"` mtype representation.\n",
    "The single variable has name `\"a\"`, and is observed at four time points 0, 1, 2, 3."
   ]
  },
  {
   "cell_type": "code",
   "execution_count": 5,
   "metadata": {},
   "outputs": [
    {
     "data": {
      "text/plain": [
       "0    1.0\n",
       "1    4.0\n",
       "2    0.5\n",
       "3   -3.0\n",
       "Name: a, dtype: float64"
      ]
     },
     "execution_count": 5,
     "metadata": {},
     "output_type": "execute_result"
    }
   ],
   "source": [
    "get_examples(mtype=\"pd.Series\", as_scitype=\"Series\")[0]"
   ]
  },
  {
   "attachments": {},
   "cell_type": "markdown",
   "metadata": {},
   "source": [
    "### Section 1.1.3: Time series - the `\"np.ndarray\"` mtype\n",
    "\n",
    "In the `\"np.ndarray\"` mtype, time series are represented by an in-memory container `obj: np.ndarray` as follows.\n",
    "\n",
    "* structure convention: `obj` must be 2D, i.e., `obj.shape` must have length 2. This is also true for univariate time series.\n",
    "* variables: variables correspond to columns of `obj`.\n",
    "* variable names: the `\"np.ndarray\"` mtype cannot represent variable names.\n",
    "* time points: the rows of `obj` correspond to different, distinct time points. \n",
    "* time index: The time index is implicit and by-convention. The `i`-th row (for an integer `i`) is interpreted as an observation at the time point `i`.\n",
    "* capabilities: cannot represent multivariate series; cannot represent unequally spaced series"
   ]
  },
  {
   "attachments": {},
   "cell_type": "markdown",
   "metadata": {},
   "source": [
    "Example of a univariate series in `\"np.ndarray\"` mtype representation.\n",
    "There is a single (unnamed) variable, it is observed at four time points 0, 1, 2, 3."
   ]
  },
  {
   "cell_type": "code",
   "execution_count": 6,
   "metadata": {},
   "outputs": [
    {
     "data": {
      "text/plain": [
       "array([[ 1. ],\n",
       "       [ 4. ],\n",
       "       [ 0.5],\n",
       "       [-3. ]])"
      ]
     },
     "execution_count": 6,
     "metadata": {},
     "output_type": "execute_result"
    }
   ],
   "source": [
    "get_examples(mtype=\"np.ndarray\", as_scitype=\"Series\")[0]"
   ]
  },
  {
   "attachments": {},
   "cell_type": "markdown",
   "metadata": {},
   "source": [
    "Example of a bivariate series in `\"np.ndarray\"` mtype representation.\n",
    "There are two (unnamed) variables, they are both observed at four time points 0, 1, 2, 3."
   ]
  },
  {
   "cell_type": "code",
   "execution_count": 7,
   "metadata": {},
   "outputs": [
    {
     "data": {
      "text/plain": [
       "array([[ 1.        ,  3.        ],\n",
       "       [ 4.        ,  7.        ],\n",
       "       [ 0.5       ,  2.        ],\n",
       "       [-3.        , -0.42857143]])"
      ]
     },
     "execution_count": 7,
     "metadata": {},
     "output_type": "execute_result"
    }
   ],
   "source": [
    "get_examples(mtype=\"np.ndarray\", as_scitype=\"Series\")[1]"
   ]
  },
  {
   "attachments": {},
   "cell_type": "markdown",
   "metadata": {},
   "source": [
    "### Section 1.2: Time series panels - the `\"Panel\"` scitype\n",
    "\n",
    "The major representations of time series panels in `sktime` are:\n",
    "\n",
    "* `\"pd-multiindex\"` - a `pandas.DataFrame`, with row multi-index (instances, time), cols = variables\n",
    "* `\"numpy3D\"` - a 3D `np.ndarray`, with axis 0 = instances, axis 1 = variables, axis 2 = time points\n",
    "* `\"df-list\"` - a `list` of `pandas.DataFrame`, with list index = instances, data frame rows = time points, data frame cols = variables\n",
    "\n",
    "These representations are considered primary representations in `sktime` and are core to internal computations.\n",
    "\n",
    "There are further, minor representations of time series panels in `sktime`:\n",
    "\n",
    "* `\"nested_univ\"` - a `pandas.DataFrame`, with `pandas.Series` in cells. data frame rows = instances, data frame cols = variables, and series axis = time points\n",
    "* `\"numpyflat\"` - a 2D `np.ndarray` with rows = instances, and columns indexed by a pair index of (variables, time points). This format is only being converted to and cannot be converted from (since number of variables and time points may be ambiguous).\n",
    "* `\"pd-wide\"` - a `pandas.DataFrame` in wide format: has column multi-index (variables, time points), rows = instances; the \"variables\" index can be omitted for univariate time series\n",
    "* `\"pd-long\"` - a `pandas.DataFrame` in long format: has cols `instances`, `timepoints`, `variable`, `value`; entries in `value` are indexed by tuples of values in (`instances`, `timepoints`, `variable`).\n",
    "\n",
    "The minor representations are currently not fully consolidated in-code and are not discussed further below. Contributions are appreciated."
   ]
  },
  {
   "attachments": {},
   "cell_type": "markdown",
   "metadata": {},
   "source": [
    "### Section 1.2.1: Time series panels - the `\"pd-multiindex\"` mtype\n",
    "\n",
    "In the `\"pd-multiindex\"` mtype, time series panels are represented by an in-memory container `obj: pandas.DataFrame` as follows.\n",
    "\n",
    "* structure convention: `obj.index` must be a pair multi-index of type `(Index, t)`, where `t` is one of `Int64Index`, `RangeIndex`, `DatetimeIndex`, `PeriodIndex` and monotonous. `obj.index` must have two levels (can be named or not).\n",
    "* instance index: the first element of pairs in `obj.index` (0-th level value) is interpreted as an instance index, we call it \"instance index\" below.\n",
    "* instances: rows with the same \"instance index\" index value correspond to the same instance; rows with different \"instance index\" values correspond to different instances. \n",
    "* time index: the second element of pairs in `obj.index` (1-st level value) is interpreted as a time index, we call it \"time index\" below. \n",
    "* time points: rows of `obj` with the same \"time index\" value correspond correspond to the same time point; rows of `obj` with different \"time index\" index correspond correspond to the different time points.\n",
    "* variables: columns of `obj` correspond to different variables\n",
    "* variable names: column names `obj.columns`\n",
    "* capabilities: can represent panels of multivariate series; can represent unequally spaced series; can represent panels of unequally supported series; cannot represent panels of series with different sets of variables."
   ]
  },
  {
   "attachments": {},
   "cell_type": "markdown",
   "metadata": {},
   "source": [
    "Example of a panel of multivariate series in `\"pd-multiindex\"` mtype representation.\n",
    "The panel contains three multivariate series, with instance indices 0, 1, 2. All series have two variables with names `\"var_0\"`, `\"var_1\"`. All series are observed at three time points 0, 1, 2."
   ]
  },
  {
   "cell_type": "code",
   "execution_count": 8,
   "metadata": {},
   "outputs": [
    {
     "data": {
      "text/html": [
       "<div>\n",
       "<style scoped>\n",
       "    .dataframe tbody tr th:only-of-type {\n",
       "        vertical-align: middle;\n",
       "    }\n",
       "\n",
       "    .dataframe tbody tr th {\n",
       "        vertical-align: top;\n",
       "    }\n",
       "\n",
       "    .dataframe thead th {\n",
       "        text-align: right;\n",
       "    }\n",
       "</style>\n",
       "<table border=\"1\" class=\"dataframe\">\n",
       "  <thead>\n",
       "    <tr style=\"text-align: right;\">\n",
       "      <th></th>\n",
       "      <th></th>\n",
       "      <th>var_0</th>\n",
       "      <th>var_1</th>\n",
       "    </tr>\n",
       "    <tr>\n",
       "      <th>instances</th>\n",
       "      <th>timepoints</th>\n",
       "      <th></th>\n",
       "      <th></th>\n",
       "    </tr>\n",
       "  </thead>\n",
       "  <tbody>\n",
       "    <tr>\n",
       "      <th rowspan=\"3\" valign=\"top\">0</th>\n",
       "      <th>0</th>\n",
       "      <td>1</td>\n",
       "      <td>4</td>\n",
       "    </tr>\n",
       "    <tr>\n",
       "      <th>1</th>\n",
       "      <td>2</td>\n",
       "      <td>5</td>\n",
       "    </tr>\n",
       "    <tr>\n",
       "      <th>2</th>\n",
       "      <td>3</td>\n",
       "      <td>6</td>\n",
       "    </tr>\n",
       "    <tr>\n",
       "      <th rowspan=\"3\" valign=\"top\">1</th>\n",
       "      <th>0</th>\n",
       "      <td>1</td>\n",
       "      <td>4</td>\n",
       "    </tr>\n",
       "    <tr>\n",
       "      <th>1</th>\n",
       "      <td>2</td>\n",
       "      <td>55</td>\n",
       "    </tr>\n",
       "    <tr>\n",
       "      <th>2</th>\n",
       "      <td>3</td>\n",
       "      <td>6</td>\n",
       "    </tr>\n",
       "    <tr>\n",
       "      <th rowspan=\"3\" valign=\"top\">2</th>\n",
       "      <th>0</th>\n",
       "      <td>1</td>\n",
       "      <td>42</td>\n",
       "    </tr>\n",
       "    <tr>\n",
       "      <th>1</th>\n",
       "      <td>2</td>\n",
       "      <td>5</td>\n",
       "    </tr>\n",
       "    <tr>\n",
       "      <th>2</th>\n",
       "      <td>3</td>\n",
       "      <td>6</td>\n",
       "    </tr>\n",
       "  </tbody>\n",
       "</table>\n",
       "</div>"
      ],
      "text/plain": [
       "                      var_0  var_1\n",
       "instances timepoints              \n",
       "0         0               1      4\n",
       "          1               2      5\n",
       "          2               3      6\n",
       "1         0               1      4\n",
       "          1               2     55\n",
       "          2               3      6\n",
       "2         0               1     42\n",
       "          1               2      5\n",
       "          2               3      6"
      ]
     },
     "execution_count": 8,
     "metadata": {},
     "output_type": "execute_result"
    }
   ],
   "source": [
    "get_examples(mtype=\"pd-multiindex\", as_scitype=\"Panel\")[0]"
   ]
  },
  {
   "attachments": {},
   "cell_type": "markdown",
   "metadata": {},
   "source": [
    "### Section 1.2.2: Time series panels - the `\"numpy3D\"` mtype\n",
    "\n",
    "In the `\"numpy3D\"` mtype, time series panels are represented by an in-memory container `obj: np.ndarray` as follows.\n",
    "\n",
    "* structure convention: `obj` must be 3D, i.e., `obj.shape` must have length 3.\n",
    "* instances: instances correspond to axis 0 elements of `obj`.\n",
    "* instance index: the instance index is implicit and by-convention. The `i`-th element of axis 0 (for an integer `i`) is interpreted as indicative of observing instance `i`. \n",
    "* variables: variables correspond to axis 1 elements of `obj`.\n",
    "* variable names: the `\"numpy3D\"` mtype cannot represent variable names.\n",
    "* time points: time points correspond to axis 2 elements of `obj`.\n",
    "* time index: the time index is implicit and by-convention. The `i`-th elemtn of axis 2 (for an integer `i`) is interpreted as an observation at the time point `i`.\n",
    "* capabilities: can represent panels of multivariate series; cannot represent unequally spaced series; cannot represent panels of unequally supported series; cannot represent panels of series with different sets of variables."
   ]
  },
  {
   "attachments": {},
   "cell_type": "markdown",
   "metadata": {},
   "source": [
    "Example of a panel of multivariate series in `\"numpy3D\"` mtype representation.\n",
    "The panel contains three multivariate series, with instance indices 0, 1, 2. All series have two variables (unnamed). All series are observed at three time points 0, 1, 2."
   ]
  },
  {
   "cell_type": "code",
   "execution_count": 9,
   "metadata": {},
   "outputs": [
    {
     "data": {
      "text/plain": [
       "array([[[ 1,  2,  3],\n",
       "        [ 4,  5,  6]],\n",
       "\n",
       "       [[ 1,  2,  3],\n",
       "        [ 4, 55,  6]],\n",
       "\n",
       "       [[ 1,  2,  3],\n",
       "        [42,  5,  6]]], dtype=int64)"
      ]
     },
     "execution_count": 9,
     "metadata": {},
     "output_type": "execute_result"
    }
   ],
   "source": [
    "get_examples(mtype=\"numpy3D\", as_scitype=\"Panel\")[0]"
   ]
  },
  {
   "attachments": {},
   "cell_type": "markdown",
   "metadata": {},
   "source": [
    "### Section 1.2.3: Time series panels - the `\"df-list\"` mtype\n",
    "\n",
    "In the `\"df-list\"` mtype, time series panels are represented by an in-memory container `obj: List[pandas.DataFrame]` as follows.\n",
    "\n",
    "* structure convention: `obj` must be a list of `pandas.DataFrames`. Individual list elements of `obj` must follow the `\"pd.DataFrame\"` mtype convention for the `\"Series\"` scitype.\n",
    "* instances: instances correspond to different list elements of `obj`.\n",
    "* instance index: the instance index of an instance is the list index at which it is located in `obj`. That is, the data at `obj[i]` correspond to observations of the instance with index `i`.\n",
    "* time points: rows of `obj[i]` correspond to different, distinct time points, at which instance `i` is observed.\n",
    "* time index: `obj[i].index` is interpreted as the time index for instance `i`.\n",
    "* variables: columns of `obj[i]` correspond to different variables available for instance `i`.\n",
    "* variable names: column names `obj[i].columns` are the names of variables available for instance `i`.\n",
    "* capabilities: can represent panels of multivariate series; can represent unequally spaced series; can represent panels of unequally supported series; can represent panels of series with different sets of variables."
   ]
  },
  {
   "attachments": {},
   "cell_type": "markdown",
   "metadata": {},
   "source": [
    "Example of a panel of multivariate series in `\"df-list\"` mtype representation.\n",
    "The panel contains three multivariate series, with instance indices 0, 1, 2. All series have two variables with names `\"var_0\"`, `\"var_1\"`. All series are observed at three time points 0, 1, 2."
   ]
  },
  {
   "cell_type": "code",
   "execution_count": 10,
   "metadata": {},
   "outputs": [
    {
     "data": {
      "text/plain": [
       "[   var_0  var_1\n",
       " 0      1      4\n",
       " 1      2      5\n",
       " 2      3      6,\n",
       "    var_0  var_1\n",
       " 0      1      4\n",
       " 1      2     55\n",
       " 2      3      6,\n",
       "    var_0  var_1\n",
       " 0      1     42\n",
       " 1      2      5\n",
       " 2      3      6]"
      ]
     },
     "execution_count": 10,
     "metadata": {},
     "output_type": "execute_result"
    }
   ],
   "source": [
    "get_examples(mtype=\"df-list\", as_scitype=\"Panel\")[0]"
   ]
  },
  {
   "attachments": {},
   "cell_type": "markdown",
   "metadata": {},
   "source": [
    "### Section 1.3: Hierarchical time series - the `\"Hierarchical\"` scitype\n",
    "\n",
    "There is currently only one representation for hierarchical time series in `sktime`:\n",
    "\n",
    "* `\"pd_multiindex_hier\"` - a `pandas.DataFrame`, with row multi-index, last level interpreted as time, others as hierarchy, cols = variables"
   ]
  },
  {
   "attachments": {},
   "cell_type": "markdown",
   "metadata": {},
   "source": [
    "#### Hierarchical time series - the `\"pd_multiindex_hier\"` mtype\n",
    "\n",
    "* structure convention: `obj.index` must be a 3 or more level multi-index of type `(Index, ..., Index, t)`, where `t` is one of `Int64Index`, `RangeIndex`, `DatetimeIndex`, `PeriodIndex` and monotonous. We call the last index the \"time-like\" index.\n",
    "* hierarchy level: rows with the same non-time-like index values correspond to the same hierarchy unit; rows with different non-time-like index combination correspond to different hierarchy unit.\n",
    "* hierarchy: the non-time-like indices in `obj.index` are interpreted as a hierarchy identifying index. \n",
    "* time index: the last element of tuples in `obj.index` is interpreted as a time index. \n",
    "* time points: rows of `obj` with the same `\"timepoints\"` index correspond correspond to the same time point; rows of `obj` with different `\"timepoints\"` index correspond correspond to the different time points.\n",
    "* variables: columns of `obj` correspond to different variables\n",
    "* variable names: column names `obj.columns`\n",
    "* capabilities: can represent hierarchical series; can represent unequally spaced series; can represent unequally supported hierarchical series; cannot represent hierarchical series with different sets of variables."
   ]
  },
  {
   "cell_type": "code",
   "execution_count": 11,
   "metadata": {},
   "outputs": [
    {
     "data": {
      "text/html": [
       "<div>\n",
       "<style scoped>\n",
       "    .dataframe tbody tr th:only-of-type {\n",
       "        vertical-align: middle;\n",
       "    }\n",
       "\n",
       "    .dataframe tbody tr th {\n",
       "        vertical-align: top;\n",
       "    }\n",
       "\n",
       "    .dataframe thead th {\n",
       "        text-align: right;\n",
       "    }\n",
       "</style>\n",
       "<table border=\"1\" class=\"dataframe\">\n",
       "  <thead>\n",
       "    <tr style=\"text-align: right;\">\n",
       "      <th></th>\n",
       "      <th></th>\n",
       "      <th></th>\n",
       "      <th>var_0</th>\n",
       "      <th>var_1</th>\n",
       "    </tr>\n",
       "    <tr>\n",
       "      <th>foo</th>\n",
       "      <th>bar</th>\n",
       "      <th>timepoints</th>\n",
       "      <th></th>\n",
       "      <th></th>\n",
       "    </tr>\n",
       "  </thead>\n",
       "  <tbody>\n",
       "    <tr>\n",
       "      <th rowspan=\"9\" valign=\"top\">a</th>\n",
       "      <th rowspan=\"3\" valign=\"top\">0</th>\n",
       "      <th>0</th>\n",
       "      <td>1</td>\n",
       "      <td>4</td>\n",
       "    </tr>\n",
       "    <tr>\n",
       "      <th>1</th>\n",
       "      <td>2</td>\n",
       "      <td>5</td>\n",
       "    </tr>\n",
       "    <tr>\n",
       "      <th>2</th>\n",
       "      <td>3</td>\n",
       "      <td>6</td>\n",
       "    </tr>\n",
       "    <tr>\n",
       "      <th rowspan=\"3\" valign=\"top\">1</th>\n",
       "      <th>0</th>\n",
       "      <td>1</td>\n",
       "      <td>4</td>\n",
       "    </tr>\n",
       "    <tr>\n",
       "      <th>1</th>\n",
       "      <td>2</td>\n",
       "      <td>55</td>\n",
       "    </tr>\n",
       "    <tr>\n",
       "      <th>2</th>\n",
       "      <td>3</td>\n",
       "      <td>6</td>\n",
       "    </tr>\n",
       "    <tr>\n",
       "      <th rowspan=\"3\" valign=\"top\">2</th>\n",
       "      <th>0</th>\n",
       "      <td>1</td>\n",
       "      <td>42</td>\n",
       "    </tr>\n",
       "    <tr>\n",
       "      <th>1</th>\n",
       "      <td>2</td>\n",
       "      <td>5</td>\n",
       "    </tr>\n",
       "    <tr>\n",
       "      <th>2</th>\n",
       "      <td>3</td>\n",
       "      <td>6</td>\n",
       "    </tr>\n",
       "    <tr>\n",
       "      <th rowspan=\"9\" valign=\"top\">b</th>\n",
       "      <th rowspan=\"3\" valign=\"top\">0</th>\n",
       "      <th>0</th>\n",
       "      <td>1</td>\n",
       "      <td>4</td>\n",
       "    </tr>\n",
       "    <tr>\n",
       "      <th>1</th>\n",
       "      <td>2</td>\n",
       "      <td>5</td>\n",
       "    </tr>\n",
       "    <tr>\n",
       "      <th>2</th>\n",
       "      <td>3</td>\n",
       "      <td>6</td>\n",
       "    </tr>\n",
       "    <tr>\n",
       "      <th rowspan=\"3\" valign=\"top\">1</th>\n",
       "      <th>0</th>\n",
       "      <td>1</td>\n",
       "      <td>4</td>\n",
       "    </tr>\n",
       "    <tr>\n",
       "      <th>1</th>\n",
       "      <td>2</td>\n",
       "      <td>55</td>\n",
       "    </tr>\n",
       "    <tr>\n",
       "      <th>2</th>\n",
       "      <td>3</td>\n",
       "      <td>6</td>\n",
       "    </tr>\n",
       "    <tr>\n",
       "      <th rowspan=\"3\" valign=\"top\">2</th>\n",
       "      <th>0</th>\n",
       "      <td>1</td>\n",
       "      <td>42</td>\n",
       "    </tr>\n",
       "    <tr>\n",
       "      <th>1</th>\n",
       "      <td>2</td>\n",
       "      <td>5</td>\n",
       "    </tr>\n",
       "    <tr>\n",
       "      <th>2</th>\n",
       "      <td>3</td>\n",
       "      <td>6</td>\n",
       "    </tr>\n",
       "  </tbody>\n",
       "</table>\n",
       "</div>"
      ],
      "text/plain": [
       "                    var_0  var_1\n",
       "foo bar timepoints              \n",
       "a   0   0               1      4\n",
       "        1               2      5\n",
       "        2               3      6\n",
       "    1   0               1      4\n",
       "        1               2     55\n",
       "        2               3      6\n",
       "    2   0               1     42\n",
       "        1               2      5\n",
       "        2               3      6\n",
       "b   0   0               1      4\n",
       "        1               2      5\n",
       "        2               3      6\n",
       "    1   0               1      4\n",
       "        1               2     55\n",
       "        2               3      6\n",
       "    2   0               1     42\n",
       "        1               2      5\n",
       "        2               3      6"
      ]
     },
     "execution_count": 11,
     "metadata": {},
     "output_type": "execute_result"
    }
   ],
   "source": [
    "get_examples(mtype=\"pd_multiindex_hier\", as_scitype=\"Hierarchical\")[0]"
   ]
  },
  {
   "attachments": {},
   "cell_type": "markdown",
   "metadata": {},
   "source": [
    "## Section 2: validity checking and mtype conversion\n",
    "\n",
    "`sktime`'s `datatypes` module provides users with generic functionality for:\n",
    "\n",
    "* checking in-memory containers against mtype conventions, with informative error messages that help moving data to the right format\n",
    "* converting different mtypes to each other, for a given scitype\n",
    "\n",
    "In this section, this functionality and intended usage worfklows are presented."
   ]
  },
  {
   "attachments": {},
   "cell_type": "markdown",
   "metadata": {},
   "source": [
    "### Section 2.1: Preparing data, checking in-memory containers for validity\n",
    "\n",
    "`sktime`'s `datatypes` module provides convenient functionality for users to check validity of their in-memory data containers, using the `check_is_mtype` and `check_raise` functions. Both functions provide generic validity checking functionality, `check_is_mtype` returns metadata and potential issues as return arguments, while `check_raise` directly produces informative error messages in case a container does not comply with a given `mtype`.\n",
    "\n",
    "A recommended notebook workflow to ensure that a given data container is compliant with `sktime` `mtype` specification is as follows:\n",
    "\n",
    "1. load the data in an in-memory data container\n",
    "2. identify the `scitype`, e.g., is this supposed to be a time series (`Series`) or a panel of time series (`Panel`)\n",
    "3. select the target `mtype` (see Section 1 for a list), and attempt to manually reformat the data to comply with the `mtype` specification if it is not already compliant\n",
    "4. run `check_raise` on the data container, to check whether it complies with the `mtype` and `scitype`\n",
    "5. if an error is raised, repeat 3 and 4 until no error is raised"
   ]
  },
  {
   "attachments": {},
   "cell_type": "markdown",
   "metadata": {},
   "source": [
    "### Section 2.1.1: validity checking, example 1 (simple mistake)\n",
    "\n",
    "Suppose we have the following `numpy.ndarray` representing a univariate time series:"
   ]
  },
  {
   "cell_type": "code",
   "execution_count": 12,
   "metadata": {},
   "outputs": [],
   "source": [
    "import numpy as np\n",
    "\n",
    "y = np.array([1, 6, 3, 7, 2])"
   ]
  },
  {
   "attachments": {},
   "cell_type": "markdown",
   "metadata": {},
   "source": [
    "to check compatibility with sktime:\n",
    "\n",
    "(instruction: uncomment and run the code to see the informative error message)"
   ]
  },
  {
   "cell_type": "code",
   "execution_count": 13,
   "metadata": {},
   "outputs": [],
   "source": [
    "from sktime.datatypes import check_raise\n",
    "\n",
    "# check_raise(y, mtype=\"np.ndarray\")"
   ]
  },
  {
   "attachments": {},
   "cell_type": "markdown",
   "metadata": {},
   "source": [
    "this tells us that `sktime` uses 2D numpy arrays for time series, if the `np.ndarray` mtype is used. While most methods provide convenience functionality to do this coercion automatically, the \"correct\" format would be 2D as follows:"
   ]
  },
  {
   "cell_type": "code",
   "execution_count": 14,
   "metadata": {},
   "outputs": [
    {
     "data": {
      "text/plain": [
       "True"
      ]
     },
     "execution_count": 14,
     "metadata": {},
     "output_type": "execute_result"
    }
   ],
   "source": [
    "check_raise(y.reshape(-1, 1), mtype=\"np.ndarray\")"
   ]
  },
  {
   "attachments": {},
   "cell_type": "markdown",
   "metadata": {},
   "source": [
    "For use in own code or additional metadata, the error message can be obtained using the `check_is_mtype` function:"
   ]
  },
  {
   "cell_type": "code",
   "execution_count": 15,
   "metadata": {},
   "outputs": [
    {
     "data": {
      "text/plain": [
       "(True,\n",
       " None,\n",
       " {'is_empty': False,\n",
       "  'is_univariate': True,\n",
       "  'is_equally_spaced': True,\n",
       "  'has_nans': False,\n",
       "  'mtype': 'np.ndarray',\n",
       "  'scitype': 'Series'})"
      ]
     },
     "execution_count": 15,
     "metadata": {},
     "output_type": "execute_result"
    }
   ],
   "source": [
    "from sktime.datatypes import check_is_mtype\n",
    "\n",
    "check_is_mtype(y, mtype=\"np.ndarray\", return_metadata=True)"
   ]
  },
  {
   "attachments": {},
   "cell_type": "markdown",
   "metadata": {},
   "source": [
    "and metadata is produced if the argument passes the validity check:"
   ]
  },
  {
   "cell_type": "code",
   "execution_count": 16,
   "metadata": {},
   "outputs": [
    {
     "data": {
      "text/plain": [
       "(True,\n",
       " None,\n",
       " {'is_empty': False,\n",
       "  'is_univariate': True,\n",
       "  'is_equally_spaced': True,\n",
       "  'has_nans': False,\n",
       "  'mtype': 'np.ndarray',\n",
       "  'scitype': 'Series'})"
      ]
     },
     "execution_count": 16,
     "metadata": {},
     "output_type": "execute_result"
    }
   ],
   "source": [
    "check_is_mtype(y.reshape(-1, 1), mtype=\"np.ndarray\", return_metadata=True)"
   ]
  },
  {
   "attachments": {},
   "cell_type": "markdown",
   "metadata": {},
   "source": [
    "Note: if the name of the mtype is ambiguous and can refer to multiple scitypes, the additional argument `scitype` must be provided. This should not be the case for any common in-memory containers, we mention this for completeness."
   ]
  },
  {
   "cell_type": "code",
   "execution_count": 17,
   "metadata": {},
   "outputs": [
    {
     "data": {
      "text/plain": [
       "True"
      ]
     },
     "execution_count": 17,
     "metadata": {},
     "output_type": "execute_result"
    }
   ],
   "source": [
    "check_is_mtype(y, mtype=\"np.ndarray\", scitype=\"Series\")"
   ]
  },
  {
   "attachments": {},
   "cell_type": "markdown",
   "metadata": {},
   "source": [
    "### Section 2.1.2: validity checking, example 2 (non-obvious mistake)\n",
    "\n",
    "Suppose we have converted our data into a multi-index panel, i.e., we want to have a `Panel` of mtype `pd-multiindex`."
   ]
  },
  {
   "cell_type": "code",
   "execution_count": 18,
   "metadata": {},
   "outputs": [],
   "source": [
    "import pandas as pd\n",
    "\n",
    "cols = [\"instances\", \"time points\"] + [f\"var_{i}\" for i in range(2)]\n",
    "X = pd.concat(\n",
    "    [\n",
    "        pd.DataFrame([[0, 0, 1, 4], [0, 1, 2, 5], [0, 2, 3, 6]], columns=cols),\n",
    "        pd.DataFrame([[1, 0, 1, 4], [1, 1, 2, 55], [1, 2, 3, 6]], columns=cols),\n",
    "        pd.DataFrame([[2, 0, 1, 42], [2, 1, 2, 5], [2, 2, 3, 6]], columns=cols),\n",
    "    ]\n",
    ").set_index([\"instances\", \"time points\"])"
   ]
  },
  {
   "attachments": {},
   "cell_type": "markdown",
   "metadata": {},
   "source": [
    "It is not obvious whether `X` satisfies the `pd-multiindex` specification, so let's check:\n",
    "\n",
    "(instruction: uncomment and run the code to see the informative error message)"
   ]
  },
  {
   "cell_type": "code",
   "execution_count": 19,
   "metadata": {},
   "outputs": [],
   "source": [
    "from sktime.datatypes import check_raise\n",
    "\n",
    "# check_raise(X, mtype=\"pd-multiindex\")"
   ]
  },
  {
   "attachments": {},
   "cell_type": "markdown",
   "metadata": {},
   "source": [
    "The informative error message highlights a typo in one of the multi-index columns, so we do this:"
   ]
  },
  {
   "cell_type": "code",
   "execution_count": 20,
   "metadata": {},
   "outputs": [],
   "source": [
    "X.index.names = [\"instances\", \"timepoints\"]"
   ]
  },
  {
   "attachments": {},
   "cell_type": "markdown",
   "metadata": {},
   "source": [
    "Now the validity check passes:"
   ]
  },
  {
   "cell_type": "code",
   "execution_count": 21,
   "metadata": {},
   "outputs": [
    {
     "data": {
      "text/plain": [
       "True"
      ]
     },
     "execution_count": 21,
     "metadata": {},
     "output_type": "execute_result"
    }
   ],
   "source": [
    "check_raise(X, mtype=\"pd-multiindex\")"
   ]
  },
  {
   "attachments": {},
   "cell_type": "markdown",
   "metadata": {},
   "source": [
    "### Section 2.1.3: inferring the mtype\n",
    "\n",
    "`sktime` also provides functionality to infer the mtype of an in-memory data container, which is useful in case one is sure that the container is compliant but one has forgotten the exact string, or in a case where one would like to know whether an in-memory container is already in some supported, compliant format. For this, only the scitype needs to be specified:"
   ]
  },
  {
   "cell_type": "code",
   "execution_count": 22,
   "metadata": {},
   "outputs": [
    {
     "data": {
      "text/plain": [
       "'pd-multiindex'"
      ]
     },
     "execution_count": 22,
     "metadata": {},
     "output_type": "execute_result"
    }
   ],
   "source": [
    "from sktime.datatypes import mtype\n",
    "\n",
    "mtype(X, as_scitype=\"Panel\")"
   ]
  },
  {
   "attachments": {},
   "cell_type": "markdown",
   "metadata": {},
   "source": [
    "### Section 2.2: conversion between mtypes\n",
    "\n",
    "`sktime`'s `datatypes` module also offers uninfied conversion functionality between mtypes. This is useful for users as well as for method developers.\n",
    "\n",
    "The `convert` function requires to specify the mtype to convert from, and the mtype to convert to. The `convert_to` function only requires to specify the mtype to convert to, automatically inferring the mtype of the input if it can be inferred. `convert_to` should be used if the input can have multiple mtypes."
   ]
  },
  {
   "attachments": {},
   "cell_type": "markdown",
   "metadata": {},
   "source": [
    "#### Section 2.2.1: simple conversion\n",
    "\n",
    "Example: converting a `numpy3D` panel of time series to `pd-multiindex` mtype:"
   ]
  },
  {
   "cell_type": "code",
   "execution_count": 23,
   "metadata": {},
   "outputs": [
    {
     "data": {
      "text/plain": [
       "array([[[ 1,  2,  3],\n",
       "        [ 4,  5,  6]],\n",
       "\n",
       "       [[ 1,  2,  3],\n",
       "        [ 4, 55,  6]],\n",
       "\n",
       "       [[ 1,  2,  3],\n",
       "        [42,  5,  6]]], dtype=int64)"
      ]
     },
     "execution_count": 23,
     "metadata": {},
     "output_type": "execute_result"
    }
   ],
   "source": [
    "from sktime.datatypes import get_examples\n",
    "\n",
    "X = get_examples(mtype=\"numpy3D\", as_scitype=\"Panel\")[0]\n",
    "X"
   ]
  },
  {
   "cell_type": "code",
   "execution_count": 24,
   "metadata": {},
   "outputs": [
    {
     "data": {
      "text/html": [
       "<div>\n",
       "<style scoped>\n",
       "    .dataframe tbody tr th:only-of-type {\n",
       "        vertical-align: middle;\n",
       "    }\n",
       "\n",
       "    .dataframe tbody tr th {\n",
       "        vertical-align: top;\n",
       "    }\n",
       "\n",
       "    .dataframe thead th {\n",
       "        text-align: right;\n",
       "    }\n",
       "</style>\n",
       "<table border=\"1\" class=\"dataframe\">\n",
       "  <thead>\n",
       "    <tr style=\"text-align: right;\">\n",
       "      <th></th>\n",
       "      <th></th>\n",
       "      <th>var_0</th>\n",
       "      <th>var_1</th>\n",
       "    </tr>\n",
       "    <tr>\n",
       "      <th>instances</th>\n",
       "      <th>timepoints</th>\n",
       "      <th></th>\n",
       "      <th></th>\n",
       "    </tr>\n",
       "  </thead>\n",
       "  <tbody>\n",
       "    <tr>\n",
       "      <th rowspan=\"3\" valign=\"top\">0</th>\n",
       "      <th>0</th>\n",
       "      <td>1</td>\n",
       "      <td>4</td>\n",
       "    </tr>\n",
       "    <tr>\n",
       "      <th>1</th>\n",
       "      <td>2</td>\n",
       "      <td>5</td>\n",
       "    </tr>\n",
       "    <tr>\n",
       "      <th>2</th>\n",
       "      <td>3</td>\n",
       "      <td>6</td>\n",
       "    </tr>\n",
       "    <tr>\n",
       "      <th rowspan=\"3\" valign=\"top\">1</th>\n",
       "      <th>0</th>\n",
       "      <td>1</td>\n",
       "      <td>4</td>\n",
       "    </tr>\n",
       "    <tr>\n",
       "      <th>1</th>\n",
       "      <td>2</td>\n",
       "      <td>55</td>\n",
       "    </tr>\n",
       "    <tr>\n",
       "      <th>2</th>\n",
       "      <td>3</td>\n",
       "      <td>6</td>\n",
       "    </tr>\n",
       "    <tr>\n",
       "      <th rowspan=\"3\" valign=\"top\">2</th>\n",
       "      <th>0</th>\n",
       "      <td>1</td>\n",
       "      <td>42</td>\n",
       "    </tr>\n",
       "    <tr>\n",
       "      <th>1</th>\n",
       "      <td>2</td>\n",
       "      <td>5</td>\n",
       "    </tr>\n",
       "    <tr>\n",
       "      <th>2</th>\n",
       "      <td>3</td>\n",
       "      <td>6</td>\n",
       "    </tr>\n",
       "  </tbody>\n",
       "</table>\n",
       "</div>"
      ],
      "text/plain": [
       "                      var_0  var_1\n",
       "instances timepoints              \n",
       "0         0               1      4\n",
       "          1               2      5\n",
       "          2               3      6\n",
       "1         0               1      4\n",
       "          1               2     55\n",
       "          2               3      6\n",
       "2         0               1     42\n",
       "          1               2      5\n",
       "          2               3      6"
      ]
     },
     "execution_count": 24,
     "metadata": {},
     "output_type": "execute_result"
    }
   ],
   "source": [
    "from sktime.datatypes import convert\n",
    "\n",
    "convert(X, from_type=\"numpy3D\", to_type=\"pd-multiindex\")"
   ]
  },
  {
   "cell_type": "code",
   "execution_count": 25,
   "metadata": {},
   "outputs": [
    {
     "data": {
      "text/html": [
       "<div>\n",
       "<style scoped>\n",
       "    .dataframe tbody tr th:only-of-type {\n",
       "        vertical-align: middle;\n",
       "    }\n",
       "\n",
       "    .dataframe tbody tr th {\n",
       "        vertical-align: top;\n",
       "    }\n",
       "\n",
       "    .dataframe thead th {\n",
       "        text-align: right;\n",
       "    }\n",
       "</style>\n",
       "<table border=\"1\" class=\"dataframe\">\n",
       "  <thead>\n",
       "    <tr style=\"text-align: right;\">\n",
       "      <th></th>\n",
       "      <th></th>\n",
       "      <th>var_0</th>\n",
       "      <th>var_1</th>\n",
       "    </tr>\n",
       "    <tr>\n",
       "      <th>instances</th>\n",
       "      <th>timepoints</th>\n",
       "      <th></th>\n",
       "      <th></th>\n",
       "    </tr>\n",
       "  </thead>\n",
       "  <tbody>\n",
       "    <tr>\n",
       "      <th rowspan=\"3\" valign=\"top\">0</th>\n",
       "      <th>0</th>\n",
       "      <td>1</td>\n",
       "      <td>4</td>\n",
       "    </tr>\n",
       "    <tr>\n",
       "      <th>1</th>\n",
       "      <td>2</td>\n",
       "      <td>5</td>\n",
       "    </tr>\n",
       "    <tr>\n",
       "      <th>2</th>\n",
       "      <td>3</td>\n",
       "      <td>6</td>\n",
       "    </tr>\n",
       "    <tr>\n",
       "      <th rowspan=\"3\" valign=\"top\">1</th>\n",
       "      <th>0</th>\n",
       "      <td>1</td>\n",
       "      <td>4</td>\n",
       "    </tr>\n",
       "    <tr>\n",
       "      <th>1</th>\n",
       "      <td>2</td>\n",
       "      <td>55</td>\n",
       "    </tr>\n",
       "    <tr>\n",
       "      <th>2</th>\n",
       "      <td>3</td>\n",
       "      <td>6</td>\n",
       "    </tr>\n",
       "    <tr>\n",
       "      <th rowspan=\"3\" valign=\"top\">2</th>\n",
       "      <th>0</th>\n",
       "      <td>1</td>\n",
       "      <td>42</td>\n",
       "    </tr>\n",
       "    <tr>\n",
       "      <th>1</th>\n",
       "      <td>2</td>\n",
       "      <td>5</td>\n",
       "    </tr>\n",
       "    <tr>\n",
       "      <th>2</th>\n",
       "      <td>3</td>\n",
       "      <td>6</td>\n",
       "    </tr>\n",
       "  </tbody>\n",
       "</table>\n",
       "</div>"
      ],
      "text/plain": [
       "                      var_0  var_1\n",
       "instances timepoints              \n",
       "0         0               1      4\n",
       "          1               2      5\n",
       "          2               3      6\n",
       "1         0               1      4\n",
       "          1               2     55\n",
       "          2               3      6\n",
       "2         0               1     42\n",
       "          1               2      5\n",
       "          2               3      6"
      ]
     },
     "execution_count": 25,
     "metadata": {},
     "output_type": "execute_result"
    }
   ],
   "source": [
    "from sktime.datatypes import convert_to\n",
    "\n",
    "convert_to(X, to_type=\"pd-multiindex\")"
   ]
  },
  {
   "attachments": {},
   "cell_type": "markdown",
   "metadata": {},
   "source": [
    "#### Section 2.2.2: advanced conversion features\n",
    "\n",
    "`convert_to` also allows to specify multiple output types. The `to_type` argument can be a list of mtypes. In that case, the input passed through unchanged if its mtype is on the list; if the mtype of the input is not on the list, it is converted to the mtype which is the first element of the list.\n",
    "\n",
    "Example: converting a panel of time series of to either `\"pd-multiindex\"` or `\"numpy3D\"`. If the input is `\"numpy3D\"`, it remains unchanged. If the input is `\"df-list\"`, it is converted to `\"pd-multiindex\"`."
   ]
  },
  {
   "cell_type": "code",
   "execution_count": 26,
   "metadata": {},
   "outputs": [
    {
     "data": {
      "text/plain": [
       "array([[[ 1,  2,  3],\n",
       "        [ 4,  5,  6]],\n",
       "\n",
       "       [[ 1,  2,  3],\n",
       "        [ 4, 55,  6]],\n",
       "\n",
       "       [[ 1,  2,  3],\n",
       "        [42,  5,  6]]], dtype=int64)"
      ]
     },
     "execution_count": 26,
     "metadata": {},
     "output_type": "execute_result"
    }
   ],
   "source": [
    "from sktime.datatypes import get_examples\n",
    "\n",
    "X = get_examples(mtype=\"numpy3D\", as_scitype=\"Panel\")[0]\n",
    "X"
   ]
  },
  {
   "cell_type": "code",
   "execution_count": 27,
   "metadata": {},
   "outputs": [
    {
     "data": {
      "text/plain": [
       "array([[[ 1,  2,  3],\n",
       "        [ 4,  5,  6]],\n",
       "\n",
       "       [[ 1,  2,  3],\n",
       "        [ 4, 55,  6]],\n",
       "\n",
       "       [[ 1,  2,  3],\n",
       "        [42,  5,  6]]], dtype=int64)"
      ]
     },
     "execution_count": 27,
     "metadata": {},
     "output_type": "execute_result"
    }
   ],
   "source": [
    "from sktime.datatypes import convert_to\n",
    "\n",
    "convert_to(X, to_type=[\"pd-multiindex\", \"numpy3D\"])"
   ]
  },
  {
   "cell_type": "code",
   "execution_count": 28,
   "metadata": {},
   "outputs": [
    {
     "data": {
      "text/plain": [
       "[   var_0  var_1\n",
       " 0      1      4\n",
       " 1      2      5\n",
       " 2      3      6,\n",
       "    var_0  var_1\n",
       " 0      1      4\n",
       " 1      2     55\n",
       " 2      3      6,\n",
       "    var_0  var_1\n",
       " 0      1     42\n",
       " 1      2      5\n",
       " 2      3      6]"
      ]
     },
     "execution_count": 28,
     "metadata": {},
     "output_type": "execute_result"
    }
   ],
   "source": [
    "X = get_examples(mtype=\"df-list\", as_scitype=\"Panel\")[0]\n",
    "X"
   ]
  },
  {
   "cell_type": "code",
   "execution_count": 29,
   "metadata": {},
   "outputs": [
    {
     "data": {
      "text/html": [
       "<div>\n",
       "<style scoped>\n",
       "    .dataframe tbody tr th:only-of-type {\n",
       "        vertical-align: middle;\n",
       "    }\n",
       "\n",
       "    .dataframe tbody tr th {\n",
       "        vertical-align: top;\n",
       "    }\n",
       "\n",
       "    .dataframe thead th {\n",
       "        text-align: right;\n",
       "    }\n",
       "</style>\n",
       "<table border=\"1\" class=\"dataframe\">\n",
       "  <thead>\n",
       "    <tr style=\"text-align: right;\">\n",
       "      <th></th>\n",
       "      <th></th>\n",
       "      <th>var_0</th>\n",
       "      <th>var_1</th>\n",
       "    </tr>\n",
       "    <tr>\n",
       "      <th>instances</th>\n",
       "      <th>timepoints</th>\n",
       "      <th></th>\n",
       "      <th></th>\n",
       "    </tr>\n",
       "  </thead>\n",
       "  <tbody>\n",
       "    <tr>\n",
       "      <th rowspan=\"3\" valign=\"top\">0</th>\n",
       "      <th>0</th>\n",
       "      <td>1</td>\n",
       "      <td>4</td>\n",
       "    </tr>\n",
       "    <tr>\n",
       "      <th>1</th>\n",
       "      <td>2</td>\n",
       "      <td>5</td>\n",
       "    </tr>\n",
       "    <tr>\n",
       "      <th>2</th>\n",
       "      <td>3</td>\n",
       "      <td>6</td>\n",
       "    </tr>\n",
       "    <tr>\n",
       "      <th rowspan=\"3\" valign=\"top\">1</th>\n",
       "      <th>0</th>\n",
       "      <td>1</td>\n",
       "      <td>4</td>\n",
       "    </tr>\n",
       "    <tr>\n",
       "      <th>1</th>\n",
       "      <td>2</td>\n",
       "      <td>55</td>\n",
       "    </tr>\n",
       "    <tr>\n",
       "      <th>2</th>\n",
       "      <td>3</td>\n",
       "      <td>6</td>\n",
       "    </tr>\n",
       "    <tr>\n",
       "      <th rowspan=\"3\" valign=\"top\">2</th>\n",
       "      <th>0</th>\n",
       "      <td>1</td>\n",
       "      <td>42</td>\n",
       "    </tr>\n",
       "    <tr>\n",
       "      <th>1</th>\n",
       "      <td>2</td>\n",
       "      <td>5</td>\n",
       "    </tr>\n",
       "    <tr>\n",
       "      <th>2</th>\n",
       "      <td>3</td>\n",
       "      <td>6</td>\n",
       "    </tr>\n",
       "  </tbody>\n",
       "</table>\n",
       "</div>"
      ],
      "text/plain": [
       "                      var_0  var_1\n",
       "instances timepoints              \n",
       "0         0               1      4\n",
       "          1               2      5\n",
       "          2               3      6\n",
       "1         0               1      4\n",
       "          1               2     55\n",
       "          2               3      6\n",
       "2         0               1     42\n",
       "          1               2      5\n",
       "          2               3      6"
      ]
     },
     "execution_count": 29,
     "metadata": {},
     "output_type": "execute_result"
    }
   ],
   "source": [
    "convert_to(X, to_type=[\"pd-multiindex\", \"numpy3D\"])"
   ]
  },
  {
   "attachments": {},
   "cell_type": "markdown",
   "metadata": {},
   "source": [
    "#### Section 2.2.3: inspecting implemented conversions\n",
    "\n",
    "Currently, conversions are work in progress, and not all possible conversions are available - contributions are welcome.\n",
    "To see which conversions are currently implemented for a scitype, use the `_conversions_defined` developer method from the `datatypes._convert` module. This produces a table with a \"1\" if conversion from mtype in row row to mtypw in column is implemented."
   ]
  },
  {
   "cell_type": "code",
   "execution_count": 30,
   "metadata": {},
   "outputs": [
    {
     "data": {
      "text/html": [
       "<div>\n",
       "<style scoped>\n",
       "    .dataframe tbody tr th:only-of-type {\n",
       "        vertical-align: middle;\n",
       "    }\n",
       "\n",
       "    .dataframe tbody tr th {\n",
       "        vertical-align: top;\n",
       "    }\n",
       "\n",
       "    .dataframe thead th {\n",
       "        text-align: right;\n",
       "    }\n",
       "</style>\n",
       "<table border=\"1\" class=\"dataframe\">\n",
       "  <thead>\n",
       "    <tr style=\"text-align: right;\">\n",
       "      <th></th>\n",
       "      <th>dask_panel</th>\n",
       "      <th>df-list</th>\n",
       "      <th>nested_univ</th>\n",
       "      <th>numpy3D</th>\n",
       "      <th>numpyflat</th>\n",
       "      <th>pd-long</th>\n",
       "      <th>pd-multiindex</th>\n",
       "      <th>pd-wide</th>\n",
       "    </tr>\n",
       "  </thead>\n",
       "  <tbody>\n",
       "    <tr>\n",
       "      <th>dask_panel</th>\n",
       "      <td>1</td>\n",
       "      <td>1</td>\n",
       "      <td>1</td>\n",
       "      <td>1</td>\n",
       "      <td>1</td>\n",
       "      <td>1</td>\n",
       "      <td>1</td>\n",
       "      <td>0</td>\n",
       "    </tr>\n",
       "    <tr>\n",
       "      <th>df-list</th>\n",
       "      <td>1</td>\n",
       "      <td>1</td>\n",
       "      <td>1</td>\n",
       "      <td>1</td>\n",
       "      <td>1</td>\n",
       "      <td>1</td>\n",
       "      <td>1</td>\n",
       "      <td>0</td>\n",
       "    </tr>\n",
       "    <tr>\n",
       "      <th>nested_univ</th>\n",
       "      <td>1</td>\n",
       "      <td>1</td>\n",
       "      <td>1</td>\n",
       "      <td>1</td>\n",
       "      <td>1</td>\n",
       "      <td>1</td>\n",
       "      <td>1</td>\n",
       "      <td>1</td>\n",
       "    </tr>\n",
       "    <tr>\n",
       "      <th>numpy3D</th>\n",
       "      <td>1</td>\n",
       "      <td>1</td>\n",
       "      <td>1</td>\n",
       "      <td>1</td>\n",
       "      <td>1</td>\n",
       "      <td>1</td>\n",
       "      <td>1</td>\n",
       "      <td>0</td>\n",
       "    </tr>\n",
       "    <tr>\n",
       "      <th>numpyflat</th>\n",
       "      <td>1</td>\n",
       "      <td>1</td>\n",
       "      <td>1</td>\n",
       "      <td>1</td>\n",
       "      <td>1</td>\n",
       "      <td>1</td>\n",
       "      <td>1</td>\n",
       "      <td>0</td>\n",
       "    </tr>\n",
       "    <tr>\n",
       "      <th>pd-long</th>\n",
       "      <td>1</td>\n",
       "      <td>1</td>\n",
       "      <td>1</td>\n",
       "      <td>1</td>\n",
       "      <td>1</td>\n",
       "      <td>1</td>\n",
       "      <td>1</td>\n",
       "      <td>0</td>\n",
       "    </tr>\n",
       "    <tr>\n",
       "      <th>pd-multiindex</th>\n",
       "      <td>1</td>\n",
       "      <td>1</td>\n",
       "      <td>1</td>\n",
       "      <td>1</td>\n",
       "      <td>1</td>\n",
       "      <td>1</td>\n",
       "      <td>1</td>\n",
       "      <td>0</td>\n",
       "    </tr>\n",
       "    <tr>\n",
       "      <th>pd-wide</th>\n",
       "      <td>0</td>\n",
       "      <td>0</td>\n",
       "      <td>1</td>\n",
       "      <td>0</td>\n",
       "      <td>0</td>\n",
       "      <td>0</td>\n",
       "      <td>0</td>\n",
       "      <td>1</td>\n",
       "    </tr>\n",
       "  </tbody>\n",
       "</table>\n",
       "</div>"
      ],
      "text/plain": [
       "               dask_panel  df-list  nested_univ  numpy3D  numpyflat  pd-long  \\\n",
       "dask_panel              1        1            1        1          1        1   \n",
       "df-list                 1        1            1        1          1        1   \n",
       "nested_univ             1        1            1        1          1        1   \n",
       "numpy3D                 1        1            1        1          1        1   \n",
       "numpyflat               1        1            1        1          1        1   \n",
       "pd-long                 1        1            1        1          1        1   \n",
       "pd-multiindex           1        1            1        1          1        1   \n",
       "pd-wide                 0        0            1        0          0        0   \n",
       "\n",
       "               pd-multiindex  pd-wide  \n",
       "dask_panel                 1        0  \n",
       "df-list                    1        0  \n",
       "nested_univ                1        1  \n",
       "numpy3D                    1        0  \n",
       "numpyflat                  1        0  \n",
       "pd-long                    1        0  \n",
       "pd-multiindex              1        0  \n",
       "pd-wide                    0        1  "
      ]
     },
     "execution_count": 30,
     "metadata": {},
     "output_type": "execute_result"
    }
   ],
   "source": [
    "from sktime.datatypes._convert import _conversions_defined\n",
    "\n",
    "_conversions_defined(scitype=\"Panel\")"
   ]
  },
  {
   "attachments": {},
   "cell_type": "markdown",
   "metadata": {},
   "source": [
    "## Section 3: loading pre-defined data sets\n",
    "\n",
    "`sktime`'s `datasets` module allows to load datasets for testing and benchmarking. This includes:\n",
    "\n",
    "* example data sets that ship directly with `sktime`\n",
    "* downloaders for data sets from common repositories\n",
    "\n",
    "All data retrieved in this way are in `sktime` compatible in-memory and/or file formats.\n",
    "\n",
    "Currently, no systematic tagging and registry retrieval for the available data sets is implemented - contributions to this would be very welcome."
   ]
  },
  {
   "attachments": {},
   "cell_type": "markdown",
   "metadata": {},
   "source": [
    "### Section 3.1: forecasting data sets\n",
    "\n",
    "`sktime`'s `datasets` module currently allows to load a the following forecasting example data sets:\n",
    "\n",
    "| dataset name | loader function | properties |\n",
    "|----------|:-------------:|------:|\n",
    "| Box/Jenkins airline data | `load_airline` | univariate |\n",
    "| Lynx sales data | `load_lynx` | univariate |\n",
    "| Shampoo sales data | `load_shampoo_sales` | univariate |\n",
    "| Pharmaceutical Benefit Scheme data | `load_PBS_dataset` | univariate |\n",
    "| Longley US macroeconomic data | `load_longley` | multivariate |\n",
    "| MTS consumption/income data | `load_uschange` | multivariate |\n",
    "\n",
    "`sktime` currently has no connectors to forecasting data repositories - contributions are much appreciated.\n"
   ]
  },
  {
   "attachments": {},
   "cell_type": "markdown",
   "metadata": {},
   "source": [
    "Forecasting data sets are all of `Series` scitype, they can be univariate or multivariate.\n",
    "\n",
    "Loaders for univariate data have no arguments, and always return the data in the `\"pd.Series\"` mtype:"
   ]
  },
  {
   "cell_type": "code",
   "execution_count": 31,
   "metadata": {},
   "outputs": [
    {
     "data": {
      "text/plain": [
       "Period\n",
       "1949-01    112.0\n",
       "1949-02    118.0\n",
       "1949-03    132.0\n",
       "1949-04    129.0\n",
       "1949-05    121.0\n",
       "           ...  \n",
       "1960-08    606.0\n",
       "1960-09    508.0\n",
       "1960-10    461.0\n",
       "1960-11    390.0\n",
       "1960-12    432.0\n",
       "Freq: M, Name: Number of airline passengers, Length: 144, dtype: float64"
      ]
     },
     "execution_count": 31,
     "metadata": {},
     "output_type": "execute_result"
    }
   ],
   "source": [
    "from sktime.datasets import load_airline\n",
    "\n",
    "load_airline()"
   ]
  },
  {
   "attachments": {},
   "cell_type": "markdown",
   "metadata": {},
   "source": [
    "Loaders for multivariate data can be called in two ways:\n",
    "\n",
    "* without an argument, in which case a multivariate series of `\"pd.DataFrame\"` mtype is returned:"
   ]
  },
  {
   "cell_type": "code",
   "execution_count": 32,
   "metadata": {},
   "outputs": [
    {
     "data": {
      "text/plain": [
       "(Period\n",
       " 1947    60323.0\n",
       " 1948    61122.0\n",
       " 1949    60171.0\n",
       " 1950    61187.0\n",
       " 1951    63221.0\n",
       " 1952    63639.0\n",
       " 1953    64989.0\n",
       " 1954    63761.0\n",
       " 1955    66019.0\n",
       " 1956    67857.0\n",
       " 1957    68169.0\n",
       " 1958    66513.0\n",
       " 1959    68655.0\n",
       " 1960    69564.0\n",
       " 1961    69331.0\n",
       " 1962    70551.0\n",
       " Freq: A-DEC, Name: TOTEMP, dtype: float64,\n",
       "         GNPDEFL       GNP   UNEMP   ARMED       POP\n",
       " Period                                             \n",
       " 1947       83.0  234289.0  2356.0  1590.0  107608.0\n",
       " 1948       88.5  259426.0  2325.0  1456.0  108632.0\n",
       " 1949       88.2  258054.0  3682.0  1616.0  109773.0\n",
       " 1950       89.5  284599.0  3351.0  1650.0  110929.0\n",
       " 1951       96.2  328975.0  2099.0  3099.0  112075.0\n",
       " 1952       98.1  346999.0  1932.0  3594.0  113270.0\n",
       " 1953       99.0  365385.0  1870.0  3547.0  115094.0\n",
       " 1954      100.0  363112.0  3578.0  3350.0  116219.0\n",
       " 1955      101.2  397469.0  2904.0  3048.0  117388.0\n",
       " 1956      104.6  419180.0  2822.0  2857.0  118734.0\n",
       " 1957      108.4  442769.0  2936.0  2798.0  120445.0\n",
       " 1958      110.8  444546.0  4681.0  2637.0  121950.0\n",
       " 1959      112.6  482704.0  3813.0  2552.0  123366.0\n",
       " 1960      114.2  502601.0  3931.0  2514.0  125368.0\n",
       " 1961      115.7  518173.0  4806.0  2572.0  127852.0\n",
       " 1962      116.9  554894.0  4007.0  2827.0  130081.0)"
      ]
     },
     "execution_count": 32,
     "metadata": {},
     "output_type": "execute_result"
    }
   ],
   "source": [
    "from sktime.datasets import load_longley\n",
    "\n",
    "load_longley()"
   ]
  },
  {
   "attachments": {},
   "cell_type": "markdown",
   "metadata": {},
   "source": [
    "* with an argument `y_name` that must coincide with one of the column/variable names, in which a pair of series `y`, `X` is returned, with `y` of `\"pd.Series\"` mtype, and `X` of `\"pd.DataFrame\"` mtype - this is convenient for univariate forecasting with exogeneous variables."
   ]
  },
  {
   "cell_type": "code",
   "execution_count": 33,
   "metadata": {},
   "outputs": [],
   "source": [
    "y, X = load_longley(y_name=\"TOTEMP\")"
   ]
  },
  {
   "cell_type": "code",
   "execution_count": 34,
   "metadata": {},
   "outputs": [
    {
     "data": {
      "text/plain": [
       "Period\n",
       "1947    60323.0\n",
       "1948    61122.0\n",
       "1949    60171.0\n",
       "1950    61187.0\n",
       "1951    63221.0\n",
       "1952    63639.0\n",
       "1953    64989.0\n",
       "1954    63761.0\n",
       "1955    66019.0\n",
       "1956    67857.0\n",
       "1957    68169.0\n",
       "1958    66513.0\n",
       "1959    68655.0\n",
       "1960    69564.0\n",
       "1961    69331.0\n",
       "1962    70551.0\n",
       "Freq: A-DEC, Name: TOTEMP, dtype: float64"
      ]
     },
     "execution_count": 34,
     "metadata": {},
     "output_type": "execute_result"
    }
   ],
   "source": [
    "y"
   ]
  },
  {
   "cell_type": "code",
   "execution_count": 35,
   "metadata": {},
   "outputs": [
    {
     "data": {
      "text/html": [
       "<div>\n",
       "<style scoped>\n",
       "    .dataframe tbody tr th:only-of-type {\n",
       "        vertical-align: middle;\n",
       "    }\n",
       "\n",
       "    .dataframe tbody tr th {\n",
       "        vertical-align: top;\n",
       "    }\n",
       "\n",
       "    .dataframe thead th {\n",
       "        text-align: right;\n",
       "    }\n",
       "</style>\n",
       "<table border=\"1\" class=\"dataframe\">\n",
       "  <thead>\n",
       "    <tr style=\"text-align: right;\">\n",
       "      <th></th>\n",
       "      <th>GNPDEFL</th>\n",
       "      <th>GNP</th>\n",
       "      <th>UNEMP</th>\n",
       "      <th>ARMED</th>\n",
       "      <th>POP</th>\n",
       "    </tr>\n",
       "    <tr>\n",
       "      <th>Period</th>\n",
       "      <th></th>\n",
       "      <th></th>\n",
       "      <th></th>\n",
       "      <th></th>\n",
       "      <th></th>\n",
       "    </tr>\n",
       "  </thead>\n",
       "  <tbody>\n",
       "    <tr>\n",
       "      <th>1947</th>\n",
       "      <td>83.0</td>\n",
       "      <td>234289.0</td>\n",
       "      <td>2356.0</td>\n",
       "      <td>1590.0</td>\n",
       "      <td>107608.0</td>\n",
       "    </tr>\n",
       "    <tr>\n",
       "      <th>1948</th>\n",
       "      <td>88.5</td>\n",
       "      <td>259426.0</td>\n",
       "      <td>2325.0</td>\n",
       "      <td>1456.0</td>\n",
       "      <td>108632.0</td>\n",
       "    </tr>\n",
       "    <tr>\n",
       "      <th>1949</th>\n",
       "      <td>88.2</td>\n",
       "      <td>258054.0</td>\n",
       "      <td>3682.0</td>\n",
       "      <td>1616.0</td>\n",
       "      <td>109773.0</td>\n",
       "    </tr>\n",
       "    <tr>\n",
       "      <th>1950</th>\n",
       "      <td>89.5</td>\n",
       "      <td>284599.0</td>\n",
       "      <td>3351.0</td>\n",
       "      <td>1650.0</td>\n",
       "      <td>110929.0</td>\n",
       "    </tr>\n",
       "    <tr>\n",
       "      <th>1951</th>\n",
       "      <td>96.2</td>\n",
       "      <td>328975.0</td>\n",
       "      <td>2099.0</td>\n",
       "      <td>3099.0</td>\n",
       "      <td>112075.0</td>\n",
       "    </tr>\n",
       "    <tr>\n",
       "      <th>1952</th>\n",
       "      <td>98.1</td>\n",
       "      <td>346999.0</td>\n",
       "      <td>1932.0</td>\n",
       "      <td>3594.0</td>\n",
       "      <td>113270.0</td>\n",
       "    </tr>\n",
       "    <tr>\n",
       "      <th>1953</th>\n",
       "      <td>99.0</td>\n",
       "      <td>365385.0</td>\n",
       "      <td>1870.0</td>\n",
       "      <td>3547.0</td>\n",
       "      <td>115094.0</td>\n",
       "    </tr>\n",
       "    <tr>\n",
       "      <th>1954</th>\n",
       "      <td>100.0</td>\n",
       "      <td>363112.0</td>\n",
       "      <td>3578.0</td>\n",
       "      <td>3350.0</td>\n",
       "      <td>116219.0</td>\n",
       "    </tr>\n",
       "    <tr>\n",
       "      <th>1955</th>\n",
       "      <td>101.2</td>\n",
       "      <td>397469.0</td>\n",
       "      <td>2904.0</td>\n",
       "      <td>3048.0</td>\n",
       "      <td>117388.0</td>\n",
       "    </tr>\n",
       "    <tr>\n",
       "      <th>1956</th>\n",
       "      <td>104.6</td>\n",
       "      <td>419180.0</td>\n",
       "      <td>2822.0</td>\n",
       "      <td>2857.0</td>\n",
       "      <td>118734.0</td>\n",
       "    </tr>\n",
       "    <tr>\n",
       "      <th>1957</th>\n",
       "      <td>108.4</td>\n",
       "      <td>442769.0</td>\n",
       "      <td>2936.0</td>\n",
       "      <td>2798.0</td>\n",
       "      <td>120445.0</td>\n",
       "    </tr>\n",
       "    <tr>\n",
       "      <th>1958</th>\n",
       "      <td>110.8</td>\n",
       "      <td>444546.0</td>\n",
       "      <td>4681.0</td>\n",
       "      <td>2637.0</td>\n",
       "      <td>121950.0</td>\n",
       "    </tr>\n",
       "    <tr>\n",
       "      <th>1959</th>\n",
       "      <td>112.6</td>\n",
       "      <td>482704.0</td>\n",
       "      <td>3813.0</td>\n",
       "      <td>2552.0</td>\n",
       "      <td>123366.0</td>\n",
       "    </tr>\n",
       "    <tr>\n",
       "      <th>1960</th>\n",
       "      <td>114.2</td>\n",
       "      <td>502601.0</td>\n",
       "      <td>3931.0</td>\n",
       "      <td>2514.0</td>\n",
       "      <td>125368.0</td>\n",
       "    </tr>\n",
       "    <tr>\n",
       "      <th>1961</th>\n",
       "      <td>115.7</td>\n",
       "      <td>518173.0</td>\n",
       "      <td>4806.0</td>\n",
       "      <td>2572.0</td>\n",
       "      <td>127852.0</td>\n",
       "    </tr>\n",
       "    <tr>\n",
       "      <th>1962</th>\n",
       "      <td>116.9</td>\n",
       "      <td>554894.0</td>\n",
       "      <td>4007.0</td>\n",
       "      <td>2827.0</td>\n",
       "      <td>130081.0</td>\n",
       "    </tr>\n",
       "  </tbody>\n",
       "</table>\n",
       "</div>"
      ],
      "text/plain": [
       "        GNPDEFL       GNP   UNEMP   ARMED       POP\n",
       "Period                                             \n",
       "1947       83.0  234289.0  2356.0  1590.0  107608.0\n",
       "1948       88.5  259426.0  2325.0  1456.0  108632.0\n",
       "1949       88.2  258054.0  3682.0  1616.0  109773.0\n",
       "1950       89.5  284599.0  3351.0  1650.0  110929.0\n",
       "1951       96.2  328975.0  2099.0  3099.0  112075.0\n",
       "1952       98.1  346999.0  1932.0  3594.0  113270.0\n",
       "1953       99.0  365385.0  1870.0  3547.0  115094.0\n",
       "1954      100.0  363112.0  3578.0  3350.0  116219.0\n",
       "1955      101.2  397469.0  2904.0  3048.0  117388.0\n",
       "1956      104.6  419180.0  2822.0  2857.0  118734.0\n",
       "1957      108.4  442769.0  2936.0  2798.0  120445.0\n",
       "1958      110.8  444546.0  4681.0  2637.0  121950.0\n",
       "1959      112.6  482704.0  3813.0  2552.0  123366.0\n",
       "1960      114.2  502601.0  3931.0  2514.0  125368.0\n",
       "1961      115.7  518173.0  4806.0  2572.0  127852.0\n",
       "1962      116.9  554894.0  4007.0  2827.0  130081.0"
      ]
     },
     "execution_count": 35,
     "metadata": {},
     "output_type": "execute_result"
    }
   ],
   "source": [
    "X"
   ]
  },
  {
   "attachments": {},
   "cell_type": "markdown",
   "metadata": {},
   "source": [
    "### Section 3.2: time series classification data sets\n",
    "\n",
    "`sktime`'s `datasets` module currently allows to load a the following time series classification example data sets:\n",
    "\n",
    "| dataset name | loader function | properties |\n",
    "|----------|:-------------:|------:|\n",
    "| Appliance power consumption data | `load_acsf1` | univariate, equal length/index |\n",
    "| Arrowhead shape data | `load_arrow_head` | univariate, equal length/index |\n",
    "| Gunpoint motion data | `load_gunpoint` | univariate, equal length/index |\n",
    "| Italy power demand data | `load_italy_power_demand` | univariate, equal length/index |\n",
    "| Japanese vowels data | `load_japanese_vowels` | univariate, equal length/index |\n",
    "| OSUleaf leaf shape data | `load_osuleaf` | univariate, equal length/index |\n",
    "| Basic motions data | `load_basic_motions` | multivariate, equal length/index |\n",
    "\n",
    "Currently, there are no unequal length or unequal index time series classification example data directly in `sktime`.\n",
    "\n",
    "`sktime` also provides a full interface to the UCR/UEA time series data set archive, via the `load_UCR_UEA_dataset` function.\n",
    "The UCR/UEA archive also contains time series classification data sets which are multivariate, or unequal length/index (in either combination).\n"
   ]
  },
  {
   "attachments": {},
   "cell_type": "markdown",
   "metadata": {},
   "source": [
    "### Section 3.2.2: time series classification data sets in `sktime`\n",
    "\n",
    "Time series classification data sets consists of a panel of time series of `Panel` scitype, together with classification labels, one per time series.\n",
    "\n",
    "If a loader is invoked with minimal arguments, the data are returned as `\"nested_univ\"` mtype, with labels and series to classify in the same `pd.DataFrame`. Using the `return_X_y=True` argument, the data are returned separated into features `X` and labels `y`, with `X` a `Panel` of `nested_univ` mtype, and `y` and a `sklearn` compatible numpy vector of labels:\n"
   ]
  },
  {
   "cell_type": "code",
   "execution_count": 36,
   "metadata": {},
   "outputs": [],
   "source": [
    "from sktime.datasets import load_arrow_head\n",
    "\n",
    "X, y = load_arrow_head(return_X_y=True)"
   ]
  },
  {
   "cell_type": "code",
   "execution_count": 37,
   "metadata": {},
   "outputs": [
    {
     "data": {
      "text/html": [
       "<div>\n",
       "<style scoped>\n",
       "    .dataframe tbody tr th:only-of-type {\n",
       "        vertical-align: middle;\n",
       "    }\n",
       "\n",
       "    .dataframe tbody tr th {\n",
       "        vertical-align: top;\n",
       "    }\n",
       "\n",
       "    .dataframe thead th {\n",
       "        text-align: right;\n",
       "    }\n",
       "</style>\n",
       "<table border=\"1\" class=\"dataframe\">\n",
       "  <thead>\n",
       "    <tr style=\"text-align: right;\">\n",
       "      <th></th>\n",
       "      <th>dim_0</th>\n",
       "    </tr>\n",
       "  </thead>\n",
       "  <tbody>\n",
       "    <tr>\n",
       "      <th>0</th>\n",
       "      <td>0     -1.963009\n",
       "1     -1.957825\n",
       "2     -1.95614...</td>\n",
       "    </tr>\n",
       "    <tr>\n",
       "      <th>1</th>\n",
       "      <td>0     -1.774571\n",
       "1     -1.774036\n",
       "2     -1.77658...</td>\n",
       "    </tr>\n",
       "    <tr>\n",
       "      <th>2</th>\n",
       "      <td>0     -1.866021\n",
       "1     -1.841991\n",
       "2     -1.83502...</td>\n",
       "    </tr>\n",
       "    <tr>\n",
       "      <th>3</th>\n",
       "      <td>0     -2.073758\n",
       "1     -2.073301\n",
       "2     -2.04460...</td>\n",
       "    </tr>\n",
       "    <tr>\n",
       "      <th>4</th>\n",
       "      <td>0     -1.746255\n",
       "1     -1.741263\n",
       "2     -1.72274...</td>\n",
       "    </tr>\n",
       "    <tr>\n",
       "      <th>...</th>\n",
       "      <td>...</td>\n",
       "    </tr>\n",
       "    <tr>\n",
       "      <th>206</th>\n",
       "      <td>0     -1.625142\n",
       "1     -1.622988\n",
       "2     -1.62606...</td>\n",
       "    </tr>\n",
       "    <tr>\n",
       "      <th>207</th>\n",
       "      <td>0     -1.657757\n",
       "1     -1.664673\n",
       "2     -1.63264...</td>\n",
       "    </tr>\n",
       "    <tr>\n",
       "      <th>208</th>\n",
       "      <td>0     -1.603279\n",
       "1     -1.587365\n",
       "2     -1.57740...</td>\n",
       "    </tr>\n",
       "    <tr>\n",
       "      <th>209</th>\n",
       "      <td>0     -1.739020\n",
       "1     -1.741534\n",
       "2     -1.73286...</td>\n",
       "    </tr>\n",
       "    <tr>\n",
       "      <th>210</th>\n",
       "      <td>0     -1.630727\n",
       "1     -1.629918\n",
       "2     -1.62055...</td>\n",
       "    </tr>\n",
       "  </tbody>\n",
       "</table>\n",
       "<p>211 rows × 1 columns</p>\n",
       "</div>"
      ],
      "text/plain": [
       "                                                 dim_0\n",
       "0    0     -1.963009\n",
       "1     -1.957825\n",
       "2     -1.95614...\n",
       "1    0     -1.774571\n",
       "1     -1.774036\n",
       "2     -1.77658...\n",
       "2    0     -1.866021\n",
       "1     -1.841991\n",
       "2     -1.83502...\n",
       "3    0     -2.073758\n",
       "1     -2.073301\n",
       "2     -2.04460...\n",
       "4    0     -1.746255\n",
       "1     -1.741263\n",
       "2     -1.72274...\n",
       "..                                                 ...\n",
       "206  0     -1.625142\n",
       "1     -1.622988\n",
       "2     -1.62606...\n",
       "207  0     -1.657757\n",
       "1     -1.664673\n",
       "2     -1.63264...\n",
       "208  0     -1.603279\n",
       "1     -1.587365\n",
       "2     -1.57740...\n",
       "209  0     -1.739020\n",
       "1     -1.741534\n",
       "2     -1.73286...\n",
       "210  0     -1.630727\n",
       "1     -1.629918\n",
       "2     -1.62055...\n",
       "\n",
       "[211 rows x 1 columns]"
      ]
     },
     "execution_count": 37,
     "metadata": {},
     "output_type": "execute_result"
    }
   ],
   "source": [
    "X"
   ]
  },
  {
   "cell_type": "code",
   "execution_count": 38,
   "metadata": {},
   "outputs": [
    {
     "data": {
      "text/plain": [
       "array(['0', '1', '2', '0', '1', '2', '0', '1', '2', '0', '1', '2', '0',\n",
       "       '1', '2', '0', '1', '2', '0', '1', '2', '0', '1', '2', '0', '1',\n",
       "       '2', '0', '1', '2', '0', '1', '2', '0', '1', '2', '0', '0', '0',\n",
       "       '0', '0', '0', '0', '0', '0', '0', '0', '0', '0', '0', '0', '0',\n",
       "       '0', '0', '0', '0', '0', '0', '0', '0', '0', '0', '0', '0', '0',\n",
       "       '0', '0', '0', '0', '0', '0', '0', '0', '0', '0', '0', '0', '0',\n",
       "       '0', '0', '0', '0', '0', '0', '0', '0', '0', '0', '0', '0', '0',\n",
       "       '0', '0', '0', '0', '0', '0', '0', '0', '0', '0', '0', '0', '0',\n",
       "       '0', '1', '1', '1', '1', '1', '1', '1', '1', '1', '1', '1', '1',\n",
       "       '1', '1', '1', '1', '1', '1', '1', '1', '1', '1', '1', '1', '1',\n",
       "       '1', '1', '1', '1', '1', '1', '1', '1', '1', '1', '1', '1', '1',\n",
       "       '1', '1', '1', '1', '1', '1', '1', '1', '1', '1', '1', '1', '1',\n",
       "       '1', '1', '2', '2', '2', '2', '2', '2', '2', '2', '2', '2', '2',\n",
       "       '2', '2', '2', '2', '2', '2', '2', '2', '2', '2', '2', '2', '2',\n",
       "       '2', '2', '2', '2', '2', '2', '2', '2', '2', '2', '2', '2', '2',\n",
       "       '2', '2', '2', '2', '2', '2', '2', '2', '2', '2', '2', '2', '2',\n",
       "       '2', '2', '2'], dtype='<U1')"
      ]
     },
     "execution_count": 38,
     "metadata": {},
     "output_type": "execute_result"
    }
   ],
   "source": [
    "y"
   ]
  },
  {
   "attachments": {},
   "cell_type": "markdown",
   "metadata": {},
   "source": [
    "The panel can be converted from `\"nested_univ\"` mtype to other mtype formats, using `datatypes.convert` or `convert_to` (see above):"
   ]
  },
  {
   "cell_type": "code",
   "execution_count": 39,
   "metadata": {},
   "outputs": [
    {
     "data": {
      "text/html": [
       "<div>\n",
       "<style scoped>\n",
       "    .dataframe tbody tr th:only-of-type {\n",
       "        vertical-align: middle;\n",
       "    }\n",
       "\n",
       "    .dataframe tbody tr th {\n",
       "        vertical-align: top;\n",
       "    }\n",
       "\n",
       "    .dataframe thead th {\n",
       "        text-align: right;\n",
       "    }\n",
       "</style>\n",
       "<table border=\"1\" class=\"dataframe\">\n",
       "  <thead>\n",
       "    <tr style=\"text-align: right;\">\n",
       "      <th></th>\n",
       "      <th></th>\n",
       "      <th>dim_0</th>\n",
       "    </tr>\n",
       "    <tr>\n",
       "      <th></th>\n",
       "      <th>timepoints</th>\n",
       "      <th></th>\n",
       "    </tr>\n",
       "  </thead>\n",
       "  <tbody>\n",
       "    <tr>\n",
       "      <th rowspan=\"5\" valign=\"top\">0</th>\n",
       "      <th>0</th>\n",
       "      <td>-1.963009</td>\n",
       "    </tr>\n",
       "    <tr>\n",
       "      <th>1</th>\n",
       "      <td>-1.957825</td>\n",
       "    </tr>\n",
       "    <tr>\n",
       "      <th>2</th>\n",
       "      <td>-1.956145</td>\n",
       "    </tr>\n",
       "    <tr>\n",
       "      <th>3</th>\n",
       "      <td>-1.938289</td>\n",
       "    </tr>\n",
       "    <tr>\n",
       "      <th>4</th>\n",
       "      <td>-1.896657</td>\n",
       "    </tr>\n",
       "    <tr>\n",
       "      <th>...</th>\n",
       "      <th>...</th>\n",
       "      <td>...</td>\n",
       "    </tr>\n",
       "    <tr>\n",
       "      <th rowspan=\"5\" valign=\"top\">210</th>\n",
       "      <th>246</th>\n",
       "      <td>-1.513637</td>\n",
       "    </tr>\n",
       "    <tr>\n",
       "      <th>247</th>\n",
       "      <td>-1.550431</td>\n",
       "    </tr>\n",
       "    <tr>\n",
       "      <th>248</th>\n",
       "      <td>-1.581576</td>\n",
       "    </tr>\n",
       "    <tr>\n",
       "      <th>249</th>\n",
       "      <td>-1.595273</td>\n",
       "    </tr>\n",
       "    <tr>\n",
       "      <th>250</th>\n",
       "      <td>-1.620783</td>\n",
       "    </tr>\n",
       "  </tbody>\n",
       "</table>\n",
       "<p>52961 rows × 1 columns</p>\n",
       "</div>"
      ],
      "text/plain": [
       "                   dim_0\n",
       "    timepoints          \n",
       "0   0          -1.963009\n",
       "    1          -1.957825\n",
       "    2          -1.956145\n",
       "    3          -1.938289\n",
       "    4          -1.896657\n",
       "...                  ...\n",
       "210 246        -1.513637\n",
       "    247        -1.550431\n",
       "    248        -1.581576\n",
       "    249        -1.595273\n",
       "    250        -1.620783\n",
       "\n",
       "[52961 rows x 1 columns]"
      ]
     },
     "execution_count": 39,
     "metadata": {},
     "output_type": "execute_result"
    }
   ],
   "source": [
    "from sktime.datatypes import convert_to\n",
    "\n",
    "convert_to(X, to_type=\"pd-multiindex\")"
   ]
  },
  {
   "attachments": {},
   "cell_type": "markdown",
   "metadata": {},
   "source": [
    "Data set loaders can be invoked with the `split` parameter to obtain reproducible training and test sets for comparison across studies. If `split=\"train\"`, a pre-defined training set is retrieved; if `split=\"test\"`, a pre-defined test set is retrieved."
   ]
  },
  {
   "cell_type": "code",
   "execution_count": 40,
   "metadata": {},
   "outputs": [],
   "source": [
    "X_train, y_train = load_arrow_head(return_X_y=True, split=\"train\")\n",
    "X_test, y_test = load_arrow_head(return_X_y=True, split=\"test\")\n",
    "# this retrieves training and test X/y for reproducible use in studies"
   ]
  },
  {
   "attachments": {},
   "cell_type": "markdown",
   "metadata": {},
   "source": [
    "### Section 3.2.3: time series classification data sets from the UCR/UEA time series classification repository\n",
    "\n",
    "The `load_UCR_UEA_dataset` utility will download datasetes from the UCR/UEA time series classification repository and make them available as in-memory datasets, with the same syntax as `sktime` native data set loaders.\n",
    "\n",
    "Datasets are indexed by unique string identifiers, which can be inspected on the [repository itself](https://www.timeseriesclassification.com/), or via the register in the `datasets.tsc_dataset_names` module, by property:\n"
   ]
  },
  {
   "cell_type": "code",
   "execution_count": 41,
   "metadata": {},
   "outputs": [],
   "source": [
    "from sktime.datasets.tsc_dataset_names import univariate"
   ]
  },
  {
   "attachments": {},
   "cell_type": "markdown",
   "metadata": {},
   "source": [
    "The imported variables are all lists of strings which contain the unique string identifiers of datasets with certain properties, as follows:\n",
    "\n",
    "| register name | uni-/multivariate | equal/unequal length | with/without missing values |\n",
    "|----------|:-------------:|------:|------:|\n",
    "| `univariate` | only univariate | both included | both included |\n",
    "| `multivariate` | only multivariate | both included | both included |\n",
    "| `univariate_equal_length` | only univariate | only equal length | both included |\n",
    "| `univariate_variable_length` | only univariate | only unequal length | both included |\n",
    "| `univariate_missing_values` | only univariate | both included | only with missing values |\n",
    "| `multivariate_equal_length` | only multivariate | only equal length | both included |\n",
    "| `multivariate_unequal_length` | only multivariate | only unequal length | both included |\n",
    "\n",
    "Lookup and retrieval using these lists is, admittedly, a bit inconvenient - contributions to `sktime` to write a lookup functions such as `all_estimators` or `all_tags`, based on capability or property tags attached to datasets would be very much appreciated.\n",
    "\n",
    "An example list is displayed below:"
   ]
  },
  {
   "cell_type": "code",
   "execution_count": 42,
   "metadata": {},
   "outputs": [
    {
     "data": {
      "text/plain": [
       "['ACSF1',\n",
       " 'Adiac',\n",
       " 'AllGestureWiimoteX',\n",
       " 'AllGestureWiimoteY',\n",
       " 'AllGestureWiimoteZ',\n",
       " 'ArrowHead',\n",
       " 'AsphaltObstacles',\n",
       " 'Beef',\n",
       " 'BeetleFly',\n",
       " 'BirdChicken',\n",
       " 'BME',\n",
       " 'Car',\n",
       " 'CBF',\n",
       " 'Chinatown',\n",
       " 'ChlorineConcentration',\n",
       " 'CinCECGTorso',\n",
       " 'Coffee',\n",
       " 'Computers',\n",
       " 'CricketX',\n",
       " 'CricketY',\n",
       " 'CricketZ',\n",
       " 'Crop',\n",
       " 'DiatomSizeReduction',\n",
       " 'DistalPhalanxOutlineCorrect',\n",
       " 'DistalPhalanxOutlineAgeGroup',\n",
       " 'DistalPhalanxTW',\n",
       " 'DodgerLoopDay',\n",
       " 'DodgerLoopGame',\n",
       " 'DodgerLoopWeekend',\n",
       " 'Earthquakes',\n",
       " 'ECG200',\n",
       " 'ECG5000',\n",
       " 'ECGFiveDays',\n",
       " 'ElectricDevices',\n",
       " 'EOGHorizontalSignal',\n",
       " 'EOGVerticalSignal',\n",
       " 'EthanolLevel',\n",
       " 'FaceAll',\n",
       " 'FaceFour',\n",
       " 'FacesUCR',\n",
       " 'FiftyWords',\n",
       " 'Fish',\n",
       " 'FordA',\n",
       " 'FordB',\n",
       " 'FreezerRegularTrain',\n",
       " 'FreezerSmallTrain',\n",
       " 'Fungi',\n",
       " 'GestureMidAirD1',\n",
       " 'GestureMidAirD2',\n",
       " 'GestureMidAirD3',\n",
       " 'GesturePebbleZ1',\n",
       " 'GesturePebbleZ2',\n",
       " 'GunPoint',\n",
       " 'GunPointAgeSpan',\n",
       " 'GunPointMaleVersusFemale',\n",
       " 'GunPointOldVersusYoung',\n",
       " 'Ham',\n",
       " 'HandOutlines',\n",
       " 'Haptics',\n",
       " 'Herring',\n",
       " 'HouseTwenty',\n",
       " 'InlineSkate',\n",
       " 'InsectEPGRegularTrain',\n",
       " 'InsectEPGSmallTrain',\n",
       " 'InsectWingbeatSound',\n",
       " 'ItalyPowerDemand',\n",
       " 'LargeKitchenAppliances',\n",
       " 'Lightning2',\n",
       " 'Lightning7',\n",
       " 'Mallat',\n",
       " 'Meat',\n",
       " 'MedicalImages',\n",
       " 'MelbournePedestrian',\n",
       " 'MiddlePhalanxOutlineCorrect',\n",
       " 'MiddlePhalanxOutlineAgeGroup',\n",
       " 'MiddlePhalanxTW',\n",
       " 'MixedShapesRegularTrain',\n",
       " 'MixedShapesSmallTrain',\n",
       " 'MoteStrain',\n",
       " 'NonInvasiveFetalECGThorax1',\n",
       " 'NonInvasiveFetalECGThorax2',\n",
       " 'OliveOil',\n",
       " 'OSULeaf',\n",
       " 'PhalangesOutlinesCorrect',\n",
       " 'Phoneme',\n",
       " 'PickupGestureWiimoteZ',\n",
       " 'PigAirwayPressure',\n",
       " 'PigArtPressure',\n",
       " 'PigCVP',\n",
       " 'PLAID',\n",
       " 'Plane',\n",
       " 'PowerCons',\n",
       " 'ProximalPhalanxOutlineCorrect',\n",
       " 'ProximalPhalanxOutlineAgeGroup',\n",
       " 'ProximalPhalanxTW',\n",
       " 'RefrigerationDevices',\n",
       " 'Rock',\n",
       " 'ScreenType',\n",
       " 'SemgHandGenderCh2',\n",
       " 'SemgHandMovementCh2',\n",
       " 'SemgHandSubjectCh2',\n",
       " 'ShakeGestureWiimoteZ',\n",
       " 'ShapeletSim',\n",
       " 'ShapesAll',\n",
       " 'SmallKitchenAppliances',\n",
       " 'SmoothSubspace',\n",
       " 'SonyAIBORobotSurface1',\n",
       " 'SonyAIBORobotSurface2',\n",
       " 'StarLightCurves',\n",
       " 'Strawberry',\n",
       " 'SwedishLeaf',\n",
       " 'Symbols',\n",
       " 'SyntheticControl',\n",
       " 'ToeSegmentation1',\n",
       " 'ToeSegmentation2',\n",
       " 'Trace',\n",
       " 'TwoLeadECG',\n",
       " 'TwoPatterns',\n",
       " 'UMD',\n",
       " 'UWaveGestureLibraryAll',\n",
       " 'UWaveGestureLibraryX',\n",
       " 'UWaveGestureLibraryY',\n",
       " 'UWaveGestureLibraryZ',\n",
       " 'Wafer',\n",
       " 'Wine',\n",
       " 'WordSynonyms',\n",
       " 'Worms',\n",
       " 'WormsTwoClass']"
      ]
     },
     "execution_count": 42,
     "metadata": {},
     "output_type": "execute_result"
    }
   ],
   "source": [
    "univariate"
   ]
  },
  {
   "attachments": {},
   "cell_type": "markdown",
   "metadata": {},
   "source": [
    "The loader function `load_UCR_UEA_dataset` behaves exactly as `sktime` data loaders, with an additional argument `name` that should be set to one of the unique identifying strings for the UCR/UEA datasets, for instance:"
   ]
  },
  {
   "cell_type": "code",
   "execution_count": 43,
   "metadata": {},
   "outputs": [],
   "source": [
    "from sktime.datasets import load_UCR_UEA_dataset\n",
    "\n",
    "X, y = load_UCR_UEA_dataset(name=\"ArrowHead\", return_X_y=True)"
   ]
  },
  {
   "attachments": {},
   "cell_type": "markdown",
   "metadata": {},
   "source": [
    "This will download the dataset into a local directory (by default: for a local clone, the `datasets/data` directory in the local repository; for a release install, in the local python environment folder). To change that directory, specify it using the `extract_path` argument of the `load_UCR_UEA_dataset` function."
   ]
  },
  {
   "attachments": {},
   "cell_type": "markdown",
   "metadata": {},
   "source": [
    "## Section 4: loading data from `csv` files\n",
    "\n",
    "This section shows how to load some common tabular `csv` formats into `sktime`\n",
    "compatible containers.\n",
    "\n",
    "We'll cover:\n",
    "\n",
    "* converting series datasets to `sktime` compatible containers\n",
    "* converting panel datasets to `sktime` compatible containers\n",
    "\n",
    "We assume that **all csv files are have some tabular formats**.\n",
    "\n",
    "This means that the `csv` file contains columns for the time index,\n",
    "or instance index for panel data,\n",
    "or are in a wide tabular format.\n",
    "\n",
    "Note: at every step, we could use `check_is_mtype` to check against the\n",
    "target format. A reader may like to do so.\n"
   ]
  },
  {
   "attachments": {},
   "cell_type": "markdown",
   "metadata": {},
   "source": [
    "### Section 4.1: simple time series example"
   ]
  },
  {
   "cell_type": "code",
   "execution_count": 44,
   "metadata": {},
   "outputs": [
    {
     "data": {
      "text/html": [
       "<div>\n",
       "<style scoped>\n",
       "    .dataframe tbody tr th:only-of-type {\n",
       "        vertical-align: middle;\n",
       "    }\n",
       "\n",
       "    .dataframe tbody tr th {\n",
       "        vertical-align: top;\n",
       "    }\n",
       "\n",
       "    .dataframe thead th {\n",
       "        text-align: right;\n",
       "    }\n",
       "</style>\n",
       "<table border=\"1\" class=\"dataframe\">\n",
       "  <thead>\n",
       "    <tr style=\"text-align: right;\">\n",
       "      <th></th>\n",
       "      <th>Date</th>\n",
       "      <th>Passengers</th>\n",
       "    </tr>\n",
       "  </thead>\n",
       "  <tbody>\n",
       "    <tr>\n",
       "      <th>0</th>\n",
       "      <td>1949-01</td>\n",
       "      <td>112</td>\n",
       "    </tr>\n",
       "    <tr>\n",
       "      <th>1</th>\n",
       "      <td>1949-02</td>\n",
       "      <td>118</td>\n",
       "    </tr>\n",
       "    <tr>\n",
       "      <th>2</th>\n",
       "      <td>1949-03</td>\n",
       "      <td>132</td>\n",
       "    </tr>\n",
       "    <tr>\n",
       "      <th>3</th>\n",
       "      <td>1949-04</td>\n",
       "      <td>129</td>\n",
       "    </tr>\n",
       "    <tr>\n",
       "      <th>4</th>\n",
       "      <td>1949-05</td>\n",
       "      <td>121</td>\n",
       "    </tr>\n",
       "  </tbody>\n",
       "</table>\n",
       "</div>"
      ],
      "text/plain": [
       "      Date  Passengers\n",
       "0  1949-01         112\n",
       "1  1949-02         118\n",
       "2  1949-03         132\n",
       "3  1949-04         129\n",
       "4  1949-05         121"
      ]
     },
     "execution_count": 44,
     "metadata": {},
     "output_type": "execute_result"
    }
   ],
   "source": [
    "import pandas as pd\n",
    "\n",
    "df_series = pd.read_csv(\"../sktime/datasets/data/Airline/Airline.csv\")\n",
    "df_series.head()"
   ]
  },
  {
   "cell_type": "code",
   "execution_count": 45,
   "metadata": {},
   "outputs": [],
   "source": [
    "df_series = df_series.set_index(\n",
    "    \"Date\"\n",
    ").squeeze()  # replace \"Period\" with the column name of the time index\n",
    "df_series.index = pd.DatetimeIndex(df_series.index)"
   ]
  },
  {
   "cell_type": "code",
   "execution_count": 46,
   "metadata": {},
   "outputs": [
    {
     "data": {
      "text/plain": [
       "'pd.Series'"
      ]
     },
     "execution_count": 46,
     "metadata": {},
     "output_type": "execute_result"
    }
   ],
   "source": [
    "mtype(df_series, as_scitype=\"Series\")"
   ]
  },
  {
   "attachments": {},
   "cell_type": "markdown",
   "metadata": {},
   "source": [
    "### Section 4.2: easy panel data example"
   ]
  },
  {
   "cell_type": "code",
   "execution_count": 47,
   "metadata": {},
   "outputs": [],
   "source": [
    "# mimicking a scenario where we already have a csv file in the right format\n",
    "from sktime.datasets import load_arrow_head\n",
    "from sktime.datatypes import convert_to\n",
    "\n",
    "df_panel = load_arrow_head(split=\"TRAIN\")[0]\n",
    "df_panel = convert_to(df_panel, \"pd-multiindex\").reset_index()\n",
    "# imagine this is the result of df_panel = pd.read_csv"
   ]
  },
  {
   "cell_type": "code",
   "execution_count": 48,
   "metadata": {},
   "outputs": [
    {
     "data": {
      "text/html": [
       "<div>\n",
       "<style scoped>\n",
       "    .dataframe tbody tr th:only-of-type {\n",
       "        vertical-align: middle;\n",
       "    }\n",
       "\n",
       "    .dataframe tbody tr th {\n",
       "        vertical-align: top;\n",
       "    }\n",
       "\n",
       "    .dataframe thead th {\n",
       "        text-align: right;\n",
       "    }\n",
       "</style>\n",
       "<table border=\"1\" class=\"dataframe\">\n",
       "  <thead>\n",
       "    <tr style=\"text-align: right;\">\n",
       "      <th></th>\n",
       "      <th>level_0</th>\n",
       "      <th>timepoints</th>\n",
       "      <th>dim_0</th>\n",
       "    </tr>\n",
       "  </thead>\n",
       "  <tbody>\n",
       "    <tr>\n",
       "      <th>0</th>\n",
       "      <td>0</td>\n",
       "      <td>0</td>\n",
       "      <td>-1.963009</td>\n",
       "    </tr>\n",
       "    <tr>\n",
       "      <th>1</th>\n",
       "      <td>0</td>\n",
       "      <td>1</td>\n",
       "      <td>-1.957825</td>\n",
       "    </tr>\n",
       "    <tr>\n",
       "      <th>2</th>\n",
       "      <td>0</td>\n",
       "      <td>2</td>\n",
       "      <td>-1.956145</td>\n",
       "    </tr>\n",
       "    <tr>\n",
       "      <th>3</th>\n",
       "      <td>0</td>\n",
       "      <td>3</td>\n",
       "      <td>-1.938289</td>\n",
       "    </tr>\n",
       "    <tr>\n",
       "      <th>4</th>\n",
       "      <td>0</td>\n",
       "      <td>4</td>\n",
       "      <td>-1.896657</td>\n",
       "    </tr>\n",
       "  </tbody>\n",
       "</table>\n",
       "</div>"
      ],
      "text/plain": [
       "   level_0  timepoints     dim_0\n",
       "0        0           0 -1.963009\n",
       "1        0           1 -1.957825\n",
       "2        0           2 -1.956145\n",
       "3        0           3 -1.938289\n",
       "4        0           4 -1.896657"
      ]
     },
     "execution_count": 48,
     "metadata": {},
     "output_type": "execute_result"
    }
   ],
   "source": [
    "df_panel.head()"
   ]
  },
  {
   "attachments": {},
   "cell_type": "markdown",
   "metadata": {},
   "source": [
    "this is similar to pd-multiindex format, so we try to move it to that.\n",
    "\n",
    "The one thing that we need to change is setting instance/time as index:"
   ]
  },
  {
   "cell_type": "code",
   "execution_count": 49,
   "metadata": {},
   "outputs": [
    {
     "data": {
      "text/plain": [
       "pandas.core.indexes.multi.MultiIndex"
      ]
     },
     "execution_count": 49,
     "metadata": {},
     "output_type": "execute_result"
    }
   ],
   "source": [
    "df_panel = df_panel.set_index([\"timepoints\", \"level_0\"])\n",
    "type(df_panel.index)"
   ]
  },
  {
   "attachments": {},
   "cell_type": "markdown",
   "metadata": {},
   "source": [
    "this is now recognized by `sktime` as being in pd-multiindex format"
   ]
  },
  {
   "cell_type": "code",
   "execution_count": 50,
   "metadata": {},
   "outputs": [
    {
     "data": {
      "text/plain": [
       "'pd-multiindex'"
      ]
     },
     "execution_count": 50,
     "metadata": {},
     "output_type": "execute_result"
    }
   ],
   "source": [
    "mtype(df_panel, as_scitype=\"Panel\")\n",
    "# in general:\n",
    "# replace \"timepoints\" with the time index column name\n",
    "# replace \"level_0\" with the higher level column name of your file"
   ]
  },
  {
   "attachments": {},
   "cell_type": "markdown",
   "metadata": {},
   "source": [
    "### Section 4.3: difficult panel data example"
   ]
  },
  {
   "attachments": {},
   "cell_type": "markdown",
   "metadata": {},
   "source": [
    "We now try to load panel data from a file where the format is a bit challenging\n",
    "\n",
    "In the below file:\n",
    "\n",
    "1. the separator is not the default (comma) but tab. For this, we set `sep=\\t`\n",
    "2. there is no header in the file\n",
    "3. there is no instance index, so we need to add it\n",
    "4. the indexing is not similar to `sktime` - the first column has variable index,\n",
    "   and the columns are time index\n",
    "\n",
    "These or similar challenges are common in `csv` files for panel data,\n",
    "so we show below how to address them.\n",
    "\n",
    "It is advised to bring the data to either the plain `pandas` or `numpy` based format.\n",
    "In the below case, we will bring the data to `pd-multiindex` format."
   ]
  },
  {
   "cell_type": "code",
   "execution_count": 51,
   "metadata": {},
   "outputs": [
    {
     "data": {
      "text/html": [
       "<div>\n",
       "<style scoped>\n",
       "    .dataframe tbody tr th:only-of-type {\n",
       "        vertical-align: middle;\n",
       "    }\n",
       "\n",
       "    .dataframe tbody tr th {\n",
       "        vertical-align: top;\n",
       "    }\n",
       "\n",
       "    .dataframe thead th {\n",
       "        text-align: right;\n",
       "    }\n",
       "</style>\n",
       "<table border=\"1\" class=\"dataframe\">\n",
       "  <thead>\n",
       "    <tr style=\"text-align: right;\">\n",
       "      <th></th>\n",
       "      <th>0</th>\n",
       "      <th>1</th>\n",
       "      <th>2</th>\n",
       "      <th>3</th>\n",
       "      <th>4</th>\n",
       "      <th>5</th>\n",
       "      <th>6</th>\n",
       "      <th>7</th>\n",
       "      <th>8</th>\n",
       "      <th>9</th>\n",
       "      <th>...</th>\n",
       "      <th>242</th>\n",
       "      <th>243</th>\n",
       "      <th>244</th>\n",
       "      <th>245</th>\n",
       "      <th>246</th>\n",
       "      <th>247</th>\n",
       "      <th>248</th>\n",
       "      <th>249</th>\n",
       "      <th>250</th>\n",
       "      <th>251</th>\n",
       "    </tr>\n",
       "  </thead>\n",
       "  <tbody>\n",
       "    <tr>\n",
       "      <th>0</th>\n",
       "      <td>0</td>\n",
       "      <td>-1.963009</td>\n",
       "      <td>-1.957825</td>\n",
       "      <td>-1.956145</td>\n",
       "      <td>-1.938289</td>\n",
       "      <td>-1.896657</td>\n",
       "      <td>-1.869857</td>\n",
       "      <td>-1.838705</td>\n",
       "      <td>-1.812289</td>\n",
       "      <td>-1.736433</td>\n",
       "      <td>...</td>\n",
       "      <td>-1.583857</td>\n",
       "      <td>-1.655329</td>\n",
       "      <td>-1.719153</td>\n",
       "      <td>-1.750881</td>\n",
       "      <td>-1.796273</td>\n",
       "      <td>-1.841345</td>\n",
       "      <td>-1.884289</td>\n",
       "      <td>-1.905393</td>\n",
       "      <td>-1.923905</td>\n",
       "      <td>-1.909153</td>\n",
       "    </tr>\n",
       "    <tr>\n",
       "      <th>1</th>\n",
       "      <td>1</td>\n",
       "      <td>-1.774571</td>\n",
       "      <td>-1.774036</td>\n",
       "      <td>-1.776586</td>\n",
       "      <td>-1.730749</td>\n",
       "      <td>-1.696268</td>\n",
       "      <td>-1.657377</td>\n",
       "      <td>-1.636227</td>\n",
       "      <td>-1.609807</td>\n",
       "      <td>-1.543439</td>\n",
       "      <td>...</td>\n",
       "      <td>-1.471688</td>\n",
       "      <td>-1.484666</td>\n",
       "      <td>-1.539972</td>\n",
       "      <td>-1.590150</td>\n",
       "      <td>-1.635663</td>\n",
       "      <td>-1.639989</td>\n",
       "      <td>-1.678683</td>\n",
       "      <td>-1.729227</td>\n",
       "      <td>-1.775670</td>\n",
       "      <td>-1.789324</td>\n",
       "    </tr>\n",
       "    <tr>\n",
       "      <th>2</th>\n",
       "      <td>2</td>\n",
       "      <td>-1.866021</td>\n",
       "      <td>-1.841991</td>\n",
       "      <td>-1.835025</td>\n",
       "      <td>-1.811902</td>\n",
       "      <td>-1.764390</td>\n",
       "      <td>-1.707687</td>\n",
       "      <td>-1.648280</td>\n",
       "      <td>-1.582643</td>\n",
       "      <td>-1.531502</td>\n",
       "      <td>...</td>\n",
       "      <td>-1.584132</td>\n",
       "      <td>-1.652337</td>\n",
       "      <td>-1.684565</td>\n",
       "      <td>-1.743972</td>\n",
       "      <td>-1.799117</td>\n",
       "      <td>-1.829069</td>\n",
       "      <td>-1.875828</td>\n",
       "      <td>-1.862512</td>\n",
       "      <td>-1.863368</td>\n",
       "      <td>-1.846493</td>\n",
       "    </tr>\n",
       "    <tr>\n",
       "      <th>3</th>\n",
       "      <td>0</td>\n",
       "      <td>-2.073758</td>\n",
       "      <td>-2.073301</td>\n",
       "      <td>-2.044607</td>\n",
       "      <td>-2.038346</td>\n",
       "      <td>-1.959043</td>\n",
       "      <td>-1.874494</td>\n",
       "      <td>-1.805619</td>\n",
       "      <td>-1.731043</td>\n",
       "      <td>-1.712653</td>\n",
       "      <td>...</td>\n",
       "      <td>-1.678942</td>\n",
       "      <td>-1.743732</td>\n",
       "      <td>-1.819801</td>\n",
       "      <td>-1.858136</td>\n",
       "      <td>-1.886146</td>\n",
       "      <td>-1.951247</td>\n",
       "      <td>-2.012927</td>\n",
       "      <td>-2.026963</td>\n",
       "      <td>-2.073405</td>\n",
       "      <td>-2.075292</td>\n",
       "    </tr>\n",
       "    <tr>\n",
       "      <th>4</th>\n",
       "      <td>1</td>\n",
       "      <td>-1.746255</td>\n",
       "      <td>-1.741263</td>\n",
       "      <td>-1.722741</td>\n",
       "      <td>-1.698640</td>\n",
       "      <td>-1.677223</td>\n",
       "      <td>-1.630356</td>\n",
       "      <td>-1.579440</td>\n",
       "      <td>-1.551225</td>\n",
       "      <td>-1.473980</td>\n",
       "      <td>...</td>\n",
       "      <td>-1.547111</td>\n",
       "      <td>-1.607101</td>\n",
       "      <td>-1.635137</td>\n",
       "      <td>-1.686346</td>\n",
       "      <td>-1.691274</td>\n",
       "      <td>-1.716886</td>\n",
       "      <td>-1.740726</td>\n",
       "      <td>-1.743442</td>\n",
       "      <td>-1.762729</td>\n",
       "      <td>-1.763428</td>\n",
       "    </tr>\n",
       "  </tbody>\n",
       "</table>\n",
       "<p>5 rows × 252 columns</p>\n",
       "</div>"
      ],
      "text/plain": [
       "   0         1         2         3         4         5         6         7    \\\n",
       "0    0 -1.963009 -1.957825 -1.956145 -1.938289 -1.896657 -1.869857 -1.838705   \n",
       "1    1 -1.774571 -1.774036 -1.776586 -1.730749 -1.696268 -1.657377 -1.636227   \n",
       "2    2 -1.866021 -1.841991 -1.835025 -1.811902 -1.764390 -1.707687 -1.648280   \n",
       "3    0 -2.073758 -2.073301 -2.044607 -2.038346 -1.959043 -1.874494 -1.805619   \n",
       "4    1 -1.746255 -1.741263 -1.722741 -1.698640 -1.677223 -1.630356 -1.579440   \n",
       "\n",
       "        8         9    ...       242       243       244       245       246  \\\n",
       "0 -1.812289 -1.736433  ... -1.583857 -1.655329 -1.719153 -1.750881 -1.796273   \n",
       "1 -1.609807 -1.543439  ... -1.471688 -1.484666 -1.539972 -1.590150 -1.635663   \n",
       "2 -1.582643 -1.531502  ... -1.584132 -1.652337 -1.684565 -1.743972 -1.799117   \n",
       "3 -1.731043 -1.712653  ... -1.678942 -1.743732 -1.819801 -1.858136 -1.886146   \n",
       "4 -1.551225 -1.473980  ... -1.547111 -1.607101 -1.635137 -1.686346 -1.691274   \n",
       "\n",
       "        247       248       249       250       251  \n",
       "0 -1.841345 -1.884289 -1.905393 -1.923905 -1.909153  \n",
       "1 -1.639989 -1.678683 -1.729227 -1.775670 -1.789324  \n",
       "2 -1.829069 -1.875828 -1.862512 -1.863368 -1.846493  \n",
       "3 -1.951247 -2.012927 -2.026963 -2.073405 -2.075292  \n",
       "4 -1.716886 -1.740726 -1.743442 -1.762729 -1.763428  \n",
       "\n",
       "[5 rows x 252 columns]"
      ]
     },
     "execution_count": 51,
     "metadata": {},
     "output_type": "execute_result"
    }
   ],
   "source": [
    "# 1, 2 - dealing with the separator and header\n",
    "import pandas as pd\n",
    "\n",
    "df_panel = pd.read_csv(\n",
    "    \"../sktime/datasets/data/ArrowHead/ArrowHead_TRAIN.tsv\",\n",
    "    sep=\"\\t\",\n",
    "    header=None,\n",
    ")\n",
    "df_panel.head()"
   ]
  },
  {
   "cell_type": "code",
   "execution_count": 52,
   "metadata": {},
   "outputs": [],
   "source": [
    "# 2 - adding an instance index manually\n",
    "import numpy as np\n",
    "\n",
    "df_panel[\"instance\"] = np.repeat(range(len(df_panel) // 3), 3)"
   ]
  },
  {
   "attachments": {},
   "cell_type": "markdown",
   "metadata": {},
   "source": [
    "now we bring the data into long format by depivoting:"
   ]
  },
  {
   "cell_type": "code",
   "execution_count": 53,
   "metadata": {},
   "outputs": [],
   "source": [
    "# 3 - add instance index\n",
    "df_panel.columns = [\"var\"] + [f\"value{i}\" for i in range(251)] + [\"instance\"]\n",
    "# 4 - move to long format\n",
    "df_panel = pd.wide_to_long(df_panel, \"value\", i=[\"var\", \"instance\"], j=\"time\")"
   ]
  },
  {
   "cell_type": "code",
   "execution_count": 54,
   "metadata": {},
   "outputs": [
    {
     "data": {
      "text/html": [
       "<div>\n",
       "<style scoped>\n",
       "    .dataframe tbody tr th:only-of-type {\n",
       "        vertical-align: middle;\n",
       "    }\n",
       "\n",
       "    .dataframe tbody tr th {\n",
       "        vertical-align: top;\n",
       "    }\n",
       "\n",
       "    .dataframe thead th {\n",
       "        text-align: right;\n",
       "    }\n",
       "</style>\n",
       "<table border=\"1\" class=\"dataframe\">\n",
       "  <thead>\n",
       "    <tr style=\"text-align: right;\">\n",
       "      <th></th>\n",
       "      <th></th>\n",
       "      <th></th>\n",
       "      <th>value</th>\n",
       "    </tr>\n",
       "    <tr>\n",
       "      <th>var</th>\n",
       "      <th>instance</th>\n",
       "      <th>time</th>\n",
       "      <th></th>\n",
       "    </tr>\n",
       "  </thead>\n",
       "  <tbody>\n",
       "    <tr>\n",
       "      <th rowspan=\"5\" valign=\"top\">0</th>\n",
       "      <th rowspan=\"5\" valign=\"top\">0</th>\n",
       "      <th>0</th>\n",
       "      <td>-1.963009</td>\n",
       "    </tr>\n",
       "    <tr>\n",
       "      <th>1</th>\n",
       "      <td>-1.957825</td>\n",
       "    </tr>\n",
       "    <tr>\n",
       "      <th>2</th>\n",
       "      <td>-1.956145</td>\n",
       "    </tr>\n",
       "    <tr>\n",
       "      <th>3</th>\n",
       "      <td>-1.938289</td>\n",
       "    </tr>\n",
       "    <tr>\n",
       "      <th>4</th>\n",
       "      <td>-1.896657</td>\n",
       "    </tr>\n",
       "  </tbody>\n",
       "</table>\n",
       "</div>"
      ],
      "text/plain": [
       "                      value\n",
       "var instance time          \n",
       "0   0        0    -1.963009\n",
       "             1    -1.957825\n",
       "             2    -1.956145\n",
       "             3    -1.938289\n",
       "             4    -1.896657"
      ]
     },
     "execution_count": 54,
     "metadata": {},
     "output_type": "execute_result"
    }
   ],
   "source": [
    "df_panel.head()"
   ]
  },
  {
   "attachments": {},
   "cell_type": "markdown",
   "metadata": {},
   "source": [
    "now the \"var\" index is in the rows, but it should be in the columns:"
   ]
  },
  {
   "cell_type": "code",
   "execution_count": 55,
   "metadata": {},
   "outputs": [],
   "source": [
    "# 3 - move variable index to columns\n",
    "df_panel = df_panel.reset_index(\"var\")\n",
    "df_panel = df_panel.pivot(columns=\"var\", values=\"value\")"
   ]
  },
  {
   "cell_type": "code",
   "execution_count": 56,
   "metadata": {},
   "outputs": [
    {
     "data": {
      "text/html": [
       "<div>\n",
       "<style scoped>\n",
       "    .dataframe tbody tr th:only-of-type {\n",
       "        vertical-align: middle;\n",
       "    }\n",
       "\n",
       "    .dataframe tbody tr th {\n",
       "        vertical-align: top;\n",
       "    }\n",
       "\n",
       "    .dataframe thead th {\n",
       "        text-align: right;\n",
       "    }\n",
       "</style>\n",
       "<table border=\"1\" class=\"dataframe\">\n",
       "  <thead>\n",
       "    <tr style=\"text-align: right;\">\n",
       "      <th></th>\n",
       "      <th>var</th>\n",
       "      <th>0</th>\n",
       "      <th>1</th>\n",
       "      <th>2</th>\n",
       "    </tr>\n",
       "    <tr>\n",
       "      <th>instance</th>\n",
       "      <th>time</th>\n",
       "      <th></th>\n",
       "      <th></th>\n",
       "      <th></th>\n",
       "    </tr>\n",
       "  </thead>\n",
       "  <tbody>\n",
       "    <tr>\n",
       "      <th rowspan=\"5\" valign=\"top\">0</th>\n",
       "      <th>0</th>\n",
       "      <td>-1.963009</td>\n",
       "      <td>-1.774571</td>\n",
       "      <td>-1.866021</td>\n",
       "    </tr>\n",
       "    <tr>\n",
       "      <th>1</th>\n",
       "      <td>-1.957825</td>\n",
       "      <td>-1.774036</td>\n",
       "      <td>-1.841991</td>\n",
       "    </tr>\n",
       "    <tr>\n",
       "      <th>2</th>\n",
       "      <td>-1.956145</td>\n",
       "      <td>-1.776586</td>\n",
       "      <td>-1.835025</td>\n",
       "    </tr>\n",
       "    <tr>\n",
       "      <th>3</th>\n",
       "      <td>-1.938289</td>\n",
       "      <td>-1.730749</td>\n",
       "      <td>-1.811902</td>\n",
       "    </tr>\n",
       "    <tr>\n",
       "      <th>4</th>\n",
       "      <td>-1.896657</td>\n",
       "      <td>-1.696268</td>\n",
       "      <td>-1.764390</td>\n",
       "    </tr>\n",
       "  </tbody>\n",
       "</table>\n",
       "</div>"
      ],
      "text/plain": [
       "var                   0         1         2\n",
       "instance time                              \n",
       "0        0    -1.963009 -1.774571 -1.866021\n",
       "         1    -1.957825 -1.774036 -1.841991\n",
       "         2    -1.956145 -1.776586 -1.835025\n",
       "         3    -1.938289 -1.730749 -1.811902\n",
       "         4    -1.896657 -1.696268 -1.764390"
      ]
     },
     "execution_count": 56,
     "metadata": {},
     "output_type": "execute_result"
    }
   ],
   "source": [
    "df_panel.head()"
   ]
  },
  {
   "attachments": {},
   "cell_type": "markdown",
   "metadata": {},
   "source": [
    "This is now in the pd-multiindex format:"
   ]
  },
  {
   "cell_type": "code",
   "execution_count": 57,
   "metadata": {},
   "outputs": [
    {
     "data": {
      "text/plain": [
       "'pd-multiindex'"
      ]
     },
     "execution_count": 57,
     "metadata": {},
     "output_type": "execute_result"
    }
   ],
   "source": [
    "mtype(df_panel, as_scitype=\"Panel\")"
   ]
  },
  {
   "attachments": {},
   "cell_type": "markdown",
   "metadata": {},
   "source": [
    "an alternative route would be removing the index,\n",
    "and using reshapes in `numpy`."
   ]
  }
 ],
 "metadata": {
  "hide_input": false,
  "interpreter": {
   "hash": "bc250fec99d1b72e5bb23d9fb06e1f1ac90e860438a1535c061277d2caf5ebfc"
  },
  "kernelspec": {
   "display_name": "Python 3.10.11 64-bit ('sktime': conda)",
   "language": "python",
   "name": "python3"
  },
  "language_info": {
   "codemirror_mode": {
    "name": "ipython",
    "version": 3
   },
   "file_extension": ".py",
   "mimetype": "text/x-python",
   "name": "python",
   "nbconvert_exporter": "python",
   "pygments_lexer": "ipython3",
   "version": "3.10.11"
  },
  "latex_envs": {
   "LaTeX_envs_menu_present": true,
   "autoclose": false,
   "autocomplete": true,
   "bibliofile": "biblio.bib",
   "cite_by": "apalike",
   "current_citInitial": 1,
   "eqLabelWithNumbers": true,
   "eqNumInitial": 1,
   "hotkeys": {
    "equation": "Ctrl-E",
    "itemize": "Ctrl-I"
   },
   "labels_anchors": false,
   "latex_user_defs": false,
   "report_style_numbering": false,
   "user_envs_cfg": false
  },
  "toc": {
   "base_numbering": 1,
   "nav_menu": {},
   "number_sections": true,
   "sideBar": true,
   "skip_h1_title": false,
   "title_cell": "Table of Contents",
   "title_sidebar": "Contents",
   "toc_cell": false,
   "toc_position": {},
   "toc_section_display": true,
   "toc_window_display": false
  },
  "varInspector": {
   "cols": {
    "lenName": 16,
    "lenType": 16,
    "lenVar": 40
   },
   "kernels_config": {
    "python": {
     "delete_cmd_postfix": "",
     "delete_cmd_prefix": "del ",
     "library": "var_list.py",
     "varRefreshCmd": "print(var_dic_list())"
    },
    "r": {
     "delete_cmd_postfix": ") ",
     "delete_cmd_prefix": "rm(",
     "library": "var_list.r",
     "varRefreshCmd": "cat(var_dic_list()) "
    }
   },
   "types_to_exclude": [
    "module",
    "function",
    "builtin_function_or_method",
    "instance",
    "_Feature"
   ],
   "window_display": false
  }
 },
 "nbformat": 4,
 "nbformat_minor": 4
}
