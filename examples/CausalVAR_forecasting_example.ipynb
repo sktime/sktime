{
    "cells": [
        {
            "cell_type": "markdown",
            "metadata": {},
            "source": [
                "# Using Causal Inference to Improve Time Series Forecasting with CausalVAR\n",
                "\n",
                "This notebook demonstrates how to use the `CausalVAR` forecaster in `sktime`. `CausalVAR` is a Vector Autoregressive (VAR) model that uses a known causal graph to prune its features. \n",
                "\n",
                "**The Problem with Standard VAR:** A standard VAR model assumes that every variable in the system can be predicted by the past values of *all* other variables. In a system with many variables (e.g., sales, marketing spend, inventory, price, competitor price), this can lead to overfitting and poor interpretability.\n",
                "\n",
                "**The `CausalVAR` Solution:** By providing a causal graph, we can tell the model to only use the past values of a variable's *direct causes* as predictors. For example, we might specify that `sales` is caused by `marketing` and `price`, but not by `inventory`.\n",
                "\n",
                "This notebook will walk through:\n",
                "1. Defining a causal structure with `pgmpy`.\n",
                "2. Generating synthetic time series data that respects this structure.\n",
                "3. Training the `CausalVAR` forecaster.\n",
                "4. Comparing its forecast to a standard `VAR` model."
            ]
        },
        {
            "cell_type": "code",
            "execution_count": null,
            "metadata": {},
            "outputs": [],
            "source": [
                "%pip install sktime pgmpy statsmodels matplotlib scikit-learn"
            ]
        },
        {
            "cell_type": "code",
            "execution_count": null,
            "metadata": {},
            "outputs": [],
            "source": [
                "import pandas as pd\n",
                "import numpy as np\n",
                "import matplotlib.pyplot as plt\n",
                "from pgmpy.models import BayesianNetwork\n",
                "\n",
                "# Import sktime tools\n",
                "from sktime.forecasting.var import VAR\n",
                "from sktime.forecasting.model_selection import temporal_train_test_split\n",
                "from sktime.performance_metrics.forecasting import mean_absolute_percentage_error\n",
                "\n",
                "# Import our new forecaster! Make sure the .py file is in the right place.\n",
                "from sktime.forecasting._causal_var import CausalVAR"
            ]
        },
        {
            "cell_type": "markdown",
            "metadata": {},
            "source": [
                "### Step 1: Define the Causal Graph\n",
                "\n",
                "We will model a simple retail scenario:\n",
                "- `marketing` efforts drive `sales`.\n",
                "- `sales` levels determine the required `inventory`.\n",
                "- `price` is an independent variable that also affects `sales`.\n",
                "\n",
                "We use `pgmpy` to define this structure."
            ]
        },
        {
            "cell_type": "code",
            "execution_count": null,
            "metadata": {},
            "outputs": [],
            "source": [
                "causal_graph = BayesianNetwork([\n",
                "    (\"marketing\", \"sales\"),\n",
                "    (\"price\", \"sales\"),\n",
                "    (\"sales\", \"inventory\")\n",
                "])"
            ]
        },
        {
            "cell_type": "markdown",
            "metadata": {},
            "source": [
                "### Step 2: Generate Synthetic Data\n",
                "\n",
                "Now we create a `pd.DataFrame` of time series data that respects these relationships."
            ]
        },
        {
            "cell_type": "code",
            "execution_count": null,
            "metadata": {},
            "outputs": [],
            "source": [
                "n_periods = 200\n",
                "idx = pd.date_range(\"2023-01-01\", periods=n_periods, freq=\"W\")\n",
                "\n",
                "# Create base series\n",
                "marketing = 10 + pd.Series(np.sin(np.linspace(0, 2 * np.pi, n_periods)) * 5)\n",
                "price = 50 - pd.Series(range(n_periods)) * 0.1\n",
                "noise = np.random.normal(0, 2, size=(n_periods, 4))\n",
                "\n",
                "# Create sales based on its causes (marketing and price from the previous period)\n",
                "sales = 2 * marketing.shift(1) - 1.5 * price.shift(1) + 100\n",
                "\n",
                "# Create inventory based on its cause (sales from the previous period)\n",
                "inventory = -0.8 * sales.shift(1) + 200\n",
                "\n",
                "data = pd.DataFrame(\n",
                "    {\"marketing\": marketing, \"price\": price, \"sales\": sales, \"inventory\": inventory},\n",
                "    index=idx\n",
                ")\n",
                "# Add noise and remove initial NaNs from shifting\n",
                "data = (data + noise).dropna()\n",
                "\n",
                "data.plot(subplots=True, figsize=(12, 8), title=\"Synthetic Time Series Data\");"
            ]
        },
        {
            "cell_type": "markdown",
            "metadata": {},
            "source": [
                "### Step 3: Train and Compare Models\n",
                "\n",
                "We will split our data and train two models:\n",
                "1. `CausalVAR`: Our new forecaster that uses the causal graph.\n",
                "2. `VAR`: The standard `sktime` VAR forecaster that will use all variables as predictors for each other."
            ]
        },
        {
            "cell_type": "code",
            "execution_count": null,
            "metadata": {},
            "outputs": [],
            "source": [
                "y_train, y_test = temporal_train_test_split(data, test_size=30)\n",
                "fh = y_test.index\n",
                "\n",
                "# Train CausalVAR\n",
                "causal_forecaster = CausalVAR(causal_graph=causal_graph, maxlags=5)\n",
                "causal_forecaster.fit(y_train)\n",
                "y_pred_causal = causal_forecaster.predict(fh)\n",
                "\n",
                "# Train standard VAR\n",
                "standard_forecaster = VAR(maxlags=5)\n",
                "standard_forecaster.fit(y_train)\n",
                "y_pred_standard = standard_forecaster.predict(fh)\n",
                "\n",
                "causal_mape = mean_absolute_percentage_error(y_test, y_pred_causal)\n",
                "standard_mape = mean_absolute_percentage_error(y_test, y_pred_standard)\n",
                "\n",
                "print(f\"MAPE from CausalVAR: {causal_mape:.4f}\")\n",
                "print(f\"MAPE from Standard VAR: {standard_mape:.4f}\")"
            ]
        },
        {
            "cell_type": "markdown",
            "metadata": {},
            "source": [
                "### Step 4: Visualize the Results\n",
                "\n",
                "Let's plot the forecasts for the 'sales' variable to see how each model performed."
            ]
        },
        {
            "cell_type": "code",
            "execution_count": null,
            "metadata": {},
            "outputs": [],
            "source": [
                "fig, ax = plt.subplots(figsize=(12, 6))\n",
                "y_train['sales'].plot(ax=ax, label='Training Data')\n",
                "y_test['sales'].plot(ax=ax, label='True Values (Test)', style='--')\n",
                "y_pred_causal['sales'].plot(ax=ax, label='CausalVAR Forecast')\n",
                "y_pred_standard['sales'].plot(ax=ax, label='Standard VAR Forecast', style=':')\n",
                "ax.set_title(\"Comparing Forecasts for 'sales'\")\n",
                "ax.legend();"
            ]
        }
    ],
    "metadata": {
        "kernelspec": {
            "display_name": "Python 3",
            "language": "python",
            "name": "python3"
        },
        "language_info": {
            "codemirror_mode": {
                "name": "ipython",
                "version": 3
            },
            "file_extension": ".py",
            "mimetype": "text/x-python",
            "name": "python",
            "nbconvert_exporter": "python",
            "pygments_lexer": "ipython3",
            "version": "3.9.7"
        }
    },
    "nbformat": 4,
    "nbformat_minor": 4
}