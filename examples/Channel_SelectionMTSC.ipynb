{
 "cells": [
  {
   "cell_type": "code",
   "execution_count": 1,
   "id": "89a363cd-8944-475a-88ea-4401785218c5",
   "metadata": {},
   "outputs": [],
   "source": [
    "import warnings\n",
    "\n",
    "warnings.filterwarnings(\"ignore\")"
   ]
  },
  {
   "cell_type": "markdown",
   "id": "b45cbeda-65bc-4b10-9f9c-9afd43a54d20",
   "metadata": {},
   "source": [
    "# Channel Selection in Multivariate Time Series Classification \n"
   ]
  },
  {
   "cell_type": "markdown",
   "id": "08decb5b-8dfb-4666-a66b-3a2349960956",
   "metadata": {},
   "source": [
    "## Overview"
   ]
  },
  {
   "cell_type": "markdown",
   "id": "da743484-17d3-4cec-8eaa-8d8293ce6f35",
   "metadata": {},
   "source": [
    "Sometimes every channel is not required to perform classification; only a few are useful.  The [1] proposed a fast channel selection technique for Multivariate Time Classification. "
   ]
  },
  {
   "cell_type": "markdown",
   "id": "dcbe2174-a691-4093-ab80-d796edb5121d",
   "metadata": {},
   "source": [
    "[1] : Fast Channel Selection for Scalable Multivariate Time Series Classification [Link](https://www.researchgate.net/publication/354445008_Fast_Channel_Selection_for_Scalable_Multivariate_Time_Series_Classification)"
   ]
  },
  {
   "cell_type": "code",
   "execution_count": 2,
   "id": "d1779970-eefb-4577-9c4e-e0a19ceadcc1",
   "metadata": {},
   "outputs": [],
   "source": [
    "from sklearn.linear_model import RidgeClassifierCV\n",
    "from sklearn.pipeline import make_pipeline\n",
    "\n",
    "from sktime.datasets import load_UCR_UEA_dataset\n",
    "from sktime.transformations.panel import channel_selection\n",
    "from sktime.transformations.panel.rocket import Rocket"
   ]
  },
  {
   "cell_type": "markdown",
   "id": "0437ca7a-5b5a-4e28-b565-0b2df4eac60d",
   "metadata": {},
   "source": [
    "# 1 Initialise the Pipeline"
   ]
  },
  {
   "cell_type": "code",
   "execution_count": 3,
   "id": "830137a3-10c3-49b9-9a98-7062dc7ab1d8",
   "metadata": {},
   "outputs": [],
   "source": [
    "cs = channel_selection.ElbowChannelSelection()  # ECS\n",
    "# cs = channel_selection.ElbowClassPairwise() # ECP"
   ]
  },
  {
   "cell_type": "code",
   "execution_count": 4,
   "id": "89443793-7cf0-4a4c-a4b1-d928a46a1bb2",
   "metadata": {},
   "outputs": [],
   "source": [
    "rocket_pipeline = make_pipeline(cs, Rocket(), RidgeClassifierCV())"
   ]
  },
  {
   "cell_type": "markdown",
   "id": "5a268cc1-d5bf-4b02-916b-f3417c1cd3ff",
   "metadata": {},
   "source": [
    "# 2 Load and Fit the Training Data"
   ]
  },
  {
   "cell_type": "code",
   "execution_count": 5,
   "id": "68f508e3-ecc9-4b3a-b4de-7073cd1dfb90",
   "metadata": {},
   "outputs": [],
   "source": [
    "X_train, y_train = load_UCR_UEA_dataset(\"Cricket\", split=\"train\", return_X_y=True)\n",
    "X_test, y_test = load_UCR_UEA_dataset(\"Cricket\", split=\"test\", return_X_y=True)"
   ]
  },
  {
   "cell_type": "code",
   "execution_count": null,
   "id": "94f421bc-e384-4b98-89af-111a4d8c378b",
   "metadata": {},
   "outputs": [],
   "source": [
    "rocket_pipeline.fit(X_train, y_train)"
   ]
  },
  {
   "cell_type": "markdown",
   "id": "0c867fdb-5126-44f6-b7f0-f999d3f60457",
   "metadata": {},
   "source": [
    "# 3 Classify the Test Data"
   ]
  },
  {
   "cell_type": "code",
   "execution_count": null,
   "id": "04573f4d-0b61-4ab8-8355-79f0aa1ca04f",
   "metadata": {},
   "outputs": [],
   "source": [
    "rocket_pipeline.score(X_test, y_test)"
   ]
  },
  {
   "cell_type": "markdown",
   "id": "d18ac8bc-a83a-4dd7-b577-aefc25d7bed6",
   "metadata": {},
   "source": [
    "# 4 Identify channels"
   ]
  },
  {
   "cell_type": "code",
   "execution_count": null,
   "id": "35a44d68-7bce-44b0-baf3-e4f11606001c",
   "metadata": {},
   "outputs": [],
   "source": [
    "rocket_pipeline.steps[0][1].channels_selected"
   ]
  },
  {
   "cell_type": "code",
   "execution_count": null,
   "id": "358ab28f-edbe-49f4-95f5-8a7d0fb5d166",
   "metadata": {},
   "outputs": [],
   "source": [
    "rocket_pipeline.steps[0][1].distance_frame_"
   ]
  },
  {
   "cell_type": "markdown",
   "id": "c75f99ea-3966-483b-9f08-89e3f0dbffeb",
   "metadata": {},
   "source": [
    "# 5 Standalone"
   ]
  },
  {
   "cell_type": "code",
   "execution_count": null,
   "id": "82607728-1095-4f15-a06e-d2463bb5c642",
   "metadata": {},
   "outputs": [],
   "source": [
    "cs.fit(X_train, y_train)"
   ]
  },
  {
   "cell_type": "markdown",
   "id": "a1f3ec36-ce86-4388-b7b5-b3b2a087b43a",
   "metadata": {},
   "source": [
    "# 6 Distance Matrix"
   ]
  },
  {
   "cell_type": "code",
   "execution_count": null,
   "id": "f4a19774-368e-43d4-a45a-d8109ae2d17f",
   "metadata": {},
   "outputs": [],
   "source": [
    "cs.distance_frame_"
   ]
  }
 ],
 "metadata": {
  "kernelspec": {
   "display_name": "Python 3 (ipykernel)",
   "language": "python",
   "name": "python3"
  },
  "language_info": {
   "codemirror_mode": {
    "name": "ipython",
    "version": 3
   },
   "file_extension": ".py",
   "mimetype": "text/x-python",
   "name": "python",
   "nbconvert_exporter": "python",
   "pygments_lexer": "ipython3",
   "version": "3.7.5"
  }
 },
 "nbformat": 4,
 "nbformat_minor": 5
}
