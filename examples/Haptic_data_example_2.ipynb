{
 "cells": [
  {
   "cell_type": "markdown",
   "metadata": {},
   "source": [
    "# Multivariate Classification"
   ]
  },
  {
   "cell_type": "code",
   "execution_count": 1,
   "metadata": {},
   "outputs": [],
   "source": [
    "import numpy as np\n",
    "import pandas as pd\n",
    "from sklearn.model_selection import train_test_split\n",
    "from sklearn.pipeline import Pipeline\n",
    "from sklearn.metrics import classification_report\n",
    "\n",
    "from sktime.classification.compose import ColumnEnsembleClassifier\n",
    "from sktime.classification.dictionary_based import BOSSEnsemble\n",
    "from sktime.classification.interval_based import TimeSeriesForestClassifier\n",
    "from sktime.classification.shapelet_based import MrSEQLClassifier\n",
    "from sktime.datasets import load_basic_motions\n",
    "from sktime.transformations.panel.compose import ColumnConcatenator\n",
    "import sktime\n",
    "from sktime.utils.data_io import load_from_tsfile_to_dataframe\n",
    "\n",
    "import matplotlib.pyplot as plt\n",
    "from sklearn.metrics import accuracy_score\n",
    "from sklearn.model_selection import train_test_split\n",
    "from sklearn.pipeline import Pipeline\n",
    "from sklearn.tree import DecisionTreeClassifier\n",
    "\n",
    "from sktime.classification.compose import ComposableTimeSeriesForestClassifier\n",
    "from sktime.datasets import load_arrow_head\n",
    "from sktime.utils.slope_and_trend import _slope\n",
    "\n",
    "from sklearn.metrics import plot_confusion_matrix\n",
    "\n",
    "import csv"
   ]
  },
  {
   "cell_type": "code",
   "execution_count": 2,
   "metadata": {},
   "outputs": [],
   "source": [
    "#Train and test dataset without features\n",
    "X_train, y_train = load_from_tsfile_to_dataframe(\"haptic_data_3.ts\", replace_missing_vals_with='NaN')\n",
    "X_test, y_test = load_from_tsfile_to_dataframe(\"haptic_data_4.ts\", replace_missing_vals_with='NaN')\n"
   ]
  },
  {
   "cell_type": "code",
   "execution_count": 10,
   "metadata": {},
   "outputs": [],
   "source": [
    "#Train and test dataset with features\n",
    "X_train_f, y_train_f = load_from_tsfile_to_dataframe(\"haptic_data_7.ts\", replace_missing_vals_with='NaN')\n",
    "X_test_f, y_test_f = load_from_tsfile_to_dataframe(\"haptic_data_8.ts\", replace_missing_vals_with='NaN')"
   ]
  },
  {
   "cell_type": "code",
   "execution_count": 14,
   "metadata": {},
   "outputs": [
    {
     "name": "stdout",
     "output_type": "stream",
     "text": [
      "(156, 4) (156,) (63, 4) (63,)\n",
      "(158, 9) (158,) (63, 9) (63,)\n"
     ]
    }
   ],
   "source": [
    "print(X_train.shape, y_train.shape, X_test.shape, y_test.shape)\n",
    "print(X_train_f.shape, y_train_f.shape, X_test_f.shape, y_test_f.shape)"
   ]
  },
  {
   "cell_type": "code",
   "execution_count": 5,
   "metadata": {},
   "outputs": [
    {
     "data": {
      "text/html": [
       "<div>\n",
       "<style scoped>\n",
       "    .dataframe tbody tr th:only-of-type {\n",
       "        vertical-align: middle;\n",
       "    }\n",
       "\n",
       "    .dataframe tbody tr th {\n",
       "        vertical-align: top;\n",
       "    }\n",
       "\n",
       "    .dataframe thead th {\n",
       "        text-align: right;\n",
       "    }\n",
       "</style>\n",
       "<table border=\"1\" class=\"dataframe\">\n",
       "  <thead>\n",
       "    <tr style=\"text-align: right;\">\n",
       "      <th></th>\n",
       "      <th>dim_0</th>\n",
       "      <th>dim_1</th>\n",
       "      <th>dim_2</th>\n",
       "      <th>dim_3</th>\n",
       "    </tr>\n",
       "  </thead>\n",
       "  <tbody>\n",
       "    <tr>\n",
       "      <th>0</th>\n",
       "      <td>0        0.009901\n",
       "1        0.028431\n",
       "2        0...</td>\n",
       "      <td>0       0.020382\n",
       "1       0.059299\n",
       "2       0.09...</td>\n",
       "      <td>0       1.031202e-02\n",
       "1       4.378524e-02\n",
       "2   ...</td>\n",
       "      <td>0       0.00000\n",
       "1       0.00000\n",
       "2       0.0015...</td>\n",
       "    </tr>\n",
       "    <tr>\n",
       "      <th>1</th>\n",
       "      <td>0        0.008854\n",
       "1        0.026425\n",
       "2        0...</td>\n",
       "      <td>0       0.018237\n",
       "1       0.055137\n",
       "2       0.09...</td>\n",
       "      <td>0       8.536517e-03\n",
       "1       3.977109e-02\n",
       "2   ...</td>\n",
       "      <td>0       0.000\n",
       "1       0.000\n",
       "2       0.000\n",
       "3   ...</td>\n",
       "    </tr>\n",
       "    <tr>\n",
       "      <th>2</th>\n",
       "      <td>0        0.011421\n",
       "1        0.030659\n",
       "2        0...</td>\n",
       "      <td>0       0.023252\n",
       "1       0.063659\n",
       "2       0.10...</td>\n",
       "      <td>0       1.243081e-02\n",
       "1       4.802942e-02\n",
       "2   ...</td>\n",
       "      <td>0       0.000\n",
       "1       0.000\n",
       "2       0.000\n",
       "3   ...</td>\n",
       "    </tr>\n",
       "    <tr>\n",
       "      <th>3</th>\n",
       "      <td>0        0.008961\n",
       "1        0.026472\n",
       "2        0...</td>\n",
       "      <td>0       0.018321\n",
       "1       0.055094\n",
       "2       0.09...</td>\n",
       "      <td>0       8.602617e-03\n",
       "1       3.972703e-02\n",
       "2   ...</td>\n",
       "      <td>0       0.00\n",
       "1       0.00\n",
       "2       0.00\n",
       "3      ...</td>\n",
       "    </tr>\n",
       "    <tr>\n",
       "      <th>4</th>\n",
       "      <td>0        0.008880\n",
       "1        0.026535\n",
       "2        0...</td>\n",
       "      <td>0       0.020910\n",
       "1       0.063280\n",
       "2       0.10...</td>\n",
       "      <td>0       0.009823\n",
       "1       0.045712\n",
       "2       0.08...</td>\n",
       "      <td>0       0.000\n",
       "1       0.000\n",
       "2       0.000\n",
       "3   ...</td>\n",
       "    </tr>\n",
       "  </tbody>\n",
       "</table>\n",
       "</div>"
      ],
      "text/plain": [
       "                                               dim_0  \\\n",
       "0  0        0.009901\n",
       "1        0.028431\n",
       "2        0...   \n",
       "1  0        0.008854\n",
       "1        0.026425\n",
       "2        0...   \n",
       "2  0        0.011421\n",
       "1        0.030659\n",
       "2        0...   \n",
       "3  0        0.008961\n",
       "1        0.026472\n",
       "2        0...   \n",
       "4  0        0.008880\n",
       "1        0.026535\n",
       "2        0...   \n",
       "\n",
       "                                               dim_1  \\\n",
       "0  0       0.020382\n",
       "1       0.059299\n",
       "2       0.09...   \n",
       "1  0       0.018237\n",
       "1       0.055137\n",
       "2       0.09...   \n",
       "2  0       0.023252\n",
       "1       0.063659\n",
       "2       0.10...   \n",
       "3  0       0.018321\n",
       "1       0.055094\n",
       "2       0.09...   \n",
       "4  0       0.020910\n",
       "1       0.063280\n",
       "2       0.10...   \n",
       "\n",
       "                                               dim_2  \\\n",
       "0  0       1.031202e-02\n",
       "1       4.378524e-02\n",
       "2   ...   \n",
       "1  0       8.536517e-03\n",
       "1       3.977109e-02\n",
       "2   ...   \n",
       "2  0       1.243081e-02\n",
       "1       4.802942e-02\n",
       "2   ...   \n",
       "3  0       8.602617e-03\n",
       "1       3.972703e-02\n",
       "2   ...   \n",
       "4  0       0.009823\n",
       "1       0.045712\n",
       "2       0.08...   \n",
       "\n",
       "                                               dim_3  \n",
       "0  0       0.00000\n",
       "1       0.00000\n",
       "2       0.0015...  \n",
       "1  0       0.000\n",
       "1       0.000\n",
       "2       0.000\n",
       "3   ...  \n",
       "2  0       0.000\n",
       "1       0.000\n",
       "2       0.000\n",
       "3   ...  \n",
       "3  0       0.00\n",
       "1       0.00\n",
       "2       0.00\n",
       "3      ...  \n",
       "4  0       0.000\n",
       "1       0.000\n",
       "2       0.000\n",
       "3   ...  "
      ]
     },
     "execution_count": 5,
     "metadata": {},
     "output_type": "execute_result"
    }
   ],
   "source": [
    "X_train.head()"
   ]
  },
  {
   "cell_type": "code",
   "execution_count": 6,
   "metadata": {},
   "outputs": [
    {
     "data": {
      "text/html": [
       "<div>\n",
       "<style scoped>\n",
       "    .dataframe tbody tr th:only-of-type {\n",
       "        vertical-align: middle;\n",
       "    }\n",
       "\n",
       "    .dataframe tbody tr th {\n",
       "        vertical-align: top;\n",
       "    }\n",
       "\n",
       "    .dataframe thead th {\n",
       "        text-align: right;\n",
       "    }\n",
       "</style>\n",
       "<table border=\"1\" class=\"dataframe\">\n",
       "  <thead>\n",
       "    <tr style=\"text-align: right;\">\n",
       "      <th></th>\n",
       "      <th>dim_0</th>\n",
       "      <th>dim_1</th>\n",
       "      <th>dim_2</th>\n",
       "      <th>dim_3</th>\n",
       "      <th>dim_4</th>\n",
       "      <th>dim_5</th>\n",
       "      <th>dim_6</th>\n",
       "      <th>dim_7</th>\n",
       "      <th>dim_8</th>\n",
       "    </tr>\n",
       "  </thead>\n",
       "  <tbody>\n",
       "    <tr>\n",
       "      <th>0</th>\n",
       "      <td>0        0.009901\n",
       "1        0.028431\n",
       "2        0...</td>\n",
       "      <td>0       0.020382\n",
       "1       0.059299\n",
       "2       0.09...</td>\n",
       "      <td>0       1.031202e-02\n",
       "1       4.378524e-02\n",
       "2   ...</td>\n",
       "      <td>0       0.00000\n",
       "1       0.00000\n",
       "2       0.0015...</td>\n",
       "      <td>0          0.000000\n",
       "1         -0.000550\n",
       "2     ...</td>\n",
       "      <td>0       0.0\n",
       "1       0.0\n",
       "2       0.0\n",
       "3       0....</td>\n",
       "      <td>0       0.0\n",
       "1       0.0\n",
       "2       0.0\n",
       "3       0....</td>\n",
       "      <td>0       0.0\n",
       "1       0.0\n",
       "2       0.0\n",
       "3       0....</td>\n",
       "      <td>0        0.000000\n",
       "1        0.000000\n",
       "2        0...</td>\n",
       "    </tr>\n",
       "    <tr>\n",
       "      <th>1</th>\n",
       "      <td>0        0.008854\n",
       "1        0.026425\n",
       "2        0...</td>\n",
       "      <td>0       0.018237\n",
       "1       0.055137\n",
       "2       0.09...</td>\n",
       "      <td>0       8.536517e-03\n",
       "1       3.977109e-02\n",
       "2   ...</td>\n",
       "      <td>0       0.000\n",
       "1       0.000\n",
       "2       0.000\n",
       "3   ...</td>\n",
       "      <td>0          0.000000\n",
       "1         -0.000467\n",
       "2     ...</td>\n",
       "      <td>0       0.0\n",
       "1       0.0\n",
       "2       0.0\n",
       "3       0....</td>\n",
       "      <td>0       0.0\n",
       "1       0.0\n",
       "2       0.0\n",
       "3       0....</td>\n",
       "      <td>0       0.0\n",
       "1       0.0\n",
       "2       0.0\n",
       "3       0....</td>\n",
       "      <td>0        0.000000\n",
       "1        0.000000\n",
       "2        0...</td>\n",
       "    </tr>\n",
       "    <tr>\n",
       "      <th>2</th>\n",
       "      <td>0        0.011421\n",
       "1        0.030659\n",
       "2        0...</td>\n",
       "      <td>0       0.023252\n",
       "1       0.063659\n",
       "2       0.10...</td>\n",
       "      <td>0       1.243081e-02\n",
       "1       4.802942e-02\n",
       "2   ...</td>\n",
       "      <td>0       0.000\n",
       "1       0.000\n",
       "2       0.000\n",
       "3   ...</td>\n",
       "      <td>0          0.000000\n",
       "1         -0.000659\n",
       "2     ...</td>\n",
       "      <td>0       0.0\n",
       "1       0.0\n",
       "2       0.0\n",
       "3       0....</td>\n",
       "      <td>0       0.0\n",
       "1       0.0\n",
       "2       0.0\n",
       "3       0....</td>\n",
       "      <td>0       0.0\n",
       "1       0.0\n",
       "2       0.0\n",
       "3       0....</td>\n",
       "      <td>0        0.000000\n",
       "1        0.000000\n",
       "2        0...</td>\n",
       "    </tr>\n",
       "    <tr>\n",
       "      <th>3</th>\n",
       "      <td>0        0.008961\n",
       "1        0.026472\n",
       "2        0...</td>\n",
       "      <td>0       0.018321\n",
       "1       0.055094\n",
       "2       0.09...</td>\n",
       "      <td>0       8.602617e-03\n",
       "1       3.972703e-02\n",
       "2   ...</td>\n",
       "      <td>0       0.00\n",
       "1       0.00\n",
       "2       0.00\n",
       "3      ...</td>\n",
       "      <td>0          0.000000\n",
       "1         -0.000471\n",
       "2     ...</td>\n",
       "      <td>0       0.0\n",
       "1       0.0\n",
       "2       0.0\n",
       "3       0....</td>\n",
       "      <td>0       0.0\n",
       "1       0.0\n",
       "2       0.0\n",
       "3       0....</td>\n",
       "      <td>0       0.0\n",
       "1       0.0\n",
       "2       0.0\n",
       "3       0....</td>\n",
       "      <td>0        0.000000\n",
       "1        0.000000\n",
       "2        0...</td>\n",
       "    </tr>\n",
       "    <tr>\n",
       "      <th>4</th>\n",
       "      <td>0        0.008880\n",
       "1        0.026535\n",
       "2        0...</td>\n",
       "      <td>0       0.020910\n",
       "1       0.063280\n",
       "2       0.10...</td>\n",
       "      <td>0       0.009823\n",
       "1       0.045712\n",
       "2       0.08...</td>\n",
       "      <td>0       0.000\n",
       "1       0.000\n",
       "2       0.000\n",
       "3   ...</td>\n",
       "      <td>0          0.000000\n",
       "1         -0.000470\n",
       "2     ...</td>\n",
       "      <td>0       0.0\n",
       "1       0.0\n",
       "2       0.0\n",
       "3       0....</td>\n",
       "      <td>0       0.0\n",
       "1       0.0\n",
       "2       0.0\n",
       "3       0....</td>\n",
       "      <td>0       0.0\n",
       "1       0.0\n",
       "2       0.0\n",
       "3       0....</td>\n",
       "      <td>0        0.000000\n",
       "1        0.000000\n",
       "2        0...</td>\n",
       "    </tr>\n",
       "  </tbody>\n",
       "</table>\n",
       "</div>"
      ],
      "text/plain": [
       "                                               dim_0  \\\n",
       "0  0        0.009901\n",
       "1        0.028431\n",
       "2        0...   \n",
       "1  0        0.008854\n",
       "1        0.026425\n",
       "2        0...   \n",
       "2  0        0.011421\n",
       "1        0.030659\n",
       "2        0...   \n",
       "3  0        0.008961\n",
       "1        0.026472\n",
       "2        0...   \n",
       "4  0        0.008880\n",
       "1        0.026535\n",
       "2        0...   \n",
       "\n",
       "                                               dim_1  \\\n",
       "0  0       0.020382\n",
       "1       0.059299\n",
       "2       0.09...   \n",
       "1  0       0.018237\n",
       "1       0.055137\n",
       "2       0.09...   \n",
       "2  0       0.023252\n",
       "1       0.063659\n",
       "2       0.10...   \n",
       "3  0       0.018321\n",
       "1       0.055094\n",
       "2       0.09...   \n",
       "4  0       0.020910\n",
       "1       0.063280\n",
       "2       0.10...   \n",
       "\n",
       "                                               dim_2  \\\n",
       "0  0       1.031202e-02\n",
       "1       4.378524e-02\n",
       "2   ...   \n",
       "1  0       8.536517e-03\n",
       "1       3.977109e-02\n",
       "2   ...   \n",
       "2  0       1.243081e-02\n",
       "1       4.802942e-02\n",
       "2   ...   \n",
       "3  0       8.602617e-03\n",
       "1       3.972703e-02\n",
       "2   ...   \n",
       "4  0       0.009823\n",
       "1       0.045712\n",
       "2       0.08...   \n",
       "\n",
       "                                               dim_3  \\\n",
       "0  0       0.00000\n",
       "1       0.00000\n",
       "2       0.0015...   \n",
       "1  0       0.000\n",
       "1       0.000\n",
       "2       0.000\n",
       "3   ...   \n",
       "2  0       0.000\n",
       "1       0.000\n",
       "2       0.000\n",
       "3   ...   \n",
       "3  0       0.00\n",
       "1       0.00\n",
       "2       0.00\n",
       "3      ...   \n",
       "4  0       0.000\n",
       "1       0.000\n",
       "2       0.000\n",
       "3   ...   \n",
       "\n",
       "                                               dim_4  \\\n",
       "0  0          0.000000\n",
       "1         -0.000550\n",
       "2     ...   \n",
       "1  0          0.000000\n",
       "1         -0.000467\n",
       "2     ...   \n",
       "2  0          0.000000\n",
       "1         -0.000659\n",
       "2     ...   \n",
       "3  0          0.000000\n",
       "1         -0.000471\n",
       "2     ...   \n",
       "4  0          0.000000\n",
       "1         -0.000470\n",
       "2     ...   \n",
       "\n",
       "                                               dim_5  \\\n",
       "0  0       0.0\n",
       "1       0.0\n",
       "2       0.0\n",
       "3       0....   \n",
       "1  0       0.0\n",
       "1       0.0\n",
       "2       0.0\n",
       "3       0....   \n",
       "2  0       0.0\n",
       "1       0.0\n",
       "2       0.0\n",
       "3       0....   \n",
       "3  0       0.0\n",
       "1       0.0\n",
       "2       0.0\n",
       "3       0....   \n",
       "4  0       0.0\n",
       "1       0.0\n",
       "2       0.0\n",
       "3       0....   \n",
       "\n",
       "                                               dim_6  \\\n",
       "0  0       0.0\n",
       "1       0.0\n",
       "2       0.0\n",
       "3       0....   \n",
       "1  0       0.0\n",
       "1       0.0\n",
       "2       0.0\n",
       "3       0....   \n",
       "2  0       0.0\n",
       "1       0.0\n",
       "2       0.0\n",
       "3       0....   \n",
       "3  0       0.0\n",
       "1       0.0\n",
       "2       0.0\n",
       "3       0....   \n",
       "4  0       0.0\n",
       "1       0.0\n",
       "2       0.0\n",
       "3       0....   \n",
       "\n",
       "                                               dim_7  \\\n",
       "0  0       0.0\n",
       "1       0.0\n",
       "2       0.0\n",
       "3       0....   \n",
       "1  0       0.0\n",
       "1       0.0\n",
       "2       0.0\n",
       "3       0....   \n",
       "2  0       0.0\n",
       "1       0.0\n",
       "2       0.0\n",
       "3       0....   \n",
       "3  0       0.0\n",
       "1       0.0\n",
       "2       0.0\n",
       "3       0....   \n",
       "4  0       0.0\n",
       "1       0.0\n",
       "2       0.0\n",
       "3       0....   \n",
       "\n",
       "                                               dim_8  \n",
       "0  0        0.000000\n",
       "1        0.000000\n",
       "2        0...  \n",
       "1  0        0.000000\n",
       "1        0.000000\n",
       "2        0...  \n",
       "2  0        0.000000\n",
       "1        0.000000\n",
       "2        0...  \n",
       "3  0        0.000000\n",
       "1        0.000000\n",
       "2        0...  \n",
       "4  0        0.000000\n",
       "1        0.000000\n",
       "2        0...  "
      ]
     },
     "execution_count": 6,
     "metadata": {},
     "output_type": "execute_result"
    }
   ],
   "source": [
    "X_train_f.head()"
   ]
  },
  {
   "cell_type": "code",
   "execution_count": 7,
   "metadata": {},
   "outputs": [
    {
     "name": "stdout",
     "output_type": "stream",
     "text": [
      "['orange' 'tomato']\n",
      "['orange' 'tomato']\n"
     ]
    }
   ],
   "source": [
    "print(np.unique(y_train))\n",
    "print(np.unique(y_train_f))"
   ]
  },
  {
   "cell_type": "code",
   "execution_count": 10,
   "metadata": {},
   "outputs": [
    {
     "data": {
      "text/plain": [
       "array(['orange', 'orange', 'orange', 'orange', 'orange', 'orange',\n",
       "       'orange', 'orange', 'orange', 'orange', 'orange', 'orange',\n",
       "       'orange', 'orange', 'orange', 'orange', 'orange', 'orange',\n",
       "       'orange', 'orange', 'orange', 'orange', 'orange', 'orange',\n",
       "       'orange', 'orange', 'orange', 'orange', 'orange', 'orange',\n",
       "       'orange', 'tomato', 'tomato', 'tomato', 'tomato', 'tomato',\n",
       "       'tomato', 'tomato', 'tomato', 'tomato', 'tomato', 'tomato',\n",
       "       'tomato', 'tomato', 'tomato', 'tomato', 'tomato', 'tomato',\n",
       "       'tomato', 'tomato', 'tomato', 'tomato', 'tomato', 'tomato',\n",
       "       'tomato', 'tomato', 'tomato', 'tomato', 'tomato', 'tomato',\n",
       "       'tomato', 'tomato', 'tomato'], dtype='<U6')"
      ]
     },
     "execution_count": 10,
     "metadata": {},
     "output_type": "execute_result"
    }
   ],
   "source": [
    "y_test_f"
   ]
  },
  {
   "cell_type": "markdown",
   "metadata": {},
   "source": [
    "# TimeSeriesForestClassifier"
   ]
  },
  {
   "cell_type": "markdown",
   "metadata": {},
   "source": [
    "## Without features"
   ]
  },
  {
   "cell_type": "code",
   "execution_count": 15,
   "metadata": {},
   "outputs": [
    {
     "data": {
      "text/plain": [
       "0.873015873015873"
      ]
     },
     "execution_count": 15,
     "metadata": {},
     "output_type": "execute_result"
    }
   ],
   "source": [
    "steps = [(\"concatenate\", ColumnConcatenator()),(\"classify\", TimeSeriesForestClassifier(n_estimators=100)),]\n",
    "clf = Pipeline(steps)\n",
    "clf.fit(X_train, y_train)\n",
    "clf.score(X_test, y_test)\n"
   ]
  },
  {
   "cell_type": "code",
   "execution_count": 16,
   "metadata": {},
   "outputs": [
    {
     "name": "stdout",
     "output_type": "stream",
     "text": [
      "              precision    recall  f1-score   support\n",
      "\n",
      "      orange       0.87      0.87      0.87        31\n",
      "      tomato       0.88      0.88      0.88        32\n",
      "\n",
      "    accuracy                           0.87        63\n",
      "   macro avg       0.87      0.87      0.87        63\n",
      "weighted avg       0.87      0.87      0.87        63\n",
      "\n"
     ]
    }
   ],
   "source": [
    "print(classification_report(y_test, clf.predict(X_test)))"
   ]
  },
  {
   "cell_type": "code",
   "execution_count": 17,
   "metadata": {},
   "outputs": [
    {
     "data": {
      "text/plain": [
       "<sklearn.metrics._plot.confusion_matrix.ConfusionMatrixDisplay at 0x7f63f20f3d10>"
      ]
     },
     "execution_count": 17,
     "metadata": {},
     "output_type": "execute_result"
    },
    {
     "data": {
      "image/png": "[encoded data removed]",
      "text/plain": [
       "<Figure size 432x288 with 2 Axes>"
      ]
     },
     "metadata": {
      "needs_background": "light"
     },
     "output_type": "display_data"
    }
   ],
   "source": [
    "plot_confusion_matrix(clf, X_test, y_test)"
   ]
  },
  {
   "cell_type": "code",
   "execution_count": 12,
   "metadata": {},
   "outputs": [
    {
     "data": {
      "image/png": "[encoded data removed]",
      "text/plain": [
       "<Figure size 432x288 with 2 Axes>"
      ]
     },
     "metadata": {
      "needs_background": "light"
     },
     "output_type": "display_data"
    }
   ],
   "source": [
    "cm = plot_confusion_matrix(clf, X_test, y_test)\n",
    "cm.figure_.savefig('conf_mat_no_features_isolated_dataset.png',dpi=300)"
   ]
  },
  {
   "cell_type": "markdown",
   "metadata": {},
   "source": [
    "## with features"
   ]
  },
  {
   "cell_type": "code",
   "execution_count": 18,
   "metadata": {},
   "outputs": [
    {
     "data": {
      "text/plain": [
       "0.9682539682539683"
      ]
     },
     "execution_count": 18,
     "metadata": {},
     "output_type": "execute_result"
    }
   ],
   "source": [
    "steps = [(\"concatenate\", ColumnConcatenator()),(\"classify\", TimeSeriesForestClassifier(n_estimators=100)),]\n",
    "clf = Pipeline(steps)\n",
    "clf.fit(X_train_f, y_train_f)\n",
    "clf.score(X_test_f, y_test_f)"
   ]
  },
  {
   "cell_type": "code",
   "execution_count": 19,
   "metadata": {},
   "outputs": [
    {
     "name": "stdout",
     "output_type": "stream",
     "text": [
      "              precision    recall  f1-score   support\n",
      "\n",
      "      orange       0.97      0.97      0.97        31\n",
      "      tomato       0.97      0.97      0.97        32\n",
      "\n",
      "    accuracy                           0.97        63\n",
      "   macro avg       0.97      0.97      0.97        63\n",
      "weighted avg       0.97      0.97      0.97        63\n",
      "\n"
     ]
    }
   ],
   "source": [
    "print(classification_report(y_test_f, clf.predict(X_test_f)))"
   ]
  },
  {
   "cell_type": "code",
   "execution_count": 19,
   "metadata": {},
   "outputs": [
    {
     "data": {
      "text/plain": [
       "<sklearn.metrics._plot.confusion_matrix.ConfusionMatrixDisplay at 0x7f4f7d13fc50>"
      ]
     },
     "execution_count": 19,
     "metadata": {},
     "output_type": "execute_result"
    },
    {
     "data": {
      "image/png": "[encoded data removed]",
      "text/plain": [
       "<Figure size 432x288 with 2 Axes>"
      ]
     },
     "metadata": {
      "needs_background": "light"
     },
     "output_type": "display_data"
    }
   ],
   "source": [
    "plot_confusion_matrix(clf, X_test_f, y_test_f)"
   ]
  },
  {
   "cell_type": "code",
   "execution_count": 16,
   "metadata": {},
   "outputs": [
    {
     "data": {
      "image/png": "[encoded data removed]",
      "text/plain": [
       "<Figure size 432x288 with 2 Axes>"
      ]
     },
     "metadata": {
      "needs_background": "light"
     },
     "output_type": "display_data"
    }
   ],
   "source": [
    "cm = plot_confusion_matrix(clf, X_test_f, y_test_f)\n",
    "cm.figure_.savefig('conf_mat_with_features_isolated_dataset.png',dpi=300)"
   ]
  },
  {
   "cell_type": "markdown",
   "metadata": {},
   "source": [
    "# BOSSEnsemble & ColumnEnsembleClassifier"
   ]
  },
  {
   "cell_type": "code",
   "execution_count": 9,
   "metadata": {},
   "outputs": [
    {
     "data": {
      "text/plain": [
       "0.7619047619047619"
      ]
     },
     "execution_count": 9,
     "metadata": {},
     "output_type": "execute_result"
    }
   ],
   "source": [
    "clf = ColumnEnsembleClassifier(estimators=[(\"TSF0\", TimeSeriesForestClassifier(n_estimators=100), [0]),(\"BOSSEnsemble3\", BOSSEnsemble(max_ensemble_size=5), [3]),])\n",
    "clf.fit(X_train, y_train)\n",
    "clf.score(X_test, y_test)"
   ]
  },
  {
   "cell_type": "code",
   "execution_count": 10,
   "metadata": {},
   "outputs": [
    {
     "name": "stdout",
     "output_type": "stream",
     "text": [
      "              precision    recall  f1-score   support\n",
      "\n",
      "      orange       0.74      0.81      0.77        31\n",
      "      tomato       0.79      0.72      0.75        32\n",
      "\n",
      "    accuracy                           0.76        63\n",
      "   macro avg       0.76      0.76      0.76        63\n",
      "weighted avg       0.76      0.76      0.76        63\n",
      "\n"
     ]
    }
   ],
   "source": [
    "print(classification_report(y_test, clf.predict(X_test)))"
   ]
  },
  {
   "cell_type": "markdown",
   "metadata": {},
   "source": [
    "# BOSSEnsemble & ColumnEnsembleClassifier - with features"
   ]
  },
  {
   "cell_type": "markdown",
   "metadata": {},
   "source": [
    "clf = ColumnEnsembleClassifier(estimators=[(\"TSF0\", TimeSeriesForestClassifier(n_estimators=100), [0]),(\"BOSSEnsemble3\", BOSSEnsemble(max_ensemble_size=5), [3]),])\n",
    "clf.fit(X_train, y_train)\n",
    "clf.score(X_test, y_test)---"
   ]
  },
  {
   "cell_type": "code",
   "execution_count": 20,
   "metadata": {},
   "outputs": [
    {
     "data": {
      "text/plain": [
       "0.746031746031746"
      ]
     },
     "execution_count": 20,
     "metadata": {},
     "output_type": "execute_result"
    }
   ],
   "source": [
    "clf = ColumnEnsembleClassifier(estimators=[(\"TSF0\", TimeSeriesForestClassifier(n_estimators=100), [0]),(\"BOSSEnsemble3\", BOSSEnsemble(max_ensemble_size=5), [3]),])\n",
    "clf.fit(X_train_f, y_train_f)\n",
    "clf.score(X_test_f, y_test_f)"
   ]
  },
  {
   "cell_type": "code",
   "execution_count": 21,
   "metadata": {},
   "outputs": [
    {
     "name": "stdout",
     "output_type": "stream",
     "text": [
      "              precision    recall  f1-score   support\n",
      "\n",
      "      orange       0.74      0.74      0.74        31\n",
      "      tomato       0.75      0.75      0.75        32\n",
      "\n",
      "    accuracy                           0.75        63\n",
      "   macro avg       0.75      0.75      0.75        63\n",
      "weighted avg       0.75      0.75      0.75        63\n",
      "\n"
     ]
    }
   ],
   "source": [
    "print(classification_report(y_test, clf.predict(X_test_f)))"
   ]
  },
  {
   "cell_type": "markdown",
   "metadata": {},
   "source": [
    "---"
   ]
  },
  {
   "cell_type": "markdown",
   "metadata": {},
   "source": [
    "# MrSEQLClassifier - univareate time serial classification not sutalble"
   ]
  },
  {
   "cell_type": "code",
   "execution_count": 96,
   "metadata": {},
   "outputs": [
    {
     "data": {
      "text/plain": [
       "1.0"
      ]
     },
     "execution_count": 96,
     "metadata": {},
     "output_type": "execute_result"
    }
   ],
   "source": [
    "clf = MrSEQLClassifier()\n",
    "clf.fit(X_train, y_train)\n",
    "clf.score(X_test, y_test)"
   ]
  },
  {
   "cell_type": "code",
   "execution_count": 99,
   "metadata": {},
   "outputs": [
    {
     "name": "stdout",
     "output_type": "stream",
     "text": [
      "              precision    recall  f1-score   support\n",
      "\n",
      "      banana       1.00      1.00      1.00         4\n",
      "      orange       1.00      1.00      1.00         4\n",
      "\n",
      "    accuracy                           1.00         8\n",
      "   macro avg       1.00      1.00      1.00         8\n",
      "weighted avg       1.00      1.00      1.00         8\n",
      "\n"
     ]
    }
   ],
   "source": [
    "print(classification_report(y_test, clf.predict(X_test)))"
   ]
  },
  {
   "cell_type": "code",
   "execution_count": 101,
   "metadata": {},
   "outputs": [],
   "source": [
    "# Cannot plot confution matrix\n",
    "# plot_confusion_matrix(clf, X_test, y_test)"
   ]
  },
  {
   "cell_type": "markdown",
   "metadata": {},
   "source": [
    "# Plot "
   ]
  },
  {
   "cell_type": "code",
   "execution_count": 11,
   "metadata": {},
   "outputs": [
    {
     "name": "stdout",
     "output_type": "stream",
     "text": [
      "['banana' 'orange'] [12 12]\n"
     ]
    }
   ],
   "source": [
    "# binary target variable\n",
    "labels, counts = np.unique(y_train, return_counts=True)\n",
    "print(labels, counts)"
   ]
  },
  {
   "cell_type": "code",
   "execution_count": 18,
   "metadata": {},
   "outputs": [
    {
     "data": {
      "image/png": "[encoded data removed]",
      "text/plain": [
       "<Figure size 1152x288 with 1 Axes>"
      ]
     },
     "metadata": {
      "needs_background": "light"
     },
     "output_type": "display_data"
    }
   ],
   "source": [
    "fig, ax = plt.subplots(1, figsize=plt.figaspect(0.25))\n",
    "for label in labels:\n",
    "    X_train.loc[y_train == label, \"dim_3\"].iloc[0].plot(ax=ax, label=f\"class {label}\")\n",
    "plt.legend()\n",
    "ax.set(title=\"Example time series\", xlabel=\"Time\");"
   ]
  },
  {
   "cell_type": "markdown",
   "metadata": {},
   "source": [
    "## Feature extraction with sklearn"
   ]
  },
  {
   "cell_type": "code",
   "execution_count": 53,
   "metadata": {},
   "outputs": [],
   "source": [
    "from sktime.transformations.panel.tsfresh import TSFreshFeatureExtractor\n",
    "\n",
    "from sklearn.pipeline import make_pipeline\n",
    "# with sktime, we can write this as a pipeline\n",
    "from sktime.transformations.panel.reduce import Tabularizer\n",
    "from sklearn.ensemble import RandomForestClassifier\n",
    "from sktime.datatypes._panel._convert import from_nested_to_2d_array\n",
    "\n",
    "from sklearn.pipeline import Pipeline\n",
    "from sklearn.tree import DecisionTreeClassifier"
   ]
  },
  {
   "cell_type": "code",
   "execution_count": 64,
   "metadata": {},
   "outputs": [],
   "source": [
    "# for univariate tdata this works \n",
    "\n",
    "#time_series_tree.fit(X_train, y_train)\n",
    "#time_series_tree.score(X_test, y_test)"
   ]
  },
  {
   "cell_type": "code",
   "execution_count": 45,
   "metadata": {},
   "outputs": [
    {
     "name": "stderr",
     "output_type": "stream",
     "text": [
      "Feature Extraction: 100%|██████████| 5/5 [00:15<00:00,  3.10s/it]\n",
      "Feature Extraction: 100%|██████████| 5/5 [00:05<00:00,  1.03s/it]\n"
     ]
    },
    {
     "data": {
      "text/html": [
       "<div>\n",
       "<style scoped>\n",
       "    .dataframe tbody tr th:only-of-type {\n",
       "        vertical-align: middle;\n",
       "    }\n",
       "\n",
       "    .dataframe tbody tr th {\n",
       "        vertical-align: top;\n",
       "    }\n",
       "\n",
       "    .dataframe thead th {\n",
       "        text-align: right;\n",
       "    }\n",
       "</style>\n",
       "<table border=\"1\" class=\"dataframe\">\n",
       "  <thead>\n",
       "    <tr style=\"text-align: right;\">\n",
       "      <th></th>\n",
       "      <th>dim_0__variance_larger_than_standard_deviation</th>\n",
       "      <th>dim_0__has_duplicate_max</th>\n",
       "      <th>dim_0__has_duplicate_min</th>\n",
       "      <th>dim_0__has_duplicate</th>\n",
       "      <th>dim_0__sum_values</th>\n",
       "      <th>dim_0__abs_energy</th>\n",
       "      <th>dim_0__mean_abs_change</th>\n",
       "      <th>dim_0__mean_change</th>\n",
       "      <th>dim_0__mean_second_derivative_central</th>\n",
       "      <th>dim_0__median</th>\n",
       "      <th>...</th>\n",
       "      <th>dim_3__fourier_entropy__bins_2</th>\n",
       "      <th>dim_3__fourier_entropy__bins_3</th>\n",
       "      <th>dim_3__fourier_entropy__bins_5</th>\n",
       "      <th>dim_3__fourier_entropy__bins_10</th>\n",
       "      <th>dim_3__fourier_entropy__bins_100</th>\n",
       "      <th>dim_3__permutation_entropy__dimension_3__tau_1</th>\n",
       "      <th>dim_3__permutation_entropy__dimension_4__tau_1</th>\n",
       "      <th>dim_3__permutation_entropy__dimension_5__tau_1</th>\n",
       "      <th>dim_3__permutation_entropy__dimension_6__tau_1</th>\n",
       "      <th>dim_3__permutation_entropy__dimension_7__tau_1</th>\n",
       "    </tr>\n",
       "  </thead>\n",
       "  <tbody>\n",
       "    <tr>\n",
       "      <th>0</th>\n",
       "      <td>1.0</td>\n",
       "      <td>0.0</td>\n",
       "      <td>0.0</td>\n",
       "      <td>0.0</td>\n",
       "      <td>19378.299766</td>\n",
       "      <td>385719.044982</td>\n",
       "      <td>0.022964</td>\n",
       "      <td>0.022964</td>\n",
       "      <td>-2.023571e-07</td>\n",
       "      <td>14.899659</td>\n",
       "      <td>...</td>\n",
       "      <td>0.045395</td>\n",
       "      <td>0.045395</td>\n",
       "      <td>0.045395</td>\n",
       "      <td>0.090729</td>\n",
       "      <td>0.136002</td>\n",
       "      <td>0.632483</td>\n",
       "      <td>0.823734</td>\n",
       "      <td>0.992637</td>\n",
       "      <td>1.146368</td>\n",
       "      <td>1.286073</td>\n",
       "    </tr>\n",
       "    <tr>\n",
       "      <th>1</th>\n",
       "      <td>1.0</td>\n",
       "      <td>0.0</td>\n",
       "      <td>0.0</td>\n",
       "      <td>0.0</td>\n",
       "      <td>19399.704880</td>\n",
       "      <td>386472.250313</td>\n",
       "      <td>0.022988</td>\n",
       "      <td>0.022988</td>\n",
       "      <td>-4.665996e-07</td>\n",
       "      <td>14.920211</td>\n",
       "      <td>...</td>\n",
       "      <td>0.045395</td>\n",
       "      <td>0.045395</td>\n",
       "      <td>0.045395</td>\n",
       "      <td>0.045395</td>\n",
       "      <td>0.136002</td>\n",
       "      <td>0.822398</td>\n",
       "      <td>1.075686</td>\n",
       "      <td>1.268945</td>\n",
       "      <td>1.439496</td>\n",
       "      <td>1.589333</td>\n",
       "    </tr>\n",
       "    <tr>\n",
       "      <th>2</th>\n",
       "      <td>1.0</td>\n",
       "      <td>0.0</td>\n",
       "      <td>0.0</td>\n",
       "      <td>0.0</td>\n",
       "      <td>19544.830522</td>\n",
       "      <td>392358.198959</td>\n",
       "      <td>0.023126</td>\n",
       "      <td>0.023126</td>\n",
       "      <td>-4.901637e-08</td>\n",
       "      <td>15.073735</td>\n",
       "      <td>...</td>\n",
       "      <td>0.045395</td>\n",
       "      <td>0.045395</td>\n",
       "      <td>0.045395</td>\n",
       "      <td>0.090729</td>\n",
       "      <td>0.136002</td>\n",
       "      <td>0.842623</td>\n",
       "      <td>1.090994</td>\n",
       "      <td>1.268684</td>\n",
       "      <td>1.429784</td>\n",
       "      <td>1.571572</td>\n",
       "    </tr>\n",
       "    <tr>\n",
       "      <th>3</th>\n",
       "      <td>1.0</td>\n",
       "      <td>0.0</td>\n",
       "      <td>0.0</td>\n",
       "      <td>0.0</td>\n",
       "      <td>19566.785652</td>\n",
       "      <td>393337.642628</td>\n",
       "      <td>0.023157</td>\n",
       "      <td>0.023157</td>\n",
       "      <td>-6.531864e-07</td>\n",
       "      <td>15.069535</td>\n",
       "      <td>...</td>\n",
       "      <td>0.045395</td>\n",
       "      <td>0.045395</td>\n",
       "      <td>0.045395</td>\n",
       "      <td>0.045395</td>\n",
       "      <td>0.136002</td>\n",
       "      <td>0.822892</td>\n",
       "      <td>1.051292</td>\n",
       "      <td>1.215162</td>\n",
       "      <td>1.366163</td>\n",
       "      <td>1.503596</td>\n",
       "    </tr>\n",
       "    <tr>\n",
       "      <th>4</th>\n",
       "      <td>1.0</td>\n",
       "      <td>0.0</td>\n",
       "      <td>0.0</td>\n",
       "      <td>0.0</td>\n",
       "      <td>19524.785807</td>\n",
       "      <td>391290.401356</td>\n",
       "      <td>0.023136</td>\n",
       "      <td>0.023136</td>\n",
       "      <td>-3.488946e-07</td>\n",
       "      <td>15.005463</td>\n",
       "      <td>...</td>\n",
       "      <td>0.045395</td>\n",
       "      <td>0.045395</td>\n",
       "      <td>0.045395</td>\n",
       "      <td>0.125256</td>\n",
       "      <td>0.181214</td>\n",
       "      <td>0.645657</td>\n",
       "      <td>0.847281</td>\n",
       "      <td>1.019614</td>\n",
       "      <td>1.173998</td>\n",
       "      <td>1.313434</td>\n",
       "    </tr>\n",
       "  </tbody>\n",
       "</table>\n",
       "<p>5 rows × 3092 columns</p>\n",
       "</div>"
      ],
      "text/plain": [
       "   dim_0__variance_larger_than_standard_deviation  dim_0__has_duplicate_max  \\\n",
       "0                                             1.0                       0.0   \n",
       "1                                             1.0                       0.0   \n",
       "2                                             1.0                       0.0   \n",
       "3                                             1.0                       0.0   \n",
       "4                                             1.0                       0.0   \n",
       "\n",
       "   dim_0__has_duplicate_min  dim_0__has_duplicate  dim_0__sum_values  \\\n",
       "0                       0.0                   0.0       19378.299766   \n",
       "1                       0.0                   0.0       19399.704880   \n",
       "2                       0.0                   0.0       19544.830522   \n",
       "3                       0.0                   0.0       19566.785652   \n",
       "4                       0.0                   0.0       19524.785807   \n",
       "\n",
       "   dim_0__abs_energy  dim_0__mean_abs_change  dim_0__mean_change  \\\n",
       "0      385719.044982                0.022964            0.022964   \n",
       "1      386472.250313                0.022988            0.022988   \n",
       "2      392358.198959                0.023126            0.023126   \n",
       "3      393337.642628                0.023157            0.023157   \n",
       "4      391290.401356                0.023136            0.023136   \n",
       "\n",
       "   dim_0__mean_second_derivative_central  dim_0__median  ...  \\\n",
       "0                          -2.023571e-07      14.899659  ...   \n",
       "1                          -4.665996e-07      14.920211  ...   \n",
       "2                          -4.901637e-08      15.073735  ...   \n",
       "3                          -6.531864e-07      15.069535  ...   \n",
       "4                          -3.488946e-07      15.005463  ...   \n",
       "\n",
       "   dim_3__fourier_entropy__bins_2  dim_3__fourier_entropy__bins_3  \\\n",
       "0                        0.045395                        0.045395   \n",
       "1                        0.045395                        0.045395   \n",
       "2                        0.045395                        0.045395   \n",
       "3                        0.045395                        0.045395   \n",
       "4                        0.045395                        0.045395   \n",
       "\n",
       "   dim_3__fourier_entropy__bins_5  dim_3__fourier_entropy__bins_10  \\\n",
       "0                        0.045395                         0.090729   \n",
       "1                        0.045395                         0.045395   \n",
       "2                        0.045395                         0.090729   \n",
       "3                        0.045395                         0.045395   \n",
       "4                        0.045395                         0.125256   \n",
       "\n",
       "   dim_3__fourier_entropy__bins_100  \\\n",
       "0                          0.136002   \n",
       "1                          0.136002   \n",
       "2                          0.136002   \n",
       "3                          0.136002   \n",
       "4                          0.181214   \n",
       "\n",
       "   dim_3__permutation_entropy__dimension_3__tau_1  \\\n",
       "0                                        0.632483   \n",
       "1                                        0.822398   \n",
       "2                                        0.842623   \n",
       "3                                        0.822892   \n",
       "4                                        0.645657   \n",
       "\n",
       "   dim_3__permutation_entropy__dimension_4__tau_1  \\\n",
       "0                                        0.823734   \n",
       "1                                        1.075686   \n",
       "2                                        1.090994   \n",
       "3                                        1.051292   \n",
       "4                                        0.847281   \n",
       "\n",
       "   dim_3__permutation_entropy__dimension_5__tau_1  \\\n",
       "0                                        0.992637   \n",
       "1                                        1.268945   \n",
       "2                                        1.268684   \n",
       "3                                        1.215162   \n",
       "4                                        1.019614   \n",
       "\n",
       "   dim_3__permutation_entropy__dimension_6__tau_1  \\\n",
       "0                                        1.146368   \n",
       "1                                        1.439496   \n",
       "2                                        1.429784   \n",
       "3                                        1.366163   \n",
       "4                                        1.173998   \n",
       "\n",
       "   dim_3__permutation_entropy__dimension_7__tau_1  \n",
       "0                                        1.286073  \n",
       "1                                        1.589333  \n",
       "2                                        1.571572  \n",
       "3                                        1.503596  \n",
       "4                                        1.313434  \n",
       "\n",
       "[5 rows x 3092 columns]"
      ]
     },
     "execution_count": 45,
     "metadata": {},
     "output_type": "execute_result"
    }
   ],
   "source": [
    "t = TSFreshFeatureExtractor(default_fc_parameters=\"efficient\", show_warnings=False)\n",
    "Xtrain = t.fit_transform(X_train)\n",
    "Xtest = t.fit_transform(X_test)\n",
    "\n",
    "Xtrain.head()"
   ]
  },
  {
   "cell_type": "code",
   "execution_count": 67,
   "metadata": {},
   "outputs": [],
   "source": [
    "X_train_fs, X_test_fs, y_train_fs, y_test_fs = train_test_split(Xtrain, y_train, test_size=.2)\n"
   ]
  },
  {
   "cell_type": "code",
   "execution_count": 73,
   "metadata": {},
   "outputs": [
    {
     "data": {
      "text/html": [
       "<div>\n",
       "<style scoped>\n",
       "    .dataframe tbody tr th:only-of-type {\n",
       "        vertical-align: middle;\n",
       "    }\n",
       "\n",
       "    .dataframe tbody tr th {\n",
       "        vertical-align: top;\n",
       "    }\n",
       "\n",
       "    .dataframe thead th {\n",
       "        text-align: right;\n",
       "    }\n",
       "</style>\n",
       "<table border=\"1\" class=\"dataframe\">\n",
       "  <thead>\n",
       "    <tr style=\"text-align: right;\">\n",
       "      <th></th>\n",
       "      <th>dim_0__variance_larger_than_standard_deviation</th>\n",
       "      <th>dim_0__has_duplicate_max</th>\n",
       "      <th>dim_0__has_duplicate_min</th>\n",
       "      <th>dim_0__has_duplicate</th>\n",
       "      <th>dim_0__sum_values</th>\n",
       "      <th>dim_0__abs_energy</th>\n",
       "      <th>dim_0__mean_abs_change</th>\n",
       "      <th>dim_0__mean_change</th>\n",
       "      <th>dim_0__mean_second_derivative_central</th>\n",
       "      <th>dim_0__median</th>\n",
       "      <th>...</th>\n",
       "      <th>dim_3__fourier_entropy__bins_2</th>\n",
       "      <th>dim_3__fourier_entropy__bins_3</th>\n",
       "      <th>dim_3__fourier_entropy__bins_5</th>\n",
       "      <th>dim_3__fourier_entropy__bins_10</th>\n",
       "      <th>dim_3__fourier_entropy__bins_100</th>\n",
       "      <th>dim_3__permutation_entropy__dimension_3__tau_1</th>\n",
       "      <th>dim_3__permutation_entropy__dimension_4__tau_1</th>\n",
       "      <th>dim_3__permutation_entropy__dimension_5__tau_1</th>\n",
       "      <th>dim_3__permutation_entropy__dimension_6__tau_1</th>\n",
       "      <th>dim_3__permutation_entropy__dimension_7__tau_1</th>\n",
       "    </tr>\n",
       "  </thead>\n",
       "  <tbody>\n",
       "    <tr>\n",
       "      <th>6</th>\n",
       "      <td>1.0</td>\n",
       "      <td>0.0</td>\n",
       "      <td>0.0</td>\n",
       "      <td>0.0</td>\n",
       "      <td>19721.304000</td>\n",
       "      <td>398994.789642</td>\n",
       "      <td>0.023296</td>\n",
       "      <td>0.023296</td>\n",
       "      <td>-4.790636e-07</td>\n",
       "      <td>15.220156</td>\n",
       "      <td>...</td>\n",
       "      <td>0.045395</td>\n",
       "      <td>0.045395</td>\n",
       "      <td>0.045395</td>\n",
       "      <td>0.045395</td>\n",
       "      <td>0.136002</td>\n",
       "      <td>0.813147</td>\n",
       "      <td>1.034359</td>\n",
       "      <td>1.213644</td>\n",
       "      <td>1.378383</td>\n",
       "      <td>1.521543</td>\n",
       "    </tr>\n",
       "    <tr>\n",
       "      <th>15</th>\n",
       "      <td>1.0</td>\n",
       "      <td>0.0</td>\n",
       "      <td>0.0</td>\n",
       "      <td>0.0</td>\n",
       "      <td>19558.433745</td>\n",
       "      <td>392991.128307</td>\n",
       "      <td>0.023157</td>\n",
       "      <td>0.023157</td>\n",
       "      <td>-8.878914e-07</td>\n",
       "      <td>15.065692</td>\n",
       "      <td>...</td>\n",
       "      <td>0.045395</td>\n",
       "      <td>0.045395</td>\n",
       "      <td>0.045395</td>\n",
       "      <td>0.045395</td>\n",
       "      <td>0.136002</td>\n",
       "      <td>0.666204</td>\n",
       "      <td>0.857939</td>\n",
       "      <td>1.014788</td>\n",
       "      <td>1.150327</td>\n",
       "      <td>1.267684</td>\n",
       "    </tr>\n",
       "    <tr>\n",
       "      <th>4</th>\n",
       "      <td>1.0</td>\n",
       "      <td>0.0</td>\n",
       "      <td>0.0</td>\n",
       "      <td>0.0</td>\n",
       "      <td>19524.785807</td>\n",
       "      <td>391290.401356</td>\n",
       "      <td>0.023136</td>\n",
       "      <td>0.023136</td>\n",
       "      <td>-3.488946e-07</td>\n",
       "      <td>15.005463</td>\n",
       "      <td>...</td>\n",
       "      <td>0.045395</td>\n",
       "      <td>0.045395</td>\n",
       "      <td>0.045395</td>\n",
       "      <td>0.125256</td>\n",
       "      <td>0.181214</td>\n",
       "      <td>0.645657</td>\n",
       "      <td>0.847281</td>\n",
       "      <td>1.019614</td>\n",
       "      <td>1.173998</td>\n",
       "      <td>1.313434</td>\n",
       "    </tr>\n",
       "    <tr>\n",
       "      <th>10</th>\n",
       "      <td>1.0</td>\n",
       "      <td>0.0</td>\n",
       "      <td>0.0</td>\n",
       "      <td>0.0</td>\n",
       "      <td>19809.955724</td>\n",
       "      <td>402758.764982</td>\n",
       "      <td>0.023410</td>\n",
       "      <td>0.023410</td>\n",
       "      <td>-1.821377e-07</td>\n",
       "      <td>15.288749</td>\n",
       "      <td>...</td>\n",
       "      <td>0.045395</td>\n",
       "      <td>0.045395</td>\n",
       "      <td>0.045395</td>\n",
       "      <td>0.045395</td>\n",
       "      <td>0.136002</td>\n",
       "      <td>0.811119</td>\n",
       "      <td>1.058660</td>\n",
       "      <td>1.253513</td>\n",
       "      <td>1.422627</td>\n",
       "      <td>1.558139</td>\n",
       "    </tr>\n",
       "    <tr>\n",
       "      <th>16</th>\n",
       "      <td>1.0</td>\n",
       "      <td>0.0</td>\n",
       "      <td>0.0</td>\n",
       "      <td>0.0</td>\n",
       "      <td>19485.788332</td>\n",
       "      <td>390031.822558</td>\n",
       "      <td>0.023116</td>\n",
       "      <td>0.023116</td>\n",
       "      <td>-8.764312e-07</td>\n",
       "      <td>14.965321</td>\n",
       "      <td>...</td>\n",
       "      <td>0.045395</td>\n",
       "      <td>0.090729</td>\n",
       "      <td>0.090729</td>\n",
       "      <td>0.090729</td>\n",
       "      <td>0.361435</td>\n",
       "      <td>0.338032</td>\n",
       "      <td>0.386251</td>\n",
       "      <td>0.426981</td>\n",
       "      <td>0.463443</td>\n",
       "      <td>0.495168</td>\n",
       "    </tr>\n",
       "    <tr>\n",
       "      <th>9</th>\n",
       "      <td>1.0</td>\n",
       "      <td>0.0</td>\n",
       "      <td>0.0</td>\n",
       "      <td>0.0</td>\n",
       "      <td>19567.402542</td>\n",
       "      <td>393070.904997</td>\n",
       "      <td>0.023180</td>\n",
       "      <td>0.023180</td>\n",
       "      <td>-2.218084e-07</td>\n",
       "      <td>15.044804</td>\n",
       "      <td>...</td>\n",
       "      <td>0.045395</td>\n",
       "      <td>0.045395</td>\n",
       "      <td>0.045395</td>\n",
       "      <td>0.090729</td>\n",
       "      <td>0.136002</td>\n",
       "      <td>0.791889</td>\n",
       "      <td>1.058371</td>\n",
       "      <td>1.262056</td>\n",
       "      <td>1.444229</td>\n",
       "      <td>1.616608</td>\n",
       "    </tr>\n",
       "    <tr>\n",
       "      <th>2</th>\n",
       "      <td>1.0</td>\n",
       "      <td>0.0</td>\n",
       "      <td>0.0</td>\n",
       "      <td>0.0</td>\n",
       "      <td>19544.830522</td>\n",
       "      <td>392358.198959</td>\n",
       "      <td>0.023126</td>\n",
       "      <td>0.023126</td>\n",
       "      <td>-4.901637e-08</td>\n",
       "      <td>15.073735</td>\n",
       "      <td>...</td>\n",
       "      <td>0.045395</td>\n",
       "      <td>0.045395</td>\n",
       "      <td>0.045395</td>\n",
       "      <td>0.090729</td>\n",
       "      <td>0.136002</td>\n",
       "      <td>0.842623</td>\n",
       "      <td>1.090994</td>\n",
       "      <td>1.268684</td>\n",
       "      <td>1.429784</td>\n",
       "      <td>1.571572</td>\n",
       "    </tr>\n",
       "    <tr>\n",
       "      <th>12</th>\n",
       "      <td>1.0</td>\n",
       "      <td>0.0</td>\n",
       "      <td>0.0</td>\n",
       "      <td>0.0</td>\n",
       "      <td>19305.437021</td>\n",
       "      <td>382740.733546</td>\n",
       "      <td>0.022897</td>\n",
       "      <td>0.022897</td>\n",
       "      <td>-4.113527e-07</td>\n",
       "      <td>14.831833</td>\n",
       "      <td>...</td>\n",
       "      <td>0.045395</td>\n",
       "      <td>0.045395</td>\n",
       "      <td>0.045395</td>\n",
       "      <td>0.125256</td>\n",
       "      <td>0.181214</td>\n",
       "      <td>0.435057</td>\n",
       "      <td>0.550535</td>\n",
       "      <td>0.638111</td>\n",
       "      <td>0.720644</td>\n",
       "      <td>0.796476</td>\n",
       "    </tr>\n",
       "    <tr>\n",
       "      <th>13</th>\n",
       "      <td>1.0</td>\n",
       "      <td>0.0</td>\n",
       "      <td>0.0</td>\n",
       "      <td>0.0</td>\n",
       "      <td>19477.822040</td>\n",
       "      <td>389961.648751</td>\n",
       "      <td>0.023123</td>\n",
       "      <td>0.023123</td>\n",
       "      <td>-2.357793e-07</td>\n",
       "      <td>14.960650</td>\n",
       "      <td>...</td>\n",
       "      <td>0.045395</td>\n",
       "      <td>0.045395</td>\n",
       "      <td>0.045395</td>\n",
       "      <td>0.045395</td>\n",
       "      <td>0.136002</td>\n",
       "      <td>0.597924</td>\n",
       "      <td>0.780730</td>\n",
       "      <td>0.915960</td>\n",
       "      <td>1.046051</td>\n",
       "      <td>1.157014</td>\n",
       "    </tr>\n",
       "    <tr>\n",
       "      <th>3</th>\n",
       "      <td>1.0</td>\n",
       "      <td>0.0</td>\n",
       "      <td>0.0</td>\n",
       "      <td>0.0</td>\n",
       "      <td>19566.785652</td>\n",
       "      <td>393337.642628</td>\n",
       "      <td>0.023157</td>\n",
       "      <td>0.023157</td>\n",
       "      <td>-6.531864e-07</td>\n",
       "      <td>15.069535</td>\n",
       "      <td>...</td>\n",
       "      <td>0.045395</td>\n",
       "      <td>0.045395</td>\n",
       "      <td>0.045395</td>\n",
       "      <td>0.045395</td>\n",
       "      <td>0.136002</td>\n",
       "      <td>0.822892</td>\n",
       "      <td>1.051292</td>\n",
       "      <td>1.215162</td>\n",
       "      <td>1.366163</td>\n",
       "      <td>1.503596</td>\n",
       "    </tr>\n",
       "    <tr>\n",
       "      <th>5</th>\n",
       "      <td>1.0</td>\n",
       "      <td>0.0</td>\n",
       "      <td>0.0</td>\n",
       "      <td>0.0</td>\n",
       "      <td>19550.011163</td>\n",
       "      <td>392406.198383</td>\n",
       "      <td>0.023162</td>\n",
       "      <td>0.023162</td>\n",
       "      <td>-1.295797e-07</td>\n",
       "      <td>15.039146</td>\n",
       "      <td>...</td>\n",
       "      <td>0.045395</td>\n",
       "      <td>0.045395</td>\n",
       "      <td>0.045395</td>\n",
       "      <td>0.090729</td>\n",
       "      <td>0.136002</td>\n",
       "      <td>0.755918</td>\n",
       "      <td>0.987700</td>\n",
       "      <td>1.183233</td>\n",
       "      <td>1.346025</td>\n",
       "      <td>1.490829</td>\n",
       "    </tr>\n",
       "    <tr>\n",
       "      <th>1</th>\n",
       "      <td>1.0</td>\n",
       "      <td>0.0</td>\n",
       "      <td>0.0</td>\n",
       "      <td>0.0</td>\n",
       "      <td>19399.704880</td>\n",
       "      <td>386472.250313</td>\n",
       "      <td>0.022988</td>\n",
       "      <td>0.022988</td>\n",
       "      <td>-4.665996e-07</td>\n",
       "      <td>14.920211</td>\n",
       "      <td>...</td>\n",
       "      <td>0.045395</td>\n",
       "      <td>0.045395</td>\n",
       "      <td>0.045395</td>\n",
       "      <td>0.045395</td>\n",
       "      <td>0.136002</td>\n",
       "      <td>0.822398</td>\n",
       "      <td>1.075686</td>\n",
       "      <td>1.268945</td>\n",
       "      <td>1.439496</td>\n",
       "      <td>1.589333</td>\n",
       "    </tr>\n",
       "    <tr>\n",
       "      <th>14</th>\n",
       "      <td>1.0</td>\n",
       "      <td>0.0</td>\n",
       "      <td>0.0</td>\n",
       "      <td>0.0</td>\n",
       "      <td>19505.357047</td>\n",
       "      <td>390698.669770</td>\n",
       "      <td>0.023075</td>\n",
       "      <td>0.023075</td>\n",
       "      <td>-2.375183e-07</td>\n",
       "      <td>15.039584</td>\n",
       "      <td>...</td>\n",
       "      <td>0.045395</td>\n",
       "      <td>0.045395</td>\n",
       "      <td>0.045395</td>\n",
       "      <td>0.090729</td>\n",
       "      <td>0.136002</td>\n",
       "      <td>0.653499</td>\n",
       "      <td>0.843409</td>\n",
       "      <td>1.004683</td>\n",
       "      <td>1.145378</td>\n",
       "      <td>1.261370</td>\n",
       "    </tr>\n",
       "    <tr>\n",
       "      <th>7</th>\n",
       "      <td>1.0</td>\n",
       "      <td>0.0</td>\n",
       "      <td>0.0</td>\n",
       "      <td>0.0</td>\n",
       "      <td>19807.003728</td>\n",
       "      <td>402909.762776</td>\n",
       "      <td>0.023428</td>\n",
       "      <td>0.023428</td>\n",
       "      <td>-7.322390e-07</td>\n",
       "      <td>15.264671</td>\n",
       "      <td>...</td>\n",
       "      <td>0.045395</td>\n",
       "      <td>0.045395</td>\n",
       "      <td>0.045395</td>\n",
       "      <td>0.090729</td>\n",
       "      <td>0.136002</td>\n",
       "      <td>0.834846</td>\n",
       "      <td>1.069846</td>\n",
       "      <td>1.233747</td>\n",
       "      <td>1.386448</td>\n",
       "      <td>1.520930</td>\n",
       "    </tr>\n",
       "    <tr>\n",
       "      <th>11</th>\n",
       "      <td>1.0</td>\n",
       "      <td>0.0</td>\n",
       "      <td>0.0</td>\n",
       "      <td>0.0</td>\n",
       "      <td>19793.881286</td>\n",
       "      <td>402111.935725</td>\n",
       "      <td>0.023392</td>\n",
       "      <td>0.023392</td>\n",
       "      <td>-8.477099e-08</td>\n",
       "      <td>15.261414</td>\n",
       "      <td>...</td>\n",
       "      <td>0.045395</td>\n",
       "      <td>0.045395</td>\n",
       "      <td>0.045395</td>\n",
       "      <td>0.090729</td>\n",
       "      <td>0.136002</td>\n",
       "      <td>0.843797</td>\n",
       "      <td>1.089680</td>\n",
       "      <td>1.280595</td>\n",
       "      <td>1.446073</td>\n",
       "      <td>1.585906</td>\n",
       "    </tr>\n",
       "    <tr>\n",
       "      <th>8</th>\n",
       "      <td>1.0</td>\n",
       "      <td>0.0</td>\n",
       "      <td>0.0</td>\n",
       "      <td>0.0</td>\n",
       "      <td>19504.771815</td>\n",
       "      <td>390635.202747</td>\n",
       "      <td>0.023136</td>\n",
       "      <td>0.023136</td>\n",
       "      <td>-6.027683e-07</td>\n",
       "      <td>14.985764</td>\n",
       "      <td>...</td>\n",
       "      <td>0.045395</td>\n",
       "      <td>0.045395</td>\n",
       "      <td>0.090729</td>\n",
       "      <td>0.136002</td>\n",
       "      <td>0.181214</td>\n",
       "      <td>0.605248</td>\n",
       "      <td>0.787583</td>\n",
       "      <td>0.945360</td>\n",
       "      <td>1.084738</td>\n",
       "      <td>1.216509</td>\n",
       "    </tr>\n",
       "    <tr>\n",
       "      <th>21</th>\n",
       "      <td>1.0</td>\n",
       "      <td>0.0</td>\n",
       "      <td>0.0</td>\n",
       "      <td>0.0</td>\n",
       "      <td>19643.834805</td>\n",
       "      <td>396132.575252</td>\n",
       "      <td>0.023247</td>\n",
       "      <td>0.023247</td>\n",
       "      <td>-1.058342e-06</td>\n",
       "      <td>15.133763</td>\n",
       "      <td>...</td>\n",
       "      <td>0.079983</td>\n",
       "      <td>0.079983</td>\n",
       "      <td>0.079983</td>\n",
       "      <td>0.090729</td>\n",
       "      <td>0.271451</td>\n",
       "      <td>0.805422</td>\n",
       "      <td>1.085217</td>\n",
       "      <td>1.330912</td>\n",
       "      <td>1.547286</td>\n",
       "      <td>1.746408</td>\n",
       "    </tr>\n",
       "    <tr>\n",
       "      <th>20</th>\n",
       "      <td>1.0</td>\n",
       "      <td>0.0</td>\n",
       "      <td>0.0</td>\n",
       "      <td>0.0</td>\n",
       "      <td>19323.776895</td>\n",
       "      <td>383418.948878</td>\n",
       "      <td>0.022910</td>\n",
       "      <td>0.022910</td>\n",
       "      <td>-2.934871e-07</td>\n",
       "      <td>14.845532</td>\n",
       "      <td>...</td>\n",
       "      <td>0.045395</td>\n",
       "      <td>0.090729</td>\n",
       "      <td>0.090729</td>\n",
       "      <td>0.090729</td>\n",
       "      <td>0.305728</td>\n",
       "      <td>0.323294</td>\n",
       "      <td>0.356634</td>\n",
       "      <td>0.386240</td>\n",
       "      <td>0.410021</td>\n",
       "      <td>0.431284</td>\n",
       "    </tr>\n",
       "    <tr>\n",
       "      <th>22</th>\n",
       "      <td>1.0</td>\n",
       "      <td>0.0</td>\n",
       "      <td>0.0</td>\n",
       "      <td>0.0</td>\n",
       "      <td>19745.052353</td>\n",
       "      <td>400132.464967</td>\n",
       "      <td>0.023329</td>\n",
       "      <td>0.023329</td>\n",
       "      <td>-1.111985e-06</td>\n",
       "      <td>15.240835</td>\n",
       "      <td>...</td>\n",
       "      <td>0.079983</td>\n",
       "      <td>0.079983</td>\n",
       "      <td>0.079983</td>\n",
       "      <td>0.090729</td>\n",
       "      <td>0.200814</td>\n",
       "      <td>0.604237</td>\n",
       "      <td>0.747451</td>\n",
       "      <td>0.864574</td>\n",
       "      <td>0.978818</td>\n",
       "      <td>1.079728</td>\n",
       "    </tr>\n",
       "  </tbody>\n",
       "</table>\n",
       "<p>19 rows × 3092 columns</p>\n",
       "</div>"
      ],
      "text/plain": [
       "    dim_0__variance_larger_than_standard_deviation  dim_0__has_duplicate_max  \\\n",
       "6                                              1.0                       0.0   \n",
       "15                                             1.0                       0.0   \n",
       "4                                              1.0                       0.0   \n",
       "10                                             1.0                       0.0   \n",
       "16                                             1.0                       0.0   \n",
       "9                                              1.0                       0.0   \n",
       "2                                              1.0                       0.0   \n",
       "12                                             1.0                       0.0   \n",
       "13                                             1.0                       0.0   \n",
       "3                                              1.0                       0.0   \n",
       "5                                              1.0                       0.0   \n",
       "1                                              1.0                       0.0   \n",
       "14                                             1.0                       0.0   \n",
       "7                                              1.0                       0.0   \n",
       "11                                             1.0                       0.0   \n",
       "8                                              1.0                       0.0   \n",
       "21                                             1.0                       0.0   \n",
       "20                                             1.0                       0.0   \n",
       "22                                             1.0                       0.0   \n",
       "\n",
       "    dim_0__has_duplicate_min  dim_0__has_duplicate  dim_0__sum_values  \\\n",
       "6                        0.0                   0.0       19721.304000   \n",
       "15                       0.0                   0.0       19558.433745   \n",
       "4                        0.0                   0.0       19524.785807   \n",
       "10                       0.0                   0.0       19809.955724   \n",
       "16                       0.0                   0.0       19485.788332   \n",
       "9                        0.0                   0.0       19567.402542   \n",
       "2                        0.0                   0.0       19544.830522   \n",
       "12                       0.0                   0.0       19305.437021   \n",
       "13                       0.0                   0.0       19477.822040   \n",
       "3                        0.0                   0.0       19566.785652   \n",
       "5                        0.0                   0.0       19550.011163   \n",
       "1                        0.0                   0.0       19399.704880   \n",
       "14                       0.0                   0.0       19505.357047   \n",
       "7                        0.0                   0.0       19807.003728   \n",
       "11                       0.0                   0.0       19793.881286   \n",
       "8                        0.0                   0.0       19504.771815   \n",
       "21                       0.0                   0.0       19643.834805   \n",
       "20                       0.0                   0.0       19323.776895   \n",
       "22                       0.0                   0.0       19745.052353   \n",
       "\n",
       "    dim_0__abs_energy  dim_0__mean_abs_change  dim_0__mean_change  \\\n",
       "6       398994.789642                0.023296            0.023296   \n",
       "15      392991.128307                0.023157            0.023157   \n",
       "4       391290.401356                0.023136            0.023136   \n",
       "10      402758.764982                0.023410            0.023410   \n",
       "16      390031.822558                0.023116            0.023116   \n",
       "9       393070.904997                0.023180            0.023180   \n",
       "2       392358.198959                0.023126            0.023126   \n",
       "12      382740.733546                0.022897            0.022897   \n",
       "13      389961.648751                0.023123            0.023123   \n",
       "3       393337.642628                0.023157            0.023157   \n",
       "5       392406.198383                0.023162            0.023162   \n",
       "1       386472.250313                0.022988            0.022988   \n",
       "14      390698.669770                0.023075            0.023075   \n",
       "7       402909.762776                0.023428            0.023428   \n",
       "11      402111.935725                0.023392            0.023392   \n",
       "8       390635.202747                0.023136            0.023136   \n",
       "21      396132.575252                0.023247            0.023247   \n",
       "20      383418.948878                0.022910            0.022910   \n",
       "22      400132.464967                0.023329            0.023329   \n",
       "\n",
       "    dim_0__mean_second_derivative_central  dim_0__median  ...  \\\n",
       "6                           -4.790636e-07      15.220156  ...   \n",
       "15                          -8.878914e-07      15.065692  ...   \n",
       "4                           -3.488946e-07      15.005463  ...   \n",
       "10                          -1.821377e-07      15.288749  ...   \n",
       "16                          -8.764312e-07      14.965321  ...   \n",
       "9                           -2.218084e-07      15.044804  ...   \n",
       "2                           -4.901637e-08      15.073735  ...   \n",
       "12                          -4.113527e-07      14.831833  ...   \n",
       "13                          -2.357793e-07      14.960650  ...   \n",
       "3                           -6.531864e-07      15.069535  ...   \n",
       "5                           -1.295797e-07      15.039146  ...   \n",
       "1                           -4.665996e-07      14.920211  ...   \n",
       "14                          -2.375183e-07      15.039584  ...   \n",
       "7                           -7.322390e-07      15.264671  ...   \n",
       "11                          -8.477099e-08      15.261414  ...   \n",
       "8                           -6.027683e-07      14.985764  ...   \n",
       "21                          -1.058342e-06      15.133763  ...   \n",
       "20                          -2.934871e-07      14.845532  ...   \n",
       "22                          -1.111985e-06      15.240835  ...   \n",
       "\n",
       "    dim_3__fourier_entropy__bins_2  dim_3__fourier_entropy__bins_3  \\\n",
       "6                         0.045395                        0.045395   \n",
       "15                        0.045395                        0.045395   \n",
       "4                         0.045395                        0.045395   \n",
       "10                        0.045395                        0.045395   \n",
       "16                        0.045395                        0.090729   \n",
       "9                         0.045395                        0.045395   \n",
       "2                         0.045395                        0.045395   \n",
       "12                        0.045395                        0.045395   \n",
       "13                        0.045395                        0.045395   \n",
       "3                         0.045395                        0.045395   \n",
       "5                         0.045395                        0.045395   \n",
       "1                         0.045395                        0.045395   \n",
       "14                        0.045395                        0.045395   \n",
       "7                         0.045395                        0.045395   \n",
       "11                        0.045395                        0.045395   \n",
       "8                         0.045395                        0.045395   \n",
       "21                        0.079983                        0.079983   \n",
       "20                        0.045395                        0.090729   \n",
       "22                        0.079983                        0.079983   \n",
       "\n",
       "    dim_3__fourier_entropy__bins_5  dim_3__fourier_entropy__bins_10  \\\n",
       "6                         0.045395                         0.045395   \n",
       "15                        0.045395                         0.045395   \n",
       "4                         0.045395                         0.125256   \n",
       "10                        0.045395                         0.045395   \n",
       "16                        0.090729                         0.090729   \n",
       "9                         0.045395                         0.090729   \n",
       "2                         0.045395                         0.090729   \n",
       "12                        0.045395                         0.125256   \n",
       "13                        0.045395                         0.045395   \n",
       "3                         0.045395                         0.045395   \n",
       "5                         0.045395                         0.090729   \n",
       "1                         0.045395                         0.045395   \n",
       "14                        0.045395                         0.090729   \n",
       "7                         0.045395                         0.090729   \n",
       "11                        0.045395                         0.090729   \n",
       "8                         0.090729                         0.136002   \n",
       "21                        0.079983                         0.090729   \n",
       "20                        0.090729                         0.090729   \n",
       "22                        0.079983                         0.090729   \n",
       "\n",
       "    dim_3__fourier_entropy__bins_100  \\\n",
       "6                           0.136002   \n",
       "15                          0.136002   \n",
       "4                           0.181214   \n",
       "10                          0.136002   \n",
       "16                          0.361435   \n",
       "9                           0.136002   \n",
       "2                           0.136002   \n",
       "12                          0.181214   \n",
       "13                          0.136002   \n",
       "3                           0.136002   \n",
       "5                           0.136002   \n",
       "1                           0.136002   \n",
       "14                          0.136002   \n",
       "7                           0.136002   \n",
       "11                          0.136002   \n",
       "8                           0.181214   \n",
       "21                          0.271451   \n",
       "20                          0.305728   \n",
       "22                          0.200814   \n",
       "\n",
       "    dim_3__permutation_entropy__dimension_3__tau_1  \\\n",
       "6                                         0.813147   \n",
       "15                                        0.666204   \n",
       "4                                         0.645657   \n",
       "10                                        0.811119   \n",
       "16                                        0.338032   \n",
       "9                                         0.791889   \n",
       "2                                         0.842623   \n",
       "12                                        0.435057   \n",
       "13                                        0.597924   \n",
       "3                                         0.822892   \n",
       "5                                         0.755918   \n",
       "1                                         0.822398   \n",
       "14                                        0.653499   \n",
       "7                                         0.834846   \n",
       "11                                        0.843797   \n",
       "8                                         0.605248   \n",
       "21                                        0.805422   \n",
       "20                                        0.323294   \n",
       "22                                        0.604237   \n",
       "\n",
       "    dim_3__permutation_entropy__dimension_4__tau_1  \\\n",
       "6                                         1.034359   \n",
       "15                                        0.857939   \n",
       "4                                         0.847281   \n",
       "10                                        1.058660   \n",
       "16                                        0.386251   \n",
       "9                                         1.058371   \n",
       "2                                         1.090994   \n",
       "12                                        0.550535   \n",
       "13                                        0.780730   \n",
       "3                                         1.051292   \n",
       "5                                         0.987700   \n",
       "1                                         1.075686   \n",
       "14                                        0.843409   \n",
       "7                                         1.069846   \n",
       "11                                        1.089680   \n",
       "8                                         0.787583   \n",
       "21                                        1.085217   \n",
       "20                                        0.356634   \n",
       "22                                        0.747451   \n",
       "\n",
       "    dim_3__permutation_entropy__dimension_5__tau_1  \\\n",
       "6                                         1.213644   \n",
       "15                                        1.014788   \n",
       "4                                         1.019614   \n",
       "10                                        1.253513   \n",
       "16                                        0.426981   \n",
       "9                                         1.262056   \n",
       "2                                         1.268684   \n",
       "12                                        0.638111   \n",
       "13                                        0.915960   \n",
       "3                                         1.215162   \n",
       "5                                         1.183233   \n",
       "1                                         1.268945   \n",
       "14                                        1.004683   \n",
       "7                                         1.233747   \n",
       "11                                        1.280595   \n",
       "8                                         0.945360   \n",
       "21                                        1.330912   \n",
       "20                                        0.386240   \n",
       "22                                        0.864574   \n",
       "\n",
       "    dim_3__permutation_entropy__dimension_6__tau_1  \\\n",
       "6                                         1.378383   \n",
       "15                                        1.150327   \n",
       "4                                         1.173998   \n",
       "10                                        1.422627   \n",
       "16                                        0.463443   \n",
       "9                                         1.444229   \n",
       "2                                         1.429784   \n",
       "12                                        0.720644   \n",
       "13                                        1.046051   \n",
       "3                                         1.366163   \n",
       "5                                         1.346025   \n",
       "1                                         1.439496   \n",
       "14                                        1.145378   \n",
       "7                                         1.386448   \n",
       "11                                        1.446073   \n",
       "8                                         1.084738   \n",
       "21                                        1.547286   \n",
       "20                                        0.410021   \n",
       "22                                        0.978818   \n",
       "\n",
       "    dim_3__permutation_entropy__dimension_7__tau_1  \n",
       "6                                         1.521543  \n",
       "15                                        1.267684  \n",
       "4                                         1.313434  \n",
       "10                                        1.558139  \n",
       "16                                        0.495168  \n",
       "9                                         1.616608  \n",
       "2                                         1.571572  \n",
       "12                                        0.796476  \n",
       "13                                        1.157014  \n",
       "3                                         1.503596  \n",
       "5                                         1.490829  \n",
       "1                                         1.589333  \n",
       "14                                        1.261370  \n",
       "7                                         1.520930  \n",
       "11                                        1.585906  \n",
       "8                                         1.216509  \n",
       "21                                        1.746408  \n",
       "20                                        0.431284  \n",
       "22                                        1.079728  \n",
       "\n",
       "[19 rows x 3092 columns]"
      ]
     },
     "execution_count": 73,
     "metadata": {},
     "output_type": "execute_result"
    }
   ],
   "source": [
    "X_train_fs"
   ]
  },
  {
   "cell_type": "code",
   "execution_count": 82,
   "metadata": {},
   "outputs": [
    {
     "name": "stdout",
     "output_type": "stream",
     "text": [
      "1.0\n",
      "              precision    recall  f1-score   support\n",
      "\n",
      "      banana       0.80      1.00      0.89         4\n",
      "      orange       0.00      0.00      0.00         1\n",
      "\n",
      "    accuracy                           0.80         5\n",
      "   macro avg       0.40      0.50      0.44         5\n",
      "weighted avg       0.64      0.80      0.71         5\n",
      "\n"
     ]
    },
    {
     "name": "stderr",
     "output_type": "stream",
     "text": [
      "/home/malitjkd/anaconda3/envs/ai37/lib/python3.7/site-packages/sklearn/metrics/_classification.py:1248: UndefinedMetricWarning: Precision and F-score are ill-defined and being set to 0.0 in labels with no predicted samples. Use `zero_division` parameter to control this behavior.\n",
      "  _warn_prf(average, modifier, msg_start, len(result))\n",
      "/home/malitjkd/anaconda3/envs/ai37/lib/python3.7/site-packages/sklearn/metrics/_classification.py:1248: UndefinedMetricWarning: Precision and F-score are ill-defined and being set to 0.0 in labels with no predicted samples. Use `zero_division` parameter to control this behavior.\n",
      "  _warn_prf(average, modifier, msg_start, len(result))\n",
      "/home/malitjkd/anaconda3/envs/ai37/lib/python3.7/site-packages/sklearn/metrics/_classification.py:1248: UndefinedMetricWarning: Precision and F-score are ill-defined and being set to 0.0 in labels with no predicted samples. Use `zero_division` parameter to control this behavior.\n",
      "  _warn_prf(average, modifier, msg_start, len(result))\n"
     ]
    }
   ],
   "source": [
    "from sklearn.metrics import classification_report\n",
    "\n",
    "classifier_full = DecisionTreeClassifier()\n",
    "classifier_full.fit(X_train_fs, y_train_fs)\n",
    "print(classifier_full.score(X_train_fs, y_train_fs))\n",
    "print(classification_report(y_test_fs, classifier_full.predict(X_test_fs)))\n",
    "\n"
   ]
  },
  {
   "cell_type": "code",
   "execution_count": 94,
   "metadata": {},
   "outputs": [
    {
     "data": {
      "text/plain": [
       "<sklearn.metrics._plot.confusion_matrix.ConfusionMatrixDisplay at 0x7f47911be850>"
      ]
     },
     "execution_count": 94,
     "metadata": {},
     "output_type": "execute_result"
    },
    {
     "data": {
      "image/png": "[encoded data removed]",
      "text/plain": [
       "<Figure size 432x288 with 2 Axes>"
      ]
     },
     "metadata": {
      "needs_background": "light"
     },
     "output_type": "display_data"
    }
   ],
   "source": [
    "from sklearn.metrics import plot_confusion_matrix\n",
    "\n",
    "plot_confusion_matrix(classifier_full, X_test_fs, y_test_fs)"
   ]
  },
  {
   "cell_type": "markdown",
   "metadata": {},
   "source": [
    "# Feature importance identification using primitive method"
   ]
  },
  {
   "cell_type": "code",
   "execution_count": 20,
   "metadata": {},
   "outputs": [],
   "source": [
    "#Train and test dataset with features\n",
    "X_train_f, y_train_f = load_from_tsfile_to_dataframe(\"haptic_data_5.ts\", replace_missing_vals_with='NaN')\n",
    "X_test_f, y_test_f = load_from_tsfile_to_dataframe(\"haptic_data_6.ts\", replace_missing_vals_with='NaN')"
   ]
  },
  {
   "cell_type": "code",
   "execution_count": 10,
   "metadata": {},
   "outputs": [
    {
     "data": {
      "text/html": [
       "<div>\n",
       "<style scoped>\n",
       "    .dataframe tbody tr th:only-of-type {\n",
       "        vertical-align: middle;\n",
       "    }\n",
       "\n",
       "    .dataframe tbody tr th {\n",
       "        vertical-align: top;\n",
       "    }\n",
       "\n",
       "    .dataframe thead th {\n",
       "        text-align: right;\n",
       "    }\n",
       "</style>\n",
       "<table border=\"1\" class=\"dataframe\">\n",
       "  <thead>\n",
       "    <tr style=\"text-align: right;\">\n",
       "      <th></th>\n",
       "      <th>dim_0</th>\n",
       "      <th>dim_1</th>\n",
       "      <th>dim_2</th>\n",
       "      <th>dim_3</th>\n",
       "      <th>dim_4</th>\n",
       "      <th>dim_5</th>\n",
       "      <th>dim_6</th>\n",
       "      <th>dim_7</th>\n",
       "      <th>dim_8</th>\n",
       "    </tr>\n",
       "  </thead>\n",
       "  <tbody>\n",
       "    <tr>\n",
       "      <th>0</th>\n",
       "      <td>0        0.009901\n",
       "1        0.028431\n",
       "2        0...</td>\n",
       "      <td>0       0.020382\n",
       "1       0.059299\n",
       "2       0.09...</td>\n",
       "      <td>0       1.031202e-02\n",
       "1       4.378524e-02\n",
       "2   ...</td>\n",
       "      <td>0       0.00000\n",
       "1       0.00000\n",
       "2       0.0015...</td>\n",
       "      <td>0          0.000000\n",
       "1         -0.000550\n",
       "2     ...</td>\n",
       "      <td>0       0.0\n",
       "1       0.0\n",
       "2       0.0\n",
       "3       0....</td>\n",
       "      <td>0       0.0\n",
       "1       0.0\n",
       "2       0.0\n",
       "3       0....</td>\n",
       "      <td>0       0.0\n",
       "1       0.0\n",
       "2       0.0\n",
       "3       0....</td>\n",
       "      <td>0        0.000000\n",
       "1        0.000000\n",
       "2        0...</td>\n",
       "    </tr>\n",
       "    <tr>\n",
       "      <th>1</th>\n",
       "      <td>0        0.008854\n",
       "1        0.026425\n",
       "2        0...</td>\n",
       "      <td>0       0.018237\n",
       "1       0.055137\n",
       "2       0.09...</td>\n",
       "      <td>0       8.536517e-03\n",
       "1       3.977109e-02\n",
       "2   ...</td>\n",
       "      <td>0       0.000\n",
       "1       0.000\n",
       "2       0.000\n",
       "3   ...</td>\n",
       "      <td>0          0.000000\n",
       "1         -0.000467\n",
       "2     ...</td>\n",
       "      <td>0       0.0\n",
       "1       0.0\n",
       "2       0.0\n",
       "3       0....</td>\n",
       "      <td>0       0.0\n",
       "1       0.0\n",
       "2       0.0\n",
       "3       0....</td>\n",
       "      <td>0       0.0\n",
       "1       0.0\n",
       "2       0.0\n",
       "3       0....</td>\n",
       "      <td>0        0.000000\n",
       "1        0.000000\n",
       "2        0...</td>\n",
       "    </tr>\n",
       "    <tr>\n",
       "      <th>2</th>\n",
       "      <td>0        0.011421\n",
       "1        0.030659\n",
       "2        0...</td>\n",
       "      <td>0       0.023252\n",
       "1       0.063659\n",
       "2       0.10...</td>\n",
       "      <td>0       1.243081e-02\n",
       "1       4.802942e-02\n",
       "2   ...</td>\n",
       "      <td>0       0.000\n",
       "1       0.000\n",
       "2       0.000\n",
       "3   ...</td>\n",
       "      <td>0          0.000000\n",
       "1         -0.000659\n",
       "2     ...</td>\n",
       "      <td>0       0.0\n",
       "1       0.0\n",
       "2       0.0\n",
       "3       0....</td>\n",
       "      <td>0       0.0\n",
       "1       0.0\n",
       "2       0.0\n",
       "3       0....</td>\n",
       "      <td>0       0.0\n",
       "1       0.0\n",
       "2       0.0\n",
       "3       0....</td>\n",
       "      <td>0        0.000000\n",
       "1        0.000000\n",
       "2        0...</td>\n",
       "    </tr>\n",
       "    <tr>\n",
       "      <th>3</th>\n",
       "      <td>0        0.008961\n",
       "1        0.026472\n",
       "2        0...</td>\n",
       "      <td>0       0.018321\n",
       "1       0.055094\n",
       "2       0.09...</td>\n",
       "      <td>0       8.602617e-03\n",
       "1       3.972703e-02\n",
       "2   ...</td>\n",
       "      <td>0       0.00\n",
       "1       0.00\n",
       "2       0.00\n",
       "3      ...</td>\n",
       "      <td>0          0.000000\n",
       "1         -0.000471\n",
       "2     ...</td>\n",
       "      <td>0       0.0\n",
       "1       0.0\n",
       "2       0.0\n",
       "3       0....</td>\n",
       "      <td>0       0.0\n",
       "1       0.0\n",
       "2       0.0\n",
       "3       0....</td>\n",
       "      <td>0       0.0\n",
       "1       0.0\n",
       "2       0.0\n",
       "3       0....</td>\n",
       "      <td>0        0.000000\n",
       "1        0.000000\n",
       "2        0...</td>\n",
       "    </tr>\n",
       "    <tr>\n",
       "      <th>4</th>\n",
       "      <td>0        0.008880\n",
       "1        0.026535\n",
       "2        0...</td>\n",
       "      <td>0       0.020910\n",
       "1       0.063280\n",
       "2       0.10...</td>\n",
       "      <td>0       0.009823\n",
       "1       0.045712\n",
       "2       0.08...</td>\n",
       "      <td>0       0.000\n",
       "1       0.000\n",
       "2       0.000\n",
       "3   ...</td>\n",
       "      <td>0          0.000000\n",
       "1         -0.000470\n",
       "2     ...</td>\n",
       "      <td>0       0.0\n",
       "1       0.0\n",
       "2       0.0\n",
       "3       0....</td>\n",
       "      <td>0       0.0\n",
       "1       0.0\n",
       "2       0.0\n",
       "3       0....</td>\n",
       "      <td>0       0.0\n",
       "1       0.0\n",
       "2       0.0\n",
       "3       0....</td>\n",
       "      <td>0        0.000000\n",
       "1        0.000000\n",
       "2        0...</td>\n",
       "    </tr>\n",
       "    <tr>\n",
       "      <th>...</th>\n",
       "      <td>...</td>\n",
       "      <td>...</td>\n",
       "      <td>...</td>\n",
       "      <td>...</td>\n",
       "      <td>...</td>\n",
       "      <td>...</td>\n",
       "      <td>...</td>\n",
       "      <td>...</td>\n",
       "      <td>...</td>\n",
       "    </tr>\n",
       "    <tr>\n",
       "      <th>153</th>\n",
       "      <td>0        0.009757\n",
       "1        0.027412\n",
       "2        0...</td>\n",
       "      <td>0       0.025243\n",
       "1       0.072911\n",
       "2       0.12...</td>\n",
       "      <td>0       0.012164\n",
       "1       0.053076\n",
       "2       0.09...</td>\n",
       "      <td>0       0.000\n",
       "1       0.000\n",
       "2       0.000\n",
       "3   ...</td>\n",
       "      <td>0          0.000000\n",
       "1         -0.000517\n",
       "2     ...</td>\n",
       "      <td>0       0.0\n",
       "1       0.0\n",
       "2       0.0\n",
       "3       0....</td>\n",
       "      <td>0       0.0\n",
       "1       0.0\n",
       "2       0.0\n",
       "3       0....</td>\n",
       "      <td>0       0.0\n",
       "1       0.0\n",
       "2       0.0\n",
       "3       0....</td>\n",
       "      <td>0        0.000000\n",
       "1        0.000000\n",
       "2        0...</td>\n",
       "    </tr>\n",
       "    <tr>\n",
       "      <th>154</th>\n",
       "      <td>0        0.011365\n",
       "1        0.030108\n",
       "2        0...</td>\n",
       "      <td>0       0.033043\n",
       "1       0.089276\n",
       "2       0.14...</td>\n",
       "      <td>0       0.017574\n",
       "1       0.066988\n",
       "2       0.11...</td>\n",
       "      <td>0       0.00\n",
       "1       0.00\n",
       "2       0.00\n",
       "3      ...</td>\n",
       "      <td>0          0.000000\n",
       "1         -0.000639\n",
       "2     ...</td>\n",
       "      <td>0       0.0\n",
       "1       0.0\n",
       "2       0.0\n",
       "3       0....</td>\n",
       "      <td>0       0.0\n",
       "1       0.0\n",
       "2       0.0\n",
       "3       0....</td>\n",
       "      <td>0       0.0\n",
       "1       0.0\n",
       "2       0.0\n",
       "3       0....</td>\n",
       "      <td>0        0.000000\n",
       "1        0.000000\n",
       "2        0...</td>\n",
       "    </tr>\n",
       "    <tr>\n",
       "      <th>155</th>\n",
       "      <td>0        0.010401\n",
       "1        0.028223\n",
       "2        0...</td>\n",
       "      <td>0       0.029891\n",
       "1       0.083359\n",
       "2       0.13...</td>\n",
       "      <td>0       1.489789e-02\n",
       "1       6.124217e-02\n",
       "2   ...</td>\n",
       "      <td>0       0.000\n",
       "1       0.000\n",
       "2       0.000\n",
       "3   ...</td>\n",
       "      <td>0          0.000000\n",
       "1         -0.000556\n",
       "2     ...</td>\n",
       "      <td>0       0.0\n",
       "1       0.0\n",
       "2       0.0\n",
       "3       0....</td>\n",
       "      <td>0       0.0\n",
       "1       0.0\n",
       "2       0.0\n",
       "3       0....</td>\n",
       "      <td>0       0.0\n",
       "1       0.0\n",
       "2       0.0\n",
       "3       0....</td>\n",
       "      <td>0        0.000000\n",
       "1        0.000000\n",
       "2        0...</td>\n",
       "    </tr>\n",
       "    <tr>\n",
       "      <th>156</th>\n",
       "      <td>0        0.010886\n",
       "1        0.029127\n",
       "2        0...</td>\n",
       "      <td>0       0.031541\n",
       "1       0.086269\n",
       "2       0.13...</td>\n",
       "      <td>0       0.016262\n",
       "1       0.064062\n",
       "2       0.11...</td>\n",
       "      <td>0       0.000000\n",
       "1       0.000000\n",
       "2       0.00...</td>\n",
       "      <td>0          0.000000\n",
       "1         -0.000596\n",
       "2     ...</td>\n",
       "      <td>0       0.0\n",
       "1       0.0\n",
       "2       0.0\n",
       "3       0....</td>\n",
       "      <td>0       0.0\n",
       "1       0.0\n",
       "2       0.0\n",
       "3       0....</td>\n",
       "      <td>0       0.0\n",
       "1       0.0\n",
       "2       0.0\n",
       "3       0....</td>\n",
       "      <td>0        0.000000\n",
       "1        0.000000\n",
       "2        0...</td>\n",
       "    </tr>\n",
       "    <tr>\n",
       "      <th>157</th>\n",
       "      <td>0        0.010390\n",
       "1        0.028335\n",
       "2        0...</td>\n",
       "      <td>0       0.030482\n",
       "1       0.084317\n",
       "2       0.13...</td>\n",
       "      <td>0       0.015425\n",
       "1       0.062168\n",
       "2       0.11...</td>\n",
       "      <td>0       0.00\n",
       "1       0.00\n",
       "2       0.00\n",
       "3      ...</td>\n",
       "      <td>0          0.000000\n",
       "1         -0.000559\n",
       "2     ...</td>\n",
       "      <td>0       0.0\n",
       "1       0.0\n",
       "2       0.0\n",
       "3       0....</td>\n",
       "      <td>0       0.0\n",
       "1       0.0\n",
       "2       0.0\n",
       "3       0....</td>\n",
       "      <td>0       0.0\n",
       "1       0.0\n",
       "2       0.0\n",
       "3       0....</td>\n",
       "      <td>0        0.000000\n",
       "1        0.000000\n",
       "2        0...</td>\n",
       "    </tr>\n",
       "  </tbody>\n",
       "</table>\n",
       "<p>158 rows × 9 columns</p>\n",
       "</div>"
      ],
      "text/plain": [
       "                                                 dim_0  \\\n",
       "0    0        0.009901\n",
       "1        0.028431\n",
       "2        0...   \n",
       "1    0        0.008854\n",
       "1        0.026425\n",
       "2        0...   \n",
       "2    0        0.011421\n",
       "1        0.030659\n",
       "2        0...   \n",
       "3    0        0.008961\n",
       "1        0.026472\n",
       "2        0...   \n",
       "4    0        0.008880\n",
       "1        0.026535\n",
       "2        0...   \n",
       "..                                                 ...   \n",
       "153  0        0.009757\n",
       "1        0.027412\n",
       "2        0...   \n",
       "154  0        0.011365\n",
       "1        0.030108\n",
       "2        0...   \n",
       "155  0        0.010401\n",
       "1        0.028223\n",
       "2        0...   \n",
       "156  0        0.010886\n",
       "1        0.029127\n",
       "2        0...   \n",
       "157  0        0.010390\n",
       "1        0.028335\n",
       "2        0...   \n",
       "\n",
       "                                                 dim_1  \\\n",
       "0    0       0.020382\n",
       "1       0.059299\n",
       "2       0.09...   \n",
       "1    0       0.018237\n",
       "1       0.055137\n",
       "2       0.09...   \n",
       "2    0       0.023252\n",
       "1       0.063659\n",
       "2       0.10...   \n",
       "3    0       0.018321\n",
       "1       0.055094\n",
       "2       0.09...   \n",
       "4    0       0.020910\n",
       "1       0.063280\n",
       "2       0.10...   \n",
       "..                                                 ...   \n",
       "153  0       0.025243\n",
       "1       0.072911\n",
       "2       0.12...   \n",
       "154  0       0.033043\n",
       "1       0.089276\n",
       "2       0.14...   \n",
       "155  0       0.029891\n",
       "1       0.083359\n",
       "2       0.13...   \n",
       "156  0       0.031541\n",
       "1       0.086269\n",
       "2       0.13...   \n",
       "157  0       0.030482\n",
       "1       0.084317\n",
       "2       0.13...   \n",
       "\n",
       "                                                 dim_2  \\\n",
       "0    0       1.031202e-02\n",
       "1       4.378524e-02\n",
       "2   ...   \n",
       "1    0       8.536517e-03\n",
       "1       3.977109e-02\n",
       "2   ...   \n",
       "2    0       1.243081e-02\n",
       "1       4.802942e-02\n",
       "2   ...   \n",
       "3    0       8.602617e-03\n",
       "1       3.972703e-02\n",
       "2   ...   \n",
       "4    0       0.009823\n",
       "1       0.045712\n",
       "2       0.08...   \n",
       "..                                                 ...   \n",
       "153  0       0.012164\n",
       "1       0.053076\n",
       "2       0.09...   \n",
       "154  0       0.017574\n",
       "1       0.066988\n",
       "2       0.11...   \n",
       "155  0       1.489789e-02\n",
       "1       6.124217e-02\n",
       "2   ...   \n",
       "156  0       0.016262\n",
       "1       0.064062\n",
       "2       0.11...   \n",
       "157  0       0.015425\n",
       "1       0.062168\n",
       "2       0.11...   \n",
       "\n",
       "                                                 dim_3  \\\n",
       "0    0       0.00000\n",
       "1       0.00000\n",
       "2       0.0015...   \n",
       "1    0       0.000\n",
       "1       0.000\n",
       "2       0.000\n",
       "3   ...   \n",
       "2    0       0.000\n",
       "1       0.000\n",
       "2       0.000\n",
       "3   ...   \n",
       "3    0       0.00\n",
       "1       0.00\n",
       "2       0.00\n",
       "3      ...   \n",
       "4    0       0.000\n",
       "1       0.000\n",
       "2       0.000\n",
       "3   ...   \n",
       "..                                                 ...   \n",
       "153  0       0.000\n",
       "1       0.000\n",
       "2       0.000\n",
       "3   ...   \n",
       "154  0       0.00\n",
       "1       0.00\n",
       "2       0.00\n",
       "3      ...   \n",
       "155  0       0.000\n",
       "1       0.000\n",
       "2       0.000\n",
       "3   ...   \n",
       "156  0       0.000000\n",
       "1       0.000000\n",
       "2       0.00...   \n",
       "157  0       0.00\n",
       "1       0.00\n",
       "2       0.00\n",
       "3      ...   \n",
       "\n",
       "                                                 dim_4  \\\n",
       "0    0          0.000000\n",
       "1         -0.000550\n",
       "2     ...   \n",
       "1    0          0.000000\n",
       "1         -0.000467\n",
       "2     ...   \n",
       "2    0          0.000000\n",
       "1         -0.000659\n",
       "2     ...   \n",
       "3    0          0.000000\n",
       "1         -0.000471\n",
       "2     ...   \n",
       "4    0          0.000000\n",
       "1         -0.000470\n",
       "2     ...   \n",
       "..                                                 ...   \n",
       "153  0          0.000000\n",
       "1         -0.000517\n",
       "2     ...   \n",
       "154  0          0.000000\n",
       "1         -0.000639\n",
       "2     ...   \n",
       "155  0          0.000000\n",
       "1         -0.000556\n",
       "2     ...   \n",
       "156  0          0.000000\n",
       "1         -0.000596\n",
       "2     ...   \n",
       "157  0          0.000000\n",
       "1         -0.000559\n",
       "2     ...   \n",
       "\n",
       "                                                 dim_5  \\\n",
       "0    0       0.0\n",
       "1       0.0\n",
       "2       0.0\n",
       "3       0....   \n",
       "1    0       0.0\n",
       "1       0.0\n",
       "2       0.0\n",
       "3       0....   \n",
       "2    0       0.0\n",
       "1       0.0\n",
       "2       0.0\n",
       "3       0....   \n",
       "3    0       0.0\n",
       "1       0.0\n",
       "2       0.0\n",
       "3       0....   \n",
       "4    0       0.0\n",
       "1       0.0\n",
       "2       0.0\n",
       "3       0....   \n",
       "..                                                 ...   \n",
       "153  0       0.0\n",
       "1       0.0\n",
       "2       0.0\n",
       "3       0....   \n",
       "154  0       0.0\n",
       "1       0.0\n",
       "2       0.0\n",
       "3       0....   \n",
       "155  0       0.0\n",
       "1       0.0\n",
       "2       0.0\n",
       "3       0....   \n",
       "156  0       0.0\n",
       "1       0.0\n",
       "2       0.0\n",
       "3       0....   \n",
       "157  0       0.0\n",
       "1       0.0\n",
       "2       0.0\n",
       "3       0....   \n",
       "\n",
       "                                                 dim_6  \\\n",
       "0    0       0.0\n",
       "1       0.0\n",
       "2       0.0\n",
       "3       0....   \n",
       "1    0       0.0\n",
       "1       0.0\n",
       "2       0.0\n",
       "3       0....   \n",
       "2    0       0.0\n",
       "1       0.0\n",
       "2       0.0\n",
       "3       0....   \n",
       "3    0       0.0\n",
       "1       0.0\n",
       "2       0.0\n",
       "3       0....   \n",
       "4    0       0.0\n",
       "1       0.0\n",
       "2       0.0\n",
       "3       0....   \n",
       "..                                                 ...   \n",
       "153  0       0.0\n",
       "1       0.0\n",
       "2       0.0\n",
       "3       0....   \n",
       "154  0       0.0\n",
       "1       0.0\n",
       "2       0.0\n",
       "3       0....   \n",
       "155  0       0.0\n",
       "1       0.0\n",
       "2       0.0\n",
       "3       0....   \n",
       "156  0       0.0\n",
       "1       0.0\n",
       "2       0.0\n",
       "3       0....   \n",
       "157  0       0.0\n",
       "1       0.0\n",
       "2       0.0\n",
       "3       0....   \n",
       "\n",
       "                                                 dim_7  \\\n",
       "0    0       0.0\n",
       "1       0.0\n",
       "2       0.0\n",
       "3       0....   \n",
       "1    0       0.0\n",
       "1       0.0\n",
       "2       0.0\n",
       "3       0....   \n",
       "2    0       0.0\n",
       "1       0.0\n",
       "2       0.0\n",
       "3       0....   \n",
       "3    0       0.0\n",
       "1       0.0\n",
       "2       0.0\n",
       "3       0....   \n",
       "4    0       0.0\n",
       "1       0.0\n",
       "2       0.0\n",
       "3       0....   \n",
       "..                                                 ...   \n",
       "153  0       0.0\n",
       "1       0.0\n",
       "2       0.0\n",
       "3       0....   \n",
       "154  0       0.0\n",
       "1       0.0\n",
       "2       0.0\n",
       "3       0....   \n",
       "155  0       0.0\n",
       "1       0.0\n",
       "2       0.0\n",
       "3       0....   \n",
       "156  0       0.0\n",
       "1       0.0\n",
       "2       0.0\n",
       "3       0....   \n",
       "157  0       0.0\n",
       "1       0.0\n",
       "2       0.0\n",
       "3       0....   \n",
       "\n",
       "                                                 dim_8  \n",
       "0    0        0.000000\n",
       "1        0.000000\n",
       "2        0...  \n",
       "1    0        0.000000\n",
       "1        0.000000\n",
       "2        0...  \n",
       "2    0        0.000000\n",
       "1        0.000000\n",
       "2        0...  \n",
       "3    0        0.000000\n",
       "1        0.000000\n",
       "2        0...  \n",
       "4    0        0.000000\n",
       "1        0.000000\n",
       "2        0...  \n",
       "..                                                 ...  \n",
       "153  0        0.000000\n",
       "1        0.000000\n",
       "2        0...  \n",
       "154  0        0.000000\n",
       "1        0.000000\n",
       "2        0...  \n",
       "155  0        0.000000\n",
       "1        0.000000\n",
       "2        0...  \n",
       "156  0        0.000000\n",
       "1        0.000000\n",
       "2        0...  \n",
       "157  0        0.000000\n",
       "1        0.000000\n",
       "2        0...  \n",
       "\n",
       "[158 rows x 9 columns]"
      ]
     },
     "execution_count": 10,
     "metadata": {},
     "output_type": "execute_result"
    }
   ],
   "source": [
    "X_train_f"
   ]
  },
  {
   "cell_type": "code",
   "execution_count": 20,
   "metadata": {},
   "outputs": [],
   "source": [
    "\n",
    "X_train_f_drop_0 = X_train_f.drop(['dim_0'],axis=1)\n",
    "X_train_f_drop_1 = X_train_f.drop(['dim_1'],axis=1)\n",
    "X_train_f_drop_2 = X_train_f.drop(['dim_2'],axis=1)\n",
    "X_train_f_drop_3 = X_train_f.drop(['dim_3'],axis=1)\n",
    "X_train_f_drop_4 = X_train_f.drop(['dim_4'],axis=1)\n",
    "X_train_f_drop_5 = X_train_f.drop(['dim_5'],axis=1)\n",
    "X_train_f_drop_6 = X_train_f.drop(['dim_6'],axis=1)\n",
    "X_train_f_drop_7 = X_train_f.drop(['dim_7'],axis=1)\n",
    "X_train_f_drop_8 = X_train_f.drop(['dim_8'],axis=1)\n",
    "\n",
    "X_test_f_drop_0 = X_test_f.drop(['dim_0'],axis=1)\n",
    "X_test_f_drop_1 = X_test_f.drop(['dim_1'],axis=1)\n",
    "X_test_f_drop_2 = X_test_f.drop(['dim_2'],axis=1)\n",
    "X_test_f_drop_3 = X_test_f.drop(['dim_3'],axis=1)\n",
    "X_test_f_drop_4 = X_test_f.drop(['dim_4'],axis=1)\n",
    "X_test_f_drop_5 = X_test_f.drop(['dim_5'],axis=1)\n",
    "X_test_f_drop_6 = X_test_f.drop(['dim_6'],axis=1)\n",
    "X_test_f_drop_7 = X_test_f.drop(['dim_7'],axis=1)\n",
    "X_test_f_drop_8 = X_test_f.drop(['dim_8'],axis=1)"
   ]
  },
  {
   "cell_type": "code",
   "execution_count": 21,
   "metadata": {},
   "outputs": [
    {
     "data": {
      "text/html": [
       "<div>\n",
       "<style scoped>\n",
       "    .dataframe tbody tr th:only-of-type {\n",
       "        vertical-align: middle;\n",
       "    }\n",
       "\n",
       "    .dataframe tbody tr th {\n",
       "        vertical-align: top;\n",
       "    }\n",
       "\n",
       "    .dataframe thead th {\n",
       "        text-align: right;\n",
       "    }\n",
       "</style>\n",
       "<table border=\"1\" class=\"dataframe\">\n",
       "  <thead>\n",
       "    <tr style=\"text-align: right;\">\n",
       "      <th></th>\n",
       "      <th>dim_0</th>\n",
       "      <th>dim_2</th>\n",
       "      <th>dim_3</th>\n",
       "    </tr>\n",
       "  </thead>\n",
       "  <tbody>\n",
       "    <tr>\n",
       "      <th>0</th>\n",
       "      <td>0        0.010289\n",
       "1        0.028076\n",
       "2        0...</td>\n",
       "      <td>0       0.010240\n",
       "1       0.042565\n",
       "2       0.07...</td>\n",
       "      <td>0       0.00\n",
       "1       0.00\n",
       "2       0.00\n",
       "3      ...</td>\n",
       "    </tr>\n",
       "    <tr>\n",
       "      <th>1</th>\n",
       "      <td>0        0.009431\n",
       "1        0.027050\n",
       "2        0...</td>\n",
       "      <td>0       0.009044\n",
       "1       0.040627\n",
       "2       0.07...</td>\n",
       "      <td>0       0.000\n",
       "1       0.000\n",
       "2       0.000\n",
       "3   ...</td>\n",
       "    </tr>\n",
       "    <tr>\n",
       "      <th>2</th>\n",
       "      <td>0        0.010033\n",
       "1        0.028401\n",
       "2        0...</td>\n",
       "      <td>0       0.010488\n",
       "1       0.043723\n",
       "2       0.07...</td>\n",
       "      <td>0       0.00000\n",
       "1       0.00000\n",
       "2       0.0000...</td>\n",
       "    </tr>\n",
       "    <tr>\n",
       "      <th>3</th>\n",
       "      <td>0        0.009659\n",
       "1        0.027353\n",
       "2        0...</td>\n",
       "      <td>0       0.009339\n",
       "1       0.041157\n",
       "2       0.07...</td>\n",
       "      <td>0       0.000\n",
       "1       0.000\n",
       "2       0.000\n",
       "3   ...</td>\n",
       "    </tr>\n",
       "    <tr>\n",
       "      <th>4</th>\n",
       "      <td>0        0.009391\n",
       "1        0.026979\n",
       "2        0...</td>\n",
       "      <td>0       1.026092e-02\n",
       "1       4.625505e-02\n",
       "2   ...</td>\n",
       "      <td>0       0.000\n",
       "1       0.000\n",
       "2       0.000\n",
       "3   ...</td>\n",
       "    </tr>\n",
       "    <tr>\n",
       "      <th>...</th>\n",
       "      <td>...</td>\n",
       "      <td>...</td>\n",
       "      <td>...</td>\n",
       "    </tr>\n",
       "    <tr>\n",
       "      <th>58</th>\n",
       "      <td>0        0.009509\n",
       "1        0.027361\n",
       "2        0...</td>\n",
       "      <td>0       1.213970e-02\n",
       "1       5.337635e-02\n",
       "2   ...</td>\n",
       "      <td>0       0.00\n",
       "1       0.00\n",
       "2       0.00\n",
       "3      ...</td>\n",
       "    </tr>\n",
       "    <tr>\n",
       "      <th>59</th>\n",
       "      <td>0        0.009438\n",
       "1        0.026974\n",
       "2        0...</td>\n",
       "      <td>0       1.285789e-02\n",
       "1       5.770465e-02\n",
       "2   ...</td>\n",
       "      <td>0       0.000\n",
       "1       0.000\n",
       "2       0.000\n",
       "3   ...</td>\n",
       "    </tr>\n",
       "    <tr>\n",
       "      <th>60</th>\n",
       "      <td>0        0.011113\n",
       "1        0.029553\n",
       "2        0...</td>\n",
       "      <td>0       0.016972\n",
       "1       0.065432\n",
       "2       0.11...</td>\n",
       "      <td>0       0.00\n",
       "1       0.00\n",
       "2       0.00\n",
       "3      ...</td>\n",
       "    </tr>\n",
       "    <tr>\n",
       "      <th>61</th>\n",
       "      <td>0        0.011537\n",
       "1        0.031464\n",
       "2        0...</td>\n",
       "      <td>0       0.018068\n",
       "1       0.070977\n",
       "2       0.12...</td>\n",
       "      <td>0       0.00\n",
       "1       0.00\n",
       "2       0.00\n",
       "3      ...</td>\n",
       "    </tr>\n",
       "    <tr>\n",
       "      <th>62</th>\n",
       "      <td>0        0.011406\n",
       "1        0.030504\n",
       "2        0...</td>\n",
       "      <td>0       1.769661e-02\n",
       "1       6.816705e-02\n",
       "2   ...</td>\n",
       "      <td>0       0.00\n",
       "1       0.00\n",
       "2       0.00\n",
       "3      ...</td>\n",
       "    </tr>\n",
       "  </tbody>\n",
       "</table>\n",
       "<p>63 rows × 3 columns</p>\n",
       "</div>"
      ],
      "text/plain": [
       "                                                dim_0  \\\n",
       "0   0        0.010289\n",
       "1        0.028076\n",
       "2        0...   \n",
       "1   0        0.009431\n",
       "1        0.027050\n",
       "2        0...   \n",
       "2   0        0.010033\n",
       "1        0.028401\n",
       "2        0...   \n",
       "3   0        0.009659\n",
       "1        0.027353\n",
       "2        0...   \n",
       "4   0        0.009391\n",
       "1        0.026979\n",
       "2        0...   \n",
       "..                                                ...   \n",
       "58  0        0.009509\n",
       "1        0.027361\n",
       "2        0...   \n",
       "59  0        0.009438\n",
       "1        0.026974\n",
       "2        0...   \n",
       "60  0        0.011113\n",
       "1        0.029553\n",
       "2        0...   \n",
       "61  0        0.011537\n",
       "1        0.031464\n",
       "2        0...   \n",
       "62  0        0.011406\n",
       "1        0.030504\n",
       "2        0...   \n",
       "\n",
       "                                                dim_2  \\\n",
       "0   0       0.010240\n",
       "1       0.042565\n",
       "2       0.07...   \n",
       "1   0       0.009044\n",
       "1       0.040627\n",
       "2       0.07...   \n",
       "2   0       0.010488\n",
       "1       0.043723\n",
       "2       0.07...   \n",
       "3   0       0.009339\n",
       "1       0.041157\n",
       "2       0.07...   \n",
       "4   0       1.026092e-02\n",
       "1       4.625505e-02\n",
       "2   ...   \n",
       "..                                                ...   \n",
       "58  0       1.213970e-02\n",
       "1       5.337635e-02\n",
       "2   ...   \n",
       "59  0       1.285789e-02\n",
       "1       5.770465e-02\n",
       "2   ...   \n",
       "60  0       0.016972\n",
       "1       0.065432\n",
       "2       0.11...   \n",
       "61  0       0.018068\n",
       "1       0.070977\n",
       "2       0.12...   \n",
       "62  0       1.769661e-02\n",
       "1       6.816705e-02\n",
       "2   ...   \n",
       "\n",
       "                                                dim_3  \n",
       "0   0       0.00\n",
       "1       0.00\n",
       "2       0.00\n",
       "3      ...  \n",
       "1   0       0.000\n",
       "1       0.000\n",
       "2       0.000\n",
       "3   ...  \n",
       "2   0       0.00000\n",
       "1       0.00000\n",
       "2       0.0000...  \n",
       "3   0       0.000\n",
       "1       0.000\n",
       "2       0.000\n",
       "3   ...  \n",
       "4   0       0.000\n",
       "1       0.000\n",
       "2       0.000\n",
       "3   ...  \n",
       "..                                                ...  \n",
       "58  0       0.00\n",
       "1       0.00\n",
       "2       0.00\n",
       "3      ...  \n",
       "59  0       0.000\n",
       "1       0.000\n",
       "2       0.000\n",
       "3   ...  \n",
       "60  0       0.00\n",
       "1       0.00\n",
       "2       0.00\n",
       "3      ...  \n",
       "61  0       0.00\n",
       "1       0.00\n",
       "2       0.00\n",
       "3      ...  \n",
       "62  0       0.00\n",
       "1       0.00\n",
       "2       0.00\n",
       "3      ...  \n",
       "\n",
       "[63 rows x 3 columns]"
      ]
     },
     "execution_count": 21,
     "metadata": {},
     "output_type": "execute_result"
    }
   ],
   "source": [
    "X_test_f_drop_145678"
   ]
  },
  {
   "cell_type": "markdown",
   "metadata": {},
   "source": [
    "# Drop 0 - without time anlysis"
   ]
  },
  {
   "cell_type": "code",
   "execution_count": 25,
   "metadata": {},
   "outputs": [
    {
     "data": {
      "text/plain": [
       "0.9523809523809523"
      ]
     },
     "execution_count": 25,
     "metadata": {},
     "output_type": "execute_result"
    }
   ],
   "source": [
    "steps = [(\"concatenate\", ColumnConcatenator()),(\"classify\", TimeSeriesForestClassifier(n_estimators=100)),]\n",
    "clf1 = Pipeline(steps)\n",
    "clf1.fit(X_train_f_drop_0, y_train_f)\n",
    "clf1.score(X_test_f_drop_0, y_test_f)"
   ]
  },
  {
   "cell_type": "code",
   "execution_count": 26,
   "metadata": {},
   "outputs": [
    {
     "name": "stdout",
     "output_type": "stream",
     "text": [
      "              precision    recall  f1-score   support\n",
      "\n",
      "      orange       0.97      0.94      0.95        31\n",
      "      tomato       0.94      0.97      0.95        32\n",
      "\n",
      "    accuracy                           0.95        63\n",
      "   macro avg       0.95      0.95      0.95        63\n",
      "weighted avg       0.95      0.95      0.95        63\n",
      "\n"
     ]
    }
   ],
   "source": [
    "print(classification_report(y_test_f, clf1.predict(X_test_f_drop_0)))"
   ]
  },
  {
   "cell_type": "markdown",
   "metadata": {},
   "source": [
    "# Drop 1 - without input force"
   ]
  },
  {
   "cell_type": "code",
   "execution_count": 47,
   "metadata": {},
   "outputs": [
    {
     "data": {
      "text/plain": [
       "0.9523809523809523"
      ]
     },
     "execution_count": 47,
     "metadata": {},
     "output_type": "execute_result"
    }
   ],
   "source": [
    "steps = [(\"concatenate\", ColumnConcatenator()),(\"classify\", TimeSeriesForestClassifier(n_estimators=100)),]\n",
    "clf = Pipeline(steps)\n",
    "clf.fit(X_train_f_drop_1, y_train_f)\n",
    "clf.score(X_test_f_drop_1, y_test_f)"
   ]
  },
  {
   "cell_type": "code",
   "execution_count": 48,
   "metadata": {},
   "outputs": [
    {
     "name": "stdout",
     "output_type": "stream",
     "text": [
      "              precision    recall  f1-score   support\n",
      "\n",
      "      orange       0.97      0.94      0.95        31\n",
      "      tomato       0.94      0.97      0.95        32\n",
      "\n",
      "    accuracy                           0.95        63\n",
      "   macro avg       0.95      0.95      0.95        63\n",
      "weighted avg       0.95      0.95      0.95        63\n",
      "\n"
     ]
    }
   ],
   "source": [
    "print(classification_report(y_test_f, clf.predict(X_test_f_drop_1)))"
   ]
  },
  {
   "cell_type": "markdown",
   "metadata": {},
   "source": [
    "# Drop 2 - without force responce"
   ]
  },
  {
   "cell_type": "code",
   "execution_count": 49,
   "metadata": {},
   "outputs": [
    {
     "data": {
      "text/plain": [
       "0.9523809523809523"
      ]
     },
     "execution_count": 49,
     "metadata": {},
     "output_type": "execute_result"
    }
   ],
   "source": [
    "steps = [(\"concatenate\", ColumnConcatenator()),(\"classify\", TimeSeriesForestClassifier(n_estimators=100)),]\n",
    "clf = Pipeline(steps)\n",
    "clf.fit(X_train_f_drop_2, y_train_f)\n",
    "clf.score(X_test_f_drop_2, y_test_f)"
   ]
  },
  {
   "cell_type": "code",
   "execution_count": 50,
   "metadata": {},
   "outputs": [
    {
     "name": "stdout",
     "output_type": "stream",
     "text": [
      "              precision    recall  f1-score   support\n",
      "\n",
      "      orange       0.97      0.94      0.95        31\n",
      "      tomato       0.94      0.97      0.95        32\n",
      "\n",
      "    accuracy                           0.95        63\n",
      "   macro avg       0.95      0.95      0.95        63\n",
      "weighted avg       0.95      0.95      0.95        63\n",
      "\n"
     ]
    }
   ],
   "source": [
    "print(classification_report(y_test_f, clf.predict(X_test_f_drop_2)))"
   ]
  },
  {
   "cell_type": "markdown",
   "metadata": {},
   "source": [
    "# Drop 3 - without position feedback"
   ]
  },
  {
   "cell_type": "code",
   "execution_count": 29,
   "metadata": {},
   "outputs": [
    {
     "data": {
      "text/plain": [
       "0.9523809523809523"
      ]
     },
     "execution_count": 29,
     "metadata": {},
     "output_type": "execute_result"
    }
   ],
   "source": [
    "steps = [(\"concatenate\", ColumnConcatenator()),(\"classify\", TimeSeriesForestClassifier(n_estimators=100)),]\n",
    "clf = Pipeline(steps)\n",
    "clf.fit(X_train_f_drop_3, y_train_f)\n",
    "clf.score(X_test_f_drop_3, y_test_f)\n"
   ]
  },
  {
   "cell_type": "code",
   "execution_count": 30,
   "metadata": {},
   "outputs": [
    {
     "name": "stdout",
     "output_type": "stream",
     "text": [
      "              precision    recall  f1-score   support\n",
      "\n",
      "      orange       0.97      0.94      0.95        31\n",
      "      tomato       0.94      0.97      0.95        32\n",
      "\n",
      "    accuracy                           0.95        63\n",
      "   macro avg       0.95      0.95      0.95        63\n",
      "weighted avg       0.95      0.95      0.95        63\n",
      "\n"
     ]
    }
   ],
   "source": [
    "print(classification_report(y_test_f, clf.predict(X_test_f_drop_3)))"
   ]
  },
  {
   "cell_type": "markdown",
   "metadata": {},
   "source": [
    "# Drop 4 - without Velocity"
   ]
  },
  {
   "cell_type": "code",
   "execution_count": 27,
   "metadata": {},
   "outputs": [
    {
     "data": {
      "text/plain": [
       "0.9841269841269841"
      ]
     },
     "execution_count": 27,
     "metadata": {},
     "output_type": "execute_result"
    }
   ],
   "source": [
    "steps = [(\"concatenate\", ColumnConcatenator()),(\"classify\", TimeSeriesForestClassifier(n_estimators=100)),]\n",
    "clf = Pipeline(steps)\n",
    "clf.fit(X_train_f_drop_4, y_train_f)\n",
    "clf.score(X_test_f_drop_4, y_test_f)\n"
   ]
  },
  {
   "cell_type": "code",
   "execution_count": 28,
   "metadata": {},
   "outputs": [
    {
     "name": "stdout",
     "output_type": "stream",
     "text": [
      "              precision    recall  f1-score   support\n",
      "\n",
      "      orange       0.97      1.00      0.98        31\n",
      "      tomato       1.00      0.97      0.98        32\n",
      "\n",
      "    accuracy                           0.98        63\n",
      "   macro avg       0.98      0.98      0.98        63\n",
      "weighted avg       0.98      0.98      0.98        63\n",
      "\n"
     ]
    }
   ],
   "source": [
    "print(classification_report(y_test_f, clf.predict(X_test_f_drop_4)))"
   ]
  },
  {
   "cell_type": "markdown",
   "metadata": {},
   "source": [
    "# Drop 5 - without accleration feedback"
   ]
  },
  {
   "cell_type": "code",
   "execution_count": 31,
   "metadata": {},
   "outputs": [
    {
     "data": {
      "text/plain": [
       "0.9523809523809523"
      ]
     },
     "execution_count": 31,
     "metadata": {},
     "output_type": "execute_result"
    }
   ],
   "source": [
    "steps = [(\"concatenate\", ColumnConcatenator()),(\"classify\", TimeSeriesForestClassifier(n_estimators=100)),]\n",
    "clf = Pipeline(steps)\n",
    "clf.fit(X_train_f_drop_5, y_train_f)\n",
    "clf.score(X_test_f_drop_5, y_test_f)\n"
   ]
  },
  {
   "cell_type": "code",
   "execution_count": 32,
   "metadata": {},
   "outputs": [
    {
     "name": "stdout",
     "output_type": "stream",
     "text": [
      "              precision    recall  f1-score   support\n",
      "\n",
      "      orange       0.97      0.94      0.95        31\n",
      "      tomato       0.94      0.97      0.95        32\n",
      "\n",
      "    accuracy                           0.95        63\n",
      "   macro avg       0.95      0.95      0.95        63\n",
      "weighted avg       0.95      0.95      0.95        63\n",
      "\n"
     ]
    }
   ],
   "source": [
    "print(classification_report(y_test_f, clf.predict(X_test_f_drop_5)))"
   ]
  },
  {
   "cell_type": "markdown",
   "metadata": {},
   "source": [
    "# Drop 6 - without stiffness feedback"
   ]
  },
  {
   "cell_type": "code",
   "execution_count": 34,
   "metadata": {},
   "outputs": [
    {
     "data": {
      "text/plain": [
       "0.9523809523809523"
      ]
     },
     "execution_count": 34,
     "metadata": {},
     "output_type": "execute_result"
    }
   ],
   "source": [
    "steps = [(\"concatenate\", ColumnConcatenator()),(\"classify\", TimeSeriesForestClassifier(n_estimators=100)),]\n",
    "clf = Pipeline(steps)\n",
    "clf.fit(X_train_f_drop_6, y_train_f)\n",
    "clf.score(X_test_f_drop_6, y_test_f)\n"
   ]
  },
  {
   "cell_type": "code",
   "execution_count": 35,
   "metadata": {},
   "outputs": [
    {
     "name": "stdout",
     "output_type": "stream",
     "text": [
      "              precision    recall  f1-score   support\n",
      "\n",
      "      orange       0.97      0.94      0.95        31\n",
      "      tomato       0.94      0.97      0.95        32\n",
      "\n",
      "    accuracy                           0.95        63\n",
      "   macro avg       0.95      0.95      0.95        63\n",
      "weighted avg       0.95      0.95      0.95        63\n",
      "\n"
     ]
    }
   ],
   "source": [
    "print(classification_report(y_test_f, clf.predict(X_test_f_drop_6)))"
   ]
  },
  {
   "cell_type": "markdown",
   "metadata": {},
   "source": [
    "# Drop 7 - without viscussness feedback"
   ]
  },
  {
   "cell_type": "code",
   "execution_count": 38,
   "metadata": {},
   "outputs": [
    {
     "data": {
      "text/plain": [
       "0.9523809523809523"
      ]
     },
     "execution_count": 38,
     "metadata": {},
     "output_type": "execute_result"
    }
   ],
   "source": [
    "steps = [(\"concatenate\", ColumnConcatenator()),(\"classify\", TimeSeriesForestClassifier(n_estimators=100)),]\n",
    "clf = Pipeline(steps)\n",
    "clf.fit(X_train_f_drop_7, y_train_f)\n",
    "clf.score(X_test_f_drop_7, y_test_f)\n"
   ]
  },
  {
   "cell_type": "code",
   "execution_count": 39,
   "metadata": {},
   "outputs": [
    {
     "name": "stdout",
     "output_type": "stream",
     "text": [
      "              precision    recall  f1-score   support\n",
      "\n",
      "      orange       0.97      0.94      0.95        31\n",
      "      tomato       0.94      0.97      0.95        32\n",
      "\n",
      "    accuracy                           0.95        63\n",
      "   macro avg       0.95      0.95      0.95        63\n",
      "weighted avg       0.95      0.95      0.95        63\n",
      "\n"
     ]
    }
   ],
   "source": [
    "print(classification_report(y_test_f, clf.predict(X_test_f_drop_7)))"
   ]
  },
  {
   "cell_type": "markdown",
   "metadata": {},
   "source": [
    "# Drop 8 - without energy absorbed feedback"
   ]
  },
  {
   "cell_type": "code",
   "execution_count": 42,
   "metadata": {},
   "outputs": [
    {
     "data": {
      "text/plain": [
       "0.8571428571428571"
      ]
     },
     "execution_count": 42,
     "metadata": {},
     "output_type": "execute_result"
    }
   ],
   "source": [
    "steps = [(\"concatenate\", ColumnConcatenator()),(\"classify\", TimeSeriesForestClassifier(n_estimators=100)),]\n",
    "clf = Pipeline(steps)\n",
    "clf.fit(X_train_f_drop_8, y_train_f)\n",
    "clf.score(X_test_f_drop_8, y_test_f)\n"
   ]
  },
  {
   "cell_type": "code",
   "execution_count": 43,
   "metadata": {},
   "outputs": [
    {
     "name": "stdout",
     "output_type": "stream",
     "text": [
      "              precision    recall  f1-score   support\n",
      "\n",
      "      orange       0.79      0.97      0.87        31\n",
      "      tomato       0.96      0.75      0.84        32\n",
      "\n",
      "    accuracy                           0.86        63\n",
      "   macro avg       0.87      0.86      0.86        63\n",
      "weighted avg       0.88      0.86      0.86        63\n",
      "\n"
     ]
    }
   ],
   "source": [
    "print(classification_report(y_test_f, clf.predict(X_test_f_drop_8)))"
   ]
  },
  {
   "cell_type": "code",
   "execution_count": 48,
   "metadata": {},
   "outputs": [
    {
     "name": "stdout",
     "output_type": "stream",
     "text": [
      "              precision    recall  f1-score   support\n",
      "\n",
      "      orange       0.91      0.94      0.92        31\n",
      "      tomato       0.94      0.91      0.92        32\n",
      "\n",
      "    accuracy                           0.92        63\n",
      "   macro avg       0.92      0.92      0.92        63\n",
      "weighted avg       0.92      0.92      0.92        63\n",
      "\n"
     ]
    }
   ],
   "source": [
    "print(classification_report(y_test_f, clf.predict(X_test_f_drop_01234567)))"
   ]
  },
  {
   "cell_type": "markdown",
   "metadata": {},
   "source": [
    "# 3 and 8 only, others dropped"
   ]
  },
  {
   "cell_type": "code",
   "execution_count": 51,
   "metadata": {},
   "outputs": [],
   "source": [
    "X_train_f_drop_0124567 = X_train_f.drop(['dim_0','dim_1','dim_2','dim_4','dim_5','dim_6','dim_7'],axis=1)\n",
    "X_test_f_drop_0124567 = X_test_f.drop(['dim_0','dim_1','dim_2','dim_4','dim_5','dim_6','dim_7'],axis=1)"
   ]
  },
  {
   "cell_type": "code",
   "execution_count": 52,
   "metadata": {},
   "outputs": [
    {
     "data": {
      "text/plain": [
       "0.8888888888888888"
      ]
     },
     "execution_count": 52,
     "metadata": {},
     "output_type": "execute_result"
    }
   ],
   "source": [
    "steps = [(\"concatenate\", ColumnConcatenator()),(\"classify\", TimeSeriesForestClassifier(n_estimators=100)),]\n",
    "clf = Pipeline(steps)\n",
    "clf.fit(X_train_f_drop_0124567 , y_train_f)\n",
    "clf.score(X_test_f_drop_0124567, y_test_f) "
   ]
  },
  {
   "cell_type": "markdown",
   "metadata": {},
   "source": [
    "# STAGE 2 \n",
    "# With only 1 feature"
   ]
  },
  {
   "cell_type": "markdown",
   "metadata": {},
   "source": [
    "# 0 only, others dropped"
   ]
  },
  {
   "cell_type": "code",
   "execution_count": 66,
   "metadata": {},
   "outputs": [],
   "source": [
    "X_train_f_drop_12345678 = X_train_f.drop(['dim_1','dim_2','dim_3','dim_4','dim_5','dim_6','dim_7','dim_8'],axis=1)\n",
    "X_test_f_drop_12345678 = X_test_f.drop(['dim_1','dim_2','dim_3','dim_4','dim_5','dim_6','dim_7','dim_8'],axis=1)"
   ]
  },
  {
   "cell_type": "code",
   "execution_count": 67,
   "metadata": {},
   "outputs": [
    {
     "data": {
      "text/plain": [
       "0.5396825396825397"
      ]
     },
     "execution_count": 67,
     "metadata": {},
     "output_type": "execute_result"
    }
   ],
   "source": [
    "steps = [(\"concatenate\", ColumnConcatenator()),(\"classify\", TimeSeriesForestClassifier(n_estimators=100)),]\n",
    "clf = Pipeline(steps)\n",
    "clf.fit(X_train_f_drop_12345678 , y_train_f)\n",
    "clf.score(X_test_f_drop_12345678, y_test_f) "
   ]
  },
  {
   "cell_type": "markdown",
   "metadata": {},
   "source": [
    "# 1 only, others dropped\n"
   ]
  },
  {
   "cell_type": "code",
   "execution_count": 72,
   "metadata": {},
   "outputs": [],
   "source": [
    "X_train_f_drop_02345678 = X_train_f.drop(['dim_0','dim_2','dim_3','dim_4','dim_5','dim_6','dim_7','dim_8'],axis=1)\n",
    "X_test_f_drop_02345678 = X_test_f.drop(['dim_0','dim_2','dim_3','dim_4','dim_5','dim_6','dim_7','dim_8'],axis=1)"
   ]
  },
  {
   "cell_type": "code",
   "execution_count": 73,
   "metadata": {},
   "outputs": [
    {
     "data": {
      "text/plain": [
       "0.5238095238095238"
      ]
     },
     "execution_count": 73,
     "metadata": {},
     "output_type": "execute_result"
    }
   ],
   "source": [
    "steps = [(\"concatenate\", ColumnConcatenator()),(\"classify\", TimeSeriesForestClassifier(n_estimators=100)),]\n",
    "clf = Pipeline(steps)\n",
    "clf.fit(X_train_f_drop_02345678 , y_train_f)\n",
    "clf.score(X_test_f_drop_02345678, y_test_f) "
   ]
  },
  {
   "cell_type": "markdown",
   "metadata": {},
   "source": [
    "# 2 only, others dropped"
   ]
  },
  {
   "cell_type": "code",
   "execution_count": 54,
   "metadata": {},
   "outputs": [],
   "source": [
    "X_train_f_drop_01345678 = X_train_f.drop(['dim_0','dim_1','dim_3','dim_4','dim_5','dim_6','dim_7','dim_8'],axis=1)\n",
    "X_test_f_drop_01345678 = X_test_f.drop(['dim_0','dim_1','dim_3','dim_4','dim_5','dim_6','dim_7','dim_8'],axis=1)"
   ]
  },
  {
   "cell_type": "code",
   "execution_count": 55,
   "metadata": {},
   "outputs": [
    {
     "data": {
      "text/plain": [
       "0.8412698412698413"
      ]
     },
     "execution_count": 55,
     "metadata": {},
     "output_type": "execute_result"
    }
   ],
   "source": [
    "steps = [(\"concatenate\", ColumnConcatenator()),(\"classify\", TimeSeriesForestClassifier(n_estimators=100)),]\n",
    "clf = Pipeline(steps)\n",
    "clf.fit(X_train_f_drop_01345678 , y_train_f)\n",
    "clf.score(X_test_f_drop_01345678, y_test_f) "
   ]
  },
  {
   "cell_type": "markdown",
   "metadata": {},
   "source": [
    "# 3 only, others dropped"
   ]
  },
  {
   "cell_type": "code",
   "execution_count": 49,
   "metadata": {},
   "outputs": [],
   "source": [
    "X_train_f_drop_01245678 = X_train_f.drop(['dim_0','dim_1','dim_2','dim_4','dim_5','dim_6','dim_7','dim_8'],axis=1)\n",
    "X_test_f_drop_01245678 = X_test_f.drop(['dim_0','dim_1','dim_2','dim_4','dim_5','dim_6','dim_7','dim_8'],axis=1)"
   ]
  },
  {
   "cell_type": "code",
   "execution_count": 50,
   "metadata": {},
   "outputs": [
    {
     "data": {
      "text/plain": [
       "0.9047619047619048"
      ]
     },
     "execution_count": 50,
     "metadata": {},
     "output_type": "execute_result"
    }
   ],
   "source": [
    "steps = [(\"concatenate\", ColumnConcatenator()),(\"classify\", TimeSeriesForestClassifier(n_estimators=100)),]\n",
    "clf = Pipeline(steps)\n",
    "clf.fit(X_train_f_drop_01245678 , y_train_f)\n",
    "clf.score(X_test_f_drop_01245678, y_test_f) "
   ]
  },
  {
   "cell_type": "code",
   "execution_count": null,
   "metadata": {},
   "outputs": [],
   "source": [
    "print(classification_report(y_test_f, clf.predict(X_test_f_drop_01245678)))"
   ]
  },
  {
   "cell_type": "markdown",
   "metadata": {},
   "source": [
    "# 4 only, others dropped"
   ]
  },
  {
   "cell_type": "code",
   "execution_count": 56,
   "metadata": {},
   "outputs": [],
   "source": [
    "X_train_f_drop_01235678 = X_train_f.drop(['dim_0','dim_1','dim_2','dim_3','dim_5','dim_6','dim_7','dim_8'],axis=1)\n",
    "X_test_f_drop_01235678 = X_test_f.drop(['dim_0','dim_1','dim_2','dim_3','dim_5','dim_6','dim_7','dim_8'],axis=1)"
   ]
  },
  {
   "cell_type": "code",
   "execution_count": 57,
   "metadata": {},
   "outputs": [
    {
     "data": {
      "text/plain": [
       "0.8095238095238095"
      ]
     },
     "execution_count": 57,
     "metadata": {},
     "output_type": "execute_result"
    }
   ],
   "source": [
    "steps = [(\"concatenate\", ColumnConcatenator()),(\"classify\", TimeSeriesForestClassifier(n_estimators=100)),]\n",
    "clf = Pipeline(steps)\n",
    "clf.fit(X_train_f_drop_01235678 , y_train_f)\n",
    "clf.score(X_test_f_drop_01235678, y_test_f) "
   ]
  },
  {
   "cell_type": "markdown",
   "metadata": {},
   "source": [
    "# 5 only, others dropped"
   ]
  },
  {
   "cell_type": "code",
   "execution_count": 58,
   "metadata": {},
   "outputs": [],
   "source": [
    "X_train_f_drop_01234678 = X_train_f.drop(['dim_0','dim_1','dim_2','dim_3','dim_4','dim_6','dim_7','dim_8'],axis=1)\n",
    "X_test_f_drop_01234678 = X_test_f.drop(['dim_0','dim_1','dim_2','dim_3','dim_4','dim_6','dim_7','dim_8'],axis=1)"
   ]
  },
  {
   "cell_type": "code",
   "execution_count": 59,
   "metadata": {},
   "outputs": [
    {
     "data": {
      "text/plain": [
       "0.49206349206349204"
      ]
     },
     "execution_count": 59,
     "metadata": {},
     "output_type": "execute_result"
    }
   ],
   "source": [
    "steps = [(\"concatenate\", ColumnConcatenator()),(\"classify\", TimeSeriesForestClassifier(n_estimators=100)),]\n",
    "clf = Pipeline(steps)\n",
    "clf.fit(X_train_f_drop_01234678 , y_train_f)\n",
    "clf.score(X_test_f_drop_01234678, y_test_f) "
   ]
  },
  {
   "cell_type": "markdown",
   "metadata": {},
   "source": [
    "# 6 only, others dropped"
   ]
  },
  {
   "cell_type": "code",
   "execution_count": 60,
   "metadata": {},
   "outputs": [],
   "source": [
    "X_train_f_drop_01234578 = X_train_f.drop(['dim_0','dim_1','dim_2','dim_3','dim_4','dim_5','dim_7','dim_8'],axis=1)\n",
    "X_test_f_drop_01234578 = X_test_f.drop(['dim_0','dim_1','dim_2','dim_3','dim_4','dim_5','dim_7','dim_8'],axis=1)"
   ]
  },
  {
   "cell_type": "code",
   "execution_count": 61,
   "metadata": {},
   "outputs": [
    {
     "data": {
      "text/plain": [
       "0.49206349206349204"
      ]
     },
     "execution_count": 61,
     "metadata": {},
     "output_type": "execute_result"
    }
   ],
   "source": [
    "steps = [(\"concatenate\", ColumnConcatenator()),(\"classify\", TimeSeriesForestClassifier(n_estimators=100)),]\n",
    "clf = Pipeline(steps)\n",
    "clf.fit(X_train_f_drop_01234578 , y_train_f)\n",
    "clf.score(X_test_f_drop_01234578, y_test_f) "
   ]
  },
  {
   "cell_type": "markdown",
   "metadata": {},
   "source": [
    "# 7 only, others dropped"
   ]
  },
  {
   "cell_type": "code",
   "execution_count": 62,
   "metadata": {},
   "outputs": [],
   "source": [
    "X_train_f_drop_01234568 = X_train_f.drop(['dim_0','dim_1','dim_2','dim_3','dim_4','dim_5','dim_6','dim_8'],axis=1)\n",
    "X_test_f_drop_01234568 = X_test_f.drop(['dim_0','dim_1','dim_2','dim_3','dim_4','dim_5','dim_6','dim_8'],axis=1)"
   ]
  },
  {
   "cell_type": "code",
   "execution_count": 63,
   "metadata": {},
   "outputs": [
    {
     "data": {
      "text/plain": [
       "0.49206349206349204"
      ]
     },
     "execution_count": 63,
     "metadata": {},
     "output_type": "execute_result"
    }
   ],
   "source": [
    "steps = [(\"concatenate\", ColumnConcatenator()),(\"classify\", TimeSeriesForestClassifier(n_estimators=100)),]\n",
    "clf = Pipeline(steps)\n",
    "clf.fit(X_train_f_drop_01234568 , y_train_f)\n",
    "clf.score(X_test_f_drop_01234568, y_test_f) "
   ]
  },
  {
   "cell_type": "markdown",
   "metadata": {},
   "source": [
    "# Only 8 others droped"
   ]
  },
  {
   "cell_type": "code",
   "execution_count": 45,
   "metadata": {},
   "outputs": [],
   "source": [
    "X_train_f_drop_01234567 = X_train_f.drop(['dim_0','dim_1','dim_2','dim_3','dim_4','dim_5','dim_6','dim_7'],axis=1)\n",
    "X_test_f_drop_01234567 = X_test_f.drop(['dim_0','dim_1','dim_2','dim_3','dim_4','dim_5','dim_6','dim_7'],axis=1)"
   ]
  },
  {
   "cell_type": "code",
   "execution_count": 47,
   "metadata": {},
   "outputs": [
    {
     "data": {
      "text/plain": [
       "0.9206349206349206"
      ]
     },
     "execution_count": 47,
     "metadata": {},
     "output_type": "execute_result"
    }
   ],
   "source": [
    "steps = [(\"concatenate\", ColumnConcatenator()),(\"classify\", TimeSeriesForestClassifier(n_estimators=100)),]\n",
    "clf = Pipeline(steps)\n",
    "clf.fit(X_train_f_drop_01234567 , y_train_f)\n",
    "clf.score(X_test_f_drop_01234567, y_test_f) "
   ]
  },
  {
   "cell_type": "markdown",
   "metadata": {},
   "source": [
    "# Stage 3\n",
    "## Only with 2 paremeters"
   ]
  },
  {
   "cell_type": "code",
   "execution_count": null,
   "metadata": {},
   "outputs": [],
   "source": [
    "X_train_f_drop_01234567 = X_train_f.drop(['dim_0','dim_1','dim_2','dim_3','dim_4','dim_5','dim_6','dim_7','dim_8'],axis=1)\n",
    "X_test_f_drop_01234567 = X_test_f.drop(['dim_0','dim_1','dim_2','dim_3','dim_4','dim_5','dim_6','dim_7','dim_8'],axis=1)"
   ]
  },
  {
   "cell_type": "code",
   "execution_count": 84,
   "metadata": {},
   "outputs": [],
   "source": [
    "dim = ['dim_0','dim_1','dim_2','dim_3','dim_4','dim_5','dim_6','dim_7','dim_8']"
   ]
  },
  {
   "cell_type": "code",
   "execution_count": 107,
   "metadata": {},
   "outputs": [
    {
     "name": "stdout",
     "output_type": "stream",
     "text": [
      "dim_0 dim_1\n",
      "dim_0 dim_2\n",
      "dim_0 dim_3\n",
      "dim_0 dim_4\n",
      "dim_0 dim_5\n",
      "dim_0 dim_6\n",
      "dim_0 dim_7\n",
      "dim_0 dim_8\n",
      "dim_1 dim_2\n",
      "dim_1 dim_3\n",
      "dim_1 dim_4\n",
      "dim_1 dim_5\n",
      "dim_1 dim_6\n",
      "dim_1 dim_7\n",
      "dim_1 dim_8\n",
      "dim_2 dim_3\n",
      "dim_2 dim_4\n",
      "dim_2 dim_5\n",
      "dim_2 dim_6\n",
      "dim_2 dim_7\n",
      "dim_2 dim_8\n",
      "dim_3 dim_4\n",
      "dim_3 dim_5\n",
      "dim_3 dim_6\n",
      "dim_3 dim_7\n",
      "dim_3 dim_8\n",
      "dim_4 dim_5\n",
      "dim_4 dim_6\n",
      "dim_4 dim_7\n",
      "dim_4 dim_8\n",
      "dim_5 dim_6\n",
      "dim_5 dim_7\n",
      "dim_5 dim_8\n",
      "dim_6 dim_7\n",
      "dim_6 dim_8\n",
      "dim_7 dim_8\n"
     ]
    }
   ],
   "source": [
    "steps = [(\"concatenate\", ColumnConcatenator()),(\"classify\", TimeSeriesForestClassifier(n_estimators=100)),]\n",
    "clf = Pipeline(steps)\n",
    "\n",
    "\n",
    "for x in range (0,9):\n",
    "    X_train_f_drop_X = X_train_f.drop(dim[x],axis=1)\n",
    "    X_test_f_drop_X = X_test_f.drop(dim[x],axis=1)\n",
    "    for y in range (x+1,9):\n",
    "        X_train_f_drop_X = X_train_f.drop(dim[y],axis=1)\n",
    "        X_test_f_drop_X = X_test_f.drop(dim[y],axis=1)\n",
    "        print(dim[x],dim[y])\n",
    "        #clf.fit(X_train_f_drop_X , y_train_f)\n",
    "        #print(clf.score(X_test_f_drop_X, y_test_f))\n",
    "        \n",
    "        \n",
    "        "
   ]
  },
  {
   "cell_type": "markdown",
   "metadata": {},
   "source": [
    "# Feature imporance plot \n",
    "\n",
    "\n",
    "calculated in colab file haptic 2"
   ]
  },
  {
   "cell_type": "code",
   "execution_count": 2,
   "metadata": {},
   "outputs": [],
   "source": [
    "import matplotlib.pyplot as plt\n",
    "plt.rcParams.update({\n",
    "    \"text.usetex\": True,\n",
    "    \"font.family\": \"sans-serif\",\n",
    "    \"font.sans-serif\": [\"Helvetica\"],\n",
    "    \"font.size\":14})\n",
    "    \n",
    "# for Palatino and other serif fonts use:\n",
    "plt.rcParams.update({\n",
    "    \"text.usetex\": True,\n",
    "    \"font.family\": \"serif\",\n",
    "    \"font.serif\": [\"Palatino\"],\n",
    "})\n",
    "# It's also possible to use the reduced notation by directly setting font.family:\n",
    "plt.rcParams.update({\n",
    "  \"text.usetex\": True,\n",
    "  \"font.family\": \"Helvetica\"\n",
    "})\n"
   ]
  },
  {
   "cell_type": "code",
   "execution_count": 46,
   "metadata": {},
   "outputs": [],
   "source": [
    "import pandas as pd\n",
    "df1 = pd.DataFrame({'name': ['Force Command', 'Force Response', 'Position','Velocity','Acceleration','Stiffness','Viscousness','Energy absorbed'], \n",
    "                   'FI': [0.0125, -0.025, -0.0125, 0, 0, 0.014286, -0.025, 0.091071]})\n",
    "\n",
    "df2 = pd.DataFrame({'name': ['Force Command', 'Force Response', 'Position','Velocity','Acceleration','Stiffness','Viscousness','Energy absorbed'], \n",
    "                   'FI': [0.009289, 0.000198, 0.000198, -0.004348, -0.004348, 0.000198, -0.004348, 0.022135]})\n"
   ]
  },
  {
   "cell_type": "code",
   "execution_count": 47,
   "metadata": {},
   "outputs": [
    {
     "data": {
      "text/plain": [
       "<Figure size 432x288 with 0 Axes>"
      ]
     },
     "metadata": {},
     "output_type": "display_data"
    },
    {
     "data": {
      "image/png": "[encoded data removed]",
      "text/plain": [
       "<Figure size 432x288 with 1 Axes>"
      ]
     },
     "metadata": {
      "needs_background": "light"
     },
     "output_type": "display_data"
    }
   ],
   "source": [
    "import matplotlib.pyplot as plt\n",
    "fig = plt.figure()\n",
    "plt.figure(tight_layout=(1,0,1,1))\n",
    "#plt.figure(figsize=(9.1,9.7))\n",
    "#text_kwargs = dict(ha='center', va='center', fontsize=28, color='C1')\n",
    "plt.barh(df1['name'],df1['FI'],label='Dataset1')\n",
    "plt.barh(df2['name'],df2['FI'],label='Dataset2')\n",
    "plt.xlabel(\"Feature importance score\")\n",
    "plt.xticks(rotation=80)\n",
    "plt.legend()\n",
    "plt.ylabel(\"Dimensions\")\n",
    "\n",
    "plt.savefig('Fig_26_FI_barchart_5.pdf')\n",
    "plt.show()\n"
   ]
  },
  {
   "cell_type": "code",
   "execution_count": 41,
   "metadata": {},
   "outputs": [
    {
     "data": {
      "text/plain": [
       "<Figure size 432x288 with 0 Axes>"
      ]
     },
     "metadata": {},
     "output_type": "display_data"
    },
    {
     "data": {
      "image/png": "[encoded data removed]",
      "text/plain": [
       "<Figure size 432x288 with 1 Axes>"
      ]
     },
     "metadata": {
      "needs_background": "light"
     },
     "output_type": "display_data"
    }
   ],
   "source": [
    "import matplotlib.pyplot as plt\n",
    "fig = plt.figure()\n",
    "plt.figure(tight_layout=(1,0,1,1))\n",
    "#plt.figure(figsize=(9.1,9.7))\n",
    "#text_kwargs = dict(ha='center', va='center', fontsize=28, color='C1')\n",
    "plt.barh(df2['name'],df2['FI'])\n",
    "plt.xlabel(\"Feature importance score\")\n",
    "plt.xticks(rotation=80)\n",
    "plt.ylabel(\"Dimensions\")\n",
    "\n",
    "#plt.savefig('Fig_26_FI_barchart_4.png',dpi=400)\n",
    "plt.show()\n"
   ]
  },
  {
   "cell_type": "markdown",
   "metadata": {},
   "source": [
    "# Re plot of Confution matrix with features classfication with 10 fold cross validataion - in \"viridis\" or \"Blues\""
   ]
  },
  {
   "cell_type": "code",
   "execution_count": 3,
   "metadata": {},
   "outputs": [],
   "source": [
    "# Latex fornts for plotting\n",
    "\n",
    "import matplotlib.pyplot as plt\n",
    "plt.rcParams.update({\n",
    "    \"text.usetex\": True,\n",
    "    \"font.family\": \"sans-serif\",\n",
    "    \"font.sans-serif\": [\"Helvetica\"],\n",
    "    \"font.size\":14})\n",
    "    \n",
    "# for Palatino and other serif fonts use:\n",
    "plt.rcParams.update({\n",
    "    \"text.usetex\": True,\n",
    "    \"font.family\": \"serif\",\n",
    "    \"font.serif\": [\"Palatino\"],\n",
    "})\n",
    "# It's also possible to use the reduced notation by directly setting font.family:\n",
    "plt.rcParams.update({\n",
    "  \"text.usetex\": True,\n",
    "  \"font.family\": \"Helvetica\"\n",
    "})\n"
   ]
  },
  {
   "cell_type": "code",
   "execution_count": 4,
   "metadata": {},
   "outputs": [],
   "source": [
    "#Train and test dataset without features\n",
    "X_train, y_train = load_from_tsfile_to_dataframe(\"haptic_data_3.ts\", replace_missing_vals_with='NaN')\n",
    "X_test, y_test = load_from_tsfile_to_dataframe(\"haptic_data_4.ts\", replace_missing_vals_with='NaN')\n"
   ]
  },
  {
   "cell_type": "code",
   "execution_count": 52,
   "metadata": {},
   "outputs": [],
   "source": [
    "#Train and test dataset with features\n",
    "X_train_f, y_train_f = load_from_tsfile_to_dataframe(\"haptic_data_5.ts\", replace_missing_vals_with='NaN')\n",
    "X_test_f, y_test_f = load_from_tsfile_to_dataframe(\"haptic_data_6.ts\", replace_missing_vals_with='NaN')"
   ]
  },
  {
   "cell_type": "code",
   "execution_count": 53,
   "metadata": {},
   "outputs": [],
   "source": [
    "# concatinate datasets without featurs\n",
    "#X_all = pd.concat([X_train,X_test], axis=0)\n",
    "#y_all = np.concatenate([y_train,y_test], axis=0)\n",
    "\n",
    "# Concatinate datasets with features\n",
    "X_f_all = pd.concat([X_train_f,X_test_f], axis=0)\n",
    "y_f_all = np.concatenate([y_train_f,y_test_f], axis=0)"
   ]
  },
  {
   "cell_type": "markdown",
   "metadata": {},
   "source": [
    "### With features test"
   ]
  },
  {
   "cell_type": "code",
   "execution_count": 54,
   "metadata": {},
   "outputs": [
    {
     "name": "stdout",
     "output_type": "stream",
     "text": [
      "(218, 9)\n",
      "(218,)\n"
     ]
    }
   ],
   "source": [
    "# randamize the data \n",
    "\n",
    "X_train_f_rand, X_test_f_rand, y_train_f_rand, y_test_f_rand = train_test_split(X_f_all, y_f_all, test_size=.01, random_state=42)\n",
    "\n",
    "# for classfication we using \n",
    "print(X_train_f_rand.shape)\n",
    "print(y_train_f_rand.shape)"
   ]
  },
  {
   "cell_type": "code",
   "execution_count": 56,
   "metadata": {},
   "outputs": [
    {
     "name": "stdout",
     "output_type": "stream",
     "text": [
      "(221, 9)\n",
      "(221,)\n"
     ]
    }
   ],
   "source": [
    "X_all_rand = pd.concat([X_train_f_rand,X_test_f_rand], axis=0)\n",
    "y_all_rand = np.concatenate([y_train_f_rand,y_test_f_rand], axis=0)\n",
    "\n",
    "print(X_all_rand.shape)\n",
    "print(y_all_rand.shape)"
   ]
  },
  {
   "cell_type": "code",
   "execution_count": 58,
   "metadata": {},
   "outputs": [],
   "source": [
    "# model\n",
    "\n",
    "steps = [(\"concatenate\", ColumnConcatenator()),(\"classify\", TimeSeriesForestClassifier(n_estimators=60)),]\n",
    "clf = Pipeline(steps)"
   ]
  },
  {
   "cell_type": "code",
   "execution_count": 59,
   "metadata": {},
   "outputs": [],
   "source": [
    "from sklearn.model_selection import cross_val_predict\n",
    "from sklearn.model_selection import cross_validate\n",
    "from sklearn.metrics import confusion_matrix\n",
    "\n",
    "# prediction \n",
    "y_pred = cross_val_predict(clf, X_all_rand, y_all_rand, cv=10)\n",
    "# confuiton matrix from predictions\n",
    "conf_mat = confusion_matrix(y_all_rand, y_pred)\n",
    "\n"
   ]
  },
  {
   "cell_type": "code",
   "execution_count": 60,
   "metadata": {},
   "outputs": [
    {
     "name": "stdout",
     "output_type": "stream",
     "text": [
      "[[101  10]\n",
      " [  4 106]]\n"
     ]
    }
   ],
   "source": [
    "# print confution matrix in row format\n",
    "print(conf_mat)"
   ]
  },
  {
   "cell_type": "code",
   "execution_count": null,
   "metadata": {},
   "outputs": [],
   "source": [
    "# Cross validation score calcuation\n",
    "cv_results = cross_validate(clf, X_all_rand, y_all_rand, cv=10)"
   ]
  },
  {
   "cell_type": "code",
   "execution_count": 12,
   "metadata": {},
   "outputs": [
    {
     "data": {
      "text/plain": [
       "0    0.90\n",
       "1    0.90\n",
       "2    0.80\n",
       "3    1.00\n",
       "4    0.90\n",
       "5    0.95\n",
       "6    0.95\n",
       "7    0.85\n",
       "8    1.00\n",
       "9    1.00\n",
       "Name: test_score, dtype: float64"
      ]
     },
     "execution_count": 12,
     "metadata": {},
     "output_type": "execute_result"
    }
   ],
   "source": [
    "# cross validation score calculation\n",
    "cv_report  = pd.DataFrame(cv_results)\n",
    "cv_report['test_score']"
   ]
  },
  {
   "cell_type": "code",
   "execution_count": 13,
   "metadata": {},
   "outputs": [],
   "source": [
    "Score = 0.925"
   ]
  },
  {
   "cell_type": "code",
   "execution_count": 12,
   "metadata": {},
   "outputs": [
    {
     "ename": "NameError",
     "evalue": "name 'conf_mat' is not defined",
     "output_type": "error",
     "traceback": [
      "\u001b[0;31m---------------------------------------------------------------------------\u001b[0m",
      "\u001b[0;31mNameError\u001b[0m                                 Traceback (most recent call last)",
      "\u001b[0;32m/tmp/ipykernel_132030/3012486753.py\u001b[0m in \u001b[0;36m<module>\u001b[0;34m\u001b[0m\n\u001b[1;32m      1\u001b[0m \u001b[0;32mimport\u001b[0m \u001b[0mseaborn\u001b[0m \u001b[0;32mas\u001b[0m \u001b[0msns\u001b[0m\u001b[0;34m\u001b[0m\u001b[0;34m\u001b[0m\u001b[0m\n\u001b[1;32m      2\u001b[0m \u001b[0;31m#plot confution matrix with featurs\u001b[0m\u001b[0;34m\u001b[0m\u001b[0;34m\u001b[0m\u001b[0;34m\u001b[0m\u001b[0m\n\u001b[0;32m----> 3\u001b[0;31m \u001b[0max\u001b[0m \u001b[0;34m=\u001b[0m \u001b[0msns\u001b[0m\u001b[0;34m.\u001b[0m\u001b[0mheatmap\u001b[0m\u001b[0;34m(\u001b[0m\u001b[0mconf_mat\u001b[0m\u001b[0;34m,\u001b[0m \u001b[0mannot\u001b[0m\u001b[0;34m=\u001b[0m\u001b[0;32mTrue\u001b[0m\u001b[0;34m,\u001b[0m \u001b[0mcmap\u001b[0m\u001b[0;34m=\u001b[0m\u001b[0;34m'viridis'\u001b[0m\u001b[0;34m)\u001b[0m\u001b[0;34m\u001b[0m\u001b[0;34m\u001b[0m\u001b[0m\n\u001b[0m\u001b[1;32m      4\u001b[0m \u001b[0;34m\u001b[0m\u001b[0m\n\u001b[1;32m      5\u001b[0m \u001b[0;31m#ax.set_title('Seaborn Confusion Matrix with labels\\n\\n');\u001b[0m\u001b[0;34m\u001b[0m\u001b[0;34m\u001b[0m\u001b[0;34m\u001b[0m\u001b[0m\n",
      "\u001b[0;31mNameError\u001b[0m: name 'conf_mat' is not defined"
     ]
    }
   ],
   "source": [
    "import seaborn as sns\n",
    "#plot confution matrix with featurs\n",
    "ax = sns.heatmap(conf_mat, annot=True, cmap='viridis')\n",
    "\n",
    "#ax.set_title('Seaborn Confusion Matrix with labels\\n\\n');\n",
    "ax.set_xlabel('\\nPredicted lable')\n",
    "ax.set_ylabel('Ture lable ');\n",
    "\n",
    "## Ticket labels - List must be in alphabetical order\n",
    "ax.xaxis.set_ticklabels(['orange','tomato'])\n",
    "ax.yaxis.set_ticklabels(['orange','tomato'])\n",
    "\n",
    "## Display the visualization of the Confusion Matrix.\n",
    "plt.savefig('Fig_25_conf_matrix_with_features_10fCV.png',dpi=400)\n",
    "plt.show()"
   ]
  },
  {
   "cell_type": "markdown",
   "metadata": {},
   "source": [
    "### Without featres"
   ]
  },
  {
   "cell_type": "code",
   "execution_count": 16,
   "metadata": {},
   "outputs": [],
   "source": [
    "X_train_f_rand_drop = X_all_rand.drop(['dim_4','dim_5','dim_6','dim_7','dim_8'],axis=1)"
   ]
  },
  {
   "cell_type": "code",
   "execution_count": 18,
   "metadata": {},
   "outputs": [
    {
     "data": {
      "text/html": [
       "<div>\n",
       "<style scoped>\n",
       "    .dataframe tbody tr th:only-of-type {\n",
       "        vertical-align: middle;\n",
       "    }\n",
       "\n",
       "    .dataframe tbody tr th {\n",
       "        vertical-align: top;\n",
       "    }\n",
       "\n",
       "    .dataframe thead th {\n",
       "        text-align: right;\n",
       "    }\n",
       "</style>\n",
       "<table border=\"1\" class=\"dataframe\">\n",
       "  <thead>\n",
       "    <tr style=\"text-align: right;\">\n",
       "      <th></th>\n",
       "      <th>dim_0</th>\n",
       "      <th>dim_1</th>\n",
       "      <th>dim_2</th>\n",
       "      <th>dim_3</th>\n",
       "    </tr>\n",
       "  </thead>\n",
       "  <tbody>\n",
       "    <tr>\n",
       "      <th>25</th>\n",
       "      <td>0        0.011078\n",
       "1        0.029485\n",
       "2        0...</td>\n",
       "      <td>0       0.028765\n",
       "1       0.078467\n",
       "2       0.12...</td>\n",
       "      <td>0       0.014936\n",
       "1       0.058464\n",
       "2       0.10...</td>\n",
       "      <td>0       0.0\n",
       "1       0.0\n",
       "2       0.0\n",
       "3       0....</td>\n",
       "    </tr>\n",
       "    <tr>\n",
       "      <th>127</th>\n",
       "      <td>0        0.008836\n",
       "1        0.026251\n",
       "2        0...</td>\n",
       "      <td>0       0.018174\n",
       "1       0.054746\n",
       "2       0.09...</td>\n",
       "      <td>0       0.008494\n",
       "1       0.039393\n",
       "2       0.07...</td>\n",
       "      <td>0       0.00\n",
       "1       0.00\n",
       "2       0.00\n",
       "3      ...</td>\n",
       "    </tr>\n",
       "    <tr>\n",
       "      <th>43</th>\n",
       "      <td>0        0.010685\n",
       "1        0.028628\n",
       "2        0...</td>\n",
       "      <td>0       0.030882\n",
       "1       0.084715\n",
       "2       0.13...</td>\n",
       "      <td>0       0.015685\n",
       "1       0.062552\n",
       "2       0.11...</td>\n",
       "      <td>0       0.00\n",
       "1       0.00\n",
       "2       0.00\n",
       "3      ...</td>\n",
       "    </tr>\n",
       "    <tr>\n",
       "      <th>97</th>\n",
       "      <td>0        0.009649\n",
       "1        0.027201\n",
       "2        0...</td>\n",
       "      <td>0       0.019464\n",
       "1       0.056325\n",
       "2       0.09...</td>\n",
       "      <td>0       0.009334\n",
       "1       0.040911\n",
       "2       0.07...</td>\n",
       "      <td>0       0.000\n",
       "1       0.000\n",
       "2       0.000\n",
       "3   ...</td>\n",
       "    </tr>\n",
       "    <tr>\n",
       "      <th>16</th>\n",
       "      <td>0        0.008862\n",
       "1        0.026434\n",
       "2        0...</td>\n",
       "      <td>0       0.018278\n",
       "1       0.055179\n",
       "2       0.09...</td>\n",
       "      <td>0       8.578290e-03\n",
       "1       3.981076e-02\n",
       "2   ...</td>\n",
       "      <td>0       0.0\n",
       "1       0.0\n",
       "2       0.0\n",
       "3       0....</td>\n",
       "    </tr>\n",
       "    <tr>\n",
       "      <th>...</th>\n",
       "      <td>...</td>\n",
       "      <td>...</td>\n",
       "      <td>...</td>\n",
       "      <td>...</td>\n",
       "    </tr>\n",
       "    <tr>\n",
       "      <th>106</th>\n",
       "      <td>0        0.011136\n",
       "1        0.029679\n",
       "2        0...</td>\n",
       "      <td>0       0.029138\n",
       "1       0.079207\n",
       "2       0.12...</td>\n",
       "      <td>0       0.015276\n",
       "1       0.059180\n",
       "2       0.10...</td>\n",
       "      <td>0       0.00\n",
       "1       0.00\n",
       "2       0.00\n",
       "3      ...</td>\n",
       "    </tr>\n",
       "    <tr>\n",
       "      <th>14</th>\n",
       "      <td>0        0.008996\n",
       "1        0.026621\n",
       "2        0...</td>\n",
       "      <td>0       0.026573\n",
       "1       0.079446\n",
       "2       0.13...</td>\n",
       "      <td>0       0.012552\n",
       "1       0.057462\n",
       "2       0.10...</td>\n",
       "      <td>0       0.00\n",
       "1       0.00\n",
       "2       0.00\n",
       "3      ...</td>\n",
       "    </tr>\n",
       "    <tr>\n",
       "      <th>92</th>\n",
       "      <td>0        0.010603\n",
       "1        0.028651\n",
       "2        0...</td>\n",
       "      <td>0       0.030633\n",
       "1       0.084779\n",
       "2       0.13...</td>\n",
       "      <td>0       0.015481\n",
       "1       0.062614\n",
       "2       0.11...</td>\n",
       "      <td>0       0.00\n",
       "1       0.00\n",
       "2       0.00\n",
       "3      ...</td>\n",
       "    </tr>\n",
       "    <tr>\n",
       "      <th>21</th>\n",
       "      <td>0        0.011033\n",
       "1        0.029364\n",
       "2        0...</td>\n",
       "      <td>0       0.025564\n",
       "1       0.069563\n",
       "2       0.11...</td>\n",
       "      <td>0       0.013290\n",
       "1       0.051781\n",
       "2       0.09...</td>\n",
       "      <td>0       0.000\n",
       "1       0.000\n",
       "2       0.000\n",
       "3   ...</td>\n",
       "    </tr>\n",
       "    <tr>\n",
       "      <th>102</th>\n",
       "      <td>0        0.010800\n",
       "1        0.028938\n",
       "2        0...</td>\n",
       "      <td>0       0.025002\n",
       "1       0.068536\n",
       "2       0.11...</td>\n",
       "      <td>0       0.012807\n",
       "1       0.050785\n",
       "2       0.09...</td>\n",
       "      <td>0       0.00\n",
       "1       0.00\n",
       "2       0.00\n",
       "3      ...</td>\n",
       "    </tr>\n",
       "  </tbody>\n",
       "</table>\n",
       "<p>198 rows × 4 columns</p>\n",
       "</div>"
      ],
      "text/plain": [
       "                                                 dim_0  \\\n",
       "25   0        0.011078\n",
       "1        0.029485\n",
       "2        0...   \n",
       "127  0        0.008836\n",
       "1        0.026251\n",
       "2        0...   \n",
       "43   0        0.010685\n",
       "1        0.028628\n",
       "2        0...   \n",
       "97   0        0.009649\n",
       "1        0.027201\n",
       "2        0...   \n",
       "16   0        0.008862\n",
       "1        0.026434\n",
       "2        0...   \n",
       "..                                                 ...   \n",
       "106  0        0.011136\n",
       "1        0.029679\n",
       "2        0...   \n",
       "14   0        0.008996\n",
       "1        0.026621\n",
       "2        0...   \n",
       "92   0        0.010603\n",
       "1        0.028651\n",
       "2        0...   \n",
       "21   0        0.011033\n",
       "1        0.029364\n",
       "2        0...   \n",
       "102  0        0.010800\n",
       "1        0.028938\n",
       "2        0...   \n",
       "\n",
       "                                                 dim_1  \\\n",
       "25   0       0.028765\n",
       "1       0.078467\n",
       "2       0.12...   \n",
       "127  0       0.018174\n",
       "1       0.054746\n",
       "2       0.09...   \n",
       "43   0       0.030882\n",
       "1       0.084715\n",
       "2       0.13...   \n",
       "97   0       0.019464\n",
       "1       0.056325\n",
       "2       0.09...   \n",
       "16   0       0.018278\n",
       "1       0.055179\n",
       "2       0.09...   \n",
       "..                                                 ...   \n",
       "106  0       0.029138\n",
       "1       0.079207\n",
       "2       0.12...   \n",
       "14   0       0.026573\n",
       "1       0.079446\n",
       "2       0.13...   \n",
       "92   0       0.030633\n",
       "1       0.084779\n",
       "2       0.13...   \n",
       "21   0       0.025564\n",
       "1       0.069563\n",
       "2       0.11...   \n",
       "102  0       0.025002\n",
       "1       0.068536\n",
       "2       0.11...   \n",
       "\n",
       "                                                 dim_2  \\\n",
       "25   0       0.014936\n",
       "1       0.058464\n",
       "2       0.10...   \n",
       "127  0       0.008494\n",
       "1       0.039393\n",
       "2       0.07...   \n",
       "43   0       0.015685\n",
       "1       0.062552\n",
       "2       0.11...   \n",
       "97   0       0.009334\n",
       "1       0.040911\n",
       "2       0.07...   \n",
       "16   0       8.578290e-03\n",
       "1       3.981076e-02\n",
       "2   ...   \n",
       "..                                                 ...   \n",
       "106  0       0.015276\n",
       "1       0.059180\n",
       "2       0.10...   \n",
       "14   0       0.012552\n",
       "1       0.057462\n",
       "2       0.10...   \n",
       "92   0       0.015481\n",
       "1       0.062614\n",
       "2       0.11...   \n",
       "21   0       0.013290\n",
       "1       0.051781\n",
       "2       0.09...   \n",
       "102  0       0.012807\n",
       "1       0.050785\n",
       "2       0.09...   \n",
       "\n",
       "                                                 dim_3  \n",
       "25   0       0.0\n",
       "1       0.0\n",
       "2       0.0\n",
       "3       0....  \n",
       "127  0       0.00\n",
       "1       0.00\n",
       "2       0.00\n",
       "3      ...  \n",
       "43   0       0.00\n",
       "1       0.00\n",
       "2       0.00\n",
       "3      ...  \n",
       "97   0       0.000\n",
       "1       0.000\n",
       "2       0.000\n",
       "3   ...  \n",
       "16   0       0.0\n",
       "1       0.0\n",
       "2       0.0\n",
       "3       0....  \n",
       "..                                                 ...  \n",
       "106  0       0.00\n",
       "1       0.00\n",
       "2       0.00\n",
       "3      ...  \n",
       "14   0       0.00\n",
       "1       0.00\n",
       "2       0.00\n",
       "3      ...  \n",
       "92   0       0.00\n",
       "1       0.00\n",
       "2       0.00\n",
       "3      ...  \n",
       "21   0       0.000\n",
       "1       0.000\n",
       "2       0.000\n",
       "3   ...  \n",
       "102  0       0.00\n",
       "1       0.00\n",
       "2       0.00\n",
       "3      ...  \n",
       "\n",
       "[198 rows x 4 columns]"
      ]
     },
     "execution_count": 18,
     "metadata": {},
     "output_type": "execute_result"
    }
   ],
   "source": [
    "X_train_f_rand_drop"
   ]
  },
  {
   "cell_type": "code",
   "execution_count": 21,
   "metadata": {},
   "outputs": [],
   "source": [
    "# prediction \n",
    "y_pred_noF = cross_val_predict(clf, X_train_f_rand_drop, y_train_f_rand, cv=10)\n",
    "# confuiton matrix from predictions\n",
    "conf_mat_noF = confusion_matrix(y_train_f_rand, y_pred_noF)\n",
    "\n",
    "# Cross validation score calcuation\n",
    "cv_results = cross_validate(clf, X_train_f_rand_drop, y_train_f_rand, cv=10)"
   ]
  },
  {
   "cell_type": "code",
   "execution_count": 22,
   "metadata": {},
   "outputs": [
    {
     "data": {
      "text/plain": [
       "0    0.750000\n",
       "1    0.850000\n",
       "2    0.800000\n",
       "3    0.900000\n",
       "4    0.950000\n",
       "5    1.000000\n",
       "6    0.950000\n",
       "7    0.850000\n",
       "8    0.947368\n",
       "9    0.947368\n",
       "Name: test_score, dtype: float64"
      ]
     },
     "execution_count": 22,
     "metadata": {},
     "output_type": "execute_result"
    }
   ],
   "source": [
    "# cross validation score calculation\n",
    "cv_report  = pd.DataFrame(cv_results)\n",
    "cv_report['test_score']"
   ]
  },
  {
   "cell_type": "code",
   "execution_count": 26,
   "metadata": {},
   "outputs": [],
   "source": [
    "Score = 0.8944"
   ]
  },
  {
   "cell_type": "code",
   "execution_count": 27,
   "metadata": {},
   "outputs": [
    {
     "name": "stdout",
     "output_type": "stream",
     "text": [
      "[[92  9]\n",
      " [ 8 89]]\n"
     ]
    }
   ],
   "source": [
    "# print confution matrix in row format\n",
    "print(conf_mat_noF)"
   ]
  },
  {
   "cell_type": "code",
   "execution_count": 28,
   "metadata": {},
   "outputs": [
    {
     "data": {
      "image/png": "[encoded data removed]",
      "text/plain": [
       "<Figure size 432x288 with 2 Axes>"
      ]
     },
     "metadata": {
      "needs_background": "light"
     },
     "output_type": "display_data"
    }
   ],
   "source": [
    "import seaborn as sns\n",
    "#plot confution matrix with featurs\n",
    "ax = sns.heatmap(conf_mat_noF, annot=True, cmap='YlGn')\n",
    "\n",
    "#ax.set_title('Seaborn Confusion Matrix with labels\\n\\n');\n",
    "ax.set_xlabel('\\nPredicted lable')\n",
    "ax.set_ylabel('Ture lable ');\n",
    "\n",
    "## Ticket labels - List must be in alphabetical order\n",
    "ax.xaxis.set_ticklabels(['orange','tomato'])\n",
    "ax.yaxis.set_ticklabels(['orange','tomato'])\n",
    "\n",
    "## Display the visualization of the Confusion Matrix.\n",
    "plt.savefig('Fig_24_conf_matrix_with_no_features_10fCV.png',dpi=400)\n",
    "plt.show()"
   ]
  },
  {
   "cell_type": "markdown",
   "metadata": {},
   "source": [
    "# With importne features - without only dim_7\n"
   ]
  },
  {
   "cell_type": "code",
   "execution_count": 50,
   "metadata": {},
   "outputs": [],
   "source": [
    "X_f_all_rand_drop = X_train_f_rand.drop(['dim_2'],axis=1)"
   ]
  },
  {
   "cell_type": "code",
   "execution_count": 51,
   "metadata": {},
   "outputs": [
    {
     "data": {
      "text/html": [
       "<div>\n",
       "<style scoped>\n",
       "    .dataframe tbody tr th:only-of-type {\n",
       "        vertical-align: middle;\n",
       "    }\n",
       "\n",
       "    .dataframe tbody tr th {\n",
       "        vertical-align: top;\n",
       "    }\n",
       "\n",
       "    .dataframe thead th {\n",
       "        text-align: right;\n",
       "    }\n",
       "</style>\n",
       "<table border=\"1\" class=\"dataframe\">\n",
       "  <thead>\n",
       "    <tr style=\"text-align: right;\">\n",
       "      <th></th>\n",
       "      <th>dim_0</th>\n",
       "      <th>dim_1</th>\n",
       "      <th>dim_3</th>\n",
       "      <th>dim_4</th>\n",
       "      <th>dim_5</th>\n",
       "      <th>dim_6</th>\n",
       "      <th>dim_7</th>\n",
       "      <th>dim_8</th>\n",
       "    </tr>\n",
       "  </thead>\n",
       "  <tbody>\n",
       "    <tr>\n",
       "      <th>25</th>\n",
       "      <td>0        0.011078\n",
       "1        0.029485\n",
       "2        0...</td>\n",
       "      <td>0       0.028765\n",
       "1       0.078467\n",
       "2       0.12...</td>\n",
       "      <td>0       0.0\n",
       "1       0.0\n",
       "2       0.0\n",
       "3       0....</td>\n",
       "      <td>0          0.000000\n",
       "1         -0.000612\n",
       "2     ...</td>\n",
       "      <td>0       0.0\n",
       "1       0.0\n",
       "2       0.0\n",
       "3       0....</td>\n",
       "      <td>0       0.0\n",
       "1       0.0\n",
       "2       0.0\n",
       "3       0....</td>\n",
       "      <td>0       0.0\n",
       "1       0.0\n",
       "2       0.0\n",
       "3       0....</td>\n",
       "      <td>0        0.000000\n",
       "1        0.000000\n",
       "2        0...</td>\n",
       "    </tr>\n",
       "    <tr>\n",
       "      <th>127</th>\n",
       "      <td>0        0.008836\n",
       "1        0.026251\n",
       "2        0...</td>\n",
       "      <td>0       0.018174\n",
       "1       0.054746\n",
       "2       0.09...</td>\n",
       "      <td>0       0.00\n",
       "1       0.00\n",
       "2       0.00\n",
       "3      ...</td>\n",
       "      <td>0          0.000000\n",
       "1         -0.000462\n",
       "2     ...</td>\n",
       "      <td>0       0.0\n",
       "1       0.0\n",
       "2       0.0\n",
       "3       0....</td>\n",
       "      <td>0       0.0\n",
       "1       0.0\n",
       "2       0.0\n",
       "3       0....</td>\n",
       "      <td>0       0.0\n",
       "1       0.0\n",
       "2       0.0\n",
       "3       0....</td>\n",
       "      <td>0        0.000000\n",
       "1        0.000000\n",
       "2        0...</td>\n",
       "    </tr>\n",
       "    <tr>\n",
       "      <th>43</th>\n",
       "      <td>0        0.010685\n",
       "1        0.028628\n",
       "2        0...</td>\n",
       "      <td>0       0.030882\n",
       "1       0.084715\n",
       "2       0.13...</td>\n",
       "      <td>0       0.00\n",
       "1       0.00\n",
       "2       0.00\n",
       "3      ...</td>\n",
       "      <td>0          0.000000\n",
       "1         -0.000575\n",
       "2     ...</td>\n",
       "      <td>0       0.0\n",
       "1       0.0\n",
       "2       0.0\n",
       "3       0....</td>\n",
       "      <td>0       0.0\n",
       "1       0.0\n",
       "2       0.0\n",
       "3       0....</td>\n",
       "      <td>0       0.0\n",
       "1       0.0\n",
       "2       0.0\n",
       "3       0....</td>\n",
       "      <td>0        0.000000\n",
       "1        0.000000\n",
       "2        0...</td>\n",
       "    </tr>\n",
       "    <tr>\n",
       "      <th>97</th>\n",
       "      <td>0        0.009649\n",
       "1        0.027201\n",
       "2        0...</td>\n",
       "      <td>0       0.019464\n",
       "1       0.056325\n",
       "2       0.09...</td>\n",
       "      <td>0       0.000\n",
       "1       0.000\n",
       "2       0.000\n",
       "3   ...</td>\n",
       "      <td>0          0.000000\n",
       "1         -0.000508\n",
       "2     ...</td>\n",
       "      <td>0       0.0\n",
       "1       0.0\n",
       "2       0.0\n",
       "3       0....</td>\n",
       "      <td>0       0.0\n",
       "1       0.0\n",
       "2       0.0\n",
       "3       0....</td>\n",
       "      <td>0       0.0\n",
       "1       0.0\n",
       "2       0.0\n",
       "3       0....</td>\n",
       "      <td>0        0.000000\n",
       "1        0.000000\n",
       "2        0...</td>\n",
       "    </tr>\n",
       "    <tr>\n",
       "      <th>16</th>\n",
       "      <td>0        0.008862\n",
       "1        0.026434\n",
       "2        0...</td>\n",
       "      <td>0       0.018278\n",
       "1       0.055179\n",
       "2       0.09...</td>\n",
       "      <td>0       0.0\n",
       "1       0.0\n",
       "2       0.0\n",
       "3       0....</td>\n",
       "      <td>0          0.000000\n",
       "1         -0.000467\n",
       "2     ...</td>\n",
       "      <td>0       0.0\n",
       "1       0.0\n",
       "2       0.0\n",
       "3       0....</td>\n",
       "      <td>0       0.0\n",
       "1       0.0\n",
       "2       0.0\n",
       "3       0....</td>\n",
       "      <td>0       0.0\n",
       "1       0.0\n",
       "2       0.0\n",
       "3       0....</td>\n",
       "      <td>0        0.000000\n",
       "1        0.000000\n",
       "2        0...</td>\n",
       "    </tr>\n",
       "  </tbody>\n",
       "</table>\n",
       "</div>"
      ],
      "text/plain": [
       "                                                 dim_0  \\\n",
       "25   0        0.011078\n",
       "1        0.029485\n",
       "2        0...   \n",
       "127  0        0.008836\n",
       "1        0.026251\n",
       "2        0...   \n",
       "43   0        0.010685\n",
       "1        0.028628\n",
       "2        0...   \n",
       "97   0        0.009649\n",
       "1        0.027201\n",
       "2        0...   \n",
       "16   0        0.008862\n",
       "1        0.026434\n",
       "2        0...   \n",
       "\n",
       "                                                 dim_1  \\\n",
       "25   0       0.028765\n",
       "1       0.078467\n",
       "2       0.12...   \n",
       "127  0       0.018174\n",
       "1       0.054746\n",
       "2       0.09...   \n",
       "43   0       0.030882\n",
       "1       0.084715\n",
       "2       0.13...   \n",
       "97   0       0.019464\n",
       "1       0.056325\n",
       "2       0.09...   \n",
       "16   0       0.018278\n",
       "1       0.055179\n",
       "2       0.09...   \n",
       "\n",
       "                                                 dim_3  \\\n",
       "25   0       0.0\n",
       "1       0.0\n",
       "2       0.0\n",
       "3       0....   \n",
       "127  0       0.00\n",
       "1       0.00\n",
       "2       0.00\n",
       "3      ...   \n",
       "43   0       0.00\n",
       "1       0.00\n",
       "2       0.00\n",
       "3      ...   \n",
       "97   0       0.000\n",
       "1       0.000\n",
       "2       0.000\n",
       "3   ...   \n",
       "16   0       0.0\n",
       "1       0.0\n",
       "2       0.0\n",
       "3       0....   \n",
       "\n",
       "                                                 dim_4  \\\n",
       "25   0          0.000000\n",
       "1         -0.000612\n",
       "2     ...   \n",
       "127  0          0.000000\n",
       "1         -0.000462\n",
       "2     ...   \n",
       "43   0          0.000000\n",
       "1         -0.000575\n",
       "2     ...   \n",
       "97   0          0.000000\n",
       "1         -0.000508\n",
       "2     ...   \n",
       "16   0          0.000000\n",
       "1         -0.000467\n",
       "2     ...   \n",
       "\n",
       "                                                 dim_5  \\\n",
       "25   0       0.0\n",
       "1       0.0\n",
       "2       0.0\n",
       "3       0....   \n",
       "127  0       0.0\n",
       "1       0.0\n",
       "2       0.0\n",
       "3       0....   \n",
       "43   0       0.0\n",
       "1       0.0\n",
       "2       0.0\n",
       "3       0....   \n",
       "97   0       0.0\n",
       "1       0.0\n",
       "2       0.0\n",
       "3       0....   \n",
       "16   0       0.0\n",
       "1       0.0\n",
       "2       0.0\n",
       "3       0....   \n",
       "\n",
       "                                                 dim_6  \\\n",
       "25   0       0.0\n",
       "1       0.0\n",
       "2       0.0\n",
       "3       0....   \n",
       "127  0       0.0\n",
       "1       0.0\n",
       "2       0.0\n",
       "3       0....   \n",
       "43   0       0.0\n",
       "1       0.0\n",
       "2       0.0\n",
       "3       0....   \n",
       "97   0       0.0\n",
       "1       0.0\n",
       "2       0.0\n",
       "3       0....   \n",
       "16   0       0.0\n",
       "1       0.0\n",
       "2       0.0\n",
       "3       0....   \n",
       "\n",
       "                                                 dim_7  \\\n",
       "25   0       0.0\n",
       "1       0.0\n",
       "2       0.0\n",
       "3       0....   \n",
       "127  0       0.0\n",
       "1       0.0\n",
       "2       0.0\n",
       "3       0....   \n",
       "43   0       0.0\n",
       "1       0.0\n",
       "2       0.0\n",
       "3       0....   \n",
       "97   0       0.0\n",
       "1       0.0\n",
       "2       0.0\n",
       "3       0....   \n",
       "16   0       0.0\n",
       "1       0.0\n",
       "2       0.0\n",
       "3       0....   \n",
       "\n",
       "                                                 dim_8  \n",
       "25   0        0.000000\n",
       "1        0.000000\n",
       "2        0...  \n",
       "127  0        0.000000\n",
       "1        0.000000\n",
       "2        0...  \n",
       "43   0        0.000000\n",
       "1        0.000000\n",
       "2        0...  \n",
       "97   0        0.000000\n",
       "1        0.000000\n",
       "2        0...  \n",
       "16   0        0.000000\n",
       "1        0.000000\n",
       "2        0...  "
      ]
     },
     "execution_count": 51,
     "metadata": {},
     "output_type": "execute_result"
    }
   ],
   "source": [
    "X_f_all_rand_drop.head()"
   ]
  },
  {
   "cell_type": "code",
   "execution_count": 47,
   "metadata": {},
   "outputs": [],
   "source": [
    "# prediction \n",
    "y_pred_noF = cross_val_predict(clf, X_f_all_rand_drop, y_train_f_rand, cv=10)\n",
    "# confuiton matrix from predictions\n",
    "conf_mat_noF = confusion_matrix(y_train_f_rand, y_pred_noF)\n",
    "\n",
    "# Cross validation score calcuation\n",
    "cv_results = cross_validate(clf, X_f_all_rand_drop, y_train_f_rand, cv=10)"
   ]
  },
  {
   "cell_type": "code",
   "execution_count": 48,
   "metadata": {},
   "outputs": [
    {
     "data": {
      "text/plain": [
       "0    0.850000\n",
       "1    0.900000\n",
       "2    0.750000\n",
       "3    1.000000\n",
       "4    0.950000\n",
       "5    0.950000\n",
       "6    0.950000\n",
       "7    0.850000\n",
       "8    1.000000\n",
       "9    0.947368\n",
       "Name: test_score, dtype: float64"
      ]
     },
     "execution_count": 48,
     "metadata": {},
     "output_type": "execute_result"
    }
   ],
   "source": [
    "# cross validation score calculation\n",
    "cv_report  = pd.DataFrame(cv_results)\n",
    "cv_report['test_score']"
   ]
  },
  {
   "cell_type": "code",
   "execution_count": null,
   "metadata": {},
   "outputs": [],
   "source": [
    "Score ="
   ]
  },
  {
   "cell_type": "code",
   "execution_count": 3,
   "metadata": {},
   "outputs": [
    {
     "ename": "NameError",
     "evalue": "name 'conf_mat_noF' is not defined",
     "output_type": "error",
     "traceback": [
      "\u001b[0;31m---------------------------------------------------------------------------\u001b[0m",
      "\u001b[0;31mNameError\u001b[0m                                 Traceback (most recent call last)",
      "\u001b[0;32m/tmp/ipykernel_4812/2962449713.py\u001b[0m in \u001b[0;36m<module>\u001b[0;34m\u001b[0m\n\u001b[1;32m      1\u001b[0m \u001b[0;31m# print confution matrix in row format\u001b[0m\u001b[0;34m\u001b[0m\u001b[0;34m\u001b[0m\u001b[0;34m\u001b[0m\u001b[0m\n\u001b[0;32m----> 2\u001b[0;31m \u001b[0mconf_mat_noF\u001b[0m\u001b[0;34m\u001b[0m\u001b[0;34m\u001b[0m\u001b[0m\n\u001b[0m",
      "\u001b[0;31mNameError\u001b[0m: name 'conf_mat_noF' is not defined"
     ]
    }
   ],
   "source": [
    "# print confution matrix in row format\n",
    "conf_mat_noF"
   ]
  },
  {
   "cell_type": "code",
   "execution_count": 39,
   "metadata": {},
   "outputs": [
    {
     "data": {
      "image/png": "[encoded data removed]",
      "text/plain": [
       "<Figure size 432x288 with 2 Axes>"
      ]
     },
     "metadata": {
      "needs_background": "light"
     },
     "output_type": "display_data"
    }
   ],
   "source": [
    "import seaborn as sns\n",
    "#plot confution matrix with featurs\n",
    "ax = sns.heatmap(conf_mat_noF, annot=True, cmap='YlGn')\n",
    "\n",
    "#ax.set_title('Seaborn Confusion Matrix with labels\\n\\n');\n",
    "ax.set_xlabel('\\nPredicted lable')\n",
    "ax.set_ylabel('Ture lable ');\n",
    "\n",
    "## Ticket labels - List must be in alphabetical order\n",
    "ax.xaxis.set_ticklabels(['orange','tomato'])\n",
    "ax.yaxis.set_ticklabels(['orange','tomato'])\n",
    "\n",
    "## Display the visualization of the Confusion Matrix.\n",
    "plt.savefig('Fig_27_conf_matrix_with_importent_features_10fCV.png',dpi=400)\n",
    "plt.show()"
   ]
  },
  {
   "cell_type": "code",
   "execution_count": null,
   "metadata": {},
   "outputs": [],
   "source": []
  },
  {
   "cell_type": "markdown",
   "metadata": {},
   "source": [
    "# Print the confution matrix"
   ]
  },
  {
   "cell_type": "code",
   "execution_count": 72,
   "metadata": {},
   "outputs": [],
   "source": [
    "conf_mat_noF = [[99., 10], [4,106.0]]\n"
   ]
  },
  {
   "cell_type": "code",
   "execution_count": 70,
   "metadata": {},
   "outputs": [
    {
     "data": {
      "text/plain": [
       "[[101.0, 10], [4, 106.0]]"
      ]
     },
     "execution_count": 70,
     "metadata": {},
     "output_type": "execute_result"
    }
   ],
   "source": [
    "conf_mat_noF"
   ]
  },
  {
   "cell_type": "code",
   "execution_count": 78,
   "metadata": {},
   "outputs": [
    {
     "data": {
      "image/png": "[encoded data removed]",
      "text/plain": [
       "<Figure size 432x288 with 2 Axes>"
      ]
     },
     "metadata": {
      "needs_background": "light"
     },
     "output_type": "display_data"
    }
   ],
   "source": [
    "import seaborn as sns\n",
    "#plot confution matrix with featurs\n",
    "ax = sns.heatmap(conf_mat_noF, annot=True, fmt='g',cmap='YlGn')\n",
    "\n",
    "#ax.set_title('Seaborn Confusion Matrix with labels\\n\\n');\n",
    "ax.set_xlabel('\\nPredicted lable')\n",
    "ax.set_ylabel('Ture lable ');\n",
    "\n",
    "## Ticket labels - List must be in alphabetical order\n",
    "ax.xaxis.set_ticklabels(['orange','tomato'])\n",
    "ax.yaxis.set_ticklabels(['orange','tomato'])\n",
    "\n",
    "## Display the visualization of the Confusion Matrix.\n",
    "#plt.savefig('Fig_27_conf_matrix_with_importent_features_10fCV.png',dpi=400)\n",
    "plt.show()"
   ]
  },
  {
   "cell_type": "markdown",
   "metadata": {},
   "source": [
    "## Dataset 1 Confution matrix plot without feature "
   ]
  },
  {
   "cell_type": "code",
   "execution_count": 4,
   "metadata": {},
   "outputs": [],
   "source": [
    "conf_mat_MF = [[12,  4,  0,  0,  0], [ 2, 14,  0,  0,  0], [ 0,  0, 16,  0,  0], [ 2,  0,  0, 12,  1], [ 0,  0,  0,  0, 15]]\n"
   ]
  },
  {
   "cell_type": "code",
   "execution_count": 5,
   "metadata": {},
   "outputs": [
    {
     "data": {
      "image/png": "[encoded data removed]",
      "text/plain": [
       "<Figure size 432x288 with 2 Axes>"
      ]
     },
     "metadata": {
      "needs_background": "light"
     },
     "output_type": "display_data"
    }
   ],
   "source": [
    "import seaborn as sns\n",
    "#plot confution matrix with featurs\n",
    "ax = sns.heatmap(conf_mat_MF, annot=True, fmt='g',cmap='YlGn')\n",
    "#plt.figure(tight_layout=(0,0,1,1))\n",
    "#ax.set_title('Seaborn Confusion Matrix with labels\\n\\n');\n",
    "\n",
    "plt.tight_layout(pad=3.8)\n",
    "ax.set_xlabel('\\nPredicted label')\n",
    "ax.set_ylabel('True label ');\n",
    "\n",
    "\n",
    "\n",
    "## Ticket labels - List must be in alphabetical order\n",
    "ax.xaxis.set_ticklabels(['banana','onion','orange','sponge','tomato'])\n",
    "ax.yaxis.set_ticklabels(['banana','onion','orange','sponge','tomato'], rotation=0)\n",
    "\n",
    "## Display the visualization of the Confusion Matrix.\n",
    "plt.savefig('Fig_22_conf_mat_no_features_10fcv.pdf')\n",
    "plt.show()"
   ]
  },
  {
   "cell_type": "markdown",
   "metadata": {},
   "source": [
    "# Dataset 2 No features classifciation CM"
   ]
  },
  {
   "cell_type": "code",
   "execution_count": 6,
   "metadata": {},
   "outputs": [],
   "source": [
    "conf_mat_MF = [[100,  11], [  7, 103]]\n"
   ]
  },
  {
   "cell_type": "code",
   "execution_count": 7,
   "metadata": {},
   "outputs": [
    {
     "data": {
      "image/png": "[encoded data removed]",
      "text/plain": [
       "<Figure size 432x288 with 2 Axes>"
      ]
     },
     "metadata": {
      "needs_background": "light"
     },
     "output_type": "display_data"
    }
   ],
   "source": [
    "import seaborn as sns\n",
    "#plot confution matrix with featurs\n",
    "ax = sns.heatmap(conf_mat_MF, annot=True, fmt='g',cmap='YlGn')\n",
    "#plt.figure(tight_layout=(0,0,1,1))\n",
    "#ax.set_title('Seaborn Confusion Matrix with labels\\n\\n');\n",
    "\n",
    "plt.tight_layout(pad=3.8)\n",
    "\n",
    "ax.set_xlabel('\\nPredicted label')\n",
    "ax.set_ylabel('True label ');\n",
    "\n",
    "\n",
    "## Ticket labels - List must be in alphabetical order\n",
    "ax.xaxis.set_ticklabels(['orange','tomato'])\n",
    "ax.yaxis.set_ticklabels(['orange','tomato'], rotation=0)\n",
    "\n",
    "## Display the visualization of the Confusion Matrix.\n",
    "plt.savefig('Fig_24_conf_mat_no_features_10fcv_D2.pdf')\n",
    "plt.show()"
   ]
  },
  {
   "cell_type": "markdown",
   "metadata": {},
   "source": [
    "## Dataset 1 with features confution matrix"
   ]
  },
  {
   "cell_type": "code",
   "execution_count": 8,
   "metadata": {},
   "outputs": [],
   "source": [
    "conf_mat = [[15,  1,  0,  0,  0],\n",
    "       [ 0, 16,  0,  0,  0],\n",
    "       [ 0,  0, 16,  0,  0],\n",
    "       [ 0,  0,  0, 14,  1],\n",
    "       [ 0,  0,  0,  0, 15]]"
   ]
  },
  {
   "cell_type": "code",
   "execution_count": 9,
   "metadata": {},
   "outputs": [
    {
     "data": {
      "image/png": "[encoded data removed]",
      "text/plain": [
       "<Figure size 432x288 with 2 Axes>"
      ]
     },
     "metadata": {
      "needs_background": "light"
     },
     "output_type": "display_data"
    }
   ],
   "source": [
    "import seaborn as sns\n",
    "#plot confution matrix with featurs\n",
    "ax = sns.heatmap(conf_mat, annot=True, fmt='g',cmap='YlGn')\n",
    "#plt.figure(tight_layout=(0,0,1,1))\n",
    "#ax.set_title('Seaborn Confusion Matrix with labels\\n\\n');\n",
    "\n",
    "plt.tight_layout(pad=3.8)\n",
    "\n",
    "ax.set_xlabel('\\nPredicted label')\n",
    "ax.set_ylabel('True label ');\n",
    "\n",
    "\n",
    "\n",
    "## Ticket labels - List must be in alphabetical order\n",
    "ax.xaxis.set_ticklabels(['banana','onion','orange','sponge','tomato'])\n",
    "ax.yaxis.set_ticklabels(['banana','onion','orange','sponge','tomato'], rotation=0)\n",
    "\n",
    "## Display the visualization of the Confusion Matrix.\n",
    "plt.savefig('Fig_23_conf_mat_with_features_10fcv.pdf')\n",
    "plt.show()"
   ]
  },
  {
   "cell_type": "markdown",
   "metadata": {},
   "source": [
    "## Dataset 2 with features classfication accurasy "
   ]
  },
  {
   "cell_type": "code",
   "execution_count": 10,
   "metadata": {},
   "outputs": [],
   "source": [
    "conf_mat = [[102,   9],[  5, 105]]"
   ]
  },
  {
   "cell_type": "code",
   "execution_count": 11,
   "metadata": {},
   "outputs": [
    {
     "data": {
      "image/png": "[encoded data removed]",
      "text/plain": [
       "<Figure size 432x288 with 2 Axes>"
      ]
     },
     "metadata": {
      "needs_background": "light"
     },
     "output_type": "display_data"
    }
   ],
   "source": [
    "import seaborn as sns\n",
    "#plot confution matrix with featurs\n",
    "ax = sns.heatmap(conf_mat, annot=True, fmt='g',cmap='YlGn')\n",
    "#plt.figure(tight_layout=(0,0,1,1))\n",
    "#ax.set_title('Seaborn Confusion Matrix with labels\\n\\n');\n",
    "\n",
    "plt.tight_layout(pad=3.8)\n",
    "\n",
    "ax.set_xlabel('\\nPredicted label')\n",
    "ax.set_ylabel('True label ');\n",
    "\n",
    "\n",
    "## Ticket labels - List must be in alphabetical order\n",
    "ax.xaxis.set_ticklabels(['orange','tomato'])\n",
    "ax.yaxis.set_ticklabels(['orange','tomato'], rotation=0)\n",
    "\n",
    "## Display the visualization of the Confusion Matrix.\n",
    "plt.savefig('Fig_25_conf_mat_with_features_10fcv_D2.pdf')\n",
    "plt.show()"
   ]
  },
  {
   "cell_type": "markdown",
   "metadata": {},
   "source": [
    "# Dataset1 with importent features only"
   ]
  },
  {
   "cell_type": "code",
   "execution_count": 12,
   "metadata": {},
   "outputs": [],
   "source": [
    "conf_mat_IF = [[14,  2,  0,  0,  0],\n",
    "       [ 0, 16,  0,  0,  0],\n",
    "       [ 0,  0, 16,  0,  0],\n",
    "       [ 0,  0,  0, 14,  1],\n",
    "       [ 0,  0,  0,  1, 14]]"
   ]
  },
  {
   "cell_type": "code",
   "execution_count": 13,
   "metadata": {},
   "outputs": [
    {
     "data": {
      "image/png": "[encoded data removed]",
      "text/plain": [
       "<Figure size 432x288 with 2 Axes>"
      ]
     },
     "metadata": {
      "needs_background": "light"
     },
     "output_type": "display_data"
    }
   ],
   "source": [
    "import seaborn as sns\n",
    "#plot confution matrix with featurs\n",
    "ax = sns.heatmap(conf_mat_IF, annot=True, fmt='g',cmap='YlGn')\n",
    "#plt.figure(tight_layout=(0,0,1,1))\n",
    "#ax.set_title('Seaborn Confusion Matrix with labels\\n\\n');\n",
    "\n",
    "plt.tight_layout(pad=3.8)\n",
    "ax.set_xlabel('\\nPredicted label')\n",
    "ax.set_ylabel('True label ');\n",
    "\n",
    "\n",
    "\n",
    "## Ticket labels - List must be in alphabetical order\n",
    "ax.xaxis.set_ticklabels(['banana','onion','orange','sponge','tomato'])\n",
    "ax.yaxis.set_ticklabels(['banana','onion','orange','sponge','tomato'], rotation=0)\n",
    "\n",
    "## Display the visualization of the Confusion Matrix.\n",
    "plt.savefig('Fig_27_conf_mat_with_Importent_features_10fcv.pdf')\n",
    "plt.show()"
   ]
  },
  {
   "cell_type": "markdown",
   "metadata": {},
   "source": [
    "# Dataset2 with importent feature without dim_4\n"
   ]
  },
  {
   "cell_type": "code",
   "execution_count": 14,
   "metadata": {},
   "outputs": [],
   "source": [
    "conf_mat_IF = [[102,   9],[  5, 105]]"
   ]
  },
  {
   "cell_type": "code",
   "execution_count": 15,
   "metadata": {},
   "outputs": [
    {
     "data": {
      "image/png": "[encoded data removed]",
      "text/plain": [
       "<Figure size 432x288 with 2 Axes>"
      ]
     },
     "metadata": {
      "needs_background": "light"
     },
     "output_type": "display_data"
    }
   ],
   "source": [
    "import seaborn as sns\n",
    "#plot confution matrix with featurs\n",
    "ax = sns.heatmap(conf_mat, annot=True, fmt='g',cmap='YlGn')\n",
    "#plt.figure(tight_layout=(0,0,1,1))\n",
    "#ax.set_title('Seaborn Confusion Matrix with labels\\n\\n');\n",
    "\n",
    "plt.tight_layout(pad=3.8)\n",
    "\n",
    "ax.set_xlabel('\\nPredicted label')\n",
    "ax.set_ylabel('True label ');\n",
    "\n",
    "\n",
    "## Ticket labels - List must be in alphabetical order\n",
    "ax.xaxis.set_ticklabels(['orange','tomato'])\n",
    "ax.yaxis.set_ticklabels(['orange','tomato'], rotation=0)\n",
    "\n",
    "## Display the visualization of the Confusion Matrix.\n",
    "plt.savefig('Fig_28_conf_mat_with_Impotent_features_10fcv_D2.pdf')\n",
    "plt.show()"
   ]
  },
  {
   "cell_type": "markdown",
   "metadata": {},
   "source": [
    "# Permutation Importance Method\n",
    "\n",
    "Calculate classification accurasy using every permutation of dataset and calculate the accurasy "
   ]
  },
  {
   "cell_type": "code",
   "execution_count": 2,
   "metadata": {},
   "outputs": [],
   "source": [
    "#Train and test dataset with features\n",
    "X_train_f, y_train_f = load_from_tsfile_to_dataframe(\"haptic_data_7.ts\", replace_missing_vals_with='NaN')\n",
    "X_test_f, y_test_f = load_from_tsfile_to_dataframe(\"haptic_data_8.ts\", replace_missing_vals_with='NaN')"
   ]
  },
  {
   "cell_type": "code",
   "execution_count": 3,
   "metadata": {},
   "outputs": [],
   "source": [
    "# featur names get in to array\n",
    "\n",
    "dim = ['dim_0','dim_1','dim_2','dim_3','dim_4','dim_5','dim_6','dim_7','dim_8']\n",
    "\n",
    "# creating pipeline \n",
    "\n",
    "steps = [(\"concatenate\", ColumnConcatenator()),(\"classify\", TimeSeriesForestClassifier(n_estimators=100)),]\n",
    "clf = Pipeline(steps)\n",
    "\n"
   ]
  },
  {
   "cell_type": "code",
   "execution_count": 4,
   "metadata": {},
   "outputs": [
    {
     "name": "stdout",
     "output_type": "stream",
     "text": [
      "(157, 9) (64, 9) (157,) (64,)\n"
     ]
    }
   ],
   "source": [
    "print ( X_train_f.shape , X_test_f.shape, y_train_f.shape, y_test_f.shape )"
   ]
  },
  {
   "cell_type": "code",
   "execution_count": 5,
   "metadata": {},
   "outputs": [],
   "source": [
    "csv_name = \"pout23.csv\""
   ]
  },
  {
   "cell_type": "code",
   "execution_count": null,
   "metadata": {},
   "outputs": [
    {
     "name": "stdout",
     "output_type": "stream",
     "text": [
      "[0, 509, 1, 0, 1, 1, 1, 1, 1, 1, 1, 0.484375]\n",
      "[1, 507, 1, 1, 0, 1, 1, 1, 1, 1, 1, 0.46875]\n",
      "[2, 503, 1, 1, 1, 0, 1, 1, 1, 1, 1, 0.484375]\n",
      "[3, 495, 1, 1, 1, 1, 0, 1, 1, 1, 1, 0.625]\n",
      "[4, 479, 1, 1, 1, 1, 1, 0, 1, 1, 1, 0.5625]\n"
     ]
    }
   ],
   "source": [
    "# 1\n",
    "\n",
    "x = 1\n",
    "\n",
    "pos0 = 1 #time\n",
    "pos1 = 1\n",
    "pos2 = 1\n",
    "pos3 = 1\n",
    "pos4 = 1\n",
    "pos5 = 1\n",
    "pos6 = 1\n",
    "pos7 = 1\n",
    "pos8 = 1\n",
    "\n",
    "a = 0\n",
    "for x in range (1,9):\n",
    "    X_train_f_drop_X = X_train_f.drop(dim[x],axis=1)\n",
    "    X_test_f_drop_X = X_test_f.drop(dim[x],axis=1)\n",
    "    if (x == 1):\n",
    "        pos1 = 0 # force command\n",
    "    if (x == 2):\n",
    "        pos2 = 0 # force responce\n",
    "    if (x == 3):\n",
    "        pos3 = 0 # Position\n",
    "    if (x == 4):\n",
    "        pos4 = 0 # velocity\n",
    "    if (x == 5):\n",
    "        pos5 = 0 # accleration\n",
    "    if (x == 6):\n",
    "        pos6 = 0 # stiffness\n",
    "    if (x == 7):\n",
    "        pos7 = 0 # viscosity\n",
    "    if (x == 8):\n",
    "        pos8 = 0 # Energy absorbed     \n",
    "    index = pos0 + pos1*2 + pos2*4 + pos3*8 + pos4*16 + pos5*32 + pos6*64 + pos7*128 + pos8*256\n",
    "    clf.fit(X_train_f_drop_X , y_train_f)\n",
    "    filePointer = open(csv_name,'a')\n",
    "    writer = csv.writer(filePointer)\n",
    "    data = [a, index, pos0, pos1, pos2, pos3, pos4, pos5, pos6, pos7, pos8,  clf.score(X_test_f_drop_X, y_test_f)]\n",
    "    writer.writerow(data)\n",
    "    filePointer.close()\n",
    "    print(data)\n",
    "    a=a+1\n",
    "    pos0 = pos1 = pos2 = pos3 = pos4 = pos5 = pos6 = pos7 = pos8 = 1"
   ]
  },
  {
   "cell_type": "code",
   "execution_count": 6,
   "metadata": {},
   "outputs": [
    {
     "name": "stdout",
     "output_type": "stream",
     "text": [
      "[0, 505, 1, 0, 0, 1, 1, 1, 1, 1, 1, 0.46875]\n",
      "[1, 501, 1, 0, 1, 0, 1, 1, 1, 1, 1, 0.484375]\n",
      "[2, 493, 1, 0, 1, 1, 0, 1, 1, 1, 1, 0.671875]\n",
      "[3, 477, 1, 0, 1, 1, 1, 0, 1, 1, 1, 0.515625]\n",
      "[4, 445, 1, 0, 1, 1, 1, 1, 0, 1, 1, 0.546875]\n",
      "[5, 381, 1, 0, 1, 1, 1, 1, 1, 0, 1, 0.5]\n",
      "[6, 253, 1, 0, 1, 1, 1, 1, 1, 1, 0, 0.296875]\n",
      "[7, 499, 1, 1, 0, 0, 1, 1, 1, 1, 1, 0.484375]\n",
      "[8, 491, 1, 1, 0, 1, 0, 1, 1, 1, 1, 0.671875]\n",
      "[9, 475, 1, 1, 0, 1, 1, 0, 1, 1, 1, 0.53125]\n",
      "[10, 443, 1, 1, 0, 1, 1, 1, 0, 1, 1, 0.53125]\n",
      "[11, 379, 1, 1, 0, 1, 1, 1, 1, 0, 1, 0.5]\n",
      "[12, 251, 1, 1, 0, 1, 1, 1, 1, 1, 0, 0.296875]\n",
      "[13, 487, 1, 1, 1, 0, 0, 1, 1, 1, 1, 0.734375]\n",
      "[14, 471, 1, 1, 1, 0, 1, 0, 1, 1, 1, 0.53125]\n",
      "[15, 439, 1, 1, 1, 0, 1, 1, 0, 1, 1, 0.515625]\n",
      "[16, 375, 1, 1, 1, 0, 1, 1, 1, 0, 1, 0.484375]\n",
      "[17, 247, 1, 1, 1, 0, 1, 1, 1, 1, 0, 0.328125]\n",
      "[18, 463, 1, 1, 1, 1, 0, 0, 1, 1, 1, 0.53125]\n",
      "[19, 431, 1, 1, 1, 1, 0, 1, 0, 1, 1, 0.53125]\n",
      "[20, 367, 1, 1, 1, 1, 0, 1, 1, 0, 1, 0.5]\n",
      "[21, 239, 1, 1, 1, 1, 0, 1, 1, 1, 0, 0.3125]\n",
      "[22, 415, 1, 1, 1, 1, 1, 0, 0, 1, 1, 0.5]\n",
      "[23, 351, 1, 1, 1, 1, 1, 0, 1, 0, 1, 0.5]\n",
      "[24, 223, 1, 1, 1, 1, 1, 0, 1, 1, 0, 0.296875]\n",
      "[25, 319, 1, 1, 1, 1, 1, 1, 0, 0, 1, 0.515625]\n",
      "[26, 191, 1, 1, 1, 1, 1, 1, 0, 1, 0, 0.3125]\n",
      "[27, 127, 1, 1, 1, 1, 1, 1, 1, 0, 0, 0.296875]\n"
     ]
    }
   ],
   "source": [
    "# 2\n",
    "\n",
    "x = 0\n",
    "y = 0\n",
    "z = 0\n",
    "p = 0\n",
    "q = 0\n",
    "r = 0\n",
    "\n",
    "pos0 = 1 #time\n",
    "pos1 = 1\n",
    "pos2 = 1\n",
    "pos3 = 1\n",
    "pos4 = 1\n",
    "pos5 = 1\n",
    "pos6 = 1\n",
    "pos7 = 1\n",
    "pos8 = 1\n",
    "\n",
    "a = 0\n",
    "for x in range (1,9):\n",
    "    X_train_f_drop_X = X_train_f.drop(dim[x],axis=1)\n",
    "    X_test_f_drop_X = X_test_f.drop(dim[x],axis=1)\n",
    "    for y in range (x+1,9):\n",
    "        X_train_f_drop_X = X_train_f.drop(dim[y],axis=1)\n",
    "        X_test_f_drop_X = X_test_f.drop(dim[y],axis=1)\n",
    "        if (x == 1 or y == 1 or z == 1 or p == 1 or q == 1 ):\n",
    "            pos1 = 0 # force command\n",
    "        if (x == 2 or y == 2 or z == 2 or p == 2 or q == 2 ):\n",
    "            pos2 = 0 # force responce\n",
    "        if (x == 3 or y == 3 or z == 3 or p == 3 or q == 3  ):\n",
    "            pos3 = 0 # Position\n",
    "        if (x == 4 or y == 4 or z == 4 or p == 4 or q == 4 ):\n",
    "            pos4 = 0 # velocity\n",
    "        if (x == 5 or y == 5 or z == 5 or p == 5 or q == 5 ):\n",
    "            pos5 = 0 # accleration\n",
    "        if (x == 6 or y == 6 or z == 6 or p == 6 or q == 6 ):\n",
    "            pos6 = 0 # stiffness\n",
    "        if (x == 7 or y == 7 or z == 7 or p == 7 or q == 7 ):\n",
    "            pos7 = 0 # viscosity\n",
    "        if (x == 8 or y == 8 or z == 8 or p == 8 or q == 8 ):\n",
    "            pos8 = 0 # Energy absorbed\n",
    "        index = pos0 + pos1*2 + pos2*4 + pos3*8 + pos4*16 + pos5*32 + pos6*64 + pos7*128 + pos8*256\n",
    "        clf.fit(X_train_f_drop_X , y_train_f)\n",
    "        filePointer = open(csv_name,'a')\n",
    "        writer = csv.writer(filePointer)\n",
    "        data = [a, index, pos0, pos1, pos2, pos3, pos4, pos5, pos6, pos7, pos8,  clf.score(X_test_f_drop_X, y_test_f)]\n",
    "        writer.writerow(data)\n",
    "        filePointer.close()\n",
    "        print(data)\n",
    "        a=a+1\n",
    "        pos0 = pos1 = pos2 = pos3 = pos4 = pos5 = pos6 = pos7 = pos8 = 1      "
   ]
  },
  {
   "cell_type": "code",
   "execution_count": 7,
   "metadata": {},
   "outputs": [
    {
     "name": "stdout",
     "output_type": "stream",
     "text": [
      "[0, 497, 1, 0, 0, 0, 1, 1, 1, 1, 1, 0.484375]\n",
      "[1, 489, 1, 0, 0, 1, 0, 1, 1, 1, 1, 0.6875]\n",
      "[2, 473, 1, 0, 0, 1, 1, 0, 1, 1, 1, 0.53125]\n",
      "[3, 441, 1, 0, 0, 1, 1, 1, 0, 1, 1, 0.515625]\n",
      "[4, 377, 1, 0, 0, 1, 1, 1, 1, 0, 1, 0.53125]\n",
      "[5, 249, 1, 0, 0, 1, 1, 1, 1, 1, 0, 0.296875]\n",
      "[6, 485, 1, 0, 1, 0, 0, 1, 1, 1, 1, 0.6875]\n",
      "[7, 469, 1, 0, 1, 0, 1, 0, 1, 1, 1, 0.546875]\n",
      "[8, 437, 1, 0, 1, 0, 1, 1, 0, 1, 1, 0.515625]\n",
      "[9, 373, 1, 0, 1, 0, 1, 1, 1, 0, 1, 0.5]\n",
      "[10, 245, 1, 0, 1, 0, 1, 1, 1, 1, 0, 0.296875]\n",
      "[11, 461, 1, 0, 1, 1, 0, 0, 1, 1, 1, 0.515625]\n",
      "[12, 429, 1, 0, 1, 1, 0, 1, 0, 1, 1, 0.546875]\n",
      "[13, 365, 1, 0, 1, 1, 0, 1, 1, 0, 1, 0.53125]\n",
      "[14, 237, 1, 0, 1, 1, 0, 1, 1, 1, 0, 0.3125]\n",
      "[15, 413, 1, 0, 1, 1, 1, 0, 0, 1, 1, 0.53125]\n",
      "[16, 349, 1, 0, 1, 1, 1, 0, 1, 0, 1, 0.515625]\n",
      "[17, 221, 1, 0, 1, 1, 1, 0, 1, 1, 0, 0.28125]\n",
      "[18, 317, 1, 0, 1, 1, 1, 1, 0, 0, 1, 0.5625]\n",
      "[19, 189, 1, 0, 1, 1, 1, 1, 0, 1, 0, 0.3125]\n",
      "[20, 125, 1, 0, 1, 1, 1, 1, 1, 0, 0, 0.3125]\n",
      "[21, 483, 1, 1, 0, 0, 0, 1, 1, 1, 1, 0.71875]\n",
      "[22, 467, 1, 1, 0, 0, 1, 0, 1, 1, 1, 0.5]\n",
      "[23, 435, 1, 1, 0, 0, 1, 1, 0, 1, 1, 0.515625]\n",
      "[24, 371, 1, 1, 0, 0, 1, 1, 1, 0, 1, 0.515625]\n",
      "[25, 243, 1, 1, 0, 0, 1, 1, 1, 1, 0, 0.28125]\n",
      "[26, 459, 1, 1, 0, 1, 0, 0, 1, 1, 1, 0.5]\n",
      "[27, 427, 1, 1, 0, 1, 0, 1, 0, 1, 1, 0.515625]\n",
      "[28, 363, 1, 1, 0, 1, 0, 1, 1, 0, 1, 0.546875]\n",
      "[29, 235, 1, 1, 0, 1, 0, 1, 1, 1, 0, 0.3125]\n",
      "[30, 411, 1, 1, 0, 1, 1, 0, 0, 1, 1, 0.515625]\n",
      "[31, 347, 1, 1, 0, 1, 1, 0, 1, 0, 1, 0.515625]\n",
      "[32, 219, 1, 1, 0, 1, 1, 0, 1, 1, 0, 0.3125]\n",
      "[33, 315, 1, 1, 0, 1, 1, 1, 0, 0, 1, 0.53125]\n",
      "[34, 187, 1, 1, 0, 1, 1, 1, 0, 1, 0, 0.3125]\n",
      "[35, 123, 1, 1, 0, 1, 1, 1, 1, 0, 0, 0.3125]\n",
      "[36, 455, 1, 1, 1, 0, 0, 0, 1, 1, 1, 0.5]\n",
      "[37, 423, 1, 1, 1, 0, 0, 1, 0, 1, 1, 0.484375]\n",
      "[38, 359, 1, 1, 1, 0, 0, 1, 1, 0, 1, 0.5]\n",
      "[39, 231, 1, 1, 1, 0, 0, 1, 1, 1, 0, 0.3125]\n",
      "[40, 407, 1, 1, 1, 0, 1, 0, 0, 1, 1, 0.484375]\n",
      "[41, 343, 1, 1, 1, 0, 1, 0, 1, 0, 1, 0.515625]\n",
      "[42, 215, 1, 1, 1, 0, 1, 0, 1, 1, 0, 0.296875]\n",
      "[43, 311, 1, 1, 1, 0, 1, 1, 0, 0, 1, 0.5625]\n",
      "[44, 183, 1, 1, 1, 0, 1, 1, 0, 1, 0, 0.296875]\n",
      "[45, 119, 1, 1, 1, 0, 1, 1, 1, 0, 0, 0.328125]\n",
      "[46, 399, 1, 1, 1, 1, 0, 0, 0, 1, 1, 0.5]\n",
      "[47, 335, 1, 1, 1, 1, 0, 0, 1, 0, 1, 0.515625]\n",
      "[48, 207, 1, 1, 1, 1, 0, 0, 1, 1, 0, 0.34375]\n",
      "[49, 303, 1, 1, 1, 1, 0, 1, 0, 0, 1, 0.5]\n",
      "[50, 175, 1, 1, 1, 1, 0, 1, 0, 1, 0, 0.3125]\n",
      "[51, 111, 1, 1, 1, 1, 0, 1, 1, 0, 0, 0.296875]\n",
      "[52, 287, 1, 1, 1, 1, 1, 0, 0, 0, 1, 0.53125]\n",
      "[53, 159, 1, 1, 1, 1, 1, 0, 0, 1, 0, 0.28125]\n",
      "[54, 95, 1, 1, 1, 1, 1, 0, 1, 0, 0, 0.3125]\n",
      "[55, 63, 1, 1, 1, 1, 1, 1, 0, 0, 0, 0.296875]\n"
     ]
    }
   ],
   "source": [
    "# 3\n",
    "\n",
    "x = 0\n",
    "y = 0\n",
    "z = 0\n",
    "p = 0\n",
    "q = 0\n",
    "r = 0\n",
    "\n",
    "pos0 = 1 #time\n",
    "pos1 = 1\n",
    "pos2 = 1\n",
    "pos3 = 1\n",
    "pos4 = 1\n",
    "pos5 = 1\n",
    "pos6 = 1\n",
    "pos7 = 1\n",
    "pos8 = 1\n",
    "\n",
    "a = 0\n",
    "for x in range (1,9):\n",
    "    X_train_f_drop_X = X_train_f.drop(dim[x],axis=1)\n",
    "    X_test_f_drop_X = X_test_f.drop(dim[x],axis=1)\n",
    "    for y in range (x+1,9):\n",
    "        X_train_f_drop_X = X_train_f.drop(dim[y],axis=1)\n",
    "        X_test_f_drop_X = X_test_f.drop(dim[y],axis=1)\n",
    "        for z in range (y+1,9):\n",
    "            X_train_f_drop_X = X_train_f.drop(dim[z],axis=1)\n",
    "            X_test_f_drop_X = X_test_f.drop(dim[z],axis=1)\n",
    "            if (x == 1 or y == 1 or z == 1 or p == 1 or q == 1 ):\n",
    "                pos1 = 0 # force command\n",
    "            if (x == 2 or y == 2 or z == 2 or p == 2 or q == 2 ):\n",
    "                pos2 = 0 # force responce\n",
    "            if (x == 3 or y == 3 or z == 3 or p == 3 or q == 3  ):\n",
    "                pos3 = 0 # Position\n",
    "            if (x == 4 or y == 4 or z == 4 or p == 4 or q == 4 ):\n",
    "                pos4 = 0 # velocity\n",
    "            if (x == 5 or y == 5 or z == 5 or p == 5 or q == 5 ):\n",
    "                pos5 = 0 # accleration\n",
    "            if (x == 6 or y == 6 or z == 6 or p == 6 or q == 6 ):\n",
    "                pos6 = 0 # stiffness\n",
    "            if (x == 7 or y == 7 or z == 7 or p == 7 or q == 7 ):\n",
    "                pos7 = 0 # viscosity\n",
    "            if (x == 8 or y == 8 or z == 8 or p == 8 or q == 8 ):\n",
    "                pos8 = 0 # Energy absorbed\n",
    "            index = pos0 + pos1*2 + pos2*4 + pos3*8 + pos4*16 + pos5*32 + pos6*64 + pos7*128 + pos8*256\n",
    "            clf.fit(X_train_f_drop_X , y_train_f)\n",
    "            filePointer = open(csv_name,'a')\n",
    "            writer = csv.writer(filePointer)\n",
    "            data = [a, index, pos0, pos1, pos2, pos3, pos4, pos5, pos6, pos7, pos8,  clf.score(X_test_f_drop_X, y_test_f)]\n",
    "            writer.writerow(data)\n",
    "            filePointer.close()\n",
    "            print(data)\n",
    "            a=a+1\n",
    "            pos0 = pos1 = pos2 = pos3 = pos4 = pos5 = pos6 = pos7 = pos8 = 1"
   ]
  },
  {
   "cell_type": "code",
   "execution_count": 8,
   "metadata": {},
   "outputs": [
    {
     "name": "stdout",
     "output_type": "stream",
     "text": [
      "[0, 481, 1, 0, 0, 0, 0, 1, 1, 1, 1, 0.6875]\n",
      "[1, 465, 1, 0, 0, 0, 1, 0, 1, 1, 1, 0.515625]\n",
      "[2, 433, 1, 0, 0, 0, 1, 1, 0, 1, 1, 0.515625]\n",
      "[3, 369, 1, 0, 0, 0, 1, 1, 1, 0, 1, 0.53125]\n",
      "[4, 241, 1, 0, 0, 0, 1, 1, 1, 1, 0, 0.3125]\n",
      "[5, 457, 1, 0, 0, 1, 0, 0, 1, 1, 1, 0.53125]\n",
      "[6, 425, 1, 0, 0, 1, 0, 1, 0, 1, 1, 0.515625]\n",
      "[7, 361, 1, 0, 0, 1, 0, 1, 1, 0, 1, 0.515625]\n",
      "[8, 233, 1, 0, 0, 1, 0, 1, 1, 1, 0, 0.296875]\n",
      "[9, 409, 1, 0, 0, 1, 1, 0, 0, 1, 1, 0.515625]\n",
      "[10, 345, 1, 0, 0, 1, 1, 0, 1, 0, 1, 0.484375]\n",
      "[11, 217, 1, 0, 0, 1, 1, 0, 1, 1, 0, 0.3125]\n",
      "[12, 313, 1, 0, 0, 1, 1, 1, 0, 0, 1, 0.515625]\n",
      "[13, 185, 1, 0, 0, 1, 1, 1, 0, 1, 0, 0.328125]\n",
      "[14, 121, 1, 0, 0, 1, 1, 1, 1, 0, 0, 0.28125]\n",
      "[15, 453, 1, 0, 1, 0, 0, 0, 1, 1, 1, 0.515625]\n",
      "[16, 421, 1, 0, 1, 0, 0, 1, 0, 1, 1, 0.546875]\n",
      "[17, 357, 1, 0, 1, 0, 0, 1, 1, 0, 1, 0.5625]\n",
      "[18, 229, 1, 0, 1, 0, 0, 1, 1, 1, 0, 0.328125]\n",
      "[19, 405, 1, 0, 1, 0, 1, 0, 0, 1, 1, 0.546875]\n",
      "[20, 341, 1, 0, 1, 0, 1, 0, 1, 0, 1, 0.515625]\n",
      "[21, 213, 1, 0, 1, 0, 1, 0, 1, 1, 0, 0.328125]\n",
      "[22, 309, 1, 0, 1, 0, 1, 1, 0, 0, 1, 0.53125]\n",
      "[23, 181, 1, 0, 1, 0, 1, 1, 0, 1, 0, 0.296875]\n",
      "[24, 117, 1, 0, 1, 0, 1, 1, 1, 0, 0, 0.296875]\n",
      "[25, 397, 1, 0, 1, 1, 0, 0, 0, 1, 1, 0.546875]\n",
      "[26, 333, 1, 0, 1, 1, 0, 0, 1, 0, 1, 0.5]\n",
      "[27, 205, 1, 0, 1, 1, 0, 0, 1, 1, 0, 0.296875]\n",
      "[28, 301, 1, 0, 1, 1, 0, 1, 0, 0, 1, 0.515625]\n",
      "[29, 173, 1, 0, 1, 1, 0, 1, 0, 1, 0, 0.359375]\n",
      "[30, 109, 1, 0, 1, 1, 0, 1, 1, 0, 0, 0.328125]\n",
      "[31, 285, 1, 0, 1, 1, 1, 0, 0, 0, 1, 0.515625]\n",
      "[32, 157, 1, 0, 1, 1, 1, 0, 0, 1, 0, 0.3125]\n",
      "[33, 93, 1, 0, 1, 1, 1, 0, 1, 0, 0, 0.296875]\n",
      "[34, 61, 1, 0, 1, 1, 1, 1, 0, 0, 0, 0.3125]\n",
      "[35, 451, 1, 1, 0, 0, 0, 0, 1, 1, 1, 0.484375]\n",
      "[36, 419, 1, 1, 0, 0, 0, 1, 0, 1, 1, 0.5625]\n",
      "[37, 355, 1, 1, 0, 0, 0, 1, 1, 0, 1, 0.5]\n",
      "[38, 227, 1, 1, 0, 0, 0, 1, 1, 1, 0, 0.3125]\n",
      "[39, 403, 1, 1, 0, 0, 1, 0, 0, 1, 1, 0.515625]\n",
      "[40, 339, 1, 1, 0, 0, 1, 0, 1, 0, 1, 0.515625]\n",
      "[41, 211, 1, 1, 0, 0, 1, 0, 1, 1, 0, 0.328125]\n",
      "[42, 307, 1, 1, 0, 0, 1, 1, 0, 0, 1, 0.484375]\n",
      "[43, 179, 1, 1, 0, 0, 1, 1, 0, 1, 0, 0.3125]\n",
      "[44, 115, 1, 1, 0, 0, 1, 1, 1, 0, 0, 0.3125]\n",
      "[45, 395, 1, 1, 0, 1, 0, 0, 0, 1, 1, 0.5]\n",
      "[46, 331, 1, 1, 0, 1, 0, 0, 1, 0, 1, 0.484375]\n",
      "[47, 203, 1, 1, 0, 1, 0, 0, 1, 1, 0, 0.34375]\n",
      "[48, 299, 1, 1, 0, 1, 0, 1, 0, 0, 1, 0.5]\n",
      "[49, 171, 1, 1, 0, 1, 0, 1, 0, 1, 0, 0.328125]\n",
      "[50, 107, 1, 1, 0, 1, 0, 1, 1, 0, 0, 0.296875]\n",
      "[51, 283, 1, 1, 0, 1, 1, 0, 0, 0, 1, 0.53125]\n",
      "[52, 155, 1, 1, 0, 1, 1, 0, 0, 1, 0, 0.3125]\n",
      "[53, 91, 1, 1, 0, 1, 1, 0, 1, 0, 0, 0.296875]\n",
      "[54, 59, 1, 1, 0, 1, 1, 1, 0, 0, 0, 0.28125]\n",
      "[55, 391, 1, 1, 1, 0, 0, 0, 0, 1, 1, 0.5]\n",
      "[56, 327, 1, 1, 1, 0, 0, 0, 1, 0, 1, 0.53125]\n",
      "[57, 199, 1, 1, 1, 0, 0, 0, 1, 1, 0, 0.3125]\n",
      "[58, 295, 1, 1, 1, 0, 0, 1, 0, 0, 1, 0.515625]\n",
      "[59, 167, 1, 1, 1, 0, 0, 1, 0, 1, 0, 0.296875]\n",
      "[60, 103, 1, 1, 1, 0, 0, 1, 1, 0, 0, 0.328125]\n",
      "[61, 279, 1, 1, 1, 0, 1, 0, 0, 0, 1, 0.515625]\n",
      "[62, 151, 1, 1, 1, 0, 1, 0, 0, 1, 0, 0.3125]\n",
      "[63, 87, 1, 1, 1, 0, 1, 0, 1, 0, 0, 0.3125]\n",
      "[64, 55, 1, 1, 1, 0, 1, 1, 0, 0, 0, 0.296875]\n",
      "[65, 271, 1, 1, 1, 1, 0, 0, 0, 0, 1, 0.484375]\n",
      "[66, 143, 1, 1, 1, 1, 0, 0, 0, 1, 0, 0.296875]\n",
      "[67, 79, 1, 1, 1, 1, 0, 0, 1, 0, 0, 0.3125]\n",
      "[68, 47, 1, 1, 1, 1, 0, 1, 0, 0, 0, 0.296875]\n",
      "[69, 31, 1, 1, 1, 1, 1, 0, 0, 0, 0, 0.34375]\n"
     ]
    }
   ],
   "source": [
    "# 4\n",
    "\n",
    "x = 0\n",
    "y = 0\n",
    "z = 0\n",
    "p = 0\n",
    "q = 0\n",
    "r = 0\n",
    "\n",
    "pos0 = 1 #time\n",
    "pos1 = 1\n",
    "pos2 = 1\n",
    "pos3 = 1\n",
    "pos4 = 1\n",
    "pos5 = 1\n",
    "pos6 = 1\n",
    "pos7 = 1\n",
    "pos8 = 1\n",
    "\n",
    "\n",
    "a = 0\n",
    "for x in range (1,9):\n",
    "    X_train_f_drop_X = X_train_f.drop(dim[x],axis=1)\n",
    "    X_test_f_drop_X = X_test_f.drop(dim[x],axis=1)\n",
    "    for y in range (x+1,9):\n",
    "        X_train_f_drop_X = X_train_f.drop(dim[y],axis=1)\n",
    "        X_test_f_drop_X = X_test_f.drop(dim[y],axis=1)\n",
    "        for z in range (y+1,9):\n",
    "            X_train_f_drop_X = X_train_f.drop(dim[z],axis=1)\n",
    "            X_test_f_drop_X = X_test_f.drop(dim[z],axis=1)\n",
    "            for p in range (z+1,9):\n",
    "                X_train_f_drop_X = X_train_f.drop(dim[p],axis=1)\n",
    "                X_test_f_drop_X = X_test_f.drop(dim[p],axis=1)\n",
    "                for q in range (p+1,9):\n",
    "                    X_train_f_drop_X = X_train_f.drop(dim[q],axis=1)\n",
    "                    X_test_f_drop_X = X_test_f.drop(dim[q],axis=1)\n",
    "                    if (x == 1 or y == 1 or z == 1 or p == 1 or q == 1 ):\n",
    "                        pos1 = 0 # force command\n",
    "                    if (x == 2 or y == 2 or z == 2 or p == 2 or q == 2 ):\n",
    "                        pos2 = 0 # force responce\n",
    "                    if (x == 3 or y == 3 or z == 3 or p == 3 or q == 3  ):\n",
    "                        pos3 = 0 # Position\n",
    "                    if (x == 4 or y == 4 or z == 4 or p == 4 or q == 4 ):\n",
    "                        pos4 = 0 # velocity\n",
    "                if (x == 5 or y == 5 or z == 5 or p == 5 or q == 5 ):\n",
    "                    pos5 = 0 # accleration\n",
    "                if (x == 6 or y == 6 or z == 6 or p == 6 or q == 6 ):\n",
    "                    pos6 = 0 # stiffness\n",
    "                if (x == 7 or y == 7 or z == 7 or p == 7 or q == 7 ):\n",
    "                    pos7 = 0 # viscosity\n",
    "                if (x == 8 or y == 8 or z == 8 or p == 8 or q == 8 ):\n",
    "                    pos8 = 0 # Energy absorbed\n",
    "                index = pos0 + pos1*2 + pos2*4 + pos3*8 + pos4*16 + pos5*32 + pos6*64 + pos7*128 + pos8*256\n",
    "                clf.fit(X_train_f_drop_X , y_train_f)\n",
    "                filePointer = open(csv_name,'a')\n",
    "                writer = csv.writer(filePointer)\n",
    "                data = [a, index, pos0, pos1, pos2, pos3, pos4, pos5, pos6, pos7, pos8,  clf.score(X_test_f_drop_X, y_test_f)]\n",
    "                writer.writerow(data)\n",
    "                filePointer.close()\n",
    "                print(data)\n",
    "                a=a+1\n",
    "                pos0 = pos1 = pos2 = pos3 = pos4 = pos5 = pos6 = pos7 = pos8 = 1"
   ]
  },
  {
   "cell_type": "code",
   "execution_count": 9,
   "metadata": {},
   "outputs": [
    {
     "name": "stdout",
     "output_type": "stream",
     "text": [
      "[0, 449, 1, 0, 0, 0, 0, 0, 1, 1, 1, 0.546875]\n",
      "[1, 417, 1, 0, 0, 0, 0, 1, 0, 1, 1, 0.515625]\n",
      "[2, 353, 1, 0, 0, 0, 0, 1, 1, 0, 1, 0.515625]\n",
      "[3, 225, 1, 0, 0, 0, 0, 1, 1, 1, 0, 0.28125]\n",
      "[4, 401, 1, 0, 0, 0, 1, 0, 0, 1, 1, 0.515625]\n",
      "[5, 337, 1, 0, 0, 0, 1, 0, 1, 0, 1, 0.5]\n",
      "[6, 209, 1, 0, 0, 0, 1, 0, 1, 1, 0, 0.3125]\n",
      "[7, 305, 1, 0, 0, 0, 1, 1, 0, 0, 1, 0.515625]\n",
      "[8, 177, 1, 0, 0, 0, 1, 1, 0, 1, 0, 0.34375]\n",
      "[9, 113, 1, 0, 0, 0, 1, 1, 1, 0, 0, 0.3125]\n",
      "[10, 393, 1, 0, 0, 1, 0, 0, 0, 1, 1, 0.5625]\n",
      "[11, 329, 1, 0, 0, 1, 0, 0, 1, 0, 1, 0.546875]\n",
      "[12, 201, 1, 0, 0, 1, 0, 0, 1, 1, 0, 0.296875]\n",
      "[13, 297, 1, 0, 0, 1, 0, 1, 0, 0, 1, 0.515625]\n",
      "[14, 169, 1, 0, 0, 1, 0, 1, 0, 1, 0, 0.296875]\n",
      "[15, 105, 1, 0, 0, 1, 0, 1, 1, 0, 0, 0.296875]\n",
      "[16, 281, 1, 0, 0, 1, 1, 0, 0, 0, 1, 0.515625]\n",
      "[17, 153, 1, 0, 0, 1, 1, 0, 0, 1, 0, 0.296875]\n",
      "[18, 89, 1, 0, 0, 1, 1, 0, 1, 0, 0, 0.3125]\n",
      "[19, 57, 1, 0, 0, 1, 1, 1, 0, 0, 0, 0.328125]\n",
      "[20, 389, 1, 0, 1, 0, 0, 0, 0, 1, 1, 0.484375]\n",
      "[21, 325, 1, 0, 1, 0, 0, 0, 1, 0, 1, 0.484375]\n",
      "[22, 197, 1, 0, 1, 0, 0, 0, 1, 1, 0, 0.3125]\n",
      "[23, 293, 1, 0, 1, 0, 0, 1, 0, 0, 1, 0.5]\n",
      "[24, 165, 1, 0, 1, 0, 0, 1, 0, 1, 0, 0.296875]\n",
      "[25, 101, 1, 0, 1, 0, 0, 1, 1, 0, 0, 0.28125]\n",
      "[26, 277, 1, 0, 1, 0, 1, 0, 0, 0, 1, 0.515625]\n",
      "[27, 149, 1, 0, 1, 0, 1, 0, 0, 1, 0, 0.3125]\n",
      "[28, 85, 1, 0, 1, 0, 1, 0, 1, 0, 0, 0.296875]\n",
      "[29, 53, 1, 0, 1, 0, 1, 1, 0, 0, 0, 0.359375]\n",
      "[30, 269, 1, 0, 1, 1, 0, 0, 0, 0, 1, 0.515625]\n",
      "[31, 141, 1, 0, 1, 1, 0, 0, 0, 1, 0, 0.3125]\n",
      "[32, 77, 1, 0, 1, 1, 0, 0, 1, 0, 0, 0.3125]\n",
      "[33, 45, 1, 0, 1, 1, 0, 1, 0, 0, 0, 0.296875]\n",
      "[34, 29, 1, 0, 1, 1, 1, 0, 0, 0, 0, 0.28125]\n",
      "[35, 387, 1, 1, 0, 0, 0, 0, 0, 1, 1, 0.53125]\n",
      "[36, 323, 1, 1, 0, 0, 0, 0, 1, 0, 1, 0.5]\n",
      "[37, 195, 1, 1, 0, 0, 0, 0, 1, 1, 0, 0.296875]\n",
      "[38, 291, 1, 1, 0, 0, 0, 1, 0, 0, 1, 0.515625]\n",
      "[39, 163, 1, 1, 0, 0, 0, 1, 0, 1, 0, 0.28125]\n",
      "[40, 99, 1, 1, 0, 0, 0, 1, 1, 0, 0, 0.296875]\n",
      "[41, 275, 1, 1, 0, 0, 1, 0, 0, 0, 1, 0.53125]\n",
      "[42, 147, 1, 1, 0, 0, 1, 0, 0, 1, 0, 0.296875]\n",
      "[43, 83, 1, 1, 0, 0, 1, 0, 1, 0, 0, 0.3125]\n",
      "[44, 51, 1, 1, 0, 0, 1, 1, 0, 0, 0, 0.328125]\n",
      "[45, 267, 1, 1, 0, 1, 0, 0, 0, 0, 1, 0.5]\n",
      "[46, 139, 1, 1, 0, 1, 0, 0, 0, 1, 0, 0.328125]\n",
      "[47, 75, 1, 1, 0, 1, 0, 0, 1, 0, 0, 0.3125]\n",
      "[48, 43, 1, 1, 0, 1, 0, 1, 0, 0, 0, 0.28125]\n",
      "[49, 27, 1, 1, 0, 1, 1, 0, 0, 0, 0, 0.296875]\n",
      "[50, 263, 1, 1, 1, 0, 0, 0, 0, 0, 1, 0.515625]\n",
      "[51, 135, 1, 1, 1, 0, 0, 0, 0, 1, 0, 0.359375]\n",
      "[52, 71, 1, 1, 1, 0, 0, 0, 1, 0, 0, 0.296875]\n",
      "[53, 39, 1, 1, 1, 0, 0, 1, 0, 0, 0, 0.328125]\n",
      "[54, 23, 1, 1, 1, 0, 1, 0, 0, 0, 0, 0.296875]\n",
      "[55, 15, 1, 1, 1, 1, 0, 0, 0, 0, 0, 0.3125]\n"
     ]
    }
   ],
   "source": [
    "# 5\n",
    "\n",
    "x = 0\n",
    "y = 0\n",
    "z = 0\n",
    "p = 0\n",
    "q = 0\n",
    "r = 0\n",
    "\n",
    "pos0 = 1 #time\n",
    "pos1 = 1\n",
    "pos2 = 1\n",
    "pos3 = 1\n",
    "pos4 = 1\n",
    "pos5 = 1\n",
    "pos6 = 1\n",
    "pos7 = 1\n",
    "pos8 = 1\n",
    "\n",
    "\n",
    "a = 0\n",
    "for x in range (1,9):\n",
    "    X_train_f_drop_X = X_train_f.drop(dim[x],axis=1)\n",
    "    X_test_f_drop_X = X_test_f.drop(dim[x],axis=1)\n",
    "    for y in range (x+1,9):\n",
    "        X_train_f_drop_X = X_train_f.drop(dim[y],axis=1)\n",
    "        X_test_f_drop_X = X_test_f.drop(dim[y],axis=1)\n",
    "        for z in range (y+1,9):\n",
    "            X_train_f_drop_X = X_train_f.drop(dim[z],axis=1)\n",
    "            X_test_f_drop_X = X_test_f.drop(dim[z],axis=1)\n",
    "            for p in range (z+1,9):\n",
    "                X_train_f_drop_X = X_train_f.drop(dim[p],axis=1)\n",
    "                X_test_f_drop_X = X_test_f.drop(dim[p],axis=1)\n",
    "                for q in range (p+1,9):\n",
    "                    X_train_f_drop_X = X_train_f.drop(dim[q],axis=1)\n",
    "                    X_test_f_drop_X = X_test_f.drop(dim[q],axis=1) \n",
    "                    if (x == 1 or y == 1 or z == 1 or p == 1 or q == 1 ):\n",
    "                        pos1 = 0 # force command\n",
    "                    if (x == 2 or y == 2 or z == 2 or p == 2 or q == 2 ):\n",
    "                        pos2 = 0 # force responce\n",
    "                    if (x == 3 or y == 3 or z == 3 or p == 3 or q == 3  ):\n",
    "                        pos3 = 0 # Position\n",
    "                    if (x == 4 or y == 4 or z == 4 or p == 4 or q == 4 ):\n",
    "                        pos4 = 0 # velocity\n",
    "                    if (x == 5 or y == 5 or z == 5 or p == 5 or q == 5 ):\n",
    "                        pos5 = 0 # accleration\n",
    "                    if (x == 6 or y == 6 or z == 6 or p == 6 or q == 6 ):\n",
    "                        pos6 = 0 # stiffness\n",
    "                    if (x == 7 or y == 7 or z == 7 or p == 7 or q == 7 ):\n",
    "                        pos7 = 0 # viscosity\n",
    "                    if (x == 8 or y == 8 or z == 8 or p == 8 or q == 8 ):\n",
    "                        pos8 = 0 # Energy absorbed\n",
    "                    index = pos0 + pos1*2 + pos2*4 + pos3*8 + pos4*16 + pos5*32 + pos6*64 + pos7*128 + pos8*256\n",
    "                    clf.fit(X_train_f_drop_X , y_train_f)\n",
    "                    filePointer = open(csv_name,'a')\n",
    "                    writer = csv.writer(filePointer)\n",
    "                    data = [a, index, pos0, pos1, pos2, pos3, pos4, pos5, pos6, pos7, pos8,  clf.score(X_test_f_drop_X, y_test_f)]\n",
    "                    writer.writerow(data)\n",
    "                    filePointer.close()\n",
    "                    print(data)\n",
    "                    a=a+1\n",
    "                    pos0 = pos1 = pos2 = pos3 = pos4 = pos5 = pos6 = pos7 = pos8 = 1"
   ]
  },
  {
   "cell_type": "code",
   "execution_count": 10,
   "metadata": {},
   "outputs": [
    {
     "name": "stdout",
     "output_type": "stream",
     "text": [
      "[0, 449, 1, 0, 0, 0, 0, 0, 1, 1, 1, 0.484375]\n",
      "[1, 449, 1, 0, 0, 0, 0, 0, 1, 1, 1, 0.53125]\n",
      "[2, 449, 1, 0, 0, 0, 0, 0, 1, 1, 1, 0.296875]\n",
      "[3, 417, 1, 0, 0, 0, 0, 1, 0, 1, 1, 0.515625]\n",
      "[4, 417, 1, 0, 0, 0, 0, 1, 0, 1, 1, 0.3125]\n",
      "[5, 353, 1, 0, 0, 0, 0, 1, 1, 0, 1, 0.328125]\n",
      "[6, 401, 1, 0, 0, 0, 1, 0, 0, 1, 1, 0.5]\n",
      "[7, 401, 1, 0, 0, 0, 1, 0, 0, 1, 1, 0.3125]\n",
      "[8, 337, 1, 0, 0, 0, 1, 0, 1, 0, 1, 0.3125]\n",
      "[9, 305, 1, 0, 0, 0, 1, 1, 0, 0, 1, 0.296875]\n",
      "[10, 393, 1, 0, 0, 1, 0, 0, 0, 1, 1, 0.515625]\n",
      "[11, 393, 1, 0, 0, 1, 0, 0, 0, 1, 1, 0.3125]\n",
      "[12, 329, 1, 0, 0, 1, 0, 0, 1, 0, 1, 0.3125]\n",
      "[13, 297, 1, 0, 0, 1, 0, 1, 0, 0, 1, 0.296875]\n",
      "[14, 281, 1, 0, 0, 1, 1, 0, 0, 0, 1, 0.296875]\n",
      "[15, 389, 1, 0, 1, 0, 0, 0, 0, 1, 1, 0.515625]\n",
      "[16, 389, 1, 0, 1, 0, 0, 0, 0, 1, 1, 0.296875]\n",
      "[17, 325, 1, 0, 1, 0, 0, 0, 1, 0, 1, 0.296875]\n",
      "[18, 293, 1, 0, 1, 0, 0, 1, 0, 0, 1, 0.296875]\n",
      "[19, 277, 1, 0, 1, 0, 1, 0, 0, 0, 1, 0.328125]\n",
      "[20, 269, 1, 0, 1, 1, 0, 0, 0, 0, 1, 0.296875]\n",
      "[21, 387, 1, 1, 0, 0, 0, 0, 0, 1, 1, 0.5]\n",
      "[22, 387, 1, 1, 0, 0, 0, 0, 0, 1, 1, 0.328125]\n",
      "[23, 323, 1, 1, 0, 0, 0, 0, 1, 0, 1, 0.296875]\n",
      "[24, 291, 1, 1, 0, 0, 0, 1, 0, 0, 1, 0.296875]\n",
      "[25, 275, 1, 1, 0, 0, 1, 0, 0, 0, 1, 0.28125]\n",
      "[26, 267, 1, 1, 0, 1, 0, 0, 0, 0, 1, 0.296875]\n",
      "[27, 263, 1, 1, 1, 0, 0, 0, 0, 0, 1, 0.3125]\n"
     ]
    }
   ],
   "source": [
    "# 6\n",
    "\n",
    "x = 0\n",
    "y = 0\n",
    "z = 0\n",
    "p = 0\n",
    "q = 0\n",
    "r = 0\n",
    "\n",
    "pos0 = 1 #time\n",
    "pos1 = 1\n",
    "pos2 = 1\n",
    "pos3 = 1\n",
    "pos4 = 1\n",
    "pos5 = 1\n",
    "pos6 = 1\n",
    "pos7 = 1\n",
    "pos8 = 1\n",
    "\n",
    "\n",
    "a = 0\n",
    "for x in range (1,9):\n",
    "    X_train_f_drop_X = X_train_f.drop(dim[x],axis=1)\n",
    "    X_test_f_drop_X = X_test_f.drop(dim[x],axis=1)\n",
    "    for y in range (x+1,9):\n",
    "        X_train_f_drop_X = X_train_f.drop(dim[y],axis=1)\n",
    "        X_test_f_drop_X = X_test_f.drop(dim[y],axis=1)\n",
    "        for z in range (y+1,9):\n",
    "            X_train_f_drop_X = X_train_f.drop(dim[z],axis=1)\n",
    "            X_test_f_drop_X = X_test_f.drop(dim[z],axis=1)\n",
    "            for p in range (z+1,9):\n",
    "                X_train_f_drop_X = X_train_f.drop(dim[p],axis=1)\n",
    "                X_test_f_drop_X = X_test_f.drop(dim[p],axis=1)\n",
    "                for q in range (p+1,9):\n",
    "                    X_train_f_drop_X = X_train_f.drop(dim[q],axis=1)\n",
    "                    X_test_f_drop_X = X_test_f.drop(dim[q],axis=1)\n",
    "                    for r in range (q+1,9):\n",
    "                        X_train_f_drop_X = X_train_f.drop(dim[r],axis=1)\n",
    "                        X_test_f_drop_X = X_test_f.drop(dim[r],axis=1)\n",
    "                        if (x == 1 or y == 1 or z == 1 or p == 1 or q == 1 or r == 1 ):\n",
    "                            pos1 = 0 # force command\n",
    "                        if (x == 2 or y == 2 or z == 2 or p == 2 or q == 2 or r == 1 ):\n",
    "                            pos2 = 0 # force responce\n",
    "                        if (x == 3 or y == 3 or z == 3 or p == 3 or q == 3 or r == 1 ):\n",
    "                            pos3 = 0 # Position\n",
    "                        if (x == 4 or y == 4 or z == 4 or p == 4 or q == 4 or r == 1 ):\n",
    "                            pos4 = 0 # velocity\n",
    "                        if (x == 5 or y == 5 or z == 5 or p == 5 or q == 5 or r == 1 ):\n",
    "                            pos5 = 0 # accleration\n",
    "                        if (x == 6 or y == 6 or z == 6 or p == 6 or q == 6 or r == 1 ):\n",
    "                            pos6 = 0 # stiffness\n",
    "                        if (x == 7 or y == 7 or z == 7 or p == 7 or q == 7 or r == 1 ):\n",
    "                            pos7 = 0 # viscosity\n",
    "                        if (x == 8 or y == 8 or z == 8 or p == 8 or q == 8 or r == 1 ):\n",
    "                            pos8 = 0 # Energy absorbed\n",
    "                        index = pos0 + pos1*2 + pos2*4 + pos3*8 + pos4*16 + pos5*32 + pos6*64 + pos7*128 + pos8*256\n",
    "                        clf.fit(X_train_f_drop_X , y_train_f)\n",
    "                        filePointer = open(csv_name,'a')\n",
    "                        writer = csv.writer(filePointer)\n",
    "                        data = [a, index, pos0, pos1, pos2, pos3, pos4, pos5, pos6, pos7, pos8,  clf.score(X_test_f_drop_X, y_test_f)]\n",
    "                        writer.writerow(data)\n",
    "                        filePointer.close()\n",
    "                        print(data)\n",
    "                        a=a+1\n",
    "                        pos0 = pos1 = pos2 = pos3 = pos4 = pos5 = pos6 = pos7 = pos8 = 1"
   ]
  },
  {
   "cell_type": "code",
   "execution_count": 11,
   "metadata": {},
   "outputs": [
    {
     "name": "stdout",
     "output_type": "stream",
     "text": [
      "[0, 449, 1, 0, 0, 0, 0, 0, 1, 1, 1, 0.484375]\n",
      "[1, 449, 1, 0, 0, 0, 0, 0, 1, 1, 1, 0.3125]\n",
      "[2, 449, 1, 0, 0, 0, 0, 0, 1, 1, 1, 0.28125]\n",
      "[3, 417, 1, 0, 0, 0, 0, 1, 0, 1, 1, 0.296875]\n",
      "[4, 401, 1, 0, 0, 0, 1, 0, 0, 1, 1, 0.296875]\n",
      "[5, 393, 1, 0, 0, 1, 0, 0, 0, 1, 1, 0.3125]\n",
      "[6, 389, 1, 0, 1, 0, 0, 0, 0, 1, 1, 0.28125]\n",
      "[7, 387, 1, 1, 0, 0, 0, 0, 0, 1, 1, 0.3125]\n"
     ]
    }
   ],
   "source": [
    "# 7\n",
    "\n",
    "x = 0\n",
    "y = 0\n",
    "z = 0\n",
    "p = 0\n",
    "q = 0\n",
    "r = 0\n",
    "S = 0\n",
    "\n",
    "pos0 = 1 #time\n",
    "pos1 = 1\n",
    "pos2 = 1\n",
    "pos3 = 1\n",
    "pos4 = 1\n",
    "pos5 = 1\n",
    "pos6 = 1\n",
    "pos7 = 1\n",
    "pos8 = 1\n",
    "\n",
    "\n",
    "a = 0\n",
    "for x in range (1,9):\n",
    "    X_train_f_drop_X = X_train_f.drop(dim[x],axis=1)\n",
    "    X_test_f_drop_X = X_test_f.drop(dim[x],axis=1)\n",
    "    for y in range (x+1,9):\n",
    "        X_train_f_drop_X = X_train_f.drop(dim[y],axis=1)\n",
    "        X_test_f_drop_X = X_test_f.drop(dim[y],axis=1)\n",
    "        for z in range (y+1,9):\n",
    "            X_train_f_drop_X = X_train_f.drop(dim[z],axis=1)\n",
    "            X_test_f_drop_X = X_test_f.drop(dim[z],axis=1)\n",
    "            for p in range (z+1,9):\n",
    "                X_train_f_drop_X = X_train_f.drop(dim[p],axis=1)\n",
    "                X_test_f_drop_X = X_test_f.drop(dim[p],axis=1)\n",
    "                for q in range (p+1,9):\n",
    "                    X_train_f_drop_X = X_train_f.drop(dim[q],axis=1)\n",
    "                    X_test_f_drop_X = X_test_f.drop(dim[q],axis=1)\n",
    "                    for r in range (q+1,9):\n",
    "                        X_train_f_drop_X = X_train_f.drop(dim[r],axis=1)\n",
    "                        X_test_f_drop_X = X_test_f.drop(dim[r],axis=1)\n",
    "                        for s in range (r+1,9):\n",
    "                            X_train_f_drop_X = X_train_f.drop(dim[s],axis=1)\n",
    "                            X_test_f_drop_X = X_test_f.drop(dim[s],axis=1)\n",
    "                            if (x == 1 or y == 1 or z == 1 or p == 1 or q == 1 or r == 1 or s == 1 ):\n",
    "                                pos1 = 0 # force command\n",
    "                            if (x == 2 or y == 2 or z == 2 or p == 2 or q == 2 or r == 1 or s == 1 ):\n",
    "                                pos2 = 0 # force responce\n",
    "                            if (x == 3 or y == 3 or z == 3 or p == 3 or q == 3 or r == 1 or s == 1 ):\n",
    "                                pos3 = 0 # Position\n",
    "                            if (x == 4 or y == 4 or z == 4 or p == 4 or q == 4 or r == 1 or s == 1 ):\n",
    "                                pos4 = 0 # velocity\n",
    "                            if (x == 5 or y == 5 or z == 5 or p == 5 or q == 5 or r == 1 or s == 1 ):\n",
    "                                pos5 = 0 # accleration\n",
    "                            if (x == 6 or y == 6 or z == 6 or p == 6 or q == 6 or r == 1 or s == 1 ):\n",
    "                                pos6 = 0 # stiffness\n",
    "                            if (x == 7 or y == 7 or z == 7 or p == 7 or q == 7 or r == 1 or s == 1 ):\n",
    "                                pos7 = 0 # viscosity\n",
    "                            if (x == 8 or y == 8 or z == 8 or p == 8 or q == 8 or r == 1 or s == 1 ):\n",
    "                                pos8 = 0 # Energy absorbed\n",
    "                            index = pos0 + pos1*2 + pos2*4 + pos3*8 + pos4*16 + pos5*32 + pos6*64 + pos7*128 + pos8*256\n",
    "                            clf.fit(X_train_f_drop_X , y_train_f)\n",
    "                            filePointer = open(csv_name,'a')\n",
    "                            writer = csv.writer(filePointer)\n",
    "                            data = [a, index, pos0, pos1, pos2, pos3, pos4, pos5, pos6, pos7, pos8,  clf.score(X_test_f_drop_X, y_test_f)]\n",
    "                            writer.writerow(data)\n",
    "                            filePointer.close()\n",
    "                            print(data)\n",
    "                            a=a+1\n",
    "                            pos0 = pos1 = pos2 = pos3 = pos4 = pos5 = pos6 = pos7 = pos8 = 1"
   ]
  },
  {
   "cell_type": "code",
   "execution_count": null,
   "metadata": {},
   "outputs": [],
   "source": []
  },
  {
   "cell_type": "code",
   "execution_count": null,
   "metadata": {},
   "outputs": [],
   "source": []
  }
 ],
 "metadata": {
  "kernelspec": {
   "display_name": "Python 3 (ipykernel)",
   "language": "python",
   "name": "python3"
  },
  "language_info": {
   "codemirror_mode": {
    "name": "ipython",
    "version": 3
   },
   "file_extension": ".py",
   "mimetype": "text/x-python",
   "name": "python",
   "nbconvert_exporter": "python",
   "pygments_lexer": "ipython3",
   "version": "3.7.9"
  }
 },
 "nbformat": 4,
 "nbformat_minor": 4
}
