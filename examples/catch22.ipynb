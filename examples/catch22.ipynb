{
 "cells": [
  {
   "cell_type": "markdown",
   "metadata": {},
   "source": [
    "# The Canonical Time-series Characteristics (catch22) transform\n",
    "\n",
    "catch22\\[1\\] is a collection of 22 time series features extracted from the 7000+ present in the _hctsa_ \\[2\\]\\[3\\] toolbox.\n",
    "A hierarchical clustering was performed on the correlation matrix of features that performed better than random chance to remove redundancy.\n",
    "These clusters were sorted by balanced accuracy using a decision tree classifier and a single feature was selected from the 22 clusters formed, taking into account balanced accuracy results, computational efficiency and interpretability.\n",
    "\n",
    "In this notebook, we will demonstrate how to use the catch22 transformer on the ItalyPowerDemand univariate and BasicMotions multivariate datasets. We also show catch22 used for classification with a random forest classifier.\n",
    "\n",
    "#### References:\n",
    "\n",
    "\\[1\\] Lubba, C. H., Sethi, S. S., Knaute, P., Schultz, S. R., Fulcher, B. D., & Jones, N. S. (2019). catch22: CAnonical Time-series CHaracteristics. Data Mining and Knowledge Discovery, 33(6), 1821-1852.\n",
    "\n",
    "\\[2\\] Fulcher, B. D., & Jones, N. S. (2017). hctsa: A computational framework for automated time-series phenotyping using massive feature extraction. Cell systems, 5(5), 527-531.\n",
    "\n",
    "\\[3\\] Fulcher, B. D., Little, M. A., & Jones, N. S. (2013). Highly comparative time-series analysis: the empirical structure of time series and their methods. Journal of the Royal Society Interface, 10(83), 20130048."
   ]
  },
  {
   "cell_type": "markdown",
   "metadata": {},
   "source": [
    "## 1. Imports"
   ]
  },
  {
   "cell_type": "code",
   "execution_count": 1,
   "metadata": {
    "execution": {
     "iopub.execute_input": "2020-12-19T14:30:07.306937Z",
     "iopub.status.busy": "2020-12-19T14:30:07.306390Z",
     "iopub.status.idle": "2020-12-19T14:30:08.036353Z",
     "shell.execute_reply": "2020-12-19T14:30:08.036857Z"
    }
   },
   "outputs": [],
   "source": [
    "from sklearn import metrics\n",
    "\n",
    "from sktime.classification.feature_based import Catch22Classifier\n",
    "from sktime.datasets import load_basic_motions, load_italy_power_demand\n",
    "from sktime.transformations.panel.catch22 import Catch22"
   ]
  },
  {
   "cell_type": "markdown",
   "metadata": {},
   "source": [
    "## 2. Load data"
   ]
  },
  {
   "cell_type": "code",
   "execution_count": 2,
   "metadata": {
    "execution": {
     "iopub.execute_input": "2020-12-19T14:30:08.041533Z",
     "iopub.status.busy": "2020-12-19T14:30:08.041060Z",
     "iopub.status.idle": "2020-12-19T14:30:08.210768Z",
     "shell.execute_reply": "2020-12-19T14:30:08.211258Z"
    }
   },
   "outputs": [
    {
     "name": "stdout",
     "output_type": "stream",
     "text": [
      "(67, 1) (67,) (50, 1) (50,)\n",
      "(40, 6) (40,) (40, 6) (40,)\n"
     ]
    }
   ],
   "source": [
    "IPD_X_train, IPD_y_train = load_italy_power_demand(split=\"train\", return_X_y=True)\n",
    "IPD_X_test, IPD_y_test = load_italy_power_demand(split=\"test\", return_X_y=True)\n",
    "IPD_X_test = IPD_X_test[:50]\n",
    "IPD_y_test = IPD_y_test[:50]\n",
    "\n",
    "print(IPD_X_train.shape, IPD_y_train.shape, IPD_X_test.shape, IPD_y_test.shape)\n",
    "\n",
    "BM_X_train, BM_y_train = load_basic_motions(split=\"train\", return_X_y=True)\n",
    "BM_X_test, BM_y_test = load_basic_motions(split=\"test\", return_X_y=True)\n",
    "\n",
    "print(BM_X_train.shape, BM_y_train.shape, BM_X_test.shape, BM_y_test.shape)"
   ]
  },
  {
   "cell_type": "markdown",
   "metadata": {},
   "source": [
    "## 3. catch22 transform\n",
    "\n",
    "### Univariate\n",
    "\n",
    "The catch22 features are provided in the form of a transformer, `Catch22`.\n",
    "From this the transformed data can be used for a variety of time series analysis tasks."
   ]
  },
  {
   "cell_type": "code",
   "execution_count": 3,
   "metadata": {
    "execution": {
     "iopub.execute_input": "2020-12-19T14:30:08.215545Z",
     "iopub.status.busy": "2020-12-19T14:30:08.215049Z",
     "iopub.status.idle": "2020-12-19T14:30:08.222937Z",
     "shell.execute_reply": "2020-12-19T14:30:08.223422Z"
    }
   },
   "outputs": [
    {
     "data": {
      "text/html": [
       "<style>#sk-421e3c55-19fa-4aea-b145-3c969563f61e {color: black;background-color: white;}#sk-421e3c55-19fa-4aea-b145-3c969563f61e pre{padding: 0;}#sk-421e3c55-19fa-4aea-b145-3c969563f61e div.sk-toggleable {background-color: white;}#sk-421e3c55-19fa-4aea-b145-3c969563f61e label.sk-toggleable__label {cursor: pointer;display: block;width: 100%;margin-bottom: 0;padding: 0.3em;box-sizing: border-box;text-align: center;}#sk-421e3c55-19fa-4aea-b145-3c969563f61e label.sk-toggleable__label-arrow:before {content: \"▸\";float: left;margin-right: 0.25em;color: #696969;}#sk-421e3c55-19fa-4aea-b145-3c969563f61e label.sk-toggleable__label-arrow:hover:before {color: black;}#sk-421e3c55-19fa-4aea-b145-3c969563f61e div.sk-estimator:hover label.sk-toggleable__label-arrow:before {color: black;}#sk-421e3c55-19fa-4aea-b145-3c969563f61e div.sk-toggleable__content {max-height: 0;max-width: 0;overflow: hidden;text-align: left;background-color: #f0f8ff;}#sk-421e3c55-19fa-4aea-b145-3c969563f61e div.sk-toggleable__content pre {margin: 0.2em;color: black;border-radius: 0.25em;background-color: #f0f8ff;}#sk-421e3c55-19fa-4aea-b145-3c969563f61e input.sk-toggleable__control:checked~div.sk-toggleable__content {max-height: 200px;max-width: 100%;overflow: auto;}#sk-421e3c55-19fa-4aea-b145-3c969563f61e input.sk-toggleable__control:checked~label.sk-toggleable__label-arrow:before {content: \"▾\";}#sk-421e3c55-19fa-4aea-b145-3c969563f61e div.sk-estimator input.sk-toggleable__control:checked~label.sk-toggleable__label {background-color: #d4ebff;}#sk-421e3c55-19fa-4aea-b145-3c969563f61e div.sk-label input.sk-toggleable__control:checked~label.sk-toggleable__label {background-color: #d4ebff;}#sk-421e3c55-19fa-4aea-b145-3c969563f61e input.sk-hidden--visually {border: 0;clip: rect(1px 1px 1px 1px);clip: rect(1px, 1px, 1px, 1px);height: 1px;margin: -1px;overflow: hidden;padding: 0;position: absolute;width: 1px;}#sk-421e3c55-19fa-4aea-b145-3c969563f61e div.sk-estimator {font-family: monospace;background-color: #f0f8ff;border: 1px dotted black;border-radius: 0.25em;box-sizing: border-box;margin-bottom: 0.5em;}#sk-421e3c55-19fa-4aea-b145-3c969563f61e div.sk-estimator:hover {background-color: #d4ebff;}#sk-421e3c55-19fa-4aea-b145-3c969563f61e div.sk-parallel-item::after {content: \"\";width: 100%;border-bottom: 1px solid gray;flex-grow: 1;}#sk-421e3c55-19fa-4aea-b145-3c969563f61e div.sk-label:hover label.sk-toggleable__label {background-color: #d4ebff;}#sk-421e3c55-19fa-4aea-b145-3c969563f61e div.sk-serial::before {content: \"\";position: absolute;border-left: 1px solid gray;box-sizing: border-box;top: 2em;bottom: 0;left: 50%;}#sk-421e3c55-19fa-4aea-b145-3c969563f61e div.sk-serial {display: flex;flex-direction: column;align-items: center;background-color: white;padding-right: 0.2em;padding-left: 0.2em;}#sk-421e3c55-19fa-4aea-b145-3c969563f61e div.sk-item {z-index: 1;}#sk-421e3c55-19fa-4aea-b145-3c969563f61e div.sk-parallel {display: flex;align-items: stretch;justify-content: center;background-color: white;}#sk-421e3c55-19fa-4aea-b145-3c969563f61e div.sk-parallel::before {content: \"\";position: absolute;border-left: 1px solid gray;box-sizing: border-box;top: 2em;bottom: 0;left: 50%;}#sk-421e3c55-19fa-4aea-b145-3c969563f61e div.sk-parallel-item {display: flex;flex-direction: column;position: relative;background-color: white;}#sk-421e3c55-19fa-4aea-b145-3c969563f61e div.sk-parallel-item:first-child::after {align-self: flex-end;width: 50%;}#sk-421e3c55-19fa-4aea-b145-3c969563f61e div.sk-parallel-item:last-child::after {align-self: flex-start;width: 50%;}#sk-421e3c55-19fa-4aea-b145-3c969563f61e div.sk-parallel-item:only-child::after {width: 0;}#sk-421e3c55-19fa-4aea-b145-3c969563f61e div.sk-dashed-wrapped {border: 1px dashed gray;margin: 0 0.4em 0.5em 0.4em;box-sizing: border-box;padding-bottom: 0.4em;background-color: white;position: relative;}#sk-421e3c55-19fa-4aea-b145-3c969563f61e div.sk-label label {font-family: monospace;font-weight: bold;background-color: white;display: inline-block;line-height: 1.2em;}#sk-421e3c55-19fa-4aea-b145-3c969563f61e div.sk-label-container {position: relative;z-index: 2;text-align: center;}#sk-421e3c55-19fa-4aea-b145-3c969563f61e div.sk-container {/* jupyter's `normalize.less` sets `[hidden] { display: none; }` but bootstrap.min.css set `[hidden] { display: none !important; }` so we also need the `!important` here to be able to override the default hidden behavior on the sphinx rendered scikit-learn.org. See: https://github.com/scikit-learn/scikit-learn/issues/21755 */display: inline-block !important;position: relative;}#sk-421e3c55-19fa-4aea-b145-3c969563f61e div.sk-text-repr-fallback {display: none;}</style><div id='sk-421e3c55-19fa-4aea-b145-3c969563f61e' class=\"sk-top-container\"><div class=\"sk-text-repr-fallback\"><pre>Catch22()</pre><b>Please rerun this cell to show the HTML repr or trust the notebook.</b></div><div class=\"sk-container\" hidden><div class='sk-item'><div class=\"sk-estimator sk-toggleable\"><input class=\"sk-toggleable__control sk-hidden--visually\" id=UUID('4b2cf00e-c0c9-408b-b2bd-4117c2ef4d24') type=\"checkbox\" checked><label for=UUID('4b2cf00e-c0c9-408b-b2bd-4117c2ef4d24') class='sk-toggleable__label sk-toggleable__label-arrow'>Catch22</label><div class=\"sk-toggleable__content\"><pre>Catch22()</pre></div></div></div></div></div>"
      ],
      "text/plain": [
       "Catch22()"
      ]
     },
     "execution_count": 3,
     "metadata": {},
     "output_type": "execute_result"
    }
   ],
   "source": [
    "c22_uv = Catch22()\n",
    "c22_uv.fit(IPD_X_train, IPD_y_train)"
   ]
  },
  {
   "cell_type": "code",
   "execution_count": 4,
   "metadata": {
    "execution": {
     "iopub.execute_input": "2020-12-19T14:30:08.226714Z",
     "iopub.status.busy": "2020-12-19T14:30:08.226142Z",
     "iopub.status.idle": "2020-12-19T14:30:08.252491Z",
     "shell.execute_reply": "2020-12-19T14:30:08.252970Z"
    },
    "pycharm": {
     "name": "#%%\n"
    }
   },
   "outputs": [
    {
     "name": "stdout",
     "output_type": "stream",
     "text": [
      "         0         1     2         3         4    5     6         7   \\\n",
      "0  1.158630 -0.217227   8.0  0.291667 -0.625000  3.0   6.0  0.468052   \n",
      "1  0.918162 -0.214762  15.0  0.208333 -0.666667  4.0   8.0  0.702775   \n",
      "2 -0.273180 -0.085856   4.0  0.875000  0.250000  2.0   5.0  0.310567   \n",
      "3  0.048411 -0.450080  13.0  0.166667 -0.625000  4.0  10.0  0.804047   \n",
      "4  0.426379  0.572566  16.0  0.291667 -0.666667  4.0   7.0  0.675485   \n",
      "\n",
      "         8         9   ...   12        13   14        15        16        17  \\\n",
      "0  0.589049  0.836755  ...  3.0  1.000000  5.0  1.778748  0.750000  0.240598   \n",
      "1  0.196350  0.666160  ...  4.0  0.869565  5.0  1.730238  0.500000  0.388217   \n",
      "2  0.589049  0.865073  ...  2.0  0.913043  5.0  1.836012  0.666667  0.089104   \n",
      "3  0.196350  0.648309  ...  4.0  0.869565  6.0  1.605420  0.666667  0.332436   \n",
      "4  0.196350  0.657946  ...  4.0  0.913043  6.0  1.730238  0.500000  0.318405   \n",
      "\n",
      "   18  19        20   21  \n",
      "0 NaN NaN  0.040000  0.0  \n",
      "1 NaN NaN  0.111111  0.0  \n",
      "2 NaN NaN  0.034014  0.0  \n",
      "3 NaN NaN  0.111111  0.0  \n",
      "4 NaN NaN  0.111111  0.0  \n",
      "\n",
      "[5 rows x 22 columns]\n"
     ]
    }
   ],
   "source": [
    "transformed_data_uv = c22_uv.transform(IPD_X_train)\n",
    "print(transformed_data_uv.head())"
   ]
  },
  {
   "cell_type": "markdown",
   "metadata": {},
   "source": [
    "### Multivariate\n",
    "\n",
    "Transformation of multivariate data is supported by `Catch22`.\n",
    "The default procedure will concatenate each column prior to transformation."
   ]
  },
  {
   "cell_type": "code",
   "execution_count": 5,
   "metadata": {
    "execution": {
     "iopub.execute_input": "2020-12-19T14:30:08.264541Z",
     "iopub.status.busy": "2020-12-19T14:30:08.264050Z",
     "iopub.status.idle": "2020-12-19T14:30:08.266022Z",
     "shell.execute_reply": "2020-12-19T14:30:08.266517Z"
    },
    "pycharm": {
     "name": "#%%\n"
    }
   },
   "outputs": [
    {
     "data": {
      "text/html": [
       "<style>#sk-176f980d-1269-4add-b12e-9a63cb582041 {color: black;background-color: white;}#sk-176f980d-1269-4add-b12e-9a63cb582041 pre{padding: 0;}#sk-176f980d-1269-4add-b12e-9a63cb582041 div.sk-toggleable {background-color: white;}#sk-176f980d-1269-4add-b12e-9a63cb582041 label.sk-toggleable__label {cursor: pointer;display: block;width: 100%;margin-bottom: 0;padding: 0.3em;box-sizing: border-box;text-align: center;}#sk-176f980d-1269-4add-b12e-9a63cb582041 label.sk-toggleable__label-arrow:before {content: \"▸\";float: left;margin-right: 0.25em;color: #696969;}#sk-176f980d-1269-4add-b12e-9a63cb582041 label.sk-toggleable__label-arrow:hover:before {color: black;}#sk-176f980d-1269-4add-b12e-9a63cb582041 div.sk-estimator:hover label.sk-toggleable__label-arrow:before {color: black;}#sk-176f980d-1269-4add-b12e-9a63cb582041 div.sk-toggleable__content {max-height: 0;max-width: 0;overflow: hidden;text-align: left;background-color: #f0f8ff;}#sk-176f980d-1269-4add-b12e-9a63cb582041 div.sk-toggleable__content pre {margin: 0.2em;color: black;border-radius: 0.25em;background-color: #f0f8ff;}#sk-176f980d-1269-4add-b12e-9a63cb582041 input.sk-toggleable__control:checked~div.sk-toggleable__content {max-height: 200px;max-width: 100%;overflow: auto;}#sk-176f980d-1269-4add-b12e-9a63cb582041 input.sk-toggleable__control:checked~label.sk-toggleable__label-arrow:before {content: \"▾\";}#sk-176f980d-1269-4add-b12e-9a63cb582041 div.sk-estimator input.sk-toggleable__control:checked~label.sk-toggleable__label {background-color: #d4ebff;}#sk-176f980d-1269-4add-b12e-9a63cb582041 div.sk-label input.sk-toggleable__control:checked~label.sk-toggleable__label {background-color: #d4ebff;}#sk-176f980d-1269-4add-b12e-9a63cb582041 input.sk-hidden--visually {border: 0;clip: rect(1px 1px 1px 1px);clip: rect(1px, 1px, 1px, 1px);height: 1px;margin: -1px;overflow: hidden;padding: 0;position: absolute;width: 1px;}#sk-176f980d-1269-4add-b12e-9a63cb582041 div.sk-estimator {font-family: monospace;background-color: #f0f8ff;border: 1px dotted black;border-radius: 0.25em;box-sizing: border-box;margin-bottom: 0.5em;}#sk-176f980d-1269-4add-b12e-9a63cb582041 div.sk-estimator:hover {background-color: #d4ebff;}#sk-176f980d-1269-4add-b12e-9a63cb582041 div.sk-parallel-item::after {content: \"\";width: 100%;border-bottom: 1px solid gray;flex-grow: 1;}#sk-176f980d-1269-4add-b12e-9a63cb582041 div.sk-label:hover label.sk-toggleable__label {background-color: #d4ebff;}#sk-176f980d-1269-4add-b12e-9a63cb582041 div.sk-serial::before {content: \"\";position: absolute;border-left: 1px solid gray;box-sizing: border-box;top: 2em;bottom: 0;left: 50%;}#sk-176f980d-1269-4add-b12e-9a63cb582041 div.sk-serial {display: flex;flex-direction: column;align-items: center;background-color: white;padding-right: 0.2em;padding-left: 0.2em;}#sk-176f980d-1269-4add-b12e-9a63cb582041 div.sk-item {z-index: 1;}#sk-176f980d-1269-4add-b12e-9a63cb582041 div.sk-parallel {display: flex;align-items: stretch;justify-content: center;background-color: white;}#sk-176f980d-1269-4add-b12e-9a63cb582041 div.sk-parallel::before {content: \"\";position: absolute;border-left: 1px solid gray;box-sizing: border-box;top: 2em;bottom: 0;left: 50%;}#sk-176f980d-1269-4add-b12e-9a63cb582041 div.sk-parallel-item {display: flex;flex-direction: column;position: relative;background-color: white;}#sk-176f980d-1269-4add-b12e-9a63cb582041 div.sk-parallel-item:first-child::after {align-self: flex-end;width: 50%;}#sk-176f980d-1269-4add-b12e-9a63cb582041 div.sk-parallel-item:last-child::after {align-self: flex-start;width: 50%;}#sk-176f980d-1269-4add-b12e-9a63cb582041 div.sk-parallel-item:only-child::after {width: 0;}#sk-176f980d-1269-4add-b12e-9a63cb582041 div.sk-dashed-wrapped {border: 1px dashed gray;margin: 0 0.4em 0.5em 0.4em;box-sizing: border-box;padding-bottom: 0.4em;background-color: white;position: relative;}#sk-176f980d-1269-4add-b12e-9a63cb582041 div.sk-label label {font-family: monospace;font-weight: bold;background-color: white;display: inline-block;line-height: 1.2em;}#sk-176f980d-1269-4add-b12e-9a63cb582041 div.sk-label-container {position: relative;z-index: 2;text-align: center;}#sk-176f980d-1269-4add-b12e-9a63cb582041 div.sk-container {/* jupyter's `normalize.less` sets `[hidden] { display: none; }` but bootstrap.min.css set `[hidden] { display: none !important; }` so we also need the `!important` here to be able to override the default hidden behavior on the sphinx rendered scikit-learn.org. See: https://github.com/scikit-learn/scikit-learn/issues/21755 */display: inline-block !important;position: relative;}#sk-176f980d-1269-4add-b12e-9a63cb582041 div.sk-text-repr-fallback {display: none;}</style><div id='sk-176f980d-1269-4add-b12e-9a63cb582041' class=\"sk-top-container\"><div class=\"sk-text-repr-fallback\"><pre>Catch22()</pre><b>Please rerun this cell to show the HTML repr or trust the notebook.</b></div><div class=\"sk-container\" hidden><div class='sk-item'><div class=\"sk-estimator sk-toggleable\"><input class=\"sk-toggleable__control sk-hidden--visually\" id=UUID('8790e0b0-8eba-4191-a3b9-66dd7f79037c') type=\"checkbox\" checked><label for=UUID('8790e0b0-8eba-4191-a3b9-66dd7f79037c') class='sk-toggleable__label sk-toggleable__label-arrow'>Catch22</label><div class=\"sk-toggleable__content\"><pre>Catch22()</pre></div></div></div></div></div>"
      ],
      "text/plain": [
       "Catch22()"
      ]
     },
     "execution_count": 5,
     "metadata": {},
     "output_type": "execute_result"
    }
   ],
   "source": [
    "c22_mv = Catch22()\n",
    "c22_mv.fit(BM_X_train, BM_y_train)"
   ]
  },
  {
   "cell_type": "code",
   "execution_count": 6,
   "metadata": {
    "execution": {
     "iopub.execute_input": "2020-12-19T14:30:08.271483Z",
     "iopub.status.busy": "2020-12-19T14:30:08.270986Z",
     "iopub.status.idle": "2020-12-19T14:30:08.413472Z",
     "shell.execute_reply": "2020-12-19T14:30:08.413974Z"
    },
    "pycharm": {
     "name": "#%%\n"
    }
   },
   "outputs": [
    {
     "name": "stdout",
     "output_type": "stream",
     "text": [
      "        0         1    2      3      4    5    6         7         8    \\\n",
      "0 -0.140988 -0.268073  6.0 -0.890  0.160  2.0  3.0  0.042638  0.736311   \n",
      "1 -0.387256 -0.126246  6.0 -0.920 -0.600  2.0  4.0  0.269591  0.490874   \n",
      "2  0.028412 -0.224988  9.0 -0.335 -0.045  1.0  3.0  0.036650  1.030835   \n",
      "3 -0.147338 -0.199523  8.0 -0.540  0.180  1.0  5.0  0.013833  1.030835   \n",
      "4 -0.217645 -0.252015  7.0 -0.130  0.020  1.0  6.0  0.008072  0.883573   \n",
      "\n",
      "        9    ...  122       123  124       125   126       127       128  \\\n",
      "0  0.314500  ...  2.0  0.707071  7.0  1.907929  1.00  0.658286  0.828571   \n",
      "1  0.614552  ...  2.0  0.727273  6.0  1.875354  0.50  0.206944  0.600000   \n",
      "2  0.352408  ...  2.0  0.818182  7.0  1.789838  0.75  0.791912  0.828571   \n",
      "3  0.212988  ...  2.0  0.717172  6.0  1.904917  1.00  1.191592  0.600000   \n",
      "4  0.150597  ...  2.0  0.707071  7.0  1.880930  1.00  3.141568  0.800000   \n",
      "\n",
      "        129       130   131  \n",
      "0  0.228571  0.012550   9.0  \n",
      "1  0.257143  0.028935   9.0  \n",
      "2  0.228571  0.054977  11.0  \n",
      "3  0.171429  0.015611   9.0  \n",
      "4  0.200000  0.002449  10.0  \n",
      "\n",
      "[5 rows x 132 columns]\n"
     ]
    }
   ],
   "source": [
    "transformed_data_mv = c22_mv.transform(BM_X_train)\n",
    "print(transformed_data_mv.head())"
   ]
  },
  {
   "cell_type": "markdown",
   "metadata": {},
   "source": [
    "## 4. catch22 Forest Classifier\n",
    "\n",
    "For classification tasks the default classifier to use with the catch22 features is random forest classifier.\n",
    "An implementation making use of the `RandomForestClassifier` from sklearn built on catch22 features is provided in the form on the `Catch22Classifier` for ease of use."
   ]
  },
  {
   "cell_type": "code",
   "execution_count": 7,
   "metadata": {
    "execution": {
     "iopub.execute_input": "2020-12-19T14:30:08.431962Z",
     "iopub.status.busy": "2020-12-19T14:30:08.419431Z",
     "iopub.status.idle": "2020-12-19T14:30:08.535295Z",
     "shell.execute_reply": "2020-12-19T14:30:08.535836Z"
    }
   },
   "outputs": [
    {
     "data": {
      "text/html": [
       "<style>#sk-ae134ae2-55cd-4f0b-9afd-a98c68e1bfac {color: black;background-color: white;}#sk-ae134ae2-55cd-4f0b-9afd-a98c68e1bfac pre{padding: 0;}#sk-ae134ae2-55cd-4f0b-9afd-a98c68e1bfac div.sk-toggleable {background-color: white;}#sk-ae134ae2-55cd-4f0b-9afd-a98c68e1bfac label.sk-toggleable__label {cursor: pointer;display: block;width: 100%;margin-bottom: 0;padding: 0.3em;box-sizing: border-box;text-align: center;}#sk-ae134ae2-55cd-4f0b-9afd-a98c68e1bfac label.sk-toggleable__label-arrow:before {content: \"▸\";float: left;margin-right: 0.25em;color: #696969;}#sk-ae134ae2-55cd-4f0b-9afd-a98c68e1bfac label.sk-toggleable__label-arrow:hover:before {color: black;}#sk-ae134ae2-55cd-4f0b-9afd-a98c68e1bfac div.sk-estimator:hover label.sk-toggleable__label-arrow:before {color: black;}#sk-ae134ae2-55cd-4f0b-9afd-a98c68e1bfac div.sk-toggleable__content {max-height: 0;max-width: 0;overflow: hidden;text-align: left;background-color: #f0f8ff;}#sk-ae134ae2-55cd-4f0b-9afd-a98c68e1bfac div.sk-toggleable__content pre {margin: 0.2em;color: black;border-radius: 0.25em;background-color: #f0f8ff;}#sk-ae134ae2-55cd-4f0b-9afd-a98c68e1bfac input.sk-toggleable__control:checked~div.sk-toggleable__content {max-height: 200px;max-width: 100%;overflow: auto;}#sk-ae134ae2-55cd-4f0b-9afd-a98c68e1bfac input.sk-toggleable__control:checked~label.sk-toggleable__label-arrow:before {content: \"▾\";}#sk-ae134ae2-55cd-4f0b-9afd-a98c68e1bfac div.sk-estimator input.sk-toggleable__control:checked~label.sk-toggleable__label {background-color: #d4ebff;}#sk-ae134ae2-55cd-4f0b-9afd-a98c68e1bfac div.sk-label input.sk-toggleable__control:checked~label.sk-toggleable__label {background-color: #d4ebff;}#sk-ae134ae2-55cd-4f0b-9afd-a98c68e1bfac input.sk-hidden--visually {border: 0;clip: rect(1px 1px 1px 1px);clip: rect(1px, 1px, 1px, 1px);height: 1px;margin: -1px;overflow: hidden;padding: 0;position: absolute;width: 1px;}#sk-ae134ae2-55cd-4f0b-9afd-a98c68e1bfac div.sk-estimator {font-family: monospace;background-color: #f0f8ff;border: 1px dotted black;border-radius: 0.25em;box-sizing: border-box;margin-bottom: 0.5em;}#sk-ae134ae2-55cd-4f0b-9afd-a98c68e1bfac div.sk-estimator:hover {background-color: #d4ebff;}#sk-ae134ae2-55cd-4f0b-9afd-a98c68e1bfac div.sk-parallel-item::after {content: \"\";width: 100%;border-bottom: 1px solid gray;flex-grow: 1;}#sk-ae134ae2-55cd-4f0b-9afd-a98c68e1bfac div.sk-label:hover label.sk-toggleable__label {background-color: #d4ebff;}#sk-ae134ae2-55cd-4f0b-9afd-a98c68e1bfac div.sk-serial::before {content: \"\";position: absolute;border-left: 1px solid gray;box-sizing: border-box;top: 2em;bottom: 0;left: 50%;}#sk-ae134ae2-55cd-4f0b-9afd-a98c68e1bfac div.sk-serial {display: flex;flex-direction: column;align-items: center;background-color: white;padding-right: 0.2em;padding-left: 0.2em;}#sk-ae134ae2-55cd-4f0b-9afd-a98c68e1bfac div.sk-item {z-index: 1;}#sk-ae134ae2-55cd-4f0b-9afd-a98c68e1bfac div.sk-parallel {display: flex;align-items: stretch;justify-content: center;background-color: white;}#sk-ae134ae2-55cd-4f0b-9afd-a98c68e1bfac div.sk-parallel::before {content: \"\";position: absolute;border-left: 1px solid gray;box-sizing: border-box;top: 2em;bottom: 0;left: 50%;}#sk-ae134ae2-55cd-4f0b-9afd-a98c68e1bfac div.sk-parallel-item {display: flex;flex-direction: column;position: relative;background-color: white;}#sk-ae134ae2-55cd-4f0b-9afd-a98c68e1bfac div.sk-parallel-item:first-child::after {align-self: flex-end;width: 50%;}#sk-ae134ae2-55cd-4f0b-9afd-a98c68e1bfac div.sk-parallel-item:last-child::after {align-self: flex-start;width: 50%;}#sk-ae134ae2-55cd-4f0b-9afd-a98c68e1bfac div.sk-parallel-item:only-child::after {width: 0;}#sk-ae134ae2-55cd-4f0b-9afd-a98c68e1bfac div.sk-dashed-wrapped {border: 1px dashed gray;margin: 0 0.4em 0.5em 0.4em;box-sizing: border-box;padding-bottom: 0.4em;background-color: white;position: relative;}#sk-ae134ae2-55cd-4f0b-9afd-a98c68e1bfac div.sk-label label {font-family: monospace;font-weight: bold;background-color: white;display: inline-block;line-height: 1.2em;}#sk-ae134ae2-55cd-4f0b-9afd-a98c68e1bfac div.sk-label-container {position: relative;z-index: 2;text-align: center;}#sk-ae134ae2-55cd-4f0b-9afd-a98c68e1bfac div.sk-container {/* jupyter's `normalize.less` sets `[hidden] { display: none; }` but bootstrap.min.css set `[hidden] { display: none !important; }` so we also need the `!important` here to be able to override the default hidden behavior on the sphinx rendered scikit-learn.org. See: https://github.com/scikit-learn/scikit-learn/issues/21755 */display: inline-block !important;position: relative;}#sk-ae134ae2-55cd-4f0b-9afd-a98c68e1bfac div.sk-text-repr-fallback {display: none;}</style><div id='sk-ae134ae2-55cd-4f0b-9afd-a98c68e1bfac' class=\"sk-top-container\"><div class=\"sk-text-repr-fallback\"><pre>Catch22Classifier(random_state=0)</pre><b>Please rerun this cell to show the HTML repr or trust the notebook.</b></div><div class=\"sk-container\" hidden><div class='sk-item'><div class=\"sk-estimator sk-toggleable\"><input class=\"sk-toggleable__control sk-hidden--visually\" id=UUID('ea494f79-5577-45b6-b2e8-231f9f19bcfb') type=\"checkbox\" checked><label for=UUID('ea494f79-5577-45b6-b2e8-231f9f19bcfb') class='sk-toggleable__label sk-toggleable__label-arrow'>Catch22Classifier</label><div class=\"sk-toggleable__content\"><pre>Catch22Classifier(random_state=0)</pre></div></div></div></div></div>"
      ],
      "text/plain": [
       "Catch22Classifier(random_state=0)"
      ]
     },
     "execution_count": 7,
     "metadata": {},
     "output_type": "execute_result"
    }
   ],
   "source": [
    "c22f = Catch22Classifier(random_state=0)\n",
    "c22f.fit(IPD_X_train, IPD_y_train)"
   ]
  },
  {
   "cell_type": "code",
   "execution_count": 8,
   "metadata": {
    "execution": {
     "iopub.execute_input": "2020-12-19T14:30:08.553299Z",
     "iopub.status.busy": "2020-12-19T14:30:08.552508Z",
     "iopub.status.idle": "2020-12-19T14:30:08.561331Z",
     "shell.execute_reply": "2020-12-19T14:30:08.561821Z"
    }
   },
   "outputs": [
    {
     "name": "stdout",
     "output_type": "stream",
     "text": [
      "C22F Accuracy: 0.86\n"
     ]
    }
   ],
   "source": [
    "c22f_preds = c22f.predict(IPD_X_test)\n",
    "print(\"C22F Accuracy: \" + str(metrics.accuracy_score(IPD_y_test, c22f_preds)))"
   ]
  },
  {
   "cell_type": "code",
   "execution_count": null,
   "metadata": {},
   "outputs": [],
   "source": []
  }
 ],
 "metadata": {
  "kernelspec": {
   "display_name": "Python 3",
   "language": "python",
   "name": "python3"
  },
  "language_info": {
   "codemirror_mode": {
    "name": "ipython",
    "version": 3
   },
   "file_extension": ".py",
   "mimetype": "text/x-python",
   "name": "python",
   "nbconvert_exporter": "python",
   "pygments_lexer": "ipython3",
   "version": "3.9.17"
  },
  "toc": {
   "base_numbering": 1,
   "nav_menu": {},
   "number_sections": true,
   "sideBar": true,
   "skip_h1_title": false,
   "title_cell": "Table of Contents",
   "title_sidebar": "Contents",
   "toc_cell": false,
   "toc_position": {},
   "toc_section_display": true,
   "toc_window_display": false
  }
 },
 "nbformat": 4,
 "nbformat_minor": 2
}
