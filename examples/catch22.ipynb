{
 "cells": [
  {
   "cell_type": "markdown",
   "metadata": {},
   "source": [
    "# The Canonical Time-series Characteristics (catch22) transform\n",
    "\n",
    "catch22\\[1\\] is a collection of 22 time series features extracted from the 7000+ present in the _hctsa_ \\[2\\]\\[3\\] toolbox.\n",
    "A hierarchical clustering was performed on the correlation matrix of features that performed better than random chance to remove redundancy.\n",
    "These clusters were sorted by balanced accuracy using a decision tree classifier and a single feature was selected from the 22 clusters formed, taking into account balanced accuracy results, computational efficiency and interpretability.\n",
    "\n",
    "In this notebook, we will demonstrate how to use the catch22 transformer on the ItalyPowerDemand univariate and BasicMotions multivariate datasets. We also show catch22 used for classification with a random forest classifier.\n",
    "\n",
    "#### References:\n",
    "\n",
    "\\[1\\] Lubba, C. H., Sethi, S. S., Knaute, P., Schultz, S. R., Fulcher, B. D., & Jones, N. S. (2019). catch22: CAnonical Time-series CHaracteristics. Data Mining and Knowledge Discovery, 33(6), 1821-1852.\n",
    "\n",
    "\\[2\\] Fulcher, B. D., & Jones, N. S. (2017). hctsa: A computational framework for automated time-series phenotyping using massive feature extraction. Cell systems, 5(5), 527-531.\n",
    "\n",
    "\\[3\\] Fulcher, B. D., Little, M. A., & Jones, N. S. (2013). Highly comparative time-series analysis: the empirical structure of time series and their methods. Journal of the Royal Society Interface, 10(83), 20130048."
   ]
  },
  {
   "cell_type": "markdown",
   "metadata": {},
   "source": [
    "## 1. Imports"
   ]
  },
  {
   "cell_type": "code",
   "execution_count": null,
   "metadata": {
    "execution": {
     "iopub.execute_input": "2020-12-19T14:30:07.306937Z",
     "iopub.status.busy": "2020-12-19T14:30:07.306390Z",
     "iopub.status.idle": "2020-12-19T14:30:08.036353Z",
     "shell.execute_reply": "2020-12-19T14:30:08.036857Z"
    }
   },
   "outputs": [],
   "source": [
    "from sklearn import metrics\n",
    "\n",
    "from sktime.classification.feature_based import Catch22Classifier\n",
    "from sktime.datasets import load_basic_motions, load_italy_power_demand\n",
    "from sktime.transformations.panel.catch22 import Catch22"
   ]
  },
  {
   "cell_type": "markdown",
   "metadata": {},
   "source": [
    "## 2. Load data"
   ]
  },
  {
   "cell_type": "code",
   "execution_count": null,
   "metadata": {
    "execution": {
     "iopub.execute_input": "2020-12-19T14:30:08.041533Z",
     "iopub.status.busy": "2020-12-19T14:30:08.041060Z",
     "iopub.status.idle": "2020-12-19T14:30:08.210768Z",
     "shell.execute_reply": "2020-12-19T14:30:08.211258Z"
    }
   },
   "outputs": [],
   "source": [
    "IPD_X_train, IPD_y_train = load_italy_power_demand(split=\"train\", return_X_y=True)\n",
    "IPD_X_test, IPD_y_test = load_italy_power_demand(split=\"test\", return_X_y=True)\n",
    "IPD_X_test = IPD_X_test[:50]\n",
    "IPD_y_test = IPD_y_test[:50]\n",
    "\n",
    "print(IPD_X_train.shape, IPD_y_train.shape, IPD_X_test.shape, IPD_y_test.shape)\n",
    "\n",
    "BM_X_train, BM_y_train = load_basic_motions(split=\"train\", return_X_y=True)\n",
    "BM_X_test, BM_y_test = load_basic_motions(split=\"test\", return_X_y=True)\n",
    "\n",
    "print(BM_X_train.shape, BM_y_train.shape, BM_X_test.shape, BM_y_test.shape)"
   ]
  },
  {
   "cell_type": "markdown",
   "metadata": {},
   "source": [
    "## 3. catch22 transform\n",
    "\n",
    "### Univariate\n",
    "\n",
    "The catch22 features are provided in the form of a transformer, `Catch22`.\n",
    "From this the transformed data can be used for a variety of time series analysis tasks."
   ]
  },
  {
   "cell_type": "code",
   "execution_count": null,
   "metadata": {
    "execution": {
     "iopub.execute_input": "2020-12-19T14:30:08.215545Z",
     "iopub.status.busy": "2020-12-19T14:30:08.215049Z",
     "iopub.status.idle": "2020-12-19T14:30:08.222937Z",
     "shell.execute_reply": "2020-12-19T14:30:08.223422Z"
    }
   },
   "outputs": [],
   "source": [
    "c22_uv = Catch22()\n",
    "c22_uv.fit(IPD_X_train, IPD_y_train)"
   ]
  },
  {
   "cell_type": "code",
   "execution_count": null,
   "metadata": {
    "execution": {
     "iopub.execute_input": "2020-12-19T14:30:08.226714Z",
     "iopub.status.busy": "2020-12-19T14:30:08.226142Z",
     "iopub.status.idle": "2020-12-19T14:30:08.252491Z",
     "shell.execute_reply": "2020-12-19T14:30:08.252970Z"
    },
    "pycharm": {
     "name": "#%%\n"
    }
   },
   "outputs": [],
   "source": [
    "transformed_data_uv = c22_uv.transform(IPD_X_train)\n",
    "print(transformed_data_uv.head())"
   ]
  },
  {
   "cell_type": "markdown",
   "metadata": {},
   "source": [
    "### Multivariate\n",
    "\n",
    "Transformation of multivariate data is supported by `Catch22`.\n",
    "The default procedure will concatenate each column prior to transformation."
   ]
  },
  {
   "cell_type": "code",
   "execution_count": null,
   "metadata": {
    "execution": {
     "iopub.execute_input": "2020-12-19T14:30:08.264541Z",
     "iopub.status.busy": "2020-12-19T14:30:08.264050Z",
     "iopub.status.idle": "2020-12-19T14:30:08.266022Z",
     "shell.execute_reply": "2020-12-19T14:30:08.266517Z"
    },
    "pycharm": {
     "name": "#%%\n"
    }
   },
   "outputs": [],
   "source": [
    "c22_mv = Catch22()\n",
    "c22_mv.fit(BM_X_train, BM_y_train)"
   ]
  },
  {
   "cell_type": "code",
   "execution_count": null,
   "metadata": {
    "execution": {
     "iopub.execute_input": "2020-12-19T14:30:08.271483Z",
     "iopub.status.busy": "2020-12-19T14:30:08.270986Z",
     "iopub.status.idle": "2020-12-19T14:30:08.413472Z",
     "shell.execute_reply": "2020-12-19T14:30:08.413974Z"
    },
    "pycharm": {
     "name": "#%%\n"
    }
   },
   "outputs": [],
   "source": [
    "transformed_data_mv = c22_mv.transform(BM_X_train)\n",
    "print(transformed_data_mv.head())"
   ]
  },
  {
   "cell_type": "markdown",
   "metadata": {},
   "source": [
    "## 4. catch22 Forest Classifier\n",
    "\n",
    "For classification tasks the default classifier to use with the catch22 features is random forest classifier.\n",
    "An implementation making use of the `RandomForestClassifier` from sklearn built on catch22 features is provided in the form on the `Catch22Classifier` for ease of use."
   ]
  },
  {
   "cell_type": "code",
   "execution_count": null,
   "metadata": {
    "execution": {
     "iopub.execute_input": "2020-12-19T14:30:08.431962Z",
     "iopub.status.busy": "2020-12-19T14:30:08.419431Z",
     "iopub.status.idle": "2020-12-19T14:30:08.535295Z",
     "shell.execute_reply": "2020-12-19T14:30:08.535836Z"
    }
   },
   "outputs": [],
   "source": [
    "c22f = Catch22Classifier(random_state=0)\n",
    "c22f.fit(IPD_X_train, IPD_y_train)"
   ]
  },
  {
   "cell_type": "code",
   "execution_count": null,
   "metadata": {
    "execution": {
     "iopub.execute_input": "2020-12-19T14:30:08.553299Z",
     "iopub.status.busy": "2020-12-19T14:30:08.552508Z",
     "iopub.status.idle": "2020-12-19T14:30:08.561331Z",
     "shell.execute_reply": "2020-12-19T14:30:08.561821Z"
    }
   },
   "outputs": [],
   "source": [
    "c22f_preds = c22f.predict(IPD_X_test)\n",
    "print(\"C22F Accuracy: \" + str(metrics.accuracy_score(IPD_y_test, c22f_preds)))"
   ]
  }
 ],
 "metadata": {
  "kernelspec": {
   "display_name": "Python 3",
   "language": "python",
   "name": "python3"
  },
  "language_info": {
   "codemirror_mode": {
    "name": "ipython",
    "version": 3
   },
   "file_extension": ".py",
   "mimetype": "text/x-python",
   "name": "python",
   "nbconvert_exporter": "python",
   "pygments_lexer": "ipython3",
   "version": "3.8.10"
  },
  "toc": {
   "base_numbering": 1,
   "nav_menu": {},
   "number_sections": true,
   "sideBar": true,
   "skip_h1_title": false,
   "title_cell": "Table of Contents",
   "title_sidebar": "Contents",
   "toc_cell": false,
   "toc_position": {},
   "toc_section_display": true,
   "toc_window_display": false
  }
 },
 "nbformat": 4,
 "nbformat_minor": 2
}
