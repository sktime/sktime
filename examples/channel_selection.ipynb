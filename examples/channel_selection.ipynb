{
 "cells": [
  {
   "cell_type": "markdown",
   "id": "b45cbeda-65bc-4b10-9f9c-9afd43a54d20",
   "metadata": {},
   "source": [
    "# Channel Selection in Multivariate Time Series Classification \n"
   ]
  },
  {
   "cell_type": "markdown",
   "id": "08decb5b-8dfb-4666-a66b-3a2349960956",
   "metadata": {},
   "source": [
    "## Overview"
   ]
  },
  {
   "cell_type": "markdown",
   "id": "da743484-17d3-4cec-8eaa-8d8293ce6f35",
   "metadata": {},
   "source": [
    "Sometimes every channel is not required to perform classification; only a few are useful.  The [1] proposed a fast channel selection technique for Multivariate Time Classification. "
   ]
  },
  {
   "cell_type": "markdown",
   "id": "dcbe2174-a691-4093-ab80-d796edb5121d",
   "metadata": {},
   "source": [
    "[1] : Fast Channel Selection for Scalable Multivariate Time Series Classification [Link](https://www.researchgate.net/publication/354445008_Fast_Channel_Selection_for_Scalable_Multivariate_Time_Series_Classification)"
   ]
  },
  {
   "cell_type": "code",
   "execution_count": 25,
   "id": "19e8f374",
   "metadata": {},
   "outputs": [],
   "source": [
    "import warnings\n",
    "\n",
    "warnings.filterwarnings(\"ignore\")"
   ]
  },
  {
   "cell_type": "code",
   "execution_count": 26,
   "id": "d1779970-eefb-4577-9c4e-e0a19ceadcc1",
   "metadata": {},
   "outputs": [],
   "source": [
    "from sklearn.linear_model import RidgeClassifierCV\n",
    "from sklearn.pipeline import make_pipeline\n",
    "\n",
    "from sktime.datasets import load_UCR_UEA_dataset\n",
    "from sktime.transformations.panel import channel_selection\n",
    "from sktime.transformations.panel.rocket import Rocket"
   ]
  },
  {
   "cell_type": "markdown",
   "id": "0437ca7a-5b5a-4e28-b565-0b2df4eac60d",
   "metadata": {},
   "source": [
    "# 1 Initialise the Pipeline"
   ]
  },
  {
   "cell_type": "code",
   "execution_count": 27,
   "id": "830137a3-10c3-49b9-9a98-7062dc7ab1d8",
   "metadata": {},
   "outputs": [],
   "source": [
    "# cs = channel_selection.ElbowClassSum()  # ECS\n",
    "cs = channel_selection.ElbowClassPairwise(class_prototype=\"mad\")  # ECP"
   ]
  },
  {
   "cell_type": "code",
   "execution_count": 28,
   "id": "89443793-7cf0-4a4c-a4b1-d928a46a1bb2",
   "metadata": {},
   "outputs": [],
   "source": [
    "rocket_pipeline = make_pipeline(cs, Rocket(), RidgeClassifierCV())"
   ]
  },
  {
   "cell_type": "markdown",
   "id": "5a268cc1-d5bf-4b02-916b-f3417c1cd3ff",
   "metadata": {},
   "source": [
    "# 2 Load and Fit the Training Data"
   ]
  },
  {
   "cell_type": "code",
   "execution_count": 29,
   "id": "68f508e3-ecc9-4b3a-b4de-7073cd1dfb90",
   "metadata": {},
   "outputs": [],
   "source": [
    "data = \"BasicMotions\"\n",
    "X_train, y_train = load_UCR_UEA_dataset(data, split=\"train\", return_X_y=True)\n",
    "X_test, y_test = load_UCR_UEA_dataset(data, split=\"test\", return_X_y=True)"
   ]
  },
  {
   "cell_type": "code",
   "execution_count": 30,
   "id": "f53ef24d",
   "metadata": {},
   "outputs": [
    {
     "data": {
      "text/plain": [
       "((40, 6), (40, 6))"
      ]
     },
     "execution_count": 30,
     "metadata": {},
     "output_type": "execute_result"
    }
   ],
   "source": [
    "X_train.shape, X_test.shape"
   ]
  },
  {
   "cell_type": "code",
   "execution_count": 31,
   "id": "94f421bc-e384-4b98-89af-111a4d8c378b",
   "metadata": {},
   "outputs": [
    {
     "data": {
      "text/html": [
       "<style>#sk-container-id-5 {color: black;background-color: white;}#sk-container-id-5 pre{padding: 0;}#sk-container-id-5 div.sk-toggleable {background-color: white;}#sk-container-id-5 label.sk-toggleable__label {cursor: pointer;display: block;width: 100%;margin-bottom: 0;padding: 0.3em;box-sizing: border-box;text-align: center;}#sk-container-id-5 label.sk-toggleable__label-arrow:before {content: \"▸\";float: left;margin-right: 0.25em;color: #696969;}#sk-container-id-5 label.sk-toggleable__label-arrow:hover:before {color: black;}#sk-container-id-5 div.sk-estimator:hover label.sk-toggleable__label-arrow:before {color: black;}#sk-container-id-5 div.sk-toggleable__content {max-height: 0;max-width: 0;overflow: hidden;text-align: left;background-color: #f0f8ff;}#sk-container-id-5 div.sk-toggleable__content pre {margin: 0.2em;color: black;border-radius: 0.25em;background-color: #f0f8ff;}#sk-container-id-5 input.sk-toggleable__control:checked~div.sk-toggleable__content {max-height: 200px;max-width: 100%;overflow: auto;}#sk-container-id-5 input.sk-toggleable__control:checked~label.sk-toggleable__label-arrow:before {content: \"▾\";}#sk-container-id-5 div.sk-estimator input.sk-toggleable__control:checked~label.sk-toggleable__label {background-color: #d4ebff;}#sk-container-id-5 div.sk-label input.sk-toggleable__control:checked~label.sk-toggleable__label {background-color: #d4ebff;}#sk-container-id-5 input.sk-hidden--visually {border: 0;clip: rect(1px 1px 1px 1px);clip: rect(1px, 1px, 1px, 1px);height: 1px;margin: -1px;overflow: hidden;padding: 0;position: absolute;width: 1px;}#sk-container-id-5 div.sk-estimator {font-family: monospace;background-color: #f0f8ff;border: 1px dotted black;border-radius: 0.25em;box-sizing: border-box;margin-bottom: 0.5em;}#sk-container-id-5 div.sk-estimator:hover {background-color: #d4ebff;}#sk-container-id-5 div.sk-parallel-item::after {content: \"\";width: 100%;border-bottom: 1px solid gray;flex-grow: 1;}#sk-container-id-5 div.sk-label:hover label.sk-toggleable__label {background-color: #d4ebff;}#sk-container-id-5 div.sk-serial::before {content: \"\";position: absolute;border-left: 1px solid gray;box-sizing: border-box;top: 0;bottom: 0;left: 50%;z-index: 0;}#sk-container-id-5 div.sk-serial {display: flex;flex-direction: column;align-items: center;background-color: white;padding-right: 0.2em;padding-left: 0.2em;position: relative;}#sk-container-id-5 div.sk-item {position: relative;z-index: 1;}#sk-container-id-5 div.sk-parallel {display: flex;align-items: stretch;justify-content: center;background-color: white;position: relative;}#sk-container-id-5 div.sk-item::before, #sk-container-id-5 div.sk-parallel-item::before {content: \"\";position: absolute;border-left: 1px solid gray;box-sizing: border-box;top: 0;bottom: 0;left: 50%;z-index: -1;}#sk-container-id-5 div.sk-parallel-item {display: flex;flex-direction: column;z-index: 1;position: relative;background-color: white;}#sk-container-id-5 div.sk-parallel-item:first-child::after {align-self: flex-end;width: 50%;}#sk-container-id-5 div.sk-parallel-item:last-child::after {align-self: flex-start;width: 50%;}#sk-container-id-5 div.sk-parallel-item:only-child::after {width: 0;}#sk-container-id-5 div.sk-dashed-wrapped {border: 1px dashed gray;margin: 0 0.4em 0.5em 0.4em;box-sizing: border-box;padding-bottom: 0.4em;background-color: white;}#sk-container-id-5 div.sk-label label {font-family: monospace;font-weight: bold;display: inline-block;line-height: 1.2em;}#sk-container-id-5 div.sk-label-container {text-align: center;}#sk-container-id-5 div.sk-container {/* jupyter's `normalize.less` sets `[hidden] { display: none; }` but bootstrap.min.css set `[hidden] { display: none !important; }` so we also need the `!important` here to be able to override the default hidden behavior on the sphinx rendered scikit-learn.org. See: https://github.com/scikit-learn/scikit-learn/issues/21755 */display: inline-block !important;position: relative;}#sk-container-id-5 div.sk-text-repr-fallback {display: none;}</style><div id=\"sk-container-id-5\" class=\"sk-top-container\"><div class=\"sk-text-repr-fallback\"><pre>Pipeline(steps=[(&#x27;elbowclasspairwise&#x27;, ElbowClassPairwise()),\n",
       "                (&#x27;rocket&#x27;, Rocket()),\n",
       "                (&#x27;ridgeclassifiercv&#x27;, RidgeClassifierCV())])</pre><b>In a Jupyter environment, please rerun this cell to show the HTML representation or trust the notebook. <br />On GitHub, the HTML representation is unable to render, please try loading this page with nbviewer.org.</b></div><div class=\"sk-container\" hidden><div class=\"sk-item sk-dashed-wrapped\"><div class=\"sk-label-container\"><div class=\"sk-label sk-toggleable\"><input class=\"sk-toggleable__control sk-hidden--visually\" id=\"sk-estimator-id-11\" type=\"checkbox\" ><label for=\"sk-estimator-id-11\" class=\"sk-toggleable__label sk-toggleable__label-arrow\">Pipeline</label><div class=\"sk-toggleable__content\"><pre>Pipeline(steps=[(&#x27;elbowclasspairwise&#x27;, ElbowClassPairwise()),\n",
       "                (&#x27;rocket&#x27;, Rocket()),\n",
       "                (&#x27;ridgeclassifiercv&#x27;, RidgeClassifierCV())])</pre></div></div></div><div class=\"sk-serial\"><div class=\"sk-item\"><div class=\"sk-estimator sk-toggleable\"><input class=\"sk-toggleable__control sk-hidden--visually\" id=\"sk-estimator-id-12\" type=\"checkbox\" ><label for=\"sk-estimator-id-12\" class=\"sk-toggleable__label sk-toggleable__label-arrow\">ElbowClassPairwise</label><div class=\"sk-toggleable__content\"><pre>ElbowClassPairwise()</pre></div></div></div><div class=\"sk-item\"><div class=\"sk-estimator sk-toggleable\"><input class=\"sk-toggleable__control sk-hidden--visually\" id=\"sk-estimator-id-13\" type=\"checkbox\" ><label for=\"sk-estimator-id-13\" class=\"sk-toggleable__label sk-toggleable__label-arrow\">Rocket</label><div class=\"sk-toggleable__content\"><pre>Rocket()</pre></div></div></div><div class=\"sk-item\"><div class=\"sk-estimator sk-toggleable\"><input class=\"sk-toggleable__control sk-hidden--visually\" id=\"sk-estimator-id-14\" type=\"checkbox\" ><label for=\"sk-estimator-id-14\" class=\"sk-toggleable__label sk-toggleable__label-arrow\">RidgeClassifierCV</label><div class=\"sk-toggleable__content\"><pre>RidgeClassifierCV()</pre></div></div></div></div></div></div></div>"
      ],
      "text/plain": [
       "Pipeline(steps=[('elbowclasspairwise', ElbowClassPairwise()),\n",
       "                ('rocket', Rocket()),\n",
       "                ('ridgeclassifiercv', RidgeClassifierCV())])"
      ]
     },
     "execution_count": 31,
     "metadata": {},
     "output_type": "execute_result"
    }
   ],
   "source": [
    "rocket_pipeline.fit(X_train, y_train)"
   ]
  },
  {
   "cell_type": "markdown",
   "id": "0c867fdb-5126-44f6-b7f0-f999d3f60457",
   "metadata": {},
   "source": [
    "# 3 Classify the Test Data"
   ]
  },
  {
   "cell_type": "code",
   "execution_count": 32,
   "id": "04573f4d-0b61-4ab8-8355-79f0aa1ca04f",
   "metadata": {},
   "outputs": [
    {
     "data": {
      "text/plain": [
       "1.0"
      ]
     },
     "execution_count": 32,
     "metadata": {},
     "output_type": "execute_result"
    }
   ],
   "source": [
    "rocket_pipeline.score(X_test, y_test)"
   ]
  },
  {
   "cell_type": "markdown",
   "id": "d18ac8bc-a83a-4dd7-b577-aefc25d7bed6",
   "metadata": {},
   "source": [
    "# 4 Identify channels"
   ]
  },
  {
   "cell_type": "code",
   "execution_count": 33,
   "id": "35a44d68-7bce-44b0-baf3-e4f11606001c",
   "metadata": {},
   "outputs": [
    {
     "data": {
      "text/plain": [
       "[0, 1]"
      ]
     },
     "execution_count": 33,
     "metadata": {},
     "output_type": "execute_result"
    }
   ],
   "source": [
    "rocket_pipeline.steps[0][1].channels_selected_idx"
   ]
  },
  {
   "cell_type": "code",
   "execution_count": 34,
   "id": "358ab28f-edbe-49f4-95f5-8a7d0fb5d166",
   "metadata": {},
   "outputs": [
    {
     "data": {
      "text/html": [
       "<div>\n",
       "<style scoped>\n",
       "    .dataframe tbody tr th:only-of-type {\n",
       "        vertical-align: middle;\n",
       "    }\n",
       "\n",
       "    .dataframe tbody tr th {\n",
       "        vertical-align: top;\n",
       "    }\n",
       "\n",
       "    .dataframe thead th {\n",
       "        text-align: right;\n",
       "    }\n",
       "</style>\n",
       "<table border=\"1\" class=\"dataframe\">\n",
       "  <thead>\n",
       "    <tr style=\"text-align: right;\">\n",
       "      <th></th>\n",
       "      <th>Centroid_badminton_running</th>\n",
       "      <th>Centroid_badminton_standing</th>\n",
       "      <th>Centroid_badminton_walking</th>\n",
       "      <th>Centroid_running_standing</th>\n",
       "      <th>Centroid_running_walking</th>\n",
       "      <th>Centroid_standing_walking</th>\n",
       "    </tr>\n",
       "  </thead>\n",
       "  <tbody>\n",
       "    <tr>\n",
       "      <th>0</th>\n",
       "      <td>72.883920</td>\n",
       "      <td>37.486167</td>\n",
       "      <td>32.843063</td>\n",
       "      <td>95.139594</td>\n",
       "      <td>89.360656</td>\n",
       "      <td>9.786164</td>\n",
       "    </tr>\n",
       "    <tr>\n",
       "      <th>1</th>\n",
       "      <td>82.974076</td>\n",
       "      <td>19.586588</td>\n",
       "      <td>28.068407</td>\n",
       "      <td>87.661718</td>\n",
       "      <td>89.326726</td>\n",
       "      <td>21.778564</td>\n",
       "    </tr>\n",
       "    <tr>\n",
       "      <th>2</th>\n",
       "      <td>21.381712</td>\n",
       "      <td>18.196532</td>\n",
       "      <td>17.131596</td>\n",
       "      <td>26.885354</td>\n",
       "      <td>24.524588</td>\n",
       "      <td>4.834320</td>\n",
       "    </tr>\n",
       "    <tr>\n",
       "      <th>3</th>\n",
       "      <td>11.289843</td>\n",
       "      <td>9.402970</td>\n",
       "      <td>9.932407</td>\n",
       "      <td>7.750558</td>\n",
       "      <td>8.613671</td>\n",
       "      <td>3.744539</td>\n",
       "    </tr>\n",
       "    <tr>\n",
       "      <th>4</th>\n",
       "      <td>8.140510</td>\n",
       "      <td>6.623146</td>\n",
       "      <td>6.877631</td>\n",
       "      <td>6.112858</td>\n",
       "      <td>6.304372</td>\n",
       "      <td>1.546983</td>\n",
       "    </tr>\n",
       "    <tr>\n",
       "      <th>5</th>\n",
       "      <td>29.041896</td>\n",
       "      <td>9.025905</td>\n",
       "      <td>12.876751</td>\n",
       "      <td>27.785727</td>\n",
       "      <td>28.527294</td>\n",
       "      <td>9.650223</td>\n",
       "    </tr>\n",
       "  </tbody>\n",
       "</table>\n",
       "</div>"
      ],
      "text/plain": [
       "   Centroid_badminton_running  Centroid_badminton_standing  \\\n",
       "0                   72.883920                    37.486167   \n",
       "1                   82.974076                    19.586588   \n",
       "2                   21.381712                    18.196532   \n",
       "3                   11.289843                     9.402970   \n",
       "4                    8.140510                     6.623146   \n",
       "5                   29.041896                     9.025905   \n",
       "\n",
       "   Centroid_badminton_walking  Centroid_running_standing  \\\n",
       "0                   32.843063                  95.139594   \n",
       "1                   28.068407                  87.661718   \n",
       "2                   17.131596                  26.885354   \n",
       "3                    9.932407                   7.750558   \n",
       "4                    6.877631                   6.112858   \n",
       "5                   12.876751                  27.785727   \n",
       "\n",
       "   Centroid_running_walking  Centroid_standing_walking  \n",
       "0                 89.360656                   9.786164  \n",
       "1                 89.326726                  21.778564  \n",
       "2                 24.524588                   4.834320  \n",
       "3                  8.613671                   3.744539  \n",
       "4                  6.304372                   1.546983  \n",
       "5                 28.527294                   9.650223  "
      ]
     },
     "execution_count": 34,
     "metadata": {},
     "output_type": "execute_result"
    }
   ],
   "source": [
    "rocket_pipeline.steps[0][1].distance_frame"
   ]
  },
  {
   "cell_type": "markdown",
   "id": "c75f99ea-3966-483b-9f08-89e3f0dbffeb",
   "metadata": {},
   "source": [
    "# 5 Standalone"
   ]
  },
  {
   "cell_type": "code",
   "execution_count": 35,
   "id": "82607728-1095-4f15-a06e-d2463bb5c642",
   "metadata": {},
   "outputs": [
    {
     "data": {
      "text/html": [
       "<style>#sk-container-id-6 {color: black;background-color: white;}#sk-container-id-6 pre{padding: 0;}#sk-container-id-6 div.sk-toggleable {background-color: white;}#sk-container-id-6 label.sk-toggleable__label {cursor: pointer;display: block;width: 100%;margin-bottom: 0;padding: 0.3em;box-sizing: border-box;text-align: center;}#sk-container-id-6 label.sk-toggleable__label-arrow:before {content: \"▸\";float: left;margin-right: 0.25em;color: #696969;}#sk-container-id-6 label.sk-toggleable__label-arrow:hover:before {color: black;}#sk-container-id-6 div.sk-estimator:hover label.sk-toggleable__label-arrow:before {color: black;}#sk-container-id-6 div.sk-toggleable__content {max-height: 0;max-width: 0;overflow: hidden;text-align: left;background-color: #f0f8ff;}#sk-container-id-6 div.sk-toggleable__content pre {margin: 0.2em;color: black;border-radius: 0.25em;background-color: #f0f8ff;}#sk-container-id-6 input.sk-toggleable__control:checked~div.sk-toggleable__content {max-height: 200px;max-width: 100%;overflow: auto;}#sk-container-id-6 input.sk-toggleable__control:checked~label.sk-toggleable__label-arrow:before {content: \"▾\";}#sk-container-id-6 div.sk-estimator input.sk-toggleable__control:checked~label.sk-toggleable__label {background-color: #d4ebff;}#sk-container-id-6 div.sk-label input.sk-toggleable__control:checked~label.sk-toggleable__label {background-color: #d4ebff;}#sk-container-id-6 input.sk-hidden--visually {border: 0;clip: rect(1px 1px 1px 1px);clip: rect(1px, 1px, 1px, 1px);height: 1px;margin: -1px;overflow: hidden;padding: 0;position: absolute;width: 1px;}#sk-container-id-6 div.sk-estimator {font-family: monospace;background-color: #f0f8ff;border: 1px dotted black;border-radius: 0.25em;box-sizing: border-box;margin-bottom: 0.5em;}#sk-container-id-6 div.sk-estimator:hover {background-color: #d4ebff;}#sk-container-id-6 div.sk-parallel-item::after {content: \"\";width: 100%;border-bottom: 1px solid gray;flex-grow: 1;}#sk-container-id-6 div.sk-label:hover label.sk-toggleable__label {background-color: #d4ebff;}#sk-container-id-6 div.sk-serial::before {content: \"\";position: absolute;border-left: 1px solid gray;box-sizing: border-box;top: 0;bottom: 0;left: 50%;z-index: 0;}#sk-container-id-6 div.sk-serial {display: flex;flex-direction: column;align-items: center;background-color: white;padding-right: 0.2em;padding-left: 0.2em;position: relative;}#sk-container-id-6 div.sk-item {position: relative;z-index: 1;}#sk-container-id-6 div.sk-parallel {display: flex;align-items: stretch;justify-content: center;background-color: white;position: relative;}#sk-container-id-6 div.sk-item::before, #sk-container-id-6 div.sk-parallel-item::before {content: \"\";position: absolute;border-left: 1px solid gray;box-sizing: border-box;top: 0;bottom: 0;left: 50%;z-index: -1;}#sk-container-id-6 div.sk-parallel-item {display: flex;flex-direction: column;z-index: 1;position: relative;background-color: white;}#sk-container-id-6 div.sk-parallel-item:first-child::after {align-self: flex-end;width: 50%;}#sk-container-id-6 div.sk-parallel-item:last-child::after {align-self: flex-start;width: 50%;}#sk-container-id-6 div.sk-parallel-item:only-child::after {width: 0;}#sk-container-id-6 div.sk-dashed-wrapped {border: 1px dashed gray;margin: 0 0.4em 0.5em 0.4em;box-sizing: border-box;padding-bottom: 0.4em;background-color: white;}#sk-container-id-6 div.sk-label label {font-family: monospace;font-weight: bold;display: inline-block;line-height: 1.2em;}#sk-container-id-6 div.sk-label-container {text-align: center;}#sk-container-id-6 div.sk-container {/* jupyter's `normalize.less` sets `[hidden] { display: none; }` but bootstrap.min.css set `[hidden] { display: none !important; }` so we also need the `!important` here to be able to override the default hidden behavior on the sphinx rendered scikit-learn.org. See: https://github.com/scikit-learn/scikit-learn/issues/21755 */display: inline-block !important;position: relative;}#sk-container-id-6 div.sk-text-repr-fallback {display: none;}</style><div id=\"sk-container-id-6\" class=\"sk-top-container\"><div class=\"sk-text-repr-fallback\"><pre>ElbowClassPairwise()</pre><b>In a Jupyter environment, please rerun this cell to show the HTML representation or trust the notebook. <br />On GitHub, the HTML representation is unable to render, please try loading this page with nbviewer.org.</b></div><div class=\"sk-container\" hidden><div class=\"sk-item\"><div class=\"sk-estimator sk-toggleable\"><input class=\"sk-toggleable__control sk-hidden--visually\" id=\"sk-estimator-id-15\" type=\"checkbox\" checked><label for=\"sk-estimator-id-15\" class=\"sk-toggleable__label sk-toggleable__label-arrow\">ElbowClassPairwise</label><div class=\"sk-toggleable__content\"><pre>ElbowClassPairwise()</pre></div></div></div></div></div>"
      ],
      "text/plain": [
       "ElbowClassPairwise()"
      ]
     },
     "execution_count": 35,
     "metadata": {},
     "output_type": "execute_result"
    }
   ],
   "source": [
    "cs.fit(X_train, y_train)"
   ]
  },
  {
   "cell_type": "markdown",
   "id": "a1f3ec36-ce86-4388-b7b5-b3b2a087b43a",
   "metadata": {},
   "source": [
    "# 6 Distance Matrix"
   ]
  },
  {
   "cell_type": "code",
   "execution_count": 36,
   "id": "f4a19774-368e-43d4-a45a-d8109ae2d17f",
   "metadata": {},
   "outputs": [
    {
     "data": {
      "text/html": [
       "<div>\n",
       "<style scoped>\n",
       "    .dataframe tbody tr th:only-of-type {\n",
       "        vertical-align: middle;\n",
       "    }\n",
       "\n",
       "    .dataframe tbody tr th {\n",
       "        vertical-align: top;\n",
       "    }\n",
       "\n",
       "    .dataframe thead th {\n",
       "        text-align: right;\n",
       "    }\n",
       "</style>\n",
       "<table border=\"1\" class=\"dataframe\">\n",
       "  <thead>\n",
       "    <tr style=\"text-align: right;\">\n",
       "      <th></th>\n",
       "      <th>Centroid_badminton_running</th>\n",
       "      <th>Centroid_badminton_standing</th>\n",
       "      <th>Centroid_badminton_walking</th>\n",
       "      <th>Centroid_running_standing</th>\n",
       "      <th>Centroid_running_walking</th>\n",
       "      <th>Centroid_standing_walking</th>\n",
       "    </tr>\n",
       "  </thead>\n",
       "  <tbody>\n",
       "    <tr>\n",
       "      <th>0</th>\n",
       "      <td>72.883920</td>\n",
       "      <td>37.486167</td>\n",
       "      <td>32.843063</td>\n",
       "      <td>95.139594</td>\n",
       "      <td>89.360656</td>\n",
       "      <td>9.786164</td>\n",
       "    </tr>\n",
       "    <tr>\n",
       "      <th>1</th>\n",
       "      <td>82.974076</td>\n",
       "      <td>19.586588</td>\n",
       "      <td>28.068407</td>\n",
       "      <td>87.661718</td>\n",
       "      <td>89.326726</td>\n",
       "      <td>21.778564</td>\n",
       "    </tr>\n",
       "    <tr>\n",
       "      <th>2</th>\n",
       "      <td>21.381712</td>\n",
       "      <td>18.196532</td>\n",
       "      <td>17.131596</td>\n",
       "      <td>26.885354</td>\n",
       "      <td>24.524588</td>\n",
       "      <td>4.834320</td>\n",
       "    </tr>\n",
       "    <tr>\n",
       "      <th>3</th>\n",
       "      <td>11.289843</td>\n",
       "      <td>9.402970</td>\n",
       "      <td>9.932407</td>\n",
       "      <td>7.750558</td>\n",
       "      <td>8.613671</td>\n",
       "      <td>3.744539</td>\n",
       "    </tr>\n",
       "    <tr>\n",
       "      <th>4</th>\n",
       "      <td>8.140510</td>\n",
       "      <td>6.623146</td>\n",
       "      <td>6.877631</td>\n",
       "      <td>6.112858</td>\n",
       "      <td>6.304372</td>\n",
       "      <td>1.546983</td>\n",
       "    </tr>\n",
       "    <tr>\n",
       "      <th>5</th>\n",
       "      <td>29.041896</td>\n",
       "      <td>9.025905</td>\n",
       "      <td>12.876751</td>\n",
       "      <td>27.785727</td>\n",
       "      <td>28.527294</td>\n",
       "      <td>9.650223</td>\n",
       "    </tr>\n",
       "  </tbody>\n",
       "</table>\n",
       "</div>"
      ],
      "text/plain": [
       "   Centroid_badminton_running  Centroid_badminton_standing  \\\n",
       "0                   72.883920                    37.486167   \n",
       "1                   82.974076                    19.586588   \n",
       "2                   21.381712                    18.196532   \n",
       "3                   11.289843                     9.402970   \n",
       "4                    8.140510                     6.623146   \n",
       "5                   29.041896                     9.025905   \n",
       "\n",
       "   Centroid_badminton_walking  Centroid_running_standing  \\\n",
       "0                   32.843063                  95.139594   \n",
       "1                   28.068407                  87.661718   \n",
       "2                   17.131596                  26.885354   \n",
       "3                    9.932407                   7.750558   \n",
       "4                    6.877631                   6.112858   \n",
       "5                   12.876751                  27.785727   \n",
       "\n",
       "   Centroid_running_walking  Centroid_standing_walking  \n",
       "0                 89.360656                   9.786164  \n",
       "1                 89.326726                  21.778564  \n",
       "2                 24.524588                   4.834320  \n",
       "3                  8.613671                   3.744539  \n",
       "4                  6.304372                   1.546983  \n",
       "5                 28.527294                   9.650223  "
      ]
     },
     "execution_count": 36,
     "metadata": {},
     "output_type": "execute_result"
    }
   ],
   "source": [
    "cs.distance_frame"
   ]
  },
  {
   "cell_type": "code",
   "execution_count": 37,
   "id": "32f099cd",
   "metadata": {},
   "outputs": [
    {
     "data": {
      "text/plain": [
       "[0, 1]"
      ]
     },
     "execution_count": 37,
     "metadata": {},
     "output_type": "execute_result"
    }
   ],
   "source": [
    "cs.rank"
   ]
  },
  {
   "cell_type": "code",
   "execution_count": null,
   "id": "03c4e197",
   "metadata": {},
   "outputs": [],
   "source": []
  }
 ],
 "metadata": {
  "kernelspec": {
   "display_name": "Python 3.8.10 64-bit ('sktime-dev')",
   "language": "python",
   "name": "python3"
  },
  "language_info": {
   "codemirror_mode": {
    "name": "ipython",
    "version": 3
   },
   "file_extension": ".py",
   "mimetype": "text/x-python",
   "name": "python",
   "nbconvert_exporter": "python",
   "pygments_lexer": "ipython3",
   "version": "3.8.10"
  },
  "vscode": {
   "interpreter": {
    "hash": "f2c849a39ebf412589bb43dc8da4ae22282c194d9574437a2f9059a2bf1de749"
   }
  }
 },
 "nbformat": 4,
 "nbformat_minor": 5
}
