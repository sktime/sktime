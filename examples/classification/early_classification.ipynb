{
 "cells": [
  {
   "cell_type": "markdown",
   "source": [
    "# Early time series classification with sktime\n",
    "\n",
    "Early time series classification (eTSC) is the problem of classifying a time series after as few measurements as possible with the highest possible accuracy. The most critical issue of any eTSC method is to decide when enough data of a time series has been seen to take a decision: Waiting for more data points usually makes the classification problem easier but delays the time in which a classification is made; in contrast, earlier classification has to cope with less input data, often leading to inferior accuracy.\n",
    "\n",
    "This notebook gives a quick guide to get you started with running eTSC algorithms in sktime.\n",
    "\n",
    "\n",
    "#### References:\n",
    "\n",
    "\\[1\\] Schäfer, P., & Leser, U. (2020). TEASER: early and accurate time series classification. Data mining and knowledge discovery, 34(5), 1336-1362"
   ],
   "metadata": {
    "collapsed": false,
    "pycharm": {
     "name": "#%% md\n"
    }
   }
  },
  {
   "cell_type": "markdown",
   "source": [
    "## Data sets and problem types\n",
    "The UCR/UEA [time series classification archive](https://timeseriesclassification.com/) contains a large number of example TSC problems that have been used thousands of times in the literature to assess TSC algorithms. Read the data loading documentation and notebooks for details on the sktime data formats and loading data for sktime."
   ],
   "metadata": {
    "collapsed": false,
    "pycharm": {
     "name": "#%% md\n"
    }
   }
  },
  {
   "cell_type": "code",
   "source": [
    "# Imports used in this notebook\n",
    "import numpy as np\n",
    "\n",
    "from sktime.classification.early_classification._teaser import TEASER\n",
    "from sktime.classification.interval_based import TimeSeriesForestClassifier\n",
    "from sktime.datasets import load_arrow_head"
   ],
   "metadata": {
    "collapsed": false,
    "pycharm": {
     "name": "#%%\n"
    }
   },
   "execution_count": null,
   "outputs": []
  },
  {
   "cell_type": "code",
   "execution_count": null,
   "outputs": [],
   "source": [
    "# Load default train/test splits from sktime/datasets/data\n",
    "arrow_train_X, arrow_train_y = load_arrow_head(split=\"train\", return_type=\"numpy3d\")\n",
    "arrow_test_X, arrow_test_y = load_arrow_head(split=\"test\", return_type=\"numpy3d\")\n",
    "\n",
    "arrow_test_X.shape"
   ],
   "metadata": {
    "collapsed": false,
    "pycharm": {
     "name": "#%%\n"
    }
   }
  },
  {
   "cell_type": "markdown",
   "source": [
    "## Building the TEASER classifier\n",
    "\n",
    "TEASER \\[1\\] is a two-tier model using a base classifier to make predictions and a decision making estimator to decide whether these predictions are safe. As a first tier, TEASER requires a TSC algorithm, such as WEASEL, which produces class probabilities as output. As a second tier an anomaly detector is required, such as a one-class SVM."
   ],
   "metadata": {
    "collapsed": false,
    "pycharm": {
     "name": "#%% md\n"
    }
   }
  },
  {
   "cell_type": "code",
   "execution_count": null,
   "outputs": [],
   "source": [
    "teaser = TEASER(\n",
    "    random_state=0,\n",
    "    classification_points=[25, 50, 75, 100, 125, 150, 175, 200, 251],\n",
    "    estimator=TimeSeriesForestClassifier(n_estimators=10, random_state=0),\n",
    ")\n",
    "teaser.fit(arrow_train_X, arrow_train_y)"
   ],
   "metadata": {
    "collapsed": false,
    "pycharm": {
     "name": "#%%\n"
    }
   }
  },
  {
   "cell_type": "markdown",
   "source": [
    "## Determine the accuracy and earliness on the test data\n",
    "\n",
    "Commonly accuracy is used to determine the correctness of the predictions, while earliness is used to determine how much of the series is required on average to obtain said accuracy. I.e. for the below values, using just 43% of the full test data, we were able to get an accuracy of 69%."
   ],
   "metadata": {
    "collapsed": false,
    "pycharm": {
     "name": "#%% md\n"
    }
   }
  },
  {
   "cell_type": "code",
   "execution_count": null,
   "outputs": [],
   "source": [
    "hm, acc, earl = teaser.score(arrow_test_X, arrow_test_y)\n",
    "print(\"Earliness on Test Data %2.2f\" % earl)\n",
    "print(\"Accuracy on Test Data %2.2f\" % acc)\n",
    "print(\"Harmonic Mean on Test Data %2.2f\" % hm)"
   ],
   "metadata": {
    "collapsed": false,
    "pycharm": {
     "name": "#%%\n"
    }
   }
  },
  {
   "cell_type": "markdown",
   "source": [
    "### Determine the accuracy and earliness on the train data"
   ],
   "metadata": {
    "collapsed": false
   }
  },
  {
   "cell_type": "code",
   "execution_count": null,
   "outputs": [],
   "source": [
    "print(\"Earliness on Train Data %2.2f\" % teaser._train_earliness)\n",
    "print(\"Accuracy on Train Data %2.2f\" % teaser._train_accuracy)"
   ],
   "metadata": {
    "collapsed": false,
    "pycharm": {
     "name": "#%%\n"
    }
   }
  },
  {
   "cell_type": "markdown",
   "source": [
    "### Comparison to Classification on full Test Data\n",
    "\n",
    "With the full test data, we would obtain 68% accuracy with the same classifier."
   ],
   "metadata": {
    "collapsed": false,
    "pycharm": {
     "name": "#%% md\n"
    }
   }
  },
  {
   "cell_type": "code",
   "execution_count": null,
   "outputs": [],
   "source": [
    "accuracy = (\n",
    "    TimeSeriesForestClassifier(n_estimators=10, random_state=0)\n",
    "    .fit(arrow_train_X, arrow_train_y)\n",
    "    .score(arrow_test_X, arrow_test_y)\n",
    ")\n",
    "print(\"Accuracy on the full Test Data %2.2f\" % accuracy)"
   ],
   "metadata": {
    "collapsed": false,
    "pycharm": {
     "name": "#%%\n"
    }
   }
  },
  {
   "cell_type": "markdown",
   "source": [
    "## Classifying with incomplete time series\n",
    "\n",
    "The main draw of eTSC is the capabilility to make classifications with incomplete time series. sktime eTSC algorithms accept inputs with less time points than the full series length, and output two items: The prediction made and whether the algorithm thinks the prediction is safe. Information about the decision such as the time stamp it was made at can be obtained from the state_info attribute.\n",
    "\n",
    "### First test with only 50 datapoints (out of 251)"
   ],
   "metadata": {
    "collapsed": false,
    "pycharm": {
     "name": "#%% md\n"
    }
   }
  },
  {
   "cell_type": "code",
   "execution_count": null,
   "outputs": [],
   "source": [
    "X = arrow_test_X[:, :, :50]\n",
    "probas, _ = teaser.predict_proba(X)\n",
    "idx = (probas >= 0).all(axis=1)\n",
    "print(\"First 10 Finished prediction\\n\", np.argwhere(idx).flatten()[:10])\n",
    "print(\"First 10 Probabilities of finished predictions\\n\", probas[idx][:10])"
   ],
   "metadata": {
    "collapsed": false,
    "pycharm": {
     "name": "#%%\n"
    }
   }
  },
  {
   "cell_type": "code",
   "execution_count": null,
   "outputs": [],
   "source": [
    "_, acc, _ = teaser.score(X, arrow_test_y)\n",
    "print(\"Accuracy with 50 points on Test Data %2.2f\" % acc)"
   ],
   "metadata": {
    "collapsed": false,
    "pycharm": {
     "name": "#%%\n"
    }
   }
  },
  {
   "cell_type": "markdown",
   "source": [
    "### We may also do predictions in a streaming scenario where more data becomes available from time to time\n",
    "\n",
    "The rationale is to keep the state info from the previous predictions in the TEASER object and use it whenever new data is available."
   ],
   "metadata": {
    "collapsed": false,
    "pycharm": {
     "name": "#%% md\n"
    }
   }
  },
  {
   "cell_type": "code",
   "execution_count": null,
   "outputs": [],
   "source": [
    "test_points = [25, 50, 75, 100, 125, 150, 175, 200, 251]\n",
    "final_states = np.zeros((arrow_test_X.shape[0], 4), dtype=int)\n",
    "final_decisions = np.zeros(arrow_test_X.shape[0], dtype=int)\n",
    "open_idx = np.arange(0, arrow_test_X.shape[0])\n",
    "teaser.reset_state_info()\n",
    "\n",
    "for i in test_points:\n",
    "    probas, decisions = teaser.update_predict_proba(arrow_test_X[:, :, :i])\n",
    "    final_states[open_idx] = teaser.get_state_info()\n",
    "\n",
    "    arrow_test_X, open_idx, final_idx = teaser.split_indices_and_filter(\n",
    "        arrow_test_X, open_idx, decisions\n",
    "    )\n",
    "    final_decisions[final_idx] = i\n",
    "\n",
    "    (\n",
    "        hm,\n",
    "        acc,\n",
    "        earliness,\n",
    "    ) = teaser._compute_harmonic_mean(final_states, arrow_test_y)\n",
    "\n",
    "    print(\"Earliness on length %2i is %2.2f\" % (i, earliness))\n",
    "    print(\"Accuracy on length %2i is %2.2f\" % (i, acc))\n",
    "    print(\"Harmonic Mean on length %2i is %2.2f\" % (i, hm))\n",
    "\n",
    "    print(\"...........\")\n",
    "\n",
    "print(\"Time Stamp of final decisions\", final_decisions)"
   ],
   "metadata": {
    "collapsed": false,
    "pycharm": {
     "name": "#%%\n"
    }
   }
  }
 ],
 "metadata": {
  "kernelspec": {
   "display_name": "Python 3",
   "language": "python",
   "name": "python3"
  },
  "language_info": {
   "codemirror_mode": {
    "name": "ipython",
    "version": 2
   },
   "file_extension": ".py",
   "mimetype": "text/x-python",
   "name": "python",
   "nbconvert_exporter": "python",
   "pygments_lexer": "ipython2",
   "version": "2.7.6"
  }
 },
 "nbformat": 4,
 "nbformat_minor": 0
}
