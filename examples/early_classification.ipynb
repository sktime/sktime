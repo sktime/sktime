{
 "cells": [
  {
   "cell_type": "markdown",
   "source": [
    "# Early time series classification with sktime\n",
    "\n",
    "Early time series classification (eTSC) is the problem of classifying a time series after as few measurements as possible with the highest possible accuracy. The most critical issue of any eTSC method is to decide when enough data of a time series has been seen to take a decision: Waiting for more data points usually makes the classification problem easier but delays the time in which a classification is made; in contrast, earlier classification has to cope with less input data, often leading to inferior accuracy.\n",
    "\n",
    "This notebook gives a quick guide to get you started with running eTSC algorithms in sktime.\n",
    "\n",
    "\n",
    "#### References:\n",
    "\n",
    "\\[1\\] Schäfer, P., & Leser, U. (2020). TEASER: early and accurate time series classification. Data mining and knowledge discovery, 34(5), 1336-1362"
   ],
   "metadata": {
    "collapsed": false,
    "pycharm": {
     "name": "#%% md\n"
    }
   }
  },
  {
   "cell_type": "markdown",
   "source": [
    "## Data sets and problem types\n",
    "The UCR/UEA [time series classification archive](https://timeseriesclassification.com/) contains a large number of example TSC problems that have been used thousands of times in the literature to assess TSC algorithms. Read the data loading documentation and notebooks for details on the sktime data formats and loading data for sktime."
   ],
   "metadata": {
    "collapsed": false,
    "pycharm": {
     "name": "#%% md\n"
    }
   }
  },
  {
   "cell_type": "code",
   "source": [
    "# Imports used in this notebook\n",
    "import numpy as np\n",
    "\n",
    "from sktime.classification.early_classification._teaser import TEASER\n",
    "from sktime.classification.interval_based import TimeSeriesForestClassifier\n",
    "from sktime.datasets import load_arrow_head"
   ],
   "metadata": {
    "collapsed": false,
    "pycharm": {
     "name": "#%%\n"
    }
   },
   "execution_count": 107,
   "outputs": []
  },
  {
   "cell_type": "code",
   "execution_count": 108,
   "outputs": [
    {
     "data": {
      "text/plain": "(175, 1, 251)"
     },
     "execution_count": 108,
     "metadata": {},
     "output_type": "execute_result"
    }
   ],
   "source": [
    "# Load default train/test splits from sktime/datasets/data\n",
    "arrow_train_X, arrow_train_y = load_arrow_head(split=\"train\", return_type=\"numpy3d\")\n",
    "arrow_test_X, arrow_test_y = load_arrow_head(split=\"test\", return_type=\"numpy3d\")\n",
    "\n",
    "arrow_test_X.shape"
   ],
   "metadata": {
    "collapsed": false,
    "pycharm": {
     "name": "#%%\n"
    }
   }
  },
  {
   "cell_type": "markdown",
   "source": [
    "## Building the TEASER classifier\n",
    "\n",
    "TEASER \\[1\\] is a two-tier model using a base classifier to make predictions and a decision making estimator to decide whether these predictions are safe. As a first tier, TEASER requires a TSC algorithm, such as WEASEL, which produces class probabilities as output. As a second tier an anomaly detector is required, such as a one-class SVM."
   ],
   "metadata": {
    "collapsed": false,
    "pycharm": {
     "name": "#%% md\n"
    }
   }
  },
  {
   "cell_type": "code",
   "execution_count": 109,
   "outputs": [
    {
     "data": {
      "text/plain": "TEASER(classification_points=[25, 50, 75, 100, 125, 150, 175, 200, 251],\n       estimator=TimeSeriesForestClassifier(n_estimators=10, random_state=0),\n       random_state=0)"
     },
     "execution_count": 109,
     "metadata": {},
     "output_type": "execute_result"
    }
   ],
   "source": [
    "teaser = TEASER(\n",
    "    random_state=0,\n",
    "    classification_points=[25, 50, 75, 100, 125, 150, 175, 200, 251],\n",
    "    estimator=TimeSeriesForestClassifier(n_estimators=10, random_state=0),\n",
    ")\n",
    "teaser.fit(arrow_train_X, arrow_train_y)"
   ],
   "metadata": {
    "collapsed": false,
    "pycharm": {
     "name": "#%%\n"
    }
   }
  },
  {
   "cell_type": "markdown",
   "source": [
    "## Determine the accuracy and earliness on the test data\n",
    "\n",
    "Commonly accuracy is used to determine the correctness of the predictions, while earliness is used to determine how much of the series is required on average to obtain said accuracy. I.e. for the below values, using just 43% of the full test data, we were able to get an accuracy of 69%."
   ],
   "metadata": {
    "collapsed": false,
    "pycharm": {
     "name": "#%% md\n"
    }
   }
  },
  {
   "cell_type": "code",
   "execution_count": 110,
   "outputs": [],
   "source": [
    "hm, acc, earl = teaser.score(arrow_test_X, arrow_test_y)"
   ],
   "metadata": {
    "collapsed": false,
    "pycharm": {
     "name": "#%%\n"
    }
   }
  },
  {
   "cell_type": "code",
   "execution_count": 111,
   "outputs": [
    {
     "name": "stdout",
     "output_type": "stream",
     "text": [
      "Earliness on Test Data 0.43\n",
      "Accuracy on Test Data 0.69\n",
      "Harmonic Mean on Test Data 0.62\n"
     ]
    }
   ],
   "source": [
    "print(\"Earliness on Test Data %2.2f\" % earl)\n",
    "print(\"Accuracy on Test Data %2.2f\" % acc)\n",
    "print(\"Harmonic Mean on Test Data %2.2f\" % hm)"
   ],
   "metadata": {
    "collapsed": false,
    "pycharm": {
     "name": "#%%\n"
    }
   }
  },
  {
   "cell_type": "markdown",
   "source": [
    "### Determine the accuracy and earliness on the train data"
   ],
   "metadata": {
    "collapsed": false
   }
  },
  {
   "cell_type": "code",
   "execution_count": 112,
   "outputs": [
    {
     "name": "stdout",
     "output_type": "stream",
     "text": [
      "Earliness on Train Data 0.36\n",
      "Accuracy on Train Data 0.78\n"
     ]
    }
   ],
   "source": [
    "print(\"Earliness on Train Data %2.2f\" % teaser._train_earliness)\n",
    "print(\"Accuracy on Train Data %2.2f\" % teaser._train_accuracy)"
   ],
   "metadata": {
    "collapsed": false,
    "pycharm": {
     "name": "#%%\n"
    }
   }
  },
  {
   "cell_type": "markdown",
   "source": [
    "### Comparison to Classification on full Test Data\n",
    "\n",
    "With the full test data, we would obtain 68% accuracy with the same classifier."
   ],
   "metadata": {
    "collapsed": false,
    "pycharm": {
     "name": "#%% md\n"
    }
   }
  },
  {
   "cell_type": "code",
   "execution_count": 113,
   "outputs": [
    {
     "name": "stdout",
     "output_type": "stream",
     "text": [
      "Accuracy on the full Test Data 0.68\n"
     ]
    }
   ],
   "source": [
    "accuracy = (\n",
    "    TimeSeriesForestClassifier(n_estimators=10, random_state=0)\n",
    "    .fit(arrow_train_X, arrow_train_y)\n",
    "    .score(arrow_test_X, arrow_test_y)\n",
    ")\n",
    "print(\"Accuracy on the full Test Data %2.2f\" % accuracy)"
   ],
   "metadata": {
    "collapsed": false,
    "pycharm": {
     "name": "#%%\n"
    }
   }
  },
  {
   "cell_type": "markdown",
   "source": [
    "## Classifying with incomplete time series\n",
    "\n",
    "The main draw of eTSC is the capabilility to make classifications with incomplete time series. sktime eTSC algorithms accept inputs with less time points than the full series length, and output three items: The prediction made, whether the algorithm thinks the prediction is safe and information about the decision such as the time stamp it was made at (sometimes used as an input to provide the algorithm with information from previous decisions).\n",
    "\n",
    "### First test with only 50 datapoints (out of 251)"
   ],
   "metadata": {
    "collapsed": false,
    "pycharm": {
     "name": "#%% md\n"
    }
   }
  },
  {
   "cell_type": "code",
   "execution_count": 256,
   "outputs": [
    {
     "name": "stdout",
     "output_type": "stream",
     "text": [
      "First 10 Finished prediction\n",
      " [ 2  5 15 21 30 45 47 56 61 63]\n",
      "First 10 Probabilities of finished predictions\n",
      " [[0.2 0.3 0.5]\n",
      " [0.7 0.2 0.1]\n",
      " [0.1 0.  0.9]\n",
      " [0.2 0.2 0.6]\n",
      " [0.7 0.1 0.2]\n",
      " [0.1 0.6 0.3]\n",
      " [0.3 0.2 0.5]\n",
      " [0.8 0.  0.2]\n",
      " [0.9 0.1 0. ]\n",
      " [0.9 0.  0.1]]\n"
     ]
    }
   ],
   "source": [
    "X = arrow_test_X[:, :, :50]\n",
    "probas, decisions, _ = teaser.predict_proba(X)\n",
    "idx = (probas >= 0).all(axis=1)\n",
    "print(\"First 10 Finished prediction\\n\", np.argwhere(idx).flatten()[:10])\n",
    "print(\"First 10 Probabilities of finished predictions\\n\", probas[idx][:10])"
   ],
   "metadata": {
    "collapsed": false,
    "pycharm": {
     "name": "#%%\n"
    }
   }
  },
  {
   "cell_type": "code",
   "execution_count": 257,
   "outputs": [
    {
     "name": "stdout",
     "output_type": "stream",
     "text": [
      "Accuracy with 50 points on Test Data 0.65\n"
     ]
    }
   ],
   "source": [
    "_, acc, _ = teaser.score(X, arrow_test_y)\n",
    "print(\"Accuracy with 50 points on Test Data %2.2f\" % acc)"
   ],
   "metadata": {
    "collapsed": false,
    "pycharm": {
     "name": "#%%\n"
    }
   }
  },
  {
   "cell_type": "markdown",
   "source": [
    "### We may also do predictions in a streaming scenario where more data becomes available from time to time\n",
    "\n",
    "The rationale is to keep the state info from the previous predictions and pass there to TEASER whenever new data is available."
   ],
   "metadata": {
    "collapsed": false,
    "pycharm": {
     "name": "#%% md\n"
    }
   }
  },
  {
   "cell_type": "code",
   "execution_count": 255,
   "outputs": [
    {
     "name": "stdout",
     "output_type": "stream",
     "text": [
      "Earliness on length 50.000000 is 0.65\n",
      "Accuracy on length 50.000000 is 1.00\n",
      "Harmonic Mean on length 50.000000 is 0.00\n",
      "...........\n",
      "Earliness on length 75.000000 is 0.63\n",
      "Accuracy on length 75.000000 is 0.92\n",
      "Harmonic Mean on length 75.000000 is 0.14\n",
      "...........\n",
      "Earliness on length 100.000000 is 0.63\n",
      "Accuracy on length 100.000000 is 0.80\n",
      "Harmonic Mean on length 100.000000 is 0.30\n",
      "...........\n",
      "Earliness on length 125.000000 is 0.66\n",
      "Accuracy on length 125.000000 is 0.72\n",
      "Harmonic Mean on length 125.000000 is 0.39\n",
      "...........\n",
      "Earliness on length 150.000000 is 0.66\n",
      "Accuracy on length 150.000000 is 0.64\n",
      "Harmonic Mean on length 150.000000 is 0.46\n",
      "...........\n",
      "Earliness on length 175.000000 is 0.69\n",
      "Accuracy on length 175.000000 is 0.57\n",
      "Harmonic Mean on length 175.000000 is 0.53\n",
      "...........\n",
      "Earliness on length 200.000000 is 0.66\n",
      "Accuracy on length 200.000000 is 0.52\n",
      "Harmonic Mean on length 200.000000 is 0.56\n",
      "...........\n",
      "Earliness on length 251.000000 is 0.69\n",
      "Accuracy on length 251.000000 is 0.43\n",
      "Harmonic Mean on length 251.000000 is 0.62\n",
      "...........\n",
      "Time Stamp of final decisions [251.  75.  50. 251.  75.  50.  75. 251. 125.  75. 150. 100. 125. 175.\n",
      "  75.  50. 125.  75. 251. 251. 125.  50. 251.  75.  75. 150.  75. 100.\n",
      " 150. 125.  50. 251. 251.  75. 251. 100. 125. 125. 125.  75.  75. 251.\n",
      " 175. 200. 125.  50. 150.  50.  75. 150. 150. 100. 251. 150. 125.  75.\n",
      "  50. 251. 251. 100. 125.  50. 100.  50. 100.  50. 125.  75.  75. 125.\n",
      "  75. 251.  50.  75.  75.  50.  50. 200.  50. 100.  75.  50. 175. 175.\n",
      "  75.  75.  50. 175.  50.  75. 125.  50. 125.  50.  75.  50. 175. 175.\n",
      "  50.  50. 251.  50.  75.  75.  50.  50.  75.  75. 125.  75.  50.  75.\n",
      " 150.  50. 175.  75. 125. 150. 125.  50.  50. 125.  50.  75. 150.  50.\n",
      " 100.  50.  75. 100.  75.  50.  50. 150.  50.  75.  50.  75. 150.  50.\n",
      "  75. 251.  75. 150. 251.  75.  75. 150.  75.  50. 125. 125.  75.  75.\n",
      " 125.  75.  75.  75. 125.  75.  50. 150.  75.  75.  50.  75.  75. 251.\n",
      "  75. 100. 125.  75. 150. 100.  50.]\n"
     ]
    }
   ],
   "source": [
    "test_points = [50, 75, 100, 125, 150, 175, 200, 251]\n",
    "final_probas = np.zeros((arrow_test_X.shape[0], np.unique(arrow_test_y).shape[0]))\n",
    "final_decisions = np.zeros(arrow_test_X.shape[0])\n",
    "\n",
    "states = None\n",
    "for i in test_points:\n",
    "    X = arrow_test_X[:, :, :i]\n",
    "    probas, decisions, states = teaser.predict_proba(X, state_info=states)\n",
    "\n",
    "    for n in range(arrow_test_X.shape[0]):\n",
    "        if decisions[n] and final_decisions[n] == 0:\n",
    "            final_probas[n] = probas[n]\n",
    "            final_decisions[n] = i\n",
    "\n",
    "    final_hm, final_earliness, final_acc = teaser._compute_harmonic_mean(\n",
    "        X.shape[2], states, arrow_test_y\n",
    "    )\n",
    "\n",
    "    print(\"Earliness on length %2f is %2.2f\" % (i, final_earliness))\n",
    "    print(\"Accuracy on length %2f is %2.2f\" % (i, final_acc))\n",
    "    print(\"Harmonic Mean on length %2f is %2.2f\" % (i, final_hm))\n",
    "\n",
    "    print(\"...........\")\n",
    "\n",
    "print(\"Time Stamp of final decisions\", final_decisions)"
   ],
   "metadata": {
    "collapsed": false,
    "pycharm": {
     "name": "#%%\n"
    }
   }
  },
  {
   "cell_type": "code",
   "execution_count": null,
   "outputs": [],
   "source": [],
   "metadata": {
    "collapsed": false,
    "pycharm": {
     "name": "#%%\n"
    }
   }
  }
 ],
 "metadata": {
  "kernelspec": {
   "display_name": "Python 3",
   "language": "python",
   "name": "python3"
  },
  "language_info": {
   "codemirror_mode": {
    "name": "ipython",
    "version": 2
   },
   "file_extension": ".py",
   "mimetype": "text/x-python",
   "name": "python",
   "nbconvert_exporter": "python",
   "pygments_lexer": "ipython2",
   "version": "2.7.6"
  }
 },
 "nbformat": 4,
 "nbformat_minor": 0
}
