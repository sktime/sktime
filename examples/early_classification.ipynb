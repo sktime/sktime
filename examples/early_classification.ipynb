{
 "cells": [
  {
   "cell_type": "markdown",
   "metadata": {
    "collapsed": false,
    "pycharm": {
     "name": "#%% md\n"
    }
   },
   "source": [
    "# Early time series classification with sktime\n",
    "\n",
    "Early time series classification (eTSC) is the problem of classifying a time series after as few measurements as possible with the highest possible accuracy. The most critical issue of any eTSC method is to decide when enough data of a time series has been seen to take a decision: Waiting for more data points usually makes the classification problem easier but delays the time in which a classification is made; in contrast, earlier classification has to cope with less input data, often leading to inferior accuracy.\n",
    "\n",
    "This notebook gives a quick guide to get you started with running eTSC algorithms in sktime.\n",
    "\n",
    "\n",
    "#### References:\n",
    "\n",
    "\\[1\\] Schäfer, P., & Leser, U. (2020). TEASER: early and accurate time series classification. Data mining and knowledge discovery, 34(5), 1336-1362"
   ]
  },
  {
   "cell_type": "markdown",
   "metadata": {
    "collapsed": false,
    "pycharm": {
     "name": "#%% md\n"
    }
   },
   "source": [
    "## Data sets and problem types\n",
    "The UCR/UEA [time series classification archive](https://timeseriesclassification.com/) contains a large number of example TSC problems that have been used thousands of times in the literature to assess TSC algorithms. Read the data loading documentation and notebooks for details on the sktime data formats and loading data for sktime."
   ]
  },
  {
   "cell_type": "code",
   "execution_count": 1,
   "metadata": {
    "collapsed": false,
    "pycharm": {
     "name": "#%%\n"
    }
   },
   "outputs": [],
   "source": [
    "# Imports used in this notebook\n",
    "import numpy as np\n",
    "\n",
    "from sktime.classification.early_classification._teaser import TEASER\n",
    "from sktime.classification.interval_based import TimeSeriesForestClassifier\n",
    "from sktime.datasets import load_arrow_head"
   ]
  },
  {
   "cell_type": "code",
   "execution_count": null,
   "metadata": {},
   "outputs": [],
   "source": [
    "# Load default train/test splits from sktime/datasets/data\n",
    "arrow_train_X, arrow_train_y = load_arrow_head(split=\"train\", return_type=\"numpy3d\")\n",
    "arrow_test_X, arrow_test_y = load_arrow_head(split=\"test\", return_type=\"numpy3d\")\n",
    "\n",
    "arrow_test_X.shape"
   ]
  },
  {
   "cell_type": "code",
   "execution_count": 7,
   "metadata": {
    "collapsed": false,
    "pycharm": {
     "name": "#%%\n"
    }
   },
   "outputs": [
    {
     "name": "stdout",
     "output_type": "stream",
     "text": [
      "(175, 1, 251) (175,)\n"
     ]
    },
    {
     "data": {
      "text/plain": [
       "array(['2', '2', '2', '2', '2'], dtype='<U1')"
      ]
     },
     "execution_count": 7,
     "metadata": {},
     "output_type": "execute_result"
    }
   ],
   "source": [
    "# Load default train/test splits from sktime/datasets/data\n",
    "arrow_train_X, arrow_train_y = load_arrow_head(split=\"train\", return_type=\"numpy3d\")\n",
    "arrow_test_X, arrow_test_y = load_arrow_head(split=\"test\", return_type=\"numpy3d\")\n",
    "\n",
    "print(arrow_test_X.shape, arrow_test_y.shape)\n",
    "arrow_test_y[-5:]"
   ]
  },
  {
   "cell_type": "markdown",
   "metadata": {
    "collapsed": false,
    "pycharm": {
     "name": "#%% md\n"
    }
   },
   "source": [
    "## Building the TEASER classifier\n",
    "\n",
    "TEASER \\[1\\] is a two-tier model using a base classifier to make predictions and a decision making estimator to decide whether these predictions are safe. As a first tier, TEASER requires a TSC algorithm, such as WEASEL, which produces class probabilities as output. As a second tier an anomaly detector is required, such as a one-class SVM."
   ]
  },
  {
   "cell_type": "code",
   "execution_count": 3,
   "metadata": {
    "collapsed": false,
    "pycharm": {
     "name": "#%%\n"
    }
   },
   "outputs": [
    {
     "data": {
      "text/html": [
       "<style>#sk-container-id-1 {color: black;background-color: white;}#sk-container-id-1 pre{padding: 0;}#sk-container-id-1 div.sk-toggleable {background-color: white;}#sk-container-id-1 label.sk-toggleable__label {cursor: pointer;display: block;width: 100%;margin-bottom: 0;padding: 0.3em;box-sizing: border-box;text-align: center;}#sk-container-id-1 label.sk-toggleable__label-arrow:before {content: \"▸\";float: left;margin-right: 0.25em;color: #696969;}#sk-container-id-1 label.sk-toggleable__label-arrow:hover:before {color: black;}#sk-container-id-1 div.sk-estimator:hover label.sk-toggleable__label-arrow:before {color: black;}#sk-container-id-1 div.sk-toggleable__content {max-height: 0;max-width: 0;overflow: hidden;text-align: left;background-color: #f0f8ff;}#sk-container-id-1 div.sk-toggleable__content pre {margin: 0.2em;color: black;border-radius: 0.25em;background-color: #f0f8ff;}#sk-container-id-1 input.sk-toggleable__control:checked~div.sk-toggleable__content {max-height: 200px;max-width: 100%;overflow: auto;}#sk-container-id-1 input.sk-toggleable__control:checked~label.sk-toggleable__label-arrow:before {content: \"▾\";}#sk-container-id-1 div.sk-estimator input.sk-toggleable__control:checked~label.sk-toggleable__label {background-color: #d4ebff;}#sk-container-id-1 div.sk-label input.sk-toggleable__control:checked~label.sk-toggleable__label {background-color: #d4ebff;}#sk-container-id-1 input.sk-hidden--visually {border: 0;clip: rect(1px 1px 1px 1px);clip: rect(1px, 1px, 1px, 1px);height: 1px;margin: -1px;overflow: hidden;padding: 0;position: absolute;width: 1px;}#sk-container-id-1 div.sk-estimator {font-family: monospace;background-color: #f0f8ff;border: 1px dotted black;border-radius: 0.25em;box-sizing: border-box;margin-bottom: 0.5em;}#sk-container-id-1 div.sk-estimator:hover {background-color: #d4ebff;}#sk-container-id-1 div.sk-parallel-item::after {content: \"\";width: 100%;border-bottom: 1px solid gray;flex-grow: 1;}#sk-container-id-1 div.sk-label:hover label.sk-toggleable__label {background-color: #d4ebff;}#sk-container-id-1 div.sk-serial::before {content: \"\";position: absolute;border-left: 1px solid gray;box-sizing: border-box;top: 0;bottom: 0;left: 50%;z-index: 0;}#sk-container-id-1 div.sk-serial {display: flex;flex-direction: column;align-items: center;background-color: white;padding-right: 0.2em;padding-left: 0.2em;position: relative;}#sk-container-id-1 div.sk-item {position: relative;z-index: 1;}#sk-container-id-1 div.sk-parallel {display: flex;align-items: stretch;justify-content: center;background-color: white;position: relative;}#sk-container-id-1 div.sk-item::before, #sk-container-id-1 div.sk-parallel-item::before {content: \"\";position: absolute;border-left: 1px solid gray;box-sizing: border-box;top: 0;bottom: 0;left: 50%;z-index: -1;}#sk-container-id-1 div.sk-parallel-item {display: flex;flex-direction: column;z-index: 1;position: relative;background-color: white;}#sk-container-id-1 div.sk-parallel-item:first-child::after {align-self: flex-end;width: 50%;}#sk-container-id-1 div.sk-parallel-item:last-child::after {align-self: flex-start;width: 50%;}#sk-container-id-1 div.sk-parallel-item:only-child::after {width: 0;}#sk-container-id-1 div.sk-dashed-wrapped {border: 1px dashed gray;margin: 0 0.4em 0.5em 0.4em;box-sizing: border-box;padding-bottom: 0.4em;background-color: white;}#sk-container-id-1 div.sk-label label {font-family: monospace;font-weight: bold;display: inline-block;line-height: 1.2em;}#sk-container-id-1 div.sk-label-container {text-align: center;}#sk-container-id-1 div.sk-container {/* jupyter's `normalize.less` sets `[hidden] { display: none; }` but bootstrap.min.css set `[hidden] { display: none !important; }` so we also need the `!important` here to be able to override the default hidden behavior on the sphinx rendered scikit-learn.org. See: https://github.com/scikit-learn/scikit-learn/issues/21755 */display: inline-block !important;position: relative;}#sk-container-id-1 div.sk-text-repr-fallback {display: none;}</style><div id=\"sk-container-id-1\" class=\"sk-top-container\"><div class=\"sk-text-repr-fallback\"><pre>TEASER(classification_points=[25, 50, 75, 100, 125, 150, 175, 200, 251],\n",
       "       estimator=TimeSeriesForestClassifier(n_estimators=10, random_state=0),\n",
       "       random_state=0)</pre><b>In a Jupyter environment, please rerun this cell to show the HTML representation or trust the notebook. <br />On GitHub, the HTML representation is unable to render, please try loading this page with nbviewer.org.</b></div><div class=\"sk-container\" hidden><div class=\"sk-item sk-dashed-wrapped\"><div class=\"sk-label-container\"><div class=\"sk-label sk-toggleable\"><input class=\"sk-toggleable__control sk-hidden--visually\" id=\"sk-estimator-id-1\" type=\"checkbox\" ><label for=\"sk-estimator-id-1\" class=\"sk-toggleable__label sk-toggleable__label-arrow\">TEASER</label><div class=\"sk-toggleable__content\"><pre>TEASER(classification_points=[25, 50, 75, 100, 125, 150, 175, 200, 251],\n",
       "       estimator=TimeSeriesForestClassifier(n_estimators=10, random_state=0),\n",
       "       random_state=0)</pre></div></div></div><div class=\"sk-parallel\"><div class=\"sk-parallel-item\"><div class=\"sk-item\"><div class=\"sk-label-container\"><div class=\"sk-label sk-toggleable\"><input class=\"sk-toggleable__control sk-hidden--visually\" id=\"sk-estimator-id-2\" type=\"checkbox\" ><label for=\"sk-estimator-id-2\" class=\"sk-toggleable__label sk-toggleable__label-arrow\">estimator: TimeSeriesForestClassifier</label><div class=\"sk-toggleable__content\"><pre>TimeSeriesForestClassifier(n_estimators=10, random_state=0)</pre></div></div></div><div class=\"sk-serial\"><div class=\"sk-item\"><div class=\"sk-estimator sk-toggleable\"><input class=\"sk-toggleable__control sk-hidden--visually\" id=\"sk-estimator-id-3\" type=\"checkbox\" ><label for=\"sk-estimator-id-3\" class=\"sk-toggleable__label sk-toggleable__label-arrow\">TimeSeriesForestClassifier</label><div class=\"sk-toggleable__content\"><pre>TimeSeriesForestClassifier(n_estimators=10, random_state=0)</pre></div></div></div></div></div></div></div></div></div></div>"
      ],
      "text/plain": [
       "TEASER(classification_points=[25, 50, 75, 100, 125, 150, 175, 200, 251],\n",
       "       estimator=TimeSeriesForestClassifier(n_estimators=10, random_state=0),\n",
       "       random_state=0)"
      ]
     },
     "execution_count": 3,
     "metadata": {},
     "output_type": "execute_result"
    }
   ],
   "source": [
    "teaser = TEASER(\n",
    "    random_state=0,\n",
    "    classification_points=[25, 50, 75, 100, 125, 150, 175, 200, 251],\n",
    "    estimator=TimeSeriesForestClassifier(n_estimators=10, random_state=0),\n",
    ")\n",
    "teaser.fit(arrow_train_X, arrow_train_y)"
   ]
  },
  {
   "cell_type": "markdown",
   "metadata": {
    "collapsed": false,
    "pycharm": {
     "name": "#%% md\n"
    }
   },
   "source": [
    "## Determine the accuracy and earliness on the test data\n",
    "\n",
    "Commonly accuracy is used to determine the correctness of the predictions, while earliness is used to determine how much of the series is required on average to obtain said accuracy. I.e. for the below values, using just 43% of the full test data, we were able to get an accuracy of 69%."
   ]
  },
  {
   "cell_type": "code",
   "execution_count": 4,
   "metadata": {
    "collapsed": false,
    "pycharm": {
     "name": "#%%\n"
    }
   },
   "outputs": [
    {
     "name": "stdout",
     "output_type": "stream",
     "text": [
      "Earliness on Test Data 0.43\n",
      "Accuracy on Test Data 0.69\n",
      "Harmonic Mean on Test Data 0.62\n"
     ]
    }
   ],
   "source": [
    "hm, acc, earl = teaser.score(arrow_test_X, arrow_test_y)\n",
    "print(\"Earliness on Test Data %2.2f\" % earl)\n",
    "print(\"Accuracy on Test Data %2.2f\" % acc)\n",
    "print(\"Harmonic Mean on Test Data %2.2f\" % hm)"
   ]
  },
  {
   "cell_type": "markdown",
   "metadata": {
    "collapsed": false
   },
   "source": [
    "### Determine the accuracy and earliness on the train data"
   ]
  },
  {
   "cell_type": "code",
   "execution_count": 8,
   "metadata": {
    "collapsed": false,
    "pycharm": {
     "name": "#%%\n"
    }
   },
   "outputs": [
    {
     "name": "stdout",
     "output_type": "stream",
     "text": [
      "Earliness on Train Data 0.36\n",
      "Accuracy on Train Data 0.78\n"
     ]
    }
   ],
   "source": [
    "print(\"Earliness on Train Data %2.2f\" % teaser._train_earliness)\n",
    "print(\"Accuracy on Train Data %2.2f\" % teaser._train_accuracy)"
   ]
  },
  {
   "cell_type": "markdown",
   "metadata": {
    "collapsed": false,
    "pycharm": {
     "name": "#%% md\n"
    }
   },
   "source": [
    "### Comparison to Classification on full Test Data\n",
    "\n",
    "With the full test data, we would obtain 68% accuracy with the same classifier."
   ]
  },
  {
   "cell_type": "code",
   "execution_count": 9,
   "metadata": {
    "collapsed": false,
    "pycharm": {
     "name": "#%%\n"
    }
   },
   "outputs": [
    {
     "name": "stdout",
     "output_type": "stream",
     "text": [
      "Accuracy on the full Test Data 0.68\n"
     ]
    }
   ],
   "source": [
    "accuracy = (\n",
    "    TimeSeriesForestClassifier(n_estimators=10, random_state=0)\n",
    "    .fit(arrow_train_X, arrow_train_y)\n",
    "    .score(arrow_test_X, arrow_test_y)\n",
    ")\n",
    "print(\"Accuracy on the full Test Data %2.2f\" % accuracy)"
   ]
  },
  {
   "cell_type": "markdown",
   "metadata": {
    "collapsed": false,
    "pycharm": {
     "name": "#%% md\n"
    }
   },
   "source": [
    "## Classifying with incomplete time series\n",
    "\n",
    "The main draw of eTSC is the capabilility to make classifications with incomplete time series. sktime eTSC algorithms accept inputs with less time points than the full series length, and output two items: The prediction made and whether the algorithm thinks the prediction is safe. Information about the decision such as the time stamp it was made at can be obtained from the state_info attribute.\n",
    "\n",
    "### First test with only 50 datapoints (out of 251)"
   ]
  },
  {
   "cell_type": "code",
   "execution_count": 10,
   "metadata": {
    "collapsed": false,
    "pycharm": {
     "name": "#%%\n"
    }
   },
   "outputs": [
    {
     "name": "stdout",
     "output_type": "stream",
     "text": [
      "First 10 Finished prediction\n",
      " [ 2  5 15 21 30 45 47 56 61 63]\n",
      "First 10 Probabilities of finished predictions\n",
      " [[0.2 0.3 0.5]\n",
      " [0.7 0.2 0.1]\n",
      " [0.1 0.  0.9]\n",
      " [0.2 0.2 0.6]\n",
      " [0.7 0.1 0.2]\n",
      " [0.1 0.6 0.3]\n",
      " [0.3 0.2 0.5]\n",
      " [0.8 0.  0.2]\n",
      " [0.9 0.1 0. ]\n",
      " [0.9 0.  0.1]]\n"
     ]
    }
   ],
   "source": [
    "X = arrow_test_X[:, :, :50]\n",
    "probas, _ = teaser.predict_proba(X)\n",
    "idx = (probas >= 0).all(axis=1)\n",
    "print(\"First 10 Finished prediction\\n\", np.argwhere(idx).flatten()[:10])\n",
    "print(\"First 10 Probabilities of finished predictions\\n\", probas[idx][:10])"
   ]
  },
  {
   "cell_type": "code",
   "execution_count": 11,
   "metadata": {
    "collapsed": false,
    "pycharm": {
     "name": "#%%\n"
    }
   },
   "outputs": [
    {
     "name": "stdout",
     "output_type": "stream",
     "text": [
      "Accuracy with 50 points on Test Data 0.65\n"
     ]
    }
   ],
   "source": [
    "_, acc, _ = teaser.score(X, arrow_test_y)\n",
    "print(\"Accuracy with 50 points on Test Data %2.2f\" % acc)"
   ]
  },
  {
   "cell_type": "markdown",
   "metadata": {
    "collapsed": false,
    "pycharm": {
     "name": "#%% md\n"
    }
   },
   "source": [
    "### We may also do predictions in a streaming scenario where more data becomes available from time to time\n",
    "\n",
    "The rationale is to keep the state info from the previous predictions in the TEASER object and use it whenever new data is available."
   ]
  },
  {
   "cell_type": "code",
   "execution_count": 12,
   "metadata": {
    "collapsed": false,
    "pycharm": {
     "name": "#%%\n"
    }
   },
   "outputs": [
    {
     "name": "stdout",
     "output_type": "stream",
     "text": [
      "Earliness on length 25 is 0.10\n",
      "Accuracy on length 25 is 0.41\n",
      "Harmonic Mean on length 25 is 0.56\n",
      "...........\n",
      "Earliness on length 50 is 0.20\n",
      "Accuracy on length 50 is 0.65\n",
      "Harmonic Mean on length 50 is 0.71\n",
      "...........\n",
      "Earliness on length 75 is 0.27\n",
      "Accuracy on length 75 is 0.65\n",
      "Harmonic Mean on length 75 is 0.68\n",
      "...........\n",
      "Earliness on length 100 is 0.32\n",
      "Accuracy on length 100 is 0.63\n",
      "Harmonic Mean on length 100 is 0.65\n",
      "...........\n",
      "Earliness on length 125 is 0.36\n",
      "Accuracy on length 125 is 0.66\n",
      "Harmonic Mean on length 125 is 0.65\n",
      "...........\n",
      "Earliness on length 150 is 0.38\n",
      "Accuracy on length 150 is 0.66\n",
      "Harmonic Mean on length 150 is 0.64\n",
      "...........\n",
      "Earliness on length 175 is 0.40\n",
      "Accuracy on length 175 is 0.69\n",
      "Harmonic Mean on length 175 is 0.64\n",
      "...........\n",
      "Earliness on length 200 is 0.41\n",
      "Accuracy on length 200 is 0.66\n",
      "Harmonic Mean on length 200 is 0.62\n",
      "...........\n",
      "Earliness on length 251 is 0.43\n",
      "Accuracy on length 251 is 0.68\n",
      "Harmonic Mean on length 251 is 0.62\n",
      "...........\n",
      "Time Stamp of final decisions [251  75  50 251  75  50  75 251 125  75 150 100 125 175  75  50 125  75\n",
      " 251 251 125  50 251  75  75 150  75 100 150 125  50 251 251  75 251 100\n",
      " 125 125 125  75  75 251 175 200 125  50 150  50  75 150 150 100 251 150\n",
      " 125  75  50 251 251 100 125  50 100  50 100  50 125  75  75 125  75 251\n",
      "  50  75  75  50  50 200  50 100  75  50 175 175  75  75  50 175  50  75\n",
      " 125  50 125  50  75  50 175 175  50  50 251  50  75  75  50  50  75  75\n",
      " 125  75  50  75 150  50 175  75 125 150 125  50  50 125  50  75 150  50\n",
      " 100  50  75 100  75  50  50 150  50  75  50  75 150  50  75 251  75 150\n",
      " 251  75  75 150  75  50 125 125  75  75 125  75  75  75 125  75  50 150\n",
      "  75  75  50  75  75 251  75 100 125  75 150 100  50]\n"
     ]
    }
   ],
   "source": [
    "test_points = [25, 50, 75, 100, 125, 150, 175, 200, 251]\n",
    "final_states = np.zeros((arrow_test_X.shape[0], 4), dtype=int)\n",
    "final_decisions = np.zeros(arrow_test_X.shape[0], dtype=int)\n",
    "open_idx = np.arange(0, arrow_test_X.shape[0])\n",
    "teaser.reset_state_info()\n",
    "\n",
    "for i in test_points:\n",
    "    probas, decisions = teaser.update_predict_proba(arrow_test_X[:, :, :i])\n",
    "    final_states[open_idx] = teaser.get_state_info()\n",
    "\n",
    "    arrow_test_X, open_idx, final_idx = teaser.split_indices_and_filter(\n",
    "        arrow_test_X, open_idx, decisions\n",
    "    )\n",
    "    final_decisions[final_idx] = i\n",
    "\n",
    "    (\n",
    "        hm,\n",
    "        acc,\n",
    "        earliness,\n",
    "    ) = teaser._compute_harmonic_mean(final_states, arrow_test_y)\n",
    "\n",
    "    print(\"Earliness on length %2i is %2.2f\" % (i, earliness))\n",
    "    print(\"Accuracy on length %2i is %2.2f\" % (i, acc))\n",
    "    print(\"Harmonic Mean on length %2i is %2.2f\" % (i, hm))\n",
    "\n",
    "    print(\"...........\")\n",
    "\n",
    "print(\"Time Stamp of final decisions\", final_decisions)"
   ]
  }
 ],
 "metadata": {
  "kernelspec": {
   "display_name": "sktime-dev",
   "language": "python",
   "name": "python3"
  },
  "language_info": {
   "codemirror_mode": {
    "name": "ipython",
    "version": 3
   },
   "file_extension": ".py",
   "mimetype": "text/x-python",
   "name": "python",
   "nbconvert_exporter": "python",
   "pygments_lexer": "ipython3",
   "version": "3.9.15"
  },
  "vscode": {
   "interpreter": {
    "hash": "705763d2875fe26c428f278956e03c1eb87d8f5d0f93b10c8f7dbb1f4c91d9a3"
   }
  }
 },
 "nbformat": 4,
 "nbformat_minor": 0
}
