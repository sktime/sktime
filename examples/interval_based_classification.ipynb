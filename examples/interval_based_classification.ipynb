{
 "cells": [
  {
   "cell_type": "markdown",
   "metadata": {},
   "source": [
    "# Interval based time series classification in sktime\n",
    "\n",
    "Interval based approaches look at phase dependant intervals of the full series, calculating summary statistics from selected subseries to be used in classification.\n",
    "\n",
    "Currently 2 interval based approaches are implemented in sktime. Time Series Forest (TSF) and the Canonical Interval Forest (CIF).\n",
    "\n",
    "In this notebook, we will demonstrate how to use TSF and CIF on the ItalyPowerDemand dataset. Both algorithms are currently only compatible with univariate time series datasets.\n",
    "\n",
    "#### References:\n",
    "\n",
    "\\[1\\] Deng, H., Runger, G., Tuv, E., & Vladimir, M. (2013). A time series forest for classification and feature extraction. Information Sciences, 239, 142-153.\n",
    "\n",
    "\\[2\\] Middlehurst, M., Large, J., & Bagnall, A. (2020). The Canonical Interval Forest (CIF) Classifier for Time Series Classification. arXiv preprint arXiv:2008.09172.\n",
    "\n",
    "\\[3\\] Lubba, C. H., Sethi, S. S., Knaute, P., Schultz, S. R., Fulcher, B. D., & Jones, N. S. (2019). catch22: CAnonical Time-series CHaracteristics. Data Mining and Knowledge Discovery, 33(6), 1821-1852."
   ]
  },
  {
   "cell_type": "markdown",
   "metadata": {},
   "source": [
    "## 1. Imports"
   ]
  },
  {
   "cell_type": "code",
   "execution_count": 1,
   "metadata": {},
   "outputs": [
    {
     "name": "stderr",
     "output_type": "stream",
     "text": [
      "C:\\ProgramData\\Anaconda3\\envs\\sktime-fork\\lib\\site-packages\\sklearn\\utils\\deprecation.py:143: FutureWarning: The sklearn.ensemble.forest module is  deprecated in version 0.22 and will be removed in version 0.24. The corresponding classes / functions should instead be imported from sklearn.ensemble. Anything that cannot be imported from sklearn.ensemble is now part of the private API.\n",
      "  warnings.warn(message, FutureWarning)\n"
     ]
    }
   ],
   "source": [
    "from sklearn import metrics\n",
    "\n",
    "from sktime.classification.interval_based import TimeSeriesForest\n",
    "from sktime.contrib.interval_based._cif import CanonicalIntervalForest\n",
    "from sktime.datasets import load_italy_power_demand"
   ]
  },
  {
   "cell_type": "markdown",
   "metadata": {},
   "source": [
    "## 2. Load data"
   ]
  },
  {
   "cell_type": "code",
   "execution_count": 2,
   "metadata": {},
   "outputs": [
    {
     "name": "stdout",
     "output_type": "stream",
     "text": [
      "(67, 1) (67,) (50, 1) (50,)\n"
     ]
    }
   ],
   "source": [
    "X_train, y_train = load_italy_power_demand(split=\"train\", return_X_y=True)\n",
    "X_test, y_test = load_italy_power_demand(split=\"test\", return_X_y=True)\n",
    "X_test = X_test[:50]\n",
    "y_test = y_test[:50]\n",
    "\n",
    "print(X_train.shape, y_train.shape, X_test.shape, y_test.shape)"
   ]
  },
  {
   "cell_type": "markdown",
   "metadata": {},
   "source": [
    "## 3. Time Series Forest (TSF)\n",
    "\n",
    "TSF is an ensemble of tree classifiers built on the summary statistics of randomly selected intervals.\n",
    "For each tree sqrt(series_length) intervals are randomly selected.\n",
    "From each of these intervals the mean, standard deviation and slope is extracted from each time series and concatenated into a feature vector.\n",
    "These new features are then used to build a tree, which is added to the ensemble."
   ]
  },
  {
   "cell_type": "code",
   "execution_count": 3,
   "metadata": {},
   "outputs": [
    {
     "name": "stdout",
     "output_type": "stream",
     "text": [
      "TSF Accuracy: 0.98\n"
     ]
    }
   ],
   "source": [
    "tsf = TimeSeriesForest(n_estimators=200, random_state=47)\n",
    "tsf.fit(X_train, y_train)\n",
    "\n",
    "tsf_preds = tsf.predict(X_test)\n",
    "print(\"TSF Accuracy: \" + str(metrics.accuracy_score(y_test, tsf_preds)))"
   ]
  },
  {
   "cell_type": "markdown",
   "metadata": {},
   "source": [
    "## 4. Canonical Interval Forest (CIF)\n",
    "\n",
    "CIF extends from the TSF algorithm. In addition to the 3 summary statistics used by TSF, CIF makes use of the features from the `Catch22` transform.\n",
    "To increase the diversity of the ensemble, the number of TSF and catch22 attributes is randomly subsampled per tree.\n",
    "\n",
    "<span style=\"color:red\">**CIF is currently unstable due o The catch22 package, results will differ between operating systems.**</span>"
   ]
  },
  {
   "cell_type": "code",
   "execution_count": 4,
   "metadata": {
    "pycharm": {
     "name": "#%%\n"
    }
   },
   "outputs": [
    {
     "name": "stdout",
     "output_type": "stream",
     "text": [
      "CIF Accuracy: 1.0\n"
     ]
    }
   ],
   "source": [
    "cif = CanonicalIntervalForest(n_estimators=500, att_subsample_size=8, random_state=47)\n",
    "cif.fit(X_train, y_train)\n",
    "\n",
    "cif_preds = cif.predict(X_test)\n",
    "print(\"CIF Accuracy: \" + str(metrics.accuracy_score(y_test, cif_preds)))"
   ]
  }
 ],
 "metadata": {
  "kernelspec": {
   "display_name": "Python 3",
   "language": "python",
   "name": "python3"
  },
  "language_info": {
   "codemirror_mode": {
    "name": "ipython",
    "version": 3
   },
   "file_extension": ".py",
   "mimetype": "text/x-python",
   "name": "python",
   "nbconvert_exporter": "python",
   "pygments_lexer": "ipython3",
   "version": "3.8.6"
  }
 },
 "nbformat": 4,
 "nbformat_minor": 2
}
