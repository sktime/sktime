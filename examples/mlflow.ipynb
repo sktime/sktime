{
 "cells": [
  {
   "attachments": {},
   "cell_type": "markdown",
   "metadata": {},
   "source": [
    "# MLflow \n",
    "\n",
    "The sktime custom model flavor enables logging of sktime models in MLflow format via the `sktime.utils.mlflow_sktime.save_model()` and `sktime.utils.mlflow_sktime.log_model()` methods. These methods also add the `pyfunc` flavor to the MLflow Models that they produce, allowing the model to be interpreted as generic Python functions for inference via `sktime.utils.mlflow_sktime.pyfunc.load_model()`. This loaded PyFunc model can only be scored with a DataFrame input. You can also use the `sktime.utils.mlflow_sktime.load_model()` method to load MLflow Models with the sktime model flavor in native sktime formats.\n",
    "\n",
    "The `pyfunc` flavor of the model supports sktime predict methods `predict`,  `predict_interval`, `predict_proba`, `predict_quantiles`, `predict_var`.\n",
    "\n",
    "The interface for utilizing a sktime model loaded as a `pyfunc` type for generating forecasts requires passing an exogenous regressor as Pandas DataFrame to the `pyfunc.predict()` method (an empty DataFrame must be passed if no exogenous regressor is used). The configuration of predict methods and parameter values passed to the predict methods is defined by a dictionary to be saved as an attribute of the fitted sktime model instance. If no prediction configuration is defined `pyfunc.predict()` will return output from sktime `predict` method. Note that for `pyfunc` flavor the forecasting horizon `fh` must be passed to the fit method.\n",
    "\n",
    "Predict methods and parameter values for `pyfunc` flavor can be defined in two ways: \n",
    "- `Dict[str, dict]` if parameter values are passed to `pyfunc.predict()`, for example  `{\"predict_method\": {\"predict\": {}, \"predict_interval\": {\"coverage\": [0.1, 0.9]}}`\n",
    "- `Dict[str, list]`, with default parameters in predict method, for example  `{\"predict_method\": [\"predict\", \"predict_interval\"}` (Note: when including `predict_proba` method the former appraoch must be followed as `quantiles` parameter has to be provided by the user) \n",
    "- If no prediction config is defined `pyfunc.predict()` will return output from sktime `predict()` method\n",
    "\n",
    "Signature logging for sktime from a non-pyfunc artifact will not function correctly for `predict_interval` or `predict_quantiles`. The output of the native sktime model flavor for these methods is not a recognized signature type due to the MultiIndex column structure of the returned DataFrame. MLflow's ``infer_schema`` will function correctly if using the ``pyfunc`` flavor of the model, though."
   ]
  },
  {
   "attachments": {},
   "cell_type": "markdown",
   "metadata": {},
   "source": [
    "## 1. Setup\n",
    "### 1.1 Config"
   ]
  },
  {
   "cell_type": "code",
   "execution_count": 1,
   "metadata": {},
   "outputs": [],
   "source": [
    "model_path = \"model\""
   ]
  },
  {
   "attachments": {},
   "cell_type": "markdown",
   "metadata": {},
   "source": [
    "### 1.1 Imports"
   ]
  },
  {
   "cell_type": "code",
   "execution_count": 2,
   "metadata": {},
   "outputs": [],
   "source": [
    "import mlflow\n",
    "\n",
    "from sktime.datasets import load_longley\n",
    "from sktime.forecasting.model_selection import temporal_train_test_split\n",
    "from sktime.forecasting.naive import NaiveForecaster\n",
    "from sktime.utils import mlflow_sktime"
   ]
  },
  {
   "attachments": {},
   "cell_type": "markdown",
   "metadata": {},
   "source": [
    "### 1.2 Load sample data"
   ]
  },
  {
   "cell_type": "code",
   "execution_count": 3,
   "metadata": {},
   "outputs": [],
   "source": [
    "y, X = load_longley()\n",
    "y_train, y_test, X_train, X_test = temporal_train_test_split(y, X)"
   ]
  },
  {
   "attachments": {},
   "cell_type": "markdown",
   "metadata": {},
   "source": [
    "## 2. Example usage of native `sktime flavor` and `pyfunc flavor`\n",
    "\n",
    "### 2.1 Create prediction config for pyfunc flavor"
   ]
  },
  {
   "cell_type": "code",
   "execution_count": 4,
   "metadata": {},
   "outputs": [],
   "source": [
    "coverage = [0.8, 0.9]\n",
    "quantiles = [0.1, 0.9]\n",
    "\n",
    "pyfunc_predict_conf = {\n",
    "    \"predict_method\": {\n",
    "        \"predict\": {},\n",
    "        \"predict_interval\": {\"coverage\": coverage},\n",
    "        \"predict_proba\": {\"quantiles\": quantiles},\n",
    "        \"predict_quantiles\": {},\n",
    "        \"predict_var\": {},\n",
    "    }\n",
    "}"
   ]
  },
  {
   "attachments": {},
   "cell_type": "markdown",
   "metadata": {},
   "source": [
    "### 2.2 Train and save model"
   ]
  },
  {
   "cell_type": "code",
   "execution_count": 5,
   "metadata": {},
   "outputs": [
    {
     "ename": "MlflowException",
     "evalue": "Path 'model' already exists and is not empty",
     "output_type": "error",
     "traceback": [
      "\u001b[0;31m---------------------------------------------------------------------------\u001b[0m",
      "\u001b[0;31mMlflowException\u001b[0m                           Traceback (most recent call last)",
      "\u001b[1;32m/Users/afi/Documents/repos/sktime/examples/mlflow.ipynb Cell 11\u001b[0m line \u001b[0;36m1\n\u001b[1;32m      <a href='vscode-notebook-cell:/Users/afi/Documents/repos/sktime/examples/mlflow.ipynb#X13sZmlsZQ%3D%3D?line=3'>4</a>\u001b[0m forecaster\u001b[39m.\u001b[39mfit(\n\u001b[1;32m      <a href='vscode-notebook-cell:/Users/afi/Documents/repos/sktime/examples/mlflow.ipynb#X13sZmlsZQ%3D%3D?line=4'>5</a>\u001b[0m     y_train,\n\u001b[1;32m      <a href='vscode-notebook-cell:/Users/afi/Documents/repos/sktime/examples/mlflow.ipynb#X13sZmlsZQ%3D%3D?line=5'>6</a>\u001b[0m     X\u001b[39m=\u001b[39mX_train,\n\u001b[1;32m      <a href='vscode-notebook-cell:/Users/afi/Documents/repos/sktime/examples/mlflow.ipynb#X13sZmlsZQ%3D%3D?line=6'>7</a>\u001b[0m     fh\u001b[39m=\u001b[39m[\u001b[39m1\u001b[39m, \u001b[39m2\u001b[39m, \u001b[39m3\u001b[39m],\n\u001b[1;32m      <a href='vscode-notebook-cell:/Users/afi/Documents/repos/sktime/examples/mlflow.ipynb#X13sZmlsZQ%3D%3D?line=7'>8</a>\u001b[0m )\n\u001b[1;32m      <a href='vscode-notebook-cell:/Users/afi/Documents/repos/sktime/examples/mlflow.ipynb#X13sZmlsZQ%3D%3D?line=8'>9</a>\u001b[0m forecaster\u001b[39m.\u001b[39mpyfunc_predict_conf \u001b[39m=\u001b[39m pyfunc_predict_conf\n\u001b[0;32m---> <a href='vscode-notebook-cell:/Users/afi/Documents/repos/sktime/examples/mlflow.ipynb#X13sZmlsZQ%3D%3D?line=10'>11</a>\u001b[0m mlflow_sktime\u001b[39m.\u001b[39;49msave_model(forecaster, model_path)\n",
      "File \u001b[0;32m~/Documents/repos/sktime/sktime/utils/mlflow_sktime.py:251\u001b[0m, in \u001b[0;36msave_model\u001b[0;34m(sktime_model, path, conda_env, code_paths, mlflow_model, signature, input_example, pip_requirements, extra_pip_requirements, serialization_format)\u001b[0m\n\u001b[1;32m    238\u001b[0m \u001b[39mif\u001b[39;00m serialization_format \u001b[39mnot\u001b[39;00m \u001b[39min\u001b[39;00m SUPPORTED_SERIALIZATION_FORMATS:\n\u001b[1;32m    239\u001b[0m     \u001b[39mraise\u001b[39;00m MlflowException(\n\u001b[1;32m    240\u001b[0m         message\u001b[39m=\u001b[39m(\n\u001b[1;32m    241\u001b[0m             \u001b[39m\"\u001b[39m\u001b[39mUnrecognized serialization format: \u001b[39m\u001b[39m{serialization_format}\u001b[39;00m\u001b[39m. \u001b[39m\u001b[39m\"\u001b[39m\n\u001b[0;32m   (...)\u001b[0m\n\u001b[1;32m    248\u001b[0m         error_code\u001b[39m=\u001b[39mINVALID_PARAMETER_VALUE,\n\u001b[1;32m    249\u001b[0m     )\n\u001b[0;32m--> 251\u001b[0m _validate_and_prepare_target_save_path(path)\n\u001b[1;32m    252\u001b[0m code_dir_subpath \u001b[39m=\u001b[39m _validate_and_copy_code_paths(code_paths, path)\n\u001b[1;32m    254\u001b[0m \u001b[39mif\u001b[39;00m mlflow_model \u001b[39mis\u001b[39;00m \u001b[39mNone\u001b[39;00m:\n",
      "File \u001b[0;32m~/miniconda3/envs/sktime/lib/python3.9/site-packages/mlflow/utils/model_utils.py:131\u001b[0m, in \u001b[0;36m_validate_and_prepare_target_save_path\u001b[0;34m(path)\u001b[0m\n\u001b[1;32m    129\u001b[0m \u001b[39mdef\u001b[39;00m \u001b[39m_validate_and_prepare_target_save_path\u001b[39m(path):\n\u001b[1;32m    130\u001b[0m     \u001b[39mif\u001b[39;00m os\u001b[39m.\u001b[39mpath\u001b[39m.\u001b[39mexists(path) \u001b[39mand\u001b[39;00m \u001b[39many\u001b[39m(os\u001b[39m.\u001b[39mscandir(path)):\n\u001b[0;32m--> 131\u001b[0m         \u001b[39mraise\u001b[39;00m MlflowException(\n\u001b[1;32m    132\u001b[0m             message\u001b[39m=\u001b[39m\u001b[39mf\u001b[39m\u001b[39m\"\u001b[39m\u001b[39mPath \u001b[39m\u001b[39m'\u001b[39m\u001b[39m{\u001b[39;00mpath\u001b[39m}\u001b[39;00m\u001b[39m'\u001b[39m\u001b[39m already exists and is not empty\u001b[39m\u001b[39m\"\u001b[39m,\n\u001b[1;32m    133\u001b[0m             error_code\u001b[39m=\u001b[39mRESOURCE_ALREADY_EXISTS,\n\u001b[1;32m    134\u001b[0m         )\n\u001b[1;32m    136\u001b[0m     os\u001b[39m.\u001b[39mmakedirs(path, exist_ok\u001b[39m=\u001b[39m\u001b[39mTrue\u001b[39;00m)\n",
      "\u001b[0;31mMlflowException\u001b[0m: Path 'model' already exists and is not empty"
     ]
    }
   ],
   "source": [
    "with mlflow.start_run():\n",
    "\n",
    "    forecaster = NaiveForecaster()\n",
    "    forecaster.fit(\n",
    "        y_train,\n",
    "        X=X_train,\n",
    "        fh=[1, 2, 3],\n",
    "    )\n",
    "    forecaster.pyfunc_predict_conf = pyfunc_predict_conf\n",
    "\n",
    "    mlflow_sktime.save_model(forecaster, model_path)"
   ]
  },
  {
   "attachments": {},
   "cell_type": "markdown",
   "metadata": {},
   "source": [
    "### 2.3 Load model\n",
    "\n",
    "#### 2.3.1 Native sktime flavor"
   ]
  },
  {
   "cell_type": "code",
   "execution_count": 6,
   "metadata": {},
   "outputs": [],
   "source": [
    "loaded_model = mlflow_sktime.load_model(model_path)"
   ]
  },
  {
   "attachments": {},
   "cell_type": "markdown",
   "metadata": {},
   "source": [
    "#### 2.3.2 Pyfunc flavor"
   ]
  },
  {
   "cell_type": "code",
   "execution_count": 7,
   "metadata": {},
   "outputs": [],
   "source": [
    "loaded_pyfunc = mlflow_sktime.pyfunc.load_model(model_path)"
   ]
  },
  {
   "attachments": {},
   "cell_type": "markdown",
   "metadata": {},
   "source": [
    "### 2.4 Generate predictions\n",
    "\n",
    "#### 2.4.1 Native sktime flavor"
   ]
  },
  {
   "cell_type": "code",
   "execution_count": 8,
   "metadata": {},
   "outputs": [
    {
     "data": {
      "text/plain": [
       "1959    66513.0\n",
       "1960    66513.0\n",
       "1961    66513.0\n",
       "Freq: A-DEC, Name: TOTEMP, dtype: float64"
      ]
     },
     "execution_count": 8,
     "metadata": {},
     "output_type": "execute_result"
    }
   ],
   "source": [
    "loaded_model.predict(X=X_test)"
   ]
  },
  {
   "cell_type": "code",
   "execution_count": 9,
   "metadata": {},
   "outputs": [
    {
     "data": {
      "text/html": [
       "<div>\n",
       "<style scoped>\n",
       "    .dataframe tbody tr th:only-of-type {\n",
       "        vertical-align: middle;\n",
       "    }\n",
       "\n",
       "    .dataframe tbody tr th {\n",
       "        vertical-align: top;\n",
       "    }\n",
       "\n",
       "    .dataframe thead tr th {\n",
       "        text-align: left;\n",
       "    }\n",
       "</style>\n",
       "<table border=\"1\" class=\"dataframe\">\n",
       "  <thead>\n",
       "    <tr>\n",
       "      <th></th>\n",
       "      <th colspan=\"4\" halign=\"left\">TOTEMP</th>\n",
       "    </tr>\n",
       "    <tr>\n",
       "      <th></th>\n",
       "      <th colspan=\"2\" halign=\"left\">0.8</th>\n",
       "      <th colspan=\"2\" halign=\"left\">0.9</th>\n",
       "    </tr>\n",
       "    <tr>\n",
       "      <th></th>\n",
       "      <th>lower</th>\n",
       "      <th>upper</th>\n",
       "      <th>lower</th>\n",
       "      <th>upper</th>\n",
       "    </tr>\n",
       "  </thead>\n",
       "  <tbody>\n",
       "    <tr>\n",
       "      <th>1959</th>\n",
       "      <td>64719.913711</td>\n",
       "      <td>68306.086289</td>\n",
       "      <td>64211.598663</td>\n",
       "      <td>68814.401337</td>\n",
       "    </tr>\n",
       "    <tr>\n",
       "      <th>1960</th>\n",
       "      <td>63977.193051</td>\n",
       "      <td>69048.806949</td>\n",
       "      <td>63258.327017</td>\n",
       "      <td>69767.672983</td>\n",
       "    </tr>\n",
       "    <tr>\n",
       "      <th>1961</th>\n",
       "      <td>63407.283445</td>\n",
       "      <td>69618.716555</td>\n",
       "      <td>62526.855956</td>\n",
       "      <td>70499.144044</td>\n",
       "    </tr>\n",
       "  </tbody>\n",
       "</table>\n",
       "</div>"
      ],
      "text/plain": [
       "            TOTEMP                                          \n",
       "               0.8                         0.9              \n",
       "             lower         upper         lower         upper\n",
       "1959  64719.913711  68306.086289  64211.598663  68814.401337\n",
       "1960  63977.193051  69048.806949  63258.327017  69767.672983\n",
       "1961  63407.283445  69618.716555  62526.855956  70499.144044"
      ]
     },
     "execution_count": 9,
     "metadata": {},
     "output_type": "execute_result"
    }
   ],
   "source": [
    "loaded_model.predict_interval(X=X_test, coverage=coverage)"
   ]
  },
  {
   "cell_type": "code",
   "execution_count": 10,
   "metadata": {},
   "outputs": [
    {
     "data": {
      "text/html": [
       "<div>\n",
       "<style scoped>\n",
       "    .dataframe tbody tr th:only-of-type {\n",
       "        vertical-align: middle;\n",
       "    }\n",
       "\n",
       "    .dataframe tbody tr th {\n",
       "        vertical-align: top;\n",
       "    }\n",
       "\n",
       "    .dataframe thead tr th {\n",
       "        text-align: left;\n",
       "    }\n",
       "</style>\n",
       "<table border=\"1\" class=\"dataframe\">\n",
       "  <thead>\n",
       "    <tr>\n",
       "      <th></th>\n",
       "      <th colspan=\"2\" halign=\"left\">TOTEMP</th>\n",
       "    </tr>\n",
       "    <tr>\n",
       "      <th></th>\n",
       "      <th>0.1</th>\n",
       "      <th>0.9</th>\n",
       "    </tr>\n",
       "  </thead>\n",
       "  <tbody>\n",
       "    <tr>\n",
       "      <th>1959</th>\n",
       "      <td>64719.913711</td>\n",
       "      <td>68306.086289</td>\n",
       "    </tr>\n",
       "    <tr>\n",
       "      <th>1960</th>\n",
       "      <td>63977.193051</td>\n",
       "      <td>69048.806949</td>\n",
       "    </tr>\n",
       "    <tr>\n",
       "      <th>1961</th>\n",
       "      <td>63407.283445</td>\n",
       "      <td>69618.716555</td>\n",
       "    </tr>\n",
       "  </tbody>\n",
       "</table>\n",
       "</div>"
      ],
      "text/plain": [
       "            TOTEMP              \n",
       "               0.1           0.9\n",
       "1959  64719.913711  68306.086289\n",
       "1960  63977.193051  69048.806949\n",
       "1961  63407.283445  69618.716555"
      ]
     },
     "execution_count": 10,
     "metadata": {},
     "output_type": "execute_result"
    }
   ],
   "source": [
    "y_pred_dist = loaded_model.predict_proba(X=X)\n",
    "y_pred_dist_quantiles = y_pred_dist.quantile(quantiles)\n",
    "y_pred_dist_quantiles"
   ]
  },
  {
   "cell_type": "code",
   "execution_count": 11,
   "metadata": {},
   "outputs": [
    {
     "data": {
      "text/html": [
       "<div>\n",
       "<style scoped>\n",
       "    .dataframe tbody tr th:only-of-type {\n",
       "        vertical-align: middle;\n",
       "    }\n",
       "\n",
       "    .dataframe tbody tr th {\n",
       "        vertical-align: top;\n",
       "    }\n",
       "\n",
       "    .dataframe thead tr th {\n",
       "        text-align: left;\n",
       "    }\n",
       "</style>\n",
       "<table border=\"1\" class=\"dataframe\">\n",
       "  <thead>\n",
       "    <tr>\n",
       "      <th></th>\n",
       "      <th colspan=\"2\" halign=\"left\">TOTEMP</th>\n",
       "    </tr>\n",
       "    <tr>\n",
       "      <th></th>\n",
       "      <th>0.05</th>\n",
       "      <th>0.95</th>\n",
       "    </tr>\n",
       "  </thead>\n",
       "  <tbody>\n",
       "    <tr>\n",
       "      <th>1959</th>\n",
       "      <td>64211.598663</td>\n",
       "      <td>68814.401337</td>\n",
       "    </tr>\n",
       "    <tr>\n",
       "      <th>1960</th>\n",
       "      <td>63258.327017</td>\n",
       "      <td>69767.672983</td>\n",
       "    </tr>\n",
       "    <tr>\n",
       "      <th>1961</th>\n",
       "      <td>62526.855956</td>\n",
       "      <td>70499.144044</td>\n",
       "    </tr>\n",
       "  </tbody>\n",
       "</table>\n",
       "</div>"
      ],
      "text/plain": [
       "            TOTEMP              \n",
       "              0.05          0.95\n",
       "1959  64211.598663  68814.401337\n",
       "1960  63258.327017  69767.672983\n",
       "1961  62526.855956  70499.144044"
      ]
     },
     "execution_count": 11,
     "metadata": {},
     "output_type": "execute_result"
    }
   ],
   "source": [
    "loaded_model.predict_quantiles(X=X_test)"
   ]
  },
  {
   "cell_type": "code",
   "execution_count": 12,
   "metadata": {},
   "outputs": [
    {
     "data": {
      "text/html": [
       "<div>\n",
       "<style scoped>\n",
       "    .dataframe tbody tr th:only-of-type {\n",
       "        vertical-align: middle;\n",
       "    }\n",
       "\n",
       "    .dataframe tbody tr th {\n",
       "        vertical-align: top;\n",
       "    }\n",
       "\n",
       "    .dataframe thead th {\n",
       "        text-align: right;\n",
       "    }\n",
       "</style>\n",
       "<table border=\"1\" class=\"dataframe\">\n",
       "  <thead>\n",
       "    <tr style=\"text-align: right;\">\n",
       "      <th></th>\n",
       "      <th>0</th>\n",
       "    </tr>\n",
       "  </thead>\n",
       "  <tbody>\n",
       "    <tr>\n",
       "      <th>1959</th>\n",
       "      <td>1.957628e+06</td>\n",
       "    </tr>\n",
       "    <tr>\n",
       "      <th>1960</th>\n",
       "      <td>3.915256e+06</td>\n",
       "    </tr>\n",
       "    <tr>\n",
       "      <th>1961</th>\n",
       "      <td>5.872885e+06</td>\n",
       "    </tr>\n",
       "  </tbody>\n",
       "</table>\n",
       "</div>"
      ],
      "text/plain": [
       "                 0\n",
       "1959  1.957628e+06\n",
       "1960  3.915256e+06\n",
       "1961  5.872885e+06"
      ]
     },
     "execution_count": 12,
     "metadata": {},
     "output_type": "execute_result"
    }
   ],
   "source": [
    "loaded_model.predict_var(X=X_test)"
   ]
  },
  {
   "attachments": {},
   "cell_type": "markdown",
   "metadata": {},
   "source": [
    "#### 2.4.2 Pyfunc flavor"
   ]
  },
  {
   "cell_type": "code",
   "execution_count": 13,
   "metadata": {},
   "outputs": [
    {
     "data": {
      "text/html": [
       "<div>\n",
       "<style scoped>\n",
       "    .dataframe tbody tr th:only-of-type {\n",
       "        vertical-align: middle;\n",
       "    }\n",
       "\n",
       "    .dataframe tbody tr th {\n",
       "        vertical-align: top;\n",
       "    }\n",
       "\n",
       "    .dataframe thead th {\n",
       "        text-align: right;\n",
       "    }\n",
       "</style>\n",
       "<table border=\"1\" class=\"dataframe\">\n",
       "  <thead>\n",
       "    <tr style=\"text-align: right;\">\n",
       "      <th></th>\n",
       "      <th>predict__TOTEMP</th>\n",
       "      <th>predict_interval__TOTEMP__0.8__lower</th>\n",
       "      <th>predict_interval__TOTEMP__0.8__upper</th>\n",
       "      <th>predict_interval__TOTEMP__0.9__lower</th>\n",
       "      <th>predict_interval__TOTEMP__0.9__upper</th>\n",
       "      <th>predict_proba__Quantiles_0.1</th>\n",
       "      <th>predict_proba__Quantiles_0.9</th>\n",
       "      <th>predict_quantiles__TOTEMP__0.05</th>\n",
       "      <th>predict_quantiles__TOTEMP__0.95</th>\n",
       "      <th>predict_var__0</th>\n",
       "    </tr>\n",
       "  </thead>\n",
       "  <tbody>\n",
       "    <tr>\n",
       "      <th>1959</th>\n",
       "      <td>66513.0</td>\n",
       "      <td>64719.913711</td>\n",
       "      <td>68306.086289</td>\n",
       "      <td>64211.598663</td>\n",
       "      <td>68814.401337</td>\n",
       "      <td>64719.913711</td>\n",
       "      <td>68306.086289</td>\n",
       "      <td>64211.598663</td>\n",
       "      <td>68814.401337</td>\n",
       "      <td>1.957628e+06</td>\n",
       "    </tr>\n",
       "    <tr>\n",
       "      <th>1960</th>\n",
       "      <td>66513.0</td>\n",
       "      <td>63977.193051</td>\n",
       "      <td>69048.806949</td>\n",
       "      <td>63258.327017</td>\n",
       "      <td>69767.672983</td>\n",
       "      <td>63977.193051</td>\n",
       "      <td>69048.806949</td>\n",
       "      <td>63258.327017</td>\n",
       "      <td>69767.672983</td>\n",
       "      <td>3.915256e+06</td>\n",
       "    </tr>\n",
       "    <tr>\n",
       "      <th>1961</th>\n",
       "      <td>66513.0</td>\n",
       "      <td>63407.283445</td>\n",
       "      <td>69618.716555</td>\n",
       "      <td>62526.855956</td>\n",
       "      <td>70499.144044</td>\n",
       "      <td>63407.283445</td>\n",
       "      <td>69618.716555</td>\n",
       "      <td>62526.855956</td>\n",
       "      <td>70499.144044</td>\n",
       "      <td>5.872885e+06</td>\n",
       "    </tr>\n",
       "  </tbody>\n",
       "</table>\n",
       "</div>"
      ],
      "text/plain": [
       "      predict__TOTEMP  predict_interval__TOTEMP__0.8__lower  \\\n",
       "1959          66513.0                          64719.913711   \n",
       "1960          66513.0                          63977.193051   \n",
       "1961          66513.0                          63407.283445   \n",
       "\n",
       "      predict_interval__TOTEMP__0.8__upper  \\\n",
       "1959                          68306.086289   \n",
       "1960                          69048.806949   \n",
       "1961                          69618.716555   \n",
       "\n",
       "      predict_interval__TOTEMP__0.9__lower  \\\n",
       "1959                          64211.598663   \n",
       "1960                          63258.327017   \n",
       "1961                          62526.855956   \n",
       "\n",
       "      predict_interval__TOTEMP__0.9__upper  predict_proba__Quantiles_0.1  \\\n",
       "1959                          68814.401337                  64719.913711   \n",
       "1960                          69767.672983                  63977.193051   \n",
       "1961                          70499.144044                  63407.283445   \n",
       "\n",
       "      predict_proba__Quantiles_0.9  predict_quantiles__TOTEMP__0.05  \\\n",
       "1959                  68306.086289                     64211.598663   \n",
       "1960                  69048.806949                     63258.327017   \n",
       "1961                  69618.716555                     62526.855956   \n",
       "\n",
       "      predict_quantiles__TOTEMP__0.95  predict_var__0  \n",
       "1959                     68814.401337    1.957628e+06  \n",
       "1960                     69767.672983    3.915256e+06  \n",
       "1961                     70499.144044    5.872885e+06  "
      ]
     },
     "execution_count": 13,
     "metadata": {},
     "output_type": "execute_result"
    }
   ],
   "source": [
    "loaded_pyfunc.predict(X_test)"
   ]
  },
  {
   "attachments": {},
   "cell_type": "markdown",
   "metadata": {},
   "source": [
    "## 3. Model deployment example\n",
    "\n",
    "### 3.1 Create experiment"
   ]
  },
  {
   "cell_type": "code",
   "execution_count": 14,
   "metadata": {},
   "outputs": [
    {
     "name": "stdout",
     "output_type": "stream",
     "text": [
      "MLflow run id: e4dce1c5c5584a2abe5db7f92c497f15\n"
     ]
    },
    {
     "name": "stderr",
     "output_type": "stream",
     "text": [
      "/Users/afi/miniconda3/envs/sktime/lib/python3.9/site-packages/_distutils_hack/__init__.py:33: UserWarning: Setuptools is replacing distutils.\n",
      "  warnings.warn(\"Setuptools is replacing distutils.\")\n"
     ]
    }
   ],
   "source": [
    "artifact_path = \"model\"\n",
    "\n",
    "mlflow.set_experiment(\"Test Sktime\")\n",
    "\n",
    "with mlflow.start_run() as run:\n",
    "\n",
    "    forecaster = NaiveForecaster()\n",
    "    forecaster.fit(y_train, X=X_train, fh=[1, 2, 3])\n",
    "    forecaster.pyfunc_predict_conf = pyfunc_predict_conf\n",
    "\n",
    "    mlflow_sktime.log_model(sktime_model=forecaster, artifact_path=artifact_path)\n",
    "\n",
    "run_id = run.info.run_id\n",
    "print(f\"MLflow run id: {run_id}\")"
   ]
  },
  {
   "attachments": {},
   "cell_type": "markdown",
   "metadata": {},
   "source": [
    "### 3.2 Deploy pyfunc model to local REST API endpoint\n",
    "- Open a terminal window and cd into `examples`directory\n",
    "- In the terminal run: `mlflow models serve -m runs:/<RUN_ID>/model --env-manager local --host <HOST>`\n",
    "    - where you substitute `<RUN_ID>` by the `run_id` and `<HOST>` by the network address to listen on (e.g. `127.0.0.1`) \n",
    "- More details here: https://www.mlflow.org/docs/latest/cli.html#mlflow-models-serve"
   ]
  },
  {
   "attachments": {},
   "cell_type": "markdown",
   "metadata": {},
   "source": [
    "### 3.3 Request predictions from local REST API endpoint\n",
    "\n",
    "- For mor details see: https://www.mlflow.org/docs/latest/models.html#built-in-deployment-tools\n",
    "\n",
    "#### 3.3.1 JSON input using `dataframe_split` field with pandas DataFrame in the `split` orientation"
   ]
  },
  {
   "cell_type": "code",
   "execution_count": 16,
   "metadata": {},
   "outputs": [
    {
     "name": "stdout",
     "output_type": "stream",
     "text": [
      "{'dataframe_split': {'index': [0, 1, 2, 3], 'columns': ['GNPDEFL', 'GNP', 'UNEMP', 'ARMED', 'POP'], 'data': [[112.6, 482704.0, 3813.0, 2552.0, 123366.0], [114.2, 502601.0, 3931.0, 2514.0, 125368.0], [115.7, 518173.0, 4806.0, 2572.0, 127852.0], [116.9, 554894.0, 4007.0, 2827.0, 130081.0]]}}\n"
     ]
    }
   ],
   "source": [
    "host = \"127.0.0.1\"\n",
    "url = f\"http://{host}:5000/invocations\"\n",
    "\n",
    "X_test = X_test.reset_index(drop=True)\n",
    "json_data = {\"dataframe_split\": X_test.to_dict(orient=\"split\")}\n",
    "print(json_data)\n",
    "\n",
    "# # Comment in the below lines to run the prediction request\n",
    "# import requests\n",
    "# response = requests.post(url, json=json_data)\n",
    "# response.json()"
   ]
  },
  {
   "attachments": {},
   "cell_type": "markdown",
   "metadata": {},
   "source": [
    "#### 3.3.2 JSON input using `dataframe_records` field with pandas DataFrame in the `records` orientation"
   ]
  },
  {
   "cell_type": "code",
   "execution_count": 18,
   "metadata": {},
   "outputs": [
    {
     "name": "stdout",
     "output_type": "stream",
     "text": [
      "{'dataframe_records': [{'GNPDEFL': 112.6, 'GNP': 482704.0, 'UNEMP': 3813.0, 'ARMED': 2552.0, 'POP': 123366.0}, {'GNPDEFL': 114.2, 'GNP': 502601.0, 'UNEMP': 3931.0, 'ARMED': 2514.0, 'POP': 125368.0}, {'GNPDEFL': 115.7, 'GNP': 518173.0, 'UNEMP': 4806.0, 'ARMED': 2572.0, 'POP': 127852.0}, {'GNPDEFL': 116.9, 'GNP': 554894.0, 'UNEMP': 4007.0, 'ARMED': 2827.0, 'POP': 130081.0}]}\n"
     ]
    }
   ],
   "source": [
    "json_data = {\"dataframe_records\": X_test.to_dict(orient=\"records\")}\n",
    "print(json_data)\n",
    "\n",
    "# # Comment in the below lines to run the prediction request\n",
    "# response = requests.post(url, json=json_data)\n",
    "# response.json()"
   ]
  },
  {
   "attachments": {},
   "cell_type": "markdown",
   "metadata": {},
   "source": [
    "#### 3.3.3 CSV input using valid `pd.DataFrame` csv representation"
   ]
  },
  {
   "cell_type": "code",
   "execution_count": 19,
   "metadata": {},
   "outputs": [
    {
     "name": "stdout",
     "output_type": "stream",
     "text": [
      ",GNPDEFL,GNP,UNEMP,ARMED,POP\n",
      "0,112.6,482704.0,3813.0,2552.0,123366.0\n",
      "1,114.2,502601.0,3931.0,2514.0,125368.0\n",
      "2,115.7,518173.0,4806.0,2572.0,127852.0\n",
      "3,116.9,554894.0,4007.0,2827.0,130081.0\n",
      "\n"
     ]
    }
   ],
   "source": [
    "headers = {\n",
    "    \"Content-Type\": \"text/csv\",\n",
    "}\n",
    "data = X_test.to_csv()\n",
    "print(data)\n",
    "\n",
    "# # Comment in the below lines to run the prediction request\n",
    "# response = requests.post(url, headers=headers, data=data)\n",
    "# response.json()"
   ]
  }
 ],
 "metadata": {
  "kernelspec": {
   "display_name": "sktime",
   "language": "python",
   "name": "python3"
  },
  "language_info": {
   "codemirror_mode": {
    "name": "ipython",
    "version": 3
   },
   "file_extension": ".py",
   "mimetype": "text/x-python",
   "name": "python",
   "nbconvert_exporter": "python",
   "pygments_lexer": "ipython3",
   "version": "3.9.17"
  }
 },
 "nbformat": 4,
 "nbformat_minor": 4
}
