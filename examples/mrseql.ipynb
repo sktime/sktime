{
 "cells": [
  {
   "cell_type": "markdown",
   "metadata": {},
   "source": [
    "# Time series classification with Mr-SEQL\n",
    "\n",
    "Mr-SEQL\\[1\\] is a univariate time series classifier which train linear classification models (logistic regression) with features extracted from multiple symbolic representations of time series (SAX, SFA). The features are extracted by using SEQL\\[2\\].\n",
    "\n",
    "\\[1\\] T. L. Nguyen, S. Gsponer, I. Ilie, M. O'reilly and G. Ifrim Interpretable Time Series Classification using Linear Models and Multi-resolution Multi-domain Symbolic Representations in Data Mining and Knowledge Discovery (DAMI), May 2019, https://link.springer.com/article/10.1007/s10618-019-00633-3\n",
    "\n",
    "\\[2\\] G. Ifrim, C. Wiuf\n",
    "“Bounded Coordinate-Descent for Biological Sequence Classification in High Dimensional Predictor Space” (KDD 2011)\n",
    "\n",
    "In this notebook, we will demonstrate how to use Mr-SEQL for univariate time series classification with the ArrowHead dataset, multivariate dataset BasicMotion and a variety of datasets from UEA/UCR time series datasets repository. Further information related to UEA/UCR repository can be found [here](http://www.timeseriesclassification.com/).\n",
    "\n",
    "## Imports"
   ]
  },
  {
   "cell_type": "code",
   "execution_count": null,
   "metadata": {},
   "outputs": [],
   "source": [
    "from sklearn import metrics\n",
    "from sklearn.model_selection import train_test_split\n",
    "\n",
    "from sktime.classification.shapelet_based import MrSEQLClassifier\n",
    "from sktime.datasets import load_arrow_head, load_basic_motions, load_UCR_UEA_dataset"
   ]
  },
  {
   "cell_type": "markdown",
   "metadata": {},
   "source": [
    "## Load data: Univariate time series\n",
    "For more details on the data set, see the [univariate time series classification notebook](https://github.com/alan-turing-institute/sktime/blob/main/examples/02_classification_univariate.ipynb)."
   ]
  },
  {
   "cell_type": "code",
   "execution_count": 19,
   "metadata": {},
   "outputs": [
    {
     "name": "stdout",
     "output_type": "stream",
     "text": [
      "(158, 1) (158,) (53, 1) (53,)\n"
     ]
    }
   ],
   "source": [
    "X, y = load_arrow_head(return_X_y=True)\n",
    "X_train, X_test, y_train, y_test = train_test_split(X, y, random_state=42)\n",
    "print(X_train.shape, y_train.shape, X_test.shape, y_test.shape)"
   ]
  },
  {
   "cell_type": "markdown",
   "metadata": {},
   "source": [
    "## Train and Test\n",
    "\n",
    "Mr-SEQL can be configured to run in different mode with different symbolic representation.\n",
    "\n",
    "seql_mode can be either 'clf' (SEQL as classifier) or 'fs' (SEQL as feature selection). If 'fs' mode is chosen, a logistic regression classifier will be trained with the features extracted by SEQL.\n",
    "'fs' mode is more accurate in general.\n",
    "\n",
    "symrep can include either 'sax' or 'sfa' or both. Using both usually produces a better result."
   ]
  },
  {
   "cell_type": "code",
   "execution_count": 20,
   "metadata": {},
   "outputs": [
    {
     "name": "stdout",
     "output_type": "stream",
     "text": [
      "Accuracy with mr-seql: 0.887\n"
     ]
    }
   ],
   "source": [
    "# Create mrseql object\n",
    "# use sax by default\n",
    "ms = MrSEQLClassifier(seql_mode=\"clf\")\n",
    "# use sfa representations\n",
    "# ms = MrSEQLClassifier(seql_mode='fs', symrep=['sfa'])\n",
    "# use sax and sfa representations\n",
    "# ms = MrSEQLClassifier(seql_mode='fs', symrep=['sax', 'sfa'])\n",
    "\n",
    "# fit training data\n",
    "ms.fit(X_train, y_train)\n",
    "\n",
    "# prediction\n",
    "predicted = ms.predict(X_test)\n",
    "\n",
    "# Classification accuracy\n",
    "print(\"Accuracy with mr-seql: %2.3f\" % metrics.accuracy_score(y_test, predicted))"
   ]
  },
  {
   "cell_type": "markdown",
   "metadata": {},
   "source": [
    "## Load data: Multivariate time series\n",
    "Mr-SEQL also supports multivariate time series. Mr-SEQL extracts features from each dimension of the data independently."
   ]
  },
  {
   "cell_type": "code",
   "execution_count": 21,
   "metadata": {},
   "outputs": [
    {
     "name": "stdout",
     "output_type": "stream",
     "text": [
      "(60, 6) (60,) (20, 6) (20,)\n"
     ]
    }
   ],
   "source": [
    "X, y = load_basic_motions(return_X_y=True)\n",
    "X_train, X_test, y_train, y_test = train_test_split(X, y, random_state=42)\n",
    "print(X_train.shape, y_train.shape, X_test.shape, y_test.shape)"
   ]
  },
  {
   "cell_type": "markdown",
   "metadata": {},
   "source": [
    "## Train and Test"
   ]
  },
  {
   "cell_type": "code",
   "execution_count": 12,
   "metadata": {},
   "outputs": [
    {
     "name": "stdout",
     "output_type": "stream",
     "text": [
      "Accuracy with mr-seql: 0.934\n"
     ]
    }
   ],
   "source": [
    "ms = MrSEQLClassifier()\n",
    "\n",
    "# fit training data\n",
    "ms.fit(X_train, y_train)\n",
    "\n",
    "predicted = ms.predict(X_test)\n",
    "\n",
    "# Classification accuracy\n",
    "print(\"Accuracy with mr-seql: %2.3f\" % metrics.accuracy_score(y_test, predicted))"
   ]
  },
  {
   "cell_type": "markdown",
   "metadata": {},
   "source": [
    "## Load data: ItalyPowerDemand\n",
    "The dataset consists of twelve monthly electrical power demand time series from Italy. The classification task is to distinguish days from Oct to March (inclusive) from April to September. [Details here](http://www.timeseriesclassification.com/description.php?Dataset=ItalyPowerDemand)"
   ]
  },
  {
   "cell_type": "code",
   "execution_count": 10,
   "metadata": {},
   "outputs": [
    {
     "name": "stdout",
     "output_type": "stream",
     "text": [
      "(822, 1) (822,) (274, 1) (274,)\n"
     ]
    }
   ],
   "source": [
    "X, y = load_UCR_UEA_dataset(\"ItalyPowerDemand\", return_X_y=True)\n",
    "X_train, X_test, y_train, y_test = train_test_split(X, y, random_state=42)\n",
    "print(X_train.shape, y_train.shape, X_test.shape, y_test.shape)"
   ]
  },
  {
   "cell_type": "markdown",
   "metadata": {},
   "source": [
    "## Train and Test"
   ]
  },
  {
   "cell_type": "code",
   "execution_count": 26,
   "metadata": {},
   "outputs": [
    {
     "name": "stdout",
     "output_type": "stream",
     "text": [
      "Accuracy with mr-seql: 0.942\n"
     ]
    }
   ],
   "source": [
    "# Create mrseql object\n",
    "# use sax by default\n",
    "ms = MrSEQLClassifier(seql_mode=\"clf\")\n",
    "\n",
    "# fit training data\n",
    "ms.fit(X_train, y_train)\n",
    "\n",
    "# prediction\n",
    "predicted = ms.predict(X_test)\n",
    "\n",
    "# Classification accuracy\n",
    "print(\"Accuracy with mr-seql: %2.3f\" % metrics.accuracy_score(y_test, predicted))"
   ]
  },
  {
   "cell_type": "markdown",
   "metadata": {},
   "source": [
    "## Load data: GunPoint\n",
    "This dataset involves one female actor and one male actor making a motion with their hand. The two classes are: Gun-Draw and Point.[Details here](http://www.timeseriesclassification.com/description.php?Dataset=GunPoint)"
   ]
  },
  {
   "cell_type": "code",
   "execution_count": 28,
   "metadata": {},
   "outputs": [
    {
     "name": "stdout",
     "output_type": "stream",
     "text": [
      "(150, 1) (150,) (50, 1) (50,)\n"
     ]
    }
   ],
   "source": [
    "X, y = load_UCR_UEA_dataset(\"GunPoint\", return_X_y=True)\n",
    "X_train, X_test, y_train, y_test = train_test_split(X, y, random_state=42)\n",
    "print(X_train.shape, y_train.shape, X_test.shape, y_test.shape)"
   ]
  },
  {
   "cell_type": "markdown",
   "metadata": {},
   "source": [
    "## Train and Test"
   ]
  },
  {
   "cell_type": "code",
   "execution_count": 29,
   "metadata": {},
   "outputs": [
    {
     "name": "stdout",
     "output_type": "stream",
     "text": [
      "Accuracy with mr-seql: 1.000\n"
     ]
    }
   ],
   "source": [
    "# Create mrseql object\n",
    "# use sax by default\n",
    "ms = MrSEQLClassifier(seql_mode=\"clf\")\n",
    "\n",
    "# fit training data\n",
    "ms.fit(X_train, y_train)\n",
    "\n",
    "# prediction\n",
    "predicted = ms.predict(X_test)\n",
    "\n",
    "# Classification accuracy\n",
    "print(\"Accuracy with mr-seql: %2.3f\" % metrics.accuracy_score(y_test, predicted))"
   ]
  },
  {
   "cell_type": "markdown",
   "metadata": {},
   "source": [
    "## Load data: Earthquakes\n",
    "The earthquake classification problem involves predicting whether a major event is about to occur based on the most recent readings in the surrounding area.[Details here](http://www.timeseriesclassification.com/description.php?Dataset=Earthquakes)"
   ]
  },
  {
   "cell_type": "code",
   "execution_count": 4,
   "metadata": {},
   "outputs": [
    {
     "name": "stdout",
     "output_type": "stream",
     "text": [
      "(345, 1) (345,) (116, 1) (116,)\n"
     ]
    }
   ],
   "source": [
    "X, y = load_UCR_UEA_dataset(\"Earthquakes\", return_X_y=True)\n",
    "X_train, X_test, y_train, y_test = train_test_split(X, y, random_state=42)\n",
    "print(X_train.shape, y_train.shape, X_test.shape, y_test.shape)"
   ]
  },
  {
   "cell_type": "markdown",
   "metadata": {},
   "source": [
    "## Train and Test"
   ]
  },
  {
   "cell_type": "code",
   "execution_count": 5,
   "metadata": {},
   "outputs": [
    {
     "name": "stdout",
     "output_type": "stream",
     "text": [
      "Accuracy with mr-seql: 0.767\n"
     ]
    }
   ],
   "source": [
    "# Create mrseql object\n",
    "# use sax by default\n",
    "ms = MrSEQLClassifier(seql_mode=\"clf\")\n",
    "\n",
    "# fit training data\n",
    "ms.fit(X_train, y_train)\n",
    "\n",
    "# prediction\n",
    "predicted = ms.predict(X_test)\n",
    "\n",
    "# Classification accuracy\n",
    "print(\"Accuracy with mr-seql: %2.3f\" % metrics.accuracy_score(y_test, predicted))"
   ]
  },
  {
   "cell_type": "markdown",
   "metadata": {},
   "source": [
    "## Load data: JapaneseVowels\n",
    "The dataset includes 9 Japanese-male speakers recorded saying the vowels 'a' and 'e'. The classification task is to predict the speaker. [Details here](http://www.timeseriesclassification.com/description.php?Dataset=JapaneseVowels)"
   ]
  },
  {
   "cell_type": "code",
   "execution_count": 6,
   "metadata": {},
   "outputs": [
    {
     "name": "stdout",
     "output_type": "stream",
     "text": [
      "(405, 12) (405,) (135, 12) (135,)\n"
     ]
    }
   ],
   "source": [
    "X, y = load_UCR_UEA_dataset(\"JapaneseVowels\", return_X_y=True)\n",
    "X_train, X_test, y_train, y_test = train_test_split(X, y, random_state=42)\n",
    "print(X_train.shape, y_train.shape, X_test.shape, y_test.shape)"
   ]
  },
  {
   "cell_type": "markdown",
   "metadata": {},
   "source": [
    "## Train and Test"
   ]
  },
  {
   "cell_type": "code",
   "execution_count": 7,
   "metadata": {},
   "outputs": [
    {
     "name": "stdout",
     "output_type": "stream",
     "text": [
      "Accuracy with mr-seql: 0.956\n"
     ]
    }
   ],
   "source": [
    "# Create mrseql object\n",
    "# use sax by default\n",
    "ms = MrSEQLClassifier(seql_mode=\"clf\")\n",
    "# use sfa representations\n",
    "# ms = MrSEQLClassifier(seql_mode='fs', symrep=['sfa'])\n",
    "# use sax and sfa representations\n",
    "# ms = MrSEQLClassifier(seql_mode='fs', symrep=['sax', 'sfa'])\n",
    "\n",
    "# fit training data\n",
    "ms.fit(X_train, y_train)\n",
    "\n",
    "# prediction\n",
    "predicted = ms.predict(X_test)\n",
    "\n",
    "# Classification accuracy\n",
    "print(\"Accuracy with mr-seql: %2.3f\" % metrics.accuracy_score(y_test, predicted))"
   ]
  },
  {
   "cell_type": "markdown",
   "metadata": {},
   "source": [
    "## Load data: Yoga\n",
    "The dataset involves two actors transiting between yoga poses in front of a green screen and the learning task is to classify between one actor (male) and another (female). [Details here](http://www.timeseriesclassification.com/description.php?Dataset=Yoga)"
   ]
  },
  {
   "cell_type": "code",
   "execution_count": 8,
   "metadata": {},
   "outputs": [
    {
     "name": "stdout",
     "output_type": "stream",
     "text": [
      "(2475, 1) (2475,) (825, 1) (825,)\n"
     ]
    }
   ],
   "source": [
    "X, y = load_UCR_UEA_dataset(\"Yoga\", return_X_y=True)\n",
    "X_train, X_test, y_train, y_test = train_test_split(X, y, random_state=42)\n",
    "print(X_train.shape, y_train.shape, X_test.shape, y_test.shape)"
   ]
  },
  {
   "cell_type": "markdown",
   "metadata": {},
   "source": [
    "## Train and Test"
   ]
  },
  {
   "cell_type": "code",
   "execution_count": 13,
   "metadata": {},
   "outputs": [
    {
     "name": "stdout",
     "output_type": "stream",
     "text": [
      "Accuracy with mr-seql: 0.942\n"
     ]
    }
   ],
   "source": [
    "# Create mrseql object\n",
    "# use sax by default\n",
    "ms = MrSEQLClassifier(seql_mode=\"clf\")\n",
    "\n",
    "# fit training data\n",
    "ms.fit(X_train, y_train)\n",
    "\n",
    "# prediction\n",
    "predicted = ms.predict(X_test)\n",
    "\n",
    "# Classification accuracy\n",
    "print(\"Accuracy with mr-seql: %2.3f\" % metrics.accuracy_score(y_test, predicted))"
   ]
  },
  {
   "cell_type": "code",
   "execution_count": null,
   "metadata": {},
   "outputs": [],
   "source": []
  }
 ],
 "metadata": {
  "kernelspec": {
   "display_name": "Python 3",
   "language": "python",
   "name": "python3"
  },
  "language_info": {
   "codemirror_mode": {
    "name": "ipython",
    "version": 3
   },
   "file_extension": ".py",
   "mimetype": "text/x-python",
   "name": "python",
   "nbconvert_exporter": "python",
   "pygments_lexer": "ipython3",
   "version": "3.8.10"
  }
 },
 "nbformat": 4,
 "nbformat_minor": 4
}
