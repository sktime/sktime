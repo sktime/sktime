{
 "cells": [
  {
   "cell_type": "markdown",
   "id": "598ecc7b-ddeb-4a8c-b897-3433b703f04b",
   "metadata": {},
   "source": [
    "# Overview\n",
    "\n",
    "The sktime network pipeline is allows users to execute steps in a non-sequential manner. This functionality allows users to apply transformations on the input data that would not otherwise be possible to achieve inside standard linear pipelines. In addition to this, the sktime network pipeline supports applying transformations not only on `X` but also on `y`. In contrast, sklearn supports transformations on `y` only. Furthermore, the sktime pipeline allows different behaviour at `fit`, `predict` and `update` of the pipeline.\n",
    "\n",
    "The sktime network pipeline currently supports only **forecasting tasks** and can be used by importing `sktime.forecasting.compose.NetworkPipelineForecaster`. Users need to specify the *steps* that will be executed inside the pipeline. The steps need to be provided as a *list of tuples* where each element of the list follows the convention below:\n",
    "\n",
    "```Python\n",
    "(step_name, estimator, parameters)\n",
    "```\n",
    "where:\n",
    "1. `step_name` is a string, \n",
    "2. `estimator` is an object that can be either a `transformer` or `forecaster` \n",
    "3. `parameters` is a dictionary\n",
    "\n",
    "The `parameters` dictionary deserves special attention.\n",
    "\n",
    "The dictionary should be structed as *keyword arguments* taken by the signatures of the `fit`, `predict` and `update` methods of the estimator in the same step. In other words, the *dictionary keys* must correspond to the arguments in the signature of the `fit`, `predict` or `update` methods and the *dictionary values* must correspond to the values the user wants to assign. The *dictionary values* can be either:\n",
    "* **The original input variables.** In this case the special strings `original_X`, `original_y` and `original_fh` must be used. For example the tuple \n",
    "```Python\n",
    "('ft1', BoxCoxTransformer(), {'X':'original_X'}) \n",
    "```\n",
    "\n",
    "specifies a step called ft1, that uses the BoxCoxTransformer and passes the value of `X` supplied in the `NetworkPipelineForecaster.fit()`, `NetworkPipelineForecaster.predict()`, `NetworkPipelineForecaster.update()` method to the corresponding `BoxCoxTransformer.fit()` or `BoxCoxTransformer.transform()` method. \n",
    "\n",
    "* **The output of previous steps in the pipeline.** In this case the name of the steps must be used. For example:\n",
    "```Python\n",
    "('ft1', BoxCoxTransformer(), {'X':'transformer1'}) \n",
    "```\n",
    "specifies a step called ft1, that uses the BoxCoxTransformer and passes the value of `X` that was produced by a previous step in the pipeline called `transformer1`.\n",
    "\n",
    "# Examples\n",
    "\n",
    "## Simple pipeline\n",
    "\n",
    "This example provides no benefits in comparison to a simple linear pipeline but is used here for illustration purposes."
   ]
  },
  {
   "cell_type": "code",
   "execution_count": 1,
   "id": "51ca7bcb-9e45-4041-b1a2-c97658755cb1",
   "metadata": {},
   "outputs": [
    {
     "data": {
      "text/plain": [
       "1960-09    552.658605\n",
       "1960-10    498.021039\n",
       "1960-11    463.562260\n",
       "1960-12    447.898732\n",
       "Freq: M, dtype: float64"
      ]
     },
     "execution_count": 1,
     "metadata": {},
     "output_type": "execute_result"
    }
   ],
   "source": [
    "from sktime.datasets import load_airline\n",
    "from sktime.forecasting.arima import AutoARIMA\n",
    "from sktime.forecasting.compose import NetworkPipelineForecaster\n",
    "from sktime.forecasting.model_selection import temporal_train_test_split\n",
    "from sktime.transformations.series.boxcox import BoxCoxTransformer\n",
    "\n",
    "y = load_airline()\n",
    "y_train, y_test = temporal_train_test_split(y, test_size=4)\n",
    "network_pipeline = NetworkPipelineForecaster(\n",
    "    steps=[\n",
    "        (\"boxcox\", BoxCoxTransformer(), {\"Z\": \"original_y\"}),\n",
    "        (\n",
    "            \"arima\",\n",
    "            AutoARIMA(suppress_warnings=True),\n",
    "            {\"fh\": \"original_fh\", \"y\": \"boxcox\"},\n",
    "        ),\n",
    "    ]\n",
    ")\n",
    "network_pipeline.fit(y_train)\n",
    "network_pipeline.predict(fh=[1, 2, 3, 4])"
   ]
  },
  {
   "cell_type": "markdown",
   "id": "d061bda1-754d-410b-8c28-5f22cd0a3768",
   "metadata": {},
   "source": [
    "## Advanced use case\n",
    "\n",
    "This example illustrates how the pipeline can be used to apply non sequential transformations to `X` as well as transformations to `y`."
   ]
  },
  {
   "cell_type": "code",
   "execution_count": 2,
   "id": "dda6c435-7109-470c-a6ff-aaaec830bbb6",
   "metadata": {},
   "outputs": [
    {
     "name": "stderr",
     "output_type": "stream",
     "text": [
      "/home/viktor/sktime/venv_sktime/lib/python3.9/site-packages/statsmodels/tsa/stattools.py:657: FutureWarning: The default number of lags is changing from 40 tomin(int(10 * np.log10(nobs)), nobs - 1) after 0.12is released. Set the number of lags to an integer to  silence this warning.\n",
      "  warnings.warn(\n",
      "/home/viktor/sktime/venv_sktime/lib/python3.9/site-packages/statsmodels/tsa/stattools.py:657: FutureWarning: The default number of lags is changing from 40 tomin(int(10 * np.log10(nobs)), nobs - 1) after 0.12is released. Set the number of lags to an integer to  silence this warning.\n",
      "  warnings.warn(\n"
     ]
    },
    {
     "data": {
      "text/plain": [
       "1959    69684.582566\n",
       "1960    70058.809273\n",
       "1961    70780.147271\n",
       "1962    72042.380096\n",
       "Freq: A-DEC, dtype: float64"
      ]
     },
     "execution_count": 2,
     "metadata": {},
     "output_type": "execute_result"
    }
   ],
   "source": [
    "from sktime.datasets import load_longley\n",
    "from sktime.forecasting.arima import AutoARIMA\n",
    "from sktime.forecasting.model_selection import temporal_train_test_split\n",
    "from sktime.transformations.panel.dataset_manipulation import (\n",
    "    Concatenator,\n",
    "    Converter,\n",
    "    Selector,\n",
    ")\n",
    "from sktime.transformations.series.acf import AutoCorrelationTransformer\n",
    "from sktime.transformations.series.boxcox import BoxCoxTransformer\n",
    "\n",
    "y, X = load_longley()\n",
    "y_train, y_test = temporal_train_test_split(y, test_size=4)\n",
    "X_train, X_test = temporal_train_test_split(X, test_size=4)\n",
    "pipe = NetworkPipelineForecaster(\n",
    "    [\n",
    "        (\"feature_X1\", Selector(1, return_dataframe=False), {\"X\": \"original_X\"}),\n",
    "        (\"feature_X2\", Selector(2, return_dataframe=False), {\"X\": \"original_X\"}),\n",
    "        (\"ft1\", BoxCoxTransformer(), {\"Z\": \"feature_X1\"}),\n",
    "        (\n",
    "            \"ft1_converted\",\n",
    "            Converter(),\n",
    "            {\"obj\": \"ft1\", \"to_type\": \"pd.DataFrame\", \"as_scitype\": \"Series\"},\n",
    "        ),\n",
    "        (\"ft2\", BoxCoxTransformer(), {\"Z\": \"feature_X2\"}),\n",
    "        (\"concat\", Concatenator(), {\"X\": [\"ft1_converted\", \"ft2\"]}),\n",
    "        (\"new_y\", AutoCorrelationTransformer(), {\"Z\": \"original_y\"}),\n",
    "        (\n",
    "            \"y_out\",\n",
    "            AutoARIMA(suppress_warnings=True),\n",
    "            {\"fh\": \"original_fh\", \"y\": \"original_y\", \"X\": \"concat\"},\n",
    "        ),\n",
    "    ]\n",
    ")\n",
    "pipeline = pipe.fit(y_train, X_train)\n",
    "pipe.predict(fh=[1, 2, 3, 4], X=X_test)"
   ]
  }
 ],
 "metadata": {
  "kernelspec": {
   "display_name": "Python 3 (ipykernel)",
   "language": "python",
   "name": "python3"
  },
  "language_info": {
   "codemirror_mode": {
    "name": "ipython",
    "version": 3
   },
   "file_extension": ".py",
   "mimetype": "text/x-python",
   "name": "python",
   "nbconvert_exporter": "python",
   "pygments_lexer": "ipython3",
   "version": "3.9.5"
  }
 },
 "nbformat": 4,
 "nbformat_minor": 5
}
