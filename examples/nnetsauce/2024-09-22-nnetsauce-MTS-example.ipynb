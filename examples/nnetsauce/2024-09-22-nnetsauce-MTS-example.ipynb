{
  "cells": [
    {
      "cell_type": "code",
      "execution_count": 1,
      "metadata": {
        "colab": {
          "base_uri": "https://localhost:8080/"
        },
        "id": "cqxrIGcpvCsc",
        "outputId": "4810908a-da40-4ca5-84aa-b05c8724da45"
      },
      "outputs": [
        {
          "name": "stdout",
          "output_type": "stream",
          "text": [
            "Found existing installation: sktime 0.32.1\n",
            "Uninstalling sktime-0.32.1:\n",
            "  Successfully uninstalled sktime-0.32.1\n"
          ]
        }
      ],
      "source": [
        "!pip uninstall sktime -y"
      ]
    },
    {
      "cell_type": "code",
      "execution_count": 2,
      "metadata": {
        "colab": {
          "base_uri": "https://localhost:8080/"
        },
        "id": "rlVlB2CGrd4Y",
        "outputId": "2174ef9a-2624-486d-e5a6-20707664ddb9"
      },
      "outputs": [
        {
          "name": "stdout",
          "output_type": "stream",
          "text": [
            "Collecting git+https://github.com/thierrymoudiki/sktime.git@nnetsauce-mts\n",
            "  Cloning https://github.com/thierrymoudiki/sktime.git (to revision nnetsauce-mts) to /tmp/pip-req-build-qz9j3m9n\n",
            "  Running command git clone --filter=blob:none --quiet https://github.com/thierrymoudiki/sktime.git /tmp/pip-req-build-qz9j3m9n\n",
            "  Running command git checkout -b nnetsauce-mts --track origin/nnetsauce-mts\n",
            "  Switched to a new branch 'nnetsauce-mts'\n",
            "  Branch 'nnetsauce-mts' set up to track remote branch 'nnetsauce-mts' from 'origin'.\n",
            "  Resolved https://github.com/thierrymoudiki/sktime.git to commit f98cff0253117dfc09eeebfdaeaebf02bbb35e4e\n",
            "  Installing build dependencies ... \u001b[?25l\u001b[?25hdone\n",
            "  Getting requirements to build wheel ... \u001b[?25l\u001b[?25hdone\n",
            "  Preparing metadata (pyproject.toml) ... \u001b[?25l\u001b[?25hdone\n",
            "Requirement already satisfied: joblib<1.5,>=1.2.0 in /usr/local/lib/python3.10/dist-packages (from sktime==0.32.1) (1.4.2)\n",
            "Requirement already satisfied: nnetsauce>=0.23.2 in /usr/local/lib/python3.10/dist-packages (from sktime==0.32.1) (0.24.5)\n",
            "Requirement already satisfied: numpy<2.1,>=1.21 in /usr/local/lib/python3.10/dist-packages (from sktime==0.32.1) (1.26.4)\n",
            "Requirement already satisfied: packaging in /usr/local/lib/python3.10/dist-packages (from sktime==0.32.1) (24.1)\n",
            "Requirement already satisfied: pandas<2.3.0,>=1.1 in /usr/local/lib/python3.10/dist-packages (from sktime==0.32.1) (2.1.4)\n",
            "Requirement already satisfied: scikit-base<0.9.0,>=0.6.1 in /usr/local/lib/python3.10/dist-packages (from sktime==0.32.1) (0.8.3)\n",
            "Requirement already satisfied: scikit-learn<1.6.0,>=0.24 in /usr/local/lib/python3.10/dist-packages (from sktime==0.32.1) (1.3.2)\n",
            "Requirement already satisfied: scipy<2.0.0,>=1.2 in /usr/local/lib/python3.10/dist-packages (from sktime==0.32.1) (1.13.1)\n",
            "Requirement already satisfied: matplotlib in /usr/local/lib/python3.10/dist-packages (from nnetsauce>=0.23.2->sktime==0.32.1) (3.7.1)\n",
            "Requirement already satisfied: pyvinecopulib in /usr/local/lib/python3.10/dist-packages (from nnetsauce>=0.23.2->sktime==0.32.1) (0.6.6)\n",
            "Requirement already satisfied: requests in /usr/local/lib/python3.10/dist-packages (from nnetsauce>=0.23.2->sktime==0.32.1) (2.32.3)\n",
            "Requirement already satisfied: statsmodels in /usr/local/lib/python3.10/dist-packages (from nnetsauce>=0.23.2->sktime==0.32.1) (0.14.3)\n",
            "Requirement already satisfied: threadpoolctl in /usr/local/lib/python3.10/dist-packages (from nnetsauce>=0.23.2->sktime==0.32.1) (3.5.0)\n",
            "Requirement already satisfied: tqdm in /usr/local/lib/python3.10/dist-packages (from nnetsauce>=0.23.2->sktime==0.32.1) (4.66.5)\n",
            "Requirement already satisfied: python-dateutil>=2.8.2 in /usr/local/lib/python3.10/dist-packages (from pandas<2.3.0,>=1.1->sktime==0.32.1) (2.8.2)\n",
            "Requirement already satisfied: pytz>=2020.1 in /usr/local/lib/python3.10/dist-packages (from pandas<2.3.0,>=1.1->sktime==0.32.1) (2024.2)\n",
            "Requirement already satisfied: tzdata>=2022.1 in /usr/local/lib/python3.10/dist-packages (from pandas<2.3.0,>=1.1->sktime==0.32.1) (2024.1)\n",
            "Requirement already satisfied: six>=1.5 in /usr/local/lib/python3.10/dist-packages (from python-dateutil>=2.8.2->pandas<2.3.0,>=1.1->sktime==0.32.1) (1.16.0)\n",
            "Requirement already satisfied: contourpy>=1.0.1 in /usr/local/lib/python3.10/dist-packages (from matplotlib->nnetsauce>=0.23.2->sktime==0.32.1) (1.3.0)\n",
            "Requirement already satisfied: cycler>=0.10 in /usr/local/lib/python3.10/dist-packages (from matplotlib->nnetsauce>=0.23.2->sktime==0.32.1) (0.12.1)\n",
            "Requirement already satisfied: fonttools>=4.22.0 in /usr/local/lib/python3.10/dist-packages (from matplotlib->nnetsauce>=0.23.2->sktime==0.32.1) (4.53.1)\n",
            "Requirement already satisfied: kiwisolver>=1.0.1 in /usr/local/lib/python3.10/dist-packages (from matplotlib->nnetsauce>=0.23.2->sktime==0.32.1) (1.4.7)\n",
            "Requirement already satisfied: pillow>=6.2.0 in /usr/local/lib/python3.10/dist-packages (from matplotlib->nnetsauce>=0.23.2->sktime==0.32.1) (10.4.0)\n",
            "Requirement already satisfied: pyparsing>=2.3.1 in /usr/local/lib/python3.10/dist-packages (from matplotlib->nnetsauce>=0.23.2->sktime==0.32.1) (3.1.4)\n",
            "Requirement already satisfied: charset-normalizer<4,>=2 in /usr/local/lib/python3.10/dist-packages (from requests->nnetsauce>=0.23.2->sktime==0.32.1) (3.3.2)\n",
            "Requirement already satisfied: idna<4,>=2.5 in /usr/local/lib/python3.10/dist-packages (from requests->nnetsauce>=0.23.2->sktime==0.32.1) (3.10)\n",
            "Requirement already satisfied: urllib3<3,>=1.21.1 in /usr/local/lib/python3.10/dist-packages (from requests->nnetsauce>=0.23.2->sktime==0.32.1) (2.0.7)\n",
            "Requirement already satisfied: certifi>=2017.4.17 in /usr/local/lib/python3.10/dist-packages (from requests->nnetsauce>=0.23.2->sktime==0.32.1) (2024.8.30)\n",
            "Requirement already satisfied: patsy>=0.5.6 in /usr/local/lib/python3.10/dist-packages (from statsmodels->nnetsauce>=0.23.2->sktime==0.32.1) (0.5.6)\n",
            "Building wheels for collected packages: sktime\n",
            "  Building wheel for sktime (pyproject.toml) ... \u001b[?25l\u001b[?25hdone\n",
            "  Created wheel for sktime: filename=sktime-0.32.1-py3-none-any.whl size=29312168 sha256=2e69d637fef653cb3ce15c64f3ff7fffcdc78e713811aa5ff3db5cd455d9cc5e\n",
            "  Stored in directory: /tmp/pip-ephem-wheel-cache-toc5p3xc/wheels/8f/6f/81/505b6cf562ee44b6a30237eba488bd229778175235b27d5e95\n",
            "Successfully built sktime\n",
            "Installing collected packages: sktime\n",
            "Successfully installed sktime-0.32.1\n"
          ]
        }
      ],
      "source": [
        "# !pip install ../.. --upgrade --no-cache-dir\n",
        "!pip install git+https://github.com/thierrymoudiki/sktime.git@nnetsauce-mts --upgrade --no-cache-dir"
      ]
    },
    {
      "cell_type": "code",
      "execution_count": 3,
      "metadata": {
        "id": "VjEANwxFrxRP"
      },
      "outputs": [],
      "source": [
        "import numpy as np\n",
        "import pandas as pd\n",
        "import statsmodels.api as sm\n",
        "from sklearn import linear_model\n",
        "from statsmodels.tsa.base.datetools import dates_from_str\n",
        "\n",
        "from sktime.forecasting.nnetsaucemts import MTS"
      ]
    },
    {
      "cell_type": "code",
      "execution_count": 4,
      "metadata": {
        "colab": {
          "base_uri": "https://localhost:8080/"
        },
        "id": "7lPop7HRrybi",
        "outputId": "1fd1e879-3467-4b37-9715-84bb6f978040"
      },
      "outputs": [
        {
          "name": "stdout",
          "output_type": "stream",
          "text": [
            "     year  quarter  realgdp  realcons  realinv  realgovt  realdpi   cpi  \\\n",
            "0 1959.00     1.00  2710.35   1707.40   286.90    470.05  1886.90 28.98   \n",
            "1 1959.00     2.00  2778.80   1733.70   310.86    481.30  1919.70 29.15   \n",
            "2 1959.00     3.00  2775.49   1751.80   289.23    491.26  1916.40 29.35   \n",
            "3 1959.00     4.00  2785.20   1753.70   299.36    484.05  1931.30 29.37   \n",
            "4 1960.00     1.00  2847.70   1770.50   331.72    462.20  1955.50 29.54   \n",
            "\n",
            "      m1  tbilrate  unemp    pop  infl  realint  \n",
            "0 139.70      2.82   5.80 177.15  0.00     0.00  \n",
            "1 141.70      3.08   5.10 177.83  2.34     0.74  \n",
            "2 140.50      3.82   5.30 178.66  2.74     1.09  \n",
            "3 140.00      4.33   5.60 179.39  0.27     4.06  \n",
            "4 139.60      3.50   5.20 180.01  2.31     1.19  \n"
          ]
        }
      ],
      "source": [
        "# some example data\n",
        "mdata = sm.datasets.macrodata.load_pandas().data\n",
        "# prepare the dates index\n",
        "dates = mdata[['year', 'quarter']].astype(int).astype(str)\n",
        "quarterly = dates[\"year\"] + \"Q\" + dates[\"quarter\"]\n",
        "quarterly = dates_from_str(quarterly)\n",
        "print(mdata.head())\n",
        "mdata = mdata[['realgovt', 'tbilrate', 'cpi']]\n",
        "mdata.index = pd.DatetimeIndex(quarterly)\n",
        "data = np.log(mdata).diff().dropna()\n",
        "\n",
        "n = data.shape[0]\n",
        "max_idx_train = np.floor(n*0.9)\n",
        "training_index = np.arange(0, max_idx_train)\n",
        "testing_index = np.arange(max_idx_train, n)\n",
        "df_train = data.iloc[training_index,:]\n",
        "df_test = data.iloc[testing_index,:]"
      ]
    },
    {
      "cell_type": "code",
      "execution_count": 5,
      "metadata": {
        "colab": {
          "base_uri": "https://localhost:8080/",
          "height": 553
        },
        "id": "SJWFQ6j2r2LA",
        "outputId": "104618dd-3725-443b-bc69-e42e59ca38f6"
      },
      "outputs": [
        {
          "data": {
            "text/plain": [
              "{'a': 0.1,\n",
              " 'activation_name': 'relu',\n",
              " 'agg': 'mean',\n",
              " 'backend': 'cpu',\n",
              " 'bias': True,\n",
              " 'block_size': None,\n",
              " 'cluster_encode': True,\n",
              " 'direct_link': True,\n",
              " 'dropout': 0,\n",
              " 'kernel': 'gaussian',\n",
              " 'lags': 25,\n",
              " 'n_clusters': 2,\n",
              " 'n_hidden_features': 5,\n",
              " 'nodes_sim': 'sobol',\n",
              " 'obj': Ridge(),\n",
              " 'replications': None,\n",
              " 'seed': 123,\n",
              " 'show_progress': True,\n",
              " 'type_clust': 'kmeans',\n",
              " 'type_pi': 'gaussian',\n",
              " 'type_scaling': ('std', 'std', 'std'),\n",
              " 'verbose': 1,\n",
              " 'obj__alpha': 1.0,\n",
              " 'obj__copy_X': True,\n",
              " 'obj__fit_intercept': True,\n",
              " 'obj__max_iter': None,\n",
              " 'obj__positive': False,\n",
              " 'obj__random_state': None,\n",
              " 'obj__solver': 'auto',\n",
              " 'obj__tol': 0.0001}"
            ]
          },
          "metadata": {},
          "output_type": "display_data"
        }
      ],
      "source": [
        "# Adjust Ridge\n",
        "regr = linear_model.Ridge()\n",
        "obj_MTS = MTS(regr,\n",
        "              lags = 25,\n",
        "              a = 0.1,\n",
        "              n_hidden_features=5,\n",
        "              verbose = 1,\n",
        "              type_pi=\"gaussian\")\n",
        "display(obj_MTS.get_params())"
      ]
    },
    {
      "cell_type": "markdown",
      "metadata": {
        "id": "-2molpu1orPY"
      },
      "source": [
        "## 1 - Almost works"
      ]
    },
    {
      "cell_type": "markdown",
      "metadata": {
        "id": "Z35V38lbpBhH"
      },
      "source": [
        "Why specifying `fh` here, while declared as `None` in `_fit`?"
      ]
    },
    {
      "cell_type": "code",
      "execution_count": 6,
      "metadata": {
        "colab": {
          "base_uri": "https://localhost:8080/",
          "height": 176
        },
        "id": "j2EA4hJSjKsK",
        "outputId": "a1269820-16ee-43b9-c126-ddee46b8dd74"
      },
      "outputs": [
        {
          "name": "stdout",
          "output_type": "stream",
          "text": [
            "\n",
            " Adjusting Ridge to multivariate time series... \n",
            " \n"
          ]
        },
        {
          "name": "stderr",
          "output_type": "stream",
          "text": [
            "100%|██████████| 3/3 [00:00<00:00, 196.01it/s]\n"
          ]
        },
        {
          "data": {
            "text/html": [
              "<style>#sk-b7ccd81b-043d-4f50-b850-5b10dab9bd9b {\n",
              "    /* Definition of color scheme common for light and dark mode */\n",
              "    --sklearn-color-text: black;\n",
              "    --sklearn-color-line: gray;\n",
              "    /* Definition of color scheme for objects */\n",
              "    --sklearn-color-level-0: #fff5e6;\n",
              "    --sklearn-color-level-1: #f6e4d2;\n",
              "    --sklearn-color-level-2: #ffe0b3;\n",
              "    --sklearn-color-level-3: chocolate;\n",
              "\n",
              "    /* Specific color for light theme */\n",
              "    --sklearn-color-text-on-default-background: var(--theme-code-foreground, var(--jp-content-font-color1, black));\n",
              "    --sklearn-color-background: var(--theme-background, var(--jp-layout-color0, white));\n",
              "    --sklearn-color-border-box: var(--theme-code-foreground, var(--jp-content-font-color1, black));\n",
              "    --sklearn-color-icon: #696969;\n",
              "\n",
              "    @media (prefers-color-scheme: dark) {\n",
              "      /* Redefinition of color scheme for dark theme */\n",
              "      --sklearn-color-text-on-default-background: var(--theme-code-foreground, var(--jp-content-font-color1, white));\n",
              "      --sklearn-color-background: var(--theme-background, var(--jp-layout-color0, #111));\n",
              "      --sklearn-color-border-box: var(--theme-code-foreground, var(--jp-content-font-color1, white));\n",
              "      --sklearn-color-icon: #878787;\n",
              "    }\n",
              "  }\n",
              "\n",
              "  #sk-b7ccd81b-043d-4f50-b850-5b10dab9bd9b {\n",
              "    color: var(--sklearn-color-text);\n",
              "  }\n",
              "\n",
              "  #sk-b7ccd81b-043d-4f50-b850-5b10dab9bd9b pre {\n",
              "    padding: 0;\n",
              "  }\n",
              "\n",
              "  #sk-b7ccd81b-043d-4f50-b850-5b10dab9bd9b input.sk-hidden--visually {\n",
              "    border: 0;\n",
              "    clip: rect(1px 1px 1px 1px);\n",
              "    clip: rect(1px, 1px, 1px, 1px);\n",
              "    height: 1px;\n",
              "    margin: -1px;\n",
              "    overflow: hidden;\n",
              "    padding: 0;\n",
              "    position: absolute;\n",
              "    width: 1px;\n",
              "  }\n",
              "\n",
              "  #sk-b7ccd81b-043d-4f50-b850-5b10dab9bd9b div.sk-dashed-wrapped {\n",
              "    border: 1px dashed var(--sklearn-color-line);\n",
              "    margin: 0 0.4em 0.5em 0.4em;\n",
              "    box-sizing: border-box;\n",
              "    padding-bottom: 0.4em;\n",
              "    background-color: var(--sklearn-color-background);\n",
              "  }\n",
              "\n",
              "  #sk-b7ccd81b-043d-4f50-b850-5b10dab9bd9b div.sk-container {\n",
              "    /* jupyter's `normalize.less` sets `[hidden] { display: none; }`\n",
              "       but bootstrap.min.css set `[hidden] { display: none !important; }`\n",
              "       so we also need the `!important` here to be able to override the\n",
              "       default hidden behavior on the sphinx rendered scikit-learn.org.\n",
              "       See: https://github.com/scikit-learn/scikit-learn/issues/21755 */\n",
              "    display: inline-block !important;\n",
              "    position: relative;\n",
              "  }\n",
              "\n",
              "  #sk-b7ccd81b-043d-4f50-b850-5b10dab9bd9b div.sk-text-repr-fallback {\n",
              "    display: none;\n",
              "  }\n",
              "\n",
              "  div.sk-parallel-item,\n",
              "  div.sk-serial,\n",
              "  div.sk-item {\n",
              "    /* draw centered vertical line to link estimators */\n",
              "    background-image: linear-gradient(var(--sklearn-color-text-on-default-background), var(--sklearn-color-text-on-default-background));\n",
              "    background-size: 2px 100%;\n",
              "    background-repeat: no-repeat;\n",
              "    background-position: center center;\n",
              "  }\n",
              "\n",
              "  /* Parallel-specific style estimator block */\n",
              "\n",
              "  #sk-b7ccd81b-043d-4f50-b850-5b10dab9bd9b div.sk-parallel-item::after {\n",
              "    content: \"\";\n",
              "    width: 100%;\n",
              "    border-bottom: 2px solid var(--sklearn-color-text-on-default-background);\n",
              "    flex-grow: 1;\n",
              "  }\n",
              "\n",
              "  #sk-b7ccd81b-043d-4f50-b850-5b10dab9bd9b div.sk-parallel {\n",
              "    display: flex;\n",
              "    align-items: stretch;\n",
              "    justify-content: center;\n",
              "    background-color: var(--sklearn-color-background);\n",
              "    position: relative;\n",
              "  }\n",
              "\n",
              "  #sk-b7ccd81b-043d-4f50-b850-5b10dab9bd9b div.sk-parallel-item {\n",
              "    display: flex;\n",
              "    flex-direction: column;\n",
              "  }\n",
              "\n",
              "  #sk-b7ccd81b-043d-4f50-b850-5b10dab9bd9b div.sk-parallel-item:first-child::after {\n",
              "    align-self: flex-end;\n",
              "    width: 50%;\n",
              "  }\n",
              "\n",
              "  #sk-b7ccd81b-043d-4f50-b850-5b10dab9bd9b div.sk-parallel-item:last-child::after {\n",
              "    align-self: flex-start;\n",
              "    width: 50%;\n",
              "  }\n",
              "\n",
              "  #sk-b7ccd81b-043d-4f50-b850-5b10dab9bd9b div.sk-parallel-item:only-child::after {\n",
              "    width: 0;\n",
              "  }\n",
              "\n",
              "  /* Serial-specific style estimator block */\n",
              "\n",
              "  #sk-b7ccd81b-043d-4f50-b850-5b10dab9bd9b div.sk-serial {\n",
              "    display: flex;\n",
              "    flex-direction: column;\n",
              "    align-items: center;\n",
              "    background-color: var(--sklearn-color-background);\n",
              "    padding-right: 1em;\n",
              "    padding-left: 1em;\n",
              "  }\n",
              "\n",
              "\n",
              "  /* Toggleable style: style used for estimator/Pipeline/ColumnTransformer box that is\n",
              "  clickable and can be expanded/collapsed.\n",
              "  - Pipeline and ColumnTransformer use this feature and define the default style\n",
              "  - Estimators will overwrite some part of the style using the `sk-estimator` class\n",
              "  */\n",
              "\n",
              "  /* Pipeline and ColumnTransformer style (default) */\n",
              "\n",
              "  #sk-b7ccd81b-043d-4f50-b850-5b10dab9bd9b div.sk-toggleable {\n",
              "    /* Default theme specific background. It is overwritten whether we have a\n",
              "    specific estimator or a Pipeline/ColumnTransformer */\n",
              "    background-color: var(--sklearn-color-background);\n",
              "  }\n",
              "\n",
              "  /* Toggleable label */\n",
              "  #sk-b7ccd81b-043d-4f50-b850-5b10dab9bd9b label.sk-toggleable__label {\n",
              "    cursor: pointer;\n",
              "    display: block;\n",
              "    width: 100%;\n",
              "    margin-bottom: 0;\n",
              "    padding: 0.5em;\n",
              "    box-sizing: border-box;\n",
              "    text-align: center;\n",
              "  }\n",
              "\n",
              "  #sk-b7ccd81b-043d-4f50-b850-5b10dab9bd9b label.sk-toggleable__label-arrow:before {\n",
              "    /* Arrow on the left of the label */\n",
              "    content: \"▸\";\n",
              "    float: left;\n",
              "    margin-right: 0.25em;\n",
              "    color: var(--sklearn-color-icon);\n",
              "  }\n",
              "\n",
              "  #sk-b7ccd81b-043d-4f50-b850-5b10dab9bd9b label.sk-toggleable__label-arrow:hover:before {\n",
              "    color: var(--sklearn-color-text);\n",
              "  }\n",
              "\n",
              "  /* Toggleable content - dropdown */\n",
              "\n",
              "  #sk-b7ccd81b-043d-4f50-b850-5b10dab9bd9b div.sk-toggleable__content {\n",
              "    max-height: 0;\n",
              "    max-width: 0;\n",
              "    overflow: hidden;\n",
              "    text-align: left;\n",
              "    background-color: var(--sklearn-color-level-0);\n",
              "  }\n",
              "\n",
              "  #sk-b7ccd81b-043d-4f50-b850-5b10dab9bd9b div.sk-toggleable__content pre {\n",
              "    margin: 0.2em;\n",
              "    border-radius: 0.25em;\n",
              "    color: var(--sklearn-color-text);\n",
              "    background-color: var(--sklearn-color-level-0);\n",
              "  }\n",
              "\n",
              "  #sk-b7ccd81b-043d-4f50-b850-5b10dab9bd9b input.sk-toggleable__control:checked~div.sk-toggleable__content {\n",
              "    /* Expand drop-down */\n",
              "    max-height: 200px;\n",
              "    max-width: 100%;\n",
              "    overflow: auto;\n",
              "  }\n",
              "\n",
              "  #sk-b7ccd81b-043d-4f50-b850-5b10dab9bd9b input.sk-toggleable__control:checked~label.sk-toggleable__label-arrow:before {\n",
              "    content: \"▾\";\n",
              "  }\n",
              "\n",
              "  /* Pipeline/ColumnTransformer-specific style */\n",
              "\n",
              "  #sk-b7ccd81b-043d-4f50-b850-5b10dab9bd9b div.sk-label input.sk-toggleable__control:checked~label.sk-toggleable__label {\n",
              "    color: var(--sklearn-color-text);\n",
              "    background-color: var(--sklearn-color-level-2);\n",
              "  }\n",
              "\n",
              "  /* Estimator-specific style */\n",
              "\n",
              "  /* Colorize estimator box */\n",
              "  #sk-b7ccd81b-043d-4f50-b850-5b10dab9bd9b div.sk-estimator input.sk-toggleable__control:checked~label.sk-toggleable__label {\n",
              "    /* unfitted */\n",
              "    background-color: var(--sklearn-color-level-2);\n",
              "  }\n",
              "\n",
              "  #sk-b7ccd81b-043d-4f50-b850-5b10dab9bd9b div.sk-label label.sk-toggleable__label,\n",
              "  #sk-b7ccd81b-043d-4f50-b850-5b10dab9bd9b div.sk-label label {\n",
              "    /* The background is the default theme color */\n",
              "    color: var(--sklearn-color-text-on-default-background);\n",
              "  }\n",
              "\n",
              "  /* On hover, darken the color of the background */\n",
              "  #sk-b7ccd81b-043d-4f50-b850-5b10dab9bd9b div.sk-label:hover label.sk-toggleable__label {\n",
              "    color: var(--sklearn-color-text);\n",
              "    background-color: var(--sklearn-color-level-2);\n",
              "  }\n",
              "\n",
              "  /* Estimator label */\n",
              "\n",
              "  #sk-b7ccd81b-043d-4f50-b850-5b10dab9bd9b div.sk-label label {\n",
              "    font-family: monospace;\n",
              "    font-weight: bold;\n",
              "    display: inline-block;\n",
              "    line-height: 1.2em;\n",
              "  }\n",
              "\n",
              "  #sk-b7ccd81b-043d-4f50-b850-5b10dab9bd9b div.sk-label-container {\n",
              "    text-align: center;\n",
              "  }\n",
              "\n",
              "  /* Estimator-specific */\n",
              "  #sk-b7ccd81b-043d-4f50-b850-5b10dab9bd9b div.sk-estimator {\n",
              "    font-family: monospace;\n",
              "    border: 1px dotted var(--sklearn-color-border-box);\n",
              "    border-radius: 0.25em;\n",
              "    box-sizing: border-box;\n",
              "    margin-bottom: 0.5em;\n",
              "    background-color: var(--sklearn-color-level-0);\n",
              "  }\n",
              "\n",
              "  /* on hover */\n",
              "  #sk-b7ccd81b-043d-4f50-b850-5b10dab9bd9b div.sk-estimator:hover {\n",
              "    background-color: var(--sklearn-color-level-2);\n",
              "  }\n",
              "\n",
              "  /* Specification for estimator info */\n",
              "\n",
              "  .sk-estimator-doc-link,\n",
              "  a:link.sk-estimator-doc-link,\n",
              "  a:visited.sk-estimator-doc-link {\n",
              "    float: right;\n",
              "    font-size: smaller;\n",
              "    line-height: 1em;\n",
              "    font-family: monospace;\n",
              "    background-color: var(--sklearn-color-background);\n",
              "    border-radius: 1em;\n",
              "    height: 1em;\n",
              "    width: 1em;\n",
              "    text-decoration: none !important;\n",
              "    margin-left: 1ex;\n",
              "    border: var(--sklearn-color-level-1) 1pt solid;\n",
              "    color: var(--sklearn-color-level-1);\n",
              "  }\n",
              "\n",
              "  /* On hover */\n",
              "  div.sk-estimator:hover .sk-estimator-doc-link:hover,\n",
              "  .sk-estimator-doc-link:hover,\n",
              "  div.sk-label-container:hover .sk-estimator-doc-link:hover,\n",
              "  .sk-estimator-doc-link:hover {\n",
              "    background-color: var(--sklearn-color-level-3);\n",
              "    color: var(--sklearn-color-background);\n",
              "    text-decoration: none;\n",
              "  }\n",
              "\n",
              "  /* Span, style for the box shown on hovering the info icon */\n",
              "  .sk-estimator-doc-link span {\n",
              "    display: none;\n",
              "    z-index: 9999;\n",
              "    position: relative;\n",
              "    font-weight: normal;\n",
              "    right: .2ex;\n",
              "    padding: .5ex;\n",
              "    margin: .5ex;\n",
              "    width: min-content;\n",
              "    min-width: 20ex;\n",
              "    max-width: 50ex;\n",
              "    color: var(--sklearn-color-text);\n",
              "    box-shadow: 2pt 2pt 4pt #999;\n",
              "    background: var(--sklearn-color-level-0);\n",
              "    border: .5pt solid var(--sklearn-color-level-3);\n",
              "  }\n",
              "\n",
              "  .sk-estimator-doc-link:hover span {\n",
              "    display: block;\n",
              "  }\n",
              "\n",
              "  /* \"?\"-specific style due to the `<a>` HTML tag */\n",
              "\n",
              "  #sk-b7ccd81b-043d-4f50-b850-5b10dab9bd9b a.estimator_doc_link {\n",
              "    float: right;\n",
              "    font-size: 1rem;\n",
              "    line-height: 1em;\n",
              "    font-family: monospace;\n",
              "    background-color: var(--sklearn-color-background);\n",
              "    border-radius: 1rem;\n",
              "    height: 1rem;\n",
              "    width: 1rem;\n",
              "    text-decoration: none;\n",
              "    color: var(--sklearn-color-level-1);\n",
              "    border: var(--sklearn-color-level-1) 1pt solid;\n",
              "  }\n",
              "\n",
              "  /* On hover */\n",
              "  #sk-b7ccd81b-043d-4f50-b850-5b10dab9bd9b a.estimator_doc_link:hover {\n",
              "    background-color: var(--sklearn-color-level-3);\n",
              "    color: var(--sklearn-color-background);\n",
              "    text-decoration: none;\n",
              "  }\n",
              "</style><div id='sk-b7ccd81b-043d-4f50-b850-5b10dab9bd9b' class=\"sk-top-container\"><div class=\"sk-text-repr-fallback\"><pre>MTS(a=0.1, lags=25, obj=Ridge(), type_pi=&#x27;gaussian&#x27;, verbose=1)</pre><b>Please rerun this cell to show the HTML repr or trust the notebook.</b></div><div class=\"sk-container\" hidden><div class=\"sk-item sk-dashed-wrapped\"><div class='sk-label-container'><div class=\"sk-label sk-toggleable\"><input class=\"sk-toggleable__control sk-hidden--visually\" id=UUID('a3fa7cb7-8e4d-41b6-8e80-35991d1913e7') type=\"checkbox\" ><label for=UUID('a3fa7cb7-8e4d-41b6-8e80-35991d1913e7') class='sk-toggleable__label sk-toggleable__label-arrow'>MTS<a class=\"sk-estimator-doc-link\" rel=\"noreferrer\" target=\"_blank\" href=\"https://www.sktime.net/en/v0.32.1/api_reference/auto_generated/sktime.forecasting.nnetsaucemts.MTS.html\">?<span>Documentation for MTS</span></a></label><div class=\"sk-toggleable__content\"><pre>MTS(a=0.1, lags=25, obj=Ridge(), type_pi=&#x27;gaussian&#x27;, verbose=1)</pre></div></div></div><div class=\"sk-parallel\"><div class=\"sk-parallel-item\"><div class=\"sk-item\"><div class=\"sk-serial\"><div class='sk-item'><div class=\"sk-estimator sk-toggleable\"><input class=\"sk-toggleable__control sk-hidden--visually\" id=UUID('9cb423ac-eed0-4f08-ac69-cbd0817fe0a3') type=\"checkbox\" ><label for=UUID('9cb423ac-eed0-4f08-ac69-cbd0817fe0a3') class='sk-toggleable__label sk-toggleable__label-arrow'>Ridge</label><div class=\"sk-toggleable__content\"><pre>Ridge()</pre></div></div></div></div></div></div></div></div></div></div>"
            ],
            "text/plain": [
              "MTS(a=0.1, lags=25, obj=Ridge(), type_pi='gaussian', verbose=1)"
            ]
          },
          "execution_count": 6,
          "metadata": {},
          "output_type": "execute_result"
        }
      ],
      "source": [
        "obj_MTS.fit(df_train, fh=[1, 2, 3, 4, 5])"
      ]
    },
    {
      "cell_type": "code",
      "execution_count": 7,
      "metadata": {
        "colab": {
          "base_uri": "https://localhost:8080/",
          "height": 507
        },
        "id": "8yxPpNcgopKN",
        "outputId": "b08c4dc5-350f-4b2b-b34e-f8c928cadc8e"
      },
      "outputs": [
        {
          "ename": "TypeError",
          "evalue": "No valid mtype could be identified for object of type <class 'pandas.core.frame.DataFrame'>. Errors returned are as follows, in format [mtype]: [error message] \r\npd.DataFrame: <class 'pandas.core.indexes.base.Index'> is not supported for obj, use one of (<class 'pandas.core.indexes.range.RangeIndex'>, <class 'pandas.core.indexes.period.PeriodIndex'>, <class 'pandas.core.indexes.datetimes.DatetimeIndex'>) or integer index instead.\r\npd.Series: obj must be a pandas.Series, found <class 'pandas.core.frame.DataFrame'>\r\nnp.ndarray: obj must be a numpy.ndarray, found <class 'pandas.core.frame.DataFrame'>\r\nxr.DataArray: obj must be a xarray.DataArray, found <class 'pandas.core.frame.DataFrame'>\r\ndask_series: obj must be a dask DataFrame, found <class 'pandas.core.frame.DataFrame'>\r\npl.DataFrame: obj must be a polars DataFrame, found <class 'pandas.core.frame.DataFrame'>\r\n",
          "output_type": "error",
          "traceback": [
            "\u001b[0;31m---------------------------------------------------------------------------\u001b[0m",
            "\u001b[0;31mTypeError\u001b[0m                                 Traceback (most recent call last)",
            "\u001b[0;32m<ipython-input-7-4429a248d866>\u001b[0m in \u001b[0;36m<cell line: 2>\u001b[0;34m()\u001b[0m\n\u001b[1;32m      1\u001b[0m \u001b[0;31m# with Gaussian prediction intervals\u001b[0m\u001b[0;34m\u001b[0m\u001b[0;34m\u001b[0m\u001b[0m\n\u001b[0;32m----> 2\u001b[0;31m \u001b[0mres\u001b[0m \u001b[0;34m=\u001b[0m \u001b[0mobj_MTS\u001b[0m\u001b[0;34m.\u001b[0m\u001b[0mpredict\u001b[0m\u001b[0;34m(\u001b[0m\u001b[0mfh\u001b[0m\u001b[0;34m=\u001b[0m\u001b[0;34m[\u001b[0m\u001b[0;36m1\u001b[0m\u001b[0;34m,\u001b[0m \u001b[0;36m2\u001b[0m\u001b[0;34m,\u001b[0m \u001b[0;36m3\u001b[0m\u001b[0;34m,\u001b[0m \u001b[0;36m4\u001b[0m\u001b[0;34m,\u001b[0m \u001b[0;36m5\u001b[0m\u001b[0;34m]\u001b[0m\u001b[0;34m)\u001b[0m\u001b[0;34m\u001b[0m\u001b[0;34m\u001b[0m\u001b[0m\n\u001b[0m\u001b[1;32m      3\u001b[0m \u001b[0mprint\u001b[0m\u001b[0;34m(\u001b[0m\u001b[0mres\u001b[0m\u001b[0;34m)\u001b[0m\u001b[0;34m\u001b[0m\u001b[0;34m\u001b[0m\u001b[0m\n",
            "\u001b[0;32m/usr/local/lib/python3.10/dist-packages/sktime/forecasting/base/_base.py\u001b[0m in \u001b[0;36mpredict\u001b[0;34m(self, fh, X)\u001b[0m\n\u001b[1;32m    455\u001b[0m \u001b[0;34m\u001b[0m\u001b[0m\n\u001b[1;32m    456\u001b[0m         \u001b[0;31m# convert to output mtype, identical with last y mtype seen\u001b[0m\u001b[0;34m\u001b[0m\u001b[0;34m\u001b[0m\u001b[0m\n\u001b[0;32m--> 457\u001b[0;31m         y_out = convert_to(\n\u001b[0m\u001b[1;32m    458\u001b[0m             \u001b[0my_pred\u001b[0m\u001b[0;34m,\u001b[0m\u001b[0;34m\u001b[0m\u001b[0;34m\u001b[0m\u001b[0m\n\u001b[1;32m    459\u001b[0m             \u001b[0mself\u001b[0m\u001b[0;34m.\u001b[0m\u001b[0m_y_metadata\u001b[0m\u001b[0;34m[\u001b[0m\u001b[0;34m\"mtype\"\u001b[0m\u001b[0;34m]\u001b[0m\u001b[0;34m,\u001b[0m\u001b[0;34m\u001b[0m\u001b[0;34m\u001b[0m\u001b[0m\n",
            "\u001b[0;32m/usr/local/lib/python3.10/dist-packages/sktime/datatypes/_convert.py\u001b[0m in \u001b[0;36mconvert_to\u001b[0;34m(obj, to_type, as_scitype, store, store_behaviour, return_to_mtype)\u001b[0m\n\u001b[1;32m    263\u001b[0m \u001b[0;34m\u001b[0m\u001b[0m\n\u001b[1;32m    264\u001b[0m     \u001b[0;31m# now further narrow down as_scitype by inference from the obj\u001b[0m\u001b[0;34m\u001b[0m\u001b[0;34m\u001b[0m\u001b[0m\n\u001b[0;32m--> 265\u001b[0;31m     \u001b[0mfrom_type\u001b[0m \u001b[0;34m=\u001b[0m \u001b[0minfer_mtype\u001b[0m\u001b[0;34m(\u001b[0m\u001b[0mobj\u001b[0m\u001b[0;34m=\u001b[0m\u001b[0mobj\u001b[0m\u001b[0;34m,\u001b[0m \u001b[0mas_scitype\u001b[0m\u001b[0;34m=\u001b[0m\u001b[0mas_scitype\u001b[0m\u001b[0;34m)\u001b[0m\u001b[0;34m\u001b[0m\u001b[0;34m\u001b[0m\u001b[0m\n\u001b[0m\u001b[1;32m    266\u001b[0m     \u001b[0mas_scitype\u001b[0m \u001b[0;34m=\u001b[0m \u001b[0mmtype_to_scitype\u001b[0m\u001b[0;34m(\u001b[0m\u001b[0mfrom_type\u001b[0m\u001b[0;34m)\u001b[0m\u001b[0;34m\u001b[0m\u001b[0;34m\u001b[0m\u001b[0m\n\u001b[1;32m    267\u001b[0m \u001b[0;34m\u001b[0m\u001b[0m\n",
            "\u001b[0;32m/usr/local/lib/python3.10/dist-packages/sktime/datatypes/_check.py\u001b[0m in \u001b[0;36mmtype\u001b[0;34m(obj, as_scitype, exclude_mtypes)\u001b[0m\n\u001b[1;32m    356\u001b[0m             \u001b[0;34mf\"Errors returned are as follows, in format [mtype]: [error message] \\r\\n\"\u001b[0m\u001b[0;34m\u001b[0m\u001b[0;34m\u001b[0m\u001b[0m\n\u001b[1;32m    357\u001b[0m         ) + msg\n\u001b[0;32m--> 358\u001b[0;31m         \u001b[0;32mraise\u001b[0m \u001b[0mTypeError\u001b[0m\u001b[0;34m(\u001b[0m\u001b[0mmsg\u001b[0m\u001b[0;34m)\u001b[0m\u001b[0;34m\u001b[0m\u001b[0;34m\u001b[0m\u001b[0m\n\u001b[0m\u001b[1;32m    359\u001b[0m \u001b[0;34m\u001b[0m\u001b[0m\n\u001b[1;32m    360\u001b[0m     \u001b[0;32mreturn\u001b[0m \u001b[0mmtypes_positive\u001b[0m\u001b[0;34m[\u001b[0m\u001b[0;36m0\u001b[0m\u001b[0;34m]\u001b[0m\u001b[0;34m\u001b[0m\u001b[0;34m\u001b[0m\u001b[0m\n",
            "\u001b[0;31mTypeError\u001b[0m: No valid mtype could be identified for object of type <class 'pandas.core.frame.DataFrame'>. Errors returned are as follows, in format [mtype]: [error message] \r\npd.DataFrame: <class 'pandas.core.indexes.base.Index'> is not supported for obj, use one of (<class 'pandas.core.indexes.range.RangeIndex'>, <class 'pandas.core.indexes.period.PeriodIndex'>, <class 'pandas.core.indexes.datetimes.DatetimeIndex'>) or integer index instead.\r\npd.Series: obj must be a pandas.Series, found <class 'pandas.core.frame.DataFrame'>\r\nnp.ndarray: obj must be a numpy.ndarray, found <class 'pandas.core.frame.DataFrame'>\r\nxr.DataArray: obj must be a xarray.DataArray, found <class 'pandas.core.frame.DataFrame'>\r\ndask_series: obj must be a dask DataFrame, found <class 'pandas.core.frame.DataFrame'>\r\npl.DataFrame: obj must be a polars DataFrame, found <class 'pandas.core.frame.DataFrame'>\r\n"
          ]
        }
      ],
      "source": [
        "# with Gaussian prediction intervals\n",
        "res = obj_MTS.predict(fh=[1, 2, 3, 4, 5])\n",
        "print(res)"
      ]
    },
    {
      "cell_type": "markdown",
      "metadata": {
        "id": "cNE46_pgpNnn"
      },
      "source": [
        "# 2 - Doesn't work"
      ]
    },
    {
      "cell_type": "markdown",
      "metadata": {
        "id": "E-9GV0INpZPU"
      },
      "source": [
        "Why specifying `fh` here, while declared as `None`?"
      ]
    },
    {
      "cell_type": "code",
      "execution_count": 8,
      "metadata": {
        "colab": {
          "base_uri": "https://localhost:8080/",
          "height": 329
        },
        "id": "bsaqJ5zNwe7a",
        "outputId": "fd61b059-8d64-4a5c-dfbf-da50964ace47"
      },
      "outputs": [
        {
          "ename": "ValueError",
          "evalue": "The forecasting horizon `fh` must be passed to `fit` of MTS, but none was found. This is because fitting of the forecaster MTS depends on `fh`. ",
          "output_type": "error",
          "traceback": [
            "\u001b[0;31m---------------------------------------------------------------------------\u001b[0m",
            "\u001b[0;31mValueError\u001b[0m                                Traceback (most recent call last)",
            "\u001b[0;32m<ipython-input-8-2053f4810513>\u001b[0m in \u001b[0;36m<cell line: 1>\u001b[0;34m()\u001b[0m\n\u001b[0;32m----> 1\u001b[0;31m \u001b[0mobj_MTS\u001b[0m\u001b[0;34m.\u001b[0m\u001b[0mfit\u001b[0m\u001b[0;34m(\u001b[0m\u001b[0mdf_train\u001b[0m\u001b[0;34m)\u001b[0m\u001b[0;34m\u001b[0m\u001b[0;34m\u001b[0m\u001b[0m\n\u001b[0m",
            "\u001b[0;32m/usr/local/lib/python3.10/dist-packages/sktime/forecasting/base/_base.py\u001b[0m in \u001b[0;36mfit\u001b[0;34m(self, y, X, fh)\u001b[0m\n\u001b[1;32m    384\u001b[0m \u001b[0;34m\u001b[0m\u001b[0m\n\u001b[1;32m    385\u001b[0m         \u001b[0;31m# check forecasting horizon and coerce to ForecastingHorizon object\u001b[0m\u001b[0;34m\u001b[0m\u001b[0;34m\u001b[0m\u001b[0m\n\u001b[0;32m--> 386\u001b[0;31m         \u001b[0mfh\u001b[0m \u001b[0;34m=\u001b[0m \u001b[0mself\u001b[0m\u001b[0;34m.\u001b[0m\u001b[0m_check_fh\u001b[0m\u001b[0;34m(\u001b[0m\u001b[0mfh\u001b[0m\u001b[0;34m)\u001b[0m\u001b[0;34m\u001b[0m\u001b[0;34m\u001b[0m\u001b[0m\n\u001b[0m\u001b[1;32m    387\u001b[0m \u001b[0;34m\u001b[0m\u001b[0m\n\u001b[1;32m    388\u001b[0m         \u001b[0;31m# checks and conversions complete, pass to inner fit\u001b[0m\u001b[0;34m\u001b[0m\u001b[0;34m\u001b[0m\u001b[0m\n",
            "\u001b[0;32m/usr/local/lib/python3.10/dist-packages/sktime/forecasting/base/_base.py\u001b[0m in \u001b[0;36m_check_fh\u001b[0;34m(self, fh, pred_int)\u001b[0m\n\u001b[1;32m   1875\u001b[0m                 \u001b[0;31m# in case fh is not optional in fit:\u001b[0m\u001b[0;34m\u001b[0m\u001b[0;34m\u001b[0m\u001b[0m\n\u001b[1;32m   1876\u001b[0m                 \u001b[0;31m# fh must be passed in fit\u001b[0m\u001b[0;34m\u001b[0m\u001b[0;34m\u001b[0m\u001b[0m\n\u001b[0;32m-> 1877\u001b[0;31m                 raise ValueError(\n\u001b[0m\u001b[1;32m   1878\u001b[0m                     \u001b[0;34m\"The forecasting horizon `fh` must be passed to \"\u001b[0m\u001b[0;34m\u001b[0m\u001b[0;34m\u001b[0m\u001b[0m\n\u001b[1;32m   1879\u001b[0m                     \u001b[0;34mf\"`fit` of {self.__class__.__name__}, but none was found. \"\u001b[0m \u001b[0;34m+\u001b[0m \u001b[0mmsg\u001b[0m\u001b[0;34m\u001b[0m\u001b[0;34m\u001b[0m\u001b[0m\n",
            "\u001b[0;31mValueError\u001b[0m: The forecasting horizon `fh` must be passed to `fit` of MTS, but none was found. This is because fitting of the forecaster MTS depends on `fh`. "
          ]
        }
      ],
      "source": [
        "obj_MTS.fit(df_train)"
      ]
    }
  ],
  "metadata": {
    "colab": {
      "provenance": []
    },
    "kernelspec": {
      "display_name": "Python 3",
      "name": "python3"
    },
    "language_info": {
      "name": "python"
    }
  },
  "nbformat": 4,
  "nbformat_minor": 0
}
