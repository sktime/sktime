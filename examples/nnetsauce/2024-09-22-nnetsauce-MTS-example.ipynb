{
  "cells": [
    {
      "cell_type": "markdown",
      "metadata": {},
      "source": [
        "<a target=\"_blank\" href=\"https://colab.research.google.com/github/thierrymoudiki/sktime/blob/nnetsauce-mts/examples/nnetsauce/2024-09-22-nnetsauce-MTS-example.ipynb\">\n",
        "  <img src=\"https://colab.research.google.com/assets/colab-badge.svg\" alt=\"Open In Colab\"/>\n",
        "</a>"
      ]
    },
    {
      "cell_type": "code",
      "execution_count": 1,
      "metadata": {
        "colab": {
          "base_uri": "https://localhost:8080/"
        },
        "id": "cqxrIGcpvCsc",
        "outputId": "daedea39-03f8-499c-95b5-0aca537246d8"
      },
      "outputs": [
        {
          "name": "stdout",
          "output_type": "stream",
          "text": [
            "\u001b[33mWARNING: Skipping sktime as it is not installed.\u001b[0m\u001b[33m\n",
            "\u001b[0m"
          ]
        }
      ],
      "source": [
        "!pip uninstall sktime -y"
      ]
    },
    {
      "cell_type": "code",
      "execution_count": 2,
      "metadata": {
        "colab": {
          "base_uri": "https://localhost:8080/"
        },
        "id": "rlVlB2CGrd4Y",
        "outputId": "d2ed6a3f-edbe-4584-ff45-bf2de465ea14"
      },
      "outputs": [
        {
          "name": "stdout",
          "output_type": "stream",
          "text": [
            "Collecting git+https://github.com/thierrymoudiki/sktime.git@nnetsauce-mts\n",
            "  Cloning https://github.com/thierrymoudiki/sktime.git (to revision nnetsauce-mts) to /tmp/pip-req-build-06urkdik\n",
            "  Running command git clone --filter=blob:none --quiet https://github.com/thierrymoudiki/sktime.git /tmp/pip-req-build-06urkdik\n",
            "  Running command git checkout -b nnetsauce-mts --track origin/nnetsauce-mts\n",
            "  Switched to a new branch 'nnetsauce-mts'\n",
            "  Branch 'nnetsauce-mts' set up to track remote branch 'nnetsauce-mts' from 'origin'.\n",
            "  Resolved https://github.com/thierrymoudiki/sktime.git to commit b6248e1c500f0977af6522b18129e52b1aa9b5d3\n",
            "  Installing build dependencies ... \u001b[?25l\u001b[?25hdone\n",
            "  Getting requirements to build wheel ... \u001b[?25l\u001b[?25hdone\n",
            "  Preparing metadata (pyproject.toml) ... \u001b[?25l\u001b[?25hdone\n",
            "Requirement already satisfied: joblib<1.5,>=1.2.0 in /usr/local/lib/python3.10/dist-packages (from sktime==0.32.1) (1.4.2)\n",
            "Collecting nnetsauce>=0.23.2 (from sktime==0.32.1)\n",
            "  Downloading nnetsauce-0.24.5-py3-none-any.whl.metadata (812 bytes)\n",
            "Requirement already satisfied: numpy<2.1,>=1.21 in /usr/local/lib/python3.10/dist-packages (from sktime==0.32.1) (1.26.4)\n",
            "Requirement already satisfied: packaging in /usr/local/lib/python3.10/dist-packages (from sktime==0.32.1) (24.1)\n",
            "Requirement already satisfied: pandas<2.3.0,>=1.1 in /usr/local/lib/python3.10/dist-packages (from sktime==0.32.1) (2.1.4)\n",
            "Collecting scikit-base<0.9.0,>=0.6.1 (from sktime==0.32.1)\n",
            "  Downloading scikit_base-0.8.3-py3-none-any.whl.metadata (8.5 kB)\n",
            "Requirement already satisfied: scikit-learn<1.6.0,>=0.24 in /usr/local/lib/python3.10/dist-packages (from sktime==0.32.1) (1.3.2)\n",
            "Requirement already satisfied: scipy<2.0.0,>=1.2 in /usr/local/lib/python3.10/dist-packages (from sktime==0.32.1) (1.13.1)\n",
            "Requirement already satisfied: matplotlib in /usr/local/lib/python3.10/dist-packages (from nnetsauce>=0.23.2->sktime==0.32.1) (3.7.1)\n",
            "Collecting pyvinecopulib (from nnetsauce>=0.23.2->sktime==0.32.1)\n",
            "  Downloading pyvinecopulib-0.6.6-cp310-cp310-manylinux_2_17_x86_64.manylinux2014_x86_64.whl.metadata (7.2 kB)\n",
            "Requirement already satisfied: requests in /usr/local/lib/python3.10/dist-packages (from nnetsauce>=0.23.2->sktime==0.32.1) (2.32.3)\n",
            "Requirement already satisfied: statsmodels in /usr/local/lib/python3.10/dist-packages (from nnetsauce>=0.23.2->sktime==0.32.1) (0.14.3)\n",
            "Requirement already satisfied: threadpoolctl in /usr/local/lib/python3.10/dist-packages (from nnetsauce>=0.23.2->sktime==0.32.1) (3.5.0)\n",
            "Requirement already satisfied: tqdm in /usr/local/lib/python3.10/dist-packages (from nnetsauce>=0.23.2->sktime==0.32.1) (4.66.5)\n",
            "Requirement already satisfied: python-dateutil>=2.8.2 in /usr/local/lib/python3.10/dist-packages (from pandas<2.3.0,>=1.1->sktime==0.32.1) (2.8.2)\n",
            "Requirement already satisfied: pytz>=2020.1 in /usr/local/lib/python3.10/dist-packages (from pandas<2.3.0,>=1.1->sktime==0.32.1) (2024.2)\n",
            "Requirement already satisfied: tzdata>=2022.1 in /usr/local/lib/python3.10/dist-packages (from pandas<2.3.0,>=1.1->sktime==0.32.1) (2024.1)\n",
            "Requirement already satisfied: six>=1.5 in /usr/local/lib/python3.10/dist-packages (from python-dateutil>=2.8.2->pandas<2.3.0,>=1.1->sktime==0.32.1) (1.16.0)\n",
            "Requirement already satisfied: contourpy>=1.0.1 in /usr/local/lib/python3.10/dist-packages (from matplotlib->nnetsauce>=0.23.2->sktime==0.32.1) (1.3.0)\n",
            "Requirement already satisfied: cycler>=0.10 in /usr/local/lib/python3.10/dist-packages (from matplotlib->nnetsauce>=0.23.2->sktime==0.32.1) (0.12.1)\n",
            "Requirement already satisfied: fonttools>=4.22.0 in /usr/local/lib/python3.10/dist-packages (from matplotlib->nnetsauce>=0.23.2->sktime==0.32.1) (4.53.1)\n",
            "Requirement already satisfied: kiwisolver>=1.0.1 in /usr/local/lib/python3.10/dist-packages (from matplotlib->nnetsauce>=0.23.2->sktime==0.32.1) (1.4.7)\n",
            "Requirement already satisfied: pillow>=6.2.0 in /usr/local/lib/python3.10/dist-packages (from matplotlib->nnetsauce>=0.23.2->sktime==0.32.1) (10.4.0)\n",
            "Requirement already satisfied: pyparsing>=2.3.1 in /usr/local/lib/python3.10/dist-packages (from matplotlib->nnetsauce>=0.23.2->sktime==0.32.1) (3.1.4)\n",
            "Requirement already satisfied: charset-normalizer<4,>=2 in /usr/local/lib/python3.10/dist-packages (from requests->nnetsauce>=0.23.2->sktime==0.32.1) (3.3.2)\n",
            "Requirement already satisfied: idna<4,>=2.5 in /usr/local/lib/python3.10/dist-packages (from requests->nnetsauce>=0.23.2->sktime==0.32.1) (3.10)\n",
            "Requirement already satisfied: urllib3<3,>=1.21.1 in /usr/local/lib/python3.10/dist-packages (from requests->nnetsauce>=0.23.2->sktime==0.32.1) (2.0.7)\n",
            "Requirement already satisfied: certifi>=2017.4.17 in /usr/local/lib/python3.10/dist-packages (from requests->nnetsauce>=0.23.2->sktime==0.32.1) (2024.8.30)\n",
            "Requirement already satisfied: patsy>=0.5.6 in /usr/local/lib/python3.10/dist-packages (from statsmodels->nnetsauce>=0.23.2->sktime==0.32.1) (0.5.6)\n",
            "Downloading nnetsauce-0.24.5-py3-none-any.whl (178 kB)\n",
            "\u001b[2K   \u001b[90m━━━━━━━━━━━━━━━━━━━━━━━━━━━━━━━━━━━━━━━━\u001b[0m \u001b[32m178.6/178.6 kB\u001b[0m \u001b[31m3.0 MB/s\u001b[0m eta \u001b[36m0:00:00\u001b[0m\n",
            "\u001b[?25hDownloading scikit_base-0.8.3-py3-none-any.whl (136 kB)\n",
            "\u001b[2K   \u001b[90m━━━━━━━━━━━━━━━━━━━━━━━━━━━━━━━━━━━━━━━━\u001b[0m \u001b[32m136.2/136.2 kB\u001b[0m \u001b[31m34.6 MB/s\u001b[0m eta \u001b[36m0:00:00\u001b[0m\n",
            "\u001b[?25hDownloading pyvinecopulib-0.6.6-cp310-cp310-manylinux_2_17_x86_64.manylinux2014_x86_64.whl (13.9 MB)\n",
            "\u001b[2K   \u001b[90m━━━━━━━━━━━━━━━━━━━━━━━━━━━━━━━━━━━━━━━━\u001b[0m \u001b[32m13.9/13.9 MB\u001b[0m \u001b[31m139.7 MB/s\u001b[0m eta \u001b[36m0:00:00\u001b[0m\n",
            "\u001b[?25hBuilding wheels for collected packages: sktime\n",
            "  Building wheel for sktime (pyproject.toml) ... \u001b[?25l\u001b[?25hdone\n",
            "  Created wheel for sktime: filename=sktime-0.32.1-py3-none-any.whl size=28972379 sha256=5f582ae3be7d16d8250463399c057b28f7ee084fb3daf0806f44a165e8109828\n",
            "  Stored in directory: /tmp/pip-ephem-wheel-cache-ftgwneq7/wheels/8f/6f/81/505b6cf562ee44b6a30237eba488bd229778175235b27d5e95\n",
            "Successfully built sktime\n",
            "Installing collected packages: scikit-base, pyvinecopulib, nnetsauce, sktime\n",
            "Successfully installed nnetsauce-0.24.5 pyvinecopulib-0.6.6 scikit-base-0.8.3 sktime-0.32.1\n"
          ]
        }
      ],
      "source": [
        "!pip install git+https://github.com/thierrymoudiki/sktime.git@nnetsauce-mts --upgrade --no-cache-dir"
      ]
    },
    {
      "cell_type": "code",
      "execution_count": 3,
      "metadata": {
        "id": "VjEANwxFrxRP"
      },
      "outputs": [],
      "source": [
        "import numpy as np\n",
        "import pandas as pd\n",
        "import statsmodels.api as sm\n",
        "from sklearn import linear_model\n",
        "from statsmodels.tsa.base.datetools import dates_from_str\n",
        "\n",
        "from sktime.forecasting.nnetsaucemts import MTS"
      ]
    },
    {
      "cell_type": "code",
      "execution_count": 4,
      "metadata": {
        "colab": {
          "base_uri": "https://localhost:8080/"
        },
        "id": "7lPop7HRrybi",
        "outputId": "ff35b9fd-3df8-4feb-ee04-658c5300999b"
      },
      "outputs": [
        {
          "name": "stdout",
          "output_type": "stream",
          "text": [
            "            realgovt  tbilrate  cpi\n",
            "2003-06-30      0.05     -0.17 0.00\n",
            "2003-09-30      0.00     -0.02 0.01\n",
            "2003-12-31      0.01     -0.04 0.01\n",
            "2004-03-31      0.01      0.04 0.01\n",
            "2004-06-30      0.01      0.25 0.01\n"
          ]
        }
      ],
      "source": [
        "# some example data\n",
        "mdata = sm.datasets.macrodata.load_pandas().data\n",
        "# prepare the dates index\n",
        "dates = mdata[['year', 'quarter']].astype(int).astype(str)\n",
        "quarterly = dates[\"year\"] + \"Q\" + dates[\"quarter\"]\n",
        "quarterly = dates_from_str(quarterly)\n",
        "mdata = mdata[['realgovt', 'tbilrate', 'cpi']]\n",
        "mdata.index = pd.DatetimeIndex(quarterly)\n",
        "data = np.log(mdata).diff().dropna()\n",
        "\n",
        "n = data.shape[0]\n",
        "max_idx_train = np.floor(n*0.9)\n",
        "training_index = np.arange(0, max_idx_train)\n",
        "testing_index = np.arange(max_idx_train, n)\n",
        "df_train = data.iloc[training_index,:]\n",
        "print(df_train.tail())\n",
        "df_test = data.iloc[testing_index,:]"
      ]
    },
    {
      "cell_type": "code",
      "execution_count": 5,
      "metadata": {
        "colab": {
          "base_uri": "https://localhost:8080/",
          "height": 553
        },
        "id": "SJWFQ6j2r2LA",
        "outputId": "6a2181e9-01c8-49dd-dd77-5ad9b5ec6369"
      },
      "outputs": [
        {
          "data": {
            "text/plain": [
              "{'a': 0.1,\n",
              " 'activation_name': 'relu',\n",
              " 'agg': 'mean',\n",
              " 'backend': 'cpu',\n",
              " 'bias': True,\n",
              " 'block_size': None,\n",
              " 'cluster_encode': True,\n",
              " 'direct_link': True,\n",
              " 'dropout': 0,\n",
              " 'kernel': 'gaussian',\n",
              " 'lags': 25,\n",
              " 'n_clusters': 2,\n",
              " 'n_hidden_features': 5,\n",
              " 'nodes_sim': 'sobol',\n",
              " 'obj': Ridge(),\n",
              " 'replications': None,\n",
              " 'seed': 123,\n",
              " 'show_progress': True,\n",
              " 'type_clust': 'kmeans',\n",
              " 'type_pi': 'gaussian',\n",
              " 'type_scaling': ('std', 'std', 'std'),\n",
              " 'verbose': 1,\n",
              " 'obj__alpha': 1.0,\n",
              " 'obj__copy_X': True,\n",
              " 'obj__fit_intercept': True,\n",
              " 'obj__max_iter': None,\n",
              " 'obj__positive': False,\n",
              " 'obj__random_state': None,\n",
              " 'obj__solver': 'auto',\n",
              " 'obj__tol': 0.0001}"
            ]
          },
          "metadata": {},
          "output_type": "display_data"
        }
      ],
      "source": [
        "# Adjust Ridge\n",
        "regr = linear_model.Ridge()\n",
        "obj_MTS = MTS(regr,\n",
        "              lags = 25,\n",
        "              a = 0.1,\n",
        "              n_hidden_features=5,\n",
        "              verbose = 1,\n",
        "              type_pi=\"gaussian\"\n",
        "              )\n",
        "display(obj_MTS.get_params())"
      ]
    },
    {
      "cell_type": "markdown",
      "metadata": {
        "id": "-2molpu1orPY"
      },
      "source": [
        "## 1 - Almost works"
      ]
    },
    {
      "cell_type": "markdown",
      "metadata": {
        "id": "Z35V38lbpBhH"
      },
      "source": [
        "Why specifying `fh` here, while declared as `None` in `_fit`?"
      ]
    },
    {
      "cell_type": "code",
      "execution_count": 6,
      "metadata": {
        "colab": {
          "base_uri": "https://localhost:8080/",
          "height": 176
        },
        "id": "j2EA4hJSjKsK",
        "outputId": "ca9dec97-329e-43c2-a6eb-950e33a5f5cf"
      },
      "outputs": [
        {
          "name": "stdout",
          "output_type": "stream",
          "text": [
            "\n",
            " Adjusting Ridge to multivariate time series... \n",
            " \n"
          ]
        },
        {
          "name": "stderr",
          "output_type": "stream",
          "text": [
            "100%|██████████| 3/3 [00:00<00:00, 55.22it/s]\n"
          ]
        },
        {
          "data": {
            "text/html": [
              "<style>#sk-720e8393-b343-4729-8ef3-a15a6c1d0ca5 {\n",
              "    /* Definition of color scheme common for light and dark mode */\n",
              "    --sklearn-color-text: black;\n",
              "    --sklearn-color-line: gray;\n",
              "    /* Definition of color scheme for objects */\n",
              "    --sklearn-color-level-0: #fff5e6;\n",
              "    --sklearn-color-level-1: #f6e4d2;\n",
              "    --sklearn-color-level-2: #ffe0b3;\n",
              "    --sklearn-color-level-3: chocolate;\n",
              "\n",
              "    /* Specific color for light theme */\n",
              "    --sklearn-color-text-on-default-background: var(--theme-code-foreground, var(--jp-content-font-color1, black));\n",
              "    --sklearn-color-background: var(--theme-background, var(--jp-layout-color0, white));\n",
              "    --sklearn-color-border-box: var(--theme-code-foreground, var(--jp-content-font-color1, black));\n",
              "    --sklearn-color-icon: #696969;\n",
              "\n",
              "    @media (prefers-color-scheme: dark) {\n",
              "      /* Redefinition of color scheme for dark theme */\n",
              "      --sklearn-color-text-on-default-background: var(--theme-code-foreground, var(--jp-content-font-color1, white));\n",
              "      --sklearn-color-background: var(--theme-background, var(--jp-layout-color0, #111));\n",
              "      --sklearn-color-border-box: var(--theme-code-foreground, var(--jp-content-font-color1, white));\n",
              "      --sklearn-color-icon: #878787;\n",
              "    }\n",
              "  }\n",
              "\n",
              "  #sk-720e8393-b343-4729-8ef3-a15a6c1d0ca5 {\n",
              "    color: var(--sklearn-color-text);\n",
              "  }\n",
              "\n",
              "  #sk-720e8393-b343-4729-8ef3-a15a6c1d0ca5 pre {\n",
              "    padding: 0;\n",
              "  }\n",
              "\n",
              "  #sk-720e8393-b343-4729-8ef3-a15a6c1d0ca5 input.sk-hidden--visually {\n",
              "    border: 0;\n",
              "    clip: rect(1px 1px 1px 1px);\n",
              "    clip: rect(1px, 1px, 1px, 1px);\n",
              "    height: 1px;\n",
              "    margin: -1px;\n",
              "    overflow: hidden;\n",
              "    padding: 0;\n",
              "    position: absolute;\n",
              "    width: 1px;\n",
              "  }\n",
              "\n",
              "  #sk-720e8393-b343-4729-8ef3-a15a6c1d0ca5 div.sk-dashed-wrapped {\n",
              "    border: 1px dashed var(--sklearn-color-line);\n",
              "    margin: 0 0.4em 0.5em 0.4em;\n",
              "    box-sizing: border-box;\n",
              "    padding-bottom: 0.4em;\n",
              "    background-color: var(--sklearn-color-background);\n",
              "  }\n",
              "\n",
              "  #sk-720e8393-b343-4729-8ef3-a15a6c1d0ca5 div.sk-container {\n",
              "    /* jupyter's `normalize.less` sets `[hidden] { display: none; }`\n",
              "       but bootstrap.min.css set `[hidden] { display: none !important; }`\n",
              "       so we also need the `!important` here to be able to override the\n",
              "       default hidden behavior on the sphinx rendered scikit-learn.org.\n",
              "       See: https://github.com/scikit-learn/scikit-learn/issues/21755 */\n",
              "    display: inline-block !important;\n",
              "    position: relative;\n",
              "  }\n",
              "\n",
              "  #sk-720e8393-b343-4729-8ef3-a15a6c1d0ca5 div.sk-text-repr-fallback {\n",
              "    display: none;\n",
              "  }\n",
              "\n",
              "  div.sk-parallel-item,\n",
              "  div.sk-serial,\n",
              "  div.sk-item {\n",
              "    /* draw centered vertical line to link estimators */\n",
              "    background-image: linear-gradient(var(--sklearn-color-text-on-default-background), var(--sklearn-color-text-on-default-background));\n",
              "    background-size: 2px 100%;\n",
              "    background-repeat: no-repeat;\n",
              "    background-position: center center;\n",
              "  }\n",
              "\n",
              "  /* Parallel-specific style estimator block */\n",
              "\n",
              "  #sk-720e8393-b343-4729-8ef3-a15a6c1d0ca5 div.sk-parallel-item::after {\n",
              "    content: \"\";\n",
              "    width: 100%;\n",
              "    border-bottom: 2px solid var(--sklearn-color-text-on-default-background);\n",
              "    flex-grow: 1;\n",
              "  }\n",
              "\n",
              "  #sk-720e8393-b343-4729-8ef3-a15a6c1d0ca5 div.sk-parallel {\n",
              "    display: flex;\n",
              "    align-items: stretch;\n",
              "    justify-content: center;\n",
              "    background-color: var(--sklearn-color-background);\n",
              "    position: relative;\n",
              "  }\n",
              "\n",
              "  #sk-720e8393-b343-4729-8ef3-a15a6c1d0ca5 div.sk-parallel-item {\n",
              "    display: flex;\n",
              "    flex-direction: column;\n",
              "  }\n",
              "\n",
              "  #sk-720e8393-b343-4729-8ef3-a15a6c1d0ca5 div.sk-parallel-item:first-child::after {\n",
              "    align-self: flex-end;\n",
              "    width: 50%;\n",
              "  }\n",
              "\n",
              "  #sk-720e8393-b343-4729-8ef3-a15a6c1d0ca5 div.sk-parallel-item:last-child::after {\n",
              "    align-self: flex-start;\n",
              "    width: 50%;\n",
              "  }\n",
              "\n",
              "  #sk-720e8393-b343-4729-8ef3-a15a6c1d0ca5 div.sk-parallel-item:only-child::after {\n",
              "    width: 0;\n",
              "  }\n",
              "\n",
              "  /* Serial-specific style estimator block */\n",
              "\n",
              "  #sk-720e8393-b343-4729-8ef3-a15a6c1d0ca5 div.sk-serial {\n",
              "    display: flex;\n",
              "    flex-direction: column;\n",
              "    align-items: center;\n",
              "    background-color: var(--sklearn-color-background);\n",
              "    padding-right: 1em;\n",
              "    padding-left: 1em;\n",
              "  }\n",
              "\n",
              "\n",
              "  /* Toggleable style: style used for estimator/Pipeline/ColumnTransformer box that is\n",
              "  clickable and can be expanded/collapsed.\n",
              "  - Pipeline and ColumnTransformer use this feature and define the default style\n",
              "  - Estimators will overwrite some part of the style using the `sk-estimator` class\n",
              "  */\n",
              "\n",
              "  /* Pipeline and ColumnTransformer style (default) */\n",
              "\n",
              "  #sk-720e8393-b343-4729-8ef3-a15a6c1d0ca5 div.sk-toggleable {\n",
              "    /* Default theme specific background. It is overwritten whether we have a\n",
              "    specific estimator or a Pipeline/ColumnTransformer */\n",
              "    background-color: var(--sklearn-color-background);\n",
              "  }\n",
              "\n",
              "  /* Toggleable label */\n",
              "  #sk-720e8393-b343-4729-8ef3-a15a6c1d0ca5 label.sk-toggleable__label {\n",
              "    cursor: pointer;\n",
              "    display: block;\n",
              "    width: 100%;\n",
              "    margin-bottom: 0;\n",
              "    padding: 0.5em;\n",
              "    box-sizing: border-box;\n",
              "    text-align: center;\n",
              "  }\n",
              "\n",
              "  #sk-720e8393-b343-4729-8ef3-a15a6c1d0ca5 label.sk-toggleable__label-arrow:before {\n",
              "    /* Arrow on the left of the label */\n",
              "    content: \"▸\";\n",
              "    float: left;\n",
              "    margin-right: 0.25em;\n",
              "    color: var(--sklearn-color-icon);\n",
              "  }\n",
              "\n",
              "  #sk-720e8393-b343-4729-8ef3-a15a6c1d0ca5 label.sk-toggleable__label-arrow:hover:before {\n",
              "    color: var(--sklearn-color-text);\n",
              "  }\n",
              "\n",
              "  /* Toggleable content - dropdown */\n",
              "\n",
              "  #sk-720e8393-b343-4729-8ef3-a15a6c1d0ca5 div.sk-toggleable__content {\n",
              "    max-height: 0;\n",
              "    max-width: 0;\n",
              "    overflow: hidden;\n",
              "    text-align: left;\n",
              "    background-color: var(--sklearn-color-level-0);\n",
              "  }\n",
              "\n",
              "  #sk-720e8393-b343-4729-8ef3-a15a6c1d0ca5 div.sk-toggleable__content pre {\n",
              "    margin: 0.2em;\n",
              "    border-radius: 0.25em;\n",
              "    color: var(--sklearn-color-text);\n",
              "    background-color: var(--sklearn-color-level-0);\n",
              "  }\n",
              "\n",
              "  #sk-720e8393-b343-4729-8ef3-a15a6c1d0ca5 input.sk-toggleable__control:checked~div.sk-toggleable__content {\n",
              "    /* Expand drop-down */\n",
              "    max-height: 200px;\n",
              "    max-width: 100%;\n",
              "    overflow: auto;\n",
              "  }\n",
              "\n",
              "  #sk-720e8393-b343-4729-8ef3-a15a6c1d0ca5 input.sk-toggleable__control:checked~label.sk-toggleable__label-arrow:before {\n",
              "    content: \"▾\";\n",
              "  }\n",
              "\n",
              "  /* Pipeline/ColumnTransformer-specific style */\n",
              "\n",
              "  #sk-720e8393-b343-4729-8ef3-a15a6c1d0ca5 div.sk-label input.sk-toggleable__control:checked~label.sk-toggleable__label {\n",
              "    color: var(--sklearn-color-text);\n",
              "    background-color: var(--sklearn-color-level-2);\n",
              "  }\n",
              "\n",
              "  /* Estimator-specific style */\n",
              "\n",
              "  /* Colorize estimator box */\n",
              "  #sk-720e8393-b343-4729-8ef3-a15a6c1d0ca5 div.sk-estimator input.sk-toggleable__control:checked~label.sk-toggleable__label {\n",
              "    /* unfitted */\n",
              "    background-color: var(--sklearn-color-level-2);\n",
              "  }\n",
              "\n",
              "  #sk-720e8393-b343-4729-8ef3-a15a6c1d0ca5 div.sk-label label.sk-toggleable__label,\n",
              "  #sk-720e8393-b343-4729-8ef3-a15a6c1d0ca5 div.sk-label label {\n",
              "    /* The background is the default theme color */\n",
              "    color: var(--sklearn-color-text-on-default-background);\n",
              "  }\n",
              "\n",
              "  /* On hover, darken the color of the background */\n",
              "  #sk-720e8393-b343-4729-8ef3-a15a6c1d0ca5 div.sk-label:hover label.sk-toggleable__label {\n",
              "    color: var(--sklearn-color-text);\n",
              "    background-color: var(--sklearn-color-level-2);\n",
              "  }\n",
              "\n",
              "  /* Estimator label */\n",
              "\n",
              "  #sk-720e8393-b343-4729-8ef3-a15a6c1d0ca5 div.sk-label label {\n",
              "    font-family: monospace;\n",
              "    font-weight: bold;\n",
              "    display: inline-block;\n",
              "    line-height: 1.2em;\n",
              "  }\n",
              "\n",
              "  #sk-720e8393-b343-4729-8ef3-a15a6c1d0ca5 div.sk-label-container {\n",
              "    text-align: center;\n",
              "  }\n",
              "\n",
              "  /* Estimator-specific */\n",
              "  #sk-720e8393-b343-4729-8ef3-a15a6c1d0ca5 div.sk-estimator {\n",
              "    font-family: monospace;\n",
              "    border: 1px dotted var(--sklearn-color-border-box);\n",
              "    border-radius: 0.25em;\n",
              "    box-sizing: border-box;\n",
              "    margin-bottom: 0.5em;\n",
              "    background-color: var(--sklearn-color-level-0);\n",
              "  }\n",
              "\n",
              "  /* on hover */\n",
              "  #sk-720e8393-b343-4729-8ef3-a15a6c1d0ca5 div.sk-estimator:hover {\n",
              "    background-color: var(--sklearn-color-level-2);\n",
              "  }\n",
              "\n",
              "  /* Specification for estimator info */\n",
              "\n",
              "  .sk-estimator-doc-link,\n",
              "  a:link.sk-estimator-doc-link,\n",
              "  a:visited.sk-estimator-doc-link {\n",
              "    float: right;\n",
              "    font-size: smaller;\n",
              "    line-height: 1em;\n",
              "    font-family: monospace;\n",
              "    background-color: var(--sklearn-color-background);\n",
              "    border-radius: 1em;\n",
              "    height: 1em;\n",
              "    width: 1em;\n",
              "    text-decoration: none !important;\n",
              "    margin-left: 1ex;\n",
              "    border: var(--sklearn-color-level-1) 1pt solid;\n",
              "    color: var(--sklearn-color-level-1);\n",
              "  }\n",
              "\n",
              "  /* On hover */\n",
              "  div.sk-estimator:hover .sk-estimator-doc-link:hover,\n",
              "  .sk-estimator-doc-link:hover,\n",
              "  div.sk-label-container:hover .sk-estimator-doc-link:hover,\n",
              "  .sk-estimator-doc-link:hover {\n",
              "    background-color: var(--sklearn-color-level-3);\n",
              "    color: var(--sklearn-color-background);\n",
              "    text-decoration: none;\n",
              "  }\n",
              "\n",
              "  /* Span, style for the box shown on hovering the info icon */\n",
              "  .sk-estimator-doc-link span {\n",
              "    display: none;\n",
              "    z-index: 9999;\n",
              "    position: relative;\n",
              "    font-weight: normal;\n",
              "    right: .2ex;\n",
              "    padding: .5ex;\n",
              "    margin: .5ex;\n",
              "    width: min-content;\n",
              "    min-width: 20ex;\n",
              "    max-width: 50ex;\n",
              "    color: var(--sklearn-color-text);\n",
              "    box-shadow: 2pt 2pt 4pt #999;\n",
              "    background: var(--sklearn-color-level-0);\n",
              "    border: .5pt solid var(--sklearn-color-level-3);\n",
              "  }\n",
              "\n",
              "  .sk-estimator-doc-link:hover span {\n",
              "    display: block;\n",
              "  }\n",
              "\n",
              "  /* \"?\"-specific style due to the `<a>` HTML tag */\n",
              "\n",
              "  #sk-720e8393-b343-4729-8ef3-a15a6c1d0ca5 a.estimator_doc_link {\n",
              "    float: right;\n",
              "    font-size: 1rem;\n",
              "    line-height: 1em;\n",
              "    font-family: monospace;\n",
              "    background-color: var(--sklearn-color-background);\n",
              "    border-radius: 1rem;\n",
              "    height: 1rem;\n",
              "    width: 1rem;\n",
              "    text-decoration: none;\n",
              "    color: var(--sklearn-color-level-1);\n",
              "    border: var(--sklearn-color-level-1) 1pt solid;\n",
              "  }\n",
              "\n",
              "  /* On hover */\n",
              "  #sk-720e8393-b343-4729-8ef3-a15a6c1d0ca5 a.estimator_doc_link:hover {\n",
              "    background-color: var(--sklearn-color-level-3);\n",
              "    color: var(--sklearn-color-background);\n",
              "    text-decoration: none;\n",
              "  }\n",
              "</style><div id='sk-720e8393-b343-4729-8ef3-a15a6c1d0ca5' class=\"sk-top-container\"><div class=\"sk-text-repr-fallback\"><pre>MTS(a=0.1, lags=25, obj=Ridge(), type_pi=&#x27;gaussian&#x27;, verbose=1)</pre><b>Please rerun this cell to show the HTML repr or trust the notebook.</b></div><div class=\"sk-container\" hidden><div class=\"sk-item sk-dashed-wrapped\"><div class='sk-label-container'><div class=\"sk-label sk-toggleable\"><input class=\"sk-toggleable__control sk-hidden--visually\" id=UUID('cb3fb7a4-1eaf-4f8f-bc45-b166e25db831') type=\"checkbox\" ><label for=UUID('cb3fb7a4-1eaf-4f8f-bc45-b166e25db831') class='sk-toggleable__label sk-toggleable__label-arrow'>MTS<a class=\"sk-estimator-doc-link\" rel=\"noreferrer\" target=\"_blank\" href=\"https://www.sktime.net/en/v0.32.1/api_reference/auto_generated/sktime.forecasting.nnetsaucemts.MTS.html\">?<span>Documentation for MTS</span></a></label><div class=\"sk-toggleable__content\"><pre>MTS(a=0.1, lags=25, obj=Ridge(), type_pi=&#x27;gaussian&#x27;, verbose=1)</pre></div></div></div><div class=\"sk-parallel\"><div class=\"sk-parallel-item\"><div class=\"sk-item\"><div class=\"sk-serial\"><div class='sk-item'><div class=\"sk-estimator sk-toggleable\"><input class=\"sk-toggleable__control sk-hidden--visually\" id=UUID('67367d58-1398-4da1-a743-603990633e23') type=\"checkbox\" ><label for=UUID('67367d58-1398-4da1-a743-603990633e23') class='sk-toggleable__label sk-toggleable__label-arrow'>Ridge</label><div class=\"sk-toggleable__content\"><pre>Ridge()</pre></div></div></div></div></div></div></div></div></div></div>"
            ],
            "text/plain": [
              "MTS(a=0.1, lags=25, obj=Ridge(), type_pi='gaussian', verbose=1)"
            ]
          },
          "execution_count": 6,
          "metadata": {},
          "output_type": "execute_result"
        }
      ],
      "source": [
        "obj_MTS.fit(df_train)"
      ]
    },
    {
      "cell_type": "code",
      "execution_count": 7,
      "metadata": {
        "colab": {
          "base_uri": "https://localhost:8080/"
        },
        "id": "8yxPpNcgopKN",
        "outputId": "64a93334-c1c8-4233-b605-2f355d0d598f"
      },
      "outputs": [
        {
          "name": "stdout",
          "output_type": "stream",
          "text": [
            "            realgovt  tbilrate  cpi\n",
            "date                               \n",
            "2004-09-30      0.01      0.12 0.01\n",
            "2004-12-31      0.02      0.01 0.02\n",
            "2005-03-31      0.00      0.23 0.01\n",
            "2005-06-30     -0.00      0.11 0.02\n",
            "2005-09-30      0.02      0.11 0.02\n"
          ]
        }
      ],
      "source": [
        "res = obj_MTS.predict(fh=[1, 2, 3, 4, 5])\n",
        "print(res)"
      ]
    },
    {
      "cell_type": "code",
      "execution_count": 8,
      "metadata": {
        "colab": {
          "base_uri": "https://localhost:8080/"
        },
        "id": "ZI2C2XzjdumF",
        "outputId": "e5c05d80-8662-4ef3-a114-229a373ed58f"
      },
      "outputs": [
        {
          "name": "stdout",
          "output_type": "stream",
          "text": [
            "           realgovt tbilrate  cpi realgovt tbilrate  cpi\n",
            "               0.05     0.05 0.05     0.95     0.95 0.95\n",
            "date                                                    \n",
            "2004-09-30    -0.01    -0.06 0.00     0.04     0.31 0.02\n",
            "2004-12-31    -0.00    -0.18 0.01     0.05     0.19 0.02\n",
            "2005-03-31    -0.02     0.05 0.01     0.03     0.41 0.02\n",
            "2005-06-30    -0.03    -0.07 0.01     0.02     0.30 0.02\n",
            "2005-09-30    -0.01    -0.07 0.01     0.04     0.29 0.02\n"
          ]
        }
      ],
      "source": [
        "res = obj_MTS.predict_quantiles(fh=[1, 2, 3, 4, 5], alpha=0.05)\n",
        "print(res)"
      ]
    }
  ],
  "metadata": {
    "colab": {
      "provenance": []
    },
    "kernelspec": {
      "display_name": "Python 3",
      "name": "python3"
    },
    "language_info": {
      "name": "python"
    }
  },
  "nbformat": 4,
  "nbformat_minor": 0
}
