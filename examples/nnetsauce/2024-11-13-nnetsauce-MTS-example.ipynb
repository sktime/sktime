{
 "cells": [
  {
   "cell_type": "markdown",
   "metadata": {
    "id": "tcHn18Z6rTog"
   },
   "source": [
    "<a target=\"_blank\" href=\"https://colab.research.google.com/github/thierrymoudiki/sktime/blob/nnetsauce-mts/examples/nnetsauce/2024-11-13-nnetsauce-MTS-example.ipynb\">\n",
    "  <img src=\"https://colab.research.google.com/assets/colab-badge.svg\" alt=\"Open In Colab\"/>\n",
    "</a>"
   ]
  },
  {
   "cell_type": "code",
   "execution_count": null,
   "metadata": {
    "colab": {
     "base_uri": "https://localhost:8080/"
    },
    "id": "cqxrIGcpvCsc",
    "outputId": "afe950fd-3092-48a1-e13b-e632f2eb5b80"
   },
   "outputs": [],
   "source": [
    "!pip uninstall sktime -y"
   ]
  },
  {
   "cell_type": "code",
   "execution_count": null,
   "metadata": {
    "colab": {
     "base_uri": "https://localhost:8080/"
    },
    "id": "rlVlB2CGrd4Y",
    "outputId": "ce6e0bfd-9acd-478e-cfb4-dd1c17b9a855"
   },
   "outputs": [],
   "source": [
    "!pip install git+https://github.com/thierrymoudiki/sktime.git --upgrade --no-cache-dir"
   ]
  },
  {
   "cell_type": "code",
   "execution_count": null,
   "metadata": {
    "id": "ujXKi0ewHuYb"
   },
   "outputs": [],
   "source": []
  },
  {
   "cell_type": "markdown",
   "metadata": {
    "id": "lBM0GEX8_Qrr"
   },
   "source": [
    "## Example 1"
   ]
  },
  {
   "cell_type": "code",
   "execution_count": null,
   "metadata": {
    "id": "VjEANwxFrxRP"
   },
   "outputs": [],
   "source": [
    "import numpy as np\n",
    "import pandas as pd\n",
    "import statsmodels.api as sm\n",
    "from sklearn import linear_model\n",
    "from statsmodels.tsa.base.datetools import dates_from_str\n",
    "\n",
    "from sktime.forecasting.nnetsaucemts import NnetsauceMTS"
   ]
  },
  {
   "cell_type": "code",
   "execution_count": null,
   "metadata": {
    "colab": {
     "base_uri": "https://localhost:8080/"
    },
    "id": "7lPop7HRrybi",
    "outputId": "4aa6afaa-b82a-4980-c9bc-255fdf8f071b"
   },
   "outputs": [],
   "source": [
    "# some example data\n",
    "mdata = sm.datasets.macrodata.load_pandas().data\n",
    "# prepare the dates index\n",
    "dates = mdata[[\"year\", \"quarter\"]].astype(int).astype(str)\n",
    "quarterly = dates[\"year\"] + \"Q\" + dates[\"quarter\"]\n",
    "quarterly = dates_from_str(quarterly)\n",
    "mdata = mdata[[\"realgovt\", \"tbilrate\", \"cpi\"]]\n",
    "mdata.index = pd.DatetimeIndex(quarterly)\n",
    "data = np.log(mdata).diff().dropna()\n",
    "\n",
    "n = data.shape[0]\n",
    "max_idx_train = np.floor(n * 0.9)\n",
    "training_index = np.arange(0, max_idx_train)\n",
    "testing_index = np.arange(max_idx_train, n)\n",
    "df_train = data.iloc[training_index, :]\n",
    "print(df_train.tail())\n",
    "df_test = data.iloc[testing_index, :]"
   ]
  },
  {
   "cell_type": "code",
   "execution_count": null,
   "metadata": {
    "colab": {
     "base_uri": "https://localhost:8080/",
     "height": 553
    },
    "id": "SJWFQ6j2r2LA",
    "outputId": "35c77ddf-3455-4ef9-d455-fe50c36f5519"
   },
   "outputs": [],
   "source": [
    "# Adjust Ridge\n",
    "regr = linear_model.Ridge()\n",
    "obj_MTS = NnetsauceMTS(\n",
    "    regr, lags=25, a=0.1, n_hidden_features=5, verbose=1, type_pi=\"gaussian\"\n",
    ")\n",
    "display(obj_MTS.get_params())"
   ]
  },
  {
   "cell_type": "code",
   "execution_count": null,
   "metadata": {
    "colab": {
     "base_uri": "https://localhost:8080/",
     "height": 176
    },
    "id": "j2EA4hJSjKsK",
    "outputId": "684498c2-50a5-4d27-81af-4b091f7488f1"
   },
   "outputs": [],
   "source": [
    "obj_MTS.fit(df_train)"
   ]
  },
  {
   "cell_type": "code",
   "execution_count": null,
   "metadata": {
    "colab": {
     "base_uri": "https://localhost:8080/"
    },
    "id": "8yxPpNcgopKN",
    "outputId": "6e257b8f-0949-4c8a-afca-61e920e99947"
   },
   "outputs": [],
   "source": [
    "res = obj_MTS.predict(fh=[i for i in range(1, 10)])\n",
    "print(res)"
   ]
  },
  {
   "cell_type": "code",
   "execution_count": null,
   "metadata": {
    "colab": {
     "base_uri": "https://localhost:8080/"
    },
    "id": "ZI2C2XzjdumF",
    "outputId": "dc8265f4-de0a-45cf-9663-69df3db550e8"
   },
   "outputs": [],
   "source": [
    "res = obj_MTS.predict_quantiles(fh=[i for i in range(1, 10)], alpha=0.05)\n",
    "print(res)"
   ]
  },
  {
   "cell_type": "code",
   "execution_count": null,
   "metadata": {
    "colab": {
     "base_uri": "https://localhost:8080/",
     "height": 452
    },
    "id": "H2SHtn--qjhZ",
    "outputId": "cd2112db-3ebe-4013-d808-ebd1d25bb7f0"
   },
   "outputs": [],
   "source": [
    "obj_MTS.fitter.plot(series=\"realgovt\")"
   ]
  },
  {
   "cell_type": "code",
   "execution_count": null,
   "metadata": {
    "colab": {
     "base_uri": "https://localhost:8080/",
     "height": 452
    },
    "id": "Ombvn8tOqz2F",
    "outputId": "9e46d5d2-1232-4cba-dca2-afbfe2bdc99d"
   },
   "outputs": [],
   "source": [
    "obj_MTS.fitter.plot(series=\"cpi\")"
   ]
  },
  {
   "cell_type": "markdown",
   "metadata": {
    "id": "zfdE2TSrAKXS"
   },
   "source": [
    "## Example 2"
   ]
  },
  {
   "cell_type": "code",
   "execution_count": null,
   "metadata": {
    "colab": {
     "base_uri": "https://localhost:8080/"
    },
    "id": "eOen_0BJ5JNv",
    "outputId": "33d215ea-c19e-4c64-b651-9f795465ca58"
   },
   "outputs": [],
   "source": [
    "!pip install git+https://github.com/Techtonique/mlsauce.git --upgrade --no-cache-dir"
   ]
  },
  {
   "cell_type": "code",
   "execution_count": null,
   "metadata": {
    "id": "gSmOnW1f983M"
   },
   "outputs": [],
   "source": [
    "url = \"https://raw.githubusercontent.com/Techtonique/\"\n",
    "url += \"datasets/main/time_series/multivariate/\"\n",
    "url += \"ice_cream_vs_heater.csv\"\n",
    "df_temp = pd.read_csv(url)\n",
    "df_temp.index = pd.DatetimeIndex(df_temp.date)  # must have# first other difference\n",
    "df_icecream = df_temp.drop(columns=[\"date\"]).diff().dropna()"
   ]
  },
  {
   "cell_type": "code",
   "execution_count": null,
   "metadata": {
    "colab": {
     "base_uri": "https://localhost:8080/",
     "height": 1000
    },
    "id": "1JYjnvfD5sa9",
    "outputId": "3c1ddb7c-068d-476c-a694-1a6c3834341c"
   },
   "outputs": [],
   "source": [
    "import mlsauce as ms\n",
    "\n",
    "regr = ms.RidgeRegressor(reg_lambda=100)\n",
    "obj_MTS = NnetsauceMTS(\n",
    "    regr,\n",
    "    lags=25,\n",
    "    n_hidden_features=3,\n",
    "    verbose=1,\n",
    "    type_pi=\"scp2-kde\",\n",
    "    replications=250,\n",
    "    kernel=\"tophat\",\n",
    ")\n",
    "display(obj_MTS.get_params())\n",
    "obj_MTS.fit(df_icecream)\n",
    "res = obj_MTS.predict(fh=[i for i in range(1, 25)])\n",
    "display(res)\n",
    "res = obj_MTS.predict_quantiles(fh=[i for i in range(1, 25)], alpha=0.10)\n",
    "display(res)"
   ]
  },
  {
   "cell_type": "code",
   "execution_count": null,
   "metadata": {
    "colab": {
     "base_uri": "https://localhost:8080/",
     "height": 472
    },
    "id": "Wi75tJXb6HoO",
    "outputId": "f38bff62-26c1-4fd9-cc43-54e6ada0c7cb"
   },
   "outputs": [],
   "source": [
    "obj_MTS.fitter.plot(series=\"heater\", type_plot=\"spaghetti\")"
   ]
  },
  {
   "cell_type": "code",
   "execution_count": null,
   "metadata": {
    "colab": {
     "base_uri": "https://localhost:8080/",
     "height": 472
    },
    "id": "TDeFntoR67d_",
    "outputId": "404f7dd4-ee68-4bd2-f08d-5f80c7ff9641"
   },
   "outputs": [],
   "source": [
    "obj_MTS.fitter.plot(series=\"icecream\", type_plot=\"spaghetti\")"
   ]
  }
 ],
 "metadata": {
  "colab": {
   "provenance": []
  },
  "kernelspec": {
   "display_name": "venv",
   "language": "python",
   "name": "python3"
  },
  "language_info": {
   "codemirror_mode": {
    "name": "ipython",
    "version": 3
   },
   "file_extension": ".py",
   "mimetype": "text/x-python",
   "name": "python",
   "nbconvert_exporter": "python",
   "pygments_lexer": "ipython3",
   "version": "3.11.10"
  }
 },
 "nbformat": 4,
 "nbformat_minor": 0
}
