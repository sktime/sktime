{
 "cells": [
  {
   "cell_type": "markdown",
   "metadata": {},
   "source": [
    "## Example of use of nnetsauce's MTS model "
   ]
  },
  {
   "cell_type": "code",
   "execution_count": 1,
   "metadata": {},
   "outputs": [
    {
     "name": "stdout",
     "output_type": "stream",
     "text": [
      "\u001b[33mWARNING: Skipping nnetsauce as it is not installed.\u001b[0m\u001b[33m\n",
      "\u001b[0m\u001b[33mWARNING: Skipping sktime as it is not installed.\u001b[0m\u001b[33m\n",
      "\u001b[0m"
     ]
    }
   ],
   "source": [
    "!pip uninstall nnetsauce sktime --yes"
   ]
  },
  {
   "cell_type": "code",
   "execution_count": 2,
   "metadata": {},
   "outputs": [
    {
     "name": "stdout",
     "output_type": "stream",
     "text": [
      "Processing /Users/t/Documents/Python_Packages/sktime\n",
      "  Installing build dependencies ... \u001b[?25ldone\n",
      "\u001b[?25h  Getting requirements to build wheel ... \u001b[?25ldone\n",
      "\u001b[?25h  Preparing metadata (pyproject.toml) ... \u001b[?25ldone\n",
      "\u001b[?25hCollecting joblib<1.5,>=1.2.0 (from sktime==0.32.1)\n",
      "  Downloading joblib-1.4.2-py3-none-any.whl.metadata (5.4 kB)\n",
      "Collecting nnetsauce>=0.23.2 (from sktime==0.32.1)\n",
      "  Downloading nnetsauce-0.24.5-py3-none-any.whl.metadata (812 bytes)\n",
      "Collecting numpy<2.1,>=1.21 (from sktime==0.32.1)\n",
      "  Downloading numpy-2.0.2-cp311-cp311-macosx_14_0_x86_64.whl.metadata (60 kB)\n",
      "Requirement already satisfied: packaging in /Users/t/Documents/Python_Packages/sktime/venv/lib/python3.11/site-packages (from sktime==0.32.1) (24.1)\n",
      "Collecting pandas<2.3.0,>=1.1 (from sktime==0.32.1)\n",
      "  Downloading pandas-2.2.3-cp311-cp311-macosx_10_9_x86_64.whl.metadata (89 kB)\n",
      "Collecting scikit-base<0.9.0,>=0.6.1 (from sktime==0.32.1)\n",
      "  Downloading scikit_base-0.8.3-py3-none-any.whl.metadata (8.5 kB)\n",
      "Collecting scikit-learn<1.6.0,>=0.24 (from sktime==0.32.1)\n",
      "  Downloading scikit_learn-1.5.2-cp311-cp311-macosx_10_9_x86_64.whl.metadata (13 kB)\n",
      "Collecting scipy<2.0.0,>=1.2 (from sktime==0.32.1)\n",
      "  Downloading scipy-1.14.1-cp311-cp311-macosx_14_0_x86_64.whl.metadata (60 kB)\n",
      "Collecting matplotlib (from nnetsauce>=0.23.2->sktime==0.32.1)\n",
      "  Downloading matplotlib-3.9.2-cp311-cp311-macosx_10_12_x86_64.whl.metadata (11 kB)\n",
      "Collecting pyvinecopulib (from nnetsauce>=0.23.2->sktime==0.32.1)\n",
      "  Downloading pyvinecopulib-0.6.6-cp311-cp311-macosx_10_9_x86_64.whl.metadata (7.2 kB)\n",
      "Collecting requests (from nnetsauce>=0.23.2->sktime==0.32.1)\n",
      "  Downloading requests-2.32.3-py3-none-any.whl.metadata (4.6 kB)\n",
      "Collecting statsmodels (from nnetsauce>=0.23.2->sktime==0.32.1)\n",
      "  Downloading statsmodels-0.14.3-cp311-cp311-macosx_10_9_x86_64.whl.metadata (9.2 kB)\n",
      "Collecting threadpoolctl (from nnetsauce>=0.23.2->sktime==0.32.1)\n",
      "  Downloading threadpoolctl-3.5.0-py3-none-any.whl.metadata (13 kB)\n",
      "Collecting tqdm (from nnetsauce>=0.23.2->sktime==0.32.1)\n",
      "  Downloading tqdm-4.66.5-py3-none-any.whl.metadata (57 kB)\n",
      "Requirement already satisfied: python-dateutil>=2.8.2 in /Users/t/Documents/Python_Packages/sktime/venv/lib/python3.11/site-packages (from pandas<2.3.0,>=1.1->sktime==0.32.1) (2.9.0.post0)\n",
      "Collecting pytz>=2020.1 (from pandas<2.3.0,>=1.1->sktime==0.32.1)\n",
      "  Downloading pytz-2024.2-py2.py3-none-any.whl.metadata (22 kB)\n",
      "Collecting tzdata>=2022.7 (from pandas<2.3.0,>=1.1->sktime==0.32.1)\n",
      "  Downloading tzdata-2024.1-py2.py3-none-any.whl.metadata (1.4 kB)\n",
      "Requirement already satisfied: six>=1.5 in /Users/t/Documents/Python_Packages/sktime/venv/lib/python3.11/site-packages (from python-dateutil>=2.8.2->pandas<2.3.0,>=1.1->sktime==0.32.1) (1.16.0)\n",
      "Collecting contourpy>=1.0.1 (from matplotlib->nnetsauce>=0.23.2->sktime==0.32.1)\n",
      "  Downloading contourpy-1.3.0-cp311-cp311-macosx_10_9_x86_64.whl.metadata (5.4 kB)\n",
      "Collecting cycler>=0.10 (from matplotlib->nnetsauce>=0.23.2->sktime==0.32.1)\n",
      "  Downloading cycler-0.12.1-py3-none-any.whl.metadata (3.8 kB)\n",
      "Collecting fonttools>=4.22.0 (from matplotlib->nnetsauce>=0.23.2->sktime==0.32.1)\n",
      "  Downloading fonttools-4.53.1-cp311-cp311-macosx_10_9_universal2.whl.metadata (162 kB)\n",
      "Collecting kiwisolver>=1.3.1 (from matplotlib->nnetsauce>=0.23.2->sktime==0.32.1)\n",
      "  Downloading kiwisolver-1.4.7-cp311-cp311-macosx_10_9_x86_64.whl.metadata (6.3 kB)\n",
      "Collecting pillow>=8 (from matplotlib->nnetsauce>=0.23.2->sktime==0.32.1)\n",
      "  Downloading pillow-10.4.0-cp311-cp311-macosx_10_10_x86_64.whl.metadata (9.2 kB)\n",
      "Collecting pyparsing>=2.3.1 (from matplotlib->nnetsauce>=0.23.2->sktime==0.32.1)\n",
      "  Downloading pyparsing-3.1.4-py3-none-any.whl.metadata (5.1 kB)\n",
      "Collecting charset-normalizer<4,>=2 (from requests->nnetsauce>=0.23.2->sktime==0.32.1)\n",
      "  Downloading charset_normalizer-3.3.2-cp311-cp311-macosx_10_9_x86_64.whl.metadata (33 kB)\n",
      "Collecting idna<4,>=2.5 (from requests->nnetsauce>=0.23.2->sktime==0.32.1)\n",
      "  Downloading idna-3.10-py3-none-any.whl.metadata (10 kB)\n",
      "Collecting urllib3<3,>=1.21.1 (from requests->nnetsauce>=0.23.2->sktime==0.32.1)\n",
      "  Downloading urllib3-2.2.3-py3-none-any.whl.metadata (6.5 kB)\n",
      "Collecting certifi>=2017.4.17 (from requests->nnetsauce>=0.23.2->sktime==0.32.1)\n",
      "  Downloading certifi-2024.8.30-py3-none-any.whl.metadata (2.2 kB)\n",
      "Collecting patsy>=0.5.6 (from statsmodels->nnetsauce>=0.23.2->sktime==0.32.1)\n",
      "  Downloading patsy-0.5.6-py2.py3-none-any.whl.metadata (3.5 kB)\n",
      "Downloading joblib-1.4.2-py3-none-any.whl (301 kB)\n",
      "Downloading nnetsauce-0.24.5-py3-none-any.whl (178 kB)\n",
      "Downloading numpy-2.0.2-cp311-cp311-macosx_14_0_x86_64.whl (6.9 MB)\n",
      "\u001b[2K   \u001b[90m━━━━━━━━━━━━━━━━━━━━━━━━━━━━━━━━━━━━━━━━\u001b[0m \u001b[32m6.9/6.9 MB\u001b[0m \u001b[31m3.3 MB/s\u001b[0m eta \u001b[36m0:00:00\u001b[0ma \u001b[36m0:00:01\u001b[0m\n",
      "\u001b[?25hDownloading pandas-2.2.3-cp311-cp311-macosx_10_9_x86_64.whl (12.6 MB)\n",
      "\u001b[2K   \u001b[90m━━━━━━━━━━━━━━━━━━━━━━━━━━━━━━━━━━━━━━━━\u001b[0m \u001b[32m12.6/12.6 MB\u001b[0m \u001b[31m3.0 MB/s\u001b[0m eta \u001b[36m0:00:00\u001b[0ma \u001b[36m0:00:01\u001b[0m\n",
      "\u001b[?25hDownloading scikit_base-0.8.3-py3-none-any.whl (136 kB)\n",
      "Downloading scikit_learn-1.5.2-cp311-cp311-macosx_10_9_x86_64.whl (12.1 MB)\n",
      "\u001b[2K   \u001b[90m━━━━━━━━━━━━━━━━━━━━━━━━━━━━━━━━━━━━━━━━\u001b[0m \u001b[32m12.1/12.1 MB\u001b[0m \u001b[31m4.3 MB/s\u001b[0m eta \u001b[36m0:00:00\u001b[0m00:01\u001b[0m00:01\u001b[0m\n",
      "\u001b[?25hDownloading scipy-1.14.1-cp311-cp311-macosx_14_0_x86_64.whl (25.5 MB)\n",
      "\u001b[2K   \u001b[90m━━━━━━━━━━━━━━━━━━━━━━━━━━━━━━━━━━━━━━━━\u001b[0m \u001b[32m25.5/25.5 MB\u001b[0m \u001b[31m4.8 MB/s\u001b[0m eta \u001b[36m0:00:00\u001b[0ma \u001b[36m0:00:01\u001b[0m\n",
      "\u001b[?25hDownloading pytz-2024.2-py2.py3-none-any.whl (508 kB)\n",
      "Downloading threadpoolctl-3.5.0-py3-none-any.whl (18 kB)\n",
      "Downloading tzdata-2024.1-py2.py3-none-any.whl (345 kB)\n",
      "Downloading matplotlib-3.9.2-cp311-cp311-macosx_10_12_x86_64.whl (7.9 MB)\n",
      "\u001b[2K   \u001b[90m━━━━━━━━━━━━━━━━━━━━━━━━━━━━━━━━━━━━━━━━\u001b[0m \u001b[32m7.9/7.9 MB\u001b[0m \u001b[31m4.1 MB/s\u001b[0m eta \u001b[36m0:00:00\u001b[0ma \u001b[36m0:00:01\u001b[0m\n",
      "\u001b[?25hDownloading pyvinecopulib-0.6.6-cp311-cp311-macosx_10_9_x86_64.whl (12.0 MB)\n",
      "\u001b[2K   \u001b[90m━━━━━━━━━━━━━━━━━━━━━━━━━━━━━━━━━━━━━━━━\u001b[0m \u001b[32m12.0/12.0 MB\u001b[0m \u001b[31m3.5 MB/s\u001b[0m eta \u001b[36m0:00:00\u001b[0ma \u001b[36m0:00:01\u001b[0m\n",
      "\u001b[?25hDownloading requests-2.32.3-py3-none-any.whl (64 kB)\n",
      "Downloading statsmodels-0.14.3-cp311-cp311-macosx_10_9_x86_64.whl (10.2 MB)\n",
      "\u001b[2K   \u001b[90m━━━━━━━━━━━━━━━━━━━━━━━━━━━━━━━━━━━━━━━━\u001b[0m \u001b[32m10.2/10.2 MB\u001b[0m \u001b[31m2.7 MB/s\u001b[0m eta \u001b[36m0:00:00\u001b[0ma \u001b[36m0:00:01\u001b[0m\n",
      "\u001b[?25hDownloading tqdm-4.66.5-py3-none-any.whl (78 kB)\n",
      "Downloading certifi-2024.8.30-py3-none-any.whl (167 kB)\n",
      "Downloading charset_normalizer-3.3.2-cp311-cp311-macosx_10_9_x86_64.whl (121 kB)\n",
      "Downloading contourpy-1.3.0-cp311-cp311-macosx_10_9_x86_64.whl (266 kB)\n",
      "Downloading cycler-0.12.1-py3-none-any.whl (8.3 kB)\n",
      "Downloading fonttools-4.53.1-cp311-cp311-macosx_10_9_universal2.whl (2.8 MB)\n",
      "\u001b[2K   \u001b[90m━━━━━━━━━━━━━━━━━━━━━━━━━━━━━━━━━━━━━━━━\u001b[0m \u001b[32m2.8/2.8 MB\u001b[0m \u001b[31m3.9 MB/s\u001b[0m eta \u001b[36m0:00:00\u001b[0ma \u001b[36m0:00:01\u001b[0m\n",
      "\u001b[?25hDownloading idna-3.10-py3-none-any.whl (70 kB)\n",
      "Downloading kiwisolver-1.4.7-cp311-cp311-macosx_10_9_x86_64.whl (65 kB)\n",
      "Downloading patsy-0.5.6-py2.py3-none-any.whl (233 kB)\n",
      "Downloading pillow-10.4.0-cp311-cp311-macosx_10_10_x86_64.whl (3.5 MB)\n",
      "\u001b[2K   \u001b[90m━━━━━━━━━━━━━━━━━━━━━━━━━━━━━━━━━━━━━━━━\u001b[0m \u001b[32m3.5/3.5 MB\u001b[0m \u001b[31m3.7 MB/s\u001b[0m eta \u001b[36m0:00:00\u001b[0ma \u001b[36m0:00:01\u001b[0m\n",
      "\u001b[?25hDownloading pyparsing-3.1.4-py3-none-any.whl (104 kB)\n",
      "Downloading urllib3-2.2.3-py3-none-any.whl (126 kB)\n",
      "Building wheels for collected packages: sktime\n",
      "  Building wheel for sktime (pyproject.toml) ... \u001b[?25ldone\n",
      "\u001b[?25h  Created wheel for sktime: filename=sktime-0.32.1-py3-none-any.whl size=44982458 sha256=98fba251c8679f4b2648209f2838d4d56b885046f7ee96da7c196a58df7dfe3d\n",
      "  Stored in directory: /private/var/folders/cp/q8d6040n3m38d22z3hkk1zc40000gn/T/pip-ephem-wheel-cache-jvt6ensf/wheels/83/14/f5/605071113f2e6b705828904b9841868ad8d90decda9f51635a\n",
      "Successfully built sktime\n",
      "Installing collected packages: pytz, urllib3, tzdata, tqdm, threadpoolctl, scikit-base, pyparsing, pillow, numpy, kiwisolver, joblib, idna, fonttools, cycler, charset-normalizer, certifi, scipy, requests, pyvinecopulib, patsy, pandas, contourpy, statsmodels, scikit-learn, matplotlib, nnetsauce, sktime\n"
     ]
    }
   ],
   "source": [
    "!pip install ../.. --upgrade --no-cache-dir"
   ]
  },
  {
   "cell_type": "markdown",
   "metadata": {},
   "source": [
    "### 1 - Import packages"
   ]
  },
  {
   "cell_type": "code",
   "execution_count": 14,
   "metadata": {},
   "outputs": [],
   "source": [
    "import numpy as np\n",
    "import pandas as pd\n",
    "import statsmodels.api as sm\n",
    "from sklearn import linear_model\n",
    "from statsmodels.tsa.base.datetools import dates_from_str\n",
    "\n",
    "from sktime.forecasting.nnetsaucemts import MTS"
   ]
  },
  {
   "cell_type": "markdown",
   "metadata": {},
   "source": [
    "### 2 - Load data"
   ]
  },
  {
   "cell_type": "code",
   "execution_count": 15,
   "metadata": {},
   "outputs": [
    {
     "name": "stdout",
     "output_type": "stream",
     "text": [
      "     year  quarter  realgdp  realcons  realinv  realgovt  realdpi   cpi  \\\n",
      "0 1959.00     1.00  2710.35   1707.40   286.90    470.05  1886.90 28.98   \n",
      "1 1959.00     2.00  2778.80   1733.70   310.86    481.30  1919.70 29.15   \n",
      "2 1959.00     3.00  2775.49   1751.80   289.23    491.26  1916.40 29.35   \n",
      "3 1959.00     4.00  2785.20   1753.70   299.36    484.05  1931.30 29.37   \n",
      "4 1960.00     1.00  2847.70   1770.50   331.72    462.20  1955.50 29.54   \n",
      "\n",
      "      m1  tbilrate  unemp    pop  infl  realint  \n",
      "0 139.70      2.82   5.80 177.15  0.00     0.00  \n",
      "1 141.70      3.08   5.10 177.83  2.34     0.74  \n",
      "2 140.50      3.82   5.30 178.66  2.74     1.09  \n",
      "3 140.00      4.33   5.60 179.39  0.27     4.06  \n",
      "4 139.60      3.50   5.20 180.01  2.31     1.19  \n"
     ]
    }
   ],
   "source": [
    "# some example data\n",
    "mdata = sm.datasets.macrodata.load_pandas().data\n",
    "# prepare the dates index\n",
    "dates = mdata[['year', 'quarter']].astype(int).astype(str)\n",
    "quarterly = dates[\"year\"] + \"Q\" + dates[\"quarter\"]\n",
    "quarterly = dates_from_str(quarterly)\n",
    "print(mdata.head())\n",
    "mdata = mdata[['realgovt', 'tbilrate', 'cpi']]\n",
    "mdata.index = pd.DatetimeIndex(quarterly)\n",
    "data = np.log(mdata).diff().dropna()\n",
    "\n",
    "n = data.shape[0]\n",
    "max_idx_train = np.floor(n*0.9)\n",
    "training_index = np.arange(0, max_idx_train)\n",
    "testing_index = np.arange(max_idx_train, n)\n",
    "df_train = data.iloc[training_index,:]\n",
    "df_test = data.iloc[testing_index,:]"
   ]
  },
  {
   "cell_type": "markdown",
   "metadata": {},
   "source": [
    "## 3 - Fit the model"
   ]
  },
  {
   "cell_type": "code",
   "execution_count": 16,
   "metadata": {},
   "outputs": [
    {
     "ename": "TypeError",
     "evalue": "MTS.__init__() missing 1 required positional argument: 'parama'",
     "output_type": "error",
     "traceback": [
      "\u001b[0;31m---------------------------------------------------------------------------\u001b[0m",
      "\u001b[0;31mTypeError\u001b[0m                                 Traceback (most recent call last)",
      "Cell \u001b[0;32mIn[16], line 3\u001b[0m\n\u001b[1;32m      1\u001b[0m \u001b[38;5;66;03m# Adjust Ridge\u001b[39;00m\n\u001b[1;32m      2\u001b[0m regr \u001b[38;5;241m=\u001b[39m linear_model\u001b[38;5;241m.\u001b[39mRidge()\n\u001b[0;32m----> 3\u001b[0m obj_MTS \u001b[38;5;241m=\u001b[39m \u001b[43mMTS\u001b[49m\u001b[43m(\u001b[49m\u001b[43mregr\u001b[49m\u001b[43m,\u001b[49m\u001b[43m \u001b[49m\n\u001b[1;32m      4\u001b[0m \u001b[43m              \u001b[49m\u001b[43mlags\u001b[49m\u001b[43m \u001b[49m\u001b[38;5;241;43m=\u001b[39;49m\u001b[43m \u001b[49m\u001b[38;5;241;43m25\u001b[39;49m\u001b[43m,\u001b[49m\u001b[43m \u001b[49m\n\u001b[1;32m      5\u001b[0m \u001b[43m              \u001b[49m\u001b[43mn_hidden_features\u001b[49m\u001b[38;5;241;43m=\u001b[39;49m\u001b[38;5;241;43m5\u001b[39;49m\u001b[43m,\u001b[49m\u001b[43m \u001b[49m\n\u001b[1;32m      6\u001b[0m \u001b[43m              \u001b[49m\u001b[43mverbose\u001b[49m\u001b[43m \u001b[49m\u001b[38;5;241;43m=\u001b[39;49m\u001b[43m \u001b[49m\u001b[38;5;241;43m1\u001b[39;49m\u001b[43m,\u001b[49m\u001b[43m \u001b[49m\n\u001b[1;32m      7\u001b[0m \u001b[43m              \u001b[49m\u001b[43mtype_pi\u001b[49m\u001b[38;5;241;43m=\u001b[39;49m\u001b[38;5;124;43m\"\u001b[39;49m\u001b[38;5;124;43mgaussian\u001b[39;49m\u001b[38;5;124;43m\"\u001b[39;49m\u001b[43m)\u001b[49m\n\u001b[1;32m      8\u001b[0m obj_MTS\u001b[38;5;241m.\u001b[39mfit(df_train)\n",
      "\u001b[0;31mTypeError\u001b[0m: MTS.__init__() missing 1 required positional argument: 'parama'"
     ]
    }
   ],
   "source": [
    "# Adjust Ridge\n",
    "regr = linear_model.Ridge()\n",
    "obj_MTS = MTS(regr, \n",
    "              lags = 25, \n",
    "              n_hidden_features=5, \n",
    "              verbose = 1, \n",
    "              type_pi=\"gaussian\")\n",
    "obj_MTS.fit(df_train)"
   ]
  },
  {
   "cell_type": "markdown",
   "metadata": {},
   "source": [
    "### 4 - Predict"
   ]
  },
  {
   "cell_type": "code",
   "execution_count": null,
   "metadata": {},
   "outputs": [],
   "source": [
    "# with Gaussian prediction intervals\n",
    "res = obj_MTS.predict(level=80) \n",
    "print(res)"
   ]
  }
 ],
 "metadata": {
  "kernelspec": {
   "display_name": "venv",
   "language": "python",
   "name": "python3"
  },
  "language_info": {
   "codemirror_mode": {
    "name": "ipython",
    "version": 3
   },
   "file_extension": ".py",
   "mimetype": "text/x-python",
   "name": "python",
   "nbconvert_exporter": "python",
   "pygments_lexer": "ipython3",
   "version": "3.11.8"
  }
 },
 "nbformat": 4,
 "nbformat_minor": 2
}
