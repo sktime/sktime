{
 "cells": [
  {
   "cell_type": "markdown",
   "metadata": {},
   "source": [
    "# Theta Lines transformer\n",
    "Computes Theta lines to be used in ThetaForecaster.\n",
    "\n",
    "The Theta lines are obtained by modifying the distances between the points of the original time series. We apply  coefficient θ (theta) to the second differences of the original observations, thus changing the local curvatures . Theta coefficient is a transformation parameter which creates series of the same mean and slope with that of the original data but different variances."
   ]
  },
  {
   "cell_type": "code",
   "execution_count": null,
   "metadata": {},
   "outputs": [],
   "source": [
    "import matplotlib.pyplot as plt\n",
    "\n",
    "from sktime.datasets import load_airline\n",
    "from sktime.transformations.series.theta import ThetaLinesTransformer\n",
    "\n",
    "y = load_airline()\n",
    "transformer = ThetaLinesTransformer()\n",
    "transformer.fit(y)\n",
    "y_thetas = transformer.transform(y)\n",
    "\n",
    "\n",
    "fig, ax = plt.subplots()\n",
    "y_thetas.plot(ax=ax, figsize=(12, 7))\n",
    "plt.legend([\"theta=0\", \"theta=2\"])\n",
    "\n",
    "# plt.figure(figsize=(15, 8))\n",
    "# plt.plot(y_thetas)\n",
    "# plt.legend([\"theta=0\", \"theta=2\"])\n",
    "# plt.ylim(0, 800)"
   ]
  },
  {
   "cell_type": "markdown",
   "metadata": {},
   "source": [
    "### Special cases: theta = 0 and theta = 1\n",
    "\n",
    "Theta values **1 > theta > 0** *reduce* original time series curvatures. The smaller the value of Theta coefficient results in the larger deflation of time series.\n",
    "\n",
    "Theta-line with **theta=0** gives a linear regression line."
   ]
  },
  {
   "cell_type": "code",
   "execution_count": null,
   "metadata": {},
   "outputs": [],
   "source": [
    "t = ThetaLinesTransformer([0, 0.25, 0.75, 1])\n",
    "t.fit(y)\n",
    "y_t = t.transform(y)\n",
    "\n",
    "fig, ax = plt.subplots()\n",
    "y_t.plot(ax=ax, figsize=(12, 7))\n",
    "plt.legend(\n",
    "    [\"theta=0, linear regression\", \"theta=0.25\", \"theta=0.75\", \"theta=1, original ts\"]\n",
    ")"
   ]
  },
  {
   "cell_type": "markdown",
   "metadata": {},
   "source": [
    "Theta-line with **theta=1** returns original time series.\n",
    "\n",
    "Theta values > 1 will *increase* local curvatures, and the larger theta coefficients will result in larger dilation."
   ]
  },
  {
   "cell_type": "code",
   "execution_count": null,
   "metadata": {},
   "outputs": [],
   "source": [
    "t_1 = ThetaLinesTransformer([0, 1, 2, 2.5])\n",
    "t_1.fit(y)\n",
    "y_t1 = t_1.transform(y)\n",
    "\n",
    "fig, ax = plt.subplots()\n",
    "y_t1.plot(ax=ax, figsize=(12, 7))\n",
    "plt.legend(\n",
    "    [\"theta=0, linear regression\", \"theta=1, original ts\", \"theta=2\", \"theta=2.5\"]\n",
    ")"
   ]
  },
  {
   "cell_type": "code",
   "execution_count": null,
   "metadata": {},
   "outputs": [],
   "source": []
  }
 ],
 "metadata": {
  "interpreter": {
   "hash": "04cb17b04f5f80a2a0b41c77f7b4e8d588d61df805b8f5a9fd558c7dab25a82e"
  },
  "kernelspec": {
   "name": "sktime-dev",
   "display_name": "Python 3.8.8 64-bit ('base': conda)"
  },
  "language_info": {
   "codemirror_mode": {
    "name": "ipython",
    "version": 3
   },
   "file_extension": ".py",
   "mimetype": "text/x-python",
   "name": "python",
   "nbconvert_exporter": "python",
   "pygments_lexer": "ipython3",
   "version": "3.8.10"
  }
 },
 "nbformat": 4,
 "nbformat_minor": 2
}
