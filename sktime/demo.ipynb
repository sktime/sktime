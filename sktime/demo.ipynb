{
 "cells": [
  {
   "cell_type": "code",
   "execution_count": null,
   "metadata": {},
   "outputs": [
    {
     "ename": "ModuleNotFoundError",
     "evalue": "No module named 'sktime'",
     "output_type": "error",
     "traceback": [
      "\u001b[0;31m---------------------------------------------------------------------------\u001b[0m",
      "\u001b[0;31mModuleNotFoundError\u001b[0m                       Traceback (most recent call last)",
      "Cell \u001b[0;32mIn[2], line 7\u001b[0m\n\u001b[1;32m      2\u001b[0m \u001b[38;5;28;01mimport\u001b[39;00m \u001b[38;5;21;01mpandas\u001b[39;00m \u001b[38;5;28;01mas\u001b[39;00m \u001b[38;5;21;01mpd\u001b[39;00m\n\u001b[1;32m      3\u001b[0m \u001b[38;5;66;03m# from sktime.forecasting.sarimax import SARIMAX\u001b[39;00m\n\u001b[1;32m      4\u001b[0m \u001b[38;5;66;03m# from sktime.split import ExpandingWindowSplitter\u001b[39;00m\n\u001b[1;32m      5\u001b[0m \u001b[38;5;66;03m# from sktime.performance_metrics.forecasting import MeanSquaredError\u001b[39;00m\n\u001b[1;32m      6\u001b[0m \u001b[38;5;66;03m# from sktime.forecasting.model_evaluation import evaluate\u001b[39;00m\n\u001b[0;32m----> 7\u001b[0m \u001b[38;5;28;01mimport\u001b[39;00m \u001b[38;5;21;01msktime\u001b[39;00m\n\u001b[1;32m      8\u001b[0m \u001b[38;5;28;01mdef\u001b[39;00m \u001b[38;5;21mmain\u001b[39m():\n\u001b[1;32m      9\u001b[0m     \u001b[38;5;66;03m# Simulated dataset\u001b[39;00m\n\u001b[1;32m     10\u001b[0m     np\u001b[38;5;241m.\u001b[39mrandom\u001b[38;5;241m.\u001b[39mseed(\u001b[38;5;241m42\u001b[39m)\n",
      "\u001b[0;31mModuleNotFoundError\u001b[0m: No module named 'sktime'"
     ]
    }
   ],
   "source": [
    "import numpy as np\n",
    "import pandas as pd\n",
    "from sktime.forecasting.sarimax import SARIMAX\n",
    "from sktime.split import ExpandingWindowSplitter\n",
    "from sktime.performance_metrics.forecasting import MeanSquaredError\n",
    "from sktime.forecasting.model_evaluation import evaluate\n",
    "\n",
    "def main():\n",
    "    # Simulated dataset\n",
    "    np.random.seed(42)\n",
    "    date_range = pd.date_range(start=\"2024-01-01\", end=\"2025-12-31\")\n",
    "    data = {\n",
    "        \"feature_1\": np.random.randn(len(date_range)),\n",
    "        \"feature_2\": np.random.randn(len(date_range)),\n",
    "        \"target\": np.random.randn(len(date_range)),\n",
    "    }\n",
    "    df = pd.DataFrame(data, index=date_range)\n",
    "    df.index.name = \"date\"\n",
    "\n",
    "    # Split data into train and test sets\n",
    "    X = df[[\"feature_1\", \"feature_2\"]]\n",
    "    y = df[[\"target\"]]\n",
    "    X_train, X_test = X.loc[\"2024\"], X.loc[\"2025\"]\n",
    "    y_train, y_test = y.loc[\"2024\"], y.loc[\"2025\"]\n",
    "\n",
    "    \n",
    "\n",
    "    # Debugging information\n",
    "    print(f\"X_train shape: {X_train.shape}\")\n",
    "    print(f\"y_train shape: {y_train.shape}\")\n",
    "    print(f\"X_test shape: {X_test.shape}\")\n",
    "    print(f\"y_test shape: {y_test.shape}\")\n",
    "    print(f\"X_test index: {X_test.index}\")\n",
    "    print(f\"y_test index: {y_test.index}\")\n",
    "\n",
    "    # Simulate feature selection\n",
    "    selected_features = np.array([\"feature_1\", \"feature_2\"])  # Change this to reproduce the issue\n",
    "    print(f\"Selected features: {selected_features}\")\n",
    "\n",
    "    \n",
    "\n",
    "    # Ensure indices are aligned\n",
    "    X_test, y_test = X_test.align(y_test, join=\"inner\", axis=0)\n",
    "\n",
    "    # Ensure X_train and X_test are DataFrames\n",
    "    if not isinstance(X_train, pd.DataFrame):\n",
    "        print(\"Error: X_train is not a DataFrame.\")\n",
    "        return\n",
    "    if not isinstance(X_test, pd.DataFrame):\n",
    "        print(\"Error: X_test is not a DataFrame.\")\n",
    "        return\n",
    "    \n",
    "    # Fit SARIMAX model\n",
    "    forecaster = SARIMAX(order=(1, 1, 0), seasonal_order=None, freq=\"D\")\n",
    "    model = forecaster.fit(X=X_train.loc[:,selected_features], y=y_train)\n",
    "\n",
    "    # Perform predictions\n",
    "    cv = ExpandingWindowSplitter(initial_window=30, step_length=30, fh=[1])\n",
    "    try:\n",
    "        y_pred = model.update_predict(X= X_test.loc[:, selected_features], y=y_test, cv=cv, update_params=False, reset_forecaster=False)\n",
    "        print(f\"Predictions:\\n{y_pred}\")\n",
    "    except Exception as e:\n",
    "        print(f\"Error during prediction: {e}\")\n",
    "\n",
    "if __name__ == \"__main__\":\n",
    "    main()"
   ]
  }
 ],
 "metadata": {
  "kernelspec": {
   "display_name": "DATASCIENCE",
   "language": "python",
   "name": "python3"
  },
  "language_info": {
   "codemirror_mode": {
    "name": "ipython",
    "version": 3
   },
   "file_extension": ".py",
   "mimetype": "text/x-python",
   "name": "python",
   "nbconvert_exporter": "python",
   "pygments_lexer": "ipython3",
   "version": "3.12.8"
  }
 },
 "nbformat": 4,
 "nbformat_minor": 2
}
