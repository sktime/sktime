{
 "cells": [
  {
   "cell_type": "code",
   "execution_count": 1,
   "metadata": {},
   "outputs": [
    {
     "name": "stderr",
     "output_type": "stream",
     "text": [
      "/root/sktime/sktime/utils/validation/_dependencies.py:113: UserWarning: No module named 'dynamicfactor'. 'dynamicfactor' is a soft dependency and not included in the sktime installation. Please run: `pip install dynamicfactor` to install the dynamicfactor package. To install all soft dependencies, run: `pip install sktime[all_extras]`\n",
      "  warnings.warn(msg)\n"
     ]
    }
   ],
   "source": [
    "import warnings\n",
    "\n",
    "from dynamic_factor import DynamicFactor\n",
    "\n",
    "from sktime.forecasting.tests._config import TEST_FHS\n",
    "from sktime.utils.estimator_checks import check_estimator\n",
    "\n",
    "warnings.filterwarnings(\"ignore\")\n",
    "\n",
    "%load_ext autoreload\n",
    "%autoreload 2"
   ]
  },
  {
   "cell_type": "code",
   "execution_count": 2,
   "metadata": {},
   "outputs": [
    {
     "name": "stderr",
     "output_type": "stream",
     "text": [
      "2022-06-24 10:00:26.921543: W tensorflow/stream_executor/platform/default/dso_loader.cc:64] Could not load dynamic library 'libcudart.so.11.0'; dlerror: libcudart.so.11.0: cannot open shared object file: No such file or directory\n",
      "2022-06-24 10:00:26.921654: I tensorflow/stream_executor/cuda/cudart_stub.cc:29] Ignore above cudart dlerror if you do not have a GPU set up on your machine.\n"
     ]
    }
   ],
   "source": [
    "%%capture\n",
    "results = check_estimator(DynamicFactor)"
   ]
  },
  {
   "cell_type": "code",
   "execution_count": 3,
   "metadata": {},
   "outputs": [
    {
     "data": {
      "text/plain": [
       "['fh=1', 'fh=[2 5]', 'fh=-3', 'fh=[-2 -5]', 'fh=0', 'fh=[-3  2]']"
      ]
     },
     "execution_count": 3,
     "metadata": {},
     "output_type": "execute_result"
    }
   ],
   "source": [
    "[f\"fh={fh}\" for fh in TEST_FHS]"
   ]
  },
  {
   "cell_type": "code",
   "execution_count": 4,
   "metadata": {},
   "outputs": [
    {
     "data": {
      "text/plain": [
       "['test_clone[DynamicFactor]',\n",
       " 'test_constructor[DynamicFactor]',\n",
       " 'test_create_test_instance[DynamicFactor]',\n",
       " 'test_create_test_instances_and_names[DynamicFactor]',\n",
       " 'test_estimator_tags[DynamicFactor]',\n",
       " 'test_fit_does_not_overwrite_hyper_params[DynamicFactor-ForecasterFitPredictMultivariateNoX]',\n",
       " 'test_fit_idempotent[DynamicFactor-ForecasterFitPredictMultivariateNoX-predict]',\n",
       " 'test_fit_returns_self[DynamicFactor-ForecasterFitPredictMultivariateNoX]',\n",
       " 'test_fit_updates_state[DynamicFactor-ForecasterFitPredictMultivariateNoX]',\n",
       " 'test_get_params[DynamicFactor]',\n",
       " 'test_has_common_interface[DynamicFactor]',\n",
       " 'test_inheritance[DynamicFactor]',\n",
       " 'test_methods_do_not_change_state[DynamicFactor-ForecasterFitPredictMultivariateNoX-predict]',\n",
       " 'test_methods_have_no_side_effects[DynamicFactor-ForecasterFitPredictMultivariateNoX-predict]',\n",
       " 'test_multiprocessing_idempotent[DynamicFactor-ForecasterFitPredictMultivariateNoX-predict]',\n",
       " 'test_no_between_test_case_side_effects[DynamicFactor-ForecasterFitPredictMultivariateNoX-0]',\n",
       " 'test_no_between_test_case_side_effects[DynamicFactor-ForecasterFitPredictMultivariateNoX-1]',\n",
       " 'test_no_cross_test_side_effects_part1[DynamicFactor]',\n",
       " 'test_no_cross_test_side_effects_part2[DynamicFactor]',\n",
       " 'test_persistence_via_pickle[DynamicFactor-ForecasterFitPredictMultivariateNoX-predict]',\n",
       " 'test_raises_not_fitted_error[DynamicFactor-ForecasterFitPredictMultivariateNoX-predict]',\n",
       " 'test_repr[DynamicFactor]',\n",
       " 'test_required_params[DynamicFactor]',\n",
       " 'test_set_params[DynamicFactor]',\n",
       " 'test_valid_estimator_class_tags[DynamicFactor]',\n",
       " 'test_valid_estimator_tags[DynamicFactor]',\n",
       " 'test_X_invalid_type_raises_error[DynamicFactor-0]',\n",
       " 'test_X_invalid_type_raises_error[DynamicFactor-1]',\n",
       " 'test__y_and_cutoff[DynamicFactor]',\n",
       " 'test__y_when_refitting[DynamicFactor]',\n",
       " 'test_different_fh_in_fit_and_predict_error_handling[DynamicFactor]',\n",
       " 'test_fh_attribute[DynamicFactor]',\n",
       " 'test_fh_not_passed_error_handling[DynamicFactor]',\n",
       " 'test_get_fitted_params[DynamicFactor-ForecasterFitPredictMultivariateNoX]',\n",
       " 'test_pred_int_tag[DynamicFactor]',\n",
       " 'test_predict_interval[DynamicFactor-fh=1-alpha=0.05]',\n",
       " 'test_predict_interval[DynamicFactor-fh=1-alpha=0.1]',\n",
       " 'test_predict_interval[DynamicFactor-fh=[2 5]-alpha=0.05]',\n",
       " 'test_predict_interval[DynamicFactor-fh=[2 5]-alpha=0.1]',\n",
       " 'test_predict_quantiles[DynamicFactor-fh=1-alpha=0.05]',\n",
       " 'test_predict_quantiles[DynamicFactor-fh=1-alpha=0.1]',\n",
       " 'test_predict_quantiles[DynamicFactor-fh=[2 5]-alpha=0.05]',\n",
       " 'test_predict_quantiles[DynamicFactor-fh=[2 5]-alpha=0.1]',\n",
       " 'test_predict_residuals[DynamicFactor-fh=1-range-int-True]',\n",
       " 'test_predict_residuals[DynamicFactor-fh=1-range-int-False]',\n",
       " 'test_predict_residuals[DynamicFactor-fh=1-period-int-True]',\n",
       " 'test_predict_residuals[DynamicFactor-fh=1-period-period-False]',\n",
       " 'test_predict_residuals[DynamicFactor-fh=1-datetime-int-True]',\n",
       " 'test_predict_residuals[DynamicFactor-fh=1-datetime-datetime-False]',\n",
       " 'test_predict_residuals[DynamicFactor-fh=1-datetime-timedelta-True]',\n",
       " 'test_predict_residuals[DynamicFactor-fh=[2 5]-range-int-True]',\n",
       " 'test_predict_residuals[DynamicFactor-fh=[2 5]-range-int-False]',\n",
       " 'test_predict_residuals[DynamicFactor-fh=[2 5]-period-int-True]',\n",
       " 'test_predict_residuals[DynamicFactor-fh=[2 5]-period-period-False]',\n",
       " 'test_predict_residuals[DynamicFactor-fh=[2 5]-datetime-int-True]',\n",
       " 'test_predict_residuals[DynamicFactor-fh=[2 5]-datetime-datetime-False]',\n",
       " 'test_predict_residuals[DynamicFactor-fh=[2 5]-datetime-timedelta-True]',\n",
       " 'test_predict_residuals[DynamicFactor-fh=-3-int-int-True]',\n",
       " 'test_predict_residuals[DynamicFactor-fh=-3-int-int-False]',\n",
       " 'test_predict_residuals[DynamicFactor-fh=-3-range-int-True]',\n",
       " 'test_predict_residuals[DynamicFactor-fh=-3-range-int-False]',\n",
       " 'test_predict_residuals[DynamicFactor-fh=-3-period-int-True]',\n",
       " 'test_predict_residuals[DynamicFactor-fh=-3-period-period-False]',\n",
       " 'test_predict_residuals[DynamicFactor-fh=-3-datetime-int-True]',\n",
       " 'test_predict_residuals[DynamicFactor-fh=-3-datetime-datetime-False]',\n",
       " 'test_predict_residuals[DynamicFactor-fh=-3-datetime-timedelta-True]',\n",
       " 'test_predict_residuals[DynamicFactor-fh=[-2 -5]-int-int-True]',\n",
       " 'test_predict_residuals[DynamicFactor-fh=[-2 -5]-int-int-False]',\n",
       " 'test_predict_residuals[DynamicFactor-fh=[-2 -5]-range-int-True]',\n",
       " 'test_predict_residuals[DynamicFactor-fh=[-2 -5]-range-int-False]',\n",
       " 'test_predict_residuals[DynamicFactor-fh=[-2 -5]-period-int-True]',\n",
       " 'test_predict_residuals[DynamicFactor-fh=[-2 -5]-period-period-False]',\n",
       " 'test_predict_residuals[DynamicFactor-fh=[-2 -5]-datetime-int-True]',\n",
       " 'test_predict_residuals[DynamicFactor-fh=[-2 -5]-datetime-datetime-False]',\n",
       " 'test_predict_residuals[DynamicFactor-fh=[-2 -5]-datetime-timedelta-True]',\n",
       " 'test_predict_residuals[DynamicFactor-fh=0-int-int-True]',\n",
       " 'test_predict_residuals[DynamicFactor-fh=0-int-int-False]',\n",
       " 'test_predict_residuals[DynamicFactor-fh=0-range-int-True]',\n",
       " 'test_predict_residuals[DynamicFactor-fh=0-range-int-False]',\n",
       " 'test_predict_residuals[DynamicFactor-fh=0-period-int-True]',\n",
       " 'test_predict_residuals[DynamicFactor-fh=0-period-period-False]',\n",
       " 'test_predict_residuals[DynamicFactor-fh=0-datetime-int-True]',\n",
       " 'test_predict_residuals[DynamicFactor-fh=0-datetime-datetime-False]',\n",
       " 'test_predict_residuals[DynamicFactor-fh=0-datetime-timedelta-True]',\n",
       " 'test_predict_residuals[DynamicFactor-fh=[-3  2]-range-int-True]',\n",
       " 'test_predict_residuals[DynamicFactor-fh=[-3  2]-range-int-False]',\n",
       " 'test_predict_residuals[DynamicFactor-fh=[-3  2]-period-int-True]',\n",
       " 'test_predict_residuals[DynamicFactor-fh=[-3  2]-period-period-False]',\n",
       " 'test_predict_residuals[DynamicFactor-fh=[-3  2]-datetime-int-True]',\n",
       " 'test_predict_residuals[DynamicFactor-fh=[-3  2]-datetime-datetime-False]',\n",
       " 'test_predict_residuals[DynamicFactor-fh=[-3  2]-datetime-timedelta-True]',\n",
       " 'test_predict_time_index[DynamicFactor-fh=1-range-int-True]',\n",
       " 'test_predict_time_index[DynamicFactor-fh=1-range-int-False]',\n",
       " 'test_predict_time_index[DynamicFactor-fh=1-period-int-True]',\n",
       " 'test_predict_time_index[DynamicFactor-fh=1-period-period-False]',\n",
       " 'test_predict_time_index[DynamicFactor-fh=1-datetime-int-True]',\n",
       " 'test_predict_time_index[DynamicFactor-fh=1-datetime-datetime-False]',\n",
       " 'test_predict_time_index[DynamicFactor-fh=1-datetime-timedelta-True]',\n",
       " 'test_predict_time_index[DynamicFactor-fh=[2 5]-range-int-True]',\n",
       " 'test_predict_time_index[DynamicFactor-fh=[2 5]-range-int-False]',\n",
       " 'test_predict_time_index[DynamicFactor-fh=[2 5]-period-int-True]',\n",
       " 'test_predict_time_index[DynamicFactor-fh=[2 5]-period-period-False]',\n",
       " 'test_predict_time_index[DynamicFactor-fh=[2 5]-datetime-int-True]',\n",
       " 'test_predict_time_index[DynamicFactor-fh=[2 5]-datetime-datetime-False]',\n",
       " 'test_predict_time_index[DynamicFactor-fh=[2 5]-datetime-timedelta-True]',\n",
       " 'test_predict_time_index[DynamicFactor-fh=-3-int-int-True]',\n",
       " 'test_predict_time_index[DynamicFactor-fh=-3-int-int-False]',\n",
       " 'test_predict_time_index[DynamicFactor-fh=-3-range-int-True]',\n",
       " 'test_predict_time_index[DynamicFactor-fh=-3-range-int-False]',\n",
       " 'test_predict_time_index[DynamicFactor-fh=-3-period-int-True]',\n",
       " 'test_predict_time_index[DynamicFactor-fh=-3-period-period-False]',\n",
       " 'test_predict_time_index[DynamicFactor-fh=-3-datetime-int-True]',\n",
       " 'test_predict_time_index[DynamicFactor-fh=-3-datetime-datetime-False]',\n",
       " 'test_predict_time_index[DynamicFactor-fh=-3-datetime-timedelta-True]',\n",
       " 'test_predict_time_index[DynamicFactor-fh=[-2 -5]-int-int-True]',\n",
       " 'test_predict_time_index[DynamicFactor-fh=[-2 -5]-int-int-False]',\n",
       " 'test_predict_time_index[DynamicFactor-fh=[-2 -5]-range-int-True]',\n",
       " 'test_predict_time_index[DynamicFactor-fh=[-2 -5]-range-int-False]',\n",
       " 'test_predict_time_index[DynamicFactor-fh=[-2 -5]-period-int-True]',\n",
       " 'test_predict_time_index[DynamicFactor-fh=[-2 -5]-period-period-False]',\n",
       " 'test_predict_time_index[DynamicFactor-fh=[-2 -5]-datetime-int-True]',\n",
       " 'test_predict_time_index[DynamicFactor-fh=[-2 -5]-datetime-datetime-False]',\n",
       " 'test_predict_time_index[DynamicFactor-fh=[-2 -5]-datetime-timedelta-True]',\n",
       " 'test_predict_time_index[DynamicFactor-fh=0-int-int-True]',\n",
       " 'test_predict_time_index[DynamicFactor-fh=0-int-int-False]',\n",
       " 'test_predict_time_index[DynamicFactor-fh=0-range-int-True]',\n",
       " 'test_predict_time_index[DynamicFactor-fh=0-range-int-False]',\n",
       " 'test_predict_time_index[DynamicFactor-fh=0-period-int-True]',\n",
       " 'test_predict_time_index[DynamicFactor-fh=0-period-period-False]',\n",
       " 'test_predict_time_index[DynamicFactor-fh=0-datetime-int-True]',\n",
       " 'test_predict_time_index[DynamicFactor-fh=0-datetime-datetime-False]',\n",
       " 'test_predict_time_index[DynamicFactor-fh=0-datetime-timedelta-True]',\n",
       " 'test_predict_time_index[DynamicFactor-fh=[-3  2]-range-int-True]',\n",
       " 'test_predict_time_index[DynamicFactor-fh=[-3  2]-range-int-False]',\n",
       " 'test_predict_time_index[DynamicFactor-fh=[-3  2]-period-int-True]',\n",
       " 'test_predict_time_index[DynamicFactor-fh=[-3  2]-period-period-False]',\n",
       " 'test_predict_time_index[DynamicFactor-fh=[-3  2]-datetime-int-True]',\n",
       " 'test_predict_time_index[DynamicFactor-fh=[-3  2]-datetime-datetime-False]',\n",
       " 'test_predict_time_index[DynamicFactor-fh=[-3  2]-datetime-timedelta-True]',\n",
       " 'test_predict_time_index_in_sample_full[DynamicFactor-int-int-True]',\n",
       " 'test_predict_time_index_in_sample_full[DynamicFactor-int-int-False]',\n",
       " 'test_predict_time_index_in_sample_full[DynamicFactor-range-int-True]',\n",
       " 'test_predict_time_index_in_sample_full[DynamicFactor-range-int-False]',\n",
       " 'test_predict_time_index_in_sample_full[DynamicFactor-period-int-True]',\n",
       " 'test_predict_time_index_in_sample_full[DynamicFactor-period-period-False]',\n",
       " 'test_predict_time_index_in_sample_full[DynamicFactor-datetime-int-True]',\n",
       " 'test_predict_time_index_in_sample_full[DynamicFactor-datetime-datetime-False]',\n",
       " 'test_predict_time_index_in_sample_full[DynamicFactor-datetime-timedelta-True]',\n",
       " 'test_predict_time_index_with_X[DynamicFactor-fh=1-period-int-True]',\n",
       " 'test_predict_time_index_with_X[DynamicFactor-fh=1-period-period-False]',\n",
       " 'test_predict_time_index_with_X[DynamicFactor-fh=1-datetime-int-True]',\n",
       " 'test_predict_time_index_with_X[DynamicFactor-fh=1-datetime-datetime-False]',\n",
       " 'test_predict_time_index_with_X[DynamicFactor-fh=1-datetime-timedelta-True]',\n",
       " 'test_predict_time_index_with_X[DynamicFactor-fh=[2 5]-period-int-True]',\n",
       " 'test_predict_time_index_with_X[DynamicFactor-fh=[2 5]-period-period-False]',\n",
       " 'test_predict_time_index_with_X[DynamicFactor-fh=[2 5]-datetime-int-True]',\n",
       " 'test_predict_time_index_with_X[DynamicFactor-fh=[2 5]-datetime-datetime-False]',\n",
       " 'test_predict_time_index_with_X[DynamicFactor-fh=[2 5]-datetime-timedelta-True]',\n",
       " 'test_raises_not_fitted_error[DynamicFactor]',\n",
       " 'test_score[DynamicFactor-fh=1]',\n",
       " 'test_score[DynamicFactor-fh=[2 5]]',\n",
       " 'test_update_predict_predicted_index[DynamicFactor-update_params=True-0-fh=1]',\n",
       " 'test_update_predict_predicted_index[DynamicFactor-update_params=True-0-fh=[2 5]]',\n",
       " 'test_update_predict_predicted_index[DynamicFactor-update_params=True-1-fh=1]',\n",
       " 'test_update_predict_predicted_index[DynamicFactor-update_params=True-1-fh=[2 5]]',\n",
       " 'test_update_predict_predicted_index[DynamicFactor-update_params=False-step=1-0-fh=1]',\n",
       " 'test_update_predict_predicted_index[DynamicFactor-update_params=False-step=1-0-fh=[2 5]]',\n",
       " 'test_update_predict_predicted_index[DynamicFactor-update_params=False-step=1-1-fh=1]',\n",
       " 'test_update_predict_predicted_index[DynamicFactor-update_params=False-step=1-1-fh=[2 5]]',\n",
       " 'test_update_predict_predicted_index[DynamicFactor-update_params=False-step=5-0-fh=1]',\n",
       " 'test_update_predict_predicted_index[DynamicFactor-update_params=False-step=5-0-fh=[2 5]]',\n",
       " 'test_update_predict_predicted_index[DynamicFactor-update_params=False-step=5-1-fh=1]',\n",
       " 'test_update_predict_predicted_index[DynamicFactor-update_params=False-step=5-1-fh=[2 5]]',\n",
       " 'test_update_predict_single[DynamicFactor-update_params=True-fh=1]',\n",
       " 'test_update_predict_single[DynamicFactor-update_params=True-fh=[2 5]]',\n",
       " 'test_update_predict_single[DynamicFactor-update_params=False-fh=1]',\n",
       " 'test_update_predict_single[DynamicFactor-update_params=False-fh=[2 5]]',\n",
       " 'test_y_invalid_type_raises_error[DynamicFactor-0]',\n",
       " 'test_y_invalid_type_raises_error[DynamicFactor-1]',\n",
       " 'test_y_multivariate_raises_error[DynamicFactor]']"
      ]
     },
     "execution_count": 4,
     "metadata": {},
     "output_type": "execute_result"
    }
   ],
   "source": [
    "correct_fixtures = [key for key, value in results.items() if value == \"PASSED\"]\n",
    "correct_fixtures"
   ]
  },
  {
   "cell_type": "code",
   "execution_count": 5,
   "metadata": {},
   "outputs": [
    {
     "data": {
      "text/plain": [
       "['test_predict_residuals[DynamicFactor-fh=1-int-int-True]',\n",
       " 'test_predict_residuals[DynamicFactor-fh=1-int-int-False]',\n",
       " 'test_predict_residuals[DynamicFactor-fh=[2 5]-int-int-True]',\n",
       " 'test_predict_residuals[DynamicFactor-fh=[2 5]-int-int-False]',\n",
       " 'test_predict_residuals[DynamicFactor-fh=[-3  2]-int-int-True]',\n",
       " 'test_predict_residuals[DynamicFactor-fh=[-3  2]-int-int-False]',\n",
       " 'test_predict_time_index[DynamicFactor-fh=1-int-int-True]',\n",
       " 'test_predict_time_index[DynamicFactor-fh=1-int-int-False]',\n",
       " 'test_predict_time_index[DynamicFactor-fh=[2 5]-int-int-True]',\n",
       " 'test_predict_time_index[DynamicFactor-fh=[2 5]-int-int-False]',\n",
       " 'test_predict_time_index[DynamicFactor-fh=[-3  2]-int-int-True]',\n",
       " 'test_predict_time_index[DynamicFactor-fh=[-3  2]-int-int-False]',\n",
       " 'test_predict_time_index_with_X[DynamicFactor-fh=1-int-int-True]',\n",
       " 'test_predict_time_index_with_X[DynamicFactor-fh=1-int-int-False]',\n",
       " 'test_predict_time_index_with_X[DynamicFactor-fh=1-range-int-True]',\n",
       " 'test_predict_time_index_with_X[DynamicFactor-fh=1-range-int-False]',\n",
       " 'test_predict_time_index_with_X[DynamicFactor-fh=[2 5]-int-int-True]',\n",
       " 'test_predict_time_index_with_X[DynamicFactor-fh=[2 5]-int-int-False]',\n",
       " 'test_predict_time_index_with_X[DynamicFactor-fh=[2 5]-range-int-True]',\n",
       " 'test_predict_time_index_with_X[DynamicFactor-fh=[2 5]-range-int-False]']"
      ]
     },
     "execution_count": 5,
     "metadata": {},
     "output_type": "execute_result"
    }
   ],
   "source": [
    "wrong_fixtures = [key for key, value in results.items() if value != \"PASSED\"]\n",
    "wrong_fixtures"
   ]
  },
  {
   "cell_type": "code",
   "execution_count": 6,
   "metadata": {},
   "outputs": [
    {
     "name": "stdout",
     "output_type": "stream",
     "text": [
      "Key: test_predict_residuals[DynamicFactor-fh=1-int-int-True] \n",
      " Test result: \"None of [Int64Index([53], dtype='int64')] are in the [index]\"\n",
      "Key: test_predict_residuals[DynamicFactor-fh=1-int-int-False] \n",
      " Test result: \"None of [Int64Index([53], dtype='int64')] are in the [index]\"\n",
      "Key: test_predict_residuals[DynamicFactor-fh=[2 5]-int-int-True] \n",
      " Test result: '[57] not in index'\n",
      "Key: test_predict_residuals[DynamicFactor-fh=[2 5]-int-int-False] \n",
      " Test result: '[57] not in index'\n",
      "Key: test_predict_residuals[DynamicFactor-fh=[-3  2]-int-int-True] \n",
      " Test result: '[54] not in index'\n",
      "Key: test_predict_residuals[DynamicFactor-fh=[-3  2]-int-int-False] \n",
      " Test result: '[54] not in index'\n",
      "Key: test_predict_time_index[DynamicFactor-fh=1-int-int-True] \n",
      " Test result: \"None of [Int64Index([53], dtype='int64')] are in the [index]\"\n",
      "Key: test_predict_time_index[DynamicFactor-fh=1-int-int-False] \n",
      " Test result: \"None of [Int64Index([53], dtype='int64')] are in the [index]\"\n",
      "Key: test_predict_time_index[DynamicFactor-fh=[2 5]-int-int-True] \n",
      " Test result: '[57] not in index'\n",
      "Key: test_predict_time_index[DynamicFactor-fh=[2 5]-int-int-False] \n",
      " Test result: '[57] not in index'\n",
      "Key: test_predict_time_index[DynamicFactor-fh=[-3  2]-int-int-True] \n",
      " Test result: '[54] not in index'\n",
      "Key: test_predict_time_index[DynamicFactor-fh=[-3  2]-int-int-False] \n",
      " Test result: '[54] not in index'\n",
      "Key: test_predict_time_index_with_X[DynamicFactor-fh=1-int-int-True] \n",
      " Test result: \"None of [Int64Index([52], dtype='int64')] are in the [index]\"\n",
      "Key: test_predict_time_index_with_X[DynamicFactor-fh=1-int-int-False] \n",
      " Test result: \"None of [Int64Index([29], dtype='int64')] are in the [index]\"\n",
      "Key: test_predict_time_index_with_X[DynamicFactor-fh=1-range-int-True] \n",
      " Test result: \"None of [Int64Index([52], dtype='int64')] are in the [index]\"\n",
      "Key: test_predict_time_index_with_X[DynamicFactor-fh=1-range-int-False] \n",
      " Test result: \"None of [Int64Index([29], dtype='int64')] are in the [index]\"\n",
      "Key: test_predict_time_index_with_X[DynamicFactor-fh=[2 5]-int-int-True] \n",
      " Test result: '[52] not in index'\n",
      "Key: test_predict_time_index_with_X[DynamicFactor-fh=[2 5]-int-int-False] \n",
      " Test result: '[33] not in index'\n",
      "Key: test_predict_time_index_with_X[DynamicFactor-fh=[2 5]-range-int-True] \n",
      " Test result: '[52] not in index'\n",
      "Key: test_predict_time_index_with_X[DynamicFactor-fh=[2 5]-range-int-False] \n",
      " Test result: '[33] not in index'\n"
     ]
    }
   ],
   "source": [
    "for key in wrong_fixtures:\n",
    "    print(f\"Key: {key} \\n Test result: {results[key]}\")"
   ]
  },
  {
   "cell_type": "markdown",
   "metadata": {},
   "source": [
    "It seems like we have the same error message throughout. The index generated by `_predict` is different from the test function. However, this does not happen for all the values of `fh`."
   ]
  },
  {
   "cell_type": "code",
   "execution_count": 7,
   "metadata": {},
   "outputs": [
    {
     "name": "stdout",
     "output_type": "stream",
     "text": [
      "=== Predict is stating ===\n",
      "fh is ForecastingHorizon([-3], dtype='int64', is_relative=True)\n",
      "Start is 46\n",
      "End is 46\n",
      "y_pred is \n",
      "            0         1\n",
      "49  3.910564  3.643129\n",
      "=== Predict is stating ===\n",
      "fh is ForecastingHorizon([-3], dtype='int64', is_relative=True)\n",
      "Start is 46\n",
      "End is 46\n",
      "y_pred is \n",
      "            0         1\n",
      "49  3.910564  3.643129\n",
      "=== _assert_correct_pred_time_index is starting ===\n",
      "fh is ForecastingHorizon([-3], dtype='int64', is_relative=True)\n",
      "Expected:Int64Index([49], dtype='int64')\n",
      "Actual:Int64Index([49], dtype='int64')\n",
      "All tests PASSED!\n"
     ]
    },
    {
     "data": {
      "text/plain": [
       "{'test_predict_residuals[DynamicFactor-fh=-3-int-int-True]': 'PASSED'}"
      ]
     },
     "execution_count": 7,
     "metadata": {},
     "output_type": "execute_result"
    }
   ],
   "source": [
    "check_estimator(\n",
    "    DynamicFactor,\n",
    "    fixtures_to_run=\"test_predict_residuals[DynamicFactor-fh=-3-int-int-True]\",\n",
    "    return_exceptions=False,\n",
    ")"
   ]
  },
  {
   "cell_type": "markdown",
   "metadata": {},
   "source": [
    "I think that the last point of the original series is `49`, such that `fh = ForecastingHorizon([-3], dtype='int64', is_relative=True)` takes the input value to `46`, as expected."
   ]
  },
  {
   "cell_type": "code",
   "execution_count": 8,
   "metadata": {},
   "outputs": [
    {
     "name": "stdout",
     "output_type": "stream",
     "text": [
      "=== Predict is stating ===\n",
      "fh is ForecastingHorizon([1], dtype='int64', is_relative=True)\n",
      "Start is 50\n",
      "End is 50\n",
      "y_pred is \n",
      "            0         1\n",
      "50  3.223651  2.955844\n",
      "FAILED: test_predict_time_index[DynamicFactor-fh=1-int-int-True]\n"
     ]
    },
    {
     "data": {
      "text/plain": [
       "{'test_predict_time_index[DynamicFactor-fh=1-int-int-True]': KeyError(\"None of [Int64Index([53], dtype='int64')] are in the [index]\")}"
      ]
     },
     "execution_count": 8,
     "metadata": {},
     "output_type": "execute_result"
    }
   ],
   "source": [
    "check_estimator(\n",
    "    DynamicFactor,\n",
    "    fixtures_to_run=\"test_predict_time_index[DynamicFactor-fh=1-int-int-True]\",\n",
    ")"
   ]
  },
  {
   "cell_type": "markdown",
   "metadata": {},
   "source": [
    "If `49` is the last point of the original series, then `fh = ForecastingHorizon([1], dtype='int64', is_relative=True)` should take the input value to `50`. It seems like this happen in `predict` but not in the test's value (which is `53`)."
   ]
  },
  {
   "cell_type": "code",
   "execution_count": 9,
   "metadata": {},
   "outputs": [
    {
     "name": "stdout",
     "output_type": "stream",
     "text": [
      "=== Predict is stating ===\n",
      "fh is ForecastingHorizon([2, 5], dtype='int64', is_relative=True)\n",
      "Start is 51\n",
      "End is 54\n",
      "y_pred is \n",
      "            0         1\n",
      "51  3.246907  3.908852\n",
      "52  3.246522  3.908389\n",
      "53  3.246138  3.907926\n",
      "54  3.245753  3.907463\n",
      "FAILED: test_predict_residuals[DynamicFactor-fh=[2 5]-int-int-True]\n"
     ]
    },
    {
     "data": {
      "text/plain": [
       "{'test_predict_residuals[DynamicFactor-fh=[2 5]-int-int-True]': KeyError('[57] not in index')}"
      ]
     },
     "execution_count": 9,
     "metadata": {},
     "output_type": "execute_result"
    }
   ],
   "source": [
    "check_estimator(\n",
    "    DynamicFactor,\n",
    "    fixtures_to_run=\"test_predict_residuals[DynamicFactor-fh=[2 5]-int-int-True]\",\n",
    ")"
   ]
  },
  {
   "cell_type": "markdown",
   "metadata": {},
   "source": [
    "The problem is similar to above. If `49` is the last point of the original series, then `fh = ForecastingHorizon([2,5], dtype='int64', is_relative=True)` should take the input value to `[51,52,53,54]`. Therefore, `57``should not be in the index."
   ]
  },
  {
   "cell_type": "markdown",
   "metadata": {},
   "source": [
    "**Check on where the error comes from:**"
   ]
  },
  {
   "cell_type": "code",
   "execution_count": 10,
   "metadata": {},
   "outputs": [
    {
     "name": "stdout",
     "output_type": "stream",
     "text": [
      "=== Predict is stating ===\n",
      "fh is ForecastingHorizon([1], dtype='int64', is_relative=True)\n",
      "Start is 50\n",
      "End is 50\n",
      "y_pred is \n",
      "            0        1\n",
      "50  2.606859  3.49767\n"
     ]
    },
    {
     "ename": "KeyError",
     "evalue": "\"None of [Int64Index([53], dtype='int64')] are in the [index]\"",
     "output_type": "error",
     "traceback": [
      "\u001b[0;31m---------------------------------------------------------------------------\u001b[0m",
      "\u001b[0;31mKeyError\u001b[0m                                  Traceback (most recent call last)",
      "\u001b[1;32m/root/sktime/sktime/forecasting/testfile.ipynb Cell 15'\u001b[0m in \u001b[0;36m<cell line: 1>\u001b[0;34m()\u001b[0m\n\u001b[0;32m----> <a href='vscode-notebook-cell://wsl%2Bubuntu/root/sktime/sktime/forecasting/testfile.ipynb#ch0000014vscode-remote?line=0'>1</a>\u001b[0m check_estimator(\n\u001b[1;32m      <a href='vscode-notebook-cell://wsl%2Bubuntu/root/sktime/sktime/forecasting/testfile.ipynb#ch0000014vscode-remote?line=1'>2</a>\u001b[0m     DynamicFactor,\n\u001b[1;32m      <a href='vscode-notebook-cell://wsl%2Bubuntu/root/sktime/sktime/forecasting/testfile.ipynb#ch0000014vscode-remote?line=2'>3</a>\u001b[0m     fixtures_to_run\u001b[39m=\u001b[39;49m\u001b[39m\"\u001b[39;49m\u001b[39mtest_predict_time_index[DynamicFactor-fh=1-int-int-True]\u001b[39;49m\u001b[39m\"\u001b[39;49m,\n\u001b[1;32m      <a href='vscode-notebook-cell://wsl%2Bubuntu/root/sktime/sktime/forecasting/testfile.ipynb#ch0000014vscode-remote?line=3'>4</a>\u001b[0m     return_exceptions\u001b[39m=\u001b[39;49m\u001b[39mFalse\u001b[39;49;00m,\n\u001b[1;32m      <a href='vscode-notebook-cell://wsl%2Bubuntu/root/sktime/sktime/forecasting/testfile.ipynb#ch0000014vscode-remote?line=4'>5</a>\u001b[0m )\n",
      "File \u001b[0;32m~/sktime/sktime/utils/estimator_checks.py:102\u001b[0m, in \u001b[0;36mcheck_estimator\u001b[0;34m(estimator, return_exceptions, tests_to_run, fixtures_to_run, verbose, tests_to_exclude, fixtures_to_exclude)\u001b[0m\n\u001b[1;32m     99\u001b[0m     scitype_of_estimator \u001b[39m=\u001b[39m \u001b[39m\"\u001b[39m\u001b[39m\"\u001b[39m\n\u001b[1;32m    101\u001b[0m \u001b[39mif\u001b[39;00m scitype_of_estimator \u001b[39min\u001b[39;00m testclass_dict\u001b[39m.\u001b[39mkeys():\n\u001b[0;32m--> 102\u001b[0m     results_scitype \u001b[39m=\u001b[39m testclass_dict[scitype_of_estimator]()\u001b[39m.\u001b[39;49mrun_tests(\n\u001b[1;32m    103\u001b[0m         estimator\u001b[39m=\u001b[39;49mestimator,\n\u001b[1;32m    104\u001b[0m         return_exceptions\u001b[39m=\u001b[39;49mreturn_exceptions,\n\u001b[1;32m    105\u001b[0m         tests_to_run\u001b[39m=\u001b[39;49mtests_to_run,\n\u001b[1;32m    106\u001b[0m         fixtures_to_run\u001b[39m=\u001b[39;49mfixtures_to_run,\n\u001b[1;32m    107\u001b[0m     )\n\u001b[1;32m    108\u001b[0m     results\u001b[39m.\u001b[39mupdate(results_scitype)\n\u001b[1;32m    110\u001b[0m failed_tests \u001b[39m=\u001b[39m [key \u001b[39mfor\u001b[39;00m key \u001b[39min\u001b[39;00m results\u001b[39m.\u001b[39mkeys() \u001b[39mif\u001b[39;00m results[key] \u001b[39m!=\u001b[39m \u001b[39m\"\u001b[39m\u001b[39mPASSED\u001b[39m\u001b[39m\"\u001b[39m]\n",
      "File \u001b[0;32m~/sktime/sktime/tests/test_all_estimators.py:528\u001b[0m, in \u001b[0;36mQuickTester.run_tests\u001b[0;34m(self, estimator, return_exceptions, tests_to_run, fixtures_to_run, tests_to_exclude, fixtures_to_exclude)\u001b[0m\n\u001b[1;32m    526\u001b[0m                 results[key] \u001b[39m=\u001b[39m err\n\u001b[1;32m    527\u001b[0m         \u001b[39melse\u001b[39;00m:\n\u001b[0;32m--> 528\u001b[0m             test_fun(\u001b[39m*\u001b[39;49m\u001b[39m*\u001b[39;49mdeepcopy(args))\n\u001b[1;32m    529\u001b[0m             results[key] \u001b[39m=\u001b[39m \u001b[39m\"\u001b[39m\u001b[39mPASSED\u001b[39m\u001b[39m\"\u001b[39m\n\u001b[1;32m    531\u001b[0m \u001b[39mreturn\u001b[39;00m results\n",
      "File \u001b[0;32m~/sktime/sktime/forecasting/tests/test_all_forecasters.py:227\u001b[0m, in \u001b[0;36mTestAllForecasters.test_predict_time_index\u001b[0;34m(self, estimator_instance, n_columns, index_fh_comb, fh_int)\u001b[0m\n\u001b[1;32m    225\u001b[0m \u001b[39mtry\u001b[39;00m:\n\u001b[1;32m    226\u001b[0m     estimator_instance\u001b[39m.\u001b[39mfit(y_train, fh\u001b[39m=\u001b[39mfh)\n\u001b[0;32m--> 227\u001b[0m     y_pred \u001b[39m=\u001b[39m estimator_instance\u001b[39m.\u001b[39;49mpredict()\n\u001b[1;32m    228\u001b[0m     _assert_correct_pred_time_index(y_pred\u001b[39m.\u001b[39mindex, y_train\u001b[39m.\u001b[39mindex[\u001b[39m-\u001b[39m\u001b[39m1\u001b[39m], fh\u001b[39m=\u001b[39mfh_int)\n\u001b[1;32m    229\u001b[0m \u001b[39mexcept\u001b[39;00m \u001b[39mNotImplementedError\u001b[39;00m:\n",
      "File \u001b[0;32m~/sktime/sktime/forecasting/base/_base.py:318\u001b[0m, in \u001b[0;36mBaseForecaster.predict\u001b[0;34m(self, fh, X)\u001b[0m\n\u001b[1;32m    316\u001b[0m \u001b[39m# we call the ordinary _predict if no looping/vectorization needed\u001b[39;00m\n\u001b[1;32m    317\u001b[0m \u001b[39mif\u001b[39;00m \u001b[39mnot\u001b[39;00m \u001b[39mself\u001b[39m\u001b[39m.\u001b[39m_is_vectorized:\n\u001b[0;32m--> 318\u001b[0m     y_pred \u001b[39m=\u001b[39m \u001b[39mself\u001b[39;49m\u001b[39m.\u001b[39;49m_predict(fh\u001b[39m=\u001b[39;49mfh, X\u001b[39m=\u001b[39;49mX_inner)\n\u001b[1;32m    319\u001b[0m \u001b[39melse\u001b[39;00m:\n\u001b[1;32m    320\u001b[0m     \u001b[39m# otherwise we call the vectorized version of predict\u001b[39;00m\n\u001b[1;32m    321\u001b[0m     y_pred \u001b[39m=\u001b[39m \u001b[39mself\u001b[39m\u001b[39m.\u001b[39m_vectorize(\u001b[39m\"\u001b[39m\u001b[39mpredict\u001b[39m\u001b[39m\"\u001b[39m, X\u001b[39m=\u001b[39mX_inner, fh\u001b[39m=\u001b[39mfh)\n",
      "File \u001b[0;32m~/sktime/sktime/forecasting/dynamic_factor.py:216\u001b[0m, in \u001b[0;36mDynamicFactor._predict\u001b[0;34m(self, fh, X)\u001b[0m\n\u001b[1;32m    213\u001b[0m \u001b[39mprint\u001b[39m(\u001b[39mf\u001b[39m\u001b[39m\"\u001b[39m\u001b[39my_pred is \u001b[39m\u001b[39m\\n\u001b[39;00m\u001b[39m \u001b[39m\u001b[39m{\u001b[39;00my_pred\u001b[39m}\u001b[39;00m\u001b[39m\"\u001b[39m)\n\u001b[1;32m    214\u001b[0m \u001b[39m# statsmodels forecasts all periods from start to end of forecasting\u001b[39;00m\n\u001b[1;32m    215\u001b[0m \u001b[39m# horizon, but only return given time points in forecasting horizon\u001b[39;00m\n\u001b[0;32m--> 216\u001b[0m \u001b[39mreturn\u001b[39;00m y_pred\u001b[39m.\u001b[39;49mloc[fh\u001b[39m.\u001b[39;49mto_absolute(\u001b[39mself\u001b[39;49m\u001b[39m.\u001b[39;49mcutoff)\u001b[39m.\u001b[39;49mto_pandas()]\n",
      "File \u001b[0;32m~/anaconda3/envs/sktime-dev/lib/python3.8/site-packages/pandas/core/indexing.py:967\u001b[0m, in \u001b[0;36m_LocationIndexer.__getitem__\u001b[0;34m(self, key)\u001b[0m\n\u001b[1;32m    964\u001b[0m axis \u001b[39m=\u001b[39m \u001b[39mself\u001b[39m\u001b[39m.\u001b[39maxis \u001b[39mor\u001b[39;00m \u001b[39m0\u001b[39m\n\u001b[1;32m    966\u001b[0m maybe_callable \u001b[39m=\u001b[39m com\u001b[39m.\u001b[39mapply_if_callable(key, \u001b[39mself\u001b[39m\u001b[39m.\u001b[39mobj)\n\u001b[0;32m--> 967\u001b[0m \u001b[39mreturn\u001b[39;00m \u001b[39mself\u001b[39;49m\u001b[39m.\u001b[39;49m_getitem_axis(maybe_callable, axis\u001b[39m=\u001b[39;49maxis)\n",
      "File \u001b[0;32m~/anaconda3/envs/sktime-dev/lib/python3.8/site-packages/pandas/core/indexing.py:1191\u001b[0m, in \u001b[0;36m_LocIndexer._getitem_axis\u001b[0;34m(self, key, axis)\u001b[0m\n\u001b[1;32m   1188\u001b[0m     \u001b[39mif\u001b[39;00m \u001b[39mhasattr\u001b[39m(key, \u001b[39m\"\u001b[39m\u001b[39mndim\u001b[39m\u001b[39m\"\u001b[39m) \u001b[39mand\u001b[39;00m key\u001b[39m.\u001b[39mndim \u001b[39m>\u001b[39m \u001b[39m1\u001b[39m:\n\u001b[1;32m   1189\u001b[0m         \u001b[39mraise\u001b[39;00m \u001b[39mValueError\u001b[39;00m(\u001b[39m\"\u001b[39m\u001b[39mCannot index with multidimensional key\u001b[39m\u001b[39m\"\u001b[39m)\n\u001b[0;32m-> 1191\u001b[0m     \u001b[39mreturn\u001b[39;00m \u001b[39mself\u001b[39;49m\u001b[39m.\u001b[39;49m_getitem_iterable(key, axis\u001b[39m=\u001b[39;49maxis)\n\u001b[1;32m   1193\u001b[0m \u001b[39m# nested tuple slicing\u001b[39;00m\n\u001b[1;32m   1194\u001b[0m \u001b[39mif\u001b[39;00m is_nested_tuple(key, labels):\n",
      "File \u001b[0;32m~/anaconda3/envs/sktime-dev/lib/python3.8/site-packages/pandas/core/indexing.py:1132\u001b[0m, in \u001b[0;36m_LocIndexer._getitem_iterable\u001b[0;34m(self, key, axis)\u001b[0m\n\u001b[1;32m   1129\u001b[0m \u001b[39mself\u001b[39m\u001b[39m.\u001b[39m_validate_key(key, axis)\n\u001b[1;32m   1131\u001b[0m \u001b[39m# A collection of keys\u001b[39;00m\n\u001b[0;32m-> 1132\u001b[0m keyarr, indexer \u001b[39m=\u001b[39m \u001b[39mself\u001b[39;49m\u001b[39m.\u001b[39;49m_get_listlike_indexer(key, axis)\n\u001b[1;32m   1133\u001b[0m \u001b[39mreturn\u001b[39;00m \u001b[39mself\u001b[39m\u001b[39m.\u001b[39mobj\u001b[39m.\u001b[39m_reindex_with_indexers(\n\u001b[1;32m   1134\u001b[0m     {axis: [keyarr, indexer]}, copy\u001b[39m=\u001b[39m\u001b[39mTrue\u001b[39;00m, allow_dups\u001b[39m=\u001b[39m\u001b[39mTrue\u001b[39;00m\n\u001b[1;32m   1135\u001b[0m )\n",
      "File \u001b[0;32m~/anaconda3/envs/sktime-dev/lib/python3.8/site-packages/pandas/core/indexing.py:1327\u001b[0m, in \u001b[0;36m_LocIndexer._get_listlike_indexer\u001b[0;34m(self, key, axis)\u001b[0m\n\u001b[1;32m   1324\u001b[0m ax \u001b[39m=\u001b[39m \u001b[39mself\u001b[39m\u001b[39m.\u001b[39mobj\u001b[39m.\u001b[39m_get_axis(axis)\n\u001b[1;32m   1325\u001b[0m axis_name \u001b[39m=\u001b[39m \u001b[39mself\u001b[39m\u001b[39m.\u001b[39mobj\u001b[39m.\u001b[39m_get_axis_name(axis)\n\u001b[0;32m-> 1327\u001b[0m keyarr, indexer \u001b[39m=\u001b[39m ax\u001b[39m.\u001b[39;49m_get_indexer_strict(key, axis_name)\n\u001b[1;32m   1329\u001b[0m \u001b[39mreturn\u001b[39;00m keyarr, indexer\n",
      "File \u001b[0;32m~/anaconda3/envs/sktime-dev/lib/python3.8/site-packages/pandas/core/indexes/base.py:5782\u001b[0m, in \u001b[0;36mIndex._get_indexer_strict\u001b[0;34m(self, key, axis_name)\u001b[0m\n\u001b[1;32m   5779\u001b[0m \u001b[39melse\u001b[39;00m:\n\u001b[1;32m   5780\u001b[0m     keyarr, indexer, new_indexer \u001b[39m=\u001b[39m \u001b[39mself\u001b[39m\u001b[39m.\u001b[39m_reindex_non_unique(keyarr)\n\u001b[0;32m-> 5782\u001b[0m \u001b[39mself\u001b[39;49m\u001b[39m.\u001b[39;49m_raise_if_missing(keyarr, indexer, axis_name)\n\u001b[1;32m   5784\u001b[0m keyarr \u001b[39m=\u001b[39m \u001b[39mself\u001b[39m\u001b[39m.\u001b[39mtake(indexer)\n\u001b[1;32m   5785\u001b[0m \u001b[39mif\u001b[39;00m \u001b[39misinstance\u001b[39m(key, Index):\n\u001b[1;32m   5786\u001b[0m     \u001b[39m# GH 42790 - Preserve name from an Index\u001b[39;00m\n",
      "File \u001b[0;32m~/anaconda3/envs/sktime-dev/lib/python3.8/site-packages/pandas/core/indexes/base.py:5842\u001b[0m, in \u001b[0;36mIndex._raise_if_missing\u001b[0;34m(self, key, indexer, axis_name)\u001b[0m\n\u001b[1;32m   5840\u001b[0m     \u001b[39mif\u001b[39;00m use_interval_msg:\n\u001b[1;32m   5841\u001b[0m         key \u001b[39m=\u001b[39m \u001b[39mlist\u001b[39m(key)\n\u001b[0;32m-> 5842\u001b[0m     \u001b[39mraise\u001b[39;00m \u001b[39mKeyError\u001b[39;00m(\u001b[39mf\u001b[39m\u001b[39m\"\u001b[39m\u001b[39mNone of [\u001b[39m\u001b[39m{\u001b[39;00mkey\u001b[39m}\u001b[39;00m\u001b[39m] are in the [\u001b[39m\u001b[39m{\u001b[39;00maxis_name\u001b[39m}\u001b[39;00m\u001b[39m]\u001b[39m\u001b[39m\"\u001b[39m)\n\u001b[1;32m   5844\u001b[0m not_found \u001b[39m=\u001b[39m \u001b[39mlist\u001b[39m(ensure_index(key)[missing_mask\u001b[39m.\u001b[39mnonzero()[\u001b[39m0\u001b[39m]]\u001b[39m.\u001b[39munique())\n\u001b[1;32m   5845\u001b[0m \u001b[39mraise\u001b[39;00m \u001b[39mKeyError\u001b[39;00m(\u001b[39mf\u001b[39m\u001b[39m\"\u001b[39m\u001b[39m{\u001b[39;00mnot_found\u001b[39m}\u001b[39;00m\u001b[39m not in index\u001b[39m\u001b[39m\"\u001b[39m)\n",
      "\u001b[0;31mKeyError\u001b[0m: \"None of [Int64Index([53], dtype='int64')] are in the [index]\""
     ]
    }
   ],
   "source": [
    "check_estimator(\n",
    "    DynamicFactor,\n",
    "    fixtures_to_run=\"test_predict_time_index[DynamicFactor-fh=1-int-int-True]\",\n",
    "    return_exceptions=False,\n",
    ")"
   ]
  },
  {
   "cell_type": "markdown",
   "metadata": {},
   "source": [
    "The error is in line 227 of *test_all_forecasters.py*, `y_pred = estimator_instance.predict()`."
   ]
  }
 ],
 "metadata": {
  "kernelspec": {
   "display_name": "Python 3.8.13 ('sktime-dev')",
   "language": "python",
   "name": "python3"
  },
  "language_info": {
   "codemirror_mode": {
    "name": "ipython",
    "version": 3
   },
   "file_extension": ".py",
   "mimetype": "text/x-python",
   "name": "python",
   "nbconvert_exporter": "python",
   "pygments_lexer": "ipython3",
   "version": "3.8.13"
  },
  "orig_nbformat": 4,
  "vscode": {
   "interpreter": {
    "hash": "1a1494236c8ef7f8181df502ed65395fa49dc4c7792b0159c6c2a3cecbe5c345"
   }
  }
 },
 "nbformat": 4,
 "nbformat_minor": 2
}
