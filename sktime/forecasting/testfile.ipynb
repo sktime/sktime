{
 "cells": [
  {
   "cell_type": "code",
   "execution_count": 1,
   "metadata": {},
   "outputs": [],
   "source": [
    "import warnings\n",
    "import matplotlib.pyplot as plt\n",
    "import pandas as pd\n",
    "\n",
    "from dynamic_factor import DynamicFactor\n",
    "\n",
    "from sktime.utils._testing.series import _make_series\n",
    "from sktime.forecasting.tests._config import TEST_FHS\n",
    "from sktime.utils.estimator_checks import check_estimator\n",
    "\n",
    "warnings.filterwarnings(\"ignore\")\n",
    "\n",
    "%load_ext autoreload\n",
    "%autoreload 2"
   ]
  },
  {
   "cell_type": "markdown",
   "metadata": {},
   "source": [
    "## Tests"
   ]
  },
  {
   "cell_type": "code",
   "execution_count": 3,
   "metadata": {},
   "outputs": [
    {
     "name": "stderr",
     "output_type": "stream",
     "text": [
      "2022-07-26 19:42:45.366433: W tensorflow/stream_executor/platform/default/dso_loader.cc:64] Could not load dynamic library 'libcudart.so.11.0'; dlerror: libcudart.so.11.0: cannot open shared object file: No such file or directory\n",
      "2022-07-26 19:42:45.367988: I tensorflow/stream_executor/cuda/cudart_stub.cc:29] Ignore above cudart dlerror if you do not have a GPU set up on your machine.\n",
      "2022-07-26 19:42:51.717417: W tensorflow/stream_executor/platform/default/dso_loader.cc:64] Could not load dynamic library 'libcuda.so.1'; dlerror: libcuda.so.1: cannot open shared object file: No such file or directory\n",
      "2022-07-26 19:42:51.717489: W tensorflow/stream_executor/cuda/cuda_driver.cc:269] failed call to cuInit: UNKNOWN ERROR (303)\n",
      "2022-07-26 19:42:51.717508: I tensorflow/stream_executor/cuda/cuda_diagnostics.cc:156] kernel driver does not appear to be running on this host (LAPTOP-AT55D56E): /proc/driver/nvidia/version does not exist\n",
      "2022-07-26 19:42:51.724797: I tensorflow/core/platform/cpu_feature_guard.cc:151] This TensorFlow binary is optimized with oneAPI Deep Neural Network Library (oneDNN) to use the following CPU instructions in performance-critical operations:  AVX2 FMA\n",
      "To enable them in other operations, rebuild TensorFlow with the appropriate compiler flags.\n"
     ]
    }
   ],
   "source": [
    "%%capture\n",
    "results = check_estimator(DynamicFactor)"
   ]
  },
  {
   "cell_type": "code",
   "execution_count": 4,
   "metadata": {},
   "outputs": [
    {
     "data": {
      "text/plain": [
       "['fh=1', 'fh=[2 5]', 'fh=-3', 'fh=[-2 -5]', 'fh=0', 'fh=[-3  2]']"
      ]
     },
     "execution_count": 4,
     "metadata": {},
     "output_type": "execute_result"
    }
   ],
   "source": [
    "[f\"fh={fh}\" for fh in TEST_FHS]"
   ]
  },
  {
   "cell_type": "code",
   "execution_count": 5,
   "metadata": {},
   "outputs": [
    {
     "data": {
      "text/plain": [
       "['test_clone[DynamicFactor]',\n",
       " 'test_constructor[DynamicFactor]',\n",
       " 'test_create_test_instance[DynamicFactor]',\n",
       " 'test_create_test_instances_and_names[DynamicFactor]',\n",
       " 'test_estimator_tags[DynamicFactor]',\n",
       " 'test_fit_does_not_overwrite_hyper_params[DynamicFactor-ForecasterFitPredictMultivariateNoX]',\n",
       " 'test_fit_idempotent[DynamicFactor-ForecasterFitPredictMultivariateNoX-predict]',\n",
       " 'test_fit_idempotent[DynamicFactor-ForecasterFitPredictMultivariateNoX-predict_var]',\n",
       " 'test_fit_idempotent[DynamicFactor-ForecasterFitPredictMultivariateNoX-predict_proba]',\n",
       " 'test_fit_returns_self[DynamicFactor-ForecasterFitPredictMultivariateNoX]',\n",
       " 'test_fit_updates_state[DynamicFactor-ForecasterFitPredictMultivariateNoX]',\n",
       " 'test_get_params[DynamicFactor]',\n",
       " 'test_has_common_interface[DynamicFactor]',\n",
       " 'test_inheritance[DynamicFactor]',\n",
       " 'test_methods_do_not_change_state[DynamicFactor-ForecasterFitPredictMultivariateNoX-predict]',\n",
       " 'test_methods_do_not_change_state[DynamicFactor-ForecasterFitPredictMultivariateNoX-predict_var]',\n",
       " 'test_methods_do_not_change_state[DynamicFactor-ForecasterFitPredictMultivariateNoX-predict_proba]',\n",
       " 'test_methods_have_no_side_effects[DynamicFactor-ForecasterFitPredictMultivariateNoX-predict]',\n",
       " 'test_methods_have_no_side_effects[DynamicFactor-ForecasterFitPredictMultivariateNoX-predict_var]',\n",
       " 'test_methods_have_no_side_effects[DynamicFactor-ForecasterFitPredictMultivariateNoX-predict_proba]',\n",
       " 'test_multiprocessing_idempotent[DynamicFactor-ForecasterFitPredictMultivariateNoX-predict]',\n",
       " 'test_multiprocessing_idempotent[DynamicFactor-ForecasterFitPredictMultivariateNoX-predict_var]',\n",
       " 'test_multiprocessing_idempotent[DynamicFactor-ForecasterFitPredictMultivariateNoX-predict_proba]',\n",
       " 'test_no_between_test_case_side_effects[DynamicFactor-ForecasterFitPredictMultivariateNoX-0]',\n",
       " 'test_no_between_test_case_side_effects[DynamicFactor-ForecasterFitPredictMultivariateNoX-1]',\n",
       " 'test_no_cross_test_side_effects_part1[DynamicFactor]',\n",
       " 'test_no_cross_test_side_effects_part2[DynamicFactor]',\n",
       " 'test_persistence_via_pickle[DynamicFactor-ForecasterFitPredictMultivariateNoX-predict]',\n",
       " 'test_persistence_via_pickle[DynamicFactor-ForecasterFitPredictMultivariateNoX-predict_var]',\n",
       " 'test_persistence_via_pickle[DynamicFactor-ForecasterFitPredictMultivariateNoX-predict_proba]',\n",
       " 'test_raises_not_fitted_error[DynamicFactor-ForecasterFitPredictMultivariateNoX-predict]',\n",
       " 'test_raises_not_fitted_error[DynamicFactor-ForecasterFitPredictMultivariateNoX-predict_var]',\n",
       " 'test_raises_not_fitted_error[DynamicFactor-ForecasterFitPredictMultivariateNoX-predict_proba]',\n",
       " 'test_repr[DynamicFactor]',\n",
       " 'test_required_params[DynamicFactor]',\n",
       " 'test_set_params[DynamicFactor]',\n",
       " 'test_set_params_sklearn[DynamicFactor]',\n",
       " 'test_valid_estimator_class_tags[DynamicFactor]',\n",
       " 'test_valid_estimator_tags[DynamicFactor]',\n",
       " 'test_X_invalid_type_raises_error[DynamicFactor-0]',\n",
       " 'test_X_invalid_type_raises_error[DynamicFactor-1]',\n",
       " 'test__y_and_cutoff[DynamicFactor]',\n",
       " 'test__y_when_refitting[DynamicFactor]',\n",
       " 'test_different_fh_in_fit_and_predict_error_handling[DynamicFactor]',\n",
       " 'test_fh_attribute[DynamicFactor]',\n",
       " 'test_fh_not_passed_error_handling[DynamicFactor]',\n",
       " 'test_get_fitted_params[DynamicFactor-ForecasterFitPredictMultivariateNoX]',\n",
       " 'test_pred_int_tag[DynamicFactor]',\n",
       " 'test_predict_interval[DynamicFactor-fh=1-alpha=0.05]',\n",
       " 'test_predict_interval[DynamicFactor-fh=1-alpha=0.1]',\n",
       " 'test_predict_interval[DynamicFactor-fh=[2 5]-alpha=0.05]',\n",
       " 'test_predict_interval[DynamicFactor-fh=[2 5]-alpha=0.1]',\n",
       " 'test_predict_residuals[DynamicFactor-fh=1-int-int-True]',\n",
       " 'test_predict_residuals[DynamicFactor-fh=1-int-int-False]',\n",
       " 'test_predict_residuals[DynamicFactor-fh=1-range-int-True]',\n",
       " 'test_predict_residuals[DynamicFactor-fh=1-range-int-False]',\n",
       " 'test_predict_residuals[DynamicFactor-fh=1-period-int-True]',\n",
       " 'test_predict_residuals[DynamicFactor-fh=1-period-period-False]',\n",
       " 'test_predict_residuals[DynamicFactor-fh=1-datetime-int-True]',\n",
       " 'test_predict_residuals[DynamicFactor-fh=1-datetime-datetime-False]',\n",
       " 'test_predict_residuals[DynamicFactor-fh=1-datetime-timedelta-True]',\n",
       " 'test_predict_residuals[DynamicFactor-fh=[2 5]-int-int-True]',\n",
       " 'test_predict_residuals[DynamicFactor-fh=[2 5]-int-int-False]',\n",
       " 'test_predict_residuals[DynamicFactor-fh=[2 5]-range-int-True]',\n",
       " 'test_predict_residuals[DynamicFactor-fh=[2 5]-range-int-False]',\n",
       " 'test_predict_residuals[DynamicFactor-fh=[2 5]-period-int-True]',\n",
       " 'test_predict_residuals[DynamicFactor-fh=[2 5]-period-period-False]',\n",
       " 'test_predict_residuals[DynamicFactor-fh=[2 5]-datetime-int-True]',\n",
       " 'test_predict_residuals[DynamicFactor-fh=[2 5]-datetime-datetime-False]',\n",
       " 'test_predict_residuals[DynamicFactor-fh=[2 5]-datetime-timedelta-True]',\n",
       " 'test_predict_residuals[DynamicFactor-fh=-3-int-int-True]',\n",
       " 'test_predict_residuals[DynamicFactor-fh=-3-int-int-False]',\n",
       " 'test_predict_residuals[DynamicFactor-fh=-3-range-int-True]',\n",
       " 'test_predict_residuals[DynamicFactor-fh=-3-range-int-False]',\n",
       " 'test_predict_residuals[DynamicFactor-fh=-3-period-int-True]',\n",
       " 'test_predict_residuals[DynamicFactor-fh=-3-period-period-False]',\n",
       " 'test_predict_residuals[DynamicFactor-fh=-3-datetime-int-True]',\n",
       " 'test_predict_residuals[DynamicFactor-fh=-3-datetime-datetime-False]',\n",
       " 'test_predict_residuals[DynamicFactor-fh=-3-datetime-timedelta-True]',\n",
       " 'test_predict_residuals[DynamicFactor-fh=[-2 -5]-int-int-True]',\n",
       " 'test_predict_residuals[DynamicFactor-fh=[-2 -5]-int-int-False]',\n",
       " 'test_predict_residuals[DynamicFactor-fh=[-2 -5]-range-int-True]',\n",
       " 'test_predict_residuals[DynamicFactor-fh=[-2 -5]-range-int-False]',\n",
       " 'test_predict_residuals[DynamicFactor-fh=[-2 -5]-period-int-True]',\n",
       " 'test_predict_residuals[DynamicFactor-fh=[-2 -5]-period-period-False]',\n",
       " 'test_predict_residuals[DynamicFactor-fh=[-2 -5]-datetime-int-True]',\n",
       " 'test_predict_residuals[DynamicFactor-fh=[-2 -5]-datetime-datetime-False]',\n",
       " 'test_predict_residuals[DynamicFactor-fh=[-2 -5]-datetime-timedelta-True]',\n",
       " 'test_predict_residuals[DynamicFactor-fh=0-int-int-True]',\n",
       " 'test_predict_residuals[DynamicFactor-fh=0-int-int-False]',\n",
       " 'test_predict_residuals[DynamicFactor-fh=0-range-int-True]',\n",
       " 'test_predict_residuals[DynamicFactor-fh=0-range-int-False]',\n",
       " 'test_predict_residuals[DynamicFactor-fh=0-period-int-True]',\n",
       " 'test_predict_residuals[DynamicFactor-fh=0-period-period-False]',\n",
       " 'test_predict_residuals[DynamicFactor-fh=0-datetime-int-True]',\n",
       " 'test_predict_residuals[DynamicFactor-fh=0-datetime-datetime-False]',\n",
       " 'test_predict_residuals[DynamicFactor-fh=0-datetime-timedelta-True]',\n",
       " 'test_predict_residuals[DynamicFactor-fh=[-3  2]-int-int-True]',\n",
       " 'test_predict_residuals[DynamicFactor-fh=[-3  2]-int-int-False]',\n",
       " 'test_predict_residuals[DynamicFactor-fh=[-3  2]-range-int-True]',\n",
       " 'test_predict_residuals[DynamicFactor-fh=[-3  2]-range-int-False]',\n",
       " 'test_predict_residuals[DynamicFactor-fh=[-3  2]-period-int-True]',\n",
       " 'test_predict_residuals[DynamicFactor-fh=[-3  2]-period-period-False]',\n",
       " 'test_predict_residuals[DynamicFactor-fh=[-3  2]-datetime-int-True]',\n",
       " 'test_predict_residuals[DynamicFactor-fh=[-3  2]-datetime-datetime-False]',\n",
       " 'test_predict_residuals[DynamicFactor-fh=[-3  2]-datetime-timedelta-True]',\n",
       " 'test_predict_time_index[DynamicFactor-fh=1-int-int-True]',\n",
       " 'test_predict_time_index[DynamicFactor-fh=1-int-int-False]',\n",
       " 'test_predict_time_index[DynamicFactor-fh=1-range-int-True]',\n",
       " 'test_predict_time_index[DynamicFactor-fh=1-range-int-False]',\n",
       " 'test_predict_time_index[DynamicFactor-fh=1-period-int-True]',\n",
       " 'test_predict_time_index[DynamicFactor-fh=1-period-period-False]',\n",
       " 'test_predict_time_index[DynamicFactor-fh=1-datetime-int-True]',\n",
       " 'test_predict_time_index[DynamicFactor-fh=1-datetime-datetime-False]',\n",
       " 'test_predict_time_index[DynamicFactor-fh=1-datetime-timedelta-True]',\n",
       " 'test_predict_time_index[DynamicFactor-fh=[2 5]-int-int-True]',\n",
       " 'test_predict_time_index[DynamicFactor-fh=[2 5]-int-int-False]',\n",
       " 'test_predict_time_index[DynamicFactor-fh=[2 5]-range-int-True]',\n",
       " 'test_predict_time_index[DynamicFactor-fh=[2 5]-range-int-False]',\n",
       " 'test_predict_time_index[DynamicFactor-fh=[2 5]-period-int-True]',\n",
       " 'test_predict_time_index[DynamicFactor-fh=[2 5]-period-period-False]',\n",
       " 'test_predict_time_index[DynamicFactor-fh=[2 5]-datetime-int-True]',\n",
       " 'test_predict_time_index[DynamicFactor-fh=[2 5]-datetime-datetime-False]',\n",
       " 'test_predict_time_index[DynamicFactor-fh=[2 5]-datetime-timedelta-True]',\n",
       " 'test_predict_time_index[DynamicFactor-fh=-3-int-int-True]',\n",
       " 'test_predict_time_index[DynamicFactor-fh=-3-int-int-False]',\n",
       " 'test_predict_time_index[DynamicFactor-fh=-3-range-int-True]',\n",
       " 'test_predict_time_index[DynamicFactor-fh=-3-range-int-False]',\n",
       " 'test_predict_time_index[DynamicFactor-fh=-3-period-int-True]',\n",
       " 'test_predict_time_index[DynamicFactor-fh=-3-period-period-False]',\n",
       " 'test_predict_time_index[DynamicFactor-fh=-3-datetime-int-True]',\n",
       " 'test_predict_time_index[DynamicFactor-fh=-3-datetime-datetime-False]',\n",
       " 'test_predict_time_index[DynamicFactor-fh=-3-datetime-timedelta-True]',\n",
       " 'test_predict_time_index[DynamicFactor-fh=[-2 -5]-int-int-True]',\n",
       " 'test_predict_time_index[DynamicFactor-fh=[-2 -5]-int-int-False]',\n",
       " 'test_predict_time_index[DynamicFactor-fh=[-2 -5]-range-int-True]',\n",
       " 'test_predict_time_index[DynamicFactor-fh=[-2 -5]-range-int-False]',\n",
       " 'test_predict_time_index[DynamicFactor-fh=[-2 -5]-period-int-True]',\n",
       " 'test_predict_time_index[DynamicFactor-fh=[-2 -5]-period-period-False]',\n",
       " 'test_predict_time_index[DynamicFactor-fh=[-2 -5]-datetime-int-True]',\n",
       " 'test_predict_time_index[DynamicFactor-fh=[-2 -5]-datetime-datetime-False]',\n",
       " 'test_predict_time_index[DynamicFactor-fh=[-2 -5]-datetime-timedelta-True]',\n",
       " 'test_predict_time_index[DynamicFactor-fh=0-int-int-True]',\n",
       " 'test_predict_time_index[DynamicFactor-fh=0-int-int-False]',\n",
       " 'test_predict_time_index[DynamicFactor-fh=0-range-int-True]',\n",
       " 'test_predict_time_index[DynamicFactor-fh=0-range-int-False]',\n",
       " 'test_predict_time_index[DynamicFactor-fh=0-period-int-True]',\n",
       " 'test_predict_time_index[DynamicFactor-fh=0-period-period-False]',\n",
       " 'test_predict_time_index[DynamicFactor-fh=0-datetime-int-True]',\n",
       " 'test_predict_time_index[DynamicFactor-fh=0-datetime-datetime-False]',\n",
       " 'test_predict_time_index[DynamicFactor-fh=0-datetime-timedelta-True]',\n",
       " 'test_predict_time_index[DynamicFactor-fh=[-3  2]-int-int-True]',\n",
       " 'test_predict_time_index[DynamicFactor-fh=[-3  2]-int-int-False]',\n",
       " 'test_predict_time_index[DynamicFactor-fh=[-3  2]-range-int-True]',\n",
       " 'test_predict_time_index[DynamicFactor-fh=[-3  2]-range-int-False]',\n",
       " 'test_predict_time_index[DynamicFactor-fh=[-3  2]-period-int-True]',\n",
       " 'test_predict_time_index[DynamicFactor-fh=[-3  2]-period-period-False]',\n",
       " 'test_predict_time_index[DynamicFactor-fh=[-3  2]-datetime-int-True]',\n",
       " 'test_predict_time_index[DynamicFactor-fh=[-3  2]-datetime-datetime-False]',\n",
       " 'test_predict_time_index[DynamicFactor-fh=[-3  2]-datetime-timedelta-True]',\n",
       " 'test_predict_time_index_in_sample_full[DynamicFactor-int-int-True]',\n",
       " 'test_predict_time_index_in_sample_full[DynamicFactor-int-int-False]',\n",
       " 'test_predict_time_index_in_sample_full[DynamicFactor-range-int-True]',\n",
       " 'test_predict_time_index_in_sample_full[DynamicFactor-range-int-False]',\n",
       " 'test_predict_time_index_in_sample_full[DynamicFactor-period-int-True]',\n",
       " 'test_predict_time_index_in_sample_full[DynamicFactor-period-period-False]',\n",
       " 'test_predict_time_index_in_sample_full[DynamicFactor-datetime-int-True]',\n",
       " 'test_predict_time_index_in_sample_full[DynamicFactor-datetime-datetime-False]',\n",
       " 'test_predict_time_index_in_sample_full[DynamicFactor-datetime-timedelta-True]',\n",
       " 'test_predict_time_index_with_X[DynamicFactor-fh=1-int-int-True]',\n",
       " 'test_predict_time_index_with_X[DynamicFactor-fh=1-int-int-False]',\n",
       " 'test_predict_time_index_with_X[DynamicFactor-fh=1-range-int-True]',\n",
       " 'test_predict_time_index_with_X[DynamicFactor-fh=1-range-int-False]',\n",
       " 'test_predict_time_index_with_X[DynamicFactor-fh=1-period-int-True]',\n",
       " 'test_predict_time_index_with_X[DynamicFactor-fh=1-period-period-False]',\n",
       " 'test_predict_time_index_with_X[DynamicFactor-fh=1-datetime-int-True]',\n",
       " 'test_predict_time_index_with_X[DynamicFactor-fh=1-datetime-datetime-False]',\n",
       " 'test_predict_time_index_with_X[DynamicFactor-fh=1-datetime-timedelta-True]',\n",
       " 'test_predict_time_index_with_X[DynamicFactor-fh=[2 5]-int-int-True]',\n",
       " 'test_predict_time_index_with_X[DynamicFactor-fh=[2 5]-int-int-False]',\n",
       " 'test_predict_time_index_with_X[DynamicFactor-fh=[2 5]-range-int-True]',\n",
       " 'test_predict_time_index_with_X[DynamicFactor-fh=[2 5]-range-int-False]',\n",
       " 'test_predict_time_index_with_X[DynamicFactor-fh=[2 5]-period-int-True]',\n",
       " 'test_predict_time_index_with_X[DynamicFactor-fh=[2 5]-period-period-False]',\n",
       " 'test_predict_time_index_with_X[DynamicFactor-fh=[2 5]-datetime-int-True]',\n",
       " 'test_predict_time_index_with_X[DynamicFactor-fh=[2 5]-datetime-datetime-False]',\n",
       " 'test_predict_time_index_with_X[DynamicFactor-fh=[2 5]-datetime-timedelta-True]',\n",
       " 'test_raises_not_fitted_error[DynamicFactor]',\n",
       " 'test_score[DynamicFactor-fh=1]',\n",
       " 'test_score[DynamicFactor-fh=[2 5]]',\n",
       " 'test_update_predict_predicted_index[DynamicFactor-update_params=True-0-fh=1]',\n",
       " 'test_update_predict_predicted_index[DynamicFactor-update_params=True-0-fh=[2 5]]',\n",
       " 'test_update_predict_predicted_index[DynamicFactor-update_params=True-1-fh=1]',\n",
       " 'test_update_predict_predicted_index[DynamicFactor-update_params=True-1-fh=[2 5]]',\n",
       " 'test_update_predict_predicted_index[DynamicFactor-update_params=False-step=1-0-fh=1]',\n",
       " 'test_update_predict_predicted_index[DynamicFactor-update_params=False-step=1-0-fh=[2 5]]',\n",
       " 'test_update_predict_predicted_index[DynamicFactor-update_params=False-step=1-1-fh=1]',\n",
       " 'test_update_predict_predicted_index[DynamicFactor-update_params=False-step=1-1-fh=[2 5]]',\n",
       " 'test_update_predict_predicted_index[DynamicFactor-update_params=False-step=5-0-fh=1]',\n",
       " 'test_update_predict_predicted_index[DynamicFactor-update_params=False-step=5-0-fh=[2 5]]',\n",
       " 'test_update_predict_predicted_index[DynamicFactor-update_params=False-step=5-1-fh=1]',\n",
       " 'test_update_predict_predicted_index[DynamicFactor-update_params=False-step=5-1-fh=[2 5]]',\n",
       " 'test_update_predict_single[DynamicFactor-update_params=True-fh=1]',\n",
       " 'test_update_predict_single[DynamicFactor-update_params=True-fh=[2 5]]',\n",
       " 'test_update_predict_single[DynamicFactor-update_params=False-fh=1]',\n",
       " 'test_update_predict_single[DynamicFactor-update_params=False-fh=[2 5]]',\n",
       " 'test_y_invalid_type_raises_error[DynamicFactor-0]',\n",
       " 'test_y_invalid_type_raises_error[DynamicFactor-1]',\n",
       " 'test_y_multivariate_raises_error[DynamicFactor]']"
      ]
     },
     "execution_count": 5,
     "metadata": {},
     "output_type": "execute_result"
    }
   ],
   "source": [
    "correct_fixtures = [key for key, value in results.items() if value == \"PASSED\"]\n",
    "correct_fixtures"
   ]
  },
  {
   "cell_type": "code",
   "execution_count": 6,
   "metadata": {},
   "outputs": [
    {
     "data": {
      "text/plain": [
       "['test_predict_quantiles[DynamicFactor-fh=1-alpha=0.05]',\n",
       " 'test_predict_quantiles[DynamicFactor-fh=1-alpha=0.1]',\n",
       " 'test_predict_quantiles[DynamicFactor-fh=[2 5]-alpha=0.05]',\n",
       " 'test_predict_quantiles[DynamicFactor-fh=[2 5]-alpha=0.1]']"
      ]
     },
     "execution_count": 6,
     "metadata": {},
     "output_type": "execute_result"
    }
   ],
   "source": [
    "wrong_fixtures = [key for key, value in results.items() if value != \"PASSED\"]\n",
    "wrong_fixtures"
   ]
  },
  {
   "cell_type": "code",
   "execution_count": 7,
   "metadata": {},
   "outputs": [
    {
     "name": "stdout",
     "output_type": "stream",
     "text": [
      "Key: test_predict_quantiles[DynamicFactor-fh=1-alpha=0.05] \n",
      " Test result: Lengths must match to compare\n",
      "Key: test_predict_quantiles[DynamicFactor-fh=1-alpha=0.1] \n",
      " Test result: Lengths must match to compare\n",
      "Key: test_predict_quantiles[DynamicFactor-fh=[2 5]-alpha=0.05] \n",
      " Test result: Lengths must match to compare\n",
      "Key: test_predict_quantiles[DynamicFactor-fh=[2 5]-alpha=0.1] \n",
      " Test result: Lengths must match to compare\n"
     ]
    }
   ],
   "source": [
    "for key in wrong_fixtures:\n",
    "    print(f\"Key: {key} \\n Test result: {results[key]}\")"
   ]
  },
  {
   "cell_type": "markdown",
   "metadata": {},
   "source": [
    "It seems like we have the same error message throughout. The index generated by `_predict` is different from the test function. However, this does not happen for all the values of `fh`."
   ]
  },
  {
   "cell_type": "code",
   "execution_count": 2,
   "metadata": {},
   "outputs": [
    {
     "name": "stdout",
     "output_type": "stream",
     "text": [
      "expected columns: MultiIndex([(0, 0.05),\n",
      "            (1, 0.05)],\n",
      "           )\n",
      "found columns: Index([(0, 0.05)], dtype='object')\n"
     ]
    },
    {
     "ename": "ValueError",
     "evalue": "Lengths must match to compare",
     "output_type": "error",
     "traceback": [
      "\u001b[0;31m---------------------------------------------------------------------------\u001b[0m",
      "\u001b[0;31mValueError\u001b[0m                                Traceback (most recent call last)",
      "\u001b[1;32m/root/sktime/sktime/forecasting/testfile.ipynb Cell 9\u001b[0m in \u001b[0;36m<cell line: 1>\u001b[0;34m()\u001b[0m\n\u001b[0;32m----> <a href='vscode-notebook-cell://wsl%2Bubuntu/root/sktime/sktime/forecasting/testfile.ipynb#ch0000008vscode-remote?line=0'>1</a>\u001b[0m check_estimator(\n\u001b[1;32m      <a href='vscode-notebook-cell://wsl%2Bubuntu/root/sktime/sktime/forecasting/testfile.ipynb#ch0000008vscode-remote?line=1'>2</a>\u001b[0m     DynamicFactor,\n\u001b[1;32m      <a href='vscode-notebook-cell://wsl%2Bubuntu/root/sktime/sktime/forecasting/testfile.ipynb#ch0000008vscode-remote?line=2'>3</a>\u001b[0m     fixtures_to_run\u001b[39m=\u001b[39;49m\u001b[39m\"\u001b[39;49m\u001b[39mtest_predict_quantiles[DynamicFactor-fh=[2 5]-alpha=0.05]\u001b[39;49m\u001b[39m\"\u001b[39;49m,\n\u001b[1;32m      <a href='vscode-notebook-cell://wsl%2Bubuntu/root/sktime/sktime/forecasting/testfile.ipynb#ch0000008vscode-remote?line=3'>4</a>\u001b[0m     return_exceptions\u001b[39m=\u001b[39;49m\u001b[39mFalse\u001b[39;49;00m,\n\u001b[1;32m      <a href='vscode-notebook-cell://wsl%2Bubuntu/root/sktime/sktime/forecasting/testfile.ipynb#ch0000008vscode-remote?line=4'>5</a>\u001b[0m )\n",
      "File \u001b[0;32m~/sktime/sktime/utils/estimator_checks.py:102\u001b[0m, in \u001b[0;36mcheck_estimator\u001b[0;34m(estimator, return_exceptions, tests_to_run, fixtures_to_run, verbose, tests_to_exclude, fixtures_to_exclude)\u001b[0m\n\u001b[1;32m     99\u001b[0m     scitype_of_estimator \u001b[39m=\u001b[39m \u001b[39m\"\u001b[39m\u001b[39m\"\u001b[39m\n\u001b[1;32m    101\u001b[0m \u001b[39mif\u001b[39;00m scitype_of_estimator \u001b[39min\u001b[39;00m testclass_dict\u001b[39m.\u001b[39mkeys():\n\u001b[0;32m--> 102\u001b[0m     results_scitype \u001b[39m=\u001b[39m testclass_dict[scitype_of_estimator]()\u001b[39m.\u001b[39;49mrun_tests(\n\u001b[1;32m    103\u001b[0m         estimator\u001b[39m=\u001b[39;49mestimator,\n\u001b[1;32m    104\u001b[0m         return_exceptions\u001b[39m=\u001b[39;49mreturn_exceptions,\n\u001b[1;32m    105\u001b[0m         tests_to_run\u001b[39m=\u001b[39;49mtests_to_run,\n\u001b[1;32m    106\u001b[0m         fixtures_to_run\u001b[39m=\u001b[39;49mfixtures_to_run,\n\u001b[1;32m    107\u001b[0m     )\n\u001b[1;32m    108\u001b[0m     results\u001b[39m.\u001b[39mupdate(results_scitype)\n\u001b[1;32m    110\u001b[0m failed_tests \u001b[39m=\u001b[39m [key \u001b[39mfor\u001b[39;00m key \u001b[39min\u001b[39;00m results\u001b[39m.\u001b[39mkeys() \u001b[39mif\u001b[39;00m results[key] \u001b[39m!=\u001b[39m \u001b[39m\"\u001b[39m\u001b[39mPASSED\u001b[39m\u001b[39m\"\u001b[39m]\n",
      "File \u001b[0;32m~/sktime/sktime/tests/test_all_estimators.py:538\u001b[0m, in \u001b[0;36mQuickTester.run_tests\u001b[0;34m(self, estimator, return_exceptions, tests_to_run, fixtures_to_run, tests_to_exclude, fixtures_to_exclude)\u001b[0m\n\u001b[1;32m    536\u001b[0m                 results[key] \u001b[39m=\u001b[39m err\n\u001b[1;32m    537\u001b[0m         \u001b[39melse\u001b[39;00m:\n\u001b[0;32m--> 538\u001b[0m             test_fun(\u001b[39m*\u001b[39;49m\u001b[39m*\u001b[39;49mdeepcopy(args))\n\u001b[1;32m    539\u001b[0m             results[key] \u001b[39m=\u001b[39m \u001b[39m\"\u001b[39m\u001b[39mPASSED\u001b[39m\u001b[39m\"\u001b[39m\n\u001b[1;32m    541\u001b[0m \u001b[39mreturn\u001b[39;00m results\n",
      "File \u001b[0;32m~/sktime/sktime/forecasting/tests/test_all_forecasters.py:448\u001b[0m, in \u001b[0;36mTestAllForecasters.test_predict_quantiles\u001b[0;34m(self, estimator_instance, n_columns, fh_int_oos, alpha)\u001b[0m\n\u001b[1;32m    446\u001b[0m \u001b[39mtry\u001b[39;00m:\n\u001b[1;32m    447\u001b[0m     quantiles \u001b[39m=\u001b[39m estimator_instance\u001b[39m.\u001b[39mpredict_quantiles(fh\u001b[39m=\u001b[39mfh_int_oos, alpha\u001b[39m=\u001b[39malpha)\n\u001b[0;32m--> 448\u001b[0m     \u001b[39mself\u001b[39;49m\u001b[39m.\u001b[39;49m_check_predict_quantiles(quantiles, y_train, fh_int_oos, alpha)\n\u001b[1;32m    449\u001b[0m \u001b[39mexcept\u001b[39;00m \u001b[39mNotImplementedError\u001b[39;00m:\n\u001b[1;32m    450\u001b[0m     \u001b[39mpass\u001b[39;00m\n",
      "File \u001b[0;32m~/sktime/sktime/forecasting/tests/test_all_forecasters.py:409\u001b[0m, in \u001b[0;36mTestAllForecasters._check_predict_quantiles\u001b[0;34m(self, pred_quantiles, y_train, fh, alpha)\u001b[0m\n\u001b[1;32m    407\u001b[0m \u001b[39mprint\u001b[39m(\u001b[39mf\u001b[39m\u001b[39m\"\u001b[39m\u001b[39mexpected columns: \u001b[39m\u001b[39m{\u001b[39;00mexpected\u001b[39m}\u001b[39;00m\u001b[39m\"\u001b[39m)\n\u001b[1;32m    408\u001b[0m \u001b[39mprint\u001b[39m(\u001b[39mf\u001b[39m\u001b[39m\"\u001b[39m\u001b[39mfound columns: \u001b[39m\u001b[39m{\u001b[39;00mfound\u001b[39m}\u001b[39;00m\u001b[39m\"\u001b[39m)\n\u001b[0;32m--> 409\u001b[0m \u001b[39massert\u001b[39;00m \u001b[39mall\u001b[39m(expected \u001b[39m==\u001b[39;49m found)\n\u001b[1;32m    411\u001b[0m \u001b[39mif\u001b[39;00m \u001b[39misinstance\u001b[39m(alpha, \u001b[39mlist\u001b[39m):\n\u001b[1;32m    412\u001b[0m     \u001b[39m# sorts the columns that correspond to alpha values\u001b[39;00m\n\u001b[1;32m    413\u001b[0m     pred_quantiles \u001b[39m=\u001b[39m pred_quantiles\u001b[39m.\u001b[39mreindex(\n\u001b[1;32m    414\u001b[0m         columns\u001b[39m=\u001b[39mpred_quantiles\u001b[39m.\u001b[39mcolumns\u001b[39m.\u001b[39mreindex(\u001b[39msorted\u001b[39m(alpha), level\u001b[39m=\u001b[39m\u001b[39m1\u001b[39m)[\u001b[39m0\u001b[39m]\n\u001b[1;32m    415\u001b[0m     )\n",
      "File \u001b[0;32m~/anaconda3/envs/sktime-dev/lib/python3.8/site-packages/pandas/core/ops/common.py:70\u001b[0m, in \u001b[0;36m_unpack_zerodim_and_defer.<locals>.new_method\u001b[0;34m(self, other)\u001b[0m\n\u001b[1;32m     66\u001b[0m             \u001b[39mreturn\u001b[39;00m \u001b[39mNotImplemented\u001b[39m\n\u001b[1;32m     68\u001b[0m other \u001b[39m=\u001b[39m item_from_zerodim(other)\n\u001b[0;32m---> 70\u001b[0m \u001b[39mreturn\u001b[39;00m method(\u001b[39mself\u001b[39;49m, other)\n",
      "File \u001b[0;32m~/anaconda3/envs/sktime-dev/lib/python3.8/site-packages/pandas/core/arraylike.py:40\u001b[0m, in \u001b[0;36mOpsMixin.__eq__\u001b[0;34m(self, other)\u001b[0m\n\u001b[1;32m     38\u001b[0m \u001b[39m@unpack_zerodim_and_defer\u001b[39m(\u001b[39m\"\u001b[39m\u001b[39m__eq__\u001b[39m\u001b[39m\"\u001b[39m)\n\u001b[1;32m     39\u001b[0m \u001b[39mdef\u001b[39;00m \u001b[39m__eq__\u001b[39m(\u001b[39mself\u001b[39m, other):\n\u001b[0;32m---> 40\u001b[0m     \u001b[39mreturn\u001b[39;00m \u001b[39mself\u001b[39;49m\u001b[39m.\u001b[39;49m_cmp_method(other, operator\u001b[39m.\u001b[39;49meq)\n",
      "File \u001b[0;32m~/anaconda3/envs/sktime-dev/lib/python3.8/site-packages/pandas/core/indexes/base.py:6672\u001b[0m, in \u001b[0;36mIndex._cmp_method\u001b[0;34m(self, other, op)\u001b[0m\n\u001b[1;32m   6667\u001b[0m         \u001b[39mreturn\u001b[39;00m arr\n\u001b[1;32m   6669\u001b[0m \u001b[39mif\u001b[39;00m \u001b[39misinstance\u001b[39m(other, (np\u001b[39m.\u001b[39mndarray, Index, ABCSeries, ExtensionArray)) \u001b[39mand\u001b[39;00m \u001b[39mlen\u001b[39m(\n\u001b[1;32m   6670\u001b[0m     \u001b[39mself\u001b[39m\n\u001b[1;32m   6671\u001b[0m ) \u001b[39m!=\u001b[39m \u001b[39mlen\u001b[39m(other):\n\u001b[0;32m-> 6672\u001b[0m     \u001b[39mraise\u001b[39;00m \u001b[39mValueError\u001b[39;00m(\u001b[39m\"\u001b[39m\u001b[39mLengths must match to compare\u001b[39m\u001b[39m\"\u001b[39m)\n\u001b[1;32m   6674\u001b[0m \u001b[39mif\u001b[39;00m \u001b[39mnot\u001b[39;00m \u001b[39misinstance\u001b[39m(other, ABCMultiIndex):\n\u001b[1;32m   6675\u001b[0m     other \u001b[39m=\u001b[39m extract_array(other, extract_numpy\u001b[39m=\u001b[39m\u001b[39mTrue\u001b[39;00m)\n",
      "\u001b[0;31mValueError\u001b[0m: Lengths must match to compare"
     ]
    }
   ],
   "source": [
    "check_estimator(\n",
    "    DynamicFactor,\n",
    "    fixtures_to_run=\"test_predict_quantiles[DynamicFactor-fh=[2 5]-alpha=0.05]\",\n",
    "    return_exceptions=False,\n",
    ")"
   ]
  },
  {
   "cell_type": "markdown",
   "metadata": {},
   "source": [
    "## Practical Example"
   ]
  },
  {
   "cell_type": "code",
   "execution_count": 3,
   "metadata": {},
   "outputs": [],
   "source": [
    "y = _make_series(n_timepoints=50, n_columns=2)\n",
    "X = _make_series(n_timepoints=55, n_columns=1)"
   ]
  },
  {
   "cell_type": "code",
   "execution_count": 4,
   "metadata": {},
   "outputs": [
    {
     "name": "stdout",
     "output_type": "stream",
     "text": [
      "(50, 2)\n",
      "(55,)\n"
     ]
    }
   ],
   "source": [
    "print(y.shape)\n",
    "print(X.shape)"
   ]
  },
  {
   "cell_type": "code",
   "execution_count": 5,
   "metadata": {},
   "outputs": [],
   "source": [
    "X_train, X_test = X.iloc[: len(y)], X.iloc[len(y) :]"
   ]
  },
  {
   "cell_type": "code",
   "execution_count": 6,
   "metadata": {},
   "outputs": [],
   "source": [
    "y.columns = [\"GDP\", \"Industrial Production\"]"
   ]
  },
  {
   "cell_type": "code",
   "execution_count": 7,
   "metadata": {},
   "outputs": [
    {
     "data": {
      "text/plain": [
       "<matplotlib.legend.Legend at 0x7fe1b808f400>"
      ]
     },
     "execution_count": 7,
     "metadata": {},
     "output_type": "execute_result"
    },
    {
     "data": {
      "image/png": "[encoded data removed]",
      "text/plain": [
       "<Figure size 432x288 with 1 Axes>"
      ]
     },
     "metadata": {
      "needs_background": "light"
     },
     "output_type": "display_data"
    }
   ],
   "source": [
    "y.plot()\n",
    "X.plot()\n",
    "plt.legend()"
   ]
  },
  {
   "cell_type": "code",
   "execution_count": 8,
   "metadata": {},
   "outputs": [],
   "source": [
    "model = DynamicFactor()"
   ]
  },
  {
   "cell_type": "code",
   "execution_count": 9,
   "metadata": {},
   "outputs": [
    {
     "data": {
      "text/plain": [
       "DynamicFactor()"
      ]
     },
     "execution_count": 9,
     "metadata": {},
     "output_type": "execute_result"
    }
   ],
   "source": [
    "model.fit(y)"
   ]
  },
  {
   "cell_type": "code",
   "execution_count": 10,
   "metadata": {},
   "outputs": [
    {
     "data": {
      "text/html": [
       "<div>\n",
       "<style scoped>\n",
       "    .dataframe tbody tr th:only-of-type {\n",
       "        vertical-align: middle;\n",
       "    }\n",
       "\n",
       "    .dataframe tbody tr th {\n",
       "        vertical-align: top;\n",
       "    }\n",
       "\n",
       "    .dataframe thead th {\n",
       "        text-align: right;\n",
       "    }\n",
       "</style>\n",
       "<table border=\"1\" class=\"dataframe\">\n",
       "  <thead>\n",
       "    <tr style=\"text-align: right;\">\n",
       "      <th></th>\n",
       "      <th>GDP</th>\n",
       "      <th>Industrial Production</th>\n",
       "    </tr>\n",
       "  </thead>\n",
       "  <tbody>\n",
       "    <tr>\n",
       "      <th>2000-02-20</th>\n",
       "      <td>3.361011</td>\n",
       "      <td>2.746722</td>\n",
       "    </tr>\n",
       "    <tr>\n",
       "      <th>2000-02-21</th>\n",
       "      <td>3.360836</td>\n",
       "      <td>2.746579</td>\n",
       "    </tr>\n",
       "    <tr>\n",
       "      <th>2000-02-22</th>\n",
       "      <td>3.360660</td>\n",
       "      <td>2.746436</td>\n",
       "    </tr>\n",
       "  </tbody>\n",
       "</table>\n",
       "</div>"
      ],
      "text/plain": [
       "                 GDP  Industrial Production\n",
       "2000-02-20  3.361011               2.746722\n",
       "2000-02-21  3.360836               2.746579\n",
       "2000-02-22  3.360660               2.746436"
      ]
     },
     "execution_count": 10,
     "metadata": {},
     "output_type": "execute_result"
    }
   ],
   "source": [
    "model.predict(fh=[1, 2, 3])"
   ]
  },
  {
   "cell_type": "code",
   "execution_count": 11,
   "metadata": {},
   "outputs": [
    {
     "data": {
      "text/plain": [
       "(50, 2)"
      ]
     },
     "execution_count": 11,
     "metadata": {},
     "output_type": "execute_result"
    }
   ],
   "source": [
    "y.shape"
   ]
  },
  {
   "cell_type": "code",
   "execution_count": 12,
   "metadata": {},
   "outputs": [
    {
     "data": {
      "text/html": [
       "<div>\n",
       "<style scoped>\n",
       "    .dataframe tbody tr th:only-of-type {\n",
       "        vertical-align: middle;\n",
       "    }\n",
       "\n",
       "    .dataframe tbody tr th {\n",
       "        vertical-align: top;\n",
       "    }\n",
       "\n",
       "    .dataframe thead tr th {\n",
       "        text-align: left;\n",
       "    }\n",
       "</style>\n",
       "<table border=\"1\" class=\"dataframe\">\n",
       "  <thead>\n",
       "    <tr>\n",
       "      <th></th>\n",
       "      <th colspan=\"2\" halign=\"left\">GDP</th>\n",
       "      <th colspan=\"2\" halign=\"left\">Industrial Production</th>\n",
       "    </tr>\n",
       "    <tr>\n",
       "      <th></th>\n",
       "      <th colspan=\"2\" halign=\"left\">0.9</th>\n",
       "      <th colspan=\"2\" halign=\"left\">0.9</th>\n",
       "    </tr>\n",
       "    <tr>\n",
       "      <th></th>\n",
       "      <th>lower</th>\n",
       "      <th>upper</th>\n",
       "      <th>lower</th>\n",
       "      <th>upper</th>\n",
       "    </tr>\n",
       "  </thead>\n",
       "  <tbody>\n",
       "    <tr>\n",
       "      <th>0</th>\n",
       "      <td>3.238407</td>\n",
       "      <td>3.483614</td>\n",
       "      <td>2.637373</td>\n",
       "      <td>2.856071</td>\n",
       "    </tr>\n",
       "    <tr>\n",
       "      <th>1</th>\n",
       "      <td>3.238174</td>\n",
       "      <td>3.483497</td>\n",
       "      <td>2.637186</td>\n",
       "      <td>2.855972</td>\n",
       "    </tr>\n",
       "    <tr>\n",
       "      <th>2</th>\n",
       "      <td>3.237940</td>\n",
       "      <td>3.483381</td>\n",
       "      <td>2.636999</td>\n",
       "      <td>2.855873</td>\n",
       "    </tr>\n",
       "  </tbody>\n",
       "</table>\n",
       "</div>"
      ],
      "text/plain": [
       "        GDP           Industrial Production          \n",
       "        0.9                             0.9          \n",
       "      lower     upper                 lower     upper\n",
       "0  3.238407  3.483614              2.637373  2.856071\n",
       "1  3.238174  3.483497              2.637186  2.855972\n",
       "2  3.237940  3.483381              2.636999  2.855873"
      ]
     },
     "execution_count": 12,
     "metadata": {},
     "output_type": "execute_result"
    }
   ],
   "source": [
    "model.predict_interval(fh=[1, 2, 3], coverage=[0.9])"
   ]
  },
  {
   "cell_type": "code",
   "execution_count": 13,
   "metadata": {},
   "outputs": [
    {
     "data": {
      "text/html": [
       "<div>\n",
       "<style scoped>\n",
       "    .dataframe tbody tr th:only-of-type {\n",
       "        vertical-align: middle;\n",
       "    }\n",
       "\n",
       "    .dataframe tbody tr th {\n",
       "        vertical-align: top;\n",
       "    }\n",
       "\n",
       "    .dataframe thead tr th {\n",
       "        text-align: left;\n",
       "    }\n",
       "</style>\n",
       "<table border=\"1\" class=\"dataframe\">\n",
       "  <thead>\n",
       "    <tr>\n",
       "      <th></th>\n",
       "      <th>GDP</th>\n",
       "    </tr>\n",
       "    <tr>\n",
       "      <th></th>\n",
       "      <th>0.9</th>\n",
       "    </tr>\n",
       "  </thead>\n",
       "  <tbody>\n",
       "    <tr>\n",
       "      <th>0</th>\n",
       "      <td>3.608192</td>\n",
       "    </tr>\n",
       "    <tr>\n",
       "      <th>1</th>\n",
       "      <td>3.608135</td>\n",
       "    </tr>\n",
       "    <tr>\n",
       "      <th>2</th>\n",
       "      <td>3.608078</td>\n",
       "    </tr>\n",
       "  </tbody>\n",
       "</table>\n",
       "</div>"
      ],
      "text/plain": [
       "        GDP\n",
       "        0.9\n",
       "0  3.608192\n",
       "1  3.608135\n",
       "2  3.608078"
      ]
     },
     "execution_count": 13,
     "metadata": {},
     "output_type": "execute_result"
    }
   ],
   "source": [
    "model.predict_quantiles(fh=[1, 2, 3], alpha=[0.9])"
   ]
  }
 ],
 "metadata": {
  "kernelspec": {
   "display_name": "Python 3.8.13 ('sktime-dev')",
   "language": "python",
   "name": "python3"
  },
  "language_info": {
   "codemirror_mode": {
    "name": "ipython",
    "version": 3
   },
   "file_extension": ".py",
   "mimetype": "text/x-python",
   "name": "python",
   "nbconvert_exporter": "python",
   "pygments_lexer": "ipython3",
   "version": "3.8.13"
  },
  "orig_nbformat": 4,
  "vscode": {
   "interpreter": {
    "hash": "1a1494236c8ef7f8181df502ed65395fa49dc4c7792b0159c6c2a3cecbe5c345"
   }
  }
 },
 "nbformat": 4,
 "nbformat_minor": 2
}
